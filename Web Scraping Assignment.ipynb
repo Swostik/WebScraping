{
 "cells": [
  {
   "cell_type": "markdown",
   "metadata": {},
   "source": [
    "# Web Scraping Assignment - WhiskyShop"
   ]
  },
  {
   "cell_type": "code",
   "execution_count": 1,
   "metadata": {
    "ExecuteTime": {
     "end_time": "2021-01-11T08:38:12.638228Z",
     "start_time": "2021-01-11T08:38:10.926372Z"
    }
   },
   "outputs": [],
   "source": [
    "from bs4 import BeautifulSoup \n",
    "import requests"
   ]
  },
  {
   "cell_type": "code",
   "execution_count": 2,
   "metadata": {
    "ExecuteTime": {
     "end_time": "2021-01-11T08:38:44.368925Z",
     "start_time": "2021-01-11T08:38:12.641228Z"
    }
   },
   "outputs": [
    {
     "data": {
      "text/html": [
       "        <script type=\"text/javascript\">\n",
       "        window.PlotlyConfig = {MathJaxConfig: 'local'};\n",
       "        if (window.MathJax) {MathJax.Hub.Config({SVG: {font: \"STIX-Web\"}});}\n",
       "        if (typeof require !== 'undefined') {\n",
       "        require.undef(\"plotly\");\n",
       "        requirejs.config({\n",
       "            paths: {\n",
       "                'plotly': ['https://cdn.plot.ly/plotly-latest.min']\n",
       "            }\n",
       "        });\n",
       "        require(['plotly'], function(Plotly) {\n",
       "            window._Plotly = Plotly;\n",
       "        });\n",
       "        }\n",
       "        </script>\n",
       "        "
      ]
     },
     "metadata": {},
     "output_type": "display_data"
    },
    {
     "data": {
      "text/html": [
       "        <script type=\"text/javascript\">\n",
       "        window.PlotlyConfig = {MathJaxConfig: 'local'};\n",
       "        if (window.MathJax) {MathJax.Hub.Config({SVG: {font: \"STIX-Web\"}});}\n",
       "        if (typeof require !== 'undefined') {\n",
       "        require.undef(\"plotly\");\n",
       "        requirejs.config({\n",
       "            paths: {\n",
       "                'plotly': ['https://cdn.plot.ly/plotly-latest.min']\n",
       "            }\n",
       "        });\n",
       "        require(['plotly'], function(Plotly) {\n",
       "            window._Plotly = Plotly;\n",
       "        });\n",
       "        }\n",
       "        </script>\n",
       "        "
      ]
     },
     "metadata": {},
     "output_type": "display_data"
    }
   ],
   "source": [
    "# importing libraries\n",
    "import plotly.graph_objects as go\n",
    "import chart_studio.plotly as py\n",
    "import cufflinks as cf\n",
    "from plotly.offline import iplot, init_notebook_mode\n",
    "#--------------------------------------------#\n",
    "\n",
    "import pandas as pd\n",
    "import numpy as np\n",
    "\n",
    "%matplotlib inline\n",
    "\n",
    "# option for pandas to display the columns\n",
    "pd.options.display.max_columns=30\n",
    "\n",
    "# setting the notebook mode for plotly\n",
    "\n",
    "init_notebook_mode(connected=True)\n",
    "cf.go_offline(connected=True)\n",
    "\n",
    "# setting theme in cufflinks\n",
    "\n",
    "cf.set_config_file(theme=\"pearl\")"
   ]
  },
  {
   "cell_type": "markdown",
   "metadata": {},
   "source": [
    "## Whisky Shop website "
   ]
  },
  {
   "cell_type": "code",
   "execution_count": 3,
   "metadata": {
    "ExecuteTime": {
     "end_time": "2021-01-11T08:38:47.940529Z",
     "start_time": "2021-01-11T08:38:44.372924Z"
    }
   },
   "outputs": [],
   "source": [
    "url = \"https://www.whiskyshop.com/scotch-whisky\"\n",
    "req = requests.get(url)\n",
    "soup= BeautifulSoup(req.content, features=\"lxml\")"
   ]
  },
  {
   "cell_type": "markdown",
   "metadata": {},
   "source": [
    "- finding all the list with class name and getting the link and adding all the sublinks to the links list."
   ]
  },
  {
   "cell_type": "code",
   "execution_count": 4,
   "metadata": {
    "ExecuteTime": {
     "end_time": "2021-01-11T08:38:47.956530Z",
     "start_time": "2021-01-11T08:38:47.945530Z"
    }
   },
   "outputs": [],
   "source": [
    "#s=soup.find_all(\"li\", {\"class\":\"item product product-item\"})"
   ]
  },
  {
   "cell_type": "code",
   "execution_count": 5,
   "metadata": {
    "ExecuteTime": {
     "end_time": "2021-01-11T08:39:17.439386Z",
     "start_time": "2021-01-11T08:38:47.960530Z"
    }
   },
   "outputs": [],
   "source": [
    "links=[]\n",
    "for x in range(1,11):\n",
    "    url = f\"https://www.whiskyshop.com/scotch-whisky?p={x}\"\n",
    "    req = requests.get(url)\n",
    "    soup= BeautifulSoup(req.content, features=\"lxml\")\n",
    "    \n",
    "    s=soup.find_all(\"li\", {\"class\":\"item product product-item\"})\n",
    "    for i in s:\n",
    "        links.append(i.find('a')['href'])"
   ]
  },
  {
   "cell_type": "markdown",
   "metadata": {
    "ExecuteTime": {
     "end_time": "2021-01-07T14:26:46.929439Z",
     "start_time": "2021-01-07T14:26:46.914438Z"
    }
   },
   "source": [
    "### Getting the required data\n",
    "- There was problem with grabbing required data from all the links.\n",
    "- Created for-loop to grab data for each link \n",
    "- Had to put a time sleep of 20 secs so that the website does not block me to download datas\n",
    "- Had to do in multiple times manually to grab all data"
   ]
  },
  {
   "cell_type": "code",
   "execution_count": 6,
   "metadata": {
    "ExecuteTime": {
     "end_time": "2021-01-11T08:39:17.454383Z",
     "start_time": "2021-01-11T08:39:17.442380Z"
    }
   },
   "outputs": [
    {
     "data": {
      "text/plain": [
       "1000"
      ]
     },
     "execution_count": 6,
     "metadata": {},
     "output_type": "execute_result"
    }
   ],
   "source": [
    "len(links)"
   ]
  },
  {
   "cell_type": "code",
   "execution_count": 7,
   "metadata": {
    "ExecuteTime": {
     "end_time": "2021-01-11T08:39:17.596390Z",
     "start_time": "2021-01-11T08:39:17.458382Z"
    }
   },
   "outputs": [],
   "source": [
    "#whiskey_list=[]"
   ]
  },
  {
   "cell_type": "code",
   "execution_count": 8,
   "metadata": {
    "ExecuteTime": {
     "end_time": "2021-01-11T08:39:17.796968Z",
     "start_time": "2021-01-11T08:39:17.599379Z"
    }
   },
   "outputs": [],
   "source": [
    "#import time\n",
    "#whiskey_list=[]\n",
    "#ount=0\n",
    "#or i in range(401,1000,10):\n",
    "#   \n",
    "#   for link in links[i:i+10]:\n",
    "#       page=requests.get(link)\n",
    "#       page_soup= BeautifulSoup(page.content, features=\"lxml\")\n",
    "#       \n",
    "#       name=page_soup.find(\"h1\").text.strip()\n",
    "#       price = page_soup.find(\"div\", {\"class\":\"product-info-price\"}).text.strip()\n",
    "#       details = page_soup.find(\"div\", {\"class\":\"product-specifications-wrap\"})\n",
    "#       attr=[]\n",
    "#       txt =[]\n",
    "#       \n",
    "#       for i in details.find_all(\"dt\"):\n",
    "#           attr.append(i.text)\n",
    "#       for j in details.find_all(\"dd\"):\n",
    "#           txt.append(j.text)\n",
    "#       zip_iterator = zip(attr, txt)\n",
    "#       a_dictionary = dict(zip_iterator)\n",
    "#       a_dictionary['name'] =name\n",
    "#       a_dictionary['price'] = price\n",
    "#       #print(\"details\")\n",
    "#       count +=1\n",
    "#       print(\"count :\", count)\n",
    "#       whiskey_list.append(a_dictionary)\n",
    "#   print(\"sleeping\")\n",
    "#   time.sleep(20)"
   ]
  },
  {
   "cell_type": "markdown",
   "metadata": {},
   "source": [
    "### Saving the data to a file"
   ]
  },
  {
   "cell_type": "code",
   "execution_count": 9,
   "metadata": {
    "ExecuteTime": {
     "end_time": "2021-01-11T08:39:17.922112Z",
     "start_time": "2021-01-11T08:39:17.803977Z"
    }
   },
   "outputs": [],
   "source": [
    "#w_l = pd.DataFrame(whiskey_list)"
   ]
  },
  {
   "cell_type": "code",
   "execution_count": 10,
   "metadata": {
    "ExecuteTime": {
     "end_time": "2021-01-11T08:39:18.029884Z",
     "start_time": "2021-01-11T08:39:17.929119Z"
    }
   },
   "outputs": [],
   "source": [
    "#w_l.to_pickle('data/w_l.pkl')"
   ]
  },
  {
   "cell_type": "code",
   "execution_count": 11,
   "metadata": {
    "ExecuteTime": {
     "end_time": "2021-01-11T08:39:18.359677Z",
     "start_time": "2021-01-11T08:39:18.033906Z"
    }
   },
   "outputs": [],
   "source": [
    "df_whisky = pd.read_pickle('data/w_l.pkl')"
   ]
  },
  {
   "cell_type": "code",
   "execution_count": 12,
   "metadata": {
    "ExecuteTime": {
     "end_time": "2021-01-11T08:39:18.470016Z",
     "start_time": "2021-01-11T08:39:18.362682Z"
    }
   },
   "outputs": [
    {
     "data": {
      "text/html": [
       "<div>\n",
       "<style scoped>\n",
       "    .dataframe tbody tr th:only-of-type {\n",
       "        vertical-align: middle;\n",
       "    }\n",
       "\n",
       "    .dataframe tbody tr th {\n",
       "        vertical-align: top;\n",
       "    }\n",
       "\n",
       "    .dataframe thead th {\n",
       "        text-align: right;\n",
       "    }\n",
       "</style>\n",
       "<table border=\"1\" class=\"dataframe\">\n",
       "  <thead>\n",
       "    <tr style=\"text-align: right;\">\n",
       "      <th></th>\n",
       "      <th>Distillery/Brand</th>\n",
       "      <th>Classification</th>\n",
       "      <th>Region</th>\n",
       "      <th>Style</th>\n",
       "      <th>Size</th>\n",
       "      <th>ABV</th>\n",
       "      <th>Age Statement</th>\n",
       "      <th>Limited Edition</th>\n",
       "      <th>name</th>\n",
       "      <th>price</th>\n",
       "      <th>Single Cask</th>\n",
       "      <th>Bottled</th>\n",
       "      <th>Cask Number</th>\n",
       "      <th>Distilled</th>\n",
       "      <th>Vintage</th>\n",
       "      <th>Exclusive</th>\n",
       "      <th>Customer Favourite</th>\n",
       "    </tr>\n",
       "  </thead>\n",
       "  <tbody>\n",
       "    <tr>\n",
       "      <th>0</th>\n",
       "      <td>Benromach</td>\n",
       "      <td>Scotch Whisky</td>\n",
       "      <td>Speyside</td>\n",
       "      <td>Single Malt</td>\n",
       "      <td>70cl</td>\n",
       "      <td>43%</td>\n",
       "      <td>21 Years</td>\n",
       "      <td></td>\n",
       "      <td>Benromach 21 Year Old</td>\n",
       "      <td>£125.00</td>\n",
       "      <td>NaN</td>\n",
       "      <td>NaN</td>\n",
       "      <td>NaN</td>\n",
       "      <td>NaN</td>\n",
       "      <td>NaN</td>\n",
       "      <td>NaN</td>\n",
       "      <td>NaN</td>\n",
       "    </tr>\n",
       "    <tr>\n",
       "      <th>1</th>\n",
       "      <td>Johnnie Walker</td>\n",
       "      <td>Scotch Whisky</td>\n",
       "      <td>Scotland</td>\n",
       "      <td>Blend</td>\n",
       "      <td>70cl</td>\n",
       "      <td>43%</td>\n",
       "      <td>NaN</td>\n",
       "      <td>NaN</td>\n",
       "      <td>John Walker &amp; Sons King George V</td>\n",
       "      <td>£550.00</td>\n",
       "      <td>NaN</td>\n",
       "      <td>NaN</td>\n",
       "      <td>NaN</td>\n",
       "      <td>NaN</td>\n",
       "      <td>NaN</td>\n",
       "      <td>NaN</td>\n",
       "      <td>NaN</td>\n",
       "    </tr>\n",
       "    <tr>\n",
       "      <th>2</th>\n",
       "      <td>Paul John</td>\n",
       "      <td>Scotch Whisky</td>\n",
       "      <td>India</td>\n",
       "      <td>Single Malt</td>\n",
       "      <td>70cl</td>\n",
       "      <td>46%</td>\n",
       "      <td>NaN</td>\n",
       "      <td></td>\n",
       "      <td>Paul John Christmas Edition 2020</td>\n",
       "      <td>Special Price\\n£54.90\\n\\n\\n\\n\\n \\n\\n\\nRegular ...</td>\n",
       "      <td>NaN</td>\n",
       "      <td>NaN</td>\n",
       "      <td>NaN</td>\n",
       "      <td>NaN</td>\n",
       "      <td>NaN</td>\n",
       "      <td>NaN</td>\n",
       "      <td>NaN</td>\n",
       "    </tr>\n",
       "    <tr>\n",
       "      <th>3</th>\n",
       "      <td>Compass Box</td>\n",
       "      <td>Scotch Whisky</td>\n",
       "      <td>Scotland</td>\n",
       "      <td>Blended Malt</td>\n",
       "      <td>70cl</td>\n",
       "      <td>46%</td>\n",
       "      <td>No Age Statement</td>\n",
       "      <td></td>\n",
       "      <td>Compass Box Magic Cask</td>\n",
       "      <td>£157.00</td>\n",
       "      <td>NaN</td>\n",
       "      <td>NaN</td>\n",
       "      <td>NaN</td>\n",
       "      <td>NaN</td>\n",
       "      <td>NaN</td>\n",
       "      <td>NaN</td>\n",
       "      <td>NaN</td>\n",
       "    </tr>\n",
       "    <tr>\n",
       "      <th>4</th>\n",
       "      <td>Johnnie Walker</td>\n",
       "      <td>Scotch Whisky</td>\n",
       "      <td>NaN</td>\n",
       "      <td>Blend</td>\n",
       "      <td>70cl</td>\n",
       "      <td>40%</td>\n",
       "      <td>No Age Statement</td>\n",
       "      <td></td>\n",
       "      <td>Johnnie Walker Blue Label Chinese New Year 202...</td>\n",
       "      <td>£224.00</td>\n",
       "      <td>NaN</td>\n",
       "      <td>NaN</td>\n",
       "      <td>NaN</td>\n",
       "      <td>NaN</td>\n",
       "      <td>NaN</td>\n",
       "      <td>NaN</td>\n",
       "      <td>NaN</td>\n",
       "    </tr>\n",
       "  </tbody>\n",
       "</table>\n",
       "</div>"
      ],
      "text/plain": [
       "  Distillery/Brand Classification    Region         Style  Size  ABV  \\\n",
       "0        Benromach  Scotch Whisky  Speyside   Single Malt  70cl  43%   \n",
       "1   Johnnie Walker  Scotch Whisky  Scotland         Blend  70cl  43%   \n",
       "2        Paul John  Scotch Whisky     India   Single Malt  70cl  46%   \n",
       "3      Compass Box  Scotch Whisky  Scotland  Blended Malt  70cl  46%   \n",
       "4   Johnnie Walker  Scotch Whisky       NaN         Blend  70cl  40%   \n",
       "\n",
       "      Age Statement Limited Edition  \\\n",
       "0          21 Years                   \n",
       "1               NaN             NaN   \n",
       "2               NaN                   \n",
       "3  No Age Statement                   \n",
       "4  No Age Statement                   \n",
       "\n",
       "                                                name  \\\n",
       "0                              Benromach 21 Year Old   \n",
       "1                   John Walker & Sons King George V   \n",
       "2                   Paul John Christmas Edition 2020   \n",
       "3                             Compass Box Magic Cask   \n",
       "4  Johnnie Walker Blue Label Chinese New Year 202...   \n",
       "\n",
       "                                               price Single Cask Bottled  \\\n",
       "0                                            £125.00         NaN     NaN   \n",
       "1                                            £550.00         NaN     NaN   \n",
       "2  Special Price\\n£54.90\\n\\n\\n\\n\\n \\n\\n\\nRegular ...         NaN     NaN   \n",
       "3                                            £157.00         NaN     NaN   \n",
       "4                                            £224.00         NaN     NaN   \n",
       "\n",
       "  Cask Number Distilled Vintage Exclusive Customer Favourite  \n",
       "0         NaN       NaN     NaN       NaN                NaN  \n",
       "1         NaN       NaN     NaN       NaN                NaN  \n",
       "2         NaN       NaN     NaN       NaN                NaN  \n",
       "3         NaN       NaN     NaN       NaN                NaN  \n",
       "4         NaN       NaN     NaN       NaN                NaN  "
      ]
     },
     "execution_count": 12,
     "metadata": {},
     "output_type": "execute_result"
    }
   ],
   "source": [
    "df_whisky.head()"
   ]
  },
  {
   "cell_type": "markdown",
   "metadata": {},
   "source": [
    "#### General DataFrame information"
   ]
  },
  {
   "cell_type": "code",
   "execution_count": 13,
   "metadata": {
    "ExecuteTime": {
     "end_time": "2021-01-11T08:39:18.592594Z",
     "start_time": "2021-01-11T08:39:18.473014Z"
    }
   },
   "outputs": [
    {
     "name": "stdout",
     "output_type": "stream",
     "text": [
      "<class 'pandas.core.frame.DataFrame'>\n",
      "RangeIndex: 996 entries, 0 to 995\n",
      "Data columns (total 17 columns):\n",
      " #   Column              Non-Null Count  Dtype \n",
      "---  ------              --------------  ----- \n",
      " 0   Distillery/Brand    972 non-null    object\n",
      " 1   Classification      996 non-null    object\n",
      " 2   Region              951 non-null    object\n",
      " 3   Style               980 non-null    object\n",
      " 4   Size                991 non-null    object\n",
      " 5   ABV                 949 non-null    object\n",
      " 6   Age Statement       746 non-null    object\n",
      " 7   Limited Edition     426 non-null    object\n",
      " 8   name                996 non-null    object\n",
      " 9   price               996 non-null    object\n",
      " 10  Single Cask         201 non-null    object\n",
      " 11  Bottled             268 non-null    object\n",
      " 12  Cask Number         107 non-null    object\n",
      " 13  Distilled           203 non-null    object\n",
      " 14  Vintage             299 non-null    object\n",
      " 15  Exclusive           105 non-null    object\n",
      " 16  Customer Favourite  17 non-null     object\n",
      "dtypes: object(17)\n",
      "memory usage: 132.4+ KB\n"
     ]
    }
   ],
   "source": [
    "df_whisky.info()"
   ]
  },
  {
   "cell_type": "markdown",
   "metadata": {},
   "source": [
    "#### Grabbing the required columns"
   ]
  },
  {
   "cell_type": "code",
   "execution_count": 14,
   "metadata": {
    "ExecuteTime": {
     "end_time": "2021-01-11T08:39:18.700445Z",
     "start_time": "2021-01-11T08:39:18.596582Z"
    }
   },
   "outputs": [],
   "source": [
    "df = df_whisky.iloc[:, 0:10].copy()"
   ]
  },
  {
   "cell_type": "code",
   "execution_count": 15,
   "metadata": {
    "ExecuteTime": {
     "end_time": "2021-01-11T08:39:18.856605Z",
     "start_time": "2021-01-11T08:39:18.712444Z"
    }
   },
   "outputs": [
    {
     "data": {
      "text/html": [
       "<div>\n",
       "<style scoped>\n",
       "    .dataframe tbody tr th:only-of-type {\n",
       "        vertical-align: middle;\n",
       "    }\n",
       "\n",
       "    .dataframe tbody tr th {\n",
       "        vertical-align: top;\n",
       "    }\n",
       "\n",
       "    .dataframe thead th {\n",
       "        text-align: right;\n",
       "    }\n",
       "</style>\n",
       "<table border=\"1\" class=\"dataframe\">\n",
       "  <thead>\n",
       "    <tr style=\"text-align: right;\">\n",
       "      <th></th>\n",
       "      <th>Distillery/Brand</th>\n",
       "      <th>Classification</th>\n",
       "      <th>Region</th>\n",
       "      <th>Style</th>\n",
       "      <th>Size</th>\n",
       "      <th>ABV</th>\n",
       "      <th>Age Statement</th>\n",
       "      <th>Limited Edition</th>\n",
       "      <th>name</th>\n",
       "      <th>price</th>\n",
       "    </tr>\n",
       "  </thead>\n",
       "  <tbody>\n",
       "    <tr>\n",
       "      <th>0</th>\n",
       "      <td>Benromach</td>\n",
       "      <td>Scotch Whisky</td>\n",
       "      <td>Speyside</td>\n",
       "      <td>Single Malt</td>\n",
       "      <td>70cl</td>\n",
       "      <td>43%</td>\n",
       "      <td>21 Years</td>\n",
       "      <td></td>\n",
       "      <td>Benromach 21 Year Old</td>\n",
       "      <td>£125.00</td>\n",
       "    </tr>\n",
       "    <tr>\n",
       "      <th>1</th>\n",
       "      <td>Johnnie Walker</td>\n",
       "      <td>Scotch Whisky</td>\n",
       "      <td>Scotland</td>\n",
       "      <td>Blend</td>\n",
       "      <td>70cl</td>\n",
       "      <td>43%</td>\n",
       "      <td>NaN</td>\n",
       "      <td>NaN</td>\n",
       "      <td>John Walker &amp; Sons King George V</td>\n",
       "      <td>£550.00</td>\n",
       "    </tr>\n",
       "    <tr>\n",
       "      <th>2</th>\n",
       "      <td>Paul John</td>\n",
       "      <td>Scotch Whisky</td>\n",
       "      <td>India</td>\n",
       "      <td>Single Malt</td>\n",
       "      <td>70cl</td>\n",
       "      <td>46%</td>\n",
       "      <td>NaN</td>\n",
       "      <td></td>\n",
       "      <td>Paul John Christmas Edition 2020</td>\n",
       "      <td>Special Price\\n£54.90\\n\\n\\n\\n\\n \\n\\n\\nRegular ...</td>\n",
       "    </tr>\n",
       "    <tr>\n",
       "      <th>3</th>\n",
       "      <td>Compass Box</td>\n",
       "      <td>Scotch Whisky</td>\n",
       "      <td>Scotland</td>\n",
       "      <td>Blended Malt</td>\n",
       "      <td>70cl</td>\n",
       "      <td>46%</td>\n",
       "      <td>No Age Statement</td>\n",
       "      <td></td>\n",
       "      <td>Compass Box Magic Cask</td>\n",
       "      <td>£157.00</td>\n",
       "    </tr>\n",
       "    <tr>\n",
       "      <th>4</th>\n",
       "      <td>Johnnie Walker</td>\n",
       "      <td>Scotch Whisky</td>\n",
       "      <td>NaN</td>\n",
       "      <td>Blend</td>\n",
       "      <td>70cl</td>\n",
       "      <td>40%</td>\n",
       "      <td>No Age Statement</td>\n",
       "      <td></td>\n",
       "      <td>Johnnie Walker Blue Label Chinese New Year 202...</td>\n",
       "      <td>£224.00</td>\n",
       "    </tr>\n",
       "  </tbody>\n",
       "</table>\n",
       "</div>"
      ],
      "text/plain": [
       "  Distillery/Brand Classification    Region         Style  Size  ABV  \\\n",
       "0        Benromach  Scotch Whisky  Speyside   Single Malt  70cl  43%   \n",
       "1   Johnnie Walker  Scotch Whisky  Scotland         Blend  70cl  43%   \n",
       "2        Paul John  Scotch Whisky     India   Single Malt  70cl  46%   \n",
       "3      Compass Box  Scotch Whisky  Scotland  Blended Malt  70cl  46%   \n",
       "4   Johnnie Walker  Scotch Whisky       NaN         Blend  70cl  40%   \n",
       "\n",
       "      Age Statement Limited Edition  \\\n",
       "0          21 Years                   \n",
       "1               NaN             NaN   \n",
       "2               NaN                   \n",
       "3  No Age Statement                   \n",
       "4  No Age Statement                   \n",
       "\n",
       "                                                name  \\\n",
       "0                              Benromach 21 Year Old   \n",
       "1                   John Walker & Sons King George V   \n",
       "2                   Paul John Christmas Edition 2020   \n",
       "3                             Compass Box Magic Cask   \n",
       "4  Johnnie Walker Blue Label Chinese New Year 202...   \n",
       "\n",
       "                                               price  \n",
       "0                                            £125.00  \n",
       "1                                            £550.00  \n",
       "2  Special Price\\n£54.90\\n\\n\\n\\n\\n \\n\\n\\nRegular ...  \n",
       "3                                            £157.00  \n",
       "4                                            £224.00  "
      ]
     },
     "execution_count": 15,
     "metadata": {},
     "output_type": "execute_result"
    }
   ],
   "source": [
    "df.head()"
   ]
  },
  {
   "cell_type": "code",
   "execution_count": 16,
   "metadata": {
    "ExecuteTime": {
     "end_time": "2021-01-11T08:39:18.952674Z",
     "start_time": "2021-01-11T08:39:18.862606Z"
    }
   },
   "outputs": [],
   "source": [
    "#df['Age Statement'].fillna('No Age Statement', inplace=True)"
   ]
  },
  {
   "cell_type": "code",
   "execution_count": 17,
   "metadata": {
    "ExecuteTime": {
     "end_time": "2021-01-11T08:39:19.141431Z",
     "start_time": "2021-01-11T08:39:18.955669Z"
    }
   },
   "outputs": [
    {
     "data": {
      "text/plain": [
       "    426\n",
       "Name: Limited Edition, dtype: int64"
      ]
     },
     "execution_count": 17,
     "metadata": {},
     "output_type": "execute_result"
    }
   ],
   "source": [
    "#df[df['Classification']=='World Whisky']\n",
    "df['Limited Edition'].value_counts()"
   ]
  },
  {
   "cell_type": "markdown",
   "metadata": {},
   "source": [
    "- Replacing all the nan values in the limited edition columns to No and all the blank ones to Yes"
   ]
  },
  {
   "cell_type": "code",
   "execution_count": 18,
   "metadata": {
    "ExecuteTime": {
     "end_time": "2021-01-11T08:39:19.251432Z",
     "start_time": "2021-01-11T08:39:19.145437Z"
    }
   },
   "outputs": [
    {
     "data": {
      "text/plain": [
       "No     570\n",
       "Yes    426\n",
       "Name: Limited Edition, dtype: int64"
      ]
     },
     "execution_count": 18,
     "metadata": {},
     "output_type": "execute_result"
    }
   ],
   "source": [
    "df['Limited Edition'] = df['Limited Edition'].replace({np.nan:'No', '':'Yes'})\n",
    "df['Limited Edition'].value_counts()"
   ]
  },
  {
   "cell_type": "markdown",
   "metadata": {},
   "source": [
    "- Changing the column order"
   ]
  },
  {
   "cell_type": "code",
   "execution_count": 19,
   "metadata": {
    "ExecuteTime": {
     "end_time": "2021-01-11T08:39:19.393431Z",
     "start_time": "2021-01-11T08:39:19.255438Z"
    }
   },
   "outputs": [],
   "source": [
    "cols = ['name','Classification','Region','Style','Size','ABV','price','Distillery/Brand','Age Statement','Limited Edition']\n",
    "df = df[cols]\n"
   ]
  },
  {
   "cell_type": "markdown",
   "metadata": {},
   "source": [
    "## Cleaning the data\n",
    "\n",
    "- editing price column such that there are just numbers\n",
    "- also doing the same for the size column"
   ]
  },
  {
   "cell_type": "code",
   "execution_count": 20,
   "metadata": {
    "ExecuteTime": {
     "end_time": "2021-01-11T08:39:19.503428Z",
     "start_time": "2021-01-11T08:39:19.396433Z"
    }
   },
   "outputs": [],
   "source": [
    "df['new_price'] = df['price'].str.replace(',','')\n"
   ]
  },
  {
   "cell_type": "code",
   "execution_count": 21,
   "metadata": {
    "ExecuteTime": {
     "end_time": "2021-01-11T08:39:19.709552Z",
     "start_time": "2021-01-11T08:39:19.508433Z"
    }
   },
   "outputs": [],
   "source": [
    "df['price']=df['new_price'].str.extract(r'(\\d+\\.\\d+)')\n",
    "df.drop('new_price',axis=1, inplace=True)"
   ]
  },
  {
   "cell_type": "code",
   "execution_count": 22,
   "metadata": {
    "ExecuteTime": {
     "end_time": "2021-01-11T08:39:19.785663Z",
     "start_time": "2021-01-11T08:39:19.712539Z"
    }
   },
   "outputs": [],
   "source": [
    "df['price'] = df['price'].astype('float')"
   ]
  },
  {
   "cell_type": "code",
   "execution_count": 23,
   "metadata": {
    "ExecuteTime": {
     "end_time": "2021-01-11T08:39:19.943664Z",
     "start_time": "2021-01-11T08:39:19.790656Z"
    }
   },
   "outputs": [
    {
     "data": {
      "text/plain": [
       "0      70cl\n",
       "1      70cl\n",
       "2      70cl\n",
       "3      70cl\n",
       "4      70cl\n",
       "       ... \n",
       "991    70cl\n",
       "992    20cl\n",
       "993    70cl\n",
       "994    70cl\n",
       "995    70cl\n",
       "Name: Size, Length: 996, dtype: object"
      ]
     },
     "execution_count": 23,
     "metadata": {},
     "output_type": "execute_result"
    }
   ],
   "source": [
    "df['Size'].astype('str')"
   ]
  },
  {
   "cell_type": "code",
   "execution_count": 24,
   "metadata": {
    "ExecuteTime": {
     "end_time": "2021-01-11T08:39:20.055660Z",
     "start_time": "2021-01-11T08:39:19.947663Z"
    }
   },
   "outputs": [],
   "source": [
    "df['new_Size']=df['Size'].str.replace(r'[Cc][Ll]','cl')\n"
   ]
  },
  {
   "cell_type": "code",
   "execution_count": 25,
   "metadata": {
    "ExecuteTime": {
     "end_time": "2021-01-11T08:39:20.198677Z",
     "start_time": "2021-01-11T08:39:20.059664Z"
    }
   },
   "outputs": [
    {
     "data": {
      "text/plain": [
       "70       826\n",
       "50        42\n",
       "20        35\n",
       "5         19\n",
       "35        11\n",
       "3x5       11\n",
       "10        10\n",
       "3x20       7\n",
       "12x3       5\n",
       "75         4\n",
       "100        3\n",
       "9x70       2\n",
       "1x100      2\n",
       "6 x 3      2\n",
       "2x70       2\n",
       "5x5        2\n",
       "2x50       1\n",
       "3 x 5      1\n",
       "2x20       1\n",
       "8x70       1\n",
       "15         1\n",
       "37.5       1\n",
       "24x3       1\n",
       "60         1\n",
       "Name: new_Size, dtype: int64"
      ]
     },
     "execution_count": 25,
     "metadata": {},
     "output_type": "execute_result"
    }
   ],
   "source": [
    "df['new_Size']=df['new_Size'].str.replace('L','x100cl')\n",
    "df['new_Size']=df['new_Size'].str.replace('cl','')\n",
    "df['new_Size'].value_counts()"
   ]
  },
  {
   "cell_type": "code",
   "execution_count": 26,
   "metadata": {
    "ExecuteTime": {
     "end_time": "2021-01-11T08:39:20.341660Z",
     "start_time": "2021-01-11T08:39:20.204665Z"
    }
   },
   "outputs": [],
   "source": [
    "df['new_Size']=df['new_Size'].astype('str')"
   ]
  },
  {
   "cell_type": "markdown",
   "metadata": {
    "ExecuteTime": {
     "end_time": "2021-01-09T14:55:03.900825Z",
     "start_time": "2021-01-09T14:55:03.883830Z"
    }
   },
   "source": [
    "- function to clean the size column\n",
    "- splitting the numbers with 'x'\n",
    "- returning the product of the numbers"
   ]
  },
  {
   "cell_type": "code",
   "execution_count": 27,
   "metadata": {
    "ExecuteTime": {
     "end_time": "2021-01-11T08:39:20.515668Z",
     "start_time": "2021-01-11T08:39:20.355662Z"
    }
   },
   "outputs": [],
   "source": [
    "def clean_size(items):\n",
    "    #for i in items:\n",
    "        if 'x' in items:\n",
    "            i = items.split('x')\n",
    "            i = float(i[0])*float(i[1])\n",
    "            return i\n",
    "        else:\n",
    "            return items"
   ]
  },
  {
   "cell_type": "code",
   "execution_count": 28,
   "metadata": {
    "ExecuteTime": {
     "end_time": "2021-01-11T08:39:20.626659Z",
     "start_time": "2021-01-11T08:39:20.523674Z"
    }
   },
   "outputs": [],
   "source": [
    "df['new_Size'] =df['new_Size'].apply(clean_size)"
   ]
  },
  {
   "cell_type": "markdown",
   "metadata": {},
   "source": [
    "- Checking the size with nan\n",
    "- since there are only few, we can easily check the internet and add the right information"
   ]
  },
  {
   "cell_type": "code",
   "execution_count": 29,
   "metadata": {
    "ExecuteTime": {
     "end_time": "2021-01-11T08:39:20.753670Z",
     "start_time": "2021-01-11T08:39:20.629661Z"
    }
   },
   "outputs": [
    {
     "data": {
      "text/html": [
       "<div>\n",
       "<style scoped>\n",
       "    .dataframe tbody tr th:only-of-type {\n",
       "        vertical-align: middle;\n",
       "    }\n",
       "\n",
       "    .dataframe tbody tr th {\n",
       "        vertical-align: top;\n",
       "    }\n",
       "\n",
       "    .dataframe thead th {\n",
       "        text-align: right;\n",
       "    }\n",
       "</style>\n",
       "<table border=\"1\" class=\"dataframe\">\n",
       "  <thead>\n",
       "    <tr style=\"text-align: right;\">\n",
       "      <th></th>\n",
       "      <th>name</th>\n",
       "      <th>Classification</th>\n",
       "      <th>Region</th>\n",
       "      <th>Style</th>\n",
       "      <th>Size</th>\n",
       "      <th>ABV</th>\n",
       "      <th>price</th>\n",
       "      <th>Distillery/Brand</th>\n",
       "      <th>Age Statement</th>\n",
       "      <th>Limited Edition</th>\n",
       "      <th>new_Size</th>\n",
       "    </tr>\n",
       "  </thead>\n",
       "  <tbody>\n",
       "    <tr>\n",
       "      <th>186</th>\n",
       "      <td>Johnnie Walker Green Label</td>\n",
       "      <td>Scotch Whisky</td>\n",
       "      <td>Scotland</td>\n",
       "      <td>Blended Malt</td>\n",
       "      <td>NaN</td>\n",
       "      <td>43%</td>\n",
       "      <td>49.00</td>\n",
       "      <td>Johnnie Walker</td>\n",
       "      <td>NaN</td>\n",
       "      <td>No</td>\n",
       "      <td>nan</td>\n",
       "    </tr>\n",
       "    <tr>\n",
       "      <th>745</th>\n",
       "      <td>Balvenie DCS Chapter 5 Set</td>\n",
       "      <td>Scotch Whisky</td>\n",
       "      <td>Speyside</td>\n",
       "      <td>Single Malt</td>\n",
       "      <td>NaN</td>\n",
       "      <td>NaN</td>\n",
       "      <td>62000.00</td>\n",
       "      <td>The Balvenie</td>\n",
       "      <td>NaN</td>\n",
       "      <td>No</td>\n",
       "      <td>nan</td>\n",
       "    </tr>\n",
       "    <tr>\n",
       "      <th>805</th>\n",
       "      <td>Bowmore 50 year old</td>\n",
       "      <td>Scotch Whisky</td>\n",
       "      <td>Islay</td>\n",
       "      <td>Single Malt</td>\n",
       "      <td>NaN</td>\n",
       "      <td>46%</td>\n",
       "      <td>17500.00</td>\n",
       "      <td>Bowmore</td>\n",
       "      <td>50 Years</td>\n",
       "      <td>No</td>\n",
       "      <td>nan</td>\n",
       "    </tr>\n",
       "    <tr>\n",
       "      <th>850</th>\n",
       "      <td>Aultmore 7 year old</td>\n",
       "      <td>Scotch Whisky</td>\n",
       "      <td>Speyside</td>\n",
       "      <td>Single Malt</td>\n",
       "      <td>NaN</td>\n",
       "      <td>46%</td>\n",
       "      <td>57.00</td>\n",
       "      <td>Aultmore</td>\n",
       "      <td>7 Years</td>\n",
       "      <td>No</td>\n",
       "      <td>nan</td>\n",
       "    </tr>\n",
       "    <tr>\n",
       "      <th>851</th>\n",
       "      <td>Royal Lochnagar 12 Year Old</td>\n",
       "      <td>Scotch Whisky</td>\n",
       "      <td>Highland</td>\n",
       "      <td>Single Malt</td>\n",
       "      <td>NaN</td>\n",
       "      <td>40%</td>\n",
       "      <td>37.95</td>\n",
       "      <td>Royal Lochnagar</td>\n",
       "      <td>12 Years</td>\n",
       "      <td>No</td>\n",
       "      <td>nan</td>\n",
       "    </tr>\n",
       "  </tbody>\n",
       "</table>\n",
       "</div>"
      ],
      "text/plain": [
       "                            name Classification    Region         Style Size  \\\n",
       "186   Johnnie Walker Green Label  Scotch Whisky  Scotland  Blended Malt  NaN   \n",
       "745   Balvenie DCS Chapter 5 Set  Scotch Whisky  Speyside   Single Malt  NaN   \n",
       "805          Bowmore 50 year old  Scotch Whisky     Islay   Single Malt  NaN   \n",
       "850          Aultmore 7 year old  Scotch Whisky  Speyside   Single Malt  NaN   \n",
       "851  Royal Lochnagar 12 Year Old  Scotch Whisky  Highland   Single Malt  NaN   \n",
       "\n",
       "     ABV     price Distillery/Brand Age Statement Limited Edition new_Size  \n",
       "186  43%     49.00   Johnnie Walker           NaN              No      nan  \n",
       "745  NaN  62000.00     The Balvenie           NaN              No      nan  \n",
       "805  46%  17500.00          Bowmore      50 Years              No      nan  \n",
       "850  46%     57.00         Aultmore       7 Years              No      nan  \n",
       "851  40%     37.95  Royal Lochnagar      12 Years              No      nan  "
      ]
     },
     "execution_count": 29,
     "metadata": {},
     "output_type": "execute_result"
    }
   ],
   "source": [
    "df[df['new_Size']=='nan']"
   ]
  },
  {
   "cell_type": "code",
   "execution_count": 30,
   "metadata": {
    "ExecuteTime": {
     "end_time": "2021-01-11T08:39:20.846204Z",
     "start_time": "2021-01-11T08:39:20.756674Z"
    }
   },
   "outputs": [],
   "source": [
    "df.loc[df.name == 'Johnnie Walker Green Label', 'new_Size']= '70'\n",
    "df.loc[df.name == 'Balvenie DCS Chapter 5 Set', 'new_Size']= '350'\n",
    "df.loc[df.name == 'Bowmore 50 year old', 'new_Size']= '70'\n",
    "df.loc[df.name == 'Aultmore 7 year old', 'new_Size']= '70'\n",
    "df.loc[df.name == 'Royal Lochnagar 12 Year Old', 'new_Size']= '70'\n"
   ]
  },
  {
   "cell_type": "code",
   "execution_count": 31,
   "metadata": {
    "ExecuteTime": {
     "end_time": "2021-01-11T08:39:20.987202Z",
     "start_time": "2021-01-11T08:39:20.851211Z"
    }
   },
   "outputs": [],
   "source": [
    "#df['ABV']=(df['ABV'].str.replace('%','')).astype('float')\n",
    "#df['ABV'].fillna(df['ABV'].mode, inplace=True)"
   ]
  },
  {
   "cell_type": "code",
   "execution_count": 32,
   "metadata": {
    "ExecuteTime": {
     "end_time": "2021-01-11T08:39:21.097200Z",
     "start_time": "2021-01-11T08:39:20.990204Z"
    }
   },
   "outputs": [],
   "source": [
    "df['Size'] = df['new_Size'].astype('float')\n",
    "df.drop('new_Size', axis=1, inplace=True)"
   ]
  },
  {
   "cell_type": "markdown",
   "metadata": {
    "ExecuteTime": {
     "end_time": "2021-01-09T14:58:03.630437Z",
     "start_time": "2021-01-09T14:58:03.610440Z"
    }
   },
   "source": [
    "### New columns\n",
    "- price_per_litre\n",
    "- price class\n",
    "\n",
    "- age class "
   ]
  },
  {
   "cell_type": "markdown",
   "metadata": {},
   "source": [
    "### Price"
   ]
  },
  {
   "cell_type": "code",
   "execution_count": 33,
   "metadata": {
    "ExecuteTime": {
     "end_time": "2021-01-11T08:39:21.288429Z",
     "start_time": "2021-01-11T08:39:21.100203Z"
    }
   },
   "outputs": [],
   "source": [
    "df['price_per_litre']  = (df['price'] / df['Size'] *100).round(2)"
   ]
  },
  {
   "cell_type": "code",
   "execution_count": 34,
   "metadata": {
    "ExecuteTime": {
     "end_time": "2021-01-11T08:39:52.150346Z",
     "start_time": "2021-01-11T08:39:21.290379Z"
    }
   },
   "outputs": [
    {
     "data": {
      "application/vnd.plotly.v1+json": {
       "config": {
        "linkText": "Export to plot.ly",
        "plotlyServerURL": "https://plot.ly",
        "showLink": true
       },
       "data": [
        {
         "histfunc": "count",
         "histnorm": "",
         "marker": {
          "color": "rgba(255, 153, 51, 1.0)",
          "line": {
           "color": "#4D5663",
           "width": 1.3
          }
         },
         "name": "price_per_litre",
         "nbinsx": 10,
         "opacity": 0.8,
         "orientation": "v",
         "type": "histogram",
         "x": [
          178.57,
          785.71,
          78.43,
          224.29,
          320,
          1228.57,
          885.71,
          142.79,
          171.43,
          41.41,
          85.71,
          421.36,
          3000,
          45.7,
          74.29,
          114.21,
          221.94,
          85.7,
          114.21,
          107.07,
          134.29,
          141.43,
          341.43,
          800,
          97.13,
          109.5,
          58.56,
          227.13,
          42.86,
          120,
          42.86,
          61.36,
          65.64,
          131.36,
          264.21,
          135.64,
          171.43,
          600,
          3571.43,
          5712.86,
          91.43,
          67.13,
          615.9,
          228.57,
          250,
          414.21,
          55.71,
          90,
          56.79,
          90,
          99992.86,
          278.57,
          57.13,
          84.27,
          85.64,
          71.41,
          387.98,
          64.27,
          98.57,
          385.71,
          69.93,
          12142.86,
          142.86,
          285.71,
          157.14,
          214.27,
          214.27,
          528.56,
          427.14,
          9998.57,
          428.57,
          14214.29,
          55.64,
          52.79,
          61.29,
          55.5,
          714.29,
          207.14,
          571.43,
          785.71,
          121.43,
          178.57,
          128.57,
          157.14,
          84.99,
          74.99,
          121.41,
          121.41,
          121.41,
          128.56,
          128.56,
          285.71,
          126.67,
          357.14,
          45707.14,
          49992.86,
          166.58,
          28.57,
          110,
          128.5,
          371.43,
          314.27,
          107.14,
          155.71,
          1427.14,
          4564.29,
          140,
          136,
          92.86,
          100,
          9992.86,
          250,
          250,
          307.14,
          75.64,
          58.49,
          55.71,
          1535.71,
          857.14,
          54.21,
          71.43,
          65.43,
          112.79,
          60,
          95.71,
          114.29,
          355.71,
          74.29,
          5428.57,
          98571.43,
          750,
          268.57,
          133.33,
          6428.57,
          5357.14,
          392.86,
          357.14,
          138.57,
          67.14,
          607.14,
          171.43,
          128.57,
          4142.86,
          57.14,
          225,
          228.57,
          213.33,
          173.33,
          84.27,
          135,
          145,
          42.86,
          42.86,
          428.57,
          6428.57,
          130,
          67.14,
          210,
          357.14,
          78.57,
          70,
          78.36,
          71.43,
          248.43,
          68.57,
          117.14,
          185.71,
          107.14,
          71.43,
          148.5,
          114.29,
          70,
          857.07,
          892.86,
          74.29,
          81.43,
          49992.86,
          60714.29,
          48571.43,
          78.57,
          29992.86,
          1285.71,
          110,
          104.29,
          4285.71,
          3571.43,
          70,
          132.86,
          3021.43,
          714.29,
          67.14,
          57.14,
          514.29,
          220,
          135,
          90,
          69.93,
          54.29,
          108.57,
          64.29,
          300,
          57.14,
          125,
          125,
          30,
          67.14,
          28.57,
          82.86,
          82.86,
          42.86,
          300,
          52,
          228.57,
          87.14,
          9642.86,
          2995,
          67.07,
          166.67,
          68.43,
          74.29,
          64.29,
          71.43,
          377.14,
          928.57,
          61.43,
          85.7,
          7714.29,
          85.71,
          4285.71,
          88.57,
          74.29,
          785.71,
          6785.71,
          139.93,
          84.14,
          71.43,
          284.29,
          88.57,
          3928.57,
          100,
          199.99,
          140,
          140,
          250,
          73.32,
          66.65,
          83.33,
          228.57,
          1928.57,
          74.29,
          214.29,
          62.86,
          82.86,
          107.14,
          3178.57,
          84.29,
          54.14,
          72.84,
          15714.29,
          2571.43,
          64.29,
          464.29,
          140,
          57.14,
          48.5,
          228.57,
          4000,
          225,
          228.57,
          115,
          427.14,
          228.57,
          81.43,
          97.14,
          127.14,
          290,
          714.29,
          6428.57,
          407.14,
          428.57,
          71.43,
          70,
          64.29,
          1000,
          535.71,
          71.43,
          271.43,
          64.29,
          186.67,
          55.71,
          3928.57,
          173.33,
          68.57,
          328.57,
          67.14,
          125.71,
          71.43,
          442.86,
          1442.86,
          1442.86,
          571.43,
          407.14,
          1021.43,
          1021.43,
          692.86,
          457.14,
          800,
          228.57,
          214.29,
          850,
          98.57,
          98.57,
          100,
          642.86,
          84.29,
          1142.86,
          128.57,
          2850,
          39285.71,
          200,
          92.86,
          157.14,
          85.71,
          100,
          42.84,
          4142.86,
          712.86,
          57.14,
          64.29,
          357.14,
          91.41,
          82.22,
          507.14,
          131.43,
          111.43,
          385.71,
          57.14,
          100,
          3570,
          121.43,
          135.71,
          142.86,
          157.14,
          192.86,
          427.14,
          720,
          720,
          171.43,
          328.57,
          285.71,
          714.29,
          471.43,
          2142.86,
          185.71,
          157.14,
          171.43,
          157.14,
          121.43,
          321.43,
          74.29,
          119993.33,
          98,
          141.43,
          857.14,
          657.14,
          998.57,
          160,
          110,
          95,
          71.43,
          250,
          181.43,
          421.43,
          166.67,
          392.86,
          34.29,
          228.57,
          121.43,
          150,
          100,
          1000,
          140.71,
          88.57,
          3928.57,
          249.97,
          191.67,
          128,
          105.71,
          150,
          160,
          155.71,
          185.71,
          185.71,
          185.71,
          140,
          87.14,
          157.14,
          133.57,
          885.71,
          138.57,
          100,
          185.71,
          133.9,
          149.9,
          213.9,
          179.98,
          1214.29,
          221.94,
          122.86,
          128.57,
          128.57,
          137.14,
          151.43,
          757.14,
          284.29,
          117.14,
          100,
          79.93,
          200,
          3757.14,
          64.29,
          175.9,
          190,
          201.9,
          178.57,
          89.99,
          89.99,
          190,
          160,
          57.13,
          1228.57,
          135714.29,
          127142.86,
          112857.14,
          1057.14,
          87.14,
          250,
          24142.86,
          199.93,
          319.98,
          279.98,
          107.14,
          85.71,
          140.71,
          107.14,
          12855.71,
          1928.57,
          138.57,
          264.29,
          135.71,
          135.71,
          157.14,
          157.14,
          342.86,
          142.86,
          142.86,
          141.43,
          535.71,
          208.33,
          1107.14,
          185.71,
          821.43,
          107.14,
          151.41,
          707.14,
          850,
          498.57,
          1707.14,
          142.86,
          78.5,
          107.14,
          178.57,
          241.43,
          92.86,
          100,
          228.57,
          5000,
          9135.71,
          98571.43,
          84.21,
          102857.14,
          92.86,
          235.71,
          105.71,
          255.71,
          4278.57,
          428.57,
          1141.43,
          235.71,
          278.57,
          1357.14,
          1250,
          250,
          321.43,
          570,
          141.43,
          278.57,
          228.57,
          185.71,
          85.71,
          307.14,
          195,
          90,
          371.43,
          485.71,
          1278.57,
          407.14,
          478.57,
          442.86,
          735.71,
          1442.86,
          400,
          528.57,
          1442.86,
          442.86,
          1442.86,
          1442.86,
          571.43,
          407.14,
          1021.43,
          1021.43,
          692.86,
          457.14,
          800,
          228.57,
          214.29,
          850,
          98.57,
          98.57,
          100,
          642.86,
          84.29,
          1142.86,
          128.57,
          2850,
          39285.71,
          200,
          92.86,
          157.14,
          85.71,
          100,
          42.84,
          4142.86,
          712.86,
          57.14,
          64.29,
          357.14,
          91.41,
          82.22,
          507.14,
          131.43,
          111.43,
          385.71,
          57.14,
          100,
          3570,
          121.43,
          135.71,
          142.86,
          157.14,
          192.86,
          427.14,
          720,
          720,
          171.43,
          328.57,
          285.71,
          714.29,
          471.43,
          2142.86,
          185.71,
          157.14,
          171.43,
          157.14,
          121.43,
          321.43,
          74.29,
          119993.33,
          98,
          141.43,
          857.14,
          657.14,
          998.57,
          160,
          110,
          95,
          71.43,
          250,
          181.43,
          421.43,
          166.67,
          392.86,
          34.29,
          228.57,
          121.43,
          150,
          100,
          1000,
          140.71,
          88.57,
          3928.57,
          249.97,
          191.67,
          128,
          105.71,
          150,
          160,
          155.71,
          185.71,
          185.71,
          185.71,
          140,
          87.14,
          157.14,
          84.29,
          241.43,
          85.71,
          142.86,
          114.29,
          107.14,
          428.57,
          88.57,
          112.86,
          120,
          85.71,
          57.14,
          84.29,
          98.57,
          98.57,
          90,
          80,
          105.71,
          34.27,
          91.43,
          120,
          130,
          125,
          271.43,
          114.29,
          100,
          71.43,
          850,
          785.71,
          357.14,
          90,
          255.71,
          107.13,
          114.29,
          35.71,
          78.57,
          2564.29,
          2564.29,
          257.14,
          120,
          120,
          130,
          130,
          130,
          130,
          110,
          110,
          228.57,
          78.57,
          100,
          108.57,
          120,
          120,
          131.43,
          141.43,
          157.14,
          328.57,
          357.14,
          428.57,
          850,
          228.57,
          17135.71,
          8571.43,
          3928.57,
          628.57,
          564.29,
          105.71,
          192.86,
          55.71,
          357.14,
          178.57,
          6428.57,
          99,
          428.57,
          225,
          140,
          170,
          210,
          214.29,
          108.57,
          94.29,
          164.29,
          4857.14,
          285.71,
          320,
          141.43,
          357.14,
          100,
          100,
          107.14,
          157.14,
          85.71,
          98,
          892.86,
          70,
          25707.14,
          141.43,
          78.57,
          54.29,
          54.29,
          92.86,
          68.57,
          68.57,
          92.86,
          284.29,
          171.43,
          192.86,
          141.43,
          178.57,
          150,
          128.57,
          341.43,
          62.86,
          114.29,
          71.07,
          228.57,
          135.71,
          3928.57,
          607.14,
          564.29,
          2571.43,
          121.43,
          357.14,
          57000,
          58571.43,
          278.43,
          92.86,
          68.57,
          104.29,
          64.29,
          1707.14,
          17714.29,
          3857.14,
          121.43,
          68.57,
          142.86,
          108.57,
          157.14,
          100,
          2628.57,
          250,
          166.67,
          200,
          400,
          94.29,
          90,
          100,
          90,
          17142.86,
          80,
          785.71,
          200,
          100,
          57142.86,
          150,
          112.86,
          204.29,
          121.43,
          192.86,
          207.14,
          197.14,
          125,
          21428.57,
          314.29,
          100,
          321.43,
          50,
          55.71,
          98.57,
          457.14,
          118.57,
          82.84,
          47.14,
          157.14,
          80,
          3800,
          642.86,
          140,
          145,
          660,
          195,
          195,
          660,
          85.71,
          192.86,
          121.43,
          127.14,
          5000,
          221.43,
          100,
          3571.43,
          25000,
          114.29,
          228.57,
          212.86,
          1371.43,
          1011.23,
          81.43,
          4564.29,
          4135.71,
          235.71,
          85.71,
          140,
          27142.86,
          700,
          114.29,
          357.14,
          464.29,
          542.86,
          128.57,
          1142.86,
          2142.86,
          5714.29,
          142857.14,
          1071.43,
          520,
          128.57,
          525.71,
          2142.86,
          500,
          41.43,
          64.29,
          71.43,
          102.86,
          52.86,
          100,
          62.86,
          42.86,
          92.86,
          57.14,
          271.43,
          128.57,
          74.29,
          42.86,
          64.29,
          142.86,
          81.43,
          54.21,
          392.86,
          121.43,
          428.57,
          60,
          57.14,
          415.71,
          857.14,
          98.57,
          60,
          107.14,
          357.14,
          3164.29,
          3164.29,
          4571.43,
          500,
          500,
          57.14,
          6428.57,
          353.57,
          111.43,
          321.43,
          371.43,
          114.29,
          3000,
          3857.14,
          3710,
          1071.43,
          7028.57,
          642.86,
          92.86,
          98.57,
          2142.86,
          191.67,
          750,
          2857.14,
          104.29,
          141.43,
          92.86,
          100,
          1214.29,
          214.29,
          25714.29,
          98.57,
          114.29,
          342.86,
          107.14,
          714.29,
          427.14,
          428.57,
          1071.43,
          110,
          130,
          40,
          214.29,
          6285.71,
          5712.86,
          485.71,
          235.71,
          285.71,
          321.43,
          485.71,
          1000,
          7857.14,
          1485.71,
          8428.57,
          5000,
          5000,
          3857.14,
          5712.86,
          5712.86,
          5712.86,
          5712.86,
          5712.86,
          7857.14,
          6285.71,
          10428.57,
          15500,
          12142.86,
          141.43,
          90,
          165,
          27.14,
          35.71,
          135,
          145,
          139.8,
          399.8,
          113.32,
          110,
          219.8,
          159.8,
          100,
          74.29,
          57.14,
          357.14,
          90,
          74.29,
          357.14,
          84.29,
          285.71,
          357.14,
          379.8,
          77.14,
          400,
          378.57,
          98.57,
          85.71,
          140,
          292.86,
          81.43,
          100,
          42.86,
          84.29,
          44.95,
          30,
          37.14,
          1700,
          119.8,
          41.43,
          900,
          165.7,
          65.71,
          67.14,
          130,
          82.83,
          424.29,
          400,
          125.71,
          471.43,
          400,
          421.43,
          40,
          49.93,
          71.43,
          500,
          42.86,
          42.86,
          42.86,
          371.43,
          135.71,
          165,
          491.43,
          642.86,
          791.41
         ]
        }
       ],
       "layout": {
        "barmode": "overlay",
        "legend": {
         "bgcolor": "#F5F6F9",
         "font": {
          "color": "#4D5663"
         }
        },
        "paper_bgcolor": "#F5F6F9",
        "plot_bgcolor": "#F5F6F9",
        "template": {
         "data": {
          "bar": [
           {
            "error_x": {
             "color": "#2a3f5f"
            },
            "error_y": {
             "color": "#2a3f5f"
            },
            "marker": {
             "line": {
              "color": "#E5ECF6",
              "width": 0.5
             }
            },
            "type": "bar"
           }
          ],
          "barpolar": [
           {
            "marker": {
             "line": {
              "color": "#E5ECF6",
              "width": 0.5
             }
            },
            "type": "barpolar"
           }
          ],
          "carpet": [
           {
            "aaxis": {
             "endlinecolor": "#2a3f5f",
             "gridcolor": "white",
             "linecolor": "white",
             "minorgridcolor": "white",
             "startlinecolor": "#2a3f5f"
            },
            "baxis": {
             "endlinecolor": "#2a3f5f",
             "gridcolor": "white",
             "linecolor": "white",
             "minorgridcolor": "white",
             "startlinecolor": "#2a3f5f"
            },
            "type": "carpet"
           }
          ],
          "choropleth": [
           {
            "colorbar": {
             "outlinewidth": 0,
             "ticks": ""
            },
            "type": "choropleth"
           }
          ],
          "contour": [
           {
            "colorbar": {
             "outlinewidth": 0,
             "ticks": ""
            },
            "colorscale": [
             [
              0,
              "#0d0887"
             ],
             [
              0.1111111111111111,
              "#46039f"
             ],
             [
              0.2222222222222222,
              "#7201a8"
             ],
             [
              0.3333333333333333,
              "#9c179e"
             ],
             [
              0.4444444444444444,
              "#bd3786"
             ],
             [
              0.5555555555555556,
              "#d8576b"
             ],
             [
              0.6666666666666666,
              "#ed7953"
             ],
             [
              0.7777777777777778,
              "#fb9f3a"
             ],
             [
              0.8888888888888888,
              "#fdca26"
             ],
             [
              1,
              "#f0f921"
             ]
            ],
            "type": "contour"
           }
          ],
          "contourcarpet": [
           {
            "colorbar": {
             "outlinewidth": 0,
             "ticks": ""
            },
            "type": "contourcarpet"
           }
          ],
          "heatmap": [
           {
            "colorbar": {
             "outlinewidth": 0,
             "ticks": ""
            },
            "colorscale": [
             [
              0,
              "#0d0887"
             ],
             [
              0.1111111111111111,
              "#46039f"
             ],
             [
              0.2222222222222222,
              "#7201a8"
             ],
             [
              0.3333333333333333,
              "#9c179e"
             ],
             [
              0.4444444444444444,
              "#bd3786"
             ],
             [
              0.5555555555555556,
              "#d8576b"
             ],
             [
              0.6666666666666666,
              "#ed7953"
             ],
             [
              0.7777777777777778,
              "#fb9f3a"
             ],
             [
              0.8888888888888888,
              "#fdca26"
             ],
             [
              1,
              "#f0f921"
             ]
            ],
            "type": "heatmap"
           }
          ],
          "heatmapgl": [
           {
            "colorbar": {
             "outlinewidth": 0,
             "ticks": ""
            },
            "colorscale": [
             [
              0,
              "#0d0887"
             ],
             [
              0.1111111111111111,
              "#46039f"
             ],
             [
              0.2222222222222222,
              "#7201a8"
             ],
             [
              0.3333333333333333,
              "#9c179e"
             ],
             [
              0.4444444444444444,
              "#bd3786"
             ],
             [
              0.5555555555555556,
              "#d8576b"
             ],
             [
              0.6666666666666666,
              "#ed7953"
             ],
             [
              0.7777777777777778,
              "#fb9f3a"
             ],
             [
              0.8888888888888888,
              "#fdca26"
             ],
             [
              1,
              "#f0f921"
             ]
            ],
            "type": "heatmapgl"
           }
          ],
          "histogram": [
           {
            "marker": {
             "colorbar": {
              "outlinewidth": 0,
              "ticks": ""
             }
            },
            "type": "histogram"
           }
          ],
          "histogram2d": [
           {
            "colorbar": {
             "outlinewidth": 0,
             "ticks": ""
            },
            "colorscale": [
             [
              0,
              "#0d0887"
             ],
             [
              0.1111111111111111,
              "#46039f"
             ],
             [
              0.2222222222222222,
              "#7201a8"
             ],
             [
              0.3333333333333333,
              "#9c179e"
             ],
             [
              0.4444444444444444,
              "#bd3786"
             ],
             [
              0.5555555555555556,
              "#d8576b"
             ],
             [
              0.6666666666666666,
              "#ed7953"
             ],
             [
              0.7777777777777778,
              "#fb9f3a"
             ],
             [
              0.8888888888888888,
              "#fdca26"
             ],
             [
              1,
              "#f0f921"
             ]
            ],
            "type": "histogram2d"
           }
          ],
          "histogram2dcontour": [
           {
            "colorbar": {
             "outlinewidth": 0,
             "ticks": ""
            },
            "colorscale": [
             [
              0,
              "#0d0887"
             ],
             [
              0.1111111111111111,
              "#46039f"
             ],
             [
              0.2222222222222222,
              "#7201a8"
             ],
             [
              0.3333333333333333,
              "#9c179e"
             ],
             [
              0.4444444444444444,
              "#bd3786"
             ],
             [
              0.5555555555555556,
              "#d8576b"
             ],
             [
              0.6666666666666666,
              "#ed7953"
             ],
             [
              0.7777777777777778,
              "#fb9f3a"
             ],
             [
              0.8888888888888888,
              "#fdca26"
             ],
             [
              1,
              "#f0f921"
             ]
            ],
            "type": "histogram2dcontour"
           }
          ],
          "mesh3d": [
           {
            "colorbar": {
             "outlinewidth": 0,
             "ticks": ""
            },
            "type": "mesh3d"
           }
          ],
          "parcoords": [
           {
            "line": {
             "colorbar": {
              "outlinewidth": 0,
              "ticks": ""
             }
            },
            "type": "parcoords"
           }
          ],
          "pie": [
           {
            "automargin": true,
            "type": "pie"
           }
          ],
          "scatter": [
           {
            "marker": {
             "colorbar": {
              "outlinewidth": 0,
              "ticks": ""
             }
            },
            "type": "scatter"
           }
          ],
          "scatter3d": [
           {
            "line": {
             "colorbar": {
              "outlinewidth": 0,
              "ticks": ""
             }
            },
            "marker": {
             "colorbar": {
              "outlinewidth": 0,
              "ticks": ""
             }
            },
            "type": "scatter3d"
           }
          ],
          "scattercarpet": [
           {
            "marker": {
             "colorbar": {
              "outlinewidth": 0,
              "ticks": ""
             }
            },
            "type": "scattercarpet"
           }
          ],
          "scattergeo": [
           {
            "marker": {
             "colorbar": {
              "outlinewidth": 0,
              "ticks": ""
             }
            },
            "type": "scattergeo"
           }
          ],
          "scattergl": [
           {
            "marker": {
             "colorbar": {
              "outlinewidth": 0,
              "ticks": ""
             }
            },
            "type": "scattergl"
           }
          ],
          "scattermapbox": [
           {
            "marker": {
             "colorbar": {
              "outlinewidth": 0,
              "ticks": ""
             }
            },
            "type": "scattermapbox"
           }
          ],
          "scatterpolar": [
           {
            "marker": {
             "colorbar": {
              "outlinewidth": 0,
              "ticks": ""
             }
            },
            "type": "scatterpolar"
           }
          ],
          "scatterpolargl": [
           {
            "marker": {
             "colorbar": {
              "outlinewidth": 0,
              "ticks": ""
             }
            },
            "type": "scatterpolargl"
           }
          ],
          "scatterternary": [
           {
            "marker": {
             "colorbar": {
              "outlinewidth": 0,
              "ticks": ""
             }
            },
            "type": "scatterternary"
           }
          ],
          "surface": [
           {
            "colorbar": {
             "outlinewidth": 0,
             "ticks": ""
            },
            "colorscale": [
             [
              0,
              "#0d0887"
             ],
             [
              0.1111111111111111,
              "#46039f"
             ],
             [
              0.2222222222222222,
              "#7201a8"
             ],
             [
              0.3333333333333333,
              "#9c179e"
             ],
             [
              0.4444444444444444,
              "#bd3786"
             ],
             [
              0.5555555555555556,
              "#d8576b"
             ],
             [
              0.6666666666666666,
              "#ed7953"
             ],
             [
              0.7777777777777778,
              "#fb9f3a"
             ],
             [
              0.8888888888888888,
              "#fdca26"
             ],
             [
              1,
              "#f0f921"
             ]
            ],
            "type": "surface"
           }
          ],
          "table": [
           {
            "cells": {
             "fill": {
              "color": "#EBF0F8"
             },
             "line": {
              "color": "white"
             }
            },
            "header": {
             "fill": {
              "color": "#C8D4E3"
             },
             "line": {
              "color": "white"
             }
            },
            "type": "table"
           }
          ]
         },
         "layout": {
          "annotationdefaults": {
           "arrowcolor": "#2a3f5f",
           "arrowhead": 0,
           "arrowwidth": 1
          },
          "coloraxis": {
           "colorbar": {
            "outlinewidth": 0,
            "ticks": ""
           }
          },
          "colorscale": {
           "diverging": [
            [
             0,
             "#8e0152"
            ],
            [
             0.1,
             "#c51b7d"
            ],
            [
             0.2,
             "#de77ae"
            ],
            [
             0.3,
             "#f1b6da"
            ],
            [
             0.4,
             "#fde0ef"
            ],
            [
             0.5,
             "#f7f7f7"
            ],
            [
             0.6,
             "#e6f5d0"
            ],
            [
             0.7,
             "#b8e186"
            ],
            [
             0.8,
             "#7fbc41"
            ],
            [
             0.9,
             "#4d9221"
            ],
            [
             1,
             "#276419"
            ]
           ],
           "sequential": [
            [
             0,
             "#0d0887"
            ],
            [
             0.1111111111111111,
             "#46039f"
            ],
            [
             0.2222222222222222,
             "#7201a8"
            ],
            [
             0.3333333333333333,
             "#9c179e"
            ],
            [
             0.4444444444444444,
             "#bd3786"
            ],
            [
             0.5555555555555556,
             "#d8576b"
            ],
            [
             0.6666666666666666,
             "#ed7953"
            ],
            [
             0.7777777777777778,
             "#fb9f3a"
            ],
            [
             0.8888888888888888,
             "#fdca26"
            ],
            [
             1,
             "#f0f921"
            ]
           ],
           "sequentialminus": [
            [
             0,
             "#0d0887"
            ],
            [
             0.1111111111111111,
             "#46039f"
            ],
            [
             0.2222222222222222,
             "#7201a8"
            ],
            [
             0.3333333333333333,
             "#9c179e"
            ],
            [
             0.4444444444444444,
             "#bd3786"
            ],
            [
             0.5555555555555556,
             "#d8576b"
            ],
            [
             0.6666666666666666,
             "#ed7953"
            ],
            [
             0.7777777777777778,
             "#fb9f3a"
            ],
            [
             0.8888888888888888,
             "#fdca26"
            ],
            [
             1,
             "#f0f921"
            ]
           ]
          },
          "colorway": [
           "#636efa",
           "#EF553B",
           "#00cc96",
           "#ab63fa",
           "#FFA15A",
           "#19d3f3",
           "#FF6692",
           "#B6E880",
           "#FF97FF",
           "#FECB52"
          ],
          "font": {
           "color": "#2a3f5f"
          },
          "geo": {
           "bgcolor": "white",
           "lakecolor": "white",
           "landcolor": "#E5ECF6",
           "showlakes": true,
           "showland": true,
           "subunitcolor": "white"
          },
          "hoverlabel": {
           "align": "left"
          },
          "hovermode": "closest",
          "mapbox": {
           "style": "light"
          },
          "paper_bgcolor": "white",
          "plot_bgcolor": "#E5ECF6",
          "polar": {
           "angularaxis": {
            "gridcolor": "white",
            "linecolor": "white",
            "ticks": ""
           },
           "bgcolor": "#E5ECF6",
           "radialaxis": {
            "gridcolor": "white",
            "linecolor": "white",
            "ticks": ""
           }
          },
          "scene": {
           "xaxis": {
            "backgroundcolor": "#E5ECF6",
            "gridcolor": "white",
            "gridwidth": 2,
            "linecolor": "white",
            "showbackground": true,
            "ticks": "",
            "zerolinecolor": "white"
           },
           "yaxis": {
            "backgroundcolor": "#E5ECF6",
            "gridcolor": "white",
            "gridwidth": 2,
            "linecolor": "white",
            "showbackground": true,
            "ticks": "",
            "zerolinecolor": "white"
           },
           "zaxis": {
            "backgroundcolor": "#E5ECF6",
            "gridcolor": "white",
            "gridwidth": 2,
            "linecolor": "white",
            "showbackground": true,
            "ticks": "",
            "zerolinecolor": "white"
           }
          },
          "shapedefaults": {
           "line": {
            "color": "#2a3f5f"
           }
          },
          "ternary": {
           "aaxis": {
            "gridcolor": "white",
            "linecolor": "white",
            "ticks": ""
           },
           "baxis": {
            "gridcolor": "white",
            "linecolor": "white",
            "ticks": ""
           },
           "bgcolor": "#E5ECF6",
           "caxis": {
            "gridcolor": "white",
            "linecolor": "white",
            "ticks": ""
           }
          },
          "title": {
           "x": 0.05
          },
          "xaxis": {
           "automargin": true,
           "gridcolor": "white",
           "linecolor": "white",
           "ticks": "",
           "title": {
            "standoff": 15
           },
           "zerolinecolor": "white",
           "zerolinewidth": 2
          },
          "yaxis": {
           "automargin": true,
           "gridcolor": "white",
           "linecolor": "white",
           "ticks": "",
           "title": {
            "standoff": 15
           },
           "zerolinecolor": "white",
           "zerolinewidth": 2
          }
         }
        },
        "title": {
         "font": {
          "color": "#4D5663"
         }
        },
        "xaxis": {
         "gridcolor": "#E1E5ED",
         "showgrid": true,
         "tickfont": {
          "color": "#4D5663"
         },
         "title": {
          "font": {
           "color": "#4D5663"
          },
          "text": ""
         },
         "zerolinecolor": "#E1E5ED"
        },
        "yaxis": {
         "gridcolor": "#E1E5ED",
         "showgrid": true,
         "tickfont": {
          "color": "#4D5663"
         },
         "title": {
          "font": {
           "color": "#4D5663"
          },
          "text": ""
         },
         "zerolinecolor": "#E1E5ED"
        }
       }
      },
      "text/html": [
       "<div>                            <div id=\"69fe569e-1cd2-47c3-96f4-329d60228670\" class=\"plotly-graph-div\" style=\"height:525px; width:100%;\"></div>            <script type=\"text/javascript\">                require([\"plotly\"], function(Plotly) {                    window.PLOTLYENV=window.PLOTLYENV || {};\n",
       "                    window.PLOTLYENV.BASE_URL='https://plot.ly';                                    if (document.getElementById(\"69fe569e-1cd2-47c3-96f4-329d60228670\")) {                    Plotly.newPlot(                        \"69fe569e-1cd2-47c3-96f4-329d60228670\",                        [{\"histfunc\": \"count\", \"histnorm\": \"\", \"marker\": {\"color\": \"rgba(255, 153, 51, 1.0)\", \"line\": {\"color\": \"#4D5663\", \"width\": 1.3}}, \"name\": \"price_per_litre\", \"nbinsx\": 10, \"opacity\": 0.8, \"orientation\": \"v\", \"type\": \"histogram\", \"x\": [178.57, 785.71, 78.43, 224.29, 320.0, 1228.57, 885.71, 142.79, 171.43, 41.41, 85.71, 421.36, 3000.0, 45.7, 74.29, 114.21, 221.94, 85.7, 114.21, 107.07, 134.29, 141.43, 341.43, 800.0, 97.13, 109.5, 58.56, 227.13, 42.86, 120.0, 42.86, 61.36, 65.64, 131.36, 264.21, 135.64, 171.43, 600.0, 3571.43, 5712.86, 91.43, 67.13, 615.9, 228.57, 250.0, 414.21, 55.71, 90.0, 56.79, 90.0, 99992.86, 278.57, 57.13, 84.27, 85.64, 71.41, 387.98, 64.27, 98.57, 385.71, 69.93, 12142.86, 142.86, 285.71, 157.14, 214.27, 214.27, 528.56, 427.14, 9998.57, 428.57, 14214.29, 55.64, 52.79, 61.29, 55.5, 714.29, 207.14, 571.43, 785.71, 121.43, 178.57, 128.57, 157.14, 84.99, 74.99, 121.41, 121.41, 121.41, 128.56, 128.56, 285.71, 126.67, 357.14, 45707.14, 49992.86, 166.58, 28.57, 110.0, 128.5, 371.43, 314.27, 107.14, 155.71, 1427.14, 4564.29, 140.0, 136.0, 92.86, 100.0, 9992.86, 250.0, 250.0, 307.14, 75.64, 58.49, 55.71, 1535.71, 857.14, 54.21, 71.43, 65.43, 112.79, 60.0, 95.71, 114.29, 355.71, 74.29, 5428.57, 98571.43, 750.0, 268.57, 133.33, 6428.57, 5357.14, 392.86, 357.14, 138.57, 67.14, 607.14, 171.43, 128.57, 4142.86, 57.14, 225.0, 228.57, 213.33, 173.33, 84.27, 135.0, 145.0, 42.86, 42.86, 428.57, 6428.57, 130.0, 67.14, 210.0, 357.14, 78.57, 70.0, 78.36, 71.43, 248.43, 68.57, 117.14, 185.71, 107.14, 71.43, 148.5, 114.29, 70.0, 857.07, 892.86, 74.29, 81.43, 49992.86, 60714.29, 48571.43, 78.57, 29992.86, 1285.71, 110.0, 104.29, 4285.71, 3571.43, 70.0, 132.86, 3021.43, 714.29, 67.14, 57.14, 514.29, 220.0, 135.0, 90.0, 69.93, 54.29, 108.57, 64.29, 300.0, 57.14, 125.0, 125.0, 30.0, 67.14, 28.57, 82.86, 82.86, 42.86, 300.0, 52.0, 228.57, 87.14, 9642.86, 2995.0, 67.07, 166.67, 68.43, 74.29, 64.29, 71.43, 377.14, 928.57, 61.43, 85.7, 7714.29, 85.71, 4285.71, 88.57, 74.29, 785.71, 6785.71, 139.93, 84.14, 71.43, 284.29, 88.57, 3928.57, 100.0, 199.99, 140.0, 140.0, 250.0, 73.32, 66.65, 83.33, 228.57, 1928.57, 74.29, 214.29, 62.86, 82.86, 107.14, 3178.57, 84.29, 54.14, 72.84, 15714.29, 2571.43, 64.29, 464.29, 140.0, 57.14, 48.5, 228.57, 4000.0, 225.0, 228.57, 115.0, 427.14, 228.57, 81.43, 97.14, 127.14, 290.0, 714.29, 6428.57, 407.14, 428.57, 71.43, 70.0, 64.29, 1000.0, 535.71, 71.43, 271.43, 64.29, 186.67, 55.71, 3928.57, 173.33, 68.57, 328.57, 67.14, 125.71, 71.43, 442.86, 1442.86, 1442.86, 571.43, 407.14, 1021.43, 1021.43, 692.86, 457.14, 800.0, 228.57, 214.29, 850.0, 98.57, 98.57, 100.0, 642.86, 84.29, 1142.86, 128.57, 2850.0, 39285.71, 200.0, 92.86, 157.14, 85.71, 100.0, 42.84, 4142.86, 712.86, 57.14, 64.29, 357.14, 91.41, 82.22, 507.14, 131.43, 111.43, 385.71, 57.14, 100.0, 3570.0, 121.43, 135.71, 142.86, 157.14, 192.86, 427.14, 720.0, 720.0, 171.43, 328.57, 285.71, 714.29, 471.43, 2142.86, 185.71, 157.14, 171.43, 157.14, 121.43, 321.43, 74.29, 119993.33, 98.0, 141.43, 857.14, 657.14, 998.57, 160.0, 110.0, 95.0, 71.43, 250.0, 181.43, 421.43, 166.67, 392.86, 34.29, 228.57, 121.43, 150.0, 100.0, 1000.0, 140.71, 88.57, 3928.57, 249.97, 191.67, 128.0, 105.71, 150.0, 160.0, 155.71, 185.71, 185.71, 185.71, 140.0, 87.14, 157.14, 133.57, 885.71, 138.57, 100.0, 185.71, 133.9, 149.9, 213.9, 179.98, 1214.29, 221.94, 122.86, 128.57, 128.57, 137.14, 151.43, 757.14, 284.29, 117.14, 100.0, 79.93, 200.0, 3757.14, 64.29, 175.9, 190.0, 201.9, 178.57, 89.99, 89.99, 190.0, 160.0, 57.13, 1228.57, 135714.29, 127142.86, 112857.14, 1057.14, 87.14, 250.0, 24142.86, 199.93, 319.98, 279.98, 107.14, 85.71, 140.71, 107.14, 12855.71, 1928.57, 138.57, 264.29, 135.71, 135.71, 157.14, 157.14, 342.86, 142.86, 142.86, 141.43, 535.71, 208.33, 1107.14, 185.71, 821.43, 107.14, 151.41, 707.14, 850.0, 498.57, 1707.14, 142.86, 78.5, 107.14, 178.57, 241.43, 92.86, 100.0, 228.57, 5000.0, 9135.71, 98571.43, 84.21, 102857.14, 92.86, 235.71, 105.71, 255.71, 4278.57, 428.57, 1141.43, 235.71, 278.57, 1357.14, 1250.0, 250.0, 321.43, 570.0, 141.43, 278.57, 228.57, 185.71, 85.71, 307.14, 195.0, 90.0, 371.43, 485.71, 1278.57, 407.14, 478.57, 442.86, 735.71, 1442.86, 400.0, 528.57, 1442.86, 442.86, 1442.86, 1442.86, 571.43, 407.14, 1021.43, 1021.43, 692.86, 457.14, 800.0, 228.57, 214.29, 850.0, 98.57, 98.57, 100.0, 642.86, 84.29, 1142.86, 128.57, 2850.0, 39285.71, 200.0, 92.86, 157.14, 85.71, 100.0, 42.84, 4142.86, 712.86, 57.14, 64.29, 357.14, 91.41, 82.22, 507.14, 131.43, 111.43, 385.71, 57.14, 100.0, 3570.0, 121.43, 135.71, 142.86, 157.14, 192.86, 427.14, 720.0, 720.0, 171.43, 328.57, 285.71, 714.29, 471.43, 2142.86, 185.71, 157.14, 171.43, 157.14, 121.43, 321.43, 74.29, 119993.33, 98.0, 141.43, 857.14, 657.14, 998.57, 160.0, 110.0, 95.0, 71.43, 250.0, 181.43, 421.43, 166.67, 392.86, 34.29, 228.57, 121.43, 150.0, 100.0, 1000.0, 140.71, 88.57, 3928.57, 249.97, 191.67, 128.0, 105.71, 150.0, 160.0, 155.71, 185.71, 185.71, 185.71, 140.0, 87.14, 157.14, 84.29, 241.43, 85.71, 142.86, 114.29, 107.14, 428.57, 88.57, 112.86, 120.0, 85.71, 57.14, 84.29, 98.57, 98.57, 90.0, 80.0, 105.71, 34.27, 91.43, 120.0, 130.0, 125.0, 271.43, 114.29, 100.0, 71.43, 850.0, 785.71, 357.14, 90.0, 255.71, 107.13, 114.29, 35.71, 78.57, 2564.29, 2564.29, 257.14, 120.0, 120.0, 130.0, 130.0, 130.0, 130.0, 110.0, 110.0, 228.57, 78.57, 100.0, 108.57, 120.0, 120.0, 131.43, 141.43, 157.14, 328.57, 357.14, 428.57, 850.0, 228.57, 17135.71, 8571.43, 3928.57, 628.57, 564.29, 105.71, 192.86, 55.71, 357.14, 178.57, 6428.57, 99.0, 428.57, 225.0, 140.0, 170.0, 210.0, 214.29, 108.57, 94.29, 164.29, 4857.14, 285.71, 320.0, 141.43, 357.14, 100.0, 100.0, 107.14, 157.14, 85.71, 98.0, 892.86, 70.0, 25707.14, 141.43, 78.57, 54.29, 54.29, 92.86, 68.57, 68.57, 92.86, 284.29, 171.43, 192.86, 141.43, 178.57, 150.0, 128.57, 341.43, 62.86, 114.29, 71.07, 228.57, 135.71, 3928.57, 607.14, 564.29, 2571.43, 121.43, 357.14, 57000.0, 58571.43, 278.43, 92.86, 68.57, 104.29, 64.29, 1707.14, 17714.29, 3857.14, 121.43, 68.57, 142.86, 108.57, 157.14, 100.0, 2628.57, 250.0, 166.67, 200.0, 400.0, 94.29, 90.0, 100.0, 90.0, 17142.86, 80.0, 785.71, 200.0, 100.0, 57142.86, 150.0, 112.86, 204.29, 121.43, 192.86, 207.14, 197.14, 125.0, 21428.57, 314.29, 100.0, 321.43, 50.0, 55.71, 98.57, 457.14, 118.57, 82.84, 47.14, 157.14, 80.0, 3800.0, 642.86, 140.0, 145.0, 660.0, 195.0, 195.0, 660.0, 85.71, 192.86, 121.43, 127.14, 5000.0, 221.43, 100.0, 3571.43, 25000.0, 114.29, 228.57, 212.86, 1371.43, 1011.23, 81.43, 4564.29, 4135.71, 235.71, 85.71, 140.0, 27142.86, 700.0, 114.29, 357.14, 464.29, 542.86, 128.57, 1142.86, 2142.86, 5714.29, 142857.14, 1071.43, 520.0, 128.57, 525.71, 2142.86, 500.0, 41.43, 64.29, 71.43, 102.86, 52.86, 100.0, 62.86, 42.86, 92.86, 57.14, 271.43, 128.57, 74.29, 42.86, 64.29, 142.86, 81.43, 54.21, 392.86, 121.43, 428.57, 60.0, 57.14, 415.71, 857.14, 98.57, 60.0, 107.14, 357.14, 3164.29, 3164.29, 4571.43, 500.0, 500.0, 57.14, 6428.57, 353.57, 111.43, 321.43, 371.43, 114.29, 3000.0, 3857.14, 3710.0, 1071.43, 7028.57, 642.86, 92.86, 98.57, 2142.86, 191.67, 750.0, 2857.14, 104.29, 141.43, 92.86, 100.0, 1214.29, 214.29, 25714.29, 98.57, 114.29, 342.86, 107.14, 714.29, 427.14, 428.57, 1071.43, 110.0, 130.0, 40.0, 214.29, 6285.71, 5712.86, 485.71, 235.71, 285.71, 321.43, 485.71, 1000.0, 7857.14, 1485.71, 8428.57, 5000.0, 5000.0, 3857.14, 5712.86, 5712.86, 5712.86, 5712.86, 5712.86, 7857.14, 6285.71, 10428.57, 15500.0, 12142.86, 141.43, 90.0, 165.0, 27.14, 35.71, 135.0, 145.0, 139.8, 399.8, 113.32, 110.0, 219.8, 159.8, 100.0, 74.29, 57.14, 357.14, 90.0, 74.29, 357.14, 84.29, 285.71, 357.14, 379.8, 77.14, 400.0, 378.57, 98.57, 85.71, 140.0, 292.86, 81.43, 100.0, 42.86, 84.29, 44.95, 30.0, 37.14, 1700.0, 119.8, 41.43, 900.0, 165.7, 65.71, 67.14, 130.0, 82.83, 424.29, 400.0, 125.71, 471.43, 400.0, 421.43, 40.0, 49.93, 71.43, 500.0, 42.86, 42.86, 42.86, 371.43, 135.71, 165.0, 491.43, 642.86, 791.41]}],                        {\"barmode\": \"overlay\", \"legend\": {\"bgcolor\": \"#F5F6F9\", \"font\": {\"color\": \"#4D5663\"}}, \"paper_bgcolor\": \"#F5F6F9\", \"plot_bgcolor\": \"#F5F6F9\", \"template\": {\"data\": {\"bar\": [{\"error_x\": {\"color\": \"#2a3f5f\"}, \"error_y\": {\"color\": \"#2a3f5f\"}, \"marker\": {\"line\": {\"color\": \"#E5ECF6\", \"width\": 0.5}}, \"type\": \"bar\"}], \"barpolar\": [{\"marker\": {\"line\": {\"color\": \"#E5ECF6\", \"width\": 0.5}}, \"type\": \"barpolar\"}], \"carpet\": [{\"aaxis\": {\"endlinecolor\": \"#2a3f5f\", \"gridcolor\": \"white\", \"linecolor\": \"white\", \"minorgridcolor\": \"white\", \"startlinecolor\": \"#2a3f5f\"}, \"baxis\": {\"endlinecolor\": \"#2a3f5f\", \"gridcolor\": \"white\", \"linecolor\": \"white\", \"minorgridcolor\": \"white\", \"startlinecolor\": \"#2a3f5f\"}, \"type\": \"carpet\"}], \"choropleth\": [{\"colorbar\": {\"outlinewidth\": 0, \"ticks\": \"\"}, \"type\": \"choropleth\"}], \"contour\": [{\"colorbar\": {\"outlinewidth\": 0, \"ticks\": \"\"}, \"colorscale\": [[0.0, \"#0d0887\"], [0.1111111111111111, \"#46039f\"], [0.2222222222222222, \"#7201a8\"], [0.3333333333333333, \"#9c179e\"], [0.4444444444444444, \"#bd3786\"], [0.5555555555555556, \"#d8576b\"], [0.6666666666666666, \"#ed7953\"], [0.7777777777777778, \"#fb9f3a\"], [0.8888888888888888, \"#fdca26\"], [1.0, \"#f0f921\"]], \"type\": \"contour\"}], \"contourcarpet\": [{\"colorbar\": {\"outlinewidth\": 0, \"ticks\": \"\"}, \"type\": \"contourcarpet\"}], \"heatmap\": [{\"colorbar\": {\"outlinewidth\": 0, \"ticks\": \"\"}, \"colorscale\": [[0.0, \"#0d0887\"], [0.1111111111111111, \"#46039f\"], [0.2222222222222222, \"#7201a8\"], [0.3333333333333333, \"#9c179e\"], [0.4444444444444444, \"#bd3786\"], [0.5555555555555556, \"#d8576b\"], [0.6666666666666666, \"#ed7953\"], [0.7777777777777778, \"#fb9f3a\"], [0.8888888888888888, \"#fdca26\"], [1.0, \"#f0f921\"]], \"type\": \"heatmap\"}], \"heatmapgl\": [{\"colorbar\": {\"outlinewidth\": 0, \"ticks\": \"\"}, \"colorscale\": [[0.0, \"#0d0887\"], [0.1111111111111111, \"#46039f\"], [0.2222222222222222, \"#7201a8\"], [0.3333333333333333, \"#9c179e\"], [0.4444444444444444, \"#bd3786\"], [0.5555555555555556, \"#d8576b\"], [0.6666666666666666, \"#ed7953\"], [0.7777777777777778, \"#fb9f3a\"], [0.8888888888888888, \"#fdca26\"], [1.0, \"#f0f921\"]], \"type\": \"heatmapgl\"}], \"histogram\": [{\"marker\": {\"colorbar\": {\"outlinewidth\": 0, \"ticks\": \"\"}}, \"type\": \"histogram\"}], \"histogram2d\": [{\"colorbar\": {\"outlinewidth\": 0, \"ticks\": \"\"}, \"colorscale\": [[0.0, \"#0d0887\"], [0.1111111111111111, \"#46039f\"], [0.2222222222222222, \"#7201a8\"], [0.3333333333333333, \"#9c179e\"], [0.4444444444444444, \"#bd3786\"], [0.5555555555555556, \"#d8576b\"], [0.6666666666666666, \"#ed7953\"], [0.7777777777777778, \"#fb9f3a\"], [0.8888888888888888, \"#fdca26\"], [1.0, \"#f0f921\"]], \"type\": \"histogram2d\"}], \"histogram2dcontour\": [{\"colorbar\": {\"outlinewidth\": 0, \"ticks\": \"\"}, \"colorscale\": [[0.0, \"#0d0887\"], [0.1111111111111111, \"#46039f\"], [0.2222222222222222, \"#7201a8\"], [0.3333333333333333, \"#9c179e\"], [0.4444444444444444, \"#bd3786\"], [0.5555555555555556, \"#d8576b\"], [0.6666666666666666, \"#ed7953\"], [0.7777777777777778, \"#fb9f3a\"], [0.8888888888888888, \"#fdca26\"], [1.0, \"#f0f921\"]], \"type\": \"histogram2dcontour\"}], \"mesh3d\": [{\"colorbar\": {\"outlinewidth\": 0, \"ticks\": \"\"}, \"type\": \"mesh3d\"}], \"parcoords\": [{\"line\": {\"colorbar\": {\"outlinewidth\": 0, \"ticks\": \"\"}}, \"type\": \"parcoords\"}], \"pie\": [{\"automargin\": true, \"type\": \"pie\"}], \"scatter\": [{\"marker\": {\"colorbar\": {\"outlinewidth\": 0, \"ticks\": \"\"}}, \"type\": \"scatter\"}], \"scatter3d\": [{\"line\": {\"colorbar\": {\"outlinewidth\": 0, \"ticks\": \"\"}}, \"marker\": {\"colorbar\": {\"outlinewidth\": 0, \"ticks\": \"\"}}, \"type\": \"scatter3d\"}], \"scattercarpet\": [{\"marker\": {\"colorbar\": {\"outlinewidth\": 0, \"ticks\": \"\"}}, \"type\": \"scattercarpet\"}], \"scattergeo\": [{\"marker\": {\"colorbar\": {\"outlinewidth\": 0, \"ticks\": \"\"}}, \"type\": \"scattergeo\"}], \"scattergl\": [{\"marker\": {\"colorbar\": {\"outlinewidth\": 0, \"ticks\": \"\"}}, \"type\": \"scattergl\"}], \"scattermapbox\": [{\"marker\": {\"colorbar\": {\"outlinewidth\": 0, \"ticks\": \"\"}}, \"type\": \"scattermapbox\"}], \"scatterpolar\": [{\"marker\": {\"colorbar\": {\"outlinewidth\": 0, \"ticks\": \"\"}}, \"type\": \"scatterpolar\"}], \"scatterpolargl\": [{\"marker\": {\"colorbar\": {\"outlinewidth\": 0, \"ticks\": \"\"}}, \"type\": \"scatterpolargl\"}], \"scatterternary\": [{\"marker\": {\"colorbar\": {\"outlinewidth\": 0, \"ticks\": \"\"}}, \"type\": \"scatterternary\"}], \"surface\": [{\"colorbar\": {\"outlinewidth\": 0, \"ticks\": \"\"}, \"colorscale\": [[0.0, \"#0d0887\"], [0.1111111111111111, \"#46039f\"], [0.2222222222222222, \"#7201a8\"], [0.3333333333333333, \"#9c179e\"], [0.4444444444444444, \"#bd3786\"], [0.5555555555555556, \"#d8576b\"], [0.6666666666666666, \"#ed7953\"], [0.7777777777777778, \"#fb9f3a\"], [0.8888888888888888, \"#fdca26\"], [1.0, \"#f0f921\"]], \"type\": \"surface\"}], \"table\": [{\"cells\": {\"fill\": {\"color\": \"#EBF0F8\"}, \"line\": {\"color\": \"white\"}}, \"header\": {\"fill\": {\"color\": \"#C8D4E3\"}, \"line\": {\"color\": \"white\"}}, \"type\": \"table\"}]}, \"layout\": {\"annotationdefaults\": {\"arrowcolor\": \"#2a3f5f\", \"arrowhead\": 0, \"arrowwidth\": 1}, \"coloraxis\": {\"colorbar\": {\"outlinewidth\": 0, \"ticks\": \"\"}}, \"colorscale\": {\"diverging\": [[0, \"#8e0152\"], [0.1, \"#c51b7d\"], [0.2, \"#de77ae\"], [0.3, \"#f1b6da\"], [0.4, \"#fde0ef\"], [0.5, \"#f7f7f7\"], [0.6, \"#e6f5d0\"], [0.7, \"#b8e186\"], [0.8, \"#7fbc41\"], [0.9, \"#4d9221\"], [1, \"#276419\"]], \"sequential\": [[0.0, \"#0d0887\"], [0.1111111111111111, \"#46039f\"], [0.2222222222222222, \"#7201a8\"], [0.3333333333333333, \"#9c179e\"], [0.4444444444444444, \"#bd3786\"], [0.5555555555555556, \"#d8576b\"], [0.6666666666666666, \"#ed7953\"], [0.7777777777777778, \"#fb9f3a\"], [0.8888888888888888, \"#fdca26\"], [1.0, \"#f0f921\"]], \"sequentialminus\": [[0.0, \"#0d0887\"], [0.1111111111111111, \"#46039f\"], [0.2222222222222222, \"#7201a8\"], [0.3333333333333333, \"#9c179e\"], [0.4444444444444444, \"#bd3786\"], [0.5555555555555556, \"#d8576b\"], [0.6666666666666666, \"#ed7953\"], [0.7777777777777778, \"#fb9f3a\"], [0.8888888888888888, \"#fdca26\"], [1.0, \"#f0f921\"]]}, \"colorway\": [\"#636efa\", \"#EF553B\", \"#00cc96\", \"#ab63fa\", \"#FFA15A\", \"#19d3f3\", \"#FF6692\", \"#B6E880\", \"#FF97FF\", \"#FECB52\"], \"font\": {\"color\": \"#2a3f5f\"}, \"geo\": {\"bgcolor\": \"white\", \"lakecolor\": \"white\", \"landcolor\": \"#E5ECF6\", \"showlakes\": true, \"showland\": true, \"subunitcolor\": \"white\"}, \"hoverlabel\": {\"align\": \"left\"}, \"hovermode\": \"closest\", \"mapbox\": {\"style\": \"light\"}, \"paper_bgcolor\": \"white\", \"plot_bgcolor\": \"#E5ECF6\", \"polar\": {\"angularaxis\": {\"gridcolor\": \"white\", \"linecolor\": \"white\", \"ticks\": \"\"}, \"bgcolor\": \"#E5ECF6\", \"radialaxis\": {\"gridcolor\": \"white\", \"linecolor\": \"white\", \"ticks\": \"\"}}, \"scene\": {\"xaxis\": {\"backgroundcolor\": \"#E5ECF6\", \"gridcolor\": \"white\", \"gridwidth\": 2, \"linecolor\": \"white\", \"showbackground\": true, \"ticks\": \"\", \"zerolinecolor\": \"white\"}, \"yaxis\": {\"backgroundcolor\": \"#E5ECF6\", \"gridcolor\": \"white\", \"gridwidth\": 2, \"linecolor\": \"white\", \"showbackground\": true, \"ticks\": \"\", \"zerolinecolor\": \"white\"}, \"zaxis\": {\"backgroundcolor\": \"#E5ECF6\", \"gridcolor\": \"white\", \"gridwidth\": 2, \"linecolor\": \"white\", \"showbackground\": true, \"ticks\": \"\", \"zerolinecolor\": \"white\"}}, \"shapedefaults\": {\"line\": {\"color\": \"#2a3f5f\"}}, \"ternary\": {\"aaxis\": {\"gridcolor\": \"white\", \"linecolor\": \"white\", \"ticks\": \"\"}, \"baxis\": {\"gridcolor\": \"white\", \"linecolor\": \"white\", \"ticks\": \"\"}, \"bgcolor\": \"#E5ECF6\", \"caxis\": {\"gridcolor\": \"white\", \"linecolor\": \"white\", \"ticks\": \"\"}}, \"title\": {\"x\": 0.05}, \"xaxis\": {\"automargin\": true, \"gridcolor\": \"white\", \"linecolor\": \"white\", \"ticks\": \"\", \"title\": {\"standoff\": 15}, \"zerolinecolor\": \"white\", \"zerolinewidth\": 2}, \"yaxis\": {\"automargin\": true, \"gridcolor\": \"white\", \"linecolor\": \"white\", \"ticks\": \"\", \"title\": {\"standoff\": 15}, \"zerolinecolor\": \"white\", \"zerolinewidth\": 2}}}, \"title\": {\"font\": {\"color\": \"#4D5663\"}}, \"xaxis\": {\"gridcolor\": \"#E1E5ED\", \"showgrid\": true, \"tickfont\": {\"color\": \"#4D5663\"}, \"title\": {\"font\": {\"color\": \"#4D5663\"}, \"text\": \"\"}, \"zerolinecolor\": \"#E1E5ED\"}, \"yaxis\": {\"gridcolor\": \"#E1E5ED\", \"showgrid\": true, \"tickfont\": {\"color\": \"#4D5663\"}, \"title\": {\"font\": {\"color\": \"#4D5663\"}, \"text\": \"\"}, \"zerolinecolor\": \"#E1E5ED\"}},                        {\"showLink\": true, \"linkText\": \"Export to plot.ly\", \"plotlyServerURL\": \"https://plot.ly\", \"responsive\": true}                    ).then(function(){\n",
       "                            \n",
       "var gd = document.getElementById('69fe569e-1cd2-47c3-96f4-329d60228670');\n",
       "var x = new MutationObserver(function (mutations, observer) {{\n",
       "        var display = window.getComputedStyle(gd).display;\n",
       "        if (!display || display === 'none') {{\n",
       "            console.log([gd, 'removed!']);\n",
       "            Plotly.purge(gd);\n",
       "            observer.disconnect();\n",
       "        }}\n",
       "}});\n",
       "\n",
       "// Listen for the removal of the full notebook cells\n",
       "var notebookContainer = gd.closest('#notebook-container');\n",
       "if (notebookContainer) {{\n",
       "    x.observe(notebookContainer, {childList: true});\n",
       "}}\n",
       "\n",
       "// Listen for the clearing of the current output cell\n",
       "var outputEl = gd.closest('.output');\n",
       "if (outputEl) {{\n",
       "    x.observe(outputEl, {childList: true});\n",
       "}}\n",
       "\n",
       "                        })                };                });            </script>        </div>"
      ]
     },
     "metadata": {},
     "output_type": "display_data"
    }
   ],
   "source": [
    "df['price_per_litre'].iplot(kind='hist',bins=10)"
   ]
  },
  {
   "cell_type": "code",
   "execution_count": 35,
   "metadata": {
    "ExecuteTime": {
     "end_time": "2021-01-11T08:39:52.356352Z",
     "start_time": "2021-01-11T08:39:52.154348Z"
    }
   },
   "outputs": [],
   "source": [
    "min_ = df['price_per_litre'].min()\n",
    "max_ = df['price_per_litre'].max()\n",
    "bins=[min_,50,100,1000,25000,max_]\n",
    "labels=['cheap','affordable','expensive','very-expensive','premium']\n",
    "df['price_class'] = pd.cut(df['price_per_litre'], bins=bins, labels=labels)"
   ]
  },
  {
   "cell_type": "markdown",
   "metadata": {
    "ExecuteTime": {
     "end_time": "2021-01-10T10:20:38.435596Z",
     "start_time": "2021-01-10T10:20:38.423598Z"
    }
   },
   "source": [
    "#### Price Class\n",
    "- less than 50 -- cheap\n",
    "- 50 to 100 -- affordable\n",
    "- 100 to 1000 -- expensive\n",
    "- 1000 to 25000 -- very- expensive\n",
    "- more than 25000 -- premium"
   ]
  },
  {
   "cell_type": "markdown",
   "metadata": {},
   "source": [
    "### Age"
   ]
  },
  {
   "cell_type": "code",
   "execution_count": 36,
   "metadata": {
    "ExecuteTime": {
     "end_time": "2021-01-11T08:39:52.402711Z",
     "start_time": "2021-01-11T08:39:52.362338Z"
    }
   },
   "outputs": [],
   "source": [
    "df.loc[df['Age Statement'] == 'No Age Statement', 'Age Statement']= np.nan"
   ]
  },
  {
   "cell_type": "code",
   "execution_count": 37,
   "metadata": {
    "ExecuteTime": {
     "end_time": "2021-01-11T08:39:52.657577Z",
     "start_time": "2021-01-11T08:39:52.404664Z"
    }
   },
   "outputs": [],
   "source": [
    "df['Age'] = df['Age Statement'].str.replace('Years','')\n",
    "df['Age'] = df['Age'].astype(\"Float32\").astype(\"Int32\")"
   ]
  },
  {
   "cell_type": "code",
   "execution_count": 38,
   "metadata": {
    "ExecuteTime": {
     "end_time": "2021-01-11T08:39:52.814424Z",
     "start_time": "2021-01-11T08:39:52.660577Z"
    }
   },
   "outputs": [],
   "source": [
    "min_ = df['Age'].min()\n",
    "max_ = df['Age'].max()\n",
    "bins=[min_,13,50,max_]\n",
    "labels=['0-12','12-50','50+']"
   ]
  },
  {
   "cell_type": "code",
   "execution_count": 39,
   "metadata": {
    "ExecuteTime": {
     "end_time": "2021-01-11T08:39:52.939531Z",
     "start_time": "2021-01-11T08:39:52.821419Z"
    }
   },
   "outputs": [],
   "source": [
    "df['age_class'] = pd.cut(df['Age'], bins=bins, labels=labels)"
   ]
  },
  {
   "cell_type": "code",
   "execution_count": 40,
   "metadata": {
    "ExecuteTime": {
     "end_time": "2021-01-11T08:39:53.064530Z",
     "start_time": "2021-01-11T08:39:52.941513Z"
    }
   },
   "outputs": [
    {
     "data": {
      "text/plain": [
       "375"
      ]
     },
     "execution_count": 40,
     "metadata": {},
     "output_type": "execute_result"
    }
   ],
   "source": [
    "df.Age.isnull().sum()"
   ]
  },
  {
   "cell_type": "code",
   "execution_count": 41,
   "metadata": {
    "ExecuteTime": {
     "end_time": "2021-01-11T08:39:53.286516Z",
     "start_time": "2021-01-11T08:39:53.069518Z"
    }
   },
   "outputs": [
    {
     "data": {
      "text/html": [
       "<div>\n",
       "<style scoped>\n",
       "    .dataframe tbody tr th:only-of-type {\n",
       "        vertical-align: middle;\n",
       "    }\n",
       "\n",
       "    .dataframe tbody tr th {\n",
       "        vertical-align: top;\n",
       "    }\n",
       "\n",
       "    .dataframe thead th {\n",
       "        text-align: right;\n",
       "    }\n",
       "</style>\n",
       "<table border=\"1\" class=\"dataframe\">\n",
       "  <thead>\n",
       "    <tr style=\"text-align: right;\">\n",
       "      <th></th>\n",
       "      <th>Size</th>\n",
       "      <th>price</th>\n",
       "      <th>price_per_litre</th>\n",
       "      <th>Age</th>\n",
       "    </tr>\n",
       "  </thead>\n",
       "  <tbody>\n",
       "    <tr>\n",
       "      <th>Size</th>\n",
       "      <td>1.000000</td>\n",
       "      <td>0.080133</td>\n",
       "      <td>0.033720</td>\n",
       "      <td>0.194527</td>\n",
       "    </tr>\n",
       "    <tr>\n",
       "      <th>price</th>\n",
       "      <td>0.080133</td>\n",
       "      <td>1.000000</td>\n",
       "      <td>0.985394</td>\n",
       "      <td>0.546390</td>\n",
       "    </tr>\n",
       "    <tr>\n",
       "      <th>price_per_litre</th>\n",
       "      <td>0.033720</td>\n",
       "      <td>0.985394</td>\n",
       "      <td>1.000000</td>\n",
       "      <td>0.548894</td>\n",
       "    </tr>\n",
       "    <tr>\n",
       "      <th>Age</th>\n",
       "      <td>0.194527</td>\n",
       "      <td>0.546390</td>\n",
       "      <td>0.548894</td>\n",
       "      <td>1.000000</td>\n",
       "    </tr>\n",
       "  </tbody>\n",
       "</table>\n",
       "</div>"
      ],
      "text/plain": [
       "                     Size     price  price_per_litre       Age\n",
       "Size             1.000000  0.080133         0.033720  0.194527\n",
       "price            0.080133  1.000000         0.985394  0.546390\n",
       "price_per_litre  0.033720  0.985394         1.000000  0.548894\n",
       "Age              0.194527  0.546390         0.548894  1.000000"
      ]
     },
     "execution_count": 41,
     "metadata": {},
     "output_type": "execute_result"
    }
   ],
   "source": [
    "df.corr()"
   ]
  },
  {
   "cell_type": "code",
   "execution_count": 42,
   "metadata": {
    "ExecuteTime": {
     "end_time": "2021-01-11T08:39:53.333523Z",
     "start_time": "2021-01-11T08:39:53.290517Z"
    }
   },
   "outputs": [],
   "source": [
    "#df['age_class'].fillna('No Age Statement', inplace=True)\n",
    "#adding category named\"No age Statement\" and then filling all the nan value with it.\n",
    "df['age_class'] = df['age_class'].cat.add_categories(\"No Age Statement\").fillna(\"No Age Statement\")"
   ]
  },
  {
   "cell_type": "code",
   "execution_count": 43,
   "metadata": {
    "ExecuteTime": {
     "end_time": "2021-01-11T08:39:53.443520Z",
     "start_time": "2021-01-11T08:39:53.338521Z"
    }
   },
   "outputs": [],
   "source": [
    "df.drop('Age Statement',axis= 1, inplace=True)"
   ]
  },
  {
   "cell_type": "code",
   "execution_count": 44,
   "metadata": {
    "ExecuteTime": {
     "end_time": "2021-01-11T08:39:53.568517Z",
     "start_time": "2021-01-11T08:39:53.446517Z"
    }
   },
   "outputs": [
    {
     "data": {
      "text/html": [
       "<div>\n",
       "<style scoped>\n",
       "    .dataframe tbody tr th:only-of-type {\n",
       "        vertical-align: middle;\n",
       "    }\n",
       "\n",
       "    .dataframe tbody tr th {\n",
       "        vertical-align: top;\n",
       "    }\n",
       "\n",
       "    .dataframe thead th {\n",
       "        text-align: right;\n",
       "    }\n",
       "</style>\n",
       "<table border=\"1\" class=\"dataframe\">\n",
       "  <thead>\n",
       "    <tr style=\"text-align: right;\">\n",
       "      <th></th>\n",
       "      <th>name</th>\n",
       "      <th>Classification</th>\n",
       "      <th>Region</th>\n",
       "      <th>Style</th>\n",
       "      <th>Size</th>\n",
       "      <th>ABV</th>\n",
       "      <th>price</th>\n",
       "      <th>Distillery/Brand</th>\n",
       "      <th>Limited Edition</th>\n",
       "      <th>price_per_litre</th>\n",
       "      <th>price_class</th>\n",
       "      <th>Age</th>\n",
       "      <th>age_class</th>\n",
       "    </tr>\n",
       "  </thead>\n",
       "  <tbody>\n",
       "    <tr>\n",
       "      <th>0</th>\n",
       "      <td>Benromach 21 Year Old</td>\n",
       "      <td>Scotch Whisky</td>\n",
       "      <td>Speyside</td>\n",
       "      <td>Single Malt</td>\n",
       "      <td>70.0</td>\n",
       "      <td>43%</td>\n",
       "      <td>125.0</td>\n",
       "      <td>Benromach</td>\n",
       "      <td>Yes</td>\n",
       "      <td>178.57</td>\n",
       "      <td>expensive</td>\n",
       "      <td>21</td>\n",
       "      <td>12-50</td>\n",
       "    </tr>\n",
       "    <tr>\n",
       "      <th>1</th>\n",
       "      <td>John Walker &amp; Sons King George V</td>\n",
       "      <td>Scotch Whisky</td>\n",
       "      <td>Scotland</td>\n",
       "      <td>Blend</td>\n",
       "      <td>70.0</td>\n",
       "      <td>43%</td>\n",
       "      <td>550.0</td>\n",
       "      <td>Johnnie Walker</td>\n",
       "      <td>No</td>\n",
       "      <td>785.71</td>\n",
       "      <td>expensive</td>\n",
       "      <td>&lt;NA&gt;</td>\n",
       "      <td>No Age Statement</td>\n",
       "    </tr>\n",
       "    <tr>\n",
       "      <th>2</th>\n",
       "      <td>Paul John Christmas Edition 2020</td>\n",
       "      <td>Scotch Whisky</td>\n",
       "      <td>India</td>\n",
       "      <td>Single Malt</td>\n",
       "      <td>70.0</td>\n",
       "      <td>46%</td>\n",
       "      <td>54.9</td>\n",
       "      <td>Paul John</td>\n",
       "      <td>Yes</td>\n",
       "      <td>78.43</td>\n",
       "      <td>affordable</td>\n",
       "      <td>&lt;NA&gt;</td>\n",
       "      <td>No Age Statement</td>\n",
       "    </tr>\n",
       "    <tr>\n",
       "      <th>3</th>\n",
       "      <td>Compass Box Magic Cask</td>\n",
       "      <td>Scotch Whisky</td>\n",
       "      <td>Scotland</td>\n",
       "      <td>Blended Malt</td>\n",
       "      <td>70.0</td>\n",
       "      <td>46%</td>\n",
       "      <td>157.0</td>\n",
       "      <td>Compass Box</td>\n",
       "      <td>Yes</td>\n",
       "      <td>224.29</td>\n",
       "      <td>expensive</td>\n",
       "      <td>&lt;NA&gt;</td>\n",
       "      <td>No Age Statement</td>\n",
       "    </tr>\n",
       "    <tr>\n",
       "      <th>4</th>\n",
       "      <td>Johnnie Walker Blue Label Chinese New Year 202...</td>\n",
       "      <td>Scotch Whisky</td>\n",
       "      <td>NaN</td>\n",
       "      <td>Blend</td>\n",
       "      <td>70.0</td>\n",
       "      <td>40%</td>\n",
       "      <td>224.0</td>\n",
       "      <td>Johnnie Walker</td>\n",
       "      <td>Yes</td>\n",
       "      <td>320.00</td>\n",
       "      <td>expensive</td>\n",
       "      <td>&lt;NA&gt;</td>\n",
       "      <td>No Age Statement</td>\n",
       "    </tr>\n",
       "  </tbody>\n",
       "</table>\n",
       "</div>"
      ],
      "text/plain": [
       "                                                name Classification    Region  \\\n",
       "0                              Benromach 21 Year Old  Scotch Whisky  Speyside   \n",
       "1                   John Walker & Sons King George V  Scotch Whisky  Scotland   \n",
       "2                   Paul John Christmas Edition 2020  Scotch Whisky     India   \n",
       "3                             Compass Box Magic Cask  Scotch Whisky  Scotland   \n",
       "4  Johnnie Walker Blue Label Chinese New Year 202...  Scotch Whisky       NaN   \n",
       "\n",
       "          Style  Size  ABV  price Distillery/Brand Limited Edition  \\\n",
       "0   Single Malt  70.0  43%  125.0        Benromach             Yes   \n",
       "1         Blend  70.0  43%  550.0   Johnnie Walker              No   \n",
       "2   Single Malt  70.0  46%   54.9        Paul John             Yes   \n",
       "3  Blended Malt  70.0  46%  157.0      Compass Box             Yes   \n",
       "4         Blend  70.0  40%  224.0   Johnnie Walker             Yes   \n",
       "\n",
       "   price_per_litre price_class   Age         age_class  \n",
       "0           178.57   expensive    21             12-50  \n",
       "1           785.71   expensive  <NA>  No Age Statement  \n",
       "2            78.43  affordable  <NA>  No Age Statement  \n",
       "3           224.29   expensive  <NA>  No Age Statement  \n",
       "4           320.00   expensive  <NA>  No Age Statement  "
      ]
     },
     "execution_count": 44,
     "metadata": {},
     "output_type": "execute_result"
    }
   ],
   "source": [
    "df.head()"
   ]
  },
  {
   "cell_type": "markdown",
   "metadata": {
    "ExecuteTime": {
     "end_time": "2021-01-09T16:43:09.493098Z",
     "start_time": "2021-01-09T16:43:09.484113Z"
    }
   },
   "source": [
    "### ABV Alcohol Percentage"
   ]
  },
  {
   "cell_type": "code",
   "execution_count": 45,
   "metadata": {
    "ExecuteTime": {
     "end_time": "2021-01-11T08:39:53.756019Z",
     "start_time": "2021-01-11T08:39:53.572520Z"
    }
   },
   "outputs": [
    {
     "name": "stdout",
     "output_type": "stream",
     "text": [
      "47\n",
      "0    40%\n",
      "dtype: object\n"
     ]
    }
   ],
   "source": [
    "print(df['ABV'].isnull().sum())\n",
    "print(df['ABV'].mode())"
   ]
  },
  {
   "cell_type": "code",
   "execution_count": 46,
   "metadata": {
    "ExecuteTime": {
     "end_time": "2021-01-11T08:39:53.851843Z",
     "start_time": "2021-01-11T08:39:53.760044Z"
    }
   },
   "outputs": [],
   "source": [
    "df['ABV'] = df['ABV'].fillna('40%')"
   ]
  },
  {
   "cell_type": "code",
   "execution_count": 47,
   "metadata": {
    "ExecuteTime": {
     "end_time": "2021-01-11T08:39:53.977395Z",
     "start_time": "2021-01-11T08:39:53.863839Z"
    }
   },
   "outputs": [],
   "source": [
    "df['ABV']=(df['ABV'].str.replace('%','')).astype('float')\n"
   ]
  },
  {
   "cell_type": "code",
   "execution_count": 48,
   "metadata": {
    "ExecuteTime": {
     "end_time": "2021-01-11T08:39:54.211520Z",
     "start_time": "2021-01-11T08:39:53.982400Z"
    }
   },
   "outputs": [
    {
     "data": {
      "application/vnd.plotly.v1+json": {
       "config": {
        "linkText": "Export to plot.ly",
        "plotlyServerURL": "https://plot.ly",
        "showLink": true
       },
       "data": [
        {
         "histfunc": "count",
         "histnorm": "",
         "marker": {
          "color": "rgba(255, 153, 51, 1.0)",
          "line": {
           "color": "#4D5663",
           "width": 1.3
          }
         },
         "name": "ABV",
         "opacity": 0.8,
         "orientation": "v",
         "type": "histogram",
         "x": [
          43,
          43,
          46,
          46,
          40,
          47.5,
          58.4,
          56.4,
          52.6,
          40,
          46.3,
          55.4,
          49.6,
          40,
          40,
          59.6,
          45.5,
          46,
          47.3,
          46,
          53,
          60.2,
          46.8,
          46,
          56,
          45.8,
          40,
          40,
          40,
          40,
          40,
          40,
          40,
          46,
          46,
          46,
          48.9,
          49.5,
          40,
          40,
          56.1,
          58.6,
          54,
          54.3,
          61.7,
          45.1,
          47.4,
          43,
          50,
          43.6,
          45.1,
          40,
          43,
          48,
          54.1,
          47.8,
          53.6,
          46,
          43,
          45,
          46.6,
          42.5,
          58.6,
          55.8,
          50,
          49.3,
          52.3,
          50,
          46.3,
          51.4,
          52.4,
          58.2,
          46,
          43,
          46,
          46,
          47,
          46,
          50.8,
          51.9,
          56,
          56.4,
          57.9,
          55.1,
          50,
          46.3,
          52.3,
          54.7,
          55.1,
          55.2,
          53.4,
          47,
          55.1,
          43,
          50.2,
          43,
          40,
          40,
          60.1,
          51.8,
          48.7,
          43,
          52.8,
          42.3,
          45.4,
          49,
          46,
          46,
          57.8,
          46,
          49.9,
          40,
          40,
          40,
          55.8,
          56.2,
          43,
          45.1,
          53.5,
          40,
          54,
          48.8,
          48,
          40.8,
          46,
          46.5,
          54.2,
          50,
          43.8,
          53.4,
          46,
          40,
          40,
          49.2,
          47.2,
          43.8,
          48,
          46,
          46,
          46,
          46,
          47.5,
          50.7,
          40,
          40,
          40,
          40,
          40,
          57.2,
          40,
          46,
          46,
          40,
          40,
          50.9,
          50,
          46,
          40,
          46,
          46,
          46,
          48.3,
          43,
          43,
          51,
          40,
          54.2,
          46.5,
          46.3,
          46,
          46,
          46,
          43,
          52.9,
          46,
          43,
          43,
          43,
          45.4,
          50,
          49.9,
          52.3,
          40,
          54.2,
          43,
          43,
          43,
          40,
          40,
          40,
          46,
          40,
          44.8,
          43,
          40,
          40,
          40,
          40,
          40,
          43,
          40,
          40,
          43,
          40,
          40,
          46,
          40,
          43,
          43,
          40,
          46,
          35,
          50.3,
          60.7,
          42,
          40,
          48,
          40,
          43,
          40,
          40,
          43.4,
          43.8,
          53.5,
          43,
          57,
          51.3,
          48.9,
          48.9,
          46,
          50,
          42,
          43,
          46,
          46,
          46,
          43,
          50,
          50,
          40,
          46,
          40,
          40,
          52,
          40,
          40,
          40,
          40,
          48.2,
          40,
          40,
          40,
          46,
          44,
          41.9,
          42,
          46.3,
          43,
          40,
          49.5,
          40,
          43,
          43,
          40,
          46.3,
          40,
          43,
          40,
          40,
          40,
          50,
          40,
          43,
          44,
          48,
          43,
          46,
          40,
          40,
          46,
          43,
          46.6,
          46,
          43.7,
          43,
          43,
          45.2,
          45.8,
          40,
          43,
          45.8,
          40,
          40,
          48.6,
          46,
          46,
          48,
          49.1,
          41.8,
          41.8,
          51.4,
          54.7,
          42.1,
          45.4,
          54.3,
          50.2,
          44.9,
          50,
          50,
          46.8,
          46,
          46,
          40,
          47.4,
          46.3,
          63.5,
          50,
          42,
          42,
          43,
          48.8,
          45,
          48.3,
          46,
          43,
          43,
          56.3,
          45.8,
          40,
          55.2,
          43,
          40,
          43,
          50,
          46,
          51.8,
          40,
          43,
          52.3,
          57.4,
          60.8,
          60.1,
          56.7,
          55.1,
          55.7,
          40,
          40,
          46,
          43,
          60.3,
          54.7,
          51.4,
          53.3,
          55,
          57.3,
          55,
          56.5,
          58.4,
          40,
          46,
          44,
          46,
          51.4,
          45,
          48.9,
          46.7,
          43,
          43,
          40,
          46,
          61.3,
          59.8,
          48.4,
          40,
          50.4,
          17,
          50,
          46,
          46,
          46,
          46.8,
          48.5,
          50,
          47.3,
          40,
          40,
          40,
          61,
          57.7,
          57.9,
          52.5,
          46,
          46,
          46,
          40,
          54.8,
          48.9,
          60.1,
          54.4,
          50,
          46,
          53.9,
          51.1,
          52.7,
          54.5,
          40.2,
          50.8,
          43.8,
          59,
          56.6,
          52.3,
          58.6,
          57.6,
          51.1,
          51.4,
          46,
          46,
          40,
          57.4,
          57.5,
          44.5,
          50.2,
          41.9,
          48.5,
          59.4,
          48,
          48,
          50,
          59,
          50,
          48.2,
          42.6,
          41.6,
          43.4,
          40,
          58.2,
          53,
          42.5,
          45.3,
          40,
          47.7,
          50,
          63.3,
          48.6,
          46,
          51.7,
          57.8,
          55.5,
          45.8,
          57.8,
          58.7,
          61.7,
          64.6,
          49.1,
          51.3,
          55.8,
          50.1,
          45.9,
          40,
          50.1,
          55.8,
          56.9,
          43,
          46,
          52.6,
          56.9,
          43,
          43,
          43,
          46,
          46,
          60.5,
          50.4,
          46.3,
          46.4,
          50,
          57.6,
          50.9,
          40,
          53.1,
          42,
          54.6,
          46,
          46,
          51.7,
          56.7,
          58.4,
          50.1,
          44.3,
          46,
          46,
          42,
          40,
          40,
          52,
          40,
          43,
          63.5,
          49,
          40,
          40,
          43,
          43.6,
          47.1,
          49.9,
          40.2,
          54.4,
          54.2,
          50.4,
          50.1,
          45.6,
          45.7,
          50.1,
          43.4,
          49.1,
          41.8,
          41.8,
          51.4,
          54.7,
          42.1,
          45.4,
          54.3,
          50.2,
          44.9,
          50,
          50,
          46.8,
          46,
          46,
          40,
          47.4,
          46.3,
          63.5,
          50,
          42,
          42,
          43,
          48.8,
          45,
          48.3,
          46,
          43,
          43,
          56.3,
          45.8,
          40,
          55.2,
          43,
          40,
          43,
          50,
          46,
          51.8,
          40,
          43,
          52.3,
          57.4,
          60.8,
          60.1,
          56.7,
          55.1,
          55.7,
          40,
          40,
          46,
          43,
          60.3,
          54.7,
          51.4,
          53.3,
          55,
          57.3,
          55,
          56.5,
          58.4,
          40,
          46,
          44,
          46,
          51.4,
          45,
          48.9,
          46.7,
          43,
          43,
          40,
          46,
          61.3,
          59.8,
          48.4,
          40,
          50.4,
          17,
          50,
          46,
          46,
          46,
          46.8,
          48.5,
          50,
          47.3,
          40,
          40,
          40,
          61,
          57.7,
          57.9,
          52.5,
          46,
          46,
          46,
          40,
          54.8,
          48.9,
          59.9,
          46.2,
          47,
          56.3,
          46,
          58.6,
          46,
          46,
          46,
          48,
          43,
          40,
          46,
          46,
          46,
          56.1,
          46,
          43,
          40,
          46,
          50,
          46,
          46,
          50,
          46,
          46,
          43,
          57.8,
          40.5,
          48.1,
          43.6,
          50,
          51.8,
          51.2,
          40,
          46,
          59.1,
          62.4,
          46,
          40,
          40,
          40,
          40,
          40,
          40,
          40,
          40,
          40,
          61.2,
          58.5,
          61.6,
          61.2,
          59.4,
          59.5,
          55,
          55.3,
          51.8,
          54.3,
          50.3,
          48.1,
          46.7,
          43.2,
          43,
          43,
          58.3,
          46,
          46,
          58.4,
          43,
          60.3,
          54.5,
          40,
          43,
          54.2,
          40,
          50,
          48,
          46,
          43,
          46,
          46,
          50,
          45.5,
          40,
          46,
          59.2,
          46.3,
          46,
          46,
          50,
          54.4,
          46,
          46,
          47.8,
          43,
          47.9,
          46,
          46,
          40,
          40,
          43,
          40,
          43,
          49.3,
          50,
          57.3,
          47.2,
          50,
          50,
          50,
          58.5,
          50,
          59.3,
          46.7,
          40,
          50,
          50,
          50.2,
          43,
          53.3,
          43,
          56,
          48.2,
          44.3,
          41.1,
          40,
          46,
          45.8,
          43,
          40,
          46.8,
          40,
          44,
          54.1,
          46,
          57.6,
          46,
          50,
          46,
          55.2,
          50,
          40,
          56.5,
          46.9,
          46,
          40,
          40,
          40,
          46.2,
          40,
          48.2,
          51.4,
          40,
          43,
          50,
          51.3,
          46,
          56.5,
          40,
          48,
          50,
          46,
          52.4,
          40,
          40,
          40,
          40,
          40,
          46,
          53.5,
          46,
          46,
          40,
          48,
          40,
          47.4,
          43,
          50,
          50,
          40,
          50,
          50,
          40,
          46,
          46,
          40,
          50,
          40,
          46,
          46,
          60.5,
          46,
          46,
          40,
          43,
          48.1,
          46,
          46,
          45.6,
          48,
          63,
          40,
          46,
          45.9,
          40,
          58.5,
          49.9,
          48.8,
          50.9,
          55.9,
          53.3,
          50.4,
          44.5,
          42.1,
          46.6,
          56.7,
          46,
          48,
          45,
          42,
          40,
          46,
          40,
          43,
          40,
          43,
          43,
          50,
          40,
          40,
          40,
          40,
          40,
          40,
          40,
          59.5,
          46,
          40,
          40,
          47.4,
          46,
          46,
          40,
          44.2,
          52,
          48,
          40,
          43,
          43,
          46.6,
          46.6,
          46.3,
          42,
          55.8,
          40,
          41.3,
          52.6,
          46,
          49.2,
          53.3,
          48,
          40,
          40,
          48.6,
          44,
          41.7,
          42.5,
          46,
          46,
          51.3,
          40,
          56.1,
          55,
          46,
          57,
          50,
          40,
          50.5,
          64,
          42.3,
          59.2,
          54.4,
          56.9,
          60.39,
          54.9,
          51.4,
          55.3,
          59.8,
          55,
          40,
          40,
          40,
          45.2,
          50.6,
          48.6,
          46,
          46,
          47,
          57.6,
          44.2,
          47.1,
          49.6,
          44.5,
          42.7,
          48.6,
          45.6,
          56.2,
          55.6,
          51.8,
          46.4,
          47.4,
          45.3,
          41.7,
          41.7,
          50.3,
          46.7,
          44,
          40,
          40,
          40,
          19.8,
          17,
          40,
          40,
          40,
          40,
          40,
          43,
          46.3,
          43,
          40,
          40,
          47,
          50,
          46,
          46,
          48.7,
          42.6,
          40,
          40,
          40,
          40,
          58.6,
          46,
          40,
          40,
          50,
          46,
          40,
          40,
          43,
          40,
          40,
          40,
          40,
          40,
          40,
          45,
          40,
          46.3,
          40,
          45.8,
          40,
          60.1,
          46,
          40,
          40,
          40,
          43,
          40,
          46,
          46,
          44,
          40,
          40,
          40,
          59.1,
          48,
          43,
          58.5,
          44,
          46
         ]
        }
       ],
       "layout": {
        "barmode": "overlay",
        "legend": {
         "bgcolor": "#F5F6F9",
         "font": {
          "color": "#4D5663"
         }
        },
        "paper_bgcolor": "#F5F6F9",
        "plot_bgcolor": "#F5F6F9",
        "template": {
         "data": {
          "bar": [
           {
            "error_x": {
             "color": "#2a3f5f"
            },
            "error_y": {
             "color": "#2a3f5f"
            },
            "marker": {
             "line": {
              "color": "#E5ECF6",
              "width": 0.5
             }
            },
            "type": "bar"
           }
          ],
          "barpolar": [
           {
            "marker": {
             "line": {
              "color": "#E5ECF6",
              "width": 0.5
             }
            },
            "type": "barpolar"
           }
          ],
          "carpet": [
           {
            "aaxis": {
             "endlinecolor": "#2a3f5f",
             "gridcolor": "white",
             "linecolor": "white",
             "minorgridcolor": "white",
             "startlinecolor": "#2a3f5f"
            },
            "baxis": {
             "endlinecolor": "#2a3f5f",
             "gridcolor": "white",
             "linecolor": "white",
             "minorgridcolor": "white",
             "startlinecolor": "#2a3f5f"
            },
            "type": "carpet"
           }
          ],
          "choropleth": [
           {
            "colorbar": {
             "outlinewidth": 0,
             "ticks": ""
            },
            "type": "choropleth"
           }
          ],
          "contour": [
           {
            "colorbar": {
             "outlinewidth": 0,
             "ticks": ""
            },
            "colorscale": [
             [
              0,
              "#0d0887"
             ],
             [
              0.1111111111111111,
              "#46039f"
             ],
             [
              0.2222222222222222,
              "#7201a8"
             ],
             [
              0.3333333333333333,
              "#9c179e"
             ],
             [
              0.4444444444444444,
              "#bd3786"
             ],
             [
              0.5555555555555556,
              "#d8576b"
             ],
             [
              0.6666666666666666,
              "#ed7953"
             ],
             [
              0.7777777777777778,
              "#fb9f3a"
             ],
             [
              0.8888888888888888,
              "#fdca26"
             ],
             [
              1,
              "#f0f921"
             ]
            ],
            "type": "contour"
           }
          ],
          "contourcarpet": [
           {
            "colorbar": {
             "outlinewidth": 0,
             "ticks": ""
            },
            "type": "contourcarpet"
           }
          ],
          "heatmap": [
           {
            "colorbar": {
             "outlinewidth": 0,
             "ticks": ""
            },
            "colorscale": [
             [
              0,
              "#0d0887"
             ],
             [
              0.1111111111111111,
              "#46039f"
             ],
             [
              0.2222222222222222,
              "#7201a8"
             ],
             [
              0.3333333333333333,
              "#9c179e"
             ],
             [
              0.4444444444444444,
              "#bd3786"
             ],
             [
              0.5555555555555556,
              "#d8576b"
             ],
             [
              0.6666666666666666,
              "#ed7953"
             ],
             [
              0.7777777777777778,
              "#fb9f3a"
             ],
             [
              0.8888888888888888,
              "#fdca26"
             ],
             [
              1,
              "#f0f921"
             ]
            ],
            "type": "heatmap"
           }
          ],
          "heatmapgl": [
           {
            "colorbar": {
             "outlinewidth": 0,
             "ticks": ""
            },
            "colorscale": [
             [
              0,
              "#0d0887"
             ],
             [
              0.1111111111111111,
              "#46039f"
             ],
             [
              0.2222222222222222,
              "#7201a8"
             ],
             [
              0.3333333333333333,
              "#9c179e"
             ],
             [
              0.4444444444444444,
              "#bd3786"
             ],
             [
              0.5555555555555556,
              "#d8576b"
             ],
             [
              0.6666666666666666,
              "#ed7953"
             ],
             [
              0.7777777777777778,
              "#fb9f3a"
             ],
             [
              0.8888888888888888,
              "#fdca26"
             ],
             [
              1,
              "#f0f921"
             ]
            ],
            "type": "heatmapgl"
           }
          ],
          "histogram": [
           {
            "marker": {
             "colorbar": {
              "outlinewidth": 0,
              "ticks": ""
             }
            },
            "type": "histogram"
           }
          ],
          "histogram2d": [
           {
            "colorbar": {
             "outlinewidth": 0,
             "ticks": ""
            },
            "colorscale": [
             [
              0,
              "#0d0887"
             ],
             [
              0.1111111111111111,
              "#46039f"
             ],
             [
              0.2222222222222222,
              "#7201a8"
             ],
             [
              0.3333333333333333,
              "#9c179e"
             ],
             [
              0.4444444444444444,
              "#bd3786"
             ],
             [
              0.5555555555555556,
              "#d8576b"
             ],
             [
              0.6666666666666666,
              "#ed7953"
             ],
             [
              0.7777777777777778,
              "#fb9f3a"
             ],
             [
              0.8888888888888888,
              "#fdca26"
             ],
             [
              1,
              "#f0f921"
             ]
            ],
            "type": "histogram2d"
           }
          ],
          "histogram2dcontour": [
           {
            "colorbar": {
             "outlinewidth": 0,
             "ticks": ""
            },
            "colorscale": [
             [
              0,
              "#0d0887"
             ],
             [
              0.1111111111111111,
              "#46039f"
             ],
             [
              0.2222222222222222,
              "#7201a8"
             ],
             [
              0.3333333333333333,
              "#9c179e"
             ],
             [
              0.4444444444444444,
              "#bd3786"
             ],
             [
              0.5555555555555556,
              "#d8576b"
             ],
             [
              0.6666666666666666,
              "#ed7953"
             ],
             [
              0.7777777777777778,
              "#fb9f3a"
             ],
             [
              0.8888888888888888,
              "#fdca26"
             ],
             [
              1,
              "#f0f921"
             ]
            ],
            "type": "histogram2dcontour"
           }
          ],
          "mesh3d": [
           {
            "colorbar": {
             "outlinewidth": 0,
             "ticks": ""
            },
            "type": "mesh3d"
           }
          ],
          "parcoords": [
           {
            "line": {
             "colorbar": {
              "outlinewidth": 0,
              "ticks": ""
             }
            },
            "type": "parcoords"
           }
          ],
          "pie": [
           {
            "automargin": true,
            "type": "pie"
           }
          ],
          "scatter": [
           {
            "marker": {
             "colorbar": {
              "outlinewidth": 0,
              "ticks": ""
             }
            },
            "type": "scatter"
           }
          ],
          "scatter3d": [
           {
            "line": {
             "colorbar": {
              "outlinewidth": 0,
              "ticks": ""
             }
            },
            "marker": {
             "colorbar": {
              "outlinewidth": 0,
              "ticks": ""
             }
            },
            "type": "scatter3d"
           }
          ],
          "scattercarpet": [
           {
            "marker": {
             "colorbar": {
              "outlinewidth": 0,
              "ticks": ""
             }
            },
            "type": "scattercarpet"
           }
          ],
          "scattergeo": [
           {
            "marker": {
             "colorbar": {
              "outlinewidth": 0,
              "ticks": ""
             }
            },
            "type": "scattergeo"
           }
          ],
          "scattergl": [
           {
            "marker": {
             "colorbar": {
              "outlinewidth": 0,
              "ticks": ""
             }
            },
            "type": "scattergl"
           }
          ],
          "scattermapbox": [
           {
            "marker": {
             "colorbar": {
              "outlinewidth": 0,
              "ticks": ""
             }
            },
            "type": "scattermapbox"
           }
          ],
          "scatterpolar": [
           {
            "marker": {
             "colorbar": {
              "outlinewidth": 0,
              "ticks": ""
             }
            },
            "type": "scatterpolar"
           }
          ],
          "scatterpolargl": [
           {
            "marker": {
             "colorbar": {
              "outlinewidth": 0,
              "ticks": ""
             }
            },
            "type": "scatterpolargl"
           }
          ],
          "scatterternary": [
           {
            "marker": {
             "colorbar": {
              "outlinewidth": 0,
              "ticks": ""
             }
            },
            "type": "scatterternary"
           }
          ],
          "surface": [
           {
            "colorbar": {
             "outlinewidth": 0,
             "ticks": ""
            },
            "colorscale": [
             [
              0,
              "#0d0887"
             ],
             [
              0.1111111111111111,
              "#46039f"
             ],
             [
              0.2222222222222222,
              "#7201a8"
             ],
             [
              0.3333333333333333,
              "#9c179e"
             ],
             [
              0.4444444444444444,
              "#bd3786"
             ],
             [
              0.5555555555555556,
              "#d8576b"
             ],
             [
              0.6666666666666666,
              "#ed7953"
             ],
             [
              0.7777777777777778,
              "#fb9f3a"
             ],
             [
              0.8888888888888888,
              "#fdca26"
             ],
             [
              1,
              "#f0f921"
             ]
            ],
            "type": "surface"
           }
          ],
          "table": [
           {
            "cells": {
             "fill": {
              "color": "#EBF0F8"
             },
             "line": {
              "color": "white"
             }
            },
            "header": {
             "fill": {
              "color": "#C8D4E3"
             },
             "line": {
              "color": "white"
             }
            },
            "type": "table"
           }
          ]
         },
         "layout": {
          "annotationdefaults": {
           "arrowcolor": "#2a3f5f",
           "arrowhead": 0,
           "arrowwidth": 1
          },
          "coloraxis": {
           "colorbar": {
            "outlinewidth": 0,
            "ticks": ""
           }
          },
          "colorscale": {
           "diverging": [
            [
             0,
             "#8e0152"
            ],
            [
             0.1,
             "#c51b7d"
            ],
            [
             0.2,
             "#de77ae"
            ],
            [
             0.3,
             "#f1b6da"
            ],
            [
             0.4,
             "#fde0ef"
            ],
            [
             0.5,
             "#f7f7f7"
            ],
            [
             0.6,
             "#e6f5d0"
            ],
            [
             0.7,
             "#b8e186"
            ],
            [
             0.8,
             "#7fbc41"
            ],
            [
             0.9,
             "#4d9221"
            ],
            [
             1,
             "#276419"
            ]
           ],
           "sequential": [
            [
             0,
             "#0d0887"
            ],
            [
             0.1111111111111111,
             "#46039f"
            ],
            [
             0.2222222222222222,
             "#7201a8"
            ],
            [
             0.3333333333333333,
             "#9c179e"
            ],
            [
             0.4444444444444444,
             "#bd3786"
            ],
            [
             0.5555555555555556,
             "#d8576b"
            ],
            [
             0.6666666666666666,
             "#ed7953"
            ],
            [
             0.7777777777777778,
             "#fb9f3a"
            ],
            [
             0.8888888888888888,
             "#fdca26"
            ],
            [
             1,
             "#f0f921"
            ]
           ],
           "sequentialminus": [
            [
             0,
             "#0d0887"
            ],
            [
             0.1111111111111111,
             "#46039f"
            ],
            [
             0.2222222222222222,
             "#7201a8"
            ],
            [
             0.3333333333333333,
             "#9c179e"
            ],
            [
             0.4444444444444444,
             "#bd3786"
            ],
            [
             0.5555555555555556,
             "#d8576b"
            ],
            [
             0.6666666666666666,
             "#ed7953"
            ],
            [
             0.7777777777777778,
             "#fb9f3a"
            ],
            [
             0.8888888888888888,
             "#fdca26"
            ],
            [
             1,
             "#f0f921"
            ]
           ]
          },
          "colorway": [
           "#636efa",
           "#EF553B",
           "#00cc96",
           "#ab63fa",
           "#FFA15A",
           "#19d3f3",
           "#FF6692",
           "#B6E880",
           "#FF97FF",
           "#FECB52"
          ],
          "font": {
           "color": "#2a3f5f"
          },
          "geo": {
           "bgcolor": "white",
           "lakecolor": "white",
           "landcolor": "#E5ECF6",
           "showlakes": true,
           "showland": true,
           "subunitcolor": "white"
          },
          "hoverlabel": {
           "align": "left"
          },
          "hovermode": "closest",
          "mapbox": {
           "style": "light"
          },
          "paper_bgcolor": "white",
          "plot_bgcolor": "#E5ECF6",
          "polar": {
           "angularaxis": {
            "gridcolor": "white",
            "linecolor": "white",
            "ticks": ""
           },
           "bgcolor": "#E5ECF6",
           "radialaxis": {
            "gridcolor": "white",
            "linecolor": "white",
            "ticks": ""
           }
          },
          "scene": {
           "xaxis": {
            "backgroundcolor": "#E5ECF6",
            "gridcolor": "white",
            "gridwidth": 2,
            "linecolor": "white",
            "showbackground": true,
            "ticks": "",
            "zerolinecolor": "white"
           },
           "yaxis": {
            "backgroundcolor": "#E5ECF6",
            "gridcolor": "white",
            "gridwidth": 2,
            "linecolor": "white",
            "showbackground": true,
            "ticks": "",
            "zerolinecolor": "white"
           },
           "zaxis": {
            "backgroundcolor": "#E5ECF6",
            "gridcolor": "white",
            "gridwidth": 2,
            "linecolor": "white",
            "showbackground": true,
            "ticks": "",
            "zerolinecolor": "white"
           }
          },
          "shapedefaults": {
           "line": {
            "color": "#2a3f5f"
           }
          },
          "ternary": {
           "aaxis": {
            "gridcolor": "white",
            "linecolor": "white",
            "ticks": ""
           },
           "baxis": {
            "gridcolor": "white",
            "linecolor": "white",
            "ticks": ""
           },
           "bgcolor": "#E5ECF6",
           "caxis": {
            "gridcolor": "white",
            "linecolor": "white",
            "ticks": ""
           }
          },
          "title": {
           "x": 0.05
          },
          "xaxis": {
           "automargin": true,
           "gridcolor": "white",
           "linecolor": "white",
           "ticks": "",
           "title": {
            "standoff": 15
           },
           "zerolinecolor": "white",
           "zerolinewidth": 2
          },
          "yaxis": {
           "automargin": true,
           "gridcolor": "white",
           "linecolor": "white",
           "ticks": "",
           "title": {
            "standoff": 15
           },
           "zerolinecolor": "white",
           "zerolinewidth": 2
          }
         }
        },
        "title": {
         "font": {
          "color": "#4D5663"
         }
        },
        "xaxis": {
         "gridcolor": "#E1E5ED",
         "showgrid": true,
         "tickfont": {
          "color": "#4D5663"
         },
         "title": {
          "font": {
           "color": "#4D5663"
          },
          "text": ""
         },
         "zerolinecolor": "#E1E5ED"
        },
        "yaxis": {
         "gridcolor": "#E1E5ED",
         "showgrid": true,
         "tickfont": {
          "color": "#4D5663"
         },
         "title": {
          "font": {
           "color": "#4D5663"
          },
          "text": ""
         },
         "zerolinecolor": "#E1E5ED"
        }
       }
      },
      "text/html": [
       "<div>                            <div id=\"57a4c42a-9fbf-4f0e-a7e8-95a531a35d16\" class=\"plotly-graph-div\" style=\"height:525px; width:100%;\"></div>            <script type=\"text/javascript\">                require([\"plotly\"], function(Plotly) {                    window.PLOTLYENV=window.PLOTLYENV || {};\n",
       "                    window.PLOTLYENV.BASE_URL='https://plot.ly';                                    if (document.getElementById(\"57a4c42a-9fbf-4f0e-a7e8-95a531a35d16\")) {                    Plotly.newPlot(                        \"57a4c42a-9fbf-4f0e-a7e8-95a531a35d16\",                        [{\"histfunc\": \"count\", \"histnorm\": \"\", \"marker\": {\"color\": \"rgba(255, 153, 51, 1.0)\", \"line\": {\"color\": \"#4D5663\", \"width\": 1.3}}, \"name\": \"ABV\", \"opacity\": 0.8, \"orientation\": \"v\", \"type\": \"histogram\", \"x\": [43.0, 43.0, 46.0, 46.0, 40.0, 47.5, 58.4, 56.4, 52.6, 40.0, 46.3, 55.4, 49.6, 40.0, 40.0, 59.6, 45.5, 46.0, 47.3, 46.0, 53.0, 60.2, 46.8, 46.0, 56.0, 45.8, 40.0, 40.0, 40.0, 40.0, 40.0, 40.0, 40.0, 46.0, 46.0, 46.0, 48.9, 49.5, 40.0, 40.0, 56.1, 58.6, 54.0, 54.3, 61.7, 45.1, 47.4, 43.0, 50.0, 43.6, 45.1, 40.0, 43.0, 48.0, 54.1, 47.8, 53.6, 46.0, 43.0, 45.0, 46.6, 42.5, 58.6, 55.8, 50.0, 49.3, 52.3, 50.0, 46.3, 51.4, 52.4, 58.2, 46.0, 43.0, 46.0, 46.0, 47.0, 46.0, 50.8, 51.9, 56.0, 56.4, 57.9, 55.1, 50.0, 46.3, 52.3, 54.7, 55.1, 55.2, 53.4, 47.0, 55.1, 43.0, 50.2, 43.0, 40.0, 40.0, 60.1, 51.8, 48.7, 43.0, 52.8, 42.3, 45.4, 49.0, 46.0, 46.0, 57.8, 46.0, 49.9, 40.0, 40.0, 40.0, 55.8, 56.2, 43.0, 45.1, 53.5, 40.0, 54.0, 48.8, 48.0, 40.8, 46.0, 46.5, 54.2, 50.0, 43.8, 53.4, 46.0, 40.0, 40.0, 49.2, 47.2, 43.8, 48.0, 46.0, 46.0, 46.0, 46.0, 47.5, 50.7, 40.0, 40.0, 40.0, 40.0, 40.0, 57.2, 40.0, 46.0, 46.0, 40.0, 40.0, 50.9, 50.0, 46.0, 40.0, 46.0, 46.0, 46.0, 48.3, 43.0, 43.0, 51.0, 40.0, 54.2, 46.5, 46.3, 46.0, 46.0, 46.0, 43.0, 52.9, 46.0, 43.0, 43.0, 43.0, 45.4, 50.0, 49.9, 52.3, 40.0, 54.2, 43.0, 43.0, 43.0, 40.0, 40.0, 40.0, 46.0, 40.0, 44.8, 43.0, 40.0, 40.0, 40.0, 40.0, 40.0, 43.0, 40.0, 40.0, 43.0, 40.0, 40.0, 46.0, 40.0, 43.0, 43.0, 40.0, 46.0, 35.0, 50.3, 60.7, 42.0, 40.0, 48.0, 40.0, 43.0, 40.0, 40.0, 43.4, 43.8, 53.5, 43.0, 57.0, 51.3, 48.9, 48.9, 46.0, 50.0, 42.0, 43.0, 46.0, 46.0, 46.0, 43.0, 50.0, 50.0, 40.0, 46.0, 40.0, 40.0, 52.0, 40.0, 40.0, 40.0, 40.0, 48.2, 40.0, 40.0, 40.0, 46.0, 44.0, 41.9, 42.0, 46.3, 43.0, 40.0, 49.5, 40.0, 43.0, 43.0, 40.0, 46.3, 40.0, 43.0, 40.0, 40.0, 40.0, 50.0, 40.0, 43.0, 44.0, 48.0, 43.0, 46.0, 40.0, 40.0, 46.0, 43.0, 46.6, 46.0, 43.7, 43.0, 43.0, 45.2, 45.8, 40.0, 43.0, 45.8, 40.0, 40.0, 48.6, 46.0, 46.0, 48.0, 49.1, 41.8, 41.8, 51.4, 54.7, 42.1, 45.4, 54.3, 50.2, 44.9, 50.0, 50.0, 46.8, 46.0, 46.0, 40.0, 47.4, 46.3, 63.5, 50.0, 42.0, 42.0, 43.0, 48.8, 45.0, 48.3, 46.0, 43.0, 43.0, 56.3, 45.8, 40.0, 55.2, 43.0, 40.0, 43.0, 50.0, 46.0, 51.8, 40.0, 43.0, 52.3, 57.4, 60.8, 60.1, 56.7, 55.1, 55.7, 40.0, 40.0, 46.0, 43.0, 60.3, 54.7, 51.4, 53.3, 55.0, 57.3, 55.0, 56.5, 58.4, 40.0, 46.0, 44.0, 46.0, 51.4, 45.0, 48.9, 46.7, 43.0, 43.0, 40.0, 46.0, 61.3, 59.8, 48.4, 40.0, 50.4, 17.0, 50.0, 46.0, 46.0, 46.0, 46.8, 48.5, 50.0, 47.3, 40.0, 40.0, 40.0, 61.0, 57.7, 57.9, 52.5, 46.0, 46.0, 46.0, 40.0, 54.8, 48.9, 60.1, 54.4, 50.0, 46.0, 53.9, 51.1, 52.7, 54.5, 40.2, 50.8, 43.8, 59.0, 56.6, 52.3, 58.6, 57.6, 51.1, 51.4, 46.0, 46.0, 40.0, 57.4, 57.5, 44.5, 50.2, 41.9, 48.5, 59.4, 48.0, 48.0, 50.0, 59.0, 50.0, 48.2, 42.6, 41.6, 43.4, 40.0, 58.2, 53.0, 42.5, 45.3, 40.0, 47.7, 50.0, 63.3, 48.6, 46.0, 51.7, 57.8, 55.5, 45.8, 57.8, 58.7, 61.7, 64.6, 49.1, 51.3, 55.8, 50.1, 45.9, 40.0, 50.1, 55.8, 56.9, 43.0, 46.0, 52.6, 56.9, 43.0, 43.0, 43.0, 46.0, 46.0, 60.5, 50.4, 46.3, 46.4, 50.0, 57.6, 50.9, 40.0, 53.1, 42.0, 54.6, 46.0, 46.0, 51.7, 56.7, 58.4, 50.1, 44.3, 46.0, 46.0, 42.0, 40.0, 40.0, 52.0, 40.0, 43.0, 63.5, 49.0, 40.0, 40.0, 43.0, 43.6, 47.1, 49.9, 40.2, 54.4, 54.2, 50.4, 50.1, 45.6, 45.7, 50.1, 43.4, 49.1, 41.8, 41.8, 51.4, 54.7, 42.1, 45.4, 54.3, 50.2, 44.9, 50.0, 50.0, 46.8, 46.0, 46.0, 40.0, 47.4, 46.3, 63.5, 50.0, 42.0, 42.0, 43.0, 48.8, 45.0, 48.3, 46.0, 43.0, 43.0, 56.3, 45.8, 40.0, 55.2, 43.0, 40.0, 43.0, 50.0, 46.0, 51.8, 40.0, 43.0, 52.3, 57.4, 60.8, 60.1, 56.7, 55.1, 55.7, 40.0, 40.0, 46.0, 43.0, 60.3, 54.7, 51.4, 53.3, 55.0, 57.3, 55.0, 56.5, 58.4, 40.0, 46.0, 44.0, 46.0, 51.4, 45.0, 48.9, 46.7, 43.0, 43.0, 40.0, 46.0, 61.3, 59.8, 48.4, 40.0, 50.4, 17.0, 50.0, 46.0, 46.0, 46.0, 46.8, 48.5, 50.0, 47.3, 40.0, 40.0, 40.0, 61.0, 57.7, 57.9, 52.5, 46.0, 46.0, 46.0, 40.0, 54.8, 48.9, 59.9, 46.2, 47.0, 56.3, 46.0, 58.6, 46.0, 46.0, 46.0, 48.0, 43.0, 40.0, 46.0, 46.0, 46.0, 56.1, 46.0, 43.0, 40.0, 46.0, 50.0, 46.0, 46.0, 50.0, 46.0, 46.0, 43.0, 57.8, 40.5, 48.1, 43.6, 50.0, 51.8, 51.2, 40.0, 46.0, 59.1, 62.4, 46.0, 40.0, 40.0, 40.0, 40.0, 40.0, 40.0, 40.0, 40.0, 40.0, 61.2, 58.5, 61.6, 61.2, 59.4, 59.5, 55.0, 55.3, 51.8, 54.3, 50.3, 48.1, 46.7, 43.2, 43.0, 43.0, 58.3, 46.0, 46.0, 58.4, 43.0, 60.3, 54.5, 40.0, 43.0, 54.2, 40.0, 50.0, 48.0, 46.0, 43.0, 46.0, 46.0, 50.0, 45.5, 40.0, 46.0, 59.2, 46.3, 46.0, 46.0, 50.0, 54.4, 46.0, 46.0, 47.8, 43.0, 47.9, 46.0, 46.0, 40.0, 40.0, 43.0, 40.0, 43.0, 49.3, 50.0, 57.3, 47.2, 50.0, 50.0, 50.0, 58.5, 50.0, 59.3, 46.7, 40.0, 50.0, 50.0, 50.2, 43.0, 53.3, 43.0, 56.0, 48.2, 44.3, 41.1, 40.0, 46.0, 45.8, 43.0, 40.0, 46.8, 40.0, 44.0, 54.1, 46.0, 57.6, 46.0, 50.0, 46.0, 55.2, 50.0, 40.0, 56.5, 46.9, 46.0, 40.0, 40.0, 40.0, 46.2, 40.0, 48.2, 51.4, 40.0, 43.0, 50.0, 51.3, 46.0, 56.5, 40.0, 48.0, 50.0, 46.0, 52.4, 40.0, 40.0, 40.0, 40.0, 40.0, 46.0, 53.5, 46.0, 46.0, 40.0, 48.0, 40.0, 47.4, 43.0, 50.0, 50.0, 40.0, 50.0, 50.0, 40.0, 46.0, 46.0, 40.0, 50.0, 40.0, 46.0, 46.0, 60.5, 46.0, 46.0, 40.0, 43.0, 48.1, 46.0, 46.0, 45.6, 48.0, 63.0, 40.0, 46.0, 45.9, 40.0, 58.5, 49.9, 48.8, 50.9, 55.9, 53.3, 50.4, 44.5, 42.1, 46.6, 56.7, 46.0, 48.0, 45.0, 42.0, 40.0, 46.0, 40.0, 43.0, 40.0, 43.0, 43.0, 50.0, 40.0, 40.0, 40.0, 40.0, 40.0, 40.0, 40.0, 59.5, 46.0, 40.0, 40.0, 47.4, 46.0, 46.0, 40.0, 44.2, 52.0, 48.0, 40.0, 43.0, 43.0, 46.6, 46.6, 46.3, 42.0, 55.8, 40.0, 41.3, 52.6, 46.0, 49.2, 53.3, 48.0, 40.0, 40.0, 48.6, 44.0, 41.7, 42.5, 46.0, 46.0, 51.3, 40.0, 56.1, 55.0, 46.0, 57.0, 50.0, 40.0, 50.5, 64.0, 42.3, 59.2, 54.4, 56.9, 60.39, 54.9, 51.4, 55.3, 59.8, 55.0, 40.0, 40.0, 40.0, 45.2, 50.6, 48.6, 46.0, 46.0, 47.0, 57.6, 44.2, 47.1, 49.6, 44.5, 42.7, 48.6, 45.6, 56.2, 55.6, 51.8, 46.4, 47.4, 45.3, 41.7, 41.7, 50.3, 46.7, 44.0, 40.0, 40.0, 40.0, 19.8, 17.0, 40.0, 40.0, 40.0, 40.0, 40.0, 43.0, 46.3, 43.0, 40.0, 40.0, 47.0, 50.0, 46.0, 46.0, 48.7, 42.6, 40.0, 40.0, 40.0, 40.0, 58.6, 46.0, 40.0, 40.0, 50.0, 46.0, 40.0, 40.0, 43.0, 40.0, 40.0, 40.0, 40.0, 40.0, 40.0, 45.0, 40.0, 46.3, 40.0, 45.8, 40.0, 60.1, 46.0, 40.0, 40.0, 40.0, 43.0, 40.0, 46.0, 46.0, 44.0, 40.0, 40.0, 40.0, 59.1, 48.0, 43.0, 58.5, 44.0, 46.0]}],                        {\"barmode\": \"overlay\", \"legend\": {\"bgcolor\": \"#F5F6F9\", \"font\": {\"color\": \"#4D5663\"}}, \"paper_bgcolor\": \"#F5F6F9\", \"plot_bgcolor\": \"#F5F6F9\", \"template\": {\"data\": {\"bar\": [{\"error_x\": {\"color\": \"#2a3f5f\"}, \"error_y\": {\"color\": \"#2a3f5f\"}, \"marker\": {\"line\": {\"color\": \"#E5ECF6\", \"width\": 0.5}}, \"type\": \"bar\"}], \"barpolar\": [{\"marker\": {\"line\": {\"color\": \"#E5ECF6\", \"width\": 0.5}}, \"type\": \"barpolar\"}], \"carpet\": [{\"aaxis\": {\"endlinecolor\": \"#2a3f5f\", \"gridcolor\": \"white\", \"linecolor\": \"white\", \"minorgridcolor\": \"white\", \"startlinecolor\": \"#2a3f5f\"}, \"baxis\": {\"endlinecolor\": \"#2a3f5f\", \"gridcolor\": \"white\", \"linecolor\": \"white\", \"minorgridcolor\": \"white\", \"startlinecolor\": \"#2a3f5f\"}, \"type\": \"carpet\"}], \"choropleth\": [{\"colorbar\": {\"outlinewidth\": 0, \"ticks\": \"\"}, \"type\": \"choropleth\"}], \"contour\": [{\"colorbar\": {\"outlinewidth\": 0, \"ticks\": \"\"}, \"colorscale\": [[0.0, \"#0d0887\"], [0.1111111111111111, \"#46039f\"], [0.2222222222222222, \"#7201a8\"], [0.3333333333333333, \"#9c179e\"], [0.4444444444444444, \"#bd3786\"], [0.5555555555555556, \"#d8576b\"], [0.6666666666666666, \"#ed7953\"], [0.7777777777777778, \"#fb9f3a\"], [0.8888888888888888, \"#fdca26\"], [1.0, \"#f0f921\"]], \"type\": \"contour\"}], \"contourcarpet\": [{\"colorbar\": {\"outlinewidth\": 0, \"ticks\": \"\"}, \"type\": \"contourcarpet\"}], \"heatmap\": [{\"colorbar\": {\"outlinewidth\": 0, \"ticks\": \"\"}, \"colorscale\": [[0.0, \"#0d0887\"], [0.1111111111111111, \"#46039f\"], [0.2222222222222222, \"#7201a8\"], [0.3333333333333333, \"#9c179e\"], [0.4444444444444444, \"#bd3786\"], [0.5555555555555556, \"#d8576b\"], [0.6666666666666666, \"#ed7953\"], [0.7777777777777778, \"#fb9f3a\"], [0.8888888888888888, \"#fdca26\"], [1.0, \"#f0f921\"]], \"type\": \"heatmap\"}], \"heatmapgl\": [{\"colorbar\": {\"outlinewidth\": 0, \"ticks\": \"\"}, \"colorscale\": [[0.0, \"#0d0887\"], [0.1111111111111111, \"#46039f\"], [0.2222222222222222, \"#7201a8\"], [0.3333333333333333, \"#9c179e\"], [0.4444444444444444, \"#bd3786\"], [0.5555555555555556, \"#d8576b\"], [0.6666666666666666, \"#ed7953\"], [0.7777777777777778, \"#fb9f3a\"], [0.8888888888888888, \"#fdca26\"], [1.0, \"#f0f921\"]], \"type\": \"heatmapgl\"}], \"histogram\": [{\"marker\": {\"colorbar\": {\"outlinewidth\": 0, \"ticks\": \"\"}}, \"type\": \"histogram\"}], \"histogram2d\": [{\"colorbar\": {\"outlinewidth\": 0, \"ticks\": \"\"}, \"colorscale\": [[0.0, \"#0d0887\"], [0.1111111111111111, \"#46039f\"], [0.2222222222222222, \"#7201a8\"], [0.3333333333333333, \"#9c179e\"], [0.4444444444444444, \"#bd3786\"], [0.5555555555555556, \"#d8576b\"], [0.6666666666666666, \"#ed7953\"], [0.7777777777777778, \"#fb9f3a\"], [0.8888888888888888, \"#fdca26\"], [1.0, \"#f0f921\"]], \"type\": \"histogram2d\"}], \"histogram2dcontour\": [{\"colorbar\": {\"outlinewidth\": 0, \"ticks\": \"\"}, \"colorscale\": [[0.0, \"#0d0887\"], [0.1111111111111111, \"#46039f\"], [0.2222222222222222, \"#7201a8\"], [0.3333333333333333, \"#9c179e\"], [0.4444444444444444, \"#bd3786\"], [0.5555555555555556, \"#d8576b\"], [0.6666666666666666, \"#ed7953\"], [0.7777777777777778, \"#fb9f3a\"], [0.8888888888888888, \"#fdca26\"], [1.0, \"#f0f921\"]], \"type\": \"histogram2dcontour\"}], \"mesh3d\": [{\"colorbar\": {\"outlinewidth\": 0, \"ticks\": \"\"}, \"type\": \"mesh3d\"}], \"parcoords\": [{\"line\": {\"colorbar\": {\"outlinewidth\": 0, \"ticks\": \"\"}}, \"type\": \"parcoords\"}], \"pie\": [{\"automargin\": true, \"type\": \"pie\"}], \"scatter\": [{\"marker\": {\"colorbar\": {\"outlinewidth\": 0, \"ticks\": \"\"}}, \"type\": \"scatter\"}], \"scatter3d\": [{\"line\": {\"colorbar\": {\"outlinewidth\": 0, \"ticks\": \"\"}}, \"marker\": {\"colorbar\": {\"outlinewidth\": 0, \"ticks\": \"\"}}, \"type\": \"scatter3d\"}], \"scattercarpet\": [{\"marker\": {\"colorbar\": {\"outlinewidth\": 0, \"ticks\": \"\"}}, \"type\": \"scattercarpet\"}], \"scattergeo\": [{\"marker\": {\"colorbar\": {\"outlinewidth\": 0, \"ticks\": \"\"}}, \"type\": \"scattergeo\"}], \"scattergl\": [{\"marker\": {\"colorbar\": {\"outlinewidth\": 0, \"ticks\": \"\"}}, \"type\": \"scattergl\"}], \"scattermapbox\": [{\"marker\": {\"colorbar\": {\"outlinewidth\": 0, \"ticks\": \"\"}}, \"type\": \"scattermapbox\"}], \"scatterpolar\": [{\"marker\": {\"colorbar\": {\"outlinewidth\": 0, \"ticks\": \"\"}}, \"type\": \"scatterpolar\"}], \"scatterpolargl\": [{\"marker\": {\"colorbar\": {\"outlinewidth\": 0, \"ticks\": \"\"}}, \"type\": \"scatterpolargl\"}], \"scatterternary\": [{\"marker\": {\"colorbar\": {\"outlinewidth\": 0, \"ticks\": \"\"}}, \"type\": \"scatterternary\"}], \"surface\": [{\"colorbar\": {\"outlinewidth\": 0, \"ticks\": \"\"}, \"colorscale\": [[0.0, \"#0d0887\"], [0.1111111111111111, \"#46039f\"], [0.2222222222222222, \"#7201a8\"], [0.3333333333333333, \"#9c179e\"], [0.4444444444444444, \"#bd3786\"], [0.5555555555555556, \"#d8576b\"], [0.6666666666666666, \"#ed7953\"], [0.7777777777777778, \"#fb9f3a\"], [0.8888888888888888, \"#fdca26\"], [1.0, \"#f0f921\"]], \"type\": \"surface\"}], \"table\": [{\"cells\": {\"fill\": {\"color\": \"#EBF0F8\"}, \"line\": {\"color\": \"white\"}}, \"header\": {\"fill\": {\"color\": \"#C8D4E3\"}, \"line\": {\"color\": \"white\"}}, \"type\": \"table\"}]}, \"layout\": {\"annotationdefaults\": {\"arrowcolor\": \"#2a3f5f\", \"arrowhead\": 0, \"arrowwidth\": 1}, \"coloraxis\": {\"colorbar\": {\"outlinewidth\": 0, \"ticks\": \"\"}}, \"colorscale\": {\"diverging\": [[0, \"#8e0152\"], [0.1, \"#c51b7d\"], [0.2, \"#de77ae\"], [0.3, \"#f1b6da\"], [0.4, \"#fde0ef\"], [0.5, \"#f7f7f7\"], [0.6, \"#e6f5d0\"], [0.7, \"#b8e186\"], [0.8, \"#7fbc41\"], [0.9, \"#4d9221\"], [1, \"#276419\"]], \"sequential\": [[0.0, \"#0d0887\"], [0.1111111111111111, \"#46039f\"], [0.2222222222222222, \"#7201a8\"], [0.3333333333333333, \"#9c179e\"], [0.4444444444444444, \"#bd3786\"], [0.5555555555555556, \"#d8576b\"], [0.6666666666666666, \"#ed7953\"], [0.7777777777777778, \"#fb9f3a\"], [0.8888888888888888, \"#fdca26\"], [1.0, \"#f0f921\"]], \"sequentialminus\": [[0.0, \"#0d0887\"], [0.1111111111111111, \"#46039f\"], [0.2222222222222222, \"#7201a8\"], [0.3333333333333333, \"#9c179e\"], [0.4444444444444444, \"#bd3786\"], [0.5555555555555556, \"#d8576b\"], [0.6666666666666666, \"#ed7953\"], [0.7777777777777778, \"#fb9f3a\"], [0.8888888888888888, \"#fdca26\"], [1.0, \"#f0f921\"]]}, \"colorway\": [\"#636efa\", \"#EF553B\", \"#00cc96\", \"#ab63fa\", \"#FFA15A\", \"#19d3f3\", \"#FF6692\", \"#B6E880\", \"#FF97FF\", \"#FECB52\"], \"font\": {\"color\": \"#2a3f5f\"}, \"geo\": {\"bgcolor\": \"white\", \"lakecolor\": \"white\", \"landcolor\": \"#E5ECF6\", \"showlakes\": true, \"showland\": true, \"subunitcolor\": \"white\"}, \"hoverlabel\": {\"align\": \"left\"}, \"hovermode\": \"closest\", \"mapbox\": {\"style\": \"light\"}, \"paper_bgcolor\": \"white\", \"plot_bgcolor\": \"#E5ECF6\", \"polar\": {\"angularaxis\": {\"gridcolor\": \"white\", \"linecolor\": \"white\", \"ticks\": \"\"}, \"bgcolor\": \"#E5ECF6\", \"radialaxis\": {\"gridcolor\": \"white\", \"linecolor\": \"white\", \"ticks\": \"\"}}, \"scene\": {\"xaxis\": {\"backgroundcolor\": \"#E5ECF6\", \"gridcolor\": \"white\", \"gridwidth\": 2, \"linecolor\": \"white\", \"showbackground\": true, \"ticks\": \"\", \"zerolinecolor\": \"white\"}, \"yaxis\": {\"backgroundcolor\": \"#E5ECF6\", \"gridcolor\": \"white\", \"gridwidth\": 2, \"linecolor\": \"white\", \"showbackground\": true, \"ticks\": \"\", \"zerolinecolor\": \"white\"}, \"zaxis\": {\"backgroundcolor\": \"#E5ECF6\", \"gridcolor\": \"white\", \"gridwidth\": 2, \"linecolor\": \"white\", \"showbackground\": true, \"ticks\": \"\", \"zerolinecolor\": \"white\"}}, \"shapedefaults\": {\"line\": {\"color\": \"#2a3f5f\"}}, \"ternary\": {\"aaxis\": {\"gridcolor\": \"white\", \"linecolor\": \"white\", \"ticks\": \"\"}, \"baxis\": {\"gridcolor\": \"white\", \"linecolor\": \"white\", \"ticks\": \"\"}, \"bgcolor\": \"#E5ECF6\", \"caxis\": {\"gridcolor\": \"white\", \"linecolor\": \"white\", \"ticks\": \"\"}}, \"title\": {\"x\": 0.05}, \"xaxis\": {\"automargin\": true, \"gridcolor\": \"white\", \"linecolor\": \"white\", \"ticks\": \"\", \"title\": {\"standoff\": 15}, \"zerolinecolor\": \"white\", \"zerolinewidth\": 2}, \"yaxis\": {\"automargin\": true, \"gridcolor\": \"white\", \"linecolor\": \"white\", \"ticks\": \"\", \"title\": {\"standoff\": 15}, \"zerolinecolor\": \"white\", \"zerolinewidth\": 2}}}, \"title\": {\"font\": {\"color\": \"#4D5663\"}}, \"xaxis\": {\"gridcolor\": \"#E1E5ED\", \"showgrid\": true, \"tickfont\": {\"color\": \"#4D5663\"}, \"title\": {\"font\": {\"color\": \"#4D5663\"}, \"text\": \"\"}, \"zerolinecolor\": \"#E1E5ED\"}, \"yaxis\": {\"gridcolor\": \"#E1E5ED\", \"showgrid\": true, \"tickfont\": {\"color\": \"#4D5663\"}, \"title\": {\"font\": {\"color\": \"#4D5663\"}, \"text\": \"\"}, \"zerolinecolor\": \"#E1E5ED\"}},                        {\"showLink\": true, \"linkText\": \"Export to plot.ly\", \"plotlyServerURL\": \"https://plot.ly\", \"responsive\": true}                    ).then(function(){\n",
       "                            \n",
       "var gd = document.getElementById('57a4c42a-9fbf-4f0e-a7e8-95a531a35d16');\n",
       "var x = new MutationObserver(function (mutations, observer) {{\n",
       "        var display = window.getComputedStyle(gd).display;\n",
       "        if (!display || display === 'none') {{\n",
       "            console.log([gd, 'removed!']);\n",
       "            Plotly.purge(gd);\n",
       "            observer.disconnect();\n",
       "        }}\n",
       "}});\n",
       "\n",
       "// Listen for the removal of the full notebook cells\n",
       "var notebookContainer = gd.closest('#notebook-container');\n",
       "if (notebookContainer) {{\n",
       "    x.observe(notebookContainer, {childList: true});\n",
       "}}\n",
       "\n",
       "// Listen for the clearing of the current output cell\n",
       "var outputEl = gd.closest('.output');\n",
       "if (outputEl) {{\n",
       "    x.observe(outputEl, {childList: true});\n",
       "}}\n",
       "\n",
       "                        })                };                });            </script>        </div>"
      ]
     },
     "metadata": {},
     "output_type": "display_data"
    }
   ],
   "source": [
    "df['ABV'].iplot(kind='hist')"
   ]
  },
  {
   "cell_type": "code",
   "execution_count": 49,
   "metadata": {
    "ExecuteTime": {
     "end_time": "2021-01-11T08:39:54.243511Z",
     "start_time": "2021-01-11T08:39:54.215509Z"
    }
   },
   "outputs": [],
   "source": [
    "min_ = df['ABV'].min()\n",
    "max_ = df['ABV'].max()\n",
    "bins=[min_,39,55,max_]\n",
    "labels=['low','normal','high']\n",
    "df['alc_perc'] = pd.cut(df['ABV'], bins=bins, labels=labels)"
   ]
  },
  {
   "cell_type": "markdown",
   "metadata": {},
   "source": [
    "### Final DataFrame"
   ]
  },
  {
   "cell_type": "code",
   "execution_count": 50,
   "metadata": {
    "ExecuteTime": {
     "end_time": "2021-01-11T08:39:54.353521Z",
     "start_time": "2021-01-11T08:39:54.248518Z"
    }
   },
   "outputs": [],
   "source": [
    "df['age_class'] =df['age_class'].astype('object')\n",
    "df['alc_perc'] = df['alc_perc'].astype('object')"
   ]
  },
  {
   "cell_type": "code",
   "execution_count": 51,
   "metadata": {
    "ExecuteTime": {
     "end_time": "2021-01-11T08:39:54.509578Z",
     "start_time": "2021-01-11T08:39:54.356512Z"
    }
   },
   "outputs": [
    {
     "data": {
      "text/html": [
       "<div>\n",
       "<style scoped>\n",
       "    .dataframe tbody tr th:only-of-type {\n",
       "        vertical-align: middle;\n",
       "    }\n",
       "\n",
       "    .dataframe tbody tr th {\n",
       "        vertical-align: top;\n",
       "    }\n",
       "\n",
       "    .dataframe thead th {\n",
       "        text-align: right;\n",
       "    }\n",
       "</style>\n",
       "<table border=\"1\" class=\"dataframe\">\n",
       "  <thead>\n",
       "    <tr style=\"text-align: right;\">\n",
       "      <th></th>\n",
       "      <th>name</th>\n",
       "      <th>Classification</th>\n",
       "      <th>Region</th>\n",
       "      <th>Style</th>\n",
       "      <th>Size</th>\n",
       "      <th>ABV</th>\n",
       "      <th>price</th>\n",
       "      <th>Distillery/Brand</th>\n",
       "      <th>Limited Edition</th>\n",
       "      <th>price_per_litre</th>\n",
       "      <th>price_class</th>\n",
       "      <th>Age</th>\n",
       "      <th>age_class</th>\n",
       "      <th>alc_perc</th>\n",
       "    </tr>\n",
       "  </thead>\n",
       "  <tbody>\n",
       "    <tr>\n",
       "      <th>0</th>\n",
       "      <td>Benromach 21 Year Old</td>\n",
       "      <td>Scotch Whisky</td>\n",
       "      <td>Speyside</td>\n",
       "      <td>Single Malt</td>\n",
       "      <td>70.0</td>\n",
       "      <td>43.0</td>\n",
       "      <td>125.0</td>\n",
       "      <td>Benromach</td>\n",
       "      <td>Yes</td>\n",
       "      <td>178.57</td>\n",
       "      <td>expensive</td>\n",
       "      <td>21</td>\n",
       "      <td>12-50</td>\n",
       "      <td>normal</td>\n",
       "    </tr>\n",
       "    <tr>\n",
       "      <th>1</th>\n",
       "      <td>John Walker &amp; Sons King George V</td>\n",
       "      <td>Scotch Whisky</td>\n",
       "      <td>Scotland</td>\n",
       "      <td>Blend</td>\n",
       "      <td>70.0</td>\n",
       "      <td>43.0</td>\n",
       "      <td>550.0</td>\n",
       "      <td>Johnnie Walker</td>\n",
       "      <td>No</td>\n",
       "      <td>785.71</td>\n",
       "      <td>expensive</td>\n",
       "      <td>&lt;NA&gt;</td>\n",
       "      <td>No Age Statement</td>\n",
       "      <td>normal</td>\n",
       "    </tr>\n",
       "    <tr>\n",
       "      <th>2</th>\n",
       "      <td>Paul John Christmas Edition 2020</td>\n",
       "      <td>Scotch Whisky</td>\n",
       "      <td>India</td>\n",
       "      <td>Single Malt</td>\n",
       "      <td>70.0</td>\n",
       "      <td>46.0</td>\n",
       "      <td>54.9</td>\n",
       "      <td>Paul John</td>\n",
       "      <td>Yes</td>\n",
       "      <td>78.43</td>\n",
       "      <td>affordable</td>\n",
       "      <td>&lt;NA&gt;</td>\n",
       "      <td>No Age Statement</td>\n",
       "      <td>normal</td>\n",
       "    </tr>\n",
       "    <tr>\n",
       "      <th>3</th>\n",
       "      <td>Compass Box Magic Cask</td>\n",
       "      <td>Scotch Whisky</td>\n",
       "      <td>Scotland</td>\n",
       "      <td>Blended Malt</td>\n",
       "      <td>70.0</td>\n",
       "      <td>46.0</td>\n",
       "      <td>157.0</td>\n",
       "      <td>Compass Box</td>\n",
       "      <td>Yes</td>\n",
       "      <td>224.29</td>\n",
       "      <td>expensive</td>\n",
       "      <td>&lt;NA&gt;</td>\n",
       "      <td>No Age Statement</td>\n",
       "      <td>normal</td>\n",
       "    </tr>\n",
       "    <tr>\n",
       "      <th>4</th>\n",
       "      <td>Johnnie Walker Blue Label Chinese New Year 202...</td>\n",
       "      <td>Scotch Whisky</td>\n",
       "      <td>NaN</td>\n",
       "      <td>Blend</td>\n",
       "      <td>70.0</td>\n",
       "      <td>40.0</td>\n",
       "      <td>224.0</td>\n",
       "      <td>Johnnie Walker</td>\n",
       "      <td>Yes</td>\n",
       "      <td>320.00</td>\n",
       "      <td>expensive</td>\n",
       "      <td>&lt;NA&gt;</td>\n",
       "      <td>No Age Statement</td>\n",
       "      <td>normal</td>\n",
       "    </tr>\n",
       "  </tbody>\n",
       "</table>\n",
       "</div>"
      ],
      "text/plain": [
       "                                                name Classification    Region  \\\n",
       "0                              Benromach 21 Year Old  Scotch Whisky  Speyside   \n",
       "1                   John Walker & Sons King George V  Scotch Whisky  Scotland   \n",
       "2                   Paul John Christmas Edition 2020  Scotch Whisky     India   \n",
       "3                             Compass Box Magic Cask  Scotch Whisky  Scotland   \n",
       "4  Johnnie Walker Blue Label Chinese New Year 202...  Scotch Whisky       NaN   \n",
       "\n",
       "          Style  Size   ABV  price Distillery/Brand Limited Edition  \\\n",
       "0   Single Malt  70.0  43.0  125.0        Benromach             Yes   \n",
       "1         Blend  70.0  43.0  550.0   Johnnie Walker              No   \n",
       "2   Single Malt  70.0  46.0   54.9        Paul John             Yes   \n",
       "3  Blended Malt  70.0  46.0  157.0      Compass Box             Yes   \n",
       "4         Blend  70.0  40.0  224.0   Johnnie Walker             Yes   \n",
       "\n",
       "   price_per_litre price_class   Age         age_class alc_perc  \n",
       "0           178.57   expensive    21             12-50   normal  \n",
       "1           785.71   expensive  <NA>  No Age Statement   normal  \n",
       "2            78.43  affordable  <NA>  No Age Statement   normal  \n",
       "3           224.29   expensive  <NA>  No Age Statement   normal  \n",
       "4           320.00   expensive  <NA>  No Age Statement   normal  "
      ]
     },
     "execution_count": 51,
     "metadata": {},
     "output_type": "execute_result"
    }
   ],
   "source": [
    "df.head()"
   ]
  },
  {
   "cell_type": "code",
   "execution_count": 52,
   "metadata": {
    "ExecuteTime": {
     "end_time": "2021-01-11T08:39:54.853639Z",
     "start_time": "2021-01-11T08:39:54.513582Z"
    }
   },
   "outputs": [
    {
     "data": {
      "application/vnd.plotly.v1+json": {
       "config": {
        "linkText": "Export to plot.ly",
        "plotlyServerURL": "https://plot.ly",
        "showLink": true
       },
       "data": [
        {
         "histfunc": "count",
         "histnorm": "",
         "marker": {
          "color": "rgba(255, 153, 51, 1.0)",
          "line": {
           "color": "#4D5663",
           "width": 1.3
          }
         },
         "name": "Style",
         "opacity": 0.8,
         "orientation": "v",
         "type": "histogram",
         "x": [
          "Single Malt",
          "Blend",
          "Single Malt",
          "Blended Malt",
          "Blend",
          "Single Malt",
          "Single Malt",
          "Single Malt",
          "Single Malt",
          "Blend",
          "Single Malt",
          "Single Malt",
          "Single Malt",
          "Blend",
          "Blend",
          "Single Malt",
          null,
          "Single Malt",
          "Single Malt",
          null,
          "Single Malt",
          "Single Malt",
          "Single Malt",
          "Single Malt",
          "Single Malt",
          "Single Malt",
          "Single Malt",
          null,
          null,
          null,
          null,
          null,
          null,
          null,
          null,
          null,
          null,
          "Single Malt",
          "Single Malt",
          "Single Malt",
          "Single Malt",
          "Single Malt",
          "Single Malt",
          "Single Malt",
          "Single Malt",
          "Single Malt",
          "Single Malt",
          "Single Malt",
          "Single Malt",
          "Blended Malt",
          "Single Malt",
          "Blend",
          "Single Malt",
          "Single Malt",
          "Single Malt",
          "Single Malt",
          "Single Malt",
          "Single Malt",
          "Single Malt",
          "Single Malt",
          "Single Malt",
          "Single Malt",
          "Single Malt",
          "Single Malt",
          "Single Malt",
          "Single Malt",
          "Single Malt",
          "Single Malt",
          "Single Malt",
          "Single Malt",
          "Single Malt",
          "Single Malt",
          "Single Malt",
          "Single Malt",
          "Single Malt",
          "Single Malt",
          "Single Malt",
          "Single Malt",
          "Single Malt",
          "Single Malt",
          "Single Malt",
          "Single Malt",
          "Single Malt",
          "Single Malt",
          "Single Malt",
          "Single Malt",
          "Single Malt",
          "Single Malt",
          "Single Malt",
          "Single Malt",
          "Single Malt",
          "Single Malt",
          "Single Malt",
          "Single Malt",
          "Single Malt",
          "Single Malt",
          "Single Malt",
          "Blended Malt",
          "Single Malt",
          "Single Malt",
          "Single Malt",
          "Single Malt",
          "Single Malt",
          "Blended Malt",
          "Single Malt",
          "Single Malt",
          "Single Malt",
          "Single Malt",
          "Single Malt",
          "Single Malt",
          "Single Malt",
          "Blend",
          "Blend",
          "Blend",
          "Single Malt",
          "Single Malt",
          "Single Malt",
          "Single Malt",
          "Single Malt",
          "Single Malt",
          "Blended Malt",
          "Single Malt",
          "Single Malt",
          "Blend",
          "Single Malt",
          "Single Malt",
          "Single Malt",
          "Single Malt",
          "Single Malt",
          "Single Malt",
          "Single Malt",
          "Single Malt",
          "Blend",
          "Single Malt",
          "Blend",
          "Blend",
          "Single Malt",
          "Single Malt",
          "Single Malt",
          "Single Malt",
          "Blended Malt",
          "Single Malt",
          "Single Malt",
          "Single Malt",
          "Single Malt",
          "Single Malt",
          "Single Malt",
          "Single Malt",
          "Single Malt",
          "Single Malt",
          "Single Malt",
          "Grain",
          "Blend",
          "Single Malt",
          "Single Malt",
          "Single Malt",
          "Single Malt",
          "Single Malt",
          "Grain",
          "Single Malt",
          "Single Malt",
          "Single Malt",
          "Single Malt",
          "Single Malt",
          "Single Malt",
          "Blend",
          "Grain",
          "Blended Malt",
          "Single Malt",
          "Single Malt",
          "Single Malt",
          "Single Malt",
          "Single Malt",
          "Single Malt",
          "Single Malt",
          "Blended Malt",
          "Single Malt",
          "Single Malt",
          "Single Malt",
          "Single Malt",
          "Single Malt",
          "Single Malt",
          "Single Malt",
          "Single Malt",
          "Single Malt",
          "Single Malt",
          "Blended Malt",
          "Blend",
          "Blend",
          "Single Malt",
          "Single Malt",
          "Single Malt",
          "Single Malt",
          "Single Malt",
          "Single Malt",
          "Single Malt",
          "Single Malt",
          "Blended Malt",
          "Single Malt",
          "Single Malt",
          "Blend",
          "Single Malt",
          "Single Malt",
          "Single Malt",
          "Blend",
          "Single Malt",
          "Blend",
          "Single Malt",
          "Single Malt",
          "Blend",
          "Single Malt",
          "Liqueur",
          "Single Malt",
          "Single Malt",
          "Single Malt",
          "Blend",
          "Single Malt",
          "Blended Malt",
          "Single Malt",
          "Blended Malt",
          "Blended Malt",
          "Single Malt",
          "Blend",
          "Single Malt",
          "Single Malt",
          "Single Malt",
          "Single Malt",
          "Single Malt",
          "Single Malt",
          "Single Malt",
          "Single Malt",
          "Single Malt",
          "Single Malt",
          "Single Malt",
          "Single Malt",
          "Single Malt",
          "Single Malt",
          "Single Malt",
          "Single Malt",
          "Single Malt",
          "Single Malt",
          "Liqueur",
          "Blend",
          "Blend",
          "Single Malt",
          "Single Malt",
          "Single Malt",
          "Single Malt",
          "Single Malt",
          "Blend",
          "Blend",
          "Blend",
          "Single Malt",
          "Single Malt",
          "Single Malt",
          "Single Malt",
          "Single Malt",
          "Single Malt",
          "Single Malt",
          "Single Malt",
          "Single Malt",
          "Single Malt",
          "Single Malt",
          "Blended Malt",
          "Single Malt",
          "Single Malt",
          "Single Malt",
          "Single Malt",
          "Single Malt",
          "Single Malt",
          "Single Malt",
          "Single Malt",
          "Single Malt",
          "Single Malt",
          "Single Malt",
          "Single Malt",
          "Single Malt",
          "Single Malt",
          "Blended Malt",
          "Single Malt",
          "Blended Malt",
          "Single Malt",
          "Single Malt",
          "Single Malt",
          "Single Malt",
          "Blended Malt",
          "Single Malt",
          "Single Malt",
          "Single Malt",
          "Single Malt",
          "Single Malt",
          "Single Malt",
          "Single Malt",
          "Single Malt",
          "Single Malt",
          "Single Malt",
          "Single Malt",
          "Single Malt",
          "Single Malt",
          "Single Malt",
          "Single Malt",
          "Single Malt",
          "Single Malt",
          "Single Malt",
          "Single Malt",
          "Single Malt",
          "Single Malt",
          "Single Malt",
          "Single Malt",
          "Single Malt",
          "Single Malt",
          "Single Malt",
          "Single Malt",
          "Single Malt",
          "Single Malt",
          "Single Malt",
          "Single Malt",
          "Single Malt",
          "Single Malt",
          "Single Malt",
          "Single Malt",
          "Single Malt",
          "Single Malt",
          "Single Malt",
          "Single Malt",
          "Single Malt",
          "Single Malt",
          "Single Malt",
          "Single Malt",
          "Single Malt",
          "Single Malt",
          "Single Malt",
          "Single Malt",
          "Single Malt",
          "Single Malt",
          "Single Malt",
          "Blend",
          "Single Malt",
          "Single Malt",
          "Single Malt",
          "Single Malt",
          "Single Malt",
          "Single Malt",
          "Single Malt",
          "Single Malt",
          "Single Malt",
          "Single Malt",
          "Single Malt",
          "Single Malt",
          "Single Malt",
          "Single Malt",
          "Single Malt",
          "Single Malt",
          "Single Malt",
          "Single Malt",
          "Single Malt",
          "Single Malt",
          "Single Malt",
          "Single Malt",
          "Single Malt",
          "Single Malt",
          "Single Malt",
          "Single Malt",
          "Single Malt",
          "Single Malt",
          "Single Malt",
          "Single Malt",
          "Single Malt",
          "Single Malt",
          "Single Malt",
          "Single Malt",
          "Single Malt",
          "Single Malt",
          "Blended Malt",
          "Single Malt",
          "Liqueur",
          "Single Malt",
          "Single Malt",
          "Single Malt",
          "Single Malt",
          "Single Malt",
          "Single Malt",
          "Single Malt",
          "Single Malt",
          "Single Malt",
          "Single Malt",
          "Blend",
          "Single Malt",
          "Single Malt",
          "Single Malt",
          "Single Malt",
          "Blended Malt",
          "Single Malt",
          "Single Malt",
          "Single Malt",
          "Single Malt",
          "Blended Malt",
          "Single Malt",
          "Single Malt",
          "Single Malt",
          "Single Malt",
          "Single Malt",
          "Single Malt",
          "Single Malt",
          "Single Malt",
          "Single Malt",
          "Single Malt",
          null,
          "Single Malt",
          "Single Malt",
          "Single Malt",
          "Single Malt",
          "Single Malt",
          "Single Malt",
          "Single Malt",
          "Single Malt",
          "Single Malt",
          "Single Malt",
          "Single Malt",
          "Single Malt",
          "Single Malt",
          "Single Malt",
          "Single Malt",
          "Single Malt",
          "Single Malt",
          "Single Malt",
          "Single Malt",
          "Single Malt",
          "Single Malt",
          "Single Malt",
          "Single Malt",
          "Single Malt",
          "Single Malt",
          "Single Malt",
          "Blend",
          "Single Malt",
          null,
          "Single Malt",
          "Single Malt",
          "Single Malt",
          "Single Malt",
          "Single Malt",
          "Single Malt",
          "Single Malt",
          "Single Malt",
          "Single Malt",
          "Single Malt",
          "Single Malt",
          "Single Malt",
          "Single Malt",
          "Single Malt",
          "Single Malt",
          "Single Malt",
          "Single Malt",
          "Single Malt",
          "Single Malt",
          "Single Malt",
          "Single Malt",
          null,
          "Single Malt",
          "Single Malt",
          "Single Malt",
          "Single Malt",
          "Single Malt",
          "Single Malt",
          "Single Malt",
          "Single Malt",
          "Single Malt",
          "Single Malt",
          "Single Malt",
          "Single Malt",
          "Single Malt",
          "Single Malt",
          "Single Malt",
          "Single Malt",
          "Single Malt",
          "Single Malt",
          "Single Malt",
          "Single Malt",
          "Single Malt",
          "Single Malt",
          "Single Malt",
          "Single Malt",
          "Single Malt",
          "Single Malt",
          "Single Malt",
          "Single Malt",
          "Single Malt",
          "Single Malt",
          "Single Malt",
          "Single Malt",
          "Single Malt",
          "Blend",
          "Single Malt",
          "Single Malt",
          "Single Malt",
          "Single Malt",
          "Single Malt",
          "Grain",
          "Single Malt",
          "Blend",
          "Single Malt",
          "Blended Malt",
          "Single Malt",
          "Single Malt",
          "Single Malt",
          "Single Malt",
          "Single Malt",
          "Single Malt",
          "Single Malt",
          "Single Malt",
          "Single Malt",
          "Single Malt",
          "Single Malt",
          "Single Malt",
          "Single Malt",
          "Single Malt",
          "Single Malt",
          "Single Malt",
          "Single Malt",
          "Single Malt",
          "Single Malt",
          "Single Malt",
          "Single Malt",
          "Single Malt",
          "Single Malt",
          "Single Malt",
          "Single Malt",
          "Single Malt",
          "Single Malt",
          "Single Malt",
          "Single Malt",
          "Single Malt",
          "Single Malt",
          "Single Malt",
          "Single Malt",
          "Single Malt",
          "Single Malt",
          "Single Malt",
          "Single Malt",
          "Single Malt",
          "Single Malt",
          "Single Malt",
          "Single Malt",
          "Single Malt",
          "Single Malt",
          "Single Malt",
          "Single Malt",
          "Single Malt",
          "Single Malt",
          "Single Malt",
          "Single Malt",
          "Single Malt",
          "Blend",
          "Single Malt",
          "Single Malt",
          "Single Malt",
          "Single Malt",
          "Single Malt",
          "Single Malt",
          "Single Malt",
          "Single Malt",
          "Single Malt",
          "Single Malt",
          "Single Malt",
          "Single Malt",
          "Single Malt",
          "Single Malt",
          "Single Malt",
          "Single Malt",
          "Single Malt",
          "Single Malt",
          "Single Malt",
          "Single Malt",
          "Single Malt",
          "Single Malt",
          "Single Malt",
          "Single Malt",
          "Single Malt",
          "Single Malt",
          "Single Malt",
          "Single Malt",
          "Single Malt",
          "Single Malt",
          "Single Malt",
          "Single Malt",
          "Single Malt",
          "Single Malt",
          "Single Malt",
          "Single Malt",
          "Blended Malt",
          "Single Malt",
          "Liqueur",
          "Single Malt",
          "Single Malt",
          "Single Malt",
          "Single Malt",
          "Single Malt",
          "Single Malt",
          "Single Malt",
          "Single Malt",
          "Single Malt",
          "Single Malt",
          "Blend",
          "Single Malt",
          "Single Malt",
          "Single Malt",
          "Single Malt",
          "Blended Malt",
          "Single Malt",
          "Single Malt",
          "Single Malt",
          "Single Malt",
          "Blended Malt",
          "Single Malt",
          "Single Malt",
          "Single Malt",
          "Single Malt",
          "Single Malt",
          "Single Malt",
          "Single Malt",
          "Single Malt",
          "Single Malt",
          "Single Malt",
          "Single Malt",
          "Blend",
          "Single Malt",
          "Single Malt",
          "Single Malt",
          "Single Malt",
          "Single Malt",
          "Single Malt",
          "Single Malt",
          "Single Malt",
          "Single Malt",
          "Single Malt",
          "Single Malt",
          "Single Malt",
          "Single Malt",
          "Single Malt",
          "Blended Malt",
          "Single Malt",
          "Single Malt",
          "Single Malt",
          "Blended Malt",
          "Single Malt",
          "Single Malt",
          "Single Malt",
          "Single Malt",
          "Single Malt",
          "Single Malt",
          "Single Malt",
          "Single Malt",
          "Single Malt",
          "Single Malt",
          "Single Malt",
          "Single Malt",
          "Single Malt",
          "Single Malt",
          "Single Malt",
          "Single Malt",
          "Single Malt",
          "Single Malt",
          "Single Malt",
          "Single Malt",
          "Single Malt",
          "Single Malt",
          "Single Malt",
          "Single Malt",
          "Single Malt",
          "Single Malt",
          "Single Malt",
          "Single Malt",
          "Single Malt",
          "Single Malt",
          "Single Malt",
          "Single Malt",
          "Blend",
          "Single Malt",
          "Single Malt",
          "Single Malt",
          "Single Malt",
          "Blend",
          "Grain",
          "Grain",
          "Single Malt",
          "Blend",
          "Single Malt",
          "Single Malt",
          "Single Malt",
          "Single Malt",
          "Single Malt",
          "Single Malt",
          "Single Malt",
          "Single Malt",
          "Single Malt",
          "Single Malt",
          "Single Malt",
          "Single Malt",
          "Single Malt",
          "Single Malt",
          "Single Malt",
          "Single Malt",
          "Single Malt",
          "Single Malt",
          "Single Malt",
          "Single Malt",
          "Single Malt",
          "Single Malt",
          "Single Malt",
          "Single Malt",
          "Single Malt",
          "Single Malt",
          "Single Malt",
          "Single Malt",
          "Single Malt",
          "Single Malt",
          "Single Malt",
          "Single Malt",
          "Single Malt",
          "Single Malt",
          "Single Malt",
          "Single Malt",
          "Single Malt",
          "Single Malt",
          "Single Malt",
          "Single Malt",
          "Single Malt",
          "Single Malt",
          "Single Malt",
          "Single Malt",
          "Single Malt",
          "Single Malt",
          "Single Malt",
          "Single Malt",
          "Single Malt",
          "Single Malt",
          "Single Malt",
          "Single Malt",
          "Blend",
          "Single Malt",
          "Single Malt",
          "Grain",
          "Single Malt",
          "Single Malt",
          "Single Malt",
          "Single Malt",
          "Single Malt",
          "Single Malt",
          "Single Malt",
          "Single Malt",
          "Single Malt",
          "Single Malt",
          "Single Malt",
          "Single Malt",
          "Single Malt",
          "Single Malt",
          "Single Malt",
          "Single Malt",
          "Single Malt",
          "Single Malt",
          "Single Malt",
          "Single Malt",
          "Single Malt",
          "Single Malt",
          "Single Malt",
          "Single Malt",
          "Single Malt",
          "Single Malt",
          "Single Malt",
          "Single Malt",
          "Single Malt",
          "Blend",
          "Single Malt",
          "Single Malt",
          "Single Malt",
          "Single Malt",
          "Blend",
          "Single Malt",
          "Blend",
          "Single Malt",
          "Single Malt",
          "Single Malt",
          "Single Malt",
          "Single Malt",
          "Single Malt",
          "Single Malt",
          "Single Malt",
          "Single Malt",
          "Single Malt",
          "Single Malt",
          "Single Malt",
          "Single Malt",
          "Single Malt",
          "Single Malt",
          "Single Malt",
          "Single Malt",
          "Single Malt",
          "Single Malt",
          "Blend",
          "Single Malt",
          "Liqueur",
          "Single Malt",
          "Single Malt",
          "Blend",
          "Single Malt",
          "Single Malt",
          "Blended Malt",
          "Blend",
          "Single Malt",
          "Single Malt",
          "Single Malt",
          "Single Malt",
          "Single Malt",
          "Single Malt",
          "Single Malt",
          "Single Malt",
          "Single Malt",
          "Single Malt",
          "Single Malt",
          "Single Malt",
          "Single Malt",
          "Single Malt",
          "Single Malt",
          "Single Malt",
          "Single Malt",
          "Single Malt",
          "Single Malt",
          "Single Malt",
          "Single Malt",
          "Single Malt",
          "Single Malt",
          "Single Malt",
          "Single Malt",
          "Blend",
          "Single Malt",
          "Blend",
          "Blend",
          "Blend",
          "Single Malt",
          "Single Malt",
          "Blend",
          "Single Malt",
          "Single Malt",
          "Single Malt",
          "Single Malt",
          "Single Malt",
          "Blended Malt",
          "Single Malt",
          "Single Malt",
          "Single Malt",
          "Single Malt",
          "Blend",
          "Single Malt",
          "Single Malt",
          "Single Malt",
          "Single Malt",
          "Single Malt",
          "Single Malt",
          "Single Malt",
          "Single Malt",
          "Single Malt",
          "Single Malt",
          "Single Malt",
          "Single Malt",
          "Single Malt",
          "Blended Malt",
          "Single Malt",
          "Single Malt",
          "Single Malt",
          "Single Malt",
          "Single Malt",
          "Single Malt",
          "Single Malt",
          "Single Malt",
          "Single Malt",
          "Single Malt",
          "Single Malt",
          "Single Malt",
          "Single Malt",
          "Single Malt",
          "Single Malt",
          "Single Malt",
          "Single Malt",
          null,
          "Single Malt",
          "Single Malt",
          "Single Malt",
          "Single Malt",
          "Single Malt",
          "Single Malt",
          "Single Malt",
          "Single Malt",
          "Single Malt",
          "Single Malt",
          "Single Malt",
          "Single Malt",
          "Single Malt",
          "Single Malt",
          "Single Malt",
          "Single Malt",
          "Single Malt",
          "Single Malt",
          "Single Malt",
          "Blend",
          "Single Malt",
          "Single Malt",
          "Single Malt",
          "Single Malt",
          "Single Malt",
          "Single Malt",
          "Single Malt",
          "Single Malt",
          "Single Malt",
          "Single Malt",
          "Single Malt",
          "Single Malt",
          "Single Malt",
          "Single Malt",
          "Single Malt",
          "Single Malt",
          "Single Malt",
          "Single Malt",
          "Single Malt",
          "Single Malt",
          "Single Malt",
          "Single Malt",
          "Single Malt",
          "Single Malt",
          "Single Malt",
          "Single Malt",
          "Blend",
          "Single Malt",
          "Blend",
          "Liqueur",
          "Liqueur",
          "Single Malt",
          "Single Malt",
          "Single Malt",
          "Single Malt",
          "Blend",
          "Single Malt",
          "Single Malt",
          "Single Malt",
          "Single Malt",
          "Single Malt",
          "Single Malt",
          "Single Malt",
          "Single Malt",
          "Single Malt",
          "Single Malt",
          "Single Malt",
          "Blend",
          "Single Malt",
          "Single Malt",
          "Single Malt",
          "Single Malt",
          "Single Malt",
          "Single Malt",
          "Single Malt",
          "Single Malt",
          "Single Malt",
          "Single Malt",
          "Blend",
          "Single Malt",
          "Blend",
          "Blend",
          "Blend",
          "Single Malt",
          "Blend",
          "Blend",
          "Blend",
          "Single Malt",
          "Single Malt",
          "Single Malt",
          "Single Malt",
          "Single Malt",
          "Single Malt",
          "Single Malt",
          "Single Malt",
          "Blend",
          "Blend",
          "Single Malt",
          "Blend",
          "Blended Malt",
          "Single Malt",
          "Single Malt",
          "Single Malt",
          "Single Malt",
          "Single Malt",
          "Single Malt",
          "Single Malt",
          "Single Malt",
          "Single Malt",
          "Single Malt",
          "Single Malt"
         ]
        }
       ],
       "layout": {
        "barmode": "overlay",
        "legend": {
         "bgcolor": "#F5F6F9",
         "font": {
          "color": "#4D5663"
         }
        },
        "paper_bgcolor": "#F5F6F9",
        "plot_bgcolor": "#F5F6F9",
        "template": {
         "data": {
          "bar": [
           {
            "error_x": {
             "color": "#2a3f5f"
            },
            "error_y": {
             "color": "#2a3f5f"
            },
            "marker": {
             "line": {
              "color": "#E5ECF6",
              "width": 0.5
             }
            },
            "type": "bar"
           }
          ],
          "barpolar": [
           {
            "marker": {
             "line": {
              "color": "#E5ECF6",
              "width": 0.5
             }
            },
            "type": "barpolar"
           }
          ],
          "carpet": [
           {
            "aaxis": {
             "endlinecolor": "#2a3f5f",
             "gridcolor": "white",
             "linecolor": "white",
             "minorgridcolor": "white",
             "startlinecolor": "#2a3f5f"
            },
            "baxis": {
             "endlinecolor": "#2a3f5f",
             "gridcolor": "white",
             "linecolor": "white",
             "minorgridcolor": "white",
             "startlinecolor": "#2a3f5f"
            },
            "type": "carpet"
           }
          ],
          "choropleth": [
           {
            "colorbar": {
             "outlinewidth": 0,
             "ticks": ""
            },
            "type": "choropleth"
           }
          ],
          "contour": [
           {
            "colorbar": {
             "outlinewidth": 0,
             "ticks": ""
            },
            "colorscale": [
             [
              0,
              "#0d0887"
             ],
             [
              0.1111111111111111,
              "#46039f"
             ],
             [
              0.2222222222222222,
              "#7201a8"
             ],
             [
              0.3333333333333333,
              "#9c179e"
             ],
             [
              0.4444444444444444,
              "#bd3786"
             ],
             [
              0.5555555555555556,
              "#d8576b"
             ],
             [
              0.6666666666666666,
              "#ed7953"
             ],
             [
              0.7777777777777778,
              "#fb9f3a"
             ],
             [
              0.8888888888888888,
              "#fdca26"
             ],
             [
              1,
              "#f0f921"
             ]
            ],
            "type": "contour"
           }
          ],
          "contourcarpet": [
           {
            "colorbar": {
             "outlinewidth": 0,
             "ticks": ""
            },
            "type": "contourcarpet"
           }
          ],
          "heatmap": [
           {
            "colorbar": {
             "outlinewidth": 0,
             "ticks": ""
            },
            "colorscale": [
             [
              0,
              "#0d0887"
             ],
             [
              0.1111111111111111,
              "#46039f"
             ],
             [
              0.2222222222222222,
              "#7201a8"
             ],
             [
              0.3333333333333333,
              "#9c179e"
             ],
             [
              0.4444444444444444,
              "#bd3786"
             ],
             [
              0.5555555555555556,
              "#d8576b"
             ],
             [
              0.6666666666666666,
              "#ed7953"
             ],
             [
              0.7777777777777778,
              "#fb9f3a"
             ],
             [
              0.8888888888888888,
              "#fdca26"
             ],
             [
              1,
              "#f0f921"
             ]
            ],
            "type": "heatmap"
           }
          ],
          "heatmapgl": [
           {
            "colorbar": {
             "outlinewidth": 0,
             "ticks": ""
            },
            "colorscale": [
             [
              0,
              "#0d0887"
             ],
             [
              0.1111111111111111,
              "#46039f"
             ],
             [
              0.2222222222222222,
              "#7201a8"
             ],
             [
              0.3333333333333333,
              "#9c179e"
             ],
             [
              0.4444444444444444,
              "#bd3786"
             ],
             [
              0.5555555555555556,
              "#d8576b"
             ],
             [
              0.6666666666666666,
              "#ed7953"
             ],
             [
              0.7777777777777778,
              "#fb9f3a"
             ],
             [
              0.8888888888888888,
              "#fdca26"
             ],
             [
              1,
              "#f0f921"
             ]
            ],
            "type": "heatmapgl"
           }
          ],
          "histogram": [
           {
            "marker": {
             "colorbar": {
              "outlinewidth": 0,
              "ticks": ""
             }
            },
            "type": "histogram"
           }
          ],
          "histogram2d": [
           {
            "colorbar": {
             "outlinewidth": 0,
             "ticks": ""
            },
            "colorscale": [
             [
              0,
              "#0d0887"
             ],
             [
              0.1111111111111111,
              "#46039f"
             ],
             [
              0.2222222222222222,
              "#7201a8"
             ],
             [
              0.3333333333333333,
              "#9c179e"
             ],
             [
              0.4444444444444444,
              "#bd3786"
             ],
             [
              0.5555555555555556,
              "#d8576b"
             ],
             [
              0.6666666666666666,
              "#ed7953"
             ],
             [
              0.7777777777777778,
              "#fb9f3a"
             ],
             [
              0.8888888888888888,
              "#fdca26"
             ],
             [
              1,
              "#f0f921"
             ]
            ],
            "type": "histogram2d"
           }
          ],
          "histogram2dcontour": [
           {
            "colorbar": {
             "outlinewidth": 0,
             "ticks": ""
            },
            "colorscale": [
             [
              0,
              "#0d0887"
             ],
             [
              0.1111111111111111,
              "#46039f"
             ],
             [
              0.2222222222222222,
              "#7201a8"
             ],
             [
              0.3333333333333333,
              "#9c179e"
             ],
             [
              0.4444444444444444,
              "#bd3786"
             ],
             [
              0.5555555555555556,
              "#d8576b"
             ],
             [
              0.6666666666666666,
              "#ed7953"
             ],
             [
              0.7777777777777778,
              "#fb9f3a"
             ],
             [
              0.8888888888888888,
              "#fdca26"
             ],
             [
              1,
              "#f0f921"
             ]
            ],
            "type": "histogram2dcontour"
           }
          ],
          "mesh3d": [
           {
            "colorbar": {
             "outlinewidth": 0,
             "ticks": ""
            },
            "type": "mesh3d"
           }
          ],
          "parcoords": [
           {
            "line": {
             "colorbar": {
              "outlinewidth": 0,
              "ticks": ""
             }
            },
            "type": "parcoords"
           }
          ],
          "pie": [
           {
            "automargin": true,
            "type": "pie"
           }
          ],
          "scatter": [
           {
            "marker": {
             "colorbar": {
              "outlinewidth": 0,
              "ticks": ""
             }
            },
            "type": "scatter"
           }
          ],
          "scatter3d": [
           {
            "line": {
             "colorbar": {
              "outlinewidth": 0,
              "ticks": ""
             }
            },
            "marker": {
             "colorbar": {
              "outlinewidth": 0,
              "ticks": ""
             }
            },
            "type": "scatter3d"
           }
          ],
          "scattercarpet": [
           {
            "marker": {
             "colorbar": {
              "outlinewidth": 0,
              "ticks": ""
             }
            },
            "type": "scattercarpet"
           }
          ],
          "scattergeo": [
           {
            "marker": {
             "colorbar": {
              "outlinewidth": 0,
              "ticks": ""
             }
            },
            "type": "scattergeo"
           }
          ],
          "scattergl": [
           {
            "marker": {
             "colorbar": {
              "outlinewidth": 0,
              "ticks": ""
             }
            },
            "type": "scattergl"
           }
          ],
          "scattermapbox": [
           {
            "marker": {
             "colorbar": {
              "outlinewidth": 0,
              "ticks": ""
             }
            },
            "type": "scattermapbox"
           }
          ],
          "scatterpolar": [
           {
            "marker": {
             "colorbar": {
              "outlinewidth": 0,
              "ticks": ""
             }
            },
            "type": "scatterpolar"
           }
          ],
          "scatterpolargl": [
           {
            "marker": {
             "colorbar": {
              "outlinewidth": 0,
              "ticks": ""
             }
            },
            "type": "scatterpolargl"
           }
          ],
          "scatterternary": [
           {
            "marker": {
             "colorbar": {
              "outlinewidth": 0,
              "ticks": ""
             }
            },
            "type": "scatterternary"
           }
          ],
          "surface": [
           {
            "colorbar": {
             "outlinewidth": 0,
             "ticks": ""
            },
            "colorscale": [
             [
              0,
              "#0d0887"
             ],
             [
              0.1111111111111111,
              "#46039f"
             ],
             [
              0.2222222222222222,
              "#7201a8"
             ],
             [
              0.3333333333333333,
              "#9c179e"
             ],
             [
              0.4444444444444444,
              "#bd3786"
             ],
             [
              0.5555555555555556,
              "#d8576b"
             ],
             [
              0.6666666666666666,
              "#ed7953"
             ],
             [
              0.7777777777777778,
              "#fb9f3a"
             ],
             [
              0.8888888888888888,
              "#fdca26"
             ],
             [
              1,
              "#f0f921"
             ]
            ],
            "type": "surface"
           }
          ],
          "table": [
           {
            "cells": {
             "fill": {
              "color": "#EBF0F8"
             },
             "line": {
              "color": "white"
             }
            },
            "header": {
             "fill": {
              "color": "#C8D4E3"
             },
             "line": {
              "color": "white"
             }
            },
            "type": "table"
           }
          ]
         },
         "layout": {
          "annotationdefaults": {
           "arrowcolor": "#2a3f5f",
           "arrowhead": 0,
           "arrowwidth": 1
          },
          "coloraxis": {
           "colorbar": {
            "outlinewidth": 0,
            "ticks": ""
           }
          },
          "colorscale": {
           "diverging": [
            [
             0,
             "#8e0152"
            ],
            [
             0.1,
             "#c51b7d"
            ],
            [
             0.2,
             "#de77ae"
            ],
            [
             0.3,
             "#f1b6da"
            ],
            [
             0.4,
             "#fde0ef"
            ],
            [
             0.5,
             "#f7f7f7"
            ],
            [
             0.6,
             "#e6f5d0"
            ],
            [
             0.7,
             "#b8e186"
            ],
            [
             0.8,
             "#7fbc41"
            ],
            [
             0.9,
             "#4d9221"
            ],
            [
             1,
             "#276419"
            ]
           ],
           "sequential": [
            [
             0,
             "#0d0887"
            ],
            [
             0.1111111111111111,
             "#46039f"
            ],
            [
             0.2222222222222222,
             "#7201a8"
            ],
            [
             0.3333333333333333,
             "#9c179e"
            ],
            [
             0.4444444444444444,
             "#bd3786"
            ],
            [
             0.5555555555555556,
             "#d8576b"
            ],
            [
             0.6666666666666666,
             "#ed7953"
            ],
            [
             0.7777777777777778,
             "#fb9f3a"
            ],
            [
             0.8888888888888888,
             "#fdca26"
            ],
            [
             1,
             "#f0f921"
            ]
           ],
           "sequentialminus": [
            [
             0,
             "#0d0887"
            ],
            [
             0.1111111111111111,
             "#46039f"
            ],
            [
             0.2222222222222222,
             "#7201a8"
            ],
            [
             0.3333333333333333,
             "#9c179e"
            ],
            [
             0.4444444444444444,
             "#bd3786"
            ],
            [
             0.5555555555555556,
             "#d8576b"
            ],
            [
             0.6666666666666666,
             "#ed7953"
            ],
            [
             0.7777777777777778,
             "#fb9f3a"
            ],
            [
             0.8888888888888888,
             "#fdca26"
            ],
            [
             1,
             "#f0f921"
            ]
           ]
          },
          "colorway": [
           "#636efa",
           "#EF553B",
           "#00cc96",
           "#ab63fa",
           "#FFA15A",
           "#19d3f3",
           "#FF6692",
           "#B6E880",
           "#FF97FF",
           "#FECB52"
          ],
          "font": {
           "color": "#2a3f5f"
          },
          "geo": {
           "bgcolor": "white",
           "lakecolor": "white",
           "landcolor": "#E5ECF6",
           "showlakes": true,
           "showland": true,
           "subunitcolor": "white"
          },
          "hoverlabel": {
           "align": "left"
          },
          "hovermode": "closest",
          "mapbox": {
           "style": "light"
          },
          "paper_bgcolor": "white",
          "plot_bgcolor": "#E5ECF6",
          "polar": {
           "angularaxis": {
            "gridcolor": "white",
            "linecolor": "white",
            "ticks": ""
           },
           "bgcolor": "#E5ECF6",
           "radialaxis": {
            "gridcolor": "white",
            "linecolor": "white",
            "ticks": ""
           }
          },
          "scene": {
           "xaxis": {
            "backgroundcolor": "#E5ECF6",
            "gridcolor": "white",
            "gridwidth": 2,
            "linecolor": "white",
            "showbackground": true,
            "ticks": "",
            "zerolinecolor": "white"
           },
           "yaxis": {
            "backgroundcolor": "#E5ECF6",
            "gridcolor": "white",
            "gridwidth": 2,
            "linecolor": "white",
            "showbackground": true,
            "ticks": "",
            "zerolinecolor": "white"
           },
           "zaxis": {
            "backgroundcolor": "#E5ECF6",
            "gridcolor": "white",
            "gridwidth": 2,
            "linecolor": "white",
            "showbackground": true,
            "ticks": "",
            "zerolinecolor": "white"
           }
          },
          "shapedefaults": {
           "line": {
            "color": "#2a3f5f"
           }
          },
          "ternary": {
           "aaxis": {
            "gridcolor": "white",
            "linecolor": "white",
            "ticks": ""
           },
           "baxis": {
            "gridcolor": "white",
            "linecolor": "white",
            "ticks": ""
           },
           "bgcolor": "#E5ECF6",
           "caxis": {
            "gridcolor": "white",
            "linecolor": "white",
            "ticks": ""
           }
          },
          "title": {
           "x": 0.05
          },
          "xaxis": {
           "automargin": true,
           "gridcolor": "white",
           "linecolor": "white",
           "ticks": "",
           "title": {
            "standoff": 15
           },
           "zerolinecolor": "white",
           "zerolinewidth": 2
          },
          "yaxis": {
           "automargin": true,
           "gridcolor": "white",
           "linecolor": "white",
           "ticks": "",
           "title": {
            "standoff": 15
           },
           "zerolinecolor": "white",
           "zerolinewidth": 2
          }
         }
        },
        "title": {
         "font": {
          "color": "#4D5663"
         },
         "text": "Frequency of Whiskey by Style"
        },
        "xaxis": {
         "gridcolor": "#E1E5ED",
         "showgrid": true,
         "tickfont": {
          "color": "#4D5663"
         },
         "title": {
          "font": {
           "color": "#4D5663"
          },
          "text": "Style of Whiskey"
         },
         "zerolinecolor": "#E1E5ED"
        },
        "yaxis": {
         "gridcolor": "#E1E5ED",
         "showgrid": true,
         "tickfont": {
          "color": "#4D5663"
         },
         "title": {
          "font": {
           "color": "#4D5663"
          },
          "text": "Count"
         },
         "zerolinecolor": "#E1E5ED"
        }
       }
      },
      "text/html": [
       "<div>                            <div id=\"7dbea66e-e1e3-45f5-a510-6e6e19174be4\" class=\"plotly-graph-div\" style=\"height:525px; width:100%;\"></div>            <script type=\"text/javascript\">                require([\"plotly\"], function(Plotly) {                    window.PLOTLYENV=window.PLOTLYENV || {};\n",
       "                    window.PLOTLYENV.BASE_URL='https://plot.ly';                                    if (document.getElementById(\"7dbea66e-e1e3-45f5-a510-6e6e19174be4\")) {                    Plotly.newPlot(                        \"7dbea66e-e1e3-45f5-a510-6e6e19174be4\",                        [{\"histfunc\": \"count\", \"histnorm\": \"\", \"marker\": {\"color\": \"rgba(255, 153, 51, 1.0)\", \"line\": {\"color\": \"#4D5663\", \"width\": 1.3}}, \"name\": \"Style\", \"opacity\": 0.8, \"orientation\": \"v\", \"type\": \"histogram\", \"x\": [\"Single Malt\", \"Blend\", \"Single Malt\", \"Blended Malt\", \"Blend\", \"Single Malt\", \"Single Malt\", \"Single Malt\", \"Single Malt\", \"Blend\", \"Single Malt\", \"Single Malt\", \"Single Malt\", \"Blend\", \"Blend\", \"Single Malt\", null, \"Single Malt\", \"Single Malt\", null, \"Single Malt\", \"Single Malt\", \"Single Malt\", \"Single Malt\", \"Single Malt\", \"Single Malt\", \"Single Malt\", null, null, null, null, null, null, null, null, null, null, \"Single Malt\", \"Single Malt\", \"Single Malt\", \"Single Malt\", \"Single Malt\", \"Single Malt\", \"Single Malt\", \"Single Malt\", \"Single Malt\", \"Single Malt\", \"Single Malt\", \"Single Malt\", \"Blended Malt\", \"Single Malt\", \"Blend\", \"Single Malt\", \"Single Malt\", \"Single Malt\", \"Single Malt\", \"Single Malt\", \"Single Malt\", \"Single Malt\", \"Single Malt\", \"Single Malt\", \"Single Malt\", \"Single Malt\", \"Single Malt\", \"Single Malt\", \"Single Malt\", \"Single Malt\", \"Single Malt\", \"Single Malt\", \"Single Malt\", \"Single Malt\", \"Single Malt\", \"Single Malt\", \"Single Malt\", \"Single Malt\", \"Single Malt\", \"Single Malt\", \"Single Malt\", \"Single Malt\", \"Single Malt\", \"Single Malt\", \"Single Malt\", \"Single Malt\", \"Single Malt\", \"Single Malt\", \"Single Malt\", \"Single Malt\", \"Single Malt\", \"Single Malt\", \"Single Malt\", \"Single Malt\", \"Single Malt\", \"Single Malt\", \"Single Malt\", \"Single Malt\", \"Single Malt\", \"Single Malt\", \"Blended Malt\", \"Single Malt\", \"Single Malt\", \"Single Malt\", \"Single Malt\", \"Single Malt\", \"Blended Malt\", \"Single Malt\", \"Single Malt\", \"Single Malt\", \"Single Malt\", \"Single Malt\", \"Single Malt\", \"Single Malt\", \"Blend\", \"Blend\", \"Blend\", \"Single Malt\", \"Single Malt\", \"Single Malt\", \"Single Malt\", \"Single Malt\", \"Single Malt\", \"Blended Malt\", \"Single Malt\", \"Single Malt\", \"Blend\", \"Single Malt\", \"Single Malt\", \"Single Malt\", \"Single Malt\", \"Single Malt\", \"Single Malt\", \"Single Malt\", \"Single Malt\", \"Blend\", \"Single Malt\", \"Blend\", \"Blend\", \"Single Malt\", \"Single Malt\", \"Single Malt\", \"Single Malt\", \"Blended Malt\", \"Single Malt\", \"Single Malt\", \"Single Malt\", \"Single Malt\", \"Single Malt\", \"Single Malt\", \"Single Malt\", \"Single Malt\", \"Single Malt\", \"Single Malt\", \"Grain\", \"Blend\", \"Single Malt\", \"Single Malt\", \"Single Malt\", \"Single Malt\", \"Single Malt\", \"Grain\", \"Single Malt\", \"Single Malt\", \"Single Malt\", \"Single Malt\", \"Single Malt\", \"Single Malt\", \"Blend\", \"Grain\", \"Blended Malt\", \"Single Malt\", \"Single Malt\", \"Single Malt\", \"Single Malt\", \"Single Malt\", \"Single Malt\", \"Single Malt\", \"Blended Malt\", \"Single Malt\", \"Single Malt\", \"Single Malt\", \"Single Malt\", \"Single Malt\", \"Single Malt\", \"Single Malt\", \"Single Malt\", \"Single Malt\", \"Single Malt\", \"Blended Malt\", \"Blend\", \"Blend\", \"Single Malt\", \"Single Malt\", \"Single Malt\", \"Single Malt\", \"Single Malt\", \"Single Malt\", \"Single Malt\", \"Single Malt\", \"Blended Malt\", \"Single Malt\", \"Single Malt\", \"Blend\", \"Single Malt\", \"Single Malt\", \"Single Malt\", \"Blend\", \"Single Malt\", \"Blend\", \"Single Malt\", \"Single Malt\", \"Blend\", \"Single Malt\", \"Liqueur\", \"Single Malt\", \"Single Malt\", \"Single Malt\", \"Blend\", \"Single Malt\", \"Blended Malt\", \"Single Malt\", \"Blended Malt\", \"Blended Malt\", \"Single Malt\", \"Blend\", \"Single Malt\", \"Single Malt\", \"Single Malt\", \"Single Malt\", \"Single Malt\", \"Single Malt\", \"Single Malt\", \"Single Malt\", \"Single Malt\", \"Single Malt\", \"Single Malt\", \"Single Malt\", \"Single Malt\", \"Single Malt\", \"Single Malt\", \"Single Malt\", \"Single Malt\", \"Single Malt\", \"Liqueur\", \"Blend\", \"Blend\", \"Single Malt\", \"Single Malt\", \"Single Malt\", \"Single Malt\", \"Single Malt\", \"Blend\", \"Blend\", \"Blend\", \"Single Malt\", \"Single Malt\", \"Single Malt\", \"Single Malt\", \"Single Malt\", \"Single Malt\", \"Single Malt\", \"Single Malt\", \"Single Malt\", \"Single Malt\", \"Single Malt\", \"Blended Malt\", \"Single Malt\", \"Single Malt\", \"Single Malt\", \"Single Malt\", \"Single Malt\", \"Single Malt\", \"Single Malt\", \"Single Malt\", \"Single Malt\", \"Single Malt\", \"Single Malt\", \"Single Malt\", \"Single Malt\", \"Single Malt\", \"Blended Malt\", \"Single Malt\", \"Blended Malt\", \"Single Malt\", \"Single Malt\", \"Single Malt\", \"Single Malt\", \"Blended Malt\", \"Single Malt\", \"Single Malt\", \"Single Malt\", \"Single Malt\", \"Single Malt\", \"Single Malt\", \"Single Malt\", \"Single Malt\", \"Single Malt\", \"Single Malt\", \"Single Malt\", \"Single Malt\", \"Single Malt\", \"Single Malt\", \"Single Malt\", \"Single Malt\", \"Single Malt\", \"Single Malt\", \"Single Malt\", \"Single Malt\", \"Single Malt\", \"Single Malt\", \"Single Malt\", \"Single Malt\", \"Single Malt\", \"Single Malt\", \"Single Malt\", \"Single Malt\", \"Single Malt\", \"Single Malt\", \"Single Malt\", \"Single Malt\", \"Single Malt\", \"Single Malt\", \"Single Malt\", \"Single Malt\", \"Single Malt\", \"Single Malt\", \"Single Malt\", \"Single Malt\", \"Single Malt\", \"Single Malt\", \"Single Malt\", \"Single Malt\", \"Single Malt\", \"Single Malt\", \"Single Malt\", \"Single Malt\", \"Single Malt\", \"Single Malt\", \"Blend\", \"Single Malt\", \"Single Malt\", \"Single Malt\", \"Single Malt\", \"Single Malt\", \"Single Malt\", \"Single Malt\", \"Single Malt\", \"Single Malt\", \"Single Malt\", \"Single Malt\", \"Single Malt\", \"Single Malt\", \"Single Malt\", \"Single Malt\", \"Single Malt\", \"Single Malt\", \"Single Malt\", \"Single Malt\", \"Single Malt\", \"Single Malt\", \"Single Malt\", \"Single Malt\", \"Single Malt\", \"Single Malt\", \"Single Malt\", \"Single Malt\", \"Single Malt\", \"Single Malt\", \"Single Malt\", \"Single Malt\", \"Single Malt\", \"Single Malt\", \"Single Malt\", \"Single Malt\", \"Single Malt\", \"Blended Malt\", \"Single Malt\", \"Liqueur\", \"Single Malt\", \"Single Malt\", \"Single Malt\", \"Single Malt\", \"Single Malt\", \"Single Malt\", \"Single Malt\", \"Single Malt\", \"Single Malt\", \"Single Malt\", \"Blend\", \"Single Malt\", \"Single Malt\", \"Single Malt\", \"Single Malt\", \"Blended Malt\", \"Single Malt\", \"Single Malt\", \"Single Malt\", \"Single Malt\", \"Blended Malt\", \"Single Malt\", \"Single Malt\", \"Single Malt\", \"Single Malt\", \"Single Malt\", \"Single Malt\", \"Single Malt\", \"Single Malt\", \"Single Malt\", \"Single Malt\", null, \"Single Malt\", \"Single Malt\", \"Single Malt\", \"Single Malt\", \"Single Malt\", \"Single Malt\", \"Single Malt\", \"Single Malt\", \"Single Malt\", \"Single Malt\", \"Single Malt\", \"Single Malt\", \"Single Malt\", \"Single Malt\", \"Single Malt\", \"Single Malt\", \"Single Malt\", \"Single Malt\", \"Single Malt\", \"Single Malt\", \"Single Malt\", \"Single Malt\", \"Single Malt\", \"Single Malt\", \"Single Malt\", \"Single Malt\", \"Blend\", \"Single Malt\", null, \"Single Malt\", \"Single Malt\", \"Single Malt\", \"Single Malt\", \"Single Malt\", \"Single Malt\", \"Single Malt\", \"Single Malt\", \"Single Malt\", \"Single Malt\", \"Single Malt\", \"Single Malt\", \"Single Malt\", \"Single Malt\", \"Single Malt\", \"Single Malt\", \"Single Malt\", \"Single Malt\", \"Single Malt\", \"Single Malt\", \"Single Malt\", null, \"Single Malt\", \"Single Malt\", \"Single Malt\", \"Single Malt\", \"Single Malt\", \"Single Malt\", \"Single Malt\", \"Single Malt\", \"Single Malt\", \"Single Malt\", \"Single Malt\", \"Single Malt\", \"Single Malt\", \"Single Malt\", \"Single Malt\", \"Single Malt\", \"Single Malt\", \"Single Malt\", \"Single Malt\", \"Single Malt\", \"Single Malt\", \"Single Malt\", \"Single Malt\", \"Single Malt\", \"Single Malt\", \"Single Malt\", \"Single Malt\", \"Single Malt\", \"Single Malt\", \"Single Malt\", \"Single Malt\", \"Single Malt\", \"Single Malt\", \"Blend\", \"Single Malt\", \"Single Malt\", \"Single Malt\", \"Single Malt\", \"Single Malt\", \"Grain\", \"Single Malt\", \"Blend\", \"Single Malt\", \"Blended Malt\", \"Single Malt\", \"Single Malt\", \"Single Malt\", \"Single Malt\", \"Single Malt\", \"Single Malt\", \"Single Malt\", \"Single Malt\", \"Single Malt\", \"Single Malt\", \"Single Malt\", \"Single Malt\", \"Single Malt\", \"Single Malt\", \"Single Malt\", \"Single Malt\", \"Single Malt\", \"Single Malt\", \"Single Malt\", \"Single Malt\", \"Single Malt\", \"Single Malt\", \"Single Malt\", \"Single Malt\", \"Single Malt\", \"Single Malt\", \"Single Malt\", \"Single Malt\", \"Single Malt\", \"Single Malt\", \"Single Malt\", \"Single Malt\", \"Single Malt\", \"Single Malt\", \"Single Malt\", \"Single Malt\", \"Single Malt\", \"Single Malt\", \"Single Malt\", \"Single Malt\", \"Single Malt\", \"Single Malt\", \"Single Malt\", \"Single Malt\", \"Single Malt\", \"Single Malt\", \"Single Malt\", \"Single Malt\", \"Single Malt\", \"Single Malt\", \"Blend\", \"Single Malt\", \"Single Malt\", \"Single Malt\", \"Single Malt\", \"Single Malt\", \"Single Malt\", \"Single Malt\", \"Single Malt\", \"Single Malt\", \"Single Malt\", \"Single Malt\", \"Single Malt\", \"Single Malt\", \"Single Malt\", \"Single Malt\", \"Single Malt\", \"Single Malt\", \"Single Malt\", \"Single Malt\", \"Single Malt\", \"Single Malt\", \"Single Malt\", \"Single Malt\", \"Single Malt\", \"Single Malt\", \"Single Malt\", \"Single Malt\", \"Single Malt\", \"Single Malt\", \"Single Malt\", \"Single Malt\", \"Single Malt\", \"Single Malt\", \"Single Malt\", \"Single Malt\", \"Single Malt\", \"Blended Malt\", \"Single Malt\", \"Liqueur\", \"Single Malt\", \"Single Malt\", \"Single Malt\", \"Single Malt\", \"Single Malt\", \"Single Malt\", \"Single Malt\", \"Single Malt\", \"Single Malt\", \"Single Malt\", \"Blend\", \"Single Malt\", \"Single Malt\", \"Single Malt\", \"Single Malt\", \"Blended Malt\", \"Single Malt\", \"Single Malt\", \"Single Malt\", \"Single Malt\", \"Blended Malt\", \"Single Malt\", \"Single Malt\", \"Single Malt\", \"Single Malt\", \"Single Malt\", \"Single Malt\", \"Single Malt\", \"Single Malt\", \"Single Malt\", \"Single Malt\", \"Single Malt\", \"Blend\", \"Single Malt\", \"Single Malt\", \"Single Malt\", \"Single Malt\", \"Single Malt\", \"Single Malt\", \"Single Malt\", \"Single Malt\", \"Single Malt\", \"Single Malt\", \"Single Malt\", \"Single Malt\", \"Single Malt\", \"Single Malt\", \"Blended Malt\", \"Single Malt\", \"Single Malt\", \"Single Malt\", \"Blended Malt\", \"Single Malt\", \"Single Malt\", \"Single Malt\", \"Single Malt\", \"Single Malt\", \"Single Malt\", \"Single Malt\", \"Single Malt\", \"Single Malt\", \"Single Malt\", \"Single Malt\", \"Single Malt\", \"Single Malt\", \"Single Malt\", \"Single Malt\", \"Single Malt\", \"Single Malt\", \"Single Malt\", \"Single Malt\", \"Single Malt\", \"Single Malt\", \"Single Malt\", \"Single Malt\", \"Single Malt\", \"Single Malt\", \"Single Malt\", \"Single Malt\", \"Single Malt\", \"Single Malt\", \"Single Malt\", \"Single Malt\", \"Single Malt\", \"Blend\", \"Single Malt\", \"Single Malt\", \"Single Malt\", \"Single Malt\", \"Blend\", \"Grain\", \"Grain\", \"Single Malt\", \"Blend\", \"Single Malt\", \"Single Malt\", \"Single Malt\", \"Single Malt\", \"Single Malt\", \"Single Malt\", \"Single Malt\", \"Single Malt\", \"Single Malt\", \"Single Malt\", \"Single Malt\", \"Single Malt\", \"Single Malt\", \"Single Malt\", \"Single Malt\", \"Single Malt\", \"Single Malt\", \"Single Malt\", \"Single Malt\", \"Single Malt\", \"Single Malt\", \"Single Malt\", \"Single Malt\", \"Single Malt\", \"Single Malt\", \"Single Malt\", \"Single Malt\", \"Single Malt\", \"Single Malt\", \"Single Malt\", \"Single Malt\", \"Single Malt\", \"Single Malt\", \"Single Malt\", \"Single Malt\", \"Single Malt\", \"Single Malt\", \"Single Malt\", \"Single Malt\", \"Single Malt\", \"Single Malt\", \"Single Malt\", \"Single Malt\", \"Single Malt\", \"Single Malt\", \"Single Malt\", \"Single Malt\", \"Single Malt\", \"Single Malt\", \"Single Malt\", \"Single Malt\", \"Single Malt\", \"Blend\", \"Single Malt\", \"Single Malt\", \"Grain\", \"Single Malt\", \"Single Malt\", \"Single Malt\", \"Single Malt\", \"Single Malt\", \"Single Malt\", \"Single Malt\", \"Single Malt\", \"Single Malt\", \"Single Malt\", \"Single Malt\", \"Single Malt\", \"Single Malt\", \"Single Malt\", \"Single Malt\", \"Single Malt\", \"Single Malt\", \"Single Malt\", \"Single Malt\", \"Single Malt\", \"Single Malt\", \"Single Malt\", \"Single Malt\", \"Single Malt\", \"Single Malt\", \"Single Malt\", \"Single Malt\", \"Single Malt\", \"Single Malt\", \"Blend\", \"Single Malt\", \"Single Malt\", \"Single Malt\", \"Single Malt\", \"Blend\", \"Single Malt\", \"Blend\", \"Single Malt\", \"Single Malt\", \"Single Malt\", \"Single Malt\", \"Single Malt\", \"Single Malt\", \"Single Malt\", \"Single Malt\", \"Single Malt\", \"Single Malt\", \"Single Malt\", \"Single Malt\", \"Single Malt\", \"Single Malt\", \"Single Malt\", \"Single Malt\", \"Single Malt\", \"Single Malt\", \"Single Malt\", \"Blend\", \"Single Malt\", \"Liqueur\", \"Single Malt\", \"Single Malt\", \"Blend\", \"Single Malt\", \"Single Malt\", \"Blended Malt\", \"Blend\", \"Single Malt\", \"Single Malt\", \"Single Malt\", \"Single Malt\", \"Single Malt\", \"Single Malt\", \"Single Malt\", \"Single Malt\", \"Single Malt\", \"Single Malt\", \"Single Malt\", \"Single Malt\", \"Single Malt\", \"Single Malt\", \"Single Malt\", \"Single Malt\", \"Single Malt\", \"Single Malt\", \"Single Malt\", \"Single Malt\", \"Single Malt\", \"Single Malt\", \"Single Malt\", \"Single Malt\", \"Single Malt\", \"Blend\", \"Single Malt\", \"Blend\", \"Blend\", \"Blend\", \"Single Malt\", \"Single Malt\", \"Blend\", \"Single Malt\", \"Single Malt\", \"Single Malt\", \"Single Malt\", \"Single Malt\", \"Blended Malt\", \"Single Malt\", \"Single Malt\", \"Single Malt\", \"Single Malt\", \"Blend\", \"Single Malt\", \"Single Malt\", \"Single Malt\", \"Single Malt\", \"Single Malt\", \"Single Malt\", \"Single Malt\", \"Single Malt\", \"Single Malt\", \"Single Malt\", \"Single Malt\", \"Single Malt\", \"Single Malt\", \"Blended Malt\", \"Single Malt\", \"Single Malt\", \"Single Malt\", \"Single Malt\", \"Single Malt\", \"Single Malt\", \"Single Malt\", \"Single Malt\", \"Single Malt\", \"Single Malt\", \"Single Malt\", \"Single Malt\", \"Single Malt\", \"Single Malt\", \"Single Malt\", \"Single Malt\", \"Single Malt\", null, \"Single Malt\", \"Single Malt\", \"Single Malt\", \"Single Malt\", \"Single Malt\", \"Single Malt\", \"Single Malt\", \"Single Malt\", \"Single Malt\", \"Single Malt\", \"Single Malt\", \"Single Malt\", \"Single Malt\", \"Single Malt\", \"Single Malt\", \"Single Malt\", \"Single Malt\", \"Single Malt\", \"Single Malt\", \"Blend\", \"Single Malt\", \"Single Malt\", \"Single Malt\", \"Single Malt\", \"Single Malt\", \"Single Malt\", \"Single Malt\", \"Single Malt\", \"Single Malt\", \"Single Malt\", \"Single Malt\", \"Single Malt\", \"Single Malt\", \"Single Malt\", \"Single Malt\", \"Single Malt\", \"Single Malt\", \"Single Malt\", \"Single Malt\", \"Single Malt\", \"Single Malt\", \"Single Malt\", \"Single Malt\", \"Single Malt\", \"Single Malt\", \"Single Malt\", \"Blend\", \"Single Malt\", \"Blend\", \"Liqueur\", \"Liqueur\", \"Single Malt\", \"Single Malt\", \"Single Malt\", \"Single Malt\", \"Blend\", \"Single Malt\", \"Single Malt\", \"Single Malt\", \"Single Malt\", \"Single Malt\", \"Single Malt\", \"Single Malt\", \"Single Malt\", \"Single Malt\", \"Single Malt\", \"Single Malt\", \"Blend\", \"Single Malt\", \"Single Malt\", \"Single Malt\", \"Single Malt\", \"Single Malt\", \"Single Malt\", \"Single Malt\", \"Single Malt\", \"Single Malt\", \"Single Malt\", \"Blend\", \"Single Malt\", \"Blend\", \"Blend\", \"Blend\", \"Single Malt\", \"Blend\", \"Blend\", \"Blend\", \"Single Malt\", \"Single Malt\", \"Single Malt\", \"Single Malt\", \"Single Malt\", \"Single Malt\", \"Single Malt\", \"Single Malt\", \"Blend\", \"Blend\", \"Single Malt\", \"Blend\", \"Blended Malt\", \"Single Malt\", \"Single Malt\", \"Single Malt\", \"Single Malt\", \"Single Malt\", \"Single Malt\", \"Single Malt\", \"Single Malt\", \"Single Malt\", \"Single Malt\", \"Single Malt\"]}],                        {\"barmode\": \"overlay\", \"legend\": {\"bgcolor\": \"#F5F6F9\", \"font\": {\"color\": \"#4D5663\"}}, \"paper_bgcolor\": \"#F5F6F9\", \"plot_bgcolor\": \"#F5F6F9\", \"template\": {\"data\": {\"bar\": [{\"error_x\": {\"color\": \"#2a3f5f\"}, \"error_y\": {\"color\": \"#2a3f5f\"}, \"marker\": {\"line\": {\"color\": \"#E5ECF6\", \"width\": 0.5}}, \"type\": \"bar\"}], \"barpolar\": [{\"marker\": {\"line\": {\"color\": \"#E5ECF6\", \"width\": 0.5}}, \"type\": \"barpolar\"}], \"carpet\": [{\"aaxis\": {\"endlinecolor\": \"#2a3f5f\", \"gridcolor\": \"white\", \"linecolor\": \"white\", \"minorgridcolor\": \"white\", \"startlinecolor\": \"#2a3f5f\"}, \"baxis\": {\"endlinecolor\": \"#2a3f5f\", \"gridcolor\": \"white\", \"linecolor\": \"white\", \"minorgridcolor\": \"white\", \"startlinecolor\": \"#2a3f5f\"}, \"type\": \"carpet\"}], \"choropleth\": [{\"colorbar\": {\"outlinewidth\": 0, \"ticks\": \"\"}, \"type\": \"choropleth\"}], \"contour\": [{\"colorbar\": {\"outlinewidth\": 0, \"ticks\": \"\"}, \"colorscale\": [[0.0, \"#0d0887\"], [0.1111111111111111, \"#46039f\"], [0.2222222222222222, \"#7201a8\"], [0.3333333333333333, \"#9c179e\"], [0.4444444444444444, \"#bd3786\"], [0.5555555555555556, \"#d8576b\"], [0.6666666666666666, \"#ed7953\"], [0.7777777777777778, \"#fb9f3a\"], [0.8888888888888888, \"#fdca26\"], [1.0, \"#f0f921\"]], \"type\": \"contour\"}], \"contourcarpet\": [{\"colorbar\": {\"outlinewidth\": 0, \"ticks\": \"\"}, \"type\": \"contourcarpet\"}], \"heatmap\": [{\"colorbar\": {\"outlinewidth\": 0, \"ticks\": \"\"}, \"colorscale\": [[0.0, \"#0d0887\"], [0.1111111111111111, \"#46039f\"], [0.2222222222222222, \"#7201a8\"], [0.3333333333333333, \"#9c179e\"], [0.4444444444444444, \"#bd3786\"], [0.5555555555555556, \"#d8576b\"], [0.6666666666666666, \"#ed7953\"], [0.7777777777777778, \"#fb9f3a\"], [0.8888888888888888, \"#fdca26\"], [1.0, \"#f0f921\"]], \"type\": \"heatmap\"}], \"heatmapgl\": [{\"colorbar\": {\"outlinewidth\": 0, \"ticks\": \"\"}, \"colorscale\": [[0.0, \"#0d0887\"], [0.1111111111111111, \"#46039f\"], [0.2222222222222222, \"#7201a8\"], [0.3333333333333333, \"#9c179e\"], [0.4444444444444444, \"#bd3786\"], [0.5555555555555556, \"#d8576b\"], [0.6666666666666666, \"#ed7953\"], [0.7777777777777778, \"#fb9f3a\"], [0.8888888888888888, \"#fdca26\"], [1.0, \"#f0f921\"]], \"type\": \"heatmapgl\"}], \"histogram\": [{\"marker\": {\"colorbar\": {\"outlinewidth\": 0, \"ticks\": \"\"}}, \"type\": \"histogram\"}], \"histogram2d\": [{\"colorbar\": {\"outlinewidth\": 0, \"ticks\": \"\"}, \"colorscale\": [[0.0, \"#0d0887\"], [0.1111111111111111, \"#46039f\"], [0.2222222222222222, \"#7201a8\"], [0.3333333333333333, \"#9c179e\"], [0.4444444444444444, \"#bd3786\"], [0.5555555555555556, \"#d8576b\"], [0.6666666666666666, \"#ed7953\"], [0.7777777777777778, \"#fb9f3a\"], [0.8888888888888888, \"#fdca26\"], [1.0, \"#f0f921\"]], \"type\": \"histogram2d\"}], \"histogram2dcontour\": [{\"colorbar\": {\"outlinewidth\": 0, \"ticks\": \"\"}, \"colorscale\": [[0.0, \"#0d0887\"], [0.1111111111111111, \"#46039f\"], [0.2222222222222222, \"#7201a8\"], [0.3333333333333333, \"#9c179e\"], [0.4444444444444444, \"#bd3786\"], [0.5555555555555556, \"#d8576b\"], [0.6666666666666666, \"#ed7953\"], [0.7777777777777778, \"#fb9f3a\"], [0.8888888888888888, \"#fdca26\"], [1.0, \"#f0f921\"]], \"type\": \"histogram2dcontour\"}], \"mesh3d\": [{\"colorbar\": {\"outlinewidth\": 0, \"ticks\": \"\"}, \"type\": \"mesh3d\"}], \"parcoords\": [{\"line\": {\"colorbar\": {\"outlinewidth\": 0, \"ticks\": \"\"}}, \"type\": \"parcoords\"}], \"pie\": [{\"automargin\": true, \"type\": \"pie\"}], \"scatter\": [{\"marker\": {\"colorbar\": {\"outlinewidth\": 0, \"ticks\": \"\"}}, \"type\": \"scatter\"}], \"scatter3d\": [{\"line\": {\"colorbar\": {\"outlinewidth\": 0, \"ticks\": \"\"}}, \"marker\": {\"colorbar\": {\"outlinewidth\": 0, \"ticks\": \"\"}}, \"type\": \"scatter3d\"}], \"scattercarpet\": [{\"marker\": {\"colorbar\": {\"outlinewidth\": 0, \"ticks\": \"\"}}, \"type\": \"scattercarpet\"}], \"scattergeo\": [{\"marker\": {\"colorbar\": {\"outlinewidth\": 0, \"ticks\": \"\"}}, \"type\": \"scattergeo\"}], \"scattergl\": [{\"marker\": {\"colorbar\": {\"outlinewidth\": 0, \"ticks\": \"\"}}, \"type\": \"scattergl\"}], \"scattermapbox\": [{\"marker\": {\"colorbar\": {\"outlinewidth\": 0, \"ticks\": \"\"}}, \"type\": \"scattermapbox\"}], \"scatterpolar\": [{\"marker\": {\"colorbar\": {\"outlinewidth\": 0, \"ticks\": \"\"}}, \"type\": \"scatterpolar\"}], \"scatterpolargl\": [{\"marker\": {\"colorbar\": {\"outlinewidth\": 0, \"ticks\": \"\"}}, \"type\": \"scatterpolargl\"}], \"scatterternary\": [{\"marker\": {\"colorbar\": {\"outlinewidth\": 0, \"ticks\": \"\"}}, \"type\": \"scatterternary\"}], \"surface\": [{\"colorbar\": {\"outlinewidth\": 0, \"ticks\": \"\"}, \"colorscale\": [[0.0, \"#0d0887\"], [0.1111111111111111, \"#46039f\"], [0.2222222222222222, \"#7201a8\"], [0.3333333333333333, \"#9c179e\"], [0.4444444444444444, \"#bd3786\"], [0.5555555555555556, \"#d8576b\"], [0.6666666666666666, \"#ed7953\"], [0.7777777777777778, \"#fb9f3a\"], [0.8888888888888888, \"#fdca26\"], [1.0, \"#f0f921\"]], \"type\": \"surface\"}], \"table\": [{\"cells\": {\"fill\": {\"color\": \"#EBF0F8\"}, \"line\": {\"color\": \"white\"}}, \"header\": {\"fill\": {\"color\": \"#C8D4E3\"}, \"line\": {\"color\": \"white\"}}, \"type\": \"table\"}]}, \"layout\": {\"annotationdefaults\": {\"arrowcolor\": \"#2a3f5f\", \"arrowhead\": 0, \"arrowwidth\": 1}, \"coloraxis\": {\"colorbar\": {\"outlinewidth\": 0, \"ticks\": \"\"}}, \"colorscale\": {\"diverging\": [[0, \"#8e0152\"], [0.1, \"#c51b7d\"], [0.2, \"#de77ae\"], [0.3, \"#f1b6da\"], [0.4, \"#fde0ef\"], [0.5, \"#f7f7f7\"], [0.6, \"#e6f5d0\"], [0.7, \"#b8e186\"], [0.8, \"#7fbc41\"], [0.9, \"#4d9221\"], [1, \"#276419\"]], \"sequential\": [[0.0, \"#0d0887\"], [0.1111111111111111, \"#46039f\"], [0.2222222222222222, \"#7201a8\"], [0.3333333333333333, \"#9c179e\"], [0.4444444444444444, \"#bd3786\"], [0.5555555555555556, \"#d8576b\"], [0.6666666666666666, \"#ed7953\"], [0.7777777777777778, \"#fb9f3a\"], [0.8888888888888888, \"#fdca26\"], [1.0, \"#f0f921\"]], \"sequentialminus\": [[0.0, \"#0d0887\"], [0.1111111111111111, \"#46039f\"], [0.2222222222222222, \"#7201a8\"], [0.3333333333333333, \"#9c179e\"], [0.4444444444444444, \"#bd3786\"], [0.5555555555555556, \"#d8576b\"], [0.6666666666666666, \"#ed7953\"], [0.7777777777777778, \"#fb9f3a\"], [0.8888888888888888, \"#fdca26\"], [1.0, \"#f0f921\"]]}, \"colorway\": [\"#636efa\", \"#EF553B\", \"#00cc96\", \"#ab63fa\", \"#FFA15A\", \"#19d3f3\", \"#FF6692\", \"#B6E880\", \"#FF97FF\", \"#FECB52\"], \"font\": {\"color\": \"#2a3f5f\"}, \"geo\": {\"bgcolor\": \"white\", \"lakecolor\": \"white\", \"landcolor\": \"#E5ECF6\", \"showlakes\": true, \"showland\": true, \"subunitcolor\": \"white\"}, \"hoverlabel\": {\"align\": \"left\"}, \"hovermode\": \"closest\", \"mapbox\": {\"style\": \"light\"}, \"paper_bgcolor\": \"white\", \"plot_bgcolor\": \"#E5ECF6\", \"polar\": {\"angularaxis\": {\"gridcolor\": \"white\", \"linecolor\": \"white\", \"ticks\": \"\"}, \"bgcolor\": \"#E5ECF6\", \"radialaxis\": {\"gridcolor\": \"white\", \"linecolor\": \"white\", \"ticks\": \"\"}}, \"scene\": {\"xaxis\": {\"backgroundcolor\": \"#E5ECF6\", \"gridcolor\": \"white\", \"gridwidth\": 2, \"linecolor\": \"white\", \"showbackground\": true, \"ticks\": \"\", \"zerolinecolor\": \"white\"}, \"yaxis\": {\"backgroundcolor\": \"#E5ECF6\", \"gridcolor\": \"white\", \"gridwidth\": 2, \"linecolor\": \"white\", \"showbackground\": true, \"ticks\": \"\", \"zerolinecolor\": \"white\"}, \"zaxis\": {\"backgroundcolor\": \"#E5ECF6\", \"gridcolor\": \"white\", \"gridwidth\": 2, \"linecolor\": \"white\", \"showbackground\": true, \"ticks\": \"\", \"zerolinecolor\": \"white\"}}, \"shapedefaults\": {\"line\": {\"color\": \"#2a3f5f\"}}, \"ternary\": {\"aaxis\": {\"gridcolor\": \"white\", \"linecolor\": \"white\", \"ticks\": \"\"}, \"baxis\": {\"gridcolor\": \"white\", \"linecolor\": \"white\", \"ticks\": \"\"}, \"bgcolor\": \"#E5ECF6\", \"caxis\": {\"gridcolor\": \"white\", \"linecolor\": \"white\", \"ticks\": \"\"}}, \"title\": {\"x\": 0.05}, \"xaxis\": {\"automargin\": true, \"gridcolor\": \"white\", \"linecolor\": \"white\", \"ticks\": \"\", \"title\": {\"standoff\": 15}, \"zerolinecolor\": \"white\", \"zerolinewidth\": 2}, \"yaxis\": {\"automargin\": true, \"gridcolor\": \"white\", \"linecolor\": \"white\", \"ticks\": \"\", \"title\": {\"standoff\": 15}, \"zerolinecolor\": \"white\", \"zerolinewidth\": 2}}}, \"title\": {\"font\": {\"color\": \"#4D5663\"}, \"text\": \"Frequency of Whiskey by Style\"}, \"xaxis\": {\"gridcolor\": \"#E1E5ED\", \"showgrid\": true, \"tickfont\": {\"color\": \"#4D5663\"}, \"title\": {\"font\": {\"color\": \"#4D5663\"}, \"text\": \"Style of Whiskey\"}, \"zerolinecolor\": \"#E1E5ED\"}, \"yaxis\": {\"gridcolor\": \"#E1E5ED\", \"showgrid\": true, \"tickfont\": {\"color\": \"#4D5663\"}, \"title\": {\"font\": {\"color\": \"#4D5663\"}, \"text\": \"Count\"}, \"zerolinecolor\": \"#E1E5ED\"}},                        {\"showLink\": true, \"linkText\": \"Export to plot.ly\", \"plotlyServerURL\": \"https://plot.ly\", \"responsive\": true}                    ).then(function(){\n",
       "                            \n",
       "var gd = document.getElementById('7dbea66e-e1e3-45f5-a510-6e6e19174be4');\n",
       "var x = new MutationObserver(function (mutations, observer) {{\n",
       "        var display = window.getComputedStyle(gd).display;\n",
       "        if (!display || display === 'none') {{\n",
       "            console.log([gd, 'removed!']);\n",
       "            Plotly.purge(gd);\n",
       "            observer.disconnect();\n",
       "        }}\n",
       "}});\n",
       "\n",
       "// Listen for the removal of the full notebook cells\n",
       "var notebookContainer = gd.closest('#notebook-container');\n",
       "if (notebookContainer) {{\n",
       "    x.observe(notebookContainer, {childList: true});\n",
       "}}\n",
       "\n",
       "// Listen for the clearing of the current output cell\n",
       "var outputEl = gd.closest('.output');\n",
       "if (outputEl) {{\n",
       "    x.observe(outputEl, {childList: true});\n",
       "}}\n",
       "\n",
       "                        })                };                });            </script>        </div>"
      ]
     },
     "metadata": {},
     "output_type": "display_data"
    }
   ],
   "source": [
    "df[['Style']].iplot(kind='hist',\n",
    "                   xTitle='Style of Whiskey',\n",
    "                   yTitle = 'Count',\n",
    "                   title ='Frequency of Whiskey by Style')"
   ]
  },
  {
   "cell_type": "code",
   "execution_count": 53,
   "metadata": {
    "ExecuteTime": {
     "end_time": "2021-01-11T08:39:56.604394Z",
     "start_time": "2021-01-11T08:39:54.857630Z"
    }
   },
   "outputs": [
    {
     "name": "stderr",
     "output_type": "stream",
     "text": [
      "C:\\Users\\swos\\Anaconda3\\lib\\site-packages\\cufflinks\\plotlytools.py:807: FutureWarning:\n",
      "\n",
      "The pandas.np module is deprecated and will be removed from pandas in a future version. Import numpy directly instead\n",
      "\n",
      "C:\\Users\\swos\\Anaconda3\\lib\\site-packages\\cufflinks\\plotlytools.py:810: FutureWarning:\n",
      "\n",
      "The pandas.np module is deprecated and will be removed from pandas in a future version. Import numpy directly instead\n",
      "\n"
     ]
    },
    {
     "data": {
      "application/vnd.plotly.v1+json": {
       "config": {
        "linkText": "Export to plot.ly",
        "plotlyServerURL": "https://plot.ly",
        "showLink": true
       },
       "data": [
        {
         "marker": {
          "color": "rgba(255, 153, 51, 1.0)",
          "line": {
           "width": 1.3
          },
          "opacity": 0.8,
          "size": 12,
          "symbol": "circle"
         },
         "mode": "markers",
         "name": "12-50",
         "text": [
          "Benromach 21 Year Old",
          "Balblair 1990 29 Year Old Connoisseur's Choice",
          "Benriach 2005 UK Exclusive Peated Rum Cask #7553",
          "Character of Islay Bowmore 18 Year Old Wind & Waves #11714",
          "The Singleton of Glen Ord 38 Year Old Epicurean Odyssey",
          "Glenmorangie Quinta Ruban Giraffe Tin",
          "GlenAllachie 2006 #6620",
          "Wemyss Malts Bunnahabhain 1990 28 Year Old Boat Captain's Brew",
          "Wemyss Malts Bowmore 1988 31 Year Old Candied Violets",
          "Glendronach 27 Year Old #182 Oloroso UK Exclusive Single Cask",
          "Darkness Caperdonich 23 Year Old 10188",
          "Bruichladdich Black Art 8",
          "Bowmore 15 Year Old Glass Gift Set",
          "Macallan 50 Year Old Red Collection",
          "Darkness Bowmore 17 Year Old Moscatel Cask Finish",
          "Deanston 1991 Muscat Cask Finish",
          "Fettercairn 46 Year Old",
          "Ledaig 21 Year Old 1998 Marsala Cask Finish",
          "Deanston 2002 Pinot Noir Cask",
          "Deanston 2002 Organic",
          "Tobermory 23 Year Old",
          "Macallan 1990 22 Year Old Fine & Rare #24706",
          "Loch Lomond 30 Year Old",
          "Loch Lomond 21 Year Old",
          "Dalwhinnie 30 Year Old Special Releases 2020",
          "Singleton 17 Year Old Special Releases 2020",
          "Fettercairn 22 Year Old",
          "Macallan 18 Year Old Double Cask",
          "Macallan 1954 47 Year Old Fine & Rare #1902",
          "Macallan 1940 37 Year Old Fine & Rare",
          "Balvenie The Edge of Burnhead Wood 19 Year Old",
          "Glen Scotia 14 Year Old Tawny Port Finish Campbeltown Malts Festival 2020",
          "Wemyss Malts Velvet Fig 25 Year Old",
          "Glenglassaugh 1978 40 Year Old #3060",
          "Old Malt Cask Ardbeg 32 Year Old 1967",
          "Ardbeg 1972 VELIER",
          "Dailuaine 46 Year Old Platinum Old & Rare",
          "GlenAllachie 15 Year Old",
          "Glendronach 1993 26 Year Old #7434",
          "Glen Scotia 45 Year Old",
          "Balblair 25 Year Old",
          "Glenfiddich Grand Cru 23 Year Old",
          "Brora 40 Year Old 200th Anniversary",
          "GlenAllachie 25 Year Old",
          "GlenAllachie 18 Year Old",
          "Old Pulteney 25 Year Old - 2019",
          "Talisker 41 Year Old",
          "Port Ellen 39 Year Old Untold Stories: The Spirit Safe",
          "Balvenie The Week of Peat 14 Year Old",
          "Johnnie Walker 18 Year Old",
          "Whisky Works Glaswegian 29 Year Old",
          "Balblair 18 Year Old",
          "Balblair 15 Year Old",
          "Glenmorangie Grand Vintage Malt 1991",
          "Springbank 1997 21 year old Authors Series - Oscar Wilde",
          "Macallan 1937 32 Year Old Fine & Rare",
          "Macallan 1938 31 Year Old Fine & Rare",
          "Macallan 1947 15 Year Old Fine & Rare",
          "Balvenie 1971 DCS Chapter 4",
          "Talisker 1953 24 Year Old Connoisseur's Choice",
          "Talisker 1952 21 Year Old Connoisseur's Choice",
          "Ballantine's Miltonduff 17 Year Old",
          "Glenfiddich 30 Year Old",
          "Glenglassaugh 30 Year Old",
          "Glenfiddich 18 Year Old 5cl",
          "Glenfiddich 15 Year Old Solera 20cl",
          "Singleton of Dufftown 15 Year Old",
          "Singleton of Dufftown 18 Year Old",
          "GlenDronach 18 Year Old 5cl",
          "Loch Lomond 19 Year Old Royal Portrush",
          "Dalmore 40 Year Old",
          "Benrinnes 15 Year Old",
          "Jura 1988",
          "The Last Drop Glenrothes 1968 Cask 13504",
          "Fettercairn 40 Year Old",
          "GlenDronach 15 Year Old Revival",
          "Fettercairn 28 Year Old",
          "Macallan 30 Year Old Sherry Oak 2020",
          "Old Pulteney 18 Year Old",
          "Old Pulteney 15 Year Old",
          "Glenfiddich Winter Storm Batch 2",
          "Talisker 40 Year Old",
          "BenRiach 21 Year Old",
          "The Tweeddale The Evolution",
          "Convalmore 32 Year Old 2017 Special Release",
          "Jura 18 Year Old",
          "Bunnahabhain 40 Year Old",
          "Dalmore 45 Year Old",
          "Bunnahabhain 1980 Canasta Cask Finish",
          "Macallan 18 Year Old Sherry Oak 2020",
          "Glenfiddich 21 Year Old 20cl",
          "Old Malt Cask Highland Park 19 Year Old",
          "Aberlour 18 Year Old",
          "Dalmore 35 Year Old",
          "Chivas Regal 25 year old",
          "Old Pulteney 25 Year Old",
          "Bruichladdich 1984 32 Year Old",
          "Glenfiddich 26 Year Old Excellence",
          "Highland Park Fire",
          "Inchmurrin Taster Pack",
          "Glenfiddich 40 Year Old",
          "Loch Lomond Taster Pack",
          "Inchmoan 1992",
          "anCnoc 18 Year Old",
          "Glen Garioch 31 Year Old Platinum Old & Rare",
          "Glenburgie 44 Year Old Platinum Old & Rare",
          "Dufftown 44 Year Old Platinum Old & Rare",
          "Cragganmore 30 Year Old Platinum Old & Rare",
          "Braes of Glenlivet 30 Year Old Platinum Old & Rare",
          "Benrinnes 40 Year Old Platinum Old & Rare",
          "Balmenach 40 Year Old Platinum Old & Rare",
          "Aultmore 37 Year Old Platinum Old & Rare",
          "Ardmore 31 Year Old Platinum Old & Rare",
          "Old and Rare Bunnahabhain 30 Year Old",
          "Old Malt Cask Ben Nevis 23 Year Old",
          "Old Malt Cask Longmorn 21 Year Old",
          "Glengoyne 28 Year Old",
          "Bunnahabhain 1988 Marsala Cask Finish",
          "Balvenie 2001 DCS Chapter 5",
          "Dalmore 1973 Gonzalez Byass",
          "The Balvenie 50 Year Old: Marriage 0197",
          "Glenrothes 1995",
          "Glenrothes 40 Year Old",
          "Auchentoshan 1996",
          "Bowmore 15 Year Old Gift Set",
          "Glenrothes 1988",
          "Glen Keith 26 Year Old Platinum Old & Rare",
          "Benromach 15 Year Old",
          "Bowmore Feis Ile 2019 Cask #666",
          "GlenAllachie 2004 #6213",
          "GlenAllachie 2001 #4152",
          "Mortlach 15 Year Old - Game of Thrones Six Kingdoms",
          "Highland Park Esquire",
          "Dalwhinnie 30 Year Old Special Releases 2019",
          "Pittyvaich 29 Year Old Special Releases 2019",
          "Mortlach 26 Year Old Special Releases 2019",
          "Singleton of Glen Ord 18 Year Old Special Releases 2019",
          "Talisker 15 Year Old Special Releases 2019",
          "Cardhu 14 Year Old Special Releases 2019",
          "Macallan 50 Year Old",
          "Tamnavulin 33 Year Old The Stillman's Dram",
          "Laphroaig 25 Year Old Cask Strength",
          "Laphroaig 30 Year Old The Ian Hunter Story Book One",
          "Glengoyne 18 Year Old 20cl",
          "Glengoyne 15 Year Old 20cl",
          "Bruichladdich Black Art 7",
          "First Editions Ben Nevis 1996",
          "Glengoyne 30 Year Old 2018",
          "Littlemill 29 Year Old Private Cellar Edition 2019",
          "Highland Park 2006 14 Year Old Connoisseur's Choice",
          "The Glenlivet 1990 30 Year Old Connoisseur's Choice",
          "Golden Cask Tomatin 20 Year Old",
          "Darkness Dailuaine 17 Year Old",
          "Darkness Auchroisk 20 Year Old",
          "Darkness Auchentoshan 26 Year Old",
          "Glen Scotia 30 Year Old",
          "GlenAllachie 21 Year Old Batch 1",
          "Darkness Allt A'Bhainne 23 Year Old 10358",
          "Darkness Linkwood 19 Year Old Pedro Ximenez Cask 10559",
          "The Loch Fyne Bunnahabhain 14 Year Old 2006",
          "John Walker & Sons 28 Year Old Bicentenary Blend",
          "Highland Park 50 Year Old",
          "Darkness Ardbeg 14 Year Old Pedro Ximénez Cask Finish #11723",
          "Darkness Ardbeg 14 Year Old Pedro Ximénez Cask Finish #10394",
          "Golden Cask Bunnahabhain 28 Year Old",
          "Golden Cask Tobermory 20 Year Old",
          "Golden Cask Dailuaine 18 Year Old",
          "Golden Cask Speyside 23 Year Old",
          "Golden Cask Macduff 23 Year Old",
          "Golden Cask Macduff 35 Year Old",
          "Golden Cask Braes of Glenlivet 21 Year Old",
          "Golden Cask Benrinnes 21 Year Old",
          "GlenAllachie 1989 29 Year Old #2588",
          "GlenDronach Kingsman Edition 1989 Vintage",
          "Mortlach 21 Year Old Special Releases 2020",
          "Ardbeg 1991 21 Year Old Single Cask Cadenhead's Authentic Collection",
          "Balvenie 17 Year Old Islay Cask",
          "Macallan 15 Year Old Double Cask",
          "Arran 21 Year Old Kildonan & Pladda Island - Explorer Series Vol. 3",
          "Fettercairn 16 Year Old",
          "Old Malt Cask Inchmurrin 23 Year Old",
          "Macallan Exceptional Single Cask 2019/ESB-5542/02",
          "Port Ellen 40 Year Old 9 Rogue Casks",
          "Inchmurrin 2004 #17/641-2",
          "Arran 1995 #217",
          "Macallan Exceptional Single Cask 2019/ESB-14/03",
          "Glendronach 1992 27 Year Old #5852",
          "Lagavulin 21 Year Old Jazz Festival 2019",
          "Dalmore 25 Year Old - 2019",
          "Invergordon 21 Year Old The Sovereign",
          "Bruichladdich 17 Year Old 1l",
          "Tullibardine 30 Year Old Platinum Old & Rare",
          "Tormore 31 Year Old Platinum Old & Rare",
          "Teaninich 43 Year Old Platinum Old & Rare",
          "Tamdhu 1989 30 Year Old Platinum Old & Rare",
          "Strathmill 33 Year Old Platinum Old & Rare",
          "Linkwood 30 Year Old Platinum Old & Rare",
          "Inchgower 37 Year Old Platinum Old & Rare",
          "Glen Elgin 44 Year Old Platinum Old & Rare",
          "Glentauchers 30 Year Old Platinum Old & Rare",
          "Glenrothes 31 Year Old Platinum Old & Rare",
          "Glenlossie 44 Year Old Platinum Old & Rare",
          "Glen Garioch 31 Year Old Platinum Old & Rare",
          "Glenburgie 44 Year Old Platinum Old & Rare",
          "Dufftown 44 Year Old Platinum Old & Rare",
          "Cragganmore 30 Year Old Platinum Old & Rare",
          "Braes of Glenlivet 30 Year Old Platinum Old & Rare",
          "Benrinnes 40 Year Old Platinum Old & Rare",
          "Balmenach 40 Year Old Platinum Old & Rare",
          "Aultmore 37 Year Old Platinum Old & Rare",
          "Ardmore 31 Year Old Platinum Old & Rare",
          "Old and Rare Bunnahabhain 30 Year Old",
          "Old Malt Cask Ben Nevis 23 Year Old",
          "Old Malt Cask Longmorn 21 Year Old",
          "Glengoyne 28 Year Old",
          "Bunnahabhain 1988 Marsala Cask Finish",
          "Balvenie 2001 DCS Chapter 5",
          "Dalmore 1973 Gonzalez Byass",
          "The Balvenie 50 Year Old: Marriage 0197",
          "Glenrothes 1995",
          "Glenrothes 40 Year Old",
          "Auchentoshan 1996",
          "Bowmore 15 Year Old Gift Set",
          "Glenrothes 1988",
          "Glen Keith 26 Year Old Platinum Old & Rare",
          "Benromach 15 Year Old",
          "Bowmore Feis Ile 2019 Cask #666",
          "GlenAllachie 2004 #6213",
          "GlenAllachie 2001 #4152",
          "Mortlach 15 Year Old - Game of Thrones Six Kingdoms",
          "Highland Park Esquire",
          "Dalwhinnie 30 Year Old Special Releases 2019",
          "Pittyvaich 29 Year Old Special Releases 2019",
          "Mortlach 26 Year Old Special Releases 2019",
          "Singleton of Glen Ord 18 Year Old Special Releases 2019",
          "Talisker 15 Year Old Special Releases 2019",
          "Cardhu 14 Year Old Special Releases 2019",
          "Macallan 50 Year Old",
          "Tamnavulin 33 Year Old The Stillman's Dram",
          "Laphroaig 25 Year Old Cask Strength",
          "Laphroaig 30 Year Old The Ian Hunter Story Book One",
          "Glengoyne 18 Year Old 20cl",
          "Glengoyne 15 Year Old 20cl",
          "Bruichladdich Black Art 7",
          "First Editions Ben Nevis 1996",
          "Glengoyne 30 Year Old 2018",
          "Littlemill 29 Year Old Private Cellar Edition 2019",
          "Ardbeg Traigh Bhan 19 Year Old",
          "anCnoc 16 Year Old 125th Anniversary",
          "Bowmore 15 Year Old 35cl",
          "Old Malt Cask Bowmore 17 Year Old",
          "Talisker 25 Year Old 2004",
          "Highland Park 26 Year Old Soren Solkaer",
          "Old Malt Cask Arran 21 Year Old",
          "Aultmore 21 Year Old",
          "BenRiach Batch 16 2005 #3791",
          "BenRiach Batch 16 1994 #6500",
          "BenRiach Batch 16 1993 #7881",
          "BenRiach Batch 16 1991 #1865",
          "BenRiach Batch 16 1985 #7214",
          "Jura 21 Year Old Tide",
          "Bunnahabhain Elements 39 Year Old",
          "Macallan 30 Year Old Sherry Oak (Old style)",
          "Glen Ord 25 Year Old",
          "North British 20 Year Old",
          "Benromach 1981",
          "Distiller's Art Royal Brackla 18 Year Old",
          "Glengoyne 21 Year Old",
          "Glenmorangie 15 Year Old Sauternes Wood Finish",
          "Loch Lomond 25 Year Old Triple Wood",
          "Loch Lomond 2004 Single Cask",
          "Balvenie A Day of Dark Barley 26 Year Old",
          "Fettercairn 50 Year Old",
          "Hazelburn 14 Year Old Oloroso Cask Matured 2019",
          "Old Malt Cask Bowmore 17 Year Old - Feis Ile 2019",
          "Arran Explorer Series II Lochranza Castle",
          "Old Malt Cask Glencadam 14 Year Old",
          "Old Malt Cask Glenburgie 19 Year Old",
          "Old Malt Cask Longmorn 15 Year Old",
          "GlenDronach 1992 26 Year Old The Whisky Shop Exclusive",
          "Highland Park Twisted Tattoo 16 Year Old",
          "Old Malt Cask Ben Nevis 22 Year Old",
          "Authors' Series Probably Speyside's Finest 1968 50 Year Old - Nathaniel Hawthorne",
          "Authors' Series Tormore 1988 30 Year Old - Charles Baudelaire",
          "Authors' Series Tullibardine 1993 25 Year Old - William Thackeray",
          "GlenDronach Master Vintage 1993 25 Year Old",
          "Balvenie 1999 DCS Chapter 4",
          "Inchmurrin 2001 Single Cask Exclusive",
          "The Singleton of Glen Ord 14 Year Old 2018 Special Release",
          "Macallan 26 Year Old Platinum Old & Rare",
          "Old Malt Cask Jura 28 Year Old",
          "Bruichladdich Black Art 6 & free glass",
          "Loch Lomond 50 Year Old",
          "The GlenDronach Kingsman Edition 1991 Vintage",
          "Macallan 1940 35 Year Old Fine & Rare",
          "Loch Lomond 2001 The Whisky Shop Exclusive Limousin Oak Cask",
          "Royal Salute 21 Year Old Gift Pack",
          "Glen Garioch 1998 Wine Cask Matured",
          "Blair Athol 19yo",
          "Balvenie 1972 DCS Chapter 2",
          "Aberfeldy 1991 The Whisky Shop Exclusive",
          "BenRiach 17 Year Old Pedro Ximenez Sherry Wood",
          "GlenDronach 14 Year Old Virgin Oak",
          "Benromach 35 Year Old",
          "BRUICHLADDICH THE LADDIE TWENTY TWO YEAR OLD",
          "anCnoc 1997",
          "Bowmore 50 year old",
          "Glendronach 19 year old Madeira Cask",
          "Balvenie 1968 DCM bottling 46 year old",
          "Pittyvaich 1989 25 year old Special Release 2015",
          "Dalwhinnie 1989 25 year old Special Release 2015",
          "Dailuaine 1980 34 year old Special Release 2015",
          "Caol Ila 17 year old  Special Release 2015",
          "The Cally 1974 'Caledonian' 40 Year Old 2015 Special Release",
          "Brora 1977 37 year old Special Release 2015",
          "Laphroaig 32 Year Old",
          "BenRiach 'Latada' 18 Year Old Peated Madeira  Finish",
          "Glendronach Octaves 20 Year Old",
          "Dalmore 30 Year Old",
          "Dalmore 21 year old",
          "Dimple 15 Year Old",
          "Cutty Sark 18 Year Old",
          "The Deveron 18 Years Old",
          "Royal Brackla 21 Years Old",
          "Royal Brackla 16 Years Old",
          "Chivas 18 Year Old Ice Drop Gift Pack",
          "Laphroaig 25 Year Old 2018",
          "Laphroaig 15 Year Old 200th Anniversary Bottling",
          "Ledaig 42 year old",
          "Rare Cask Reserves  Ghosted Reserve",
          "Highland Park Odin",
          "Auchentoshan 1965",
          "Laphroaig 1991",
          "Bruichladdich Black Art 4",
          "Laphroaig 18 Year Old",
          "Ladyburn 1974 40 year old",
          "BenRiach 35 year old",
          "Old Pulteney 40 year old",
          "Talisker 1985 27 year old",
          "Port Ellen 34 year old 13th Release",
          "Glenfarclas 1966 Fino Cask",
          "The Glenlivet 50 year old Winchester Collection 1964",
          "Benrinnes 21 year old 2014 Special Release",
          "Caol Ila 15 year old",
          "Cragganmore 25 Year Old 2014 Special Release",
          "Rosebank 21 Year Old 2014 Special Release",
          "The Singleton of Glendullan 38 year old 2014 Special Release",
          "Glenfiddich 19 Year Old Age of Discovery Bourbon Cask Reserve",
          "Springbank 18 year old Renegade",
          "Glenfiddich 15 Year Old Solera 5cl",
          "Auchentoshan 18 Year Old 5cl",
          "The Glenlivet 18 year old & 2 Glass Gift Pack",
          "The Grants Rare Cask Reserve Pack 25 year old 3 x 35cl",
          "Springbank 21 year old Renegade",
          "Kininvie 23 year old batch 2",
          "Whyte & Mackay 30 year old",
          "BenRiach 25 year old",
          "Arran 14 year old",
          "Aberlour 16 Year Old",
          "Whyte & Mackay 40 year old",
          "Tomintoul 27 year old",
          "Speyburn 25 year old",
          "Scapa 16 Year Old",
          "Royal Salute Diamond Jubilee",
          "Old Pulteney 30 year old",
          "Longmorn 16 year old",
          "Lagavulin 16 year old 20cl",
          "Isle of Jura 30 year old"
         ],
         "textfont": {
          "color": "#4D5663"
         },
         "type": "scatter",
         "x": [
          178.57,
          885.71,
          171.43,
          421.36,
          3000,
          85.7,
          141.43,
          341.43,
          800,
          600,
          615.9,
          414.21,
          90,
          99992.86,
          387.98,
          385.71,
          12142.86,
          285.71,
          157.14,
          214.27,
          427.14,
          14214.29,
          714.29,
          207.14,
          785.71,
          157.14,
          285.71,
          357.14,
          45707.14,
          49992.86,
          371.43,
          107.14,
          155.71,
          1427.14,
          4564.29,
          9992.86,
          1535.71,
          95.71,
          355.71,
          5428.57,
          750,
          268.57,
          6428.57,
          357.14,
          138.57,
          607.14,
          4142.86,
          6428.57,
          78.36,
          117.14,
          185.71,
          148.5,
          114.29,
          857.07,
          892.86,
          49992.86,
          60714.29,
          48571.43,
          29992.86,
          4285.71,
          3571.43,
          132.86,
          714.29,
          514.29,
          220,
          135,
          69.93,
          108.57,
          300,
          228.57,
          9642.86,
          68.43,
          928.57,
          7714.29,
          4285.71,
          88.57,
          785.71,
          6785.71,
          139.93,
          84.14,
          284.29,
          3928.57,
          199.99,
          250,
          1928.57,
          107.14,
          3178.57,
          15714.29,
          2571.43,
          464.29,
          225,
          427.14,
          290,
          6428.57,
          407.14,
          428.57,
          1000,
          535.71,
          271.43,
          186.67,
          3928.57,
          173.33,
          328.57,
          125.71,
          442.86,
          1442.86,
          1442.86,
          571.43,
          407.14,
          1021.43,
          1021.43,
          692.86,
          457.14,
          800,
          228.57,
          214.29,
          850,
          642.86,
          1142.86,
          2850,
          39285.71,
          157.14,
          4142.86,
          357.14,
          91.41,
          507.14,
          385.71,
          100,
          3570,
          157.14,
          192.86,
          171.43,
          285.71,
          714.29,
          471.43,
          2142.86,
          185.71,
          157.14,
          171.43,
          119993.33,
          857.14,
          657.14,
          998.57,
          160,
          110,
          421.43,
          228.57,
          1000,
          3928.57,
          133.57,
          885.71,
          185.71,
          149.9,
          213.9,
          179.98,
          1214.29,
          284.29,
          190,
          201.9,
          190,
          1057.14,
          24142.86,
          319.98,
          279.98,
          264.29,
          135.71,
          135.71,
          157.14,
          157.14,
          342.86,
          142.86,
          142.86,
          535.71,
          1107.14,
          821.43,
          707.14,
          498.57,
          142.86,
          241.43,
          100,
          228.57,
          5000,
          9135.71,
          92.86,
          255.71,
          4278.57,
          428.57,
          1141.43,
          1250,
          185.71,
          195,
          371.43,
          485.71,
          1278.57,
          407.14,
          478.57,
          442.86,
          735.71,
          1442.86,
          400,
          528.57,
          1442.86,
          442.86,
          1442.86,
          1442.86,
          571.43,
          407.14,
          1021.43,
          1021.43,
          692.86,
          457.14,
          800,
          228.57,
          214.29,
          850,
          642.86,
          1142.86,
          2850,
          39285.71,
          157.14,
          4142.86,
          357.14,
          91.41,
          507.14,
          385.71,
          100,
          3570,
          157.14,
          192.86,
          171.43,
          285.71,
          714.29,
          471.43,
          2142.86,
          185.71,
          157.14,
          171.43,
          119993.33,
          857.14,
          657.14,
          998.57,
          160,
          110,
          421.43,
          228.57,
          1000,
          3928.57,
          241.43,
          142.86,
          105.71,
          271.43,
          850,
          785.71,
          255.71,
          257.14,
          157.14,
          328.57,
          357.14,
          428.57,
          850,
          228.57,
          17135.71,
          8571.43,
          628.57,
          178.57,
          428.57,
          170,
          214.29,
          320,
          357.14,
          157.14,
          892.86,
          25707.14,
          92.86,
          284.29,
          192.86,
          141.43,
          178.57,
          150,
          341.43,
          114.29,
          228.57,
          3928.57,
          607.14,
          564.29,
          357.14,
          1707.14,
          121.43,
          142.86,
          2628.57,
          250,
          400,
          17142.86,
          785.71,
          57142.86,
          121.43,
          192.86,
          207.14,
          197.14,
          21428.57,
          457.14,
          118.57,
          82.84,
          642.86,
          221.43,
          100,
          25000,
          140,
          27142.86,
          357.14,
          464.29,
          542.86,
          128.57,
          1142.86,
          2142.86,
          1071.43,
          128.57,
          525.71,
          2142.86,
          500,
          71.43,
          102.86,
          92.86,
          271.43,
          128.57,
          392.86,
          857.14,
          107.14,
          4571.43,
          500,
          500,
          6428.57,
          353.57,
          321.43,
          114.29,
          3710,
          642.86,
          2142.86,
          750,
          2857.14,
          1214.29,
          25714.29,
          342.86,
          107.14,
          427.14,
          428.57,
          1071.43,
          214.29,
          285.71,
          165,
          219.8,
          100,
          357.14,
          357.14,
          285.71,
          357.14,
          292.86,
          81.43,
          100,
          900,
          165.7,
          400,
          125.71,
          471.43,
          500,
          135.71,
          165,
          642.86
         ],
         "y": [
          "Single Malt",
          "Single Malt",
          "Single Malt",
          "Single Malt",
          "Single Malt",
          "Single Malt",
          "Single Malt",
          "Single Malt",
          "Single Malt",
          "Single Malt",
          "Single Malt",
          "Single Malt",
          "Single Malt",
          "Single Malt",
          "Single Malt",
          "Single Malt",
          "Single Malt",
          "Single Malt",
          "Single Malt",
          "Single Malt",
          "Single Malt",
          "Single Malt",
          "Single Malt",
          "Single Malt",
          "Single Malt",
          "Single Malt",
          "Single Malt",
          "Single Malt",
          "Single Malt",
          "Single Malt",
          "Single Malt",
          "Single Malt",
          "Blended Malt",
          "Single Malt",
          "Single Malt",
          "Single Malt",
          "Single Malt",
          "Single Malt",
          "Single Malt",
          "Single Malt",
          "Single Malt",
          "Single Malt",
          "Single Malt",
          "Single Malt",
          "Single Malt",
          "Single Malt",
          "Single Malt",
          "Single Malt",
          "Single Malt",
          "Blend",
          "Grain",
          "Single Malt",
          "Single Malt",
          "Single Malt",
          "Single Malt",
          "Single Malt",
          "Single Malt",
          "Single Malt",
          "Single Malt",
          "Single Malt",
          "Single Malt",
          "Blend",
          "Single Malt",
          "Single Malt",
          "Single Malt",
          "Single Malt",
          "Single Malt",
          "Single Malt",
          "Single Malt",
          "Single Malt",
          "Single Malt",
          "Single Malt",
          "Single Malt",
          "Single Malt",
          "Single Malt",
          "Single Malt",
          "Single Malt",
          "Single Malt",
          "Single Malt",
          "Single Malt",
          "Single Malt",
          "Single Malt",
          "Single Malt",
          "Blend",
          "Single Malt",
          "Single Malt",
          "Single Malt",
          "Single Malt",
          "Single Malt",
          "Single Malt",
          "Single Malt",
          "Single Malt",
          "Single Malt",
          "Single Malt",
          "Blended Malt",
          "Single Malt",
          "Single Malt",
          "Single Malt",
          "Single Malt",
          "Single Malt",
          "Single Malt",
          "Single Malt",
          "Single Malt",
          "Single Malt",
          "Single Malt",
          "Single Malt",
          "Single Malt",
          "Single Malt",
          "Single Malt",
          "Single Malt",
          "Single Malt",
          "Single Malt",
          "Single Malt",
          "Single Malt",
          "Single Malt",
          "Single Malt",
          "Single Malt",
          "Single Malt",
          "Single Malt",
          "Single Malt",
          "Single Malt",
          "Single Malt",
          "Single Malt",
          "Single Malt",
          "Single Malt",
          "Single Malt",
          "Single Malt",
          "Single Malt",
          "Single Malt",
          "Single Malt",
          "Single Malt",
          "Single Malt",
          "Single Malt",
          "Single Malt",
          "Single Malt",
          "Single Malt",
          "Single Malt",
          "Single Malt",
          "Single Malt",
          "Single Malt",
          "Single Malt",
          "Single Malt",
          "Single Malt",
          "Single Malt",
          "Single Malt",
          "Single Malt",
          "Single Malt",
          "Single Malt",
          "Single Malt",
          "Single Malt",
          "Single Malt",
          "Single Malt",
          "Single Malt",
          "Single Malt",
          "Single Malt",
          "Single Malt",
          "Single Malt",
          "Single Malt",
          "Single Malt",
          "Single Malt",
          "Blend",
          "Single Malt",
          "Single Malt",
          "Single Malt",
          "Single Malt",
          "Single Malt",
          "Single Malt",
          "Single Malt",
          "Single Malt",
          "Single Malt",
          "Single Malt",
          "Single Malt",
          "Single Malt",
          "Single Malt",
          "Single Malt",
          "Single Malt",
          "Single Malt",
          "Single Malt",
          "Single Malt",
          "Single Malt",
          "Single Malt",
          "Single Malt",
          "Single Malt",
          "Single Malt",
          "Single Malt",
          "Single Malt",
          "Single Malt",
          "Single Malt",
          "Single Malt",
          "Grain",
          "Single Malt",
          "Single Malt",
          "Single Malt",
          "Single Malt",
          "Single Malt",
          "Single Malt",
          "Single Malt",
          "Single Malt",
          "Single Malt",
          "Single Malt",
          "Single Malt",
          "Single Malt",
          "Single Malt",
          "Single Malt",
          "Single Malt",
          "Single Malt",
          "Single Malt",
          "Single Malt",
          "Single Malt",
          "Single Malt",
          "Single Malt",
          "Single Malt",
          "Single Malt",
          "Single Malt",
          "Single Malt",
          "Single Malt",
          "Single Malt",
          "Single Malt",
          "Single Malt",
          "Single Malt",
          "Single Malt",
          "Single Malt",
          "Single Malt",
          "Single Malt",
          "Single Malt",
          "Single Malt",
          "Single Malt",
          "Single Malt",
          "Single Malt",
          "Single Malt",
          "Single Malt",
          "Single Malt",
          "Single Malt",
          "Single Malt",
          "Single Malt",
          "Single Malt",
          "Single Malt",
          "Single Malt",
          "Single Malt",
          "Single Malt",
          "Single Malt",
          "Single Malt",
          "Single Malt",
          "Single Malt",
          "Single Malt",
          "Single Malt",
          "Single Malt",
          "Single Malt",
          "Single Malt",
          "Single Malt",
          "Single Malt",
          "Single Malt",
          "Single Malt",
          "Single Malt",
          "Single Malt",
          "Single Malt",
          "Single Malt",
          "Single Malt",
          "Single Malt",
          "Single Malt",
          "Single Malt",
          "Single Malt",
          "Single Malt",
          "Single Malt",
          "Grain",
          "Single Malt",
          "Single Malt",
          "Single Malt",
          "Single Malt",
          "Single Malt",
          "Single Malt",
          "Single Malt",
          "Single Malt",
          "Single Malt",
          "Single Malt",
          "Single Malt",
          "Single Malt",
          "Single Malt",
          "Single Malt",
          "Single Malt",
          "Single Malt",
          "Single Malt",
          "Single Malt",
          "Single Malt",
          "Single Malt",
          "Single Malt",
          "Single Malt",
          "Single Malt",
          "Single Malt",
          "Single Malt",
          "Single Malt",
          "Single Malt",
          "Single Malt",
          "Single Malt",
          "Single Malt",
          "Single Malt",
          "Blend",
          "Single Malt",
          "Single Malt",
          "Single Malt",
          "Single Malt",
          "Single Malt",
          "Single Malt",
          "Single Malt",
          "Single Malt",
          "Single Malt",
          "Single Malt",
          "Single Malt",
          "Single Malt",
          "Single Malt",
          "Single Malt",
          "Single Malt",
          "Single Malt",
          "Single Malt",
          "Single Malt",
          "Single Malt",
          "Single Malt",
          "Single Malt",
          "Single Malt",
          "Single Malt",
          "Blend",
          "Blend",
          "Single Malt",
          "Single Malt",
          "Single Malt",
          "Blend",
          "Single Malt",
          "Single Malt",
          "Single Malt",
          "Blended Malt",
          "Single Malt",
          "Single Malt",
          "Single Malt",
          "Single Malt",
          "Single Malt",
          "Single Malt",
          "Single Malt",
          "Single Malt",
          "Single Malt",
          "Single Malt",
          "Single Malt",
          "Single Malt",
          "Single Malt",
          "Single Malt",
          "Single Malt",
          "Single Malt",
          "Single Malt",
          "Single Malt",
          "Single Malt",
          "Single Malt",
          "Single Malt",
          "Single Malt",
          "Single Malt",
          "Single Malt",
          "Single Malt",
          "Blend",
          "Single Malt",
          "Single Malt",
          "Single Malt",
          "Blend",
          "Single Malt",
          "Single Malt",
          "Single Malt",
          "Blend",
          "Single Malt",
          "Single Malt",
          "Single Malt",
          "Single Malt"
         ]
        },
        {
         "marker": {
          "color": "rgba(55, 128, 191, 1.0)",
          "line": {
           "width": 1.3
          },
          "opacity": 0.8,
          "size": 12,
          "symbol": "circle"
         },
         "mode": "markers",
         "name": "No Age Statement",
         "text": [
          "John Walker & Sons King George V",
          "Paul John Christmas Edition 2020",
          "Compass Box Magic Cask",
          "Johnnie Walker Blue Label Chinese New Year 2021 - Year of the Ox",
          "The Glenlivet 1986 33 Year Old Connoisseur's Choice",
          "Johnnie Walker Black Icon 200th Anniversary",
          "Johnnie Walker Gold Icon 200th Anniversary",
          "Glen Moray 2006 Sauternes Cask",
          "Drinks By The Dram Whisky Baubles",
          "Compass Box Peat Monster Arcana",
          "anCnoc 2007 #660",
          "Johnnie Walker Blue Label Glass Gift Set",
          "Johnnie Walker Black Label Glass Gift Set",
          "Johnnie Walker 18 Year Old Glass Gift Set",
          "Johnnie Walker Black Label Gift Tin",
          "Johnnie Walker Green Label Gift Set",
          "Johnnie Walker Gold Label Glass Gift Set",
          "Compass Box Spice Tree Extravaganza",
          "Compass Box Rogues Banquet",
          "Compass Box Juveniles",
          "Compass Box Flaming Heart",
          "Kilchoman Machir Bay Cask Strength Christmas Edition",
          "Arran Sauternes Cask Finish",
          "The Loch Fyne The Living Cask Batch 10",
          "Johnnie Walker Blue Label 200th Anniversary",
          "Ardbeg An Oa Smoker Gift Pack",
          "Bunnahabhain 2008 Manzanilla Cask",
          "Bunnahabhain 1997 Moine",
          "Macallan Exceptional Cask 1993 #3917",
          "Balvenie Tun 1509 Batch 7",
          "Pittyvaich 30 Year Old Special Releases 2020",
          "Bunnahabhain Cruach-Mhona",
          "Bunnahabhain Eirigh Na Greine",
          "Loch Lomond Wales Open & Celtic Classic Oloroso Cask",
          "Loch Lomond The English Open Sauternes Cask",
          "Loch Lomond British Masters Limousin Oak Cask",
          "Loch Lomond The English Championship Rum Cask",
          "Loch Lomond The UK Championship Tawny Port Cask",
          "Port Charlotte OLC: 01 2010 Heavily Peated",
          "The Glenlivet Spectra",
          "Teacher's Highland Cream",
          "Macallan Rare Cask 2020 Release",
          "Stylish Whisky Mini Nessie Decanter 10cl",
          "Stylish Whisky Mini Piper Decanter 10cl",
          "Johnnie Walker Blue Label Rare Side of Scotland",
          "Arran Quarter Cask The Bothy",
          "Robert Burns Malt Gift Pack",
          "Jura 1989",
          "Nectar Grove Batch Strength",
          "Glenrothes Whisky Maker's Cut",
          "Laphroaig Lore Gift Set",
          "Johnnie Walker Sweet Peat",
          "Dalmore Port Wood Reserve Gift Set",
          "Bruichladdich The Classic Laddie Scottish Barley Gift Pack",
          "Johnnie Walker Taster Gift Set 3x5cl",
          "Johnnie Walker Blue Label Ghost & Rare: Glenury Royal",
          "Compass Box The Circle",
          "Stylish Whisky Golf Club Decanter 20cl",
          "Pot Still Tap & 2 Glasses",
          "Auchentoshan Gift Pack 3x5cl",
          "Benromach Cask Strength 2009",
          "Kilchoman Twin Pack 2x20cl",
          "Kilchoman Sanaig 20cl",
          "Loch Lomond Single Grain",
          "Loch Lomond Signature",
          "Bruichladdich The Classic Laddie 20cl",
          "Longrow Peated",
          "Arbikie Highland Rye",
          "Kilchoman Sanaig",
          "Kilchoman Machir Bay",
          "Macallan Estate 2019",
          "Clynelish Reserve - Game of Thrones House Tyrell",
          "Kingsbarns Dream to Dram",
          "Compass Box The Spaniard",
          "Glenglassaugh Evolution",
          "Glen Moray Mastery",
          "Glenkeir Treasures Secret Islay",
          "Glen Scotia Victoriana",
          "Johnnie Walker Green Label",
          "The John Walker",
          "Glendronach Peated Cask",
          "Laphroaig Select",
          "Cragganmore Distillers Edition",
          "Johnnie Walker Blue Label 20cl",
          "Black Bottle",
          "Whyte & Mackay",
          "Johnnie Walker Red Label",
          "Glayva",
          "The Glenlivet Nadurra Oloroso Cask Finish",
          "Johnnie Walker Blenders' Batch Directors Edition 2016",
          "Aberlour Casg Annamh",
          "Compass Box Malt Whisky Collection",
          "Chivas Regal Mizunara",
          "Monkey Shoulder Smokey Monkey",
          "Johnnie Walker Blue Label Ghost & Rare: Port Ellen",
          "Glenfiddich Fire & Cane",
          "Ailsa Bay 1.2 Sweet Smoke",
          "Bruichladdich Classic Laddie Gift Pack",
          "Old Pulteney Huddart",
          "The Loch Fyne Chocolate & Orange Liqueur 5cl",
          "The Loch Fyne Blend 5cl",
          "Classic Malts Gentle Collection",
          "Classic Malts Coastal Collection",
          "Classic Malt Pack Strong 3 x 20cl",
          "Golf Ball on Tee with Tap",
          "Johnnie Walker Gold Label Reserve",
          "Johnnie Walker Blue Label",
          "Jura Seven Wood",
          "Bunnahabhain Toiteach A Dha",
          "Shackleton Blended Malt Scotch",
          "Bunnahabhain Stiuireadair",
          "Globe and 4 Glasses",
          "Macallan No 6 1824 Series",
          "Barrel and 2 Glasses",
          "Auchentoshan Gift Pack 3 x 20cl",
          "Barley Tap and 2 Glasses",
          "Glenfiddich IPA Experiment",
          "Glenglassaugh Octaves Classic",
          "Laphroaig Lore",
          "Old Pulteney 1983 Vintage",
          "The Lost Distillery Co. Lossit",
          "Ardbeg An Oa",
          "The Lost Distillery Co. Jericho",
          "Talisker Skye",
          "Robert Burns Malt",
          "Benromach Peat Smoke",
          "Laphroaig Quarter Cask",
          "Glen Moray Rhum Agricole",
          "Glenrothes Elders' Reserve 10cl",
          "Kilchoman UK Small Batch No.1",
          "Glenmorangie 1993 Burr Oak Reserve",
          "Game of Thrones Whisky Collection (Set of 9)",
          "Johnnie Walker Double Black Gift Set",
          "Bowmore Craftsmen's Collection Mashmen's Selection",
          "Macallan Decades Fifties",
          "Macallan Decades Forties",
          "Macallan Rare Cask Batch No.2 2019 Release",
          "Dalmore King Alexander III Gift Set",
          "1770 Peated No.1",
          "Old Pulteney 2006 #1448",
          "The Lost Distillery Co. Discovery Selection Gift Pack 3x5cl",
          "Balvenie Tun 1509 Batch 6",
          "Magnum Highland Cream Liqueur",
          "Macallan Edition No.5",
          "12 Drams of Christmas - Premium Whisky Selection Box",
          "12 Drams of Christmas - Whisky Selection Box",
          "Johnnie Walker Discover Gift Set 5x5cl",
          "Compass Box Myths & Legends III",
          "Compass Box Myths & Legends II",
          "Compass Box Myths & Legends I",
          "Jura Gift Pack 3x5cl",
          "Compass Box No Name No.2",
          "Drinks by the Dram Whisky Crackers",
          "GlenAllachie 2009 #3782",
          "GlenAllachie 2008 #3966",
          "GlenAllachie 2008 #1867",
          "GlenAllachie 2006 #111860",
          "GlenAllachie 2005 #5182",
          "GlenAllachie 1989 #6118",
          "Talisker Exploration Gift Set 3x5cl",
          "Macallan Distil Your World: London",
          "Jura The Loch",
          "Darkness Aultmore 22 Year Old 10358",
          "Arran Port Wood Cask Finish",
          "Laphroaig 30 Year Old The Ian Hunter Story Book Two",
          "Compass Box Hedonism Felicitas",
          "Character of Islay Tasting Set Pack",
          "Kilchoman 100% Islay 10th Edition",
          "Highland Park Cask Strength No.1",
          "Macallan Edition No.6",
          "Glenmorangie A Tale of Cake",
          "Macallan Exceptional Cask 1988 #3890",
          "Macallan Exceptional Cask 2002 #2340",
          "Bowmore Vault Edition 2",
          "The Scotch Whisky Advent Calendar (2020 Edition)",
          "Cragganmore 20 Year Old Special Releases 2020",
          "Dalmore Dominium - Travel Retail Exclusive",
          "Ardbeg 1978 Spirit Of Scotland",
          "Kilchoman Loch Gorm 2020",
          "Daftmill 2007 Winter Release",
          "Glenrothes 1992 2nd Edition",
          "Daftmill 2008 Summer Release",
          "Ardbeg 1977 Limited Edition",
          "Stylish Whisky Mini Golf Decanter 10cl",
          "Macallan Concept Number 1 2018",
          "Macallan Boutique Collection 2019",
          "Aberlour 1989 Dunnage Matured Millennium",
          "Octomore 10.4 Dialogos Virgin Oak",
          "Johnnie Walker Blue Label Year of the Rat",
          "The Loch Fyne The Living Cask Batch 9",
          "Glen Moray Rhum Agricole",
          "Glenrothes Elders' Reserve 10cl",
          "Kilchoman UK Small Batch No.1",
          "Glenmorangie 1993 Burr Oak Reserve",
          "Game of Thrones Whisky Collection (Set of 9)",
          "Johnnie Walker Double Black Gift Set",
          "Bowmore Craftsmen's Collection Mashmen's Selection",
          "Macallan Decades Fifties",
          "Macallan Decades Forties",
          "Macallan Rare Cask Batch No.2 2019 Release",
          "Dalmore King Alexander III Gift Set",
          "1770 Peated No.1",
          "Old Pulteney 2006 #1448",
          "The Lost Distillery Co. Discovery Selection Gift Pack 3x5cl",
          "Balvenie Tun 1509 Batch 6",
          "Magnum Highland Cream Liqueur",
          "Macallan Edition No.5",
          "12 Drams of Christmas - Premium Whisky Selection Box",
          "12 Drams of Christmas - Whisky Selection Box",
          "Johnnie Walker Discover Gift Set 5x5cl",
          "Compass Box Myths & Legends III",
          "Compass Box Myths & Legends II",
          "Compass Box Myths & Legends I",
          "Jura Gift Pack 3x5cl",
          "Compass Box No Name No.2",
          "Benromach Peat Smoke Sherry Cask Matured 2009",
          "Highland Park Valfather",
          "anCnoc Peat",
          "Old Pulteney 21 Year Old & 1989 Vintage Twin Pack",
          "Tullibardine 225 Sauternes Cask Finish",
          "GlenDronach Cask Strength Batch 6",
          "Speyburn Bradan Orach",
          "Port Charlotte Scottish Barley 20cl",
          "The Lost Distillery Co. Dalaruan",
          "Loch Lomond 2002 Cristie Kerr",
          "The Loch Fyne The Living Cask Batch 8",
          "Loch Lomond 2004 Colin Montgomerie Single Cask",
          "Loch Lomond Original",
          "Loch Lomond The Open Special Edition Distiller's Cut",
          "Chichibu Single Cask #5036",
          "Chichibu Single Cask #1700",
          "Glenkeir Treasures Secret Islay 10cl",
          "Glenkeir Treasures Secret Islay 20cl",
          "Piper Decanter",
          "Johnnie Walker Directors Blend 2012",
          "Glen Scotia 1999 Single Cask",
          "Usquaebach Reserve",
          "North British 1980",
          "Macallan Private Eye",
          "Stylish Whisky Globe Decanter 20cl",
          "Bruichladdich Islay Barley 20cl",
          "Connoisseur's Choice Glencadam 1991",
          "Macallan Genesis",
          "Port Charlotte MRC: 01 2010",
          "Kilchoman STR Cask Matured",
          "1770 Glasgow Single Malt",
          "Ardbeg Drum",
          "Loch Lomond The Open Special Edition Distiller's Cut Gift Pack",
          "Singleton of Glendullan Reserve - Game of Thrones House Tully",
          "Oban Bay Reserve - Game of Thrones The Night's Watch",
          "Cardhu Gold Reserve - Game of Thrones House Targaryen",
          "Dalwhinnie Winter's Frost - Game of Thrones House Stark",
          "Kilkerran Heavily Peated",
          "Game of Thrones Whisky Collection (Set of 8)",
          "Macallan Archival Series Folio 3",
          "Johnnie Walker Blue Label Year of the Pig Limited Edition",
          "Talisker Select Reserve - Game of Thrones House Greyjoy",
          "Compass Box Hedonism",
          "Balvenie DCS Chapter 5 Set",
          "Macallan Masters of Photography: Magnum Edition",
          "Glenkeir Treasures Gift Pack",
          "Balblair 1997 Single Cask The Whisky Shop Exclusive",
          "Jura Prophecy 20cl",
          "Johnnie Walker Blue Label Year of the Rooster Limited Edition",
          "Glenkeir Treasures Secret Highland",
          "Johnnie Walker Blue Label Winter Edition",
          "The Singleton of Dufftown Spey Cascade",
          "Bowmore Small Batch",
          "Auchentoshan American Oak",
          "The Glenlivet Cipher",
          "Glenmorangie Pride 1978",
          "Customer Favourites Gift Box",
          "The Whisky Shop 'The Best Of Islay' Gift Box",
          "Old Pulteney 1989",
          "Bell's Decanter 2012 - Robert Duff Bell",
          "Kilchoman Madeira Cask",
          "Drambuie Jacobite Collection",
          "JOHNNIE WALKER Blue Label Anniversary 60.5%",
          "Glenmorangie Milsean",
          "Royal Salute World Polo Edition",
          "Johnnie Walker Blue Label Year of the Monkey Limited Edition",
          "Jura 1977",
          "Highland Park 1968",
          "Highland Park 1970",
          "Octomore 7.3",
          "The Whisky Shop 'Tour of Scotland' gift box",
          "Glenfarclas 2000 Gift Box Set",
          "The Macallan M",
          "Bowmore Devil's Cask III 37.5cl",
          "Hankey Bannister",
          "Glenglassaugh Revival",
          "Glenkinchie Distillers Edition",
          "Glenrothes Select Reserve",
          "Cutty Sark Prohibition",
          "The Naked Grouse",
          "Octomore 7.1 Scottish Barley",
          "Ardbeg Perpetuum",
          "Dalmore Mckenzie",
          "Glenrothes Vintage Reserve",
          "anCnoc 1975",
          "Laphroaig Triple Wood & free glass",
          "Macallan Ruby",
          "Macallan Masters of Photography: Mario Testino Edition: Purple Print",
          "Macallan Masters of Photography: Mario Testino Edition: Green Print",
          "The Glenlivet Founder's Reserve",
          "Glenmorangie Tusail Private Edition",
          "Bowmore 1969",
          "Bowmore 1967",
          "Jura 1984 Vintage",
          "Glenmorangie The Taghta",
          "Scotland in a Box",
          "anCnoc Cutter",
          "Octomore 6.1 Scottish Barley",
          "Port Charlotte Islay Barley",
          "Kilchoman Original Cask Strength",
          "Clynelish Select Reserve 2014 Special Release",
          "Kilchoman Port Cask",
          "The Black Grouse",
          "Glenfarclas 1960",
          "Glenfarclas 1966",
          "Glenfarclas 1990",
          "Old Pulteney 1990 limited release",
          "Balvenie Tun 1509",
          "Glenfarclas 1996",
          "Glenfarclas 1985",
          "Glenfarclas 1984",
          "Glenfarclas 1982",
          "Glenfarclas 1975",
          "Glenfarclas 1974",
          "Glenfarclas 1973",
          "Glenfarclas 1972",
          "Glenfarclas 1969",
          "Glenfarclas 1967",
          "Glenfarclas 1965",
          "Glenfarclas 1964",
          "Glenfarclas 1963",
          "Glenfarclas 1962",
          "Glenfarclas 1961",
          "Glenfarclas 1958",
          "Glenfarclas 1957",
          "Glenfarclas 1954",
          "Jura Tastival Festival bottling",
          "Islay Mist Deluxe 5cl",
          "Famous Grouse",
          "Stag's Breath",
          "Columba Cream Liqueur",
          "World Miniature Gift Pack 4 x 5cl",
          "The Glenlivet Triple Pack 3 x 20cl",
          "Hankey Bannister Original",
          "Bruichladdich Islay Barley & free glass",
          "Old Pulteney Clipper",
          "The Glenlivet Guardians Chapter",
          "Premium Whisky Selection Gift Pack 4 x 5cl",
          "Jura The Collection 3x5cl",
          "Dailuaine 1997 Managers Choice",
          "Clynelish Distillers Edition",
          "Cardhu Special Cask Reserve",
          "Bowmore Gift Pack 3x20cl",
          "Vat 69",
          "Scottish Leader",
          "Lauder's",
          "Grand Macnish Finest",
          "Glenglassaugh Triple Pack 3 x 20cl",
          "Glenturret Triple Wood",
          "Talisker Pack 3 x 20cl",
          "Strathmill 1996 Managers Choice",
          "Royal Salute 100 Casks",
          "Royal Lochnagar Selected Reserve",
          "Robert Burns Blend",
          "Compass Box The Peat Monster",
          "Old Pulteney Navigator",
          "McClellands Islay Single Malt",
          "McClellands Lowland Single Malt",
          "McClellands Highland Single Malt",
          "Mannochmore 1998 Managers Choice",
          "Knockando 1996 Managers Choice",
          "Isle of Jura 1976"
         ],
         "textfont": {
          "color": "#4D5663"
         },
         "type": "scatter",
         "x": [
          785.71,
          78.43,
          224.29,
          320,
          1228.57,
          45.7,
          74.29,
          114.21,
          221.94,
          107.07,
          134.29,
          227.13,
          42.86,
          120,
          42.86,
          61.36,
          65.64,
          131.36,
          264.21,
          135.64,
          171.43,
          67.13,
          56.79,
          90,
          278.57,
          69.93,
          214.27,
          528.56,
          9998.57,
          428.57,
          571.43,
          84.99,
          74.99,
          121.41,
          121.41,
          121.41,
          128.56,
          128.56,
          126.67,
          166.58,
          28.57,
          314.27,
          250,
          250,
          307.14,
          58.49,
          55.71,
          857.14,
          71.43,
          65.43,
          112.79,
          60,
          114.29,
          74.29,
          133.33,
          392.86,
          171.43,
          225,
          228.57,
          213.33,
          84.27,
          135,
          145,
          42.86,
          42.86,
          130,
          67.14,
          357.14,
          78.57,
          70,
          248.43,
          68.57,
          70,
          81.43,
          78.57,
          1285.71,
          110,
          104.29,
          70,
          3021.43,
          67.14,
          57.14,
          90,
          300,
          30,
          28.57,
          42.86,
          52,
          87.14,
          2995,
          67.07,
          166.67,
          74.29,
          64.29,
          377.14,
          61.43,
          85.71,
          74.29,
          71.43,
          140,
          140,
          73.32,
          66.65,
          83.33,
          228.57,
          74.29,
          214.29,
          84.29,
          54.14,
          57.14,
          48.5,
          228.57,
          4000,
          228.57,
          115,
          228.57,
          81.43,
          97.14,
          127.14,
          714.29,
          71.43,
          70,
          71.43,
          64.29,
          55.71,
          67.14,
          71.43,
          84.29,
          200,
          85.71,
          712.86,
          82.22,
          57.14,
          427.14,
          720,
          720,
          328.57,
          321.43,
          98,
          141.43,
          166.67,
          392.86,
          34.29,
          140.71,
          249.97,
          191.67,
          128,
          185.71,
          185.71,
          185.71,
          140,
          157.14,
          221.94,
          122.86,
          128.57,
          128.57,
          137.14,
          151.43,
          757.14,
          79.93,
          3757.14,
          64.29,
          175.9,
          57.13,
          1228.57,
          250,
          199.93,
          107.14,
          85.71,
          140.71,
          107.14,
          12855.71,
          1928.57,
          141.43,
          208.33,
          185.71,
          107.14,
          850,
          107.14,
          235.71,
          235.71,
          278.57,
          1357.14,
          250,
          321.43,
          570,
          141.43,
          228.57,
          307.14,
          90,
          84.29,
          200,
          85.71,
          712.86,
          82.22,
          57.14,
          427.14,
          720,
          720,
          328.57,
          321.43,
          98,
          141.43,
          166.67,
          392.86,
          34.29,
          140.71,
          249.97,
          191.67,
          128,
          185.71,
          185.71,
          185.71,
          140,
          157.14,
          84.29,
          85.71,
          114.29,
          428.57,
          85.71,
          90,
          34.27,
          120,
          71.43,
          357.14,
          90,
          114.29,
          35.71,
          78.57,
          2564.29,
          2564.29,
          120,
          120,
          228.57,
          3928.57,
          192.86,
          55.71,
          357.14,
          6428.57,
          225,
          140,
          210,
          4857.14,
          141.43,
          107.14,
          98,
          141.43,
          78.57,
          54.29,
          92.86,
          68.57,
          68.57,
          62.86,
          71.07,
          2571.43,
          278.43,
          68.57,
          104.29,
          17714.29,
          3857.14,
          166.67,
          200,
          125,
          314.29,
          100,
          321.43,
          50,
          55.71,
          47.14,
          157.14,
          3800,
          660,
          660,
          192.86,
          121.43,
          127.14,
          5000,
          3571.43,
          114.29,
          228.57,
          212.86,
          1011.23,
          4564.29,
          4135.71,
          235.71,
          700,
          114.29,
          5714.29,
          520,
          41.43,
          64.29,
          100,
          62.86,
          42.86,
          42.86,
          142.86,
          121.43,
          428.57,
          57.14,
          415.71,
          98.57,
          357.14,
          3164.29,
          3164.29,
          57.14,
          111.43,
          3000,
          3857.14,
          1071.43,
          98.57,
          191.67,
          104.29,
          141.43,
          92.86,
          98.57,
          714.29,
          110,
          40,
          6285.71,
          5712.86,
          485.71,
          235.71,
          321.43,
          485.71,
          1000,
          7857.14,
          1485.71,
          8428.57,
          5000,
          5000,
          3857.14,
          5712.86,
          5712.86,
          5712.86,
          5712.86,
          5712.86,
          7857.14,
          6285.71,
          10428.57,
          15500,
          12142.86,
          141.43,
          90,
          27.14,
          35.71,
          135,
          399.8,
          113.32,
          110,
          90,
          74.29,
          84.29,
          379.8,
          400,
          378.57,
          98.57,
          85.71,
          140,
          42.86,
          44.95,
          30,
          37.14,
          1700,
          67.14,
          82.83,
          424.29,
          400,
          421.43,
          40,
          49.93,
          71.43,
          42.86,
          42.86,
          42.86,
          371.43,
          491.43,
          791.41
         ],
         "y": [
          "Blend",
          "Single Malt",
          "Blended Malt",
          "Blend",
          "Single Malt",
          "Blend",
          "Blend",
          "Single Malt",
          null,
          null,
          "Single Malt",
          null,
          null,
          null,
          null,
          null,
          null,
          null,
          null,
          null,
          null,
          "Single Malt",
          "Single Malt",
          "Blended Malt",
          "Blend",
          "Single Malt",
          "Single Malt",
          "Single Malt",
          "Single Malt",
          "Single Malt",
          "Single Malt",
          "Single Malt",
          "Single Malt",
          "Single Malt",
          "Single Malt",
          "Single Malt",
          "Single Malt",
          "Single Malt",
          "Single Malt",
          "Single Malt",
          "Blended Malt",
          "Single Malt",
          "Blend",
          "Blend",
          "Blend",
          "Single Malt",
          "Single Malt",
          "Single Malt",
          "Blended Malt",
          "Single Malt",
          "Single Malt",
          "Blend",
          "Single Malt",
          "Single Malt",
          "Blend",
          "Blend",
          "Blended Malt",
          "Single Malt",
          "Single Malt",
          "Single Malt",
          "Single Malt",
          "Single Malt",
          "Single Malt",
          "Grain",
          "Blend",
          "Single Malt",
          "Single Malt",
          "Grain",
          "Single Malt",
          "Single Malt",
          "Single Malt",
          "Single Malt",
          "Single Malt",
          "Blended Malt",
          "Single Malt",
          "Single Malt",
          "Single Malt",
          "Single Malt",
          "Blended Malt",
          "Blend",
          "Single Malt",
          "Single Malt",
          "Single Malt",
          "Blend",
          "Blend",
          "Blend",
          "Blend",
          "Liqueur",
          "Single Malt",
          "Blend",
          "Single Malt",
          "Blended Malt",
          "Blended Malt",
          "Blended Malt",
          "Blend",
          "Single Malt",
          "Single Malt",
          "Single Malt",
          "Single Malt",
          "Liqueur",
          "Blend",
          "Single Malt",
          "Single Malt",
          "Single Malt",
          "Single Malt",
          "Blend",
          "Blend",
          "Single Malt",
          "Single Malt",
          "Blended Malt",
          "Single Malt",
          "Single Malt",
          "Single Malt",
          "Single Malt",
          "Single Malt",
          "Single Malt",
          "Single Malt",
          "Single Malt",
          "Single Malt",
          "Single Malt",
          "Blended Malt",
          "Single Malt",
          "Blended Malt",
          "Single Malt",
          "Single Malt",
          "Single Malt",
          "Single Malt",
          "Single Malt",
          "Single Malt",
          "Single Malt",
          "Single Malt",
          "Single Malt",
          "Blend",
          "Single Malt",
          "Single Malt",
          "Single Malt",
          "Single Malt",
          "Single Malt",
          "Single Malt",
          "Single Malt",
          "Blended Malt",
          "Single Malt",
          "Liqueur",
          "Single Malt",
          "Single Malt",
          "Single Malt",
          "Blend",
          "Blended Malt",
          "Single Malt",
          "Single Malt",
          "Single Malt",
          "Blended Malt",
          null,
          "Single Malt",
          "Single Malt",
          "Single Malt",
          "Single Malt",
          "Single Malt",
          "Single Malt",
          "Single Malt",
          "Single Malt",
          "Single Malt",
          "Single Malt",
          "Single Malt",
          "Single Malt",
          null,
          "Single Malt",
          "Single Malt",
          "Single Malt",
          "Single Malt",
          "Single Malt",
          "Single Malt",
          "Single Malt",
          "Single Malt",
          null,
          "Single Malt",
          "Single Malt",
          "Single Malt",
          "Single Malt",
          "Single Malt",
          "Single Malt",
          "Single Malt",
          "Single Malt",
          "Blend",
          "Single Malt",
          "Single Malt",
          "Single Malt",
          "Single Malt",
          "Blend",
          "Blended Malt",
          "Single Malt",
          "Single Malt",
          "Single Malt",
          "Single Malt",
          "Single Malt",
          "Blend",
          "Single Malt",
          "Single Malt",
          "Single Malt",
          "Single Malt",
          "Single Malt",
          "Single Malt",
          "Single Malt",
          "Blended Malt",
          "Single Malt",
          "Liqueur",
          "Single Malt",
          "Single Malt",
          "Single Malt",
          "Blend",
          "Blended Malt",
          "Single Malt",
          "Single Malt",
          "Single Malt",
          "Blended Malt",
          "Single Malt",
          "Single Malt",
          "Single Malt",
          "Single Malt",
          "Single Malt",
          "Single Malt",
          "Single Malt",
          "Single Malt",
          "Blended Malt",
          "Single Malt",
          "Blended Malt",
          "Single Malt",
          "Single Malt",
          "Single Malt",
          "Single Malt",
          "Single Malt",
          "Single Malt",
          "Single Malt",
          "Single Malt",
          "Blend",
          "Single Malt",
          "Blend",
          "Grain",
          "Single Malt",
          "Single Malt",
          "Single Malt",
          "Single Malt",
          "Single Malt",
          "Single Malt",
          "Single Malt",
          "Single Malt",
          "Single Malt",
          "Single Malt",
          "Single Malt",
          "Single Malt",
          "Single Malt",
          "Single Malt",
          "Single Malt",
          "Single Malt",
          "Single Malt",
          "Blend",
          "Single Malt",
          "Grain",
          "Single Malt",
          "Single Malt",
          "Single Malt",
          "Single Malt",
          "Single Malt",
          "Blend",
          "Single Malt",
          "Blend",
          "Single Malt",
          "Single Malt",
          "Single Malt",
          "Single Malt",
          "Single Malt",
          "Single Malt",
          "Single Malt",
          "Single Malt",
          "Blend",
          "Single Malt",
          "Liqueur",
          "Blend",
          "Single Malt",
          "Blended Malt",
          "Blend",
          "Single Malt",
          "Single Malt",
          "Single Malt",
          "Single Malt",
          "Single Malt",
          "Single Malt",
          "Single Malt",
          "Single Malt",
          "Blend",
          "Single Malt",
          "Single Malt",
          "Single Malt",
          "Blend",
          "Blended Malt",
          "Single Malt",
          "Single Malt",
          "Single Malt",
          "Single Malt",
          "Single Malt",
          "Single Malt",
          "Single Malt",
          "Single Malt",
          "Single Malt",
          "Single Malt",
          "Single Malt",
          "Single Malt",
          "Single Malt",
          "Single Malt",
          "Single Malt",
          null,
          "Single Malt",
          "Single Malt",
          "Single Malt",
          "Single Malt",
          "Single Malt",
          "Single Malt",
          "Blend",
          "Single Malt",
          "Single Malt",
          "Single Malt",
          "Single Malt",
          "Single Malt",
          "Single Malt",
          "Single Malt",
          "Single Malt",
          "Single Malt",
          "Single Malt",
          "Single Malt",
          "Single Malt",
          "Single Malt",
          "Single Malt",
          "Single Malt",
          "Single Malt",
          "Single Malt",
          "Single Malt",
          "Single Malt",
          "Single Malt",
          "Single Malt",
          "Single Malt",
          "Single Malt",
          "Single Malt",
          "Blend",
          "Blend",
          "Liqueur",
          "Liqueur",
          "Single Malt",
          "Single Malt",
          "Blend",
          "Single Malt",
          "Single Malt",
          "Single Malt",
          "Single Malt",
          "Single Malt",
          "Single Malt",
          "Single Malt",
          "Single Malt",
          "Single Malt",
          "Blend",
          "Blend",
          "Blend",
          "Blend",
          "Single Malt",
          "Single Malt",
          "Single Malt",
          "Single Malt",
          "Blend",
          "Single Malt",
          "Blend",
          "Blended Malt",
          "Single Malt",
          "Single Malt",
          "Single Malt",
          "Single Malt",
          "Single Malt",
          "Single Malt",
          "Single Malt"
         ]
        },
        {
         "marker": {
          "color": "rgba(50, 171, 96, 1.0)",
          "line": {
           "width": 1.3
          },
          "opacity": 0.8,
          "size": 12,
          "symbol": "circle"
         },
         "mode": "markers",
         "name": "0-12",
         "text": [
          "Benriach 2005 UK Exclusive Pedro Ximenez Cask #5278",
          "Black Bottle 10 Year Old",
          "Deanston 10 Year Old Bordeaux Red Wine Cask Finish",
          "Glenmorangie 12 Year Old Malaga",
          "Golden Cask Linkwood 12 Year Old",
          "Talisker 10 Year Old 20cl Hot Chocolate Gift Set",
          "Singleton of Dufftown 12 Year Old Tumbler Gift Set",
          "GlenAllachie 10 Year Old Cask Strength Batch 4",
          "Octomore 10 Year Old Dialogos 2009",
          "Octomore 11.3 Islay Barley",
          "Ardbeg Wee Beastie",
          "Glenmorangie 10 Year Old Original Giraffe Tin",
          "GlenAllachie 9 Year Old Rye Cask Finish",
          "Glen Scotia 11 Year Old Sherry Double Cask",
          "Darkness 8 Year Old",
          "Aerolite Lyndsay Islay 10 Year Old",
          "Dalmore 12 Year Old Sherry Cask Select",
          "Tobermory 12 Year Old 2007 Port Pipe Finish",
          "Benriach The Smoky Ten",
          "Benriach The Original Ten",
          "Benriach The Smoky Twelve",
          "Benriach The Twelve",
          "Cardhu 11 Year Old Special Releases 2020",
          "Lagavulin 12 Year Old Special Releases 2020",
          "Talisker 8 Year Old Special Releases 2020",
          "Laphroaig 10 Year Old Cask Strength 2020",
          "Glenallachie 2008 #508",
          "Glenkeir Treasures Twin Casks Secret Highland 11 Year Old",
          "Glenkeir Treasures Twin Casks Secret Speyside 9 Year Old",
          "Glen Scotia 2009 #784",
          "First Editions Blair Athol 2009",
          "Arran Sherry Cask The Bodega",
          "Singleton of Dufftown 12 Year Old Gift Set",
          "GlenAllachie 12 Year Old",
          "Jura Two-One-Two (212)",
          "Highland Park 12 Year Old",
          "Loch Lomond 12 Year Old Taster Pack",
          "Macallan 10 Year Old Sherry Oak",
          "Glencairn Whisky Glasses & Auchentoshan 20cl Gift Set",
          "Balvenie The Sweet Toast of American Oak 12 Year Old",
          "Whisky Works King of Trees 10 Year Old",
          "Tobermory 12 Year Old",
          "Balblair 12 Year Old",
          "Blairmhor 8 Year Old 35cl",
          "Knockando 12 year old",
          "The Glenlivet 12 Year Old",
          "Glenkinchie 12 year old 20cl",
          "Cragganmore 12 year old 20cl",
          "BenRiach 10 Year Old Curiositas",
          "Teaninich 10 Year Old",
          "Mannochmore 12 year old",
          "Mortlach 12 Year Old The Wee Witchie",
          "Benromach 2008 cask strength",
          "Port Charlotte 10 Year Old",
          "Macallan 12 Year Old Triple Cask",
          "Johnnie Walker Black Label",
          "Hazelburn 10 Year Old",
          "Macallan 12 Year Old Double Cask",
          "Jura 12 Year Old",
          "Caol Ila 12 Year Old 20cl",
          "Arran 10 Year Old",
          "Aberlour 12 Year Old",
          "First Editions Ardmore 2009 9 Year Old",
          "First Editions Dailuaine 2009 9 Year Old",
          "Macallan 12 Year Old Triple Cask Gift Box",
          "Old Malt Cask Craigellachie 11 Year Old",
          "Glenrothes 2004",
          "First Editions Glen Garioch 2008 10 Year Old",
          "BenRiach 10 Year Old Gift Set",
          "Talisker 10 Year Old Gift Set",
          "Jura 12 Year Old Gift Pack 2019",
          "Old Malt Cask Tobermory 12 Year Old",
          "First Editions Dalmore 2008 11 Year Old",
          "GlenAllachie 2008 #586",
          "GlenAllachie 2007 #3767 12 Year Old Single Cask",
          "GlenAllachie 2006 #6580",
          "Lagavulin 12 Year Old Special Releases 2019",
          "Cragganmore 12 Year Old Special Releases 2019",
          "Ardbeg 10 Year Old Ardbone Pack",
          "Glengoyne 10 Year Old 20cl",
          "Loch Lomond 12 Year Old Gift Pack",
          "Octomore 10.3 Dialogos 6 Year Old",
          "Octomore 10.1 Dialogos 5 Year Old",
          "First Editions Mortlach 2007 11 Year Old",
          "First Editions Caol Ila 2010 8 Year Old",
          "First Editions Craigellachie 2011 8 Year Old",
          "Port Charlotte 10 Year Old Gift Pack",
          "GlenDronach Cask Strength Batch 8",
          "The Loch Fyne Glentauchers 11 Year Old",
          "The Loch Fyne Aultmore 12 Year Old",
          "Bunnahabhain 2007 French Brandy Finish",
          "GlenAllachie 10 Year Old Cask Strength Batch 2",
          "Old Malt Cask Mortlach 13 Year Old",
          "First Editions Ben Nevis 2011 9 Year Old",
          "Darkness Benrinnes 13 Year Old Pedro Ximenez Cask",
          "First Editions Dailuaine 11 Year Old 2008",
          "First Editions Aultmore 10 Year Old 2010",
          "Glendronach 2006 13 Year Old #5538 UK Exclusive",
          "Octomore 11.1 Scottish Barley",
          "Glenallachie 11 Year Old Port Wood Finish",
          "Glenallachie 11 Year Old Mostcatel Finish",
          "The Loch Fyne Craigellachie 12 Year Old 2008",
          "GlenAllachie 10 Year Old Cask Strength Batch 3",
          "Golden Cask Bowmore 13 Year Old",
          "First Editions Talisker 2010 8 Year Old",
          "Macallan 12 Year Old Re-Awakening",
          "Loch Lomond 12 Year Old Open Edition",
          "GlenAllachie 13 Year Old Spirit of Speyside Festival 2020",
          "Glen Moray Madeira Cask Project",
          "Loch Lomond 2006 #18/550-12",
          "First Editions Deanston 2009",
          "Glenrothes 1984",
          "Macallan 12 Year Old Triple Cask Chinese New Year Twin Pack",
          "First Editions Ardmore 2009 9 Year Old",
          "First Editions Dailuaine 2009 9 Year Old",
          "Macallan 12 Year Old Triple Cask Gift Box",
          "Old Malt Cask Craigellachie 11 Year Old",
          "Glenrothes 2004",
          "First Editions Glen Garioch 2008 10 Year Old",
          "BenRiach 10 Year Old Gift Set",
          "Talisker 10 Year Old Gift Set",
          "Jura 12 Year Old Gift Pack 2019",
          "Old Malt Cask Tobermory 12 Year Old",
          "First Editions Dalmore 2008 11 Year Old",
          "GlenAllachie 2008 #586",
          "GlenAllachie 2007 #3767 12 Year Old Single Cask",
          "GlenAllachie 2006 #6580",
          "Lagavulin 12 Year Old Special Releases 2019",
          "Cragganmore 12 Year Old Special Releases 2019",
          "Ardbeg 10 Year Old Ardbone Pack",
          "Glengoyne 10 Year Old 20cl",
          "Loch Lomond 12 Year Old Gift Pack",
          "Octomore 10.3 Dialogos 6 Year Old",
          "Octomore 10.1 Dialogos 5 Year Old",
          "First Editions Mortlach 2007 11 Year Old",
          "First Editions Caol Ila 2010 8 Year Old",
          "First Editions Craigellachie 2011 8 Year Old",
          "Port Charlotte 10 Year Old Gift Pack",
          "GlenDronach Cask Strength Batch 8",
          "The Loch Fyne Glentauchers 11 Year Old",
          "The Loch Fyne Aultmore 12 Year Old",
          "Bunnahabhain 2007 French Brandy Finish",
          "GlenAllachie 10 Year Old Cask Strength Batch 2",
          "Laphroaig 10 Year Old Original Cask Strength",
          "First Editions Royal Brackla 2009",
          "Longrow 1992 10 Year Old",
          "Distiller's Art Braeval 13 Year Old",
          "Chivas Regal 12 Year Old Tim Little",
          "Hazelburn 12 Year Old",
          "First Editions Blair Athol 2010",
          "First Editions Mortlach 2009",
          "Ardmore 12 Year Old Port Wood Finish",
          "First Editions Benrinnes 2009",
          "First Editions Inchgower 2008 20cl",
          "First Editions Benrinnes 2010 8 Year Old 20cl",
          "First Editions Tullibardine 2008",
          "First Editions Bunnahabhain 2007 - 2018 Edition",
          "Arran Master of Distilling II",
          "Glenkeir Treasures Speyburn 10 Year Old 10cl",
          "Glenkeir Treasures Speyburn 10 Year Old 20cl",
          "Glenkeir Treasures Secret Speyside 8 Year Old 10cl",
          "Glenkeir Treasures Secret Speyside 8 Year Old 20cl",
          "Glenkeir Treasures Speyburn 10 Year Old",
          "Glenkeir Treasures Secret Speyside 8 Year Old",
          "BenRiach Batch 16 2012 #7825",
          "BenRiach Batch 16 2009 #6095",
          "BenRiach Batch 16 2008 #3085",
          "BenRiach Batch 16 2007 #3237",
          "BenRiach Batch 16 2008 #2506",
          "BenRiach Batch 16 2007 #7611",
          "BenRiach Batch 16 2005 #3435",
          "Kilchoman 2006 Vintage",
          "First Editions Tamdhu 2007",
          "Ballantine's 12 Year Old 1l",
          "First Editions Craigellachie 2006",
          "First Editions Benrinnes 2010",
          "Old Malt Cask Talisker 8 Year Old",
          "Glenmorangie 10 Year Old 150th Anniversary",
          "First Editions Craigellachie 2008 10 Year Old",
          "First Editions Inchgower 2008 10 Year Old",
          "GlenDronach Port Wood 10 Year Old",
          "GlenDronach 12 Year Old Walker Slater Pack",
          "Royal Lochnagar 12 Year Old - Game of Thrones House Baratheon",
          "Springbank 10 Year Old Local Barley",
          "Bruichladdich Uisge Luing 10 Year Old",
          "Old Malt Cask Mortlach 11 Year Old",
          "BenRiach 2005 Whisky Shop Exclusive",
          "Lagavulin 9 Year Old - Game of Thrones House Lannister",
          "Glenmorangie Original Gift Pack",
          "BenRiach 12 Year Old Sherry Wood",
          "First Editions Mortlach 2007 Manager's Special",
          "Bunnahabhain 12 year old Old Malt Cask",
          "First Editions Craigellachie 2008 Manager's Special",
          "Kilchoman 2007 Single Cask The Whisky Shop Exclusive",
          "First Editions Balmenach 10yo",
          "Glenkeir Treasures Aultmore 7 Year Old",
          "Glenkeir Treasures Glengoyne 9 Year Old",
          "Mortlach 8 year old GlenKeir Treasure",
          "Glenkeir Treasures Fettercairn 8 Year Old",
          "Glenkeir Treasures Craigellachie 9 Year Old",
          "Old Malt Cask Tamdhu 8 Year Old 20cl",
          "Longrow Red",
          "Laphroaig First Edition 11 year old",
          "Fettercairn 8 Year Old Douglas of Drumlanrig",
          "Glenkeir Treasures Dailuaine 6 Year Old",
          "Old Malt Cask Fettercairn 7 Year Old",
          "Old Malt Cask Craigellachie 12 Year Old 20cl",
          "Fettercairn 7 Year Old Old Malt Cask with glass gift pack",
          "Old Malt Cask Blair Athol 12 Year Old with Glass",
          "Inchgower 8 Year Old Douglas of Drumlanrig",
          "Glengoyne 8 Year Old",
          "Dalmore 12 Year Old With Whisky Stones",
          "Cutty Sark 12 Year Old",
          "The Deveron 12 Years Old",
          "Royal Brackla 12 Years Old",
          "Glenmorangie Original",
          "Aultmore 7 year old",
          "Royal Lochnagar 12 Year Old",
          "Glendronach The Hielan' 8 Years Old",
          "Laphroaig 10 year old & free glass",
          "Glendronach 2003 Whisky Shop Exclusive",
          "BenRiach 10th Anniversary 10 year old",
          "Glenkeir Treasures Inchgower 6 year old 10cl",
          "Octomore 6.3 Islay Barley 2009",
          "Lagavulin 12 Year Old 2014 Special Release",
          "Glenkeir Treasures Speyside 13 year old",
          "Glenmorangie Original 10 year old",
          "Singleton of Dufftown 12 Year Old 5cl",
          "Tobermory 10 Year Old 5cl",
          "Glenfarclas 10 year old 35cl",
          "Aberlour 10 Year Old",
          "Jura 10 year old 35cl",
          "Strathmill 12 year old",
          "Antiquary 12 year old",
          "Whyte & Mackay 13 year old",
          "Tobermory 10 year old",
          "Talisker 10 year old 20cl"
         ],
         "textfont": {
          "color": "#4D5663"
         },
         "type": "scatter",
         "x": [
          142.79,
          41.41,
          85.71,
          114.21,
          97.13,
          109.5,
          58.56,
          91.43,
          228.57,
          250,
          55.71,
          57.13,
          84.27,
          85.64,
          71.41,
          64.27,
          98.57,
          142.86,
          55.64,
          52.79,
          61.29,
          55.5,
          121.43,
          178.57,
          128.57,
          110,
          128.5,
          140,
          136,
          92.86,
          100,
          75.64,
          54.21,
          67.14,
          128.57,
          57.14,
          173.33,
          428.57,
          210,
          71.43,
          107.14,
          71.43,
          74.29,
          54.29,
          64.29,
          57.14,
          125,
          125,
          67.14,
          82.86,
          82.86,
          71.43,
          85.7,
          88.57,
          100,
          62.86,
          82.86,
          72.84,
          64.29,
          140,
          64.29,
          68.57,
          98.57,
          98.57,
          100,
          128.57,
          92.86,
          100,
          42.84,
          57.14,
          64.29,
          131.43,
          111.43,
          121.43,
          135.71,
          142.86,
          157.14,
          121.43,
          74.29,
          95,
          71.43,
          250,
          181.43,
          121.43,
          150,
          100,
          88.57,
          105.71,
          150,
          160,
          155.71,
          87.14,
          138.57,
          100,
          133.9,
          117.14,
          100,
          200,
          178.57,
          89.99,
          89.99,
          160,
          87.14,
          138.57,
          151.41,
          1707.14,
          78.5,
          178.57,
          92.86,
          84.21,
          105.71,
          278.57,
          85.71,
          98.57,
          98.57,
          100,
          128.57,
          92.86,
          100,
          42.84,
          57.14,
          64.29,
          131.43,
          111.43,
          121.43,
          135.71,
          142.86,
          157.14,
          121.43,
          74.29,
          95,
          71.43,
          250,
          181.43,
          121.43,
          150,
          100,
          88.57,
          105.71,
          150,
          160,
          155.71,
          87.14,
          107.14,
          88.57,
          112.86,
          120,
          57.14,
          84.29,
          98.57,
          98.57,
          80,
          91.43,
          130,
          125,
          114.29,
          100,
          107.13,
          130,
          130,
          130,
          130,
          110,
          110,
          78.57,
          100,
          108.57,
          120,
          120,
          131.43,
          141.43,
          564.29,
          105.71,
          99,
          108.57,
          94.29,
          164.29,
          285.71,
          100,
          100,
          85.71,
          70,
          54.29,
          171.43,
          128.57,
          135.71,
          121.43,
          92.86,
          64.29,
          68.57,
          108.57,
          157.14,
          100,
          200,
          94.29,
          90,
          100,
          90,
          80,
          100,
          150,
          112.86,
          204.29,
          98.57,
          80,
          140,
          145,
          195,
          195,
          85.71,
          81.43,
          85.71,
          52.86,
          57.14,
          74.29,
          64.29,
          81.43,
          54.21,
          60,
          60,
          371.43,
          92.86,
          100,
          214.29,
          114.29,
          130,
          145,
          139.8,
          159.8,
          74.29,
          57.14,
          77.14,
          84.29,
          119.8,
          41.43,
          65.71,
          130
         ],
         "y": [
          "Single Malt",
          "Blend",
          "Single Malt",
          "Single Malt",
          "Single Malt",
          "Single Malt",
          "Single Malt",
          "Single Malt",
          "Single Malt",
          "Single Malt",
          "Single Malt",
          "Single Malt",
          "Single Malt",
          "Single Malt",
          "Single Malt",
          "Single Malt",
          "Single Malt",
          "Single Malt",
          "Single Malt",
          "Single Malt",
          "Single Malt",
          "Single Malt",
          "Single Malt",
          "Single Malt",
          "Single Malt",
          "Single Malt",
          "Single Malt",
          "Single Malt",
          "Single Malt",
          "Single Malt",
          "Single Malt",
          "Single Malt",
          "Single Malt",
          "Single Malt",
          "Single Malt",
          "Single Malt",
          "Single Malt",
          "Single Malt",
          "Single Malt",
          "Single Malt",
          "Blended Malt",
          "Single Malt",
          "Single Malt",
          "Blended Malt",
          "Single Malt",
          "Single Malt",
          "Single Malt",
          "Single Malt",
          "Single Malt",
          "Single Malt",
          "Single Malt",
          "Single Malt",
          "Single Malt",
          "Single Malt",
          "Single Malt",
          "Blend",
          "Single Malt",
          "Single Malt",
          "Single Malt",
          "Single Malt",
          "Single Malt",
          "Single Malt",
          "Single Malt",
          "Single Malt",
          "Single Malt",
          "Single Malt",
          "Single Malt",
          "Single Malt",
          "Single Malt",
          "Single Malt",
          "Single Malt",
          "Single Malt",
          "Single Malt",
          "Single Malt",
          "Single Malt",
          "Single Malt",
          "Single Malt",
          "Single Malt",
          "Single Malt",
          "Single Malt",
          "Single Malt",
          "Single Malt",
          "Single Malt",
          "Single Malt",
          "Single Malt",
          "Single Malt",
          "Single Malt",
          "Single Malt",
          "Single Malt",
          "Single Malt",
          "Single Malt",
          "Single Malt",
          "Single Malt",
          "Single Malt",
          "Single Malt",
          "Single Malt",
          "Single Malt",
          "Single Malt",
          "Single Malt",
          "Single Malt",
          "Single Malt",
          "Single Malt",
          "Single Malt",
          "Single Malt",
          "Single Malt",
          "Single Malt",
          "Single Malt",
          "Single Malt",
          "Single Malt",
          "Single Malt",
          "Single Malt",
          "Single Malt",
          "Single Malt",
          "Single Malt",
          "Single Malt",
          "Single Malt",
          "Single Malt",
          "Single Malt",
          "Single Malt",
          "Single Malt",
          "Single Malt",
          "Single Malt",
          "Single Malt",
          "Single Malt",
          "Single Malt",
          "Single Malt",
          "Single Malt",
          "Single Malt",
          "Single Malt",
          "Single Malt",
          "Single Malt",
          "Single Malt",
          "Single Malt",
          "Single Malt",
          "Single Malt",
          "Single Malt",
          "Single Malt",
          "Single Malt",
          "Single Malt",
          "Single Malt",
          "Single Malt",
          "Single Malt",
          "Single Malt",
          "Single Malt",
          "Single Malt",
          "Single Malt",
          "Single Malt",
          "Blend",
          "Single Malt",
          "Single Malt",
          "Single Malt",
          "Single Malt",
          "Single Malt",
          "Single Malt",
          "Single Malt",
          "Single Malt",
          "Single Malt",
          "Single Malt",
          "Single Malt",
          "Single Malt",
          "Single Malt",
          "Single Malt",
          "Single Malt",
          "Single Malt",
          "Single Malt",
          "Single Malt",
          "Single Malt",
          "Single Malt",
          "Single Malt",
          "Single Malt",
          "Single Malt",
          "Single Malt",
          "Single Malt",
          "Blend",
          "Single Malt",
          "Single Malt",
          "Single Malt",
          "Single Malt",
          "Single Malt",
          "Single Malt",
          "Single Malt",
          "Single Malt",
          "Single Malt",
          "Single Malt",
          "Single Malt",
          "Single Malt",
          "Single Malt",
          "Single Malt",
          "Single Malt",
          "Single Malt",
          "Single Malt",
          "Single Malt",
          "Single Malt",
          "Single Malt",
          "Single Malt",
          "Single Malt",
          "Single Malt",
          "Single Malt",
          "Single Malt",
          "Single Malt",
          "Single Malt",
          "Single Malt",
          "Single Malt",
          "Single Malt",
          "Single Malt",
          "Single Malt",
          "Single Malt",
          "Single Malt",
          "Single Malt",
          "Single Malt",
          "Single Malt",
          "Single Malt",
          "Blend",
          "Single Malt",
          "Single Malt",
          "Single Malt",
          "Single Malt",
          "Single Malt",
          "Single Malt",
          "Single Malt",
          "Single Malt",
          "Single Malt",
          "Single Malt",
          "Single Malt",
          "Single Malt",
          "Single Malt",
          "Single Malt",
          "Single Malt",
          "Single Malt",
          "Single Malt",
          "Single Malt",
          "Single Malt",
          "Single Malt",
          "Blend",
          "Blend",
          "Single Malt",
          "Single Malt"
         ]
        },
        {
         "marker": {
          "color": "rgba(128, 0, 128, 1.0)",
          "line": {
           "width": 1.3
          },
          "opacity": 0.8,
          "size": 12,
          "symbol": "circle"
         },
         "mode": "markers",
         "name": "50+",
         "text": [
          "Gordon & MacPhail Glen Grant 1954 59 Year Old",
          "Gordon & MacPhail Mortlach 1949 51 Year Old",
          "Macallan Exceptional Single Cask 1950",
          "The Last Drop 56 Year Old",
          "Macallan 74 Year Old Red Collection",
          "Macallan 71 Year Old Red Collection",
          "Macallan 60 Year Old Red Collection",
          "Dalmore 51 Year Old",
          "Macallan 72 Year Old in Lalique",
          "Macallan 1946 56 Year Old (Cask 46/3M) Fine & Rare",
          "Macallan 1949 52 Year Old (Cask 935) Fine & Rare",
          "Lochside 52 Year Old Sovereign",
          "Bowmore 1957",
          "Glenglassaugh 51 year old"
         ],
         "textfont": {
          "color": "#4D5663"
         },
         "type": "scatter",
         "x": [
          3571.43,
          5712.86,
          98571.43,
          5357.14,
          135714.29,
          127142.86,
          112857.14,
          98571.43,
          102857.14,
          57000,
          58571.43,
          1371.43,
          142857.14,
          7028.57
         ],
         "y": [
          "Single Malt",
          "Single Malt",
          "Single Malt",
          "Blend",
          "Single Malt",
          "Single Malt",
          "Single Malt",
          "Single Malt",
          "Single Malt",
          "Single Malt",
          "Single Malt",
          "Single Malt",
          "Single Malt",
          "Single Malt"
         ]
        }
       ],
       "layout": {
        "legend": {
         "bgcolor": "#F5F6F9",
         "font": {
          "color": "#4D5663"
         }
        },
        "paper_bgcolor": "#F5F6F9",
        "plot_bgcolor": "#F5F6F9",
        "template": {
         "data": {
          "bar": [
           {
            "error_x": {
             "color": "#2a3f5f"
            },
            "error_y": {
             "color": "#2a3f5f"
            },
            "marker": {
             "line": {
              "color": "#E5ECF6",
              "width": 0.5
             }
            },
            "type": "bar"
           }
          ],
          "barpolar": [
           {
            "marker": {
             "line": {
              "color": "#E5ECF6",
              "width": 0.5
             }
            },
            "type": "barpolar"
           }
          ],
          "carpet": [
           {
            "aaxis": {
             "endlinecolor": "#2a3f5f",
             "gridcolor": "white",
             "linecolor": "white",
             "minorgridcolor": "white",
             "startlinecolor": "#2a3f5f"
            },
            "baxis": {
             "endlinecolor": "#2a3f5f",
             "gridcolor": "white",
             "linecolor": "white",
             "minorgridcolor": "white",
             "startlinecolor": "#2a3f5f"
            },
            "type": "carpet"
           }
          ],
          "choropleth": [
           {
            "colorbar": {
             "outlinewidth": 0,
             "ticks": ""
            },
            "type": "choropleth"
           }
          ],
          "contour": [
           {
            "colorbar": {
             "outlinewidth": 0,
             "ticks": ""
            },
            "colorscale": [
             [
              0,
              "#0d0887"
             ],
             [
              0.1111111111111111,
              "#46039f"
             ],
             [
              0.2222222222222222,
              "#7201a8"
             ],
             [
              0.3333333333333333,
              "#9c179e"
             ],
             [
              0.4444444444444444,
              "#bd3786"
             ],
             [
              0.5555555555555556,
              "#d8576b"
             ],
             [
              0.6666666666666666,
              "#ed7953"
             ],
             [
              0.7777777777777778,
              "#fb9f3a"
             ],
             [
              0.8888888888888888,
              "#fdca26"
             ],
             [
              1,
              "#f0f921"
             ]
            ],
            "type": "contour"
           }
          ],
          "contourcarpet": [
           {
            "colorbar": {
             "outlinewidth": 0,
             "ticks": ""
            },
            "type": "contourcarpet"
           }
          ],
          "heatmap": [
           {
            "colorbar": {
             "outlinewidth": 0,
             "ticks": ""
            },
            "colorscale": [
             [
              0,
              "#0d0887"
             ],
             [
              0.1111111111111111,
              "#46039f"
             ],
             [
              0.2222222222222222,
              "#7201a8"
             ],
             [
              0.3333333333333333,
              "#9c179e"
             ],
             [
              0.4444444444444444,
              "#bd3786"
             ],
             [
              0.5555555555555556,
              "#d8576b"
             ],
             [
              0.6666666666666666,
              "#ed7953"
             ],
             [
              0.7777777777777778,
              "#fb9f3a"
             ],
             [
              0.8888888888888888,
              "#fdca26"
             ],
             [
              1,
              "#f0f921"
             ]
            ],
            "type": "heatmap"
           }
          ],
          "heatmapgl": [
           {
            "colorbar": {
             "outlinewidth": 0,
             "ticks": ""
            },
            "colorscale": [
             [
              0,
              "#0d0887"
             ],
             [
              0.1111111111111111,
              "#46039f"
             ],
             [
              0.2222222222222222,
              "#7201a8"
             ],
             [
              0.3333333333333333,
              "#9c179e"
             ],
             [
              0.4444444444444444,
              "#bd3786"
             ],
             [
              0.5555555555555556,
              "#d8576b"
             ],
             [
              0.6666666666666666,
              "#ed7953"
             ],
             [
              0.7777777777777778,
              "#fb9f3a"
             ],
             [
              0.8888888888888888,
              "#fdca26"
             ],
             [
              1,
              "#f0f921"
             ]
            ],
            "type": "heatmapgl"
           }
          ],
          "histogram": [
           {
            "marker": {
             "colorbar": {
              "outlinewidth": 0,
              "ticks": ""
             }
            },
            "type": "histogram"
           }
          ],
          "histogram2d": [
           {
            "colorbar": {
             "outlinewidth": 0,
             "ticks": ""
            },
            "colorscale": [
             [
              0,
              "#0d0887"
             ],
             [
              0.1111111111111111,
              "#46039f"
             ],
             [
              0.2222222222222222,
              "#7201a8"
             ],
             [
              0.3333333333333333,
              "#9c179e"
             ],
             [
              0.4444444444444444,
              "#bd3786"
             ],
             [
              0.5555555555555556,
              "#d8576b"
             ],
             [
              0.6666666666666666,
              "#ed7953"
             ],
             [
              0.7777777777777778,
              "#fb9f3a"
             ],
             [
              0.8888888888888888,
              "#fdca26"
             ],
             [
              1,
              "#f0f921"
             ]
            ],
            "type": "histogram2d"
           }
          ],
          "histogram2dcontour": [
           {
            "colorbar": {
             "outlinewidth": 0,
             "ticks": ""
            },
            "colorscale": [
             [
              0,
              "#0d0887"
             ],
             [
              0.1111111111111111,
              "#46039f"
             ],
             [
              0.2222222222222222,
              "#7201a8"
             ],
             [
              0.3333333333333333,
              "#9c179e"
             ],
             [
              0.4444444444444444,
              "#bd3786"
             ],
             [
              0.5555555555555556,
              "#d8576b"
             ],
             [
              0.6666666666666666,
              "#ed7953"
             ],
             [
              0.7777777777777778,
              "#fb9f3a"
             ],
             [
              0.8888888888888888,
              "#fdca26"
             ],
             [
              1,
              "#f0f921"
             ]
            ],
            "type": "histogram2dcontour"
           }
          ],
          "mesh3d": [
           {
            "colorbar": {
             "outlinewidth": 0,
             "ticks": ""
            },
            "type": "mesh3d"
           }
          ],
          "parcoords": [
           {
            "line": {
             "colorbar": {
              "outlinewidth": 0,
              "ticks": ""
             }
            },
            "type": "parcoords"
           }
          ],
          "pie": [
           {
            "automargin": true,
            "type": "pie"
           }
          ],
          "scatter": [
           {
            "marker": {
             "colorbar": {
              "outlinewidth": 0,
              "ticks": ""
             }
            },
            "type": "scatter"
           }
          ],
          "scatter3d": [
           {
            "line": {
             "colorbar": {
              "outlinewidth": 0,
              "ticks": ""
             }
            },
            "marker": {
             "colorbar": {
              "outlinewidth": 0,
              "ticks": ""
             }
            },
            "type": "scatter3d"
           }
          ],
          "scattercarpet": [
           {
            "marker": {
             "colorbar": {
              "outlinewidth": 0,
              "ticks": ""
             }
            },
            "type": "scattercarpet"
           }
          ],
          "scattergeo": [
           {
            "marker": {
             "colorbar": {
              "outlinewidth": 0,
              "ticks": ""
             }
            },
            "type": "scattergeo"
           }
          ],
          "scattergl": [
           {
            "marker": {
             "colorbar": {
              "outlinewidth": 0,
              "ticks": ""
             }
            },
            "type": "scattergl"
           }
          ],
          "scattermapbox": [
           {
            "marker": {
             "colorbar": {
              "outlinewidth": 0,
              "ticks": ""
             }
            },
            "type": "scattermapbox"
           }
          ],
          "scatterpolar": [
           {
            "marker": {
             "colorbar": {
              "outlinewidth": 0,
              "ticks": ""
             }
            },
            "type": "scatterpolar"
           }
          ],
          "scatterpolargl": [
           {
            "marker": {
             "colorbar": {
              "outlinewidth": 0,
              "ticks": ""
             }
            },
            "type": "scatterpolargl"
           }
          ],
          "scatterternary": [
           {
            "marker": {
             "colorbar": {
              "outlinewidth": 0,
              "ticks": ""
             }
            },
            "type": "scatterternary"
           }
          ],
          "surface": [
           {
            "colorbar": {
             "outlinewidth": 0,
             "ticks": ""
            },
            "colorscale": [
             [
              0,
              "#0d0887"
             ],
             [
              0.1111111111111111,
              "#46039f"
             ],
             [
              0.2222222222222222,
              "#7201a8"
             ],
             [
              0.3333333333333333,
              "#9c179e"
             ],
             [
              0.4444444444444444,
              "#bd3786"
             ],
             [
              0.5555555555555556,
              "#d8576b"
             ],
             [
              0.6666666666666666,
              "#ed7953"
             ],
             [
              0.7777777777777778,
              "#fb9f3a"
             ],
             [
              0.8888888888888888,
              "#fdca26"
             ],
             [
              1,
              "#f0f921"
             ]
            ],
            "type": "surface"
           }
          ],
          "table": [
           {
            "cells": {
             "fill": {
              "color": "#EBF0F8"
             },
             "line": {
              "color": "white"
             }
            },
            "header": {
             "fill": {
              "color": "#C8D4E3"
             },
             "line": {
              "color": "white"
             }
            },
            "type": "table"
           }
          ]
         },
         "layout": {
          "annotationdefaults": {
           "arrowcolor": "#2a3f5f",
           "arrowhead": 0,
           "arrowwidth": 1
          },
          "coloraxis": {
           "colorbar": {
            "outlinewidth": 0,
            "ticks": ""
           }
          },
          "colorscale": {
           "diverging": [
            [
             0,
             "#8e0152"
            ],
            [
             0.1,
             "#c51b7d"
            ],
            [
             0.2,
             "#de77ae"
            ],
            [
             0.3,
             "#f1b6da"
            ],
            [
             0.4,
             "#fde0ef"
            ],
            [
             0.5,
             "#f7f7f7"
            ],
            [
             0.6,
             "#e6f5d0"
            ],
            [
             0.7,
             "#b8e186"
            ],
            [
             0.8,
             "#7fbc41"
            ],
            [
             0.9,
             "#4d9221"
            ],
            [
             1,
             "#276419"
            ]
           ],
           "sequential": [
            [
             0,
             "#0d0887"
            ],
            [
             0.1111111111111111,
             "#46039f"
            ],
            [
             0.2222222222222222,
             "#7201a8"
            ],
            [
             0.3333333333333333,
             "#9c179e"
            ],
            [
             0.4444444444444444,
             "#bd3786"
            ],
            [
             0.5555555555555556,
             "#d8576b"
            ],
            [
             0.6666666666666666,
             "#ed7953"
            ],
            [
             0.7777777777777778,
             "#fb9f3a"
            ],
            [
             0.8888888888888888,
             "#fdca26"
            ],
            [
             1,
             "#f0f921"
            ]
           ],
           "sequentialminus": [
            [
             0,
             "#0d0887"
            ],
            [
             0.1111111111111111,
             "#46039f"
            ],
            [
             0.2222222222222222,
             "#7201a8"
            ],
            [
             0.3333333333333333,
             "#9c179e"
            ],
            [
             0.4444444444444444,
             "#bd3786"
            ],
            [
             0.5555555555555556,
             "#d8576b"
            ],
            [
             0.6666666666666666,
             "#ed7953"
            ],
            [
             0.7777777777777778,
             "#fb9f3a"
            ],
            [
             0.8888888888888888,
             "#fdca26"
            ],
            [
             1,
             "#f0f921"
            ]
           ]
          },
          "colorway": [
           "#636efa",
           "#EF553B",
           "#00cc96",
           "#ab63fa",
           "#FFA15A",
           "#19d3f3",
           "#FF6692",
           "#B6E880",
           "#FF97FF",
           "#FECB52"
          ],
          "font": {
           "color": "#2a3f5f"
          },
          "geo": {
           "bgcolor": "white",
           "lakecolor": "white",
           "landcolor": "#E5ECF6",
           "showlakes": true,
           "showland": true,
           "subunitcolor": "white"
          },
          "hoverlabel": {
           "align": "left"
          },
          "hovermode": "closest",
          "mapbox": {
           "style": "light"
          },
          "paper_bgcolor": "white",
          "plot_bgcolor": "#E5ECF6",
          "polar": {
           "angularaxis": {
            "gridcolor": "white",
            "linecolor": "white",
            "ticks": ""
           },
           "bgcolor": "#E5ECF6",
           "radialaxis": {
            "gridcolor": "white",
            "linecolor": "white",
            "ticks": ""
           }
          },
          "scene": {
           "xaxis": {
            "backgroundcolor": "#E5ECF6",
            "gridcolor": "white",
            "gridwidth": 2,
            "linecolor": "white",
            "showbackground": true,
            "ticks": "",
            "zerolinecolor": "white"
           },
           "yaxis": {
            "backgroundcolor": "#E5ECF6",
            "gridcolor": "white",
            "gridwidth": 2,
            "linecolor": "white",
            "showbackground": true,
            "ticks": "",
            "zerolinecolor": "white"
           },
           "zaxis": {
            "backgroundcolor": "#E5ECF6",
            "gridcolor": "white",
            "gridwidth": 2,
            "linecolor": "white",
            "showbackground": true,
            "ticks": "",
            "zerolinecolor": "white"
           }
          },
          "shapedefaults": {
           "line": {
            "color": "#2a3f5f"
           }
          },
          "ternary": {
           "aaxis": {
            "gridcolor": "white",
            "linecolor": "white",
            "ticks": ""
           },
           "baxis": {
            "gridcolor": "white",
            "linecolor": "white",
            "ticks": ""
           },
           "bgcolor": "#E5ECF6",
           "caxis": {
            "gridcolor": "white",
            "linecolor": "white",
            "ticks": ""
           }
          },
          "title": {
           "x": 0.05
          },
          "xaxis": {
           "automargin": true,
           "gridcolor": "white",
           "linecolor": "white",
           "ticks": "",
           "title": {
            "standoff": 15
           },
           "zerolinecolor": "white",
           "zerolinewidth": 2
          },
          "yaxis": {
           "automargin": true,
           "gridcolor": "white",
           "linecolor": "white",
           "ticks": "",
           "title": {
            "standoff": 15
           },
           "zerolinecolor": "white",
           "zerolinewidth": 2
          }
         }
        },
        "title": {
         "font": {
          "color": "#4D5663"
         },
         "text": "Whiskey price Distribution according to their style"
        },
        "xaxis": {
         "gridcolor": "#E1E5ED",
         "showgrid": true,
         "tickfont": {
          "color": "#4D5663"
         },
         "title": {
          "font": {
           "color": "#4D5663"
          },
          "text": "Price per Litre"
         },
         "zerolinecolor": "#E1E5ED"
        },
        "yaxis": {
         "gridcolor": "#E1E5ED",
         "showgrid": true,
         "tickfont": {
          "color": "#4D5663"
         },
         "title": {
          "font": {
           "color": "#4D5663"
          },
          "text": "Style of Whiskey"
         },
         "zerolinecolor": "#E1E5ED"
        }
       }
      },
      "text/html": [
       "<div>                            <div id=\"0514263b-e602-4bc6-860b-114a15505653\" class=\"plotly-graph-div\" style=\"height:525px; width:100%;\"></div>            <script type=\"text/javascript\">                require([\"plotly\"], function(Plotly) {                    window.PLOTLYENV=window.PLOTLYENV || {};\n",
       "                    window.PLOTLYENV.BASE_URL='https://plot.ly';                                    if (document.getElementById(\"0514263b-e602-4bc6-860b-114a15505653\")) {                    Plotly.newPlot(                        \"0514263b-e602-4bc6-860b-114a15505653\",                        [{\"marker\": {\"color\": \"rgba(255, 153, 51, 1.0)\", \"line\": {\"width\": 1.3}, \"opacity\": 0.8, \"size\": 12, \"symbol\": \"circle\"}, \"mode\": \"markers\", \"name\": \"12-50\", \"text\": [\"Benromach 21 Year Old\", \"Balblair 1990 29 Year Old Connoisseur's Choice\", \"Benriach 2005 UK Exclusive Peated Rum Cask #7553\", \"Character of Islay Bowmore 18 Year Old Wind & Waves #11714\", \"The Singleton of Glen Ord 38 Year Old Epicurean Odyssey\", \"Glenmorangie Quinta Ruban Giraffe Tin\", \"GlenAllachie 2006 #6620\", \"Wemyss Malts Bunnahabhain 1990 28 Year Old Boat Captain's Brew\", \"Wemyss Malts Bowmore 1988 31 Year Old Candied Violets\", \"Glendronach 27 Year Old #182 Oloroso UK Exclusive Single Cask\", \"Darkness Caperdonich 23 Year Old 10188\", \"Bruichladdich Black Art 8\", \"Bowmore 15 Year Old Glass Gift Set\", \"Macallan 50 Year Old Red Collection\", \"Darkness Bowmore 17 Year Old Moscatel Cask Finish\", \"Deanston 1991 Muscat Cask Finish\", \"Fettercairn 46 Year Old\", \"Ledaig 21 Year Old 1998 Marsala Cask Finish\", \"Deanston 2002 Pinot Noir Cask\", \"Deanston 2002 Organic\", \"Tobermory 23 Year Old\", \"Macallan 1990 22 Year Old Fine & Rare #24706\", \"Loch Lomond 30 Year Old\", \"Loch Lomond 21 Year Old\", \"Dalwhinnie 30 Year Old Special Releases 2020\", \"Singleton 17 Year Old Special Releases 2020\", \"Fettercairn 22 Year Old\", \"Macallan 18 Year Old Double Cask\", \"Macallan 1954 47 Year Old Fine & Rare #1902\", \"Macallan 1940 37 Year Old Fine & Rare\", \"Balvenie The Edge of Burnhead Wood 19 Year Old\", \"Glen Scotia 14 Year Old Tawny Port Finish Campbeltown Malts Festival 2020\", \"Wemyss Malts Velvet Fig 25 Year Old\", \"Glenglassaugh 1978 40 Year Old #3060\", \"Old Malt Cask Ardbeg 32 Year Old 1967\", \"Ardbeg 1972 VELIER\", \"Dailuaine 46 Year Old Platinum Old & Rare\", \"GlenAllachie 15 Year Old\", \"Glendronach 1993 26 Year Old #7434\", \"Glen Scotia 45 Year Old\", \"Balblair 25 Year Old\", \"Glenfiddich Grand Cru 23 Year Old\", \"Brora 40 Year Old 200th Anniversary\", \"GlenAllachie 25 Year Old\", \"GlenAllachie 18 Year Old\", \"Old Pulteney 25 Year Old - 2019\", \"Talisker 41 Year Old\", \"Port Ellen 39 Year Old Untold Stories: The Spirit Safe\", \"Balvenie The Week of Peat 14 Year Old\", \"Johnnie Walker 18 Year Old\", \"Whisky Works Glaswegian 29 Year Old\", \"Balblair 18 Year Old\", \"Balblair 15 Year Old\", \"Glenmorangie Grand Vintage Malt 1991\", \"Springbank 1997 21 year old Authors Series - Oscar Wilde\", \"Macallan 1937 32 Year Old Fine & Rare\", \"Macallan 1938 31 Year Old Fine & Rare\", \"Macallan 1947 15 Year Old Fine & Rare\", \"Balvenie 1971 DCS Chapter 4\", \"Talisker 1953 24 Year Old Connoisseur's Choice\", \"Talisker 1952 21 Year Old Connoisseur's Choice\", \"Ballantine's Miltonduff 17 Year Old\", \"Glenfiddich 30 Year Old\", \"Glenglassaugh 30 Year Old\", \"Glenfiddich 18 Year Old 5cl\", \"Glenfiddich 15 Year Old Solera 20cl\", \"Singleton of Dufftown 15 Year Old\", \"Singleton of Dufftown 18 Year Old\", \"GlenDronach 18 Year Old 5cl\", \"Loch Lomond 19 Year Old Royal Portrush\", \"Dalmore 40 Year Old\", \"Benrinnes 15 Year Old\", \"Jura 1988\", \"The Last Drop Glenrothes 1968 Cask 13504\", \"Fettercairn 40 Year Old\", \"GlenDronach 15 Year Old Revival\", \"Fettercairn 28 Year Old\", \"Macallan 30 Year Old Sherry Oak 2020\", \"Old Pulteney 18 Year Old\", \"Old Pulteney 15 Year Old\", \"Glenfiddich Winter Storm Batch 2\", \"Talisker 40 Year Old\", \"BenRiach 21 Year Old\", \"The Tweeddale The Evolution\", \"Convalmore 32 Year Old 2017 Special Release\", \"Jura 18 Year Old\", \"Bunnahabhain 40 Year Old\", \"Dalmore 45 Year Old\", \"Bunnahabhain 1980 Canasta Cask Finish\", \"Macallan 18 Year Old Sherry Oak 2020\", \"Glenfiddich 21 Year Old 20cl\", \"Old Malt Cask Highland Park 19 Year Old\", \"Aberlour 18 Year Old\", \"Dalmore 35 Year Old\", \"Chivas Regal 25 year old\", \"Old Pulteney 25 Year Old\", \"Bruichladdich 1984 32 Year Old\", \"Glenfiddich 26 Year Old Excellence\", \"Highland Park Fire\", \"Inchmurrin Taster Pack\", \"Glenfiddich 40 Year Old\", \"Loch Lomond Taster Pack\", \"Inchmoan 1992\", \"anCnoc 18 Year Old\", \"Glen Garioch 31 Year Old Platinum Old & Rare\", \"Glenburgie 44 Year Old Platinum Old & Rare\", \"Dufftown 44 Year Old Platinum Old & Rare\", \"Cragganmore 30 Year Old Platinum Old & Rare\", \"Braes of Glenlivet 30 Year Old Platinum Old & Rare\", \"Benrinnes 40 Year Old Platinum Old & Rare\", \"Balmenach 40 Year Old Platinum Old & Rare\", \"Aultmore 37 Year Old Platinum Old & Rare\", \"Ardmore 31 Year Old Platinum Old & Rare\", \"Old and Rare Bunnahabhain 30 Year Old\", \"Old Malt Cask Ben Nevis 23 Year Old\", \"Old Malt Cask Longmorn 21 Year Old\", \"Glengoyne 28 Year Old\", \"Bunnahabhain 1988 Marsala Cask Finish\", \"Balvenie 2001 DCS Chapter 5\", \"Dalmore 1973 Gonzalez Byass\", \"The Balvenie 50 Year Old: Marriage 0197\", \"Glenrothes 1995\", \"Glenrothes 40 Year Old\", \"Auchentoshan 1996\", \"Bowmore 15 Year Old Gift Set\", \"Glenrothes 1988\", \"Glen Keith 26 Year Old Platinum Old & Rare\", \"Benromach 15 Year Old\", \"Bowmore Feis Ile 2019 Cask #666\", \"GlenAllachie 2004 #6213\", \"GlenAllachie 2001 #4152\", \"Mortlach 15 Year Old - Game of Thrones Six Kingdoms\", \"Highland Park Esquire\", \"Dalwhinnie 30 Year Old Special Releases 2019\", \"Pittyvaich 29 Year Old Special Releases 2019\", \"Mortlach 26 Year Old Special Releases 2019\", \"Singleton of Glen Ord 18 Year Old Special Releases 2019\", \"Talisker 15 Year Old Special Releases 2019\", \"Cardhu 14 Year Old Special Releases 2019\", \"Macallan 50 Year Old\", \"Tamnavulin 33 Year Old The Stillman's Dram\", \"Laphroaig 25 Year Old Cask Strength\", \"Laphroaig 30 Year Old The Ian Hunter Story Book One\", \"Glengoyne 18 Year Old 20cl\", \"Glengoyne 15 Year Old 20cl\", \"Bruichladdich Black Art 7\", \"First Editions Ben Nevis 1996\", \"Glengoyne 30 Year Old 2018\", \"Littlemill 29 Year Old Private Cellar Edition 2019\", \"Highland Park 2006 14 Year Old Connoisseur's Choice\", \"The Glenlivet 1990 30 Year Old Connoisseur's Choice\", \"Golden Cask Tomatin 20 Year Old\", \"Darkness Dailuaine 17 Year Old\", \"Darkness Auchroisk 20 Year Old\", \"Darkness Auchentoshan 26 Year Old\", \"Glen Scotia 30 Year Old\", \"GlenAllachie 21 Year Old Batch 1\", \"Darkness Allt A'Bhainne 23 Year Old 10358\", \"Darkness Linkwood 19 Year Old Pedro Ximenez Cask 10559\", \"The Loch Fyne Bunnahabhain 14 Year Old 2006\", \"John Walker & Sons 28 Year Old Bicentenary Blend\", \"Highland Park 50 Year Old\", \"Darkness Ardbeg 14 Year Old Pedro Xim\\u00e9nez Cask Finish #11723\", \"Darkness Ardbeg 14 Year Old Pedro Xim\\u00e9nez Cask Finish #10394\", \"Golden Cask Bunnahabhain 28 Year Old\", \"Golden Cask Tobermory 20 Year Old\", \"Golden Cask Dailuaine 18 Year Old\", \"Golden Cask Speyside 23 Year Old\", \"Golden Cask Macduff 23 Year Old\", \"Golden Cask Macduff 35 Year Old\", \"Golden Cask Braes of Glenlivet 21 Year Old\", \"Golden Cask Benrinnes 21 Year Old\", \"GlenAllachie 1989 29 Year Old #2588\", \"GlenDronach Kingsman Edition 1989 Vintage\", \"Mortlach 21 Year Old Special Releases 2020\", \"Ardbeg 1991 21 Year Old Single Cask Cadenhead's Authentic Collection\", \"Balvenie 17 Year Old Islay Cask\", \"Macallan 15 Year Old Double Cask\", \"Arran 21 Year Old Kildonan & Pladda Island - Explorer Series Vol. 3\", \"Fettercairn 16 Year Old\", \"Old Malt Cask Inchmurrin 23 Year Old\", \"Macallan Exceptional Single Cask 2019/ESB-5542/02\", \"Port Ellen 40 Year Old 9 Rogue Casks\", \"Inchmurrin 2004 #17/641-2\", \"Arran 1995 #217\", \"Macallan Exceptional Single Cask 2019/ESB-14/03\", \"Glendronach 1992 27 Year Old #5852\", \"Lagavulin 21 Year Old Jazz Festival 2019\", \"Dalmore 25 Year Old - 2019\", \"Invergordon 21 Year Old The Sovereign\", \"Bruichladdich 17 Year Old 1l\", \"Tullibardine 30 Year Old Platinum Old & Rare\", \"Tormore 31 Year Old Platinum Old & Rare\", \"Teaninich 43 Year Old Platinum Old & Rare\", \"Tamdhu 1989 30 Year Old Platinum Old & Rare\", \"Strathmill 33 Year Old Platinum Old & Rare\", \"Linkwood 30 Year Old Platinum Old & Rare\", \"Inchgower 37 Year Old Platinum Old & Rare\", \"Glen Elgin 44 Year Old Platinum Old & Rare\", \"Glentauchers 30 Year Old Platinum Old & Rare\", \"Glenrothes 31 Year Old Platinum Old & Rare\", \"Glenlossie 44 Year Old Platinum Old & Rare\", \"Glen Garioch 31 Year Old Platinum Old & Rare\", \"Glenburgie 44 Year Old Platinum Old & Rare\", \"Dufftown 44 Year Old Platinum Old & Rare\", \"Cragganmore 30 Year Old Platinum Old & Rare\", \"Braes of Glenlivet 30 Year Old Platinum Old & Rare\", \"Benrinnes 40 Year Old Platinum Old & Rare\", \"Balmenach 40 Year Old Platinum Old & Rare\", \"Aultmore 37 Year Old Platinum Old & Rare\", \"Ardmore 31 Year Old Platinum Old & Rare\", \"Old and Rare Bunnahabhain 30 Year Old\", \"Old Malt Cask Ben Nevis 23 Year Old\", \"Old Malt Cask Longmorn 21 Year Old\", \"Glengoyne 28 Year Old\", \"Bunnahabhain 1988 Marsala Cask Finish\", \"Balvenie 2001 DCS Chapter 5\", \"Dalmore 1973 Gonzalez Byass\", \"The Balvenie 50 Year Old: Marriage 0197\", \"Glenrothes 1995\", \"Glenrothes 40 Year Old\", \"Auchentoshan 1996\", \"Bowmore 15 Year Old Gift Set\", \"Glenrothes 1988\", \"Glen Keith 26 Year Old Platinum Old & Rare\", \"Benromach 15 Year Old\", \"Bowmore Feis Ile 2019 Cask #666\", \"GlenAllachie 2004 #6213\", \"GlenAllachie 2001 #4152\", \"Mortlach 15 Year Old - Game of Thrones Six Kingdoms\", \"Highland Park Esquire\", \"Dalwhinnie 30 Year Old Special Releases 2019\", \"Pittyvaich 29 Year Old Special Releases 2019\", \"Mortlach 26 Year Old Special Releases 2019\", \"Singleton of Glen Ord 18 Year Old Special Releases 2019\", \"Talisker 15 Year Old Special Releases 2019\", \"Cardhu 14 Year Old Special Releases 2019\", \"Macallan 50 Year Old\", \"Tamnavulin 33 Year Old The Stillman's Dram\", \"Laphroaig 25 Year Old Cask Strength\", \"Laphroaig 30 Year Old The Ian Hunter Story Book One\", \"Glengoyne 18 Year Old 20cl\", \"Glengoyne 15 Year Old 20cl\", \"Bruichladdich Black Art 7\", \"First Editions Ben Nevis 1996\", \"Glengoyne 30 Year Old 2018\", \"Littlemill 29 Year Old Private Cellar Edition 2019\", \"Ardbeg Traigh Bhan 19 Year Old\", \"anCnoc 16 Year Old 125th Anniversary\", \"Bowmore 15 Year Old 35cl\", \"Old Malt Cask Bowmore 17 Year Old\", \"Talisker 25 Year Old 2004\", \"Highland Park 26 Year Old Soren Solkaer\", \"Old Malt Cask Arran 21 Year Old\", \"Aultmore 21 Year Old\", \"BenRiach Batch 16 2005 #3791\", \"BenRiach Batch 16 1994 #6500\", \"BenRiach Batch 16 1993 #7881\", \"BenRiach Batch 16 1991 #1865\", \"BenRiach Batch 16 1985 #7214\", \"Jura 21 Year Old Tide\", \"Bunnahabhain Elements 39 Year Old\", \"Macallan 30 Year Old Sherry Oak (Old style)\", \"Glen Ord 25 Year Old\", \"North British 20 Year Old\", \"Benromach 1981\", \"Distiller's Art Royal Brackla 18 Year Old\", \"Glengoyne 21 Year Old\", \"Glenmorangie 15 Year Old Sauternes Wood Finish\", \"Loch Lomond 25 Year Old Triple Wood\", \"Loch Lomond 2004 Single Cask\", \"Balvenie A Day of Dark Barley 26 Year Old\", \"Fettercairn 50 Year Old\", \"Hazelburn 14 Year Old Oloroso Cask Matured 2019\", \"Old Malt Cask Bowmore 17 Year Old - Feis Ile 2019\", \"Arran Explorer Series II Lochranza Castle\", \"Old Malt Cask Glencadam 14 Year Old\", \"Old Malt Cask Glenburgie 19 Year Old\", \"Old Malt Cask Longmorn 15 Year Old\", \"GlenDronach 1992 26 Year Old The Whisky Shop Exclusive\", \"Highland Park Twisted Tattoo 16 Year Old\", \"Old Malt Cask Ben Nevis 22 Year Old\", \"Authors' Series Probably Speyside's Finest 1968 50 Year Old - Nathaniel Hawthorne\", \"Authors' Series Tormore 1988 30 Year Old - Charles Baudelaire\", \"Authors' Series Tullibardine 1993 25 Year Old - William Thackeray\", \"GlenDronach Master Vintage 1993 25 Year Old\", \"Balvenie 1999 DCS Chapter 4\", \"Inchmurrin 2001 Single Cask Exclusive\", \"The Singleton of Glen Ord 14 Year Old 2018 Special Release\", \"Macallan 26 Year Old Platinum Old & Rare\", \"Old Malt Cask Jura 28 Year Old\", \"Bruichladdich Black Art 6 & free glass\", \"Loch Lomond 50 Year Old\", \"The GlenDronach Kingsman Edition 1991 Vintage\", \"Macallan 1940 35 Year Old Fine & Rare\", \"Loch Lomond 2001 The Whisky Shop Exclusive Limousin Oak Cask\", \"Royal Salute 21 Year Old Gift Pack\", \"Glen Garioch 1998 Wine Cask Matured\", \"Blair Athol 19yo\", \"Balvenie 1972 DCS Chapter 2\", \"Aberfeldy 1991 The Whisky Shop Exclusive\", \"BenRiach 17 Year Old Pedro Ximenez Sherry Wood\", \"GlenDronach 14 Year Old Virgin Oak\", \"Benromach 35 Year Old\", \"BRUICHLADDICH THE LADDIE TWENTY TWO YEAR OLD\", \"anCnoc 1997\", \"Bowmore 50 year old\", \"Glendronach 19 year old Madeira Cask\", \"Balvenie 1968 DCM bottling 46 year old\", \"Pittyvaich 1989 25 year old Special Release 2015\", \"Dalwhinnie 1989 25 year old Special Release 2015\", \"Dailuaine 1980 34 year old Special Release 2015\", \"Caol Ila 17 year old  Special Release 2015\", \"The Cally 1974 'Caledonian' 40 Year Old 2015 Special Release\", \"Brora 1977 37 year old Special Release 2015\", \"Laphroaig 32 Year Old\", \"BenRiach 'Latada' 18 Year Old Peated Madeira  Finish\", \"Glendronach Octaves 20 Year Old\", \"Dalmore 30 Year Old\", \"Dalmore 21 year old\", \"Dimple 15 Year Old\", \"Cutty Sark 18 Year Old\", \"The Deveron 18 Years Old\", \"Royal Brackla 21 Years Old\", \"Royal Brackla 16 Years Old\", \"Chivas 18 Year Old Ice Drop Gift Pack\", \"Laphroaig 25 Year Old 2018\", \"Laphroaig 15 Year Old 200th Anniversary Bottling\", \"Ledaig 42 year old\", \"Rare Cask Reserves  Ghosted Reserve\", \"Highland Park Odin\", \"Auchentoshan 1965\", \"Laphroaig 1991\", \"Bruichladdich Black Art 4\", \"Laphroaig 18 Year Old\", \"Ladyburn 1974 40 year old\", \"BenRiach 35 year old\", \"Old Pulteney 40 year old\", \"Talisker 1985 27 year old\", \"Port Ellen 34 year old 13th Release\", \"Glenfarclas 1966 Fino Cask\", \"The Glenlivet 50 year old Winchester Collection 1964\", \"Benrinnes 21 year old 2014 Special Release\", \"Caol Ila 15 year old\", \"Cragganmore 25 Year Old 2014 Special Release\", \"Rosebank 21 Year Old 2014 Special Release\", \"The Singleton of Glendullan 38 year old 2014 Special Release\", \"Glenfiddich 19 Year Old Age of Discovery Bourbon Cask Reserve\", \"Springbank 18 year old Renegade\", \"Glenfiddich 15 Year Old Solera 5cl\", \"Auchentoshan 18 Year Old 5cl\", \"The Glenlivet 18 year old & 2 Glass Gift Pack\", \"The Grants Rare Cask Reserve Pack 25 year old 3 x 35cl\", \"Springbank 21 year old Renegade\", \"Kininvie 23 year old batch 2\", \"Whyte & Mackay 30 year old\", \"BenRiach 25 year old\", \"Arran 14 year old\", \"Aberlour 16 Year Old\", \"Whyte & Mackay 40 year old\", \"Tomintoul 27 year old\", \"Speyburn 25 year old\", \"Scapa 16 Year Old\", \"Royal Salute Diamond Jubilee\", \"Old Pulteney 30 year old\", \"Longmorn 16 year old\", \"Lagavulin 16 year old 20cl\", \"Isle of Jura 30 year old\"], \"textfont\": {\"color\": \"#4D5663\"}, \"type\": \"scatter\", \"x\": [178.57, 885.71, 171.43, 421.36, 3000.0, 85.7, 141.43, 341.43, 800.0, 600.0, 615.9, 414.21, 90.0, 99992.86, 387.98, 385.71, 12142.86, 285.71, 157.14, 214.27, 427.14, 14214.29, 714.29, 207.14, 785.71, 157.14, 285.71, 357.14, 45707.14, 49992.86, 371.43, 107.14, 155.71, 1427.14, 4564.29, 9992.86, 1535.71, 95.71, 355.71, 5428.57, 750.0, 268.57, 6428.57, 357.14, 138.57, 607.14, 4142.86, 6428.57, 78.36, 117.14, 185.71, 148.5, 114.29, 857.07, 892.86, 49992.86, 60714.29, 48571.43, 29992.86, 4285.71, 3571.43, 132.86, 714.29, 514.29, 220.0, 135.0, 69.93, 108.57, 300.0, 228.57, 9642.86, 68.43, 928.57, 7714.29, 4285.71, 88.57, 785.71, 6785.71, 139.93, 84.14, 284.29, 3928.57, 199.99, 250.0, 1928.57, 107.14, 3178.57, 15714.29, 2571.43, 464.29, 225.0, 427.14, 290.0, 6428.57, 407.14, 428.57, 1000.0, 535.71, 271.43, 186.67, 3928.57, 173.33, 328.57, 125.71, 442.86, 1442.86, 1442.86, 571.43, 407.14, 1021.43, 1021.43, 692.86, 457.14, 800.0, 228.57, 214.29, 850.0, 642.86, 1142.86, 2850.0, 39285.71, 157.14, 4142.86, 357.14, 91.41, 507.14, 385.71, 100.0, 3570.0, 157.14, 192.86, 171.43, 285.71, 714.29, 471.43, 2142.86, 185.71, 157.14, 171.43, 119993.33, 857.14, 657.14, 998.57, 160.0, 110.0, 421.43, 228.57, 1000.0, 3928.57, 133.57, 885.71, 185.71, 149.9, 213.9, 179.98, 1214.29, 284.29, 190.0, 201.9, 190.0, 1057.14, 24142.86, 319.98, 279.98, 264.29, 135.71, 135.71, 157.14, 157.14, 342.86, 142.86, 142.86, 535.71, 1107.14, 821.43, 707.14, 498.57, 142.86, 241.43, 100.0, 228.57, 5000.0, 9135.71, 92.86, 255.71, 4278.57, 428.57, 1141.43, 1250.0, 185.71, 195.0, 371.43, 485.71, 1278.57, 407.14, 478.57, 442.86, 735.71, 1442.86, 400.0, 528.57, 1442.86, 442.86, 1442.86, 1442.86, 571.43, 407.14, 1021.43, 1021.43, 692.86, 457.14, 800.0, 228.57, 214.29, 850.0, 642.86, 1142.86, 2850.0, 39285.71, 157.14, 4142.86, 357.14, 91.41, 507.14, 385.71, 100.0, 3570.0, 157.14, 192.86, 171.43, 285.71, 714.29, 471.43, 2142.86, 185.71, 157.14, 171.43, 119993.33, 857.14, 657.14, 998.57, 160.0, 110.0, 421.43, 228.57, 1000.0, 3928.57, 241.43, 142.86, 105.71, 271.43, 850.0, 785.71, 255.71, 257.14, 157.14, 328.57, 357.14, 428.57, 850.0, 228.57, 17135.71, 8571.43, 628.57, 178.57, 428.57, 170.0, 214.29, 320.0, 357.14, 157.14, 892.86, 25707.14, 92.86, 284.29, 192.86, 141.43, 178.57, 150.0, 341.43, 114.29, 228.57, 3928.57, 607.14, 564.29, 357.14, 1707.14, 121.43, 142.86, 2628.57, 250.0, 400.0, 17142.86, 785.71, 57142.86, 121.43, 192.86, 207.14, 197.14, 21428.57, 457.14, 118.57, 82.84, 642.86, 221.43, 100.0, 25000.0, 140.0, 27142.86, 357.14, 464.29, 542.86, 128.57, 1142.86, 2142.86, 1071.43, 128.57, 525.71, 2142.86, 500.0, 71.43, 102.86, 92.86, 271.43, 128.57, 392.86, 857.14, 107.14, 4571.43, 500.0, 500.0, 6428.57, 353.57, 321.43, 114.29, 3710.0, 642.86, 2142.86, 750.0, 2857.14, 1214.29, 25714.29, 342.86, 107.14, 427.14, 428.57, 1071.43, 214.29, 285.71, 165.0, 219.8, 100.0, 357.14, 357.14, 285.71, 357.14, 292.86, 81.43, 100.0, 900.0, 165.7, 400.0, 125.71, 471.43, 500.0, 135.71, 165.0, 642.86], \"y\": [\"Single Malt\", \"Single Malt\", \"Single Malt\", \"Single Malt\", \"Single Malt\", \"Single Malt\", \"Single Malt\", \"Single Malt\", \"Single Malt\", \"Single Malt\", \"Single Malt\", \"Single Malt\", \"Single Malt\", \"Single Malt\", \"Single Malt\", \"Single Malt\", \"Single Malt\", \"Single Malt\", \"Single Malt\", \"Single Malt\", \"Single Malt\", \"Single Malt\", \"Single Malt\", \"Single Malt\", \"Single Malt\", \"Single Malt\", \"Single Malt\", \"Single Malt\", \"Single Malt\", \"Single Malt\", \"Single Malt\", \"Single Malt\", \"Blended Malt\", \"Single Malt\", \"Single Malt\", \"Single Malt\", \"Single Malt\", \"Single Malt\", \"Single Malt\", \"Single Malt\", \"Single Malt\", \"Single Malt\", \"Single Malt\", \"Single Malt\", \"Single Malt\", \"Single Malt\", \"Single Malt\", \"Single Malt\", \"Single Malt\", \"Blend\", \"Grain\", \"Single Malt\", \"Single Malt\", \"Single Malt\", \"Single Malt\", \"Single Malt\", \"Single Malt\", \"Single Malt\", \"Single Malt\", \"Single Malt\", \"Single Malt\", \"Blend\", \"Single Malt\", \"Single Malt\", \"Single Malt\", \"Single Malt\", \"Single Malt\", \"Single Malt\", \"Single Malt\", \"Single Malt\", \"Single Malt\", \"Single Malt\", \"Single Malt\", \"Single Malt\", \"Single Malt\", \"Single Malt\", \"Single Malt\", \"Single Malt\", \"Single Malt\", \"Single Malt\", \"Single Malt\", \"Single Malt\", \"Single Malt\", \"Blend\", \"Single Malt\", \"Single Malt\", \"Single Malt\", \"Single Malt\", \"Single Malt\", \"Single Malt\", \"Single Malt\", \"Single Malt\", \"Single Malt\", \"Single Malt\", \"Blended Malt\", \"Single Malt\", \"Single Malt\", \"Single Malt\", \"Single Malt\", \"Single Malt\", \"Single Malt\", \"Single Malt\", \"Single Malt\", \"Single Malt\", \"Single Malt\", \"Single Malt\", \"Single Malt\", \"Single Malt\", \"Single Malt\", \"Single Malt\", \"Single Malt\", \"Single Malt\", \"Single Malt\", \"Single Malt\", \"Single Malt\", \"Single Malt\", \"Single Malt\", \"Single Malt\", \"Single Malt\", \"Single Malt\", \"Single Malt\", \"Single Malt\", \"Single Malt\", \"Single Malt\", \"Single Malt\", \"Single Malt\", \"Single Malt\", \"Single Malt\", \"Single Malt\", \"Single Malt\", \"Single Malt\", \"Single Malt\", \"Single Malt\", \"Single Malt\", \"Single Malt\", \"Single Malt\", \"Single Malt\", \"Single Malt\", \"Single Malt\", \"Single Malt\", \"Single Malt\", \"Single Malt\", \"Single Malt\", \"Single Malt\", \"Single Malt\", \"Single Malt\", \"Single Malt\", \"Single Malt\", \"Single Malt\", \"Single Malt\", \"Single Malt\", \"Single Malt\", \"Single Malt\", \"Single Malt\", \"Single Malt\", \"Single Malt\", \"Single Malt\", \"Single Malt\", \"Single Malt\", \"Single Malt\", \"Blend\", \"Single Malt\", \"Single Malt\", \"Single Malt\", \"Single Malt\", \"Single Malt\", \"Single Malt\", \"Single Malt\", \"Single Malt\", \"Single Malt\", \"Single Malt\", \"Single Malt\", \"Single Malt\", \"Single Malt\", \"Single Malt\", \"Single Malt\", \"Single Malt\", \"Single Malt\", \"Single Malt\", \"Single Malt\", \"Single Malt\", \"Single Malt\", \"Single Malt\", \"Single Malt\", \"Single Malt\", \"Single Malt\", \"Single Malt\", \"Single Malt\", \"Single Malt\", \"Grain\", \"Single Malt\", \"Single Malt\", \"Single Malt\", \"Single Malt\", \"Single Malt\", \"Single Malt\", \"Single Malt\", \"Single Malt\", \"Single Malt\", \"Single Malt\", \"Single Malt\", \"Single Malt\", \"Single Malt\", \"Single Malt\", \"Single Malt\", \"Single Malt\", \"Single Malt\", \"Single Malt\", \"Single Malt\", \"Single Malt\", \"Single Malt\", \"Single Malt\", \"Single Malt\", \"Single Malt\", \"Single Malt\", \"Single Malt\", \"Single Malt\", \"Single Malt\", \"Single Malt\", \"Single Malt\", \"Single Malt\", \"Single Malt\", \"Single Malt\", \"Single Malt\", \"Single Malt\", \"Single Malt\", \"Single Malt\", \"Single Malt\", \"Single Malt\", \"Single Malt\", \"Single Malt\", \"Single Malt\", \"Single Malt\", \"Single Malt\", \"Single Malt\", \"Single Malt\", \"Single Malt\", \"Single Malt\", \"Single Malt\", \"Single Malt\", \"Single Malt\", \"Single Malt\", \"Single Malt\", \"Single Malt\", \"Single Malt\", \"Single Malt\", \"Single Malt\", \"Single Malt\", \"Single Malt\", \"Single Malt\", \"Single Malt\", \"Single Malt\", \"Single Malt\", \"Single Malt\", \"Single Malt\", \"Single Malt\", \"Single Malt\", \"Single Malt\", \"Single Malt\", \"Single Malt\", \"Single Malt\", \"Single Malt\", \"Single Malt\", \"Single Malt\", \"Grain\", \"Single Malt\", \"Single Malt\", \"Single Malt\", \"Single Malt\", \"Single Malt\", \"Single Malt\", \"Single Malt\", \"Single Malt\", \"Single Malt\", \"Single Malt\", \"Single Malt\", \"Single Malt\", \"Single Malt\", \"Single Malt\", \"Single Malt\", \"Single Malt\", \"Single Malt\", \"Single Malt\", \"Single Malt\", \"Single Malt\", \"Single Malt\", \"Single Malt\", \"Single Malt\", \"Single Malt\", \"Single Malt\", \"Single Malt\", \"Single Malt\", \"Single Malt\", \"Single Malt\", \"Single Malt\", \"Single Malt\", \"Blend\", \"Single Malt\", \"Single Malt\", \"Single Malt\", \"Single Malt\", \"Single Malt\", \"Single Malt\", \"Single Malt\", \"Single Malt\", \"Single Malt\", \"Single Malt\", \"Single Malt\", \"Single Malt\", \"Single Malt\", \"Single Malt\", \"Single Malt\", \"Single Malt\", \"Single Malt\", \"Single Malt\", \"Single Malt\", \"Single Malt\", \"Single Malt\", \"Single Malt\", \"Single Malt\", \"Blend\", \"Blend\", \"Single Malt\", \"Single Malt\", \"Single Malt\", \"Blend\", \"Single Malt\", \"Single Malt\", \"Single Malt\", \"Blended Malt\", \"Single Malt\", \"Single Malt\", \"Single Malt\", \"Single Malt\", \"Single Malt\", \"Single Malt\", \"Single Malt\", \"Single Malt\", \"Single Malt\", \"Single Malt\", \"Single Malt\", \"Single Malt\", \"Single Malt\", \"Single Malt\", \"Single Malt\", \"Single Malt\", \"Single Malt\", \"Single Malt\", \"Single Malt\", \"Single Malt\", \"Single Malt\", \"Single Malt\", \"Single Malt\", \"Single Malt\", \"Single Malt\", \"Blend\", \"Single Malt\", \"Single Malt\", \"Single Malt\", \"Blend\", \"Single Malt\", \"Single Malt\", \"Single Malt\", \"Blend\", \"Single Malt\", \"Single Malt\", \"Single Malt\", \"Single Malt\"]}, {\"marker\": {\"color\": \"rgba(55, 128, 191, 1.0)\", \"line\": {\"width\": 1.3}, \"opacity\": 0.8, \"size\": 12, \"symbol\": \"circle\"}, \"mode\": \"markers\", \"name\": \"No Age Statement\", \"text\": [\"John Walker & Sons King George V\", \"Paul John Christmas Edition 2020\", \"Compass Box Magic Cask\", \"Johnnie Walker Blue Label Chinese New Year 2021 - Year of the Ox\", \"The Glenlivet 1986 33 Year Old Connoisseur's Choice\", \"Johnnie Walker Black Icon 200th Anniversary\", \"Johnnie Walker Gold Icon 200th Anniversary\", \"Glen Moray 2006 Sauternes Cask\", \"Drinks By The Dram Whisky Baubles\", \"Compass Box Peat Monster Arcana\", \"anCnoc 2007 #660\", \"Johnnie Walker Blue Label Glass Gift Set\", \"Johnnie Walker Black Label Glass Gift Set\", \"Johnnie Walker 18 Year Old Glass Gift Set\", \"Johnnie Walker Black Label Gift Tin\", \"Johnnie Walker Green Label Gift Set\", \"Johnnie Walker Gold Label Glass Gift Set\", \"Compass Box Spice Tree Extravaganza\", \"Compass Box Rogues Banquet\", \"Compass Box Juveniles\", \"Compass Box Flaming Heart\", \"Kilchoman Machir Bay Cask Strength Christmas Edition\", \"Arran Sauternes Cask Finish\", \"The Loch Fyne The Living Cask Batch 10\", \"Johnnie Walker Blue Label 200th Anniversary\", \"Ardbeg An Oa Smoker Gift Pack\", \"Bunnahabhain 2008 Manzanilla Cask\", \"Bunnahabhain 1997 Moine\", \"Macallan Exceptional Cask 1993 #3917\", \"Balvenie Tun 1509 Batch 7\", \"Pittyvaich 30 Year Old Special Releases 2020\", \"Bunnahabhain Cruach-Mhona\", \"Bunnahabhain Eirigh Na Greine\", \"Loch Lomond Wales Open & Celtic Classic Oloroso Cask\", \"Loch Lomond The English Open Sauternes Cask\", \"Loch Lomond British Masters Limousin Oak Cask\", \"Loch Lomond The English Championship Rum Cask\", \"Loch Lomond The UK Championship Tawny Port Cask\", \"Port Charlotte OLC: 01 2010 Heavily Peated\", \"The Glenlivet Spectra\", \"Teacher's Highland Cream\", \"Macallan Rare Cask 2020 Release\", \"Stylish Whisky Mini Nessie Decanter 10cl\", \"Stylish Whisky Mini Piper Decanter 10cl\", \"Johnnie Walker Blue Label Rare Side of Scotland\", \"Arran Quarter Cask The Bothy\", \"Robert Burns Malt Gift Pack\", \"Jura 1989\", \"Nectar Grove Batch Strength\", \"Glenrothes Whisky Maker's Cut\", \"Laphroaig Lore Gift Set\", \"Johnnie Walker Sweet Peat\", \"Dalmore Port Wood Reserve Gift Set\", \"Bruichladdich The Classic Laddie Scottish Barley Gift Pack\", \"Johnnie Walker Taster Gift Set 3x5cl\", \"Johnnie Walker Blue Label Ghost & Rare: Glenury Royal\", \"Compass Box The Circle\", \"Stylish Whisky Golf Club Decanter 20cl\", \"Pot Still Tap & 2 Glasses\", \"Auchentoshan Gift Pack 3x5cl\", \"Benromach Cask Strength 2009\", \"Kilchoman Twin Pack 2x20cl\", \"Kilchoman Sanaig 20cl\", \"Loch Lomond Single Grain\", \"Loch Lomond Signature\", \"Bruichladdich The Classic Laddie 20cl\", \"Longrow Peated\", \"Arbikie Highland Rye\", \"Kilchoman Sanaig\", \"Kilchoman Machir Bay\", \"Macallan Estate 2019\", \"Clynelish Reserve - Game of Thrones House Tyrell\", \"Kingsbarns Dream to Dram\", \"Compass Box The Spaniard\", \"Glenglassaugh Evolution\", \"Glen Moray Mastery\", \"Glenkeir Treasures Secret Islay\", \"Glen Scotia Victoriana\", \"Johnnie Walker Green Label\", \"The John Walker\", \"Glendronach Peated Cask\", \"Laphroaig Select\", \"Cragganmore Distillers Edition\", \"Johnnie Walker Blue Label 20cl\", \"Black Bottle\", \"Whyte & Mackay\", \"Johnnie Walker Red Label\", \"Glayva\", \"The Glenlivet Nadurra Oloroso Cask Finish\", \"Johnnie Walker Blenders' Batch Directors Edition 2016\", \"Aberlour Casg Annamh\", \"Compass Box Malt Whisky Collection\", \"Chivas Regal Mizunara\", \"Monkey Shoulder Smokey Monkey\", \"Johnnie Walker Blue Label Ghost & Rare: Port Ellen\", \"Glenfiddich Fire & Cane\", \"Ailsa Bay 1.2 Sweet Smoke\", \"Bruichladdich Classic Laddie Gift Pack\", \"Old Pulteney Huddart\", \"The Loch Fyne Chocolate & Orange Liqueur 5cl\", \"The Loch Fyne Blend 5cl\", \"Classic Malts Gentle Collection\", \"Classic Malts Coastal Collection\", \"Classic Malt Pack Strong 3 x 20cl\", \"Golf Ball on Tee with Tap\", \"Johnnie Walker Gold Label Reserve\", \"Johnnie Walker Blue Label\", \"Jura Seven Wood\", \"Bunnahabhain Toiteach A Dha\", \"Shackleton Blended Malt Scotch\", \"Bunnahabhain Stiuireadair\", \"Globe and 4 Glasses\", \"Macallan No 6 1824 Series\", \"Barrel and 2 Glasses\", \"Auchentoshan Gift Pack 3 x 20cl\", \"Barley Tap and 2 Glasses\", \"Glenfiddich IPA Experiment\", \"Glenglassaugh Octaves Classic\", \"Laphroaig Lore\", \"Old Pulteney 1983 Vintage\", \"The Lost Distillery Co. Lossit\", \"Ardbeg An Oa\", \"The Lost Distillery Co. Jericho\", \"Talisker Skye\", \"Robert Burns Malt\", \"Benromach Peat Smoke\", \"Laphroaig Quarter Cask\", \"Glen Moray Rhum Agricole\", \"Glenrothes Elders' Reserve 10cl\", \"Kilchoman UK Small Batch No.1\", \"Glenmorangie 1993 Burr Oak Reserve\", \"Game of Thrones Whisky Collection (Set of 9)\", \"Johnnie Walker Double Black Gift Set\", \"Bowmore Craftsmen's Collection Mashmen's Selection\", \"Macallan Decades Fifties\", \"Macallan Decades Forties\", \"Macallan Rare Cask Batch No.2 2019 Release\", \"Dalmore King Alexander III Gift Set\", \"1770 Peated No.1\", \"Old Pulteney 2006 #1448\", \"The Lost Distillery Co. Discovery Selection Gift Pack 3x5cl\", \"Balvenie Tun 1509 Batch 6\", \"Magnum Highland Cream Liqueur\", \"Macallan Edition No.5\", \"12 Drams of Christmas - Premium Whisky Selection Box\", \"12 Drams of Christmas - Whisky Selection Box\", \"Johnnie Walker Discover Gift Set 5x5cl\", \"Compass Box Myths & Legends III\", \"Compass Box Myths & Legends II\", \"Compass Box Myths & Legends I\", \"Jura Gift Pack 3x5cl\", \"Compass Box No Name No.2\", \"Drinks by the Dram Whisky Crackers\", \"GlenAllachie 2009 #3782\", \"GlenAllachie 2008 #3966\", \"GlenAllachie 2008 #1867\", \"GlenAllachie 2006 #111860\", \"GlenAllachie 2005 #5182\", \"GlenAllachie 1989 #6118\", \"Talisker Exploration Gift Set 3x5cl\", \"Macallan Distil Your World: London\", \"Jura The Loch\", \"Darkness Aultmore 22 Year Old 10358\", \"Arran Port Wood Cask Finish\", \"Laphroaig 30 Year Old The Ian Hunter Story Book Two\", \"Compass Box Hedonism Felicitas\", \"Character of Islay Tasting Set Pack\", \"Kilchoman 100% Islay 10th Edition\", \"Highland Park Cask Strength No.1\", \"Macallan Edition No.6\", \"Glenmorangie A Tale of Cake\", \"Macallan Exceptional Cask 1988 #3890\", \"Macallan Exceptional Cask 2002 #2340\", \"Bowmore Vault Edition 2\", \"The Scotch Whisky Advent Calendar (2020 Edition)\", \"Cragganmore 20 Year Old Special Releases 2020\", \"Dalmore Dominium - Travel Retail Exclusive\", \"Ardbeg 1978 Spirit Of Scotland\", \"Kilchoman Loch Gorm 2020\", \"Daftmill 2007 Winter Release\", \"Glenrothes 1992 2nd Edition\", \"Daftmill 2008 Summer Release\", \"Ardbeg 1977 Limited Edition\", \"Stylish Whisky Mini Golf Decanter 10cl\", \"Macallan Concept Number 1 2018\", \"Macallan Boutique Collection 2019\", \"Aberlour 1989 Dunnage Matured Millennium\", \"Octomore 10.4 Dialogos Virgin Oak\", \"Johnnie Walker Blue Label Year of the Rat\", \"The Loch Fyne The Living Cask Batch 9\", \"Glen Moray Rhum Agricole\", \"Glenrothes Elders' Reserve 10cl\", \"Kilchoman UK Small Batch No.1\", \"Glenmorangie 1993 Burr Oak Reserve\", \"Game of Thrones Whisky Collection (Set of 9)\", \"Johnnie Walker Double Black Gift Set\", \"Bowmore Craftsmen's Collection Mashmen's Selection\", \"Macallan Decades Fifties\", \"Macallan Decades Forties\", \"Macallan Rare Cask Batch No.2 2019 Release\", \"Dalmore King Alexander III Gift Set\", \"1770 Peated No.1\", \"Old Pulteney 2006 #1448\", \"The Lost Distillery Co. Discovery Selection Gift Pack 3x5cl\", \"Balvenie Tun 1509 Batch 6\", \"Magnum Highland Cream Liqueur\", \"Macallan Edition No.5\", \"12 Drams of Christmas - Premium Whisky Selection Box\", \"12 Drams of Christmas - Whisky Selection Box\", \"Johnnie Walker Discover Gift Set 5x5cl\", \"Compass Box Myths & Legends III\", \"Compass Box Myths & Legends II\", \"Compass Box Myths & Legends I\", \"Jura Gift Pack 3x5cl\", \"Compass Box No Name No.2\", \"Benromach Peat Smoke Sherry Cask Matured 2009\", \"Highland Park Valfather\", \"anCnoc Peat\", \"Old Pulteney 21 Year Old & 1989 Vintage Twin Pack\", \"Tullibardine 225 Sauternes Cask Finish\", \"GlenDronach Cask Strength Batch 6\", \"Speyburn Bradan Orach\", \"Port Charlotte Scottish Barley 20cl\", \"The Lost Distillery Co. Dalaruan\", \"Loch Lomond 2002 Cristie Kerr\", \"The Loch Fyne The Living Cask Batch 8\", \"Loch Lomond 2004 Colin Montgomerie Single Cask\", \"Loch Lomond Original\", \"Loch Lomond The Open Special Edition Distiller's Cut\", \"Chichibu Single Cask #5036\", \"Chichibu Single Cask #1700\", \"Glenkeir Treasures Secret Islay 10cl\", \"Glenkeir Treasures Secret Islay 20cl\", \"Piper Decanter\", \"Johnnie Walker Directors Blend 2012\", \"Glen Scotia 1999 Single Cask\", \"Usquaebach Reserve\", \"North British 1980\", \"Macallan Private Eye\", \"Stylish Whisky Globe Decanter 20cl\", \"Bruichladdich Islay Barley 20cl\", \"Connoisseur's Choice Glencadam 1991\", \"Macallan Genesis\", \"Port Charlotte MRC: 01 2010\", \"Kilchoman STR Cask Matured\", \"1770 Glasgow Single Malt\", \"Ardbeg Drum\", \"Loch Lomond The Open Special Edition Distiller's Cut Gift Pack\", \"Singleton of Glendullan Reserve - Game of Thrones House Tully\", \"Oban Bay Reserve - Game of Thrones The Night's Watch\", \"Cardhu Gold Reserve - Game of Thrones House Targaryen\", \"Dalwhinnie Winter's Frost - Game of Thrones House Stark\", \"Kilkerran Heavily Peated\", \"Game of Thrones Whisky Collection (Set of 8)\", \"Macallan Archival Series Folio 3\", \"Johnnie Walker Blue Label Year of the Pig Limited Edition\", \"Talisker Select Reserve - Game of Thrones House Greyjoy\", \"Compass Box Hedonism\", \"Balvenie DCS Chapter 5 Set\", \"Macallan Masters of Photography: Magnum Edition\", \"Glenkeir Treasures Gift Pack\", \"Balblair 1997 Single Cask The Whisky Shop Exclusive\", \"Jura Prophecy 20cl\", \"Johnnie Walker Blue Label Year of the Rooster Limited Edition\", \"Glenkeir Treasures Secret Highland\", \"Johnnie Walker Blue Label Winter Edition\", \"The Singleton of Dufftown Spey Cascade\", \"Bowmore Small Batch\", \"Auchentoshan American Oak\", \"The Glenlivet Cipher\", \"Glenmorangie Pride 1978\", \"Customer Favourites Gift Box\", \"The Whisky Shop 'The Best Of Islay' Gift Box\", \"Old Pulteney 1989\", \"Bell's Decanter 2012 - Robert Duff Bell\", \"Kilchoman Madeira Cask\", \"Drambuie Jacobite Collection\", \"JOHNNIE WALKER Blue Label Anniversary 60.5%\", \"Glenmorangie Milsean\", \"Royal Salute World Polo Edition\", \"Johnnie Walker Blue Label Year of the Monkey Limited Edition\", \"Jura 1977\", \"Highland Park 1968\", \"Highland Park 1970\", \"Octomore 7.3\", \"The Whisky Shop 'Tour of Scotland' gift box\", \"Glenfarclas 2000 Gift Box Set\", \"The Macallan M\", \"Bowmore Devil's Cask III 37.5cl\", \"Hankey Bannister\", \"Glenglassaugh Revival\", \"Glenkinchie Distillers Edition\", \"Glenrothes Select Reserve\", \"Cutty Sark Prohibition\", \"The Naked Grouse\", \"Octomore 7.1 Scottish Barley\", \"Ardbeg Perpetuum\", \"Dalmore Mckenzie\", \"Glenrothes Vintage Reserve\", \"anCnoc 1975\", \"Laphroaig Triple Wood & free glass\", \"Macallan Ruby\", \"Macallan Masters of Photography: Mario Testino Edition: Purple Print\", \"Macallan Masters of Photography: Mario Testino Edition: Green Print\", \"The Glenlivet Founder's Reserve\", \"Glenmorangie Tusail Private Edition\", \"Bowmore 1969\", \"Bowmore 1967\", \"Jura 1984 Vintage\", \"Glenmorangie The Taghta\", \"Scotland in a Box\", \"anCnoc Cutter\", \"Octomore 6.1 Scottish Barley\", \"Port Charlotte Islay Barley\", \"Kilchoman Original Cask Strength\", \"Clynelish Select Reserve 2014 Special Release\", \"Kilchoman Port Cask\", \"The Black Grouse\", \"Glenfarclas 1960\", \"Glenfarclas 1966\", \"Glenfarclas 1990\", \"Old Pulteney 1990 limited release\", \"Balvenie Tun 1509\", \"Glenfarclas 1996\", \"Glenfarclas 1985\", \"Glenfarclas 1984\", \"Glenfarclas 1982\", \"Glenfarclas 1975\", \"Glenfarclas 1974\", \"Glenfarclas 1973\", \"Glenfarclas 1972\", \"Glenfarclas 1969\", \"Glenfarclas 1967\", \"Glenfarclas 1965\", \"Glenfarclas 1964\", \"Glenfarclas 1963\", \"Glenfarclas 1962\", \"Glenfarclas 1961\", \"Glenfarclas 1958\", \"Glenfarclas 1957\", \"Glenfarclas 1954\", \"Jura Tastival Festival bottling\", \"Islay Mist Deluxe 5cl\", \"Famous Grouse\", \"Stag's Breath\", \"Columba Cream Liqueur\", \"World Miniature Gift Pack 4 x 5cl\", \"The Glenlivet Triple Pack 3 x 20cl\", \"Hankey Bannister Original\", \"Bruichladdich Islay Barley & free glass\", \"Old Pulteney Clipper\", \"The Glenlivet Guardians Chapter\", \"Premium Whisky Selection Gift Pack 4 x 5cl\", \"Jura The Collection 3x5cl\", \"Dailuaine 1997 Managers Choice\", \"Clynelish Distillers Edition\", \"Cardhu Special Cask Reserve\", \"Bowmore Gift Pack 3x20cl\", \"Vat 69\", \"Scottish Leader\", \"Lauder's\", \"Grand Macnish Finest\", \"Glenglassaugh Triple Pack 3 x 20cl\", \"Glenturret Triple Wood\", \"Talisker Pack 3 x 20cl\", \"Strathmill 1996 Managers Choice\", \"Royal Salute 100 Casks\", \"Royal Lochnagar Selected Reserve\", \"Robert Burns Blend\", \"Compass Box The Peat Monster\", \"Old Pulteney Navigator\", \"McClellands Islay Single Malt\", \"McClellands Lowland Single Malt\", \"McClellands Highland Single Malt\", \"Mannochmore 1998 Managers Choice\", \"Knockando 1996 Managers Choice\", \"Isle of Jura 1976\"], \"textfont\": {\"color\": \"#4D5663\"}, \"type\": \"scatter\", \"x\": [785.71, 78.43, 224.29, 320.0, 1228.57, 45.7, 74.29, 114.21, 221.94, 107.07, 134.29, 227.13, 42.86, 120.0, 42.86, 61.36, 65.64, 131.36, 264.21, 135.64, 171.43, 67.13, 56.79, 90.0, 278.57, 69.93, 214.27, 528.56, 9998.57, 428.57, 571.43, 84.99, 74.99, 121.41, 121.41, 121.41, 128.56, 128.56, 126.67, 166.58, 28.57, 314.27, 250.0, 250.0, 307.14, 58.49, 55.71, 857.14, 71.43, 65.43, 112.79, 60.0, 114.29, 74.29, 133.33, 392.86, 171.43, 225.0, 228.57, 213.33, 84.27, 135.0, 145.0, 42.86, 42.86, 130.0, 67.14, 357.14, 78.57, 70.0, 248.43, 68.57, 70.0, 81.43, 78.57, 1285.71, 110.0, 104.29, 70.0, 3021.43, 67.14, 57.14, 90.0, 300.0, 30.0, 28.57, 42.86, 52.0, 87.14, 2995.0, 67.07, 166.67, 74.29, 64.29, 377.14, 61.43, 85.71, 74.29, 71.43, 140.0, 140.0, 73.32, 66.65, 83.33, 228.57, 74.29, 214.29, 84.29, 54.14, 57.14, 48.5, 228.57, 4000.0, 228.57, 115.0, 228.57, 81.43, 97.14, 127.14, 714.29, 71.43, 70.0, 71.43, 64.29, 55.71, 67.14, 71.43, 84.29, 200.0, 85.71, 712.86, 82.22, 57.14, 427.14, 720.0, 720.0, 328.57, 321.43, 98.0, 141.43, 166.67, 392.86, 34.29, 140.71, 249.97, 191.67, 128.0, 185.71, 185.71, 185.71, 140.0, 157.14, 221.94, 122.86, 128.57, 128.57, 137.14, 151.43, 757.14, 79.93, 3757.14, 64.29, 175.9, 57.13, 1228.57, 250.0, 199.93, 107.14, 85.71, 140.71, 107.14, 12855.71, 1928.57, 141.43, 208.33, 185.71, 107.14, 850.0, 107.14, 235.71, 235.71, 278.57, 1357.14, 250.0, 321.43, 570.0, 141.43, 228.57, 307.14, 90.0, 84.29, 200.0, 85.71, 712.86, 82.22, 57.14, 427.14, 720.0, 720.0, 328.57, 321.43, 98.0, 141.43, 166.67, 392.86, 34.29, 140.71, 249.97, 191.67, 128.0, 185.71, 185.71, 185.71, 140.0, 157.14, 84.29, 85.71, 114.29, 428.57, 85.71, 90.0, 34.27, 120.0, 71.43, 357.14, 90.0, 114.29, 35.71, 78.57, 2564.29, 2564.29, 120.0, 120.0, 228.57, 3928.57, 192.86, 55.71, 357.14, 6428.57, 225.0, 140.0, 210.0, 4857.14, 141.43, 107.14, 98.0, 141.43, 78.57, 54.29, 92.86, 68.57, 68.57, 62.86, 71.07, 2571.43, 278.43, 68.57, 104.29, 17714.29, 3857.14, 166.67, 200.0, 125.0, 314.29, 100.0, 321.43, 50.0, 55.71, 47.14, 157.14, 3800.0, 660.0, 660.0, 192.86, 121.43, 127.14, 5000.0, 3571.43, 114.29, 228.57, 212.86, 1011.23, 4564.29, 4135.71, 235.71, 700.0, 114.29, 5714.29, 520.0, 41.43, 64.29, 100.0, 62.86, 42.86, 42.86, 142.86, 121.43, 428.57, 57.14, 415.71, 98.57, 357.14, 3164.29, 3164.29, 57.14, 111.43, 3000.0, 3857.14, 1071.43, 98.57, 191.67, 104.29, 141.43, 92.86, 98.57, 714.29, 110.0, 40.0, 6285.71, 5712.86, 485.71, 235.71, 321.43, 485.71, 1000.0, 7857.14, 1485.71, 8428.57, 5000.0, 5000.0, 3857.14, 5712.86, 5712.86, 5712.86, 5712.86, 5712.86, 7857.14, 6285.71, 10428.57, 15500.0, 12142.86, 141.43, 90.0, 27.14, 35.71, 135.0, 399.8, 113.32, 110.0, 90.0, 74.29, 84.29, 379.8, 400.0, 378.57, 98.57, 85.71, 140.0, 42.86, 44.95, 30.0, 37.14, 1700.0, 67.14, 82.83, 424.29, 400.0, 421.43, 40.0, 49.93, 71.43, 42.86, 42.86, 42.86, 371.43, 491.43, 791.41], \"y\": [\"Blend\", \"Single Malt\", \"Blended Malt\", \"Blend\", \"Single Malt\", \"Blend\", \"Blend\", \"Single Malt\", null, null, \"Single Malt\", null, null, null, null, null, null, null, null, null, null, \"Single Malt\", \"Single Malt\", \"Blended Malt\", \"Blend\", \"Single Malt\", \"Single Malt\", \"Single Malt\", \"Single Malt\", \"Single Malt\", \"Single Malt\", \"Single Malt\", \"Single Malt\", \"Single Malt\", \"Single Malt\", \"Single Malt\", \"Single Malt\", \"Single Malt\", \"Single Malt\", \"Single Malt\", \"Blended Malt\", \"Single Malt\", \"Blend\", \"Blend\", \"Blend\", \"Single Malt\", \"Single Malt\", \"Single Malt\", \"Blended Malt\", \"Single Malt\", \"Single Malt\", \"Blend\", \"Single Malt\", \"Single Malt\", \"Blend\", \"Blend\", \"Blended Malt\", \"Single Malt\", \"Single Malt\", \"Single Malt\", \"Single Malt\", \"Single Malt\", \"Single Malt\", \"Grain\", \"Blend\", \"Single Malt\", \"Single Malt\", \"Grain\", \"Single Malt\", \"Single Malt\", \"Single Malt\", \"Single Malt\", \"Single Malt\", \"Blended Malt\", \"Single Malt\", \"Single Malt\", \"Single Malt\", \"Single Malt\", \"Blended Malt\", \"Blend\", \"Single Malt\", \"Single Malt\", \"Single Malt\", \"Blend\", \"Blend\", \"Blend\", \"Blend\", \"Liqueur\", \"Single Malt\", \"Blend\", \"Single Malt\", \"Blended Malt\", \"Blended Malt\", \"Blended Malt\", \"Blend\", \"Single Malt\", \"Single Malt\", \"Single Malt\", \"Single Malt\", \"Liqueur\", \"Blend\", \"Single Malt\", \"Single Malt\", \"Single Malt\", \"Single Malt\", \"Blend\", \"Blend\", \"Single Malt\", \"Single Malt\", \"Blended Malt\", \"Single Malt\", \"Single Malt\", \"Single Malt\", \"Single Malt\", \"Single Malt\", \"Single Malt\", \"Single Malt\", \"Single Malt\", \"Single Malt\", \"Single Malt\", \"Blended Malt\", \"Single Malt\", \"Blended Malt\", \"Single Malt\", \"Single Malt\", \"Single Malt\", \"Single Malt\", \"Single Malt\", \"Single Malt\", \"Single Malt\", \"Single Malt\", \"Single Malt\", \"Blend\", \"Single Malt\", \"Single Malt\", \"Single Malt\", \"Single Malt\", \"Single Malt\", \"Single Malt\", \"Single Malt\", \"Blended Malt\", \"Single Malt\", \"Liqueur\", \"Single Malt\", \"Single Malt\", \"Single Malt\", \"Blend\", \"Blended Malt\", \"Single Malt\", \"Single Malt\", \"Single Malt\", \"Blended Malt\", null, \"Single Malt\", \"Single Malt\", \"Single Malt\", \"Single Malt\", \"Single Malt\", \"Single Malt\", \"Single Malt\", \"Single Malt\", \"Single Malt\", \"Single Malt\", \"Single Malt\", \"Single Malt\", null, \"Single Malt\", \"Single Malt\", \"Single Malt\", \"Single Malt\", \"Single Malt\", \"Single Malt\", \"Single Malt\", \"Single Malt\", null, \"Single Malt\", \"Single Malt\", \"Single Malt\", \"Single Malt\", \"Single Malt\", \"Single Malt\", \"Single Malt\", \"Single Malt\", \"Blend\", \"Single Malt\", \"Single Malt\", \"Single Malt\", \"Single Malt\", \"Blend\", \"Blended Malt\", \"Single Malt\", \"Single Malt\", \"Single Malt\", \"Single Malt\", \"Single Malt\", \"Blend\", \"Single Malt\", \"Single Malt\", \"Single Malt\", \"Single Malt\", \"Single Malt\", \"Single Malt\", \"Single Malt\", \"Blended Malt\", \"Single Malt\", \"Liqueur\", \"Single Malt\", \"Single Malt\", \"Single Malt\", \"Blend\", \"Blended Malt\", \"Single Malt\", \"Single Malt\", \"Single Malt\", \"Blended Malt\", \"Single Malt\", \"Single Malt\", \"Single Malt\", \"Single Malt\", \"Single Malt\", \"Single Malt\", \"Single Malt\", \"Single Malt\", \"Blended Malt\", \"Single Malt\", \"Blended Malt\", \"Single Malt\", \"Single Malt\", \"Single Malt\", \"Single Malt\", \"Single Malt\", \"Single Malt\", \"Single Malt\", \"Single Malt\", \"Blend\", \"Single Malt\", \"Blend\", \"Grain\", \"Single Malt\", \"Single Malt\", \"Single Malt\", \"Single Malt\", \"Single Malt\", \"Single Malt\", \"Single Malt\", \"Single Malt\", \"Single Malt\", \"Single Malt\", \"Single Malt\", \"Single Malt\", \"Single Malt\", \"Single Malt\", \"Single Malt\", \"Single Malt\", \"Single Malt\", \"Blend\", \"Single Malt\", \"Grain\", \"Single Malt\", \"Single Malt\", \"Single Malt\", \"Single Malt\", \"Single Malt\", \"Blend\", \"Single Malt\", \"Blend\", \"Single Malt\", \"Single Malt\", \"Single Malt\", \"Single Malt\", \"Single Malt\", \"Single Malt\", \"Single Malt\", \"Single Malt\", \"Blend\", \"Single Malt\", \"Liqueur\", \"Blend\", \"Single Malt\", \"Blended Malt\", \"Blend\", \"Single Malt\", \"Single Malt\", \"Single Malt\", \"Single Malt\", \"Single Malt\", \"Single Malt\", \"Single Malt\", \"Single Malt\", \"Blend\", \"Single Malt\", \"Single Malt\", \"Single Malt\", \"Blend\", \"Blended Malt\", \"Single Malt\", \"Single Malt\", \"Single Malt\", \"Single Malt\", \"Single Malt\", \"Single Malt\", \"Single Malt\", \"Single Malt\", \"Single Malt\", \"Single Malt\", \"Single Malt\", \"Single Malt\", \"Single Malt\", \"Single Malt\", \"Single Malt\", null, \"Single Malt\", \"Single Malt\", \"Single Malt\", \"Single Malt\", \"Single Malt\", \"Single Malt\", \"Blend\", \"Single Malt\", \"Single Malt\", \"Single Malt\", \"Single Malt\", \"Single Malt\", \"Single Malt\", \"Single Malt\", \"Single Malt\", \"Single Malt\", \"Single Malt\", \"Single Malt\", \"Single Malt\", \"Single Malt\", \"Single Malt\", \"Single Malt\", \"Single Malt\", \"Single Malt\", \"Single Malt\", \"Single Malt\", \"Single Malt\", \"Single Malt\", \"Single Malt\", \"Single Malt\", \"Single Malt\", \"Blend\", \"Blend\", \"Liqueur\", \"Liqueur\", \"Single Malt\", \"Single Malt\", \"Blend\", \"Single Malt\", \"Single Malt\", \"Single Malt\", \"Single Malt\", \"Single Malt\", \"Single Malt\", \"Single Malt\", \"Single Malt\", \"Single Malt\", \"Blend\", \"Blend\", \"Blend\", \"Blend\", \"Single Malt\", \"Single Malt\", \"Single Malt\", \"Single Malt\", \"Blend\", \"Single Malt\", \"Blend\", \"Blended Malt\", \"Single Malt\", \"Single Malt\", \"Single Malt\", \"Single Malt\", \"Single Malt\", \"Single Malt\", \"Single Malt\"]}, {\"marker\": {\"color\": \"rgba(50, 171, 96, 1.0)\", \"line\": {\"width\": 1.3}, \"opacity\": 0.8, \"size\": 12, \"symbol\": \"circle\"}, \"mode\": \"markers\", \"name\": \"0-12\", \"text\": [\"Benriach 2005 UK Exclusive Pedro Ximenez Cask #5278\", \"Black Bottle 10 Year Old\", \"Deanston 10 Year Old Bordeaux Red Wine Cask Finish\", \"Glenmorangie 12 Year Old Malaga\", \"Golden Cask Linkwood 12 Year Old\", \"Talisker 10 Year Old 20cl Hot Chocolate Gift Set\", \"Singleton of Dufftown 12 Year Old Tumbler Gift Set\", \"GlenAllachie 10 Year Old Cask Strength Batch 4\", \"Octomore 10 Year Old Dialogos 2009\", \"Octomore 11.3 Islay Barley\", \"Ardbeg Wee Beastie\", \"Glenmorangie 10 Year Old Original Giraffe Tin\", \"GlenAllachie 9 Year Old Rye Cask Finish\", \"Glen Scotia 11 Year Old Sherry Double Cask\", \"Darkness 8 Year Old\", \"Aerolite Lyndsay Islay 10 Year Old\", \"Dalmore 12 Year Old Sherry Cask Select\", \"Tobermory 12 Year Old 2007 Port Pipe Finish\", \"Benriach The Smoky Ten\", \"Benriach The Original Ten\", \"Benriach The Smoky Twelve\", \"Benriach The Twelve\", \"Cardhu 11 Year Old Special Releases 2020\", \"Lagavulin 12 Year Old Special Releases 2020\", \"Talisker 8 Year Old Special Releases 2020\", \"Laphroaig 10 Year Old Cask Strength 2020\", \"Glenallachie 2008 #508\", \"Glenkeir Treasures Twin Casks Secret Highland 11 Year Old\", \"Glenkeir Treasures Twin Casks Secret Speyside 9 Year Old\", \"Glen Scotia 2009 #784\", \"First Editions Blair Athol 2009\", \"Arran Sherry Cask The Bodega\", \"Singleton of Dufftown 12 Year Old Gift Set\", \"GlenAllachie 12 Year Old\", \"Jura Two-One-Two (212)\", \"Highland Park 12 Year Old\", \"Loch Lomond 12 Year Old Taster Pack\", \"Macallan 10 Year Old Sherry Oak\", \"Glencairn Whisky Glasses & Auchentoshan 20cl Gift Set\", \"Balvenie The Sweet Toast of American Oak 12 Year Old\", \"Whisky Works King of Trees 10 Year Old\", \"Tobermory 12 Year Old\", \"Balblair 12 Year Old\", \"Blairmhor 8 Year Old 35cl\", \"Knockando 12 year old\", \"The Glenlivet 12 Year Old\", \"Glenkinchie 12 year old 20cl\", \"Cragganmore 12 year old 20cl\", \"BenRiach 10 Year Old Curiositas\", \"Teaninich 10 Year Old\", \"Mannochmore 12 year old\", \"Mortlach 12 Year Old The Wee Witchie\", \"Benromach 2008 cask strength\", \"Port Charlotte 10 Year Old\", \"Macallan 12 Year Old Triple Cask\", \"Johnnie Walker Black Label\", \"Hazelburn 10 Year Old\", \"Macallan 12 Year Old Double Cask\", \"Jura 12 Year Old\", \"Caol Ila 12 Year Old 20cl\", \"Arran 10 Year Old\", \"Aberlour 12 Year Old\", \"First Editions Ardmore 2009 9 Year Old\", \"First Editions Dailuaine 2009 9 Year Old\", \"Macallan 12 Year Old Triple Cask Gift Box\", \"Old Malt Cask Craigellachie 11 Year Old\", \"Glenrothes 2004\", \"First Editions Glen Garioch 2008 10 Year Old\", \"BenRiach 10 Year Old Gift Set\", \"Talisker 10 Year Old Gift Set\", \"Jura 12 Year Old Gift Pack 2019\", \"Old Malt Cask Tobermory 12 Year Old\", \"First Editions Dalmore 2008 11 Year Old\", \"GlenAllachie 2008 #586\", \"GlenAllachie 2007 #3767 12 Year Old Single Cask\", \"GlenAllachie 2006 #6580\", \"Lagavulin 12 Year Old Special Releases 2019\", \"Cragganmore 12 Year Old Special Releases 2019\", \"Ardbeg 10 Year Old Ardbone Pack\", \"Glengoyne 10 Year Old 20cl\", \"Loch Lomond 12 Year Old Gift Pack\", \"Octomore 10.3 Dialogos 6 Year Old\", \"Octomore 10.1 Dialogos 5 Year Old\", \"First Editions Mortlach 2007 11 Year Old\", \"First Editions Caol Ila 2010 8 Year Old\", \"First Editions Craigellachie 2011 8 Year Old\", \"Port Charlotte 10 Year Old Gift Pack\", \"GlenDronach Cask Strength Batch 8\", \"The Loch Fyne Glentauchers 11 Year Old\", \"The Loch Fyne Aultmore 12 Year Old\", \"Bunnahabhain 2007 French Brandy Finish\", \"GlenAllachie 10 Year Old Cask Strength Batch 2\", \"Old Malt Cask Mortlach 13 Year Old\", \"First Editions Ben Nevis 2011 9 Year Old\", \"Darkness Benrinnes 13 Year Old Pedro Ximenez Cask\", \"First Editions Dailuaine 11 Year Old 2008\", \"First Editions Aultmore 10 Year Old 2010\", \"Glendronach 2006 13 Year Old #5538 UK Exclusive\", \"Octomore 11.1 Scottish Barley\", \"Glenallachie 11 Year Old Port Wood Finish\", \"Glenallachie 11 Year Old Mostcatel Finish\", \"The Loch Fyne Craigellachie 12 Year Old 2008\", \"GlenAllachie 10 Year Old Cask Strength Batch 3\", \"Golden Cask Bowmore 13 Year Old\", \"First Editions Talisker 2010 8 Year Old\", \"Macallan 12 Year Old Re-Awakening\", \"Loch Lomond 12 Year Old Open Edition\", \"GlenAllachie 13 Year Old Spirit of Speyside Festival 2020\", \"Glen Moray Madeira Cask Project\", \"Loch Lomond 2006 #18/550-12\", \"First Editions Deanston 2009\", \"Glenrothes 1984\", \"Macallan 12 Year Old Triple Cask Chinese New Year Twin Pack\", \"First Editions Ardmore 2009 9 Year Old\", \"First Editions Dailuaine 2009 9 Year Old\", \"Macallan 12 Year Old Triple Cask Gift Box\", \"Old Malt Cask Craigellachie 11 Year Old\", \"Glenrothes 2004\", \"First Editions Glen Garioch 2008 10 Year Old\", \"BenRiach 10 Year Old Gift Set\", \"Talisker 10 Year Old Gift Set\", \"Jura 12 Year Old Gift Pack 2019\", \"Old Malt Cask Tobermory 12 Year Old\", \"First Editions Dalmore 2008 11 Year Old\", \"GlenAllachie 2008 #586\", \"GlenAllachie 2007 #3767 12 Year Old Single Cask\", \"GlenAllachie 2006 #6580\", \"Lagavulin 12 Year Old Special Releases 2019\", \"Cragganmore 12 Year Old Special Releases 2019\", \"Ardbeg 10 Year Old Ardbone Pack\", \"Glengoyne 10 Year Old 20cl\", \"Loch Lomond 12 Year Old Gift Pack\", \"Octomore 10.3 Dialogos 6 Year Old\", \"Octomore 10.1 Dialogos 5 Year Old\", \"First Editions Mortlach 2007 11 Year Old\", \"First Editions Caol Ila 2010 8 Year Old\", \"First Editions Craigellachie 2011 8 Year Old\", \"Port Charlotte 10 Year Old Gift Pack\", \"GlenDronach Cask Strength Batch 8\", \"The Loch Fyne Glentauchers 11 Year Old\", \"The Loch Fyne Aultmore 12 Year Old\", \"Bunnahabhain 2007 French Brandy Finish\", \"GlenAllachie 10 Year Old Cask Strength Batch 2\", \"Laphroaig 10 Year Old Original Cask Strength\", \"First Editions Royal Brackla 2009\", \"Longrow 1992 10 Year Old\", \"Distiller's Art Braeval 13 Year Old\", \"Chivas Regal 12 Year Old Tim Little\", \"Hazelburn 12 Year Old\", \"First Editions Blair Athol 2010\", \"First Editions Mortlach 2009\", \"Ardmore 12 Year Old Port Wood Finish\", \"First Editions Benrinnes 2009\", \"First Editions Inchgower 2008 20cl\", \"First Editions Benrinnes 2010 8 Year Old 20cl\", \"First Editions Tullibardine 2008\", \"First Editions Bunnahabhain 2007 - 2018 Edition\", \"Arran Master of Distilling II\", \"Glenkeir Treasures Speyburn 10 Year Old 10cl\", \"Glenkeir Treasures Speyburn 10 Year Old 20cl\", \"Glenkeir Treasures Secret Speyside 8 Year Old 10cl\", \"Glenkeir Treasures Secret Speyside 8 Year Old 20cl\", \"Glenkeir Treasures Speyburn 10 Year Old\", \"Glenkeir Treasures Secret Speyside 8 Year Old\", \"BenRiach Batch 16 2012 #7825\", \"BenRiach Batch 16 2009 #6095\", \"BenRiach Batch 16 2008 #3085\", \"BenRiach Batch 16 2007 #3237\", \"BenRiach Batch 16 2008 #2506\", \"BenRiach Batch 16 2007 #7611\", \"BenRiach Batch 16 2005 #3435\", \"Kilchoman 2006 Vintage\", \"First Editions Tamdhu 2007\", \"Ballantine's 12 Year Old 1l\", \"First Editions Craigellachie 2006\", \"First Editions Benrinnes 2010\", \"Old Malt Cask Talisker 8 Year Old\", \"Glenmorangie 10 Year Old 150th Anniversary\", \"First Editions Craigellachie 2008 10 Year Old\", \"First Editions Inchgower 2008 10 Year Old\", \"GlenDronach Port Wood 10 Year Old\", \"GlenDronach 12 Year Old Walker Slater Pack\", \"Royal Lochnagar 12 Year Old - Game of Thrones House Baratheon\", \"Springbank 10 Year Old Local Barley\", \"Bruichladdich Uisge Luing 10 Year Old\", \"Old Malt Cask Mortlach 11 Year Old\", \"BenRiach 2005 Whisky Shop Exclusive\", \"Lagavulin 9 Year Old - Game of Thrones House Lannister\", \"Glenmorangie Original Gift Pack\", \"BenRiach 12 Year Old Sherry Wood\", \"First Editions Mortlach 2007 Manager's Special\", \"Bunnahabhain 12 year old Old Malt Cask\", \"First Editions Craigellachie 2008 Manager's Special\", \"Kilchoman 2007 Single Cask The Whisky Shop Exclusive\", \"First Editions Balmenach 10yo\", \"Glenkeir Treasures Aultmore 7 Year Old\", \"Glenkeir Treasures Glengoyne 9 Year Old\", \"Mortlach 8 year old GlenKeir Treasure\", \"Glenkeir Treasures Fettercairn 8 Year Old\", \"Glenkeir Treasures Craigellachie 9 Year Old\", \"Old Malt Cask Tamdhu 8 Year Old 20cl\", \"Longrow Red\", \"Laphroaig First Edition 11 year old\", \"Fettercairn 8 Year Old Douglas of Drumlanrig\", \"Glenkeir Treasures Dailuaine 6 Year Old\", \"Old Malt Cask Fettercairn 7 Year Old\", \"Old Malt Cask Craigellachie 12 Year Old 20cl\", \"Fettercairn 7 Year Old Old Malt Cask with glass gift pack\", \"Old Malt Cask Blair Athol 12 Year Old with Glass\", \"Inchgower 8 Year Old Douglas of Drumlanrig\", \"Glengoyne 8 Year Old\", \"Dalmore 12 Year Old With Whisky Stones\", \"Cutty Sark 12 Year Old\", \"The Deveron 12 Years Old\", \"Royal Brackla 12 Years Old\", \"Glenmorangie Original\", \"Aultmore 7 year old\", \"Royal Lochnagar 12 Year Old\", \"Glendronach The Hielan' 8 Years Old\", \"Laphroaig 10 year old & free glass\", \"Glendronach 2003 Whisky Shop Exclusive\", \"BenRiach 10th Anniversary 10 year old\", \"Glenkeir Treasures Inchgower 6 year old 10cl\", \"Octomore 6.3 Islay Barley 2009\", \"Lagavulin 12 Year Old 2014 Special Release\", \"Glenkeir Treasures Speyside 13 year old\", \"Glenmorangie Original 10 year old\", \"Singleton of Dufftown 12 Year Old 5cl\", \"Tobermory 10 Year Old 5cl\", \"Glenfarclas 10 year old 35cl\", \"Aberlour 10 Year Old\", \"Jura 10 year old 35cl\", \"Strathmill 12 year old\", \"Antiquary 12 year old\", \"Whyte & Mackay 13 year old\", \"Tobermory 10 year old\", \"Talisker 10 year old 20cl\"], \"textfont\": {\"color\": \"#4D5663\"}, \"type\": \"scatter\", \"x\": [142.79, 41.41, 85.71, 114.21, 97.13, 109.5, 58.56, 91.43, 228.57, 250.0, 55.71, 57.13, 84.27, 85.64, 71.41, 64.27, 98.57, 142.86, 55.64, 52.79, 61.29, 55.5, 121.43, 178.57, 128.57, 110.0, 128.5, 140.0, 136.0, 92.86, 100.0, 75.64, 54.21, 67.14, 128.57, 57.14, 173.33, 428.57, 210.0, 71.43, 107.14, 71.43, 74.29, 54.29, 64.29, 57.14, 125.0, 125.0, 67.14, 82.86, 82.86, 71.43, 85.7, 88.57, 100.0, 62.86, 82.86, 72.84, 64.29, 140.0, 64.29, 68.57, 98.57, 98.57, 100.0, 128.57, 92.86, 100.0, 42.84, 57.14, 64.29, 131.43, 111.43, 121.43, 135.71, 142.86, 157.14, 121.43, 74.29, 95.0, 71.43, 250.0, 181.43, 121.43, 150.0, 100.0, 88.57, 105.71, 150.0, 160.0, 155.71, 87.14, 138.57, 100.0, 133.9, 117.14, 100.0, 200.0, 178.57, 89.99, 89.99, 160.0, 87.14, 138.57, 151.41, 1707.14, 78.5, 178.57, 92.86, 84.21, 105.71, 278.57, 85.71, 98.57, 98.57, 100.0, 128.57, 92.86, 100.0, 42.84, 57.14, 64.29, 131.43, 111.43, 121.43, 135.71, 142.86, 157.14, 121.43, 74.29, 95.0, 71.43, 250.0, 181.43, 121.43, 150.0, 100.0, 88.57, 105.71, 150.0, 160.0, 155.71, 87.14, 107.14, 88.57, 112.86, 120.0, 57.14, 84.29, 98.57, 98.57, 80.0, 91.43, 130.0, 125.0, 114.29, 100.0, 107.13, 130.0, 130.0, 130.0, 130.0, 110.0, 110.0, 78.57, 100.0, 108.57, 120.0, 120.0, 131.43, 141.43, 564.29, 105.71, 99.0, 108.57, 94.29, 164.29, 285.71, 100.0, 100.0, 85.71, 70.0, 54.29, 171.43, 128.57, 135.71, 121.43, 92.86, 64.29, 68.57, 108.57, 157.14, 100.0, 200.0, 94.29, 90.0, 100.0, 90.0, 80.0, 100.0, 150.0, 112.86, 204.29, 98.57, 80.0, 140.0, 145.0, 195.0, 195.0, 85.71, 81.43, 85.71, 52.86, 57.14, 74.29, 64.29, 81.43, 54.21, 60.0, 60.0, 371.43, 92.86, 100.0, 214.29, 114.29, 130.0, 145.0, 139.8, 159.8, 74.29, 57.14, 77.14, 84.29, 119.8, 41.43, 65.71, 130.0], \"y\": [\"Single Malt\", \"Blend\", \"Single Malt\", \"Single Malt\", \"Single Malt\", \"Single Malt\", \"Single Malt\", \"Single Malt\", \"Single Malt\", \"Single Malt\", \"Single Malt\", \"Single Malt\", \"Single Malt\", \"Single Malt\", \"Single Malt\", \"Single Malt\", \"Single Malt\", \"Single Malt\", \"Single Malt\", \"Single Malt\", \"Single Malt\", \"Single Malt\", \"Single Malt\", \"Single Malt\", \"Single Malt\", \"Single Malt\", \"Single Malt\", \"Single Malt\", \"Single Malt\", \"Single Malt\", \"Single Malt\", \"Single Malt\", \"Single Malt\", \"Single Malt\", \"Single Malt\", \"Single Malt\", \"Single Malt\", \"Single Malt\", \"Single Malt\", \"Single Malt\", \"Blended Malt\", \"Single Malt\", \"Single Malt\", \"Blended Malt\", \"Single Malt\", \"Single Malt\", \"Single Malt\", \"Single Malt\", \"Single Malt\", \"Single Malt\", \"Single Malt\", \"Single Malt\", \"Single Malt\", \"Single Malt\", \"Single Malt\", \"Blend\", \"Single Malt\", \"Single Malt\", \"Single Malt\", \"Single Malt\", \"Single Malt\", \"Single Malt\", \"Single Malt\", \"Single Malt\", \"Single Malt\", \"Single Malt\", \"Single Malt\", \"Single Malt\", \"Single Malt\", \"Single Malt\", \"Single Malt\", \"Single Malt\", \"Single Malt\", \"Single Malt\", \"Single Malt\", \"Single Malt\", \"Single Malt\", \"Single Malt\", \"Single Malt\", \"Single Malt\", \"Single Malt\", \"Single Malt\", \"Single Malt\", \"Single Malt\", \"Single Malt\", \"Single Malt\", \"Single Malt\", \"Single Malt\", \"Single Malt\", \"Single Malt\", \"Single Malt\", \"Single Malt\", \"Single Malt\", \"Single Malt\", \"Single Malt\", \"Single Malt\", \"Single Malt\", \"Single Malt\", \"Single Malt\", \"Single Malt\", \"Single Malt\", \"Single Malt\", \"Single Malt\", \"Single Malt\", \"Single Malt\", \"Single Malt\", \"Single Malt\", \"Single Malt\", \"Single Malt\", \"Single Malt\", \"Single Malt\", \"Single Malt\", \"Single Malt\", \"Single Malt\", \"Single Malt\", \"Single Malt\", \"Single Malt\", \"Single Malt\", \"Single Malt\", \"Single Malt\", \"Single Malt\", \"Single Malt\", \"Single Malt\", \"Single Malt\", \"Single Malt\", \"Single Malt\", \"Single Malt\", \"Single Malt\", \"Single Malt\", \"Single Malt\", \"Single Malt\", \"Single Malt\", \"Single Malt\", \"Single Malt\", \"Single Malt\", \"Single Malt\", \"Single Malt\", \"Single Malt\", \"Single Malt\", \"Single Malt\", \"Single Malt\", \"Single Malt\", \"Single Malt\", \"Single Malt\", \"Single Malt\", \"Single Malt\", \"Single Malt\", \"Blend\", \"Single Malt\", \"Single Malt\", \"Single Malt\", \"Single Malt\", \"Single Malt\", \"Single Malt\", \"Single Malt\", \"Single Malt\", \"Single Malt\", \"Single Malt\", \"Single Malt\", \"Single Malt\", \"Single Malt\", \"Single Malt\", \"Single Malt\", \"Single Malt\", \"Single Malt\", \"Single Malt\", \"Single Malt\", \"Single Malt\", \"Single Malt\", \"Single Malt\", \"Single Malt\", \"Single Malt\", \"Single Malt\", \"Blend\", \"Single Malt\", \"Single Malt\", \"Single Malt\", \"Single Malt\", \"Single Malt\", \"Single Malt\", \"Single Malt\", \"Single Malt\", \"Single Malt\", \"Single Malt\", \"Single Malt\", \"Single Malt\", \"Single Malt\", \"Single Malt\", \"Single Malt\", \"Single Malt\", \"Single Malt\", \"Single Malt\", \"Single Malt\", \"Single Malt\", \"Single Malt\", \"Single Malt\", \"Single Malt\", \"Single Malt\", \"Single Malt\", \"Single Malt\", \"Single Malt\", \"Single Malt\", \"Single Malt\", \"Single Malt\", \"Single Malt\", \"Single Malt\", \"Single Malt\", \"Single Malt\", \"Single Malt\", \"Single Malt\", \"Single Malt\", \"Single Malt\", \"Blend\", \"Single Malt\", \"Single Malt\", \"Single Malt\", \"Single Malt\", \"Single Malt\", \"Single Malt\", \"Single Malt\", \"Single Malt\", \"Single Malt\", \"Single Malt\", \"Single Malt\", \"Single Malt\", \"Single Malt\", \"Single Malt\", \"Single Malt\", \"Single Malt\", \"Single Malt\", \"Single Malt\", \"Single Malt\", \"Single Malt\", \"Blend\", \"Blend\", \"Single Malt\", \"Single Malt\"]}, {\"marker\": {\"color\": \"rgba(128, 0, 128, 1.0)\", \"line\": {\"width\": 1.3}, \"opacity\": 0.8, \"size\": 12, \"symbol\": \"circle\"}, \"mode\": \"markers\", \"name\": \"50+\", \"text\": [\"Gordon & MacPhail Glen Grant 1954 59 Year Old\", \"Gordon & MacPhail Mortlach 1949 51 Year Old\", \"Macallan Exceptional Single Cask 1950\", \"The Last Drop 56 Year Old\", \"Macallan 74 Year Old Red Collection\", \"Macallan 71 Year Old Red Collection\", \"Macallan 60 Year Old Red Collection\", \"Dalmore 51 Year Old\", \"Macallan 72 Year Old in Lalique\", \"Macallan 1946 56 Year Old (Cask 46/3M) Fine & Rare\", \"Macallan 1949 52 Year Old (Cask 935) Fine & Rare\", \"Lochside 52 Year Old Sovereign\", \"Bowmore 1957\", \"Glenglassaugh 51 year old\"], \"textfont\": {\"color\": \"#4D5663\"}, \"type\": \"scatter\", \"x\": [3571.43, 5712.86, 98571.43, 5357.14, 135714.29, 127142.86, 112857.14, 98571.43, 102857.14, 57000.0, 58571.43, 1371.43, 142857.14, 7028.57], \"y\": [\"Single Malt\", \"Single Malt\", \"Single Malt\", \"Blend\", \"Single Malt\", \"Single Malt\", \"Single Malt\", \"Single Malt\", \"Single Malt\", \"Single Malt\", \"Single Malt\", \"Single Malt\", \"Single Malt\", \"Single Malt\"]}],                        {\"legend\": {\"bgcolor\": \"#F5F6F9\", \"font\": {\"color\": \"#4D5663\"}}, \"paper_bgcolor\": \"#F5F6F9\", \"plot_bgcolor\": \"#F5F6F9\", \"template\": {\"data\": {\"bar\": [{\"error_x\": {\"color\": \"#2a3f5f\"}, \"error_y\": {\"color\": \"#2a3f5f\"}, \"marker\": {\"line\": {\"color\": \"#E5ECF6\", \"width\": 0.5}}, \"type\": \"bar\"}], \"barpolar\": [{\"marker\": {\"line\": {\"color\": \"#E5ECF6\", \"width\": 0.5}}, \"type\": \"barpolar\"}], \"carpet\": [{\"aaxis\": {\"endlinecolor\": \"#2a3f5f\", \"gridcolor\": \"white\", \"linecolor\": \"white\", \"minorgridcolor\": \"white\", \"startlinecolor\": \"#2a3f5f\"}, \"baxis\": {\"endlinecolor\": \"#2a3f5f\", \"gridcolor\": \"white\", \"linecolor\": \"white\", \"minorgridcolor\": \"white\", \"startlinecolor\": \"#2a3f5f\"}, \"type\": \"carpet\"}], \"choropleth\": [{\"colorbar\": {\"outlinewidth\": 0, \"ticks\": \"\"}, \"type\": \"choropleth\"}], \"contour\": [{\"colorbar\": {\"outlinewidth\": 0, \"ticks\": \"\"}, \"colorscale\": [[0.0, \"#0d0887\"], [0.1111111111111111, \"#46039f\"], [0.2222222222222222, \"#7201a8\"], [0.3333333333333333, \"#9c179e\"], [0.4444444444444444, \"#bd3786\"], [0.5555555555555556, \"#d8576b\"], [0.6666666666666666, \"#ed7953\"], [0.7777777777777778, \"#fb9f3a\"], [0.8888888888888888, \"#fdca26\"], [1.0, \"#f0f921\"]], \"type\": \"contour\"}], \"contourcarpet\": [{\"colorbar\": {\"outlinewidth\": 0, \"ticks\": \"\"}, \"type\": \"contourcarpet\"}], \"heatmap\": [{\"colorbar\": {\"outlinewidth\": 0, \"ticks\": \"\"}, \"colorscale\": [[0.0, \"#0d0887\"], [0.1111111111111111, \"#46039f\"], [0.2222222222222222, \"#7201a8\"], [0.3333333333333333, \"#9c179e\"], [0.4444444444444444, \"#bd3786\"], [0.5555555555555556, \"#d8576b\"], [0.6666666666666666, \"#ed7953\"], [0.7777777777777778, \"#fb9f3a\"], [0.8888888888888888, \"#fdca26\"], [1.0, \"#f0f921\"]], \"type\": \"heatmap\"}], \"heatmapgl\": [{\"colorbar\": {\"outlinewidth\": 0, \"ticks\": \"\"}, \"colorscale\": [[0.0, \"#0d0887\"], [0.1111111111111111, \"#46039f\"], [0.2222222222222222, \"#7201a8\"], [0.3333333333333333, \"#9c179e\"], [0.4444444444444444, \"#bd3786\"], [0.5555555555555556, \"#d8576b\"], [0.6666666666666666, \"#ed7953\"], [0.7777777777777778, \"#fb9f3a\"], [0.8888888888888888, \"#fdca26\"], [1.0, \"#f0f921\"]], \"type\": \"heatmapgl\"}], \"histogram\": [{\"marker\": {\"colorbar\": {\"outlinewidth\": 0, \"ticks\": \"\"}}, \"type\": \"histogram\"}], \"histogram2d\": [{\"colorbar\": {\"outlinewidth\": 0, \"ticks\": \"\"}, \"colorscale\": [[0.0, \"#0d0887\"], [0.1111111111111111, \"#46039f\"], [0.2222222222222222, \"#7201a8\"], [0.3333333333333333, \"#9c179e\"], [0.4444444444444444, \"#bd3786\"], [0.5555555555555556, \"#d8576b\"], [0.6666666666666666, \"#ed7953\"], [0.7777777777777778, \"#fb9f3a\"], [0.8888888888888888, \"#fdca26\"], [1.0, \"#f0f921\"]], \"type\": \"histogram2d\"}], \"histogram2dcontour\": [{\"colorbar\": {\"outlinewidth\": 0, \"ticks\": \"\"}, \"colorscale\": [[0.0, \"#0d0887\"], [0.1111111111111111, \"#46039f\"], [0.2222222222222222, \"#7201a8\"], [0.3333333333333333, \"#9c179e\"], [0.4444444444444444, \"#bd3786\"], [0.5555555555555556, \"#d8576b\"], [0.6666666666666666, \"#ed7953\"], [0.7777777777777778, \"#fb9f3a\"], [0.8888888888888888, \"#fdca26\"], [1.0, \"#f0f921\"]], \"type\": \"histogram2dcontour\"}], \"mesh3d\": [{\"colorbar\": {\"outlinewidth\": 0, \"ticks\": \"\"}, \"type\": \"mesh3d\"}], \"parcoords\": [{\"line\": {\"colorbar\": {\"outlinewidth\": 0, \"ticks\": \"\"}}, \"type\": \"parcoords\"}], \"pie\": [{\"automargin\": true, \"type\": \"pie\"}], \"scatter\": [{\"marker\": {\"colorbar\": {\"outlinewidth\": 0, \"ticks\": \"\"}}, \"type\": \"scatter\"}], \"scatter3d\": [{\"line\": {\"colorbar\": {\"outlinewidth\": 0, \"ticks\": \"\"}}, \"marker\": {\"colorbar\": {\"outlinewidth\": 0, \"ticks\": \"\"}}, \"type\": \"scatter3d\"}], \"scattercarpet\": [{\"marker\": {\"colorbar\": {\"outlinewidth\": 0, \"ticks\": \"\"}}, \"type\": \"scattercarpet\"}], \"scattergeo\": [{\"marker\": {\"colorbar\": {\"outlinewidth\": 0, \"ticks\": \"\"}}, \"type\": \"scattergeo\"}], \"scattergl\": [{\"marker\": {\"colorbar\": {\"outlinewidth\": 0, \"ticks\": \"\"}}, \"type\": \"scattergl\"}], \"scattermapbox\": [{\"marker\": {\"colorbar\": {\"outlinewidth\": 0, \"ticks\": \"\"}}, \"type\": \"scattermapbox\"}], \"scatterpolar\": [{\"marker\": {\"colorbar\": {\"outlinewidth\": 0, \"ticks\": \"\"}}, \"type\": \"scatterpolar\"}], \"scatterpolargl\": [{\"marker\": {\"colorbar\": {\"outlinewidth\": 0, \"ticks\": \"\"}}, \"type\": \"scatterpolargl\"}], \"scatterternary\": [{\"marker\": {\"colorbar\": {\"outlinewidth\": 0, \"ticks\": \"\"}}, \"type\": \"scatterternary\"}], \"surface\": [{\"colorbar\": {\"outlinewidth\": 0, \"ticks\": \"\"}, \"colorscale\": [[0.0, \"#0d0887\"], [0.1111111111111111, \"#46039f\"], [0.2222222222222222, \"#7201a8\"], [0.3333333333333333, \"#9c179e\"], [0.4444444444444444, \"#bd3786\"], [0.5555555555555556, \"#d8576b\"], [0.6666666666666666, \"#ed7953\"], [0.7777777777777778, \"#fb9f3a\"], [0.8888888888888888, \"#fdca26\"], [1.0, \"#f0f921\"]], \"type\": \"surface\"}], \"table\": [{\"cells\": {\"fill\": {\"color\": \"#EBF0F8\"}, \"line\": {\"color\": \"white\"}}, \"header\": {\"fill\": {\"color\": \"#C8D4E3\"}, \"line\": {\"color\": \"white\"}}, \"type\": \"table\"}]}, \"layout\": {\"annotationdefaults\": {\"arrowcolor\": \"#2a3f5f\", \"arrowhead\": 0, \"arrowwidth\": 1}, \"coloraxis\": {\"colorbar\": {\"outlinewidth\": 0, \"ticks\": \"\"}}, \"colorscale\": {\"diverging\": [[0, \"#8e0152\"], [0.1, \"#c51b7d\"], [0.2, \"#de77ae\"], [0.3, \"#f1b6da\"], [0.4, \"#fde0ef\"], [0.5, \"#f7f7f7\"], [0.6, \"#e6f5d0\"], [0.7, \"#b8e186\"], [0.8, \"#7fbc41\"], [0.9, \"#4d9221\"], [1, \"#276419\"]], \"sequential\": [[0.0, \"#0d0887\"], [0.1111111111111111, \"#46039f\"], [0.2222222222222222, \"#7201a8\"], [0.3333333333333333, \"#9c179e\"], [0.4444444444444444, \"#bd3786\"], [0.5555555555555556, \"#d8576b\"], [0.6666666666666666, \"#ed7953\"], [0.7777777777777778, \"#fb9f3a\"], [0.8888888888888888, \"#fdca26\"], [1.0, \"#f0f921\"]], \"sequentialminus\": [[0.0, \"#0d0887\"], [0.1111111111111111, \"#46039f\"], [0.2222222222222222, \"#7201a8\"], [0.3333333333333333, \"#9c179e\"], [0.4444444444444444, \"#bd3786\"], [0.5555555555555556, \"#d8576b\"], [0.6666666666666666, \"#ed7953\"], [0.7777777777777778, \"#fb9f3a\"], [0.8888888888888888, \"#fdca26\"], [1.0, \"#f0f921\"]]}, \"colorway\": [\"#636efa\", \"#EF553B\", \"#00cc96\", \"#ab63fa\", \"#FFA15A\", \"#19d3f3\", \"#FF6692\", \"#B6E880\", \"#FF97FF\", \"#FECB52\"], \"font\": {\"color\": \"#2a3f5f\"}, \"geo\": {\"bgcolor\": \"white\", \"lakecolor\": \"white\", \"landcolor\": \"#E5ECF6\", \"showlakes\": true, \"showland\": true, \"subunitcolor\": \"white\"}, \"hoverlabel\": {\"align\": \"left\"}, \"hovermode\": \"closest\", \"mapbox\": {\"style\": \"light\"}, \"paper_bgcolor\": \"white\", \"plot_bgcolor\": \"#E5ECF6\", \"polar\": {\"angularaxis\": {\"gridcolor\": \"white\", \"linecolor\": \"white\", \"ticks\": \"\"}, \"bgcolor\": \"#E5ECF6\", \"radialaxis\": {\"gridcolor\": \"white\", \"linecolor\": \"white\", \"ticks\": \"\"}}, \"scene\": {\"xaxis\": {\"backgroundcolor\": \"#E5ECF6\", \"gridcolor\": \"white\", \"gridwidth\": 2, \"linecolor\": \"white\", \"showbackground\": true, \"ticks\": \"\", \"zerolinecolor\": \"white\"}, \"yaxis\": {\"backgroundcolor\": \"#E5ECF6\", \"gridcolor\": \"white\", \"gridwidth\": 2, \"linecolor\": \"white\", \"showbackground\": true, \"ticks\": \"\", \"zerolinecolor\": \"white\"}, \"zaxis\": {\"backgroundcolor\": \"#E5ECF6\", \"gridcolor\": \"white\", \"gridwidth\": 2, \"linecolor\": \"white\", \"showbackground\": true, \"ticks\": \"\", \"zerolinecolor\": \"white\"}}, \"shapedefaults\": {\"line\": {\"color\": \"#2a3f5f\"}}, \"ternary\": {\"aaxis\": {\"gridcolor\": \"white\", \"linecolor\": \"white\", \"ticks\": \"\"}, \"baxis\": {\"gridcolor\": \"white\", \"linecolor\": \"white\", \"ticks\": \"\"}, \"bgcolor\": \"#E5ECF6\", \"caxis\": {\"gridcolor\": \"white\", \"linecolor\": \"white\", \"ticks\": \"\"}}, \"title\": {\"x\": 0.05}, \"xaxis\": {\"automargin\": true, \"gridcolor\": \"white\", \"linecolor\": \"white\", \"ticks\": \"\", \"title\": {\"standoff\": 15}, \"zerolinecolor\": \"white\", \"zerolinewidth\": 2}, \"yaxis\": {\"automargin\": true, \"gridcolor\": \"white\", \"linecolor\": \"white\", \"ticks\": \"\", \"title\": {\"standoff\": 15}, \"zerolinecolor\": \"white\", \"zerolinewidth\": 2}}}, \"title\": {\"font\": {\"color\": \"#4D5663\"}, \"text\": \"Whiskey price Distribution according to their style\"}, \"xaxis\": {\"gridcolor\": \"#E1E5ED\", \"showgrid\": true, \"tickfont\": {\"color\": \"#4D5663\"}, \"title\": {\"font\": {\"color\": \"#4D5663\"}, \"text\": \"Price per Litre\"}, \"zerolinecolor\": \"#E1E5ED\"}, \"yaxis\": {\"gridcolor\": \"#E1E5ED\", \"showgrid\": true, \"tickfont\": {\"color\": \"#4D5663\"}, \"title\": {\"font\": {\"color\": \"#4D5663\"}, \"text\": \"Style of Whiskey\"}, \"zerolinecolor\": \"#E1E5ED\"}},                        {\"showLink\": true, \"linkText\": \"Export to plot.ly\", \"plotlyServerURL\": \"https://plot.ly\", \"responsive\": true}                    ).then(function(){\n",
       "                            \n",
       "var gd = document.getElementById('0514263b-e602-4bc6-860b-114a15505653');\n",
       "var x = new MutationObserver(function (mutations, observer) {{\n",
       "        var display = window.getComputedStyle(gd).display;\n",
       "        if (!display || display === 'none') {{\n",
       "            console.log([gd, 'removed!']);\n",
       "            Plotly.purge(gd);\n",
       "            observer.disconnect();\n",
       "        }}\n",
       "}});\n",
       "\n",
       "// Listen for the removal of the full notebook cells\n",
       "var notebookContainer = gd.closest('#notebook-container');\n",
       "if (notebookContainer) {{\n",
       "    x.observe(notebookContainer, {childList: true});\n",
       "}}\n",
       "\n",
       "// Listen for the clearing of the current output cell\n",
       "var outputEl = gd.closest('.output');\n",
       "if (outputEl) {{\n",
       "    x.observe(outputEl, {childList: true});\n",
       "}}\n",
       "\n",
       "                        })                };                });            </script>        </div>"
      ]
     },
     "metadata": {},
     "output_type": "display_data"
    }
   ],
   "source": [
    "df.iplot(mode='markers',\n",
    "        x='price_per_litre',\n",
    "        y='Style',\n",
    "         categories='age_class',\n",
    "         text='name',\n",
    "         title  ='Whiskey price Distribution according to their style',\n",
    "         xTitle='Price per Litre',\n",
    "         yTitle='Style of Whiskey'\n",
    "        )"
   ]
  },
  {
   "cell_type": "markdown",
   "metadata": {},
   "source": [
    "- From above two figures, we can see that the dataset is dominated by the single malt whiskey, as it has higher range of whiskey from cheap to the expensive ones and the from the youngest to the oldest one.\n",
    "- There are plenty of datapoints that do not have the age statement in every style of whiskey.\n",
    "- Most of the scotch whiskeys are kept in cask for somewhere between 12 - 50 years.\n",
    "- The following figure shows how the maturity of the whiskey is distributed in the dataframe"
   ]
  },
  {
   "cell_type": "code",
   "execution_count": 54,
   "metadata": {
    "ExecuteTime": {
     "end_time": "2021-01-11T08:39:56.715394Z",
     "start_time": "2021-01-11T08:39:56.607397Z"
    }
   },
   "outputs": [
    {
     "data": {
      "application/vnd.plotly.v1+json": {
       "config": {
        "linkText": "Export to plot.ly",
        "plotlyServerURL": "https://plot.ly",
        "showLink": true
       },
       "data": [
        {
         "histfunc": "count",
         "histnorm": "",
         "marker": {
          "color": "rgba(255, 153, 51, 1.0)",
          "line": {
           "color": "#4D5663",
           "width": 1.3
          }
         },
         "name": "Age",
         "opacity": 0.8,
         "orientation": "v",
         "type": "histogram",
         "x": [
          21,
          29,
          13,
          14,
          10,
          10,
          18,
          38,
          14,
          12,
          14,
          28,
          31,
          12,
          10,
          12,
          27,
          59,
          51,
          10,
          23,
          10,
          5,
          26,
          5,
          15,
          50,
          10,
          9,
          11,
          8,
          17,
          10,
          12,
          28,
          46,
          12,
          21,
          17,
          17,
          23,
          22,
          10,
          10,
          12,
          12,
          30,
          21,
          30,
          11,
          12,
          8,
          17,
          22,
          18,
          47,
          37,
          10,
          11,
          19,
          14,
          25,
          40,
          32,
          11,
          9,
          10,
          10,
          30,
          7,
          46,
          12,
          15,
          26,
          45,
          67,
          25,
          23,
          40,
          56,
          25,
          18,
          12,
          25,
          13,
          41,
          12,
          12,
          10,
          39,
          12,
          3,
          14,
          12,
          18,
          29,
          10,
          12,
          18,
          15,
          26,
          21,
          12,
          32,
          31,
          15,
          47,
          24,
          21,
          17,
          30,
          30,
          18,
          15,
          15,
          8,
          18,
          12,
          12,
          12,
          12,
          10,
          10,
          12,
          18,
          19,
          40,
          15,
          12,
          30,
          10,
          50,
          40,
          15,
          28,
          30,
          18,
          15,
          21,
          10,
          40,
          12,
          21,
          28,
          32,
          12,
          10,
          18,
          40,
          12,
          45,
          36,
          12,
          18,
          12,
          21,
          19,
          18,
          35,
          25,
          25,
          10,
          32,
          26,
          15,
          16,
          40,
          29,
          12,
          24,
          18,
          31,
          44,
          44,
          30,
          30,
          40,
          40,
          37,
          31,
          30,
          23,
          21,
          28,
          9,
          9,
          12,
          30,
          18,
          11,
          30,
          50,
          13,
          20,
          10,
          10,
          40,
          10,
          12,
          23,
          15,
          19,
          12,
          11,
          26,
          15,
          22,
          10,
          12,
          13,
          15,
          18,
          15,
          15,
          30,
          29,
          26,
          18,
          15,
          14,
          12,
          12,
          10,
          50,
          33,
          25,
          30,
          18,
          15,
          10,
          12,
          6,
          5,
          25,
          22,
          11,
          8,
          8,
          30,
          10,
          29,
          10,
          11,
          12,
          11,
          10,
          14,
          30,
          13,
          9,
          20,
          13,
          17,
          20,
          26,
          30,
          21,
          11,
          10,
          13,
          23,
          19,
          5,
          11,
          11,
          14,
          12,
          74,
          71,
          60,
          28,
          10,
          50,
          14,
          14,
          13,
          28,
          20,
          18,
          23,
          23,
          35,
          21,
          21,
          29,
          29,
          21,
          8,
          21,
          17,
          12,
          15,
          12,
          13,
          21,
          13,
          16,
          23,
          22,
          40,
          51,
          13,
          72,
          15,
          10,
          24,
          22,
          27,
          21,
          25,
          11,
          3,
          21,
          12,
          17,
          30,
          31,
          43,
          30,
          33,
          30,
          37,
          44,
          30,
          31,
          44,
          31,
          44,
          44,
          30,
          30,
          40,
          40,
          37,
          31,
          30,
          23,
          21,
          28,
          9,
          9,
          12,
          30,
          18,
          11,
          30,
          50,
          13,
          20,
          10,
          10,
          40,
          10,
          12,
          23,
          15,
          19,
          12,
          11,
          26,
          15,
          22,
          10,
          12,
          13,
          15,
          18,
          15,
          15,
          30,
          29,
          26,
          18,
          15,
          14,
          12,
          12,
          10,
          50,
          33,
          25,
          30,
          18,
          15,
          10,
          12,
          6,
          5,
          25,
          22,
          11,
          8,
          8,
          30,
          10,
          29,
          10,
          11,
          12,
          11,
          10,
          19,
          16,
          10,
          9,
          10,
          13,
          12,
          12,
          8,
          8,
          12,
          15,
          8,
          10,
          8,
          17,
          11,
          11,
          25,
          26,
          21,
          12,
          21,
          10,
          10,
          8,
          8,
          10,
          8,
          7,
          9,
          10,
          11,
          11,
          12,
          13,
          14,
          24,
          25,
          27,
          33,
          21,
          39,
          30,
          25,
          5,
          11,
          20,
          12,
          25,
          18,
          21,
          12,
          8,
          8,
          10,
          15,
          25,
          10,
          10,
          14,
          10,
          26,
          12,
          50,
          12,
          14,
          17,
          10,
          21,
          14,
          19,
          15,
          10,
          26,
          16,
          22,
          11,
          50,
          30,
          25,
          12,
          25,
          56,
          52,
          9,
          10,
          18,
          17,
          12,
          14,
          10,
          12,
          10,
          26,
          28,
          10,
          26,
          10,
          7,
          9,
          8,
          50,
          8,
          25,
          9,
          35,
          8,
          13,
          11,
          16,
          21,
          15,
          19,
          43,
          8,
          24,
          17,
          14,
          6,
          35,
          7,
          12,
          7,
          12,
          8,
          22,
          14,
          50,
          52,
          8,
          12,
          19,
          46,
          25,
          25,
          34,
          17,
          40,
          37,
          52,
          32,
          18,
          20,
          30,
          21,
          15,
          18,
          12,
          18,
          12,
          21,
          16,
          12,
          10,
          7,
          12,
          18,
          8,
          25,
          10,
          15,
          42,
          26,
          16,
          42,
          23,
          23,
          11,
          18,
          40,
          51,
          35,
          10,
          40,
          27,
          34,
          6,
          47,
          5,
          50,
          12,
          21,
          15,
          25,
          21,
          38,
          13,
          19,
          18,
          15,
          10,
          12,
          18,
          10,
          18,
          10,
          10,
          25,
          21,
          22,
          30,
          10,
          25,
          14,
          16,
          12,
          12,
          13,
          40,
          27,
          10,
          10,
          25,
          16,
          21,
          30,
          16,
          16,
          30
         ]
        }
       ],
       "layout": {
        "barmode": "overlay",
        "legend": {
         "bgcolor": "#F5F6F9",
         "font": {
          "color": "#4D5663"
         }
        },
        "paper_bgcolor": "#F5F6F9",
        "plot_bgcolor": "#F5F6F9",
        "template": {
         "data": {
          "bar": [
           {
            "error_x": {
             "color": "#2a3f5f"
            },
            "error_y": {
             "color": "#2a3f5f"
            },
            "marker": {
             "line": {
              "color": "#E5ECF6",
              "width": 0.5
             }
            },
            "type": "bar"
           }
          ],
          "barpolar": [
           {
            "marker": {
             "line": {
              "color": "#E5ECF6",
              "width": 0.5
             }
            },
            "type": "barpolar"
           }
          ],
          "carpet": [
           {
            "aaxis": {
             "endlinecolor": "#2a3f5f",
             "gridcolor": "white",
             "linecolor": "white",
             "minorgridcolor": "white",
             "startlinecolor": "#2a3f5f"
            },
            "baxis": {
             "endlinecolor": "#2a3f5f",
             "gridcolor": "white",
             "linecolor": "white",
             "minorgridcolor": "white",
             "startlinecolor": "#2a3f5f"
            },
            "type": "carpet"
           }
          ],
          "choropleth": [
           {
            "colorbar": {
             "outlinewidth": 0,
             "ticks": ""
            },
            "type": "choropleth"
           }
          ],
          "contour": [
           {
            "colorbar": {
             "outlinewidth": 0,
             "ticks": ""
            },
            "colorscale": [
             [
              0,
              "#0d0887"
             ],
             [
              0.1111111111111111,
              "#46039f"
             ],
             [
              0.2222222222222222,
              "#7201a8"
             ],
             [
              0.3333333333333333,
              "#9c179e"
             ],
             [
              0.4444444444444444,
              "#bd3786"
             ],
             [
              0.5555555555555556,
              "#d8576b"
             ],
             [
              0.6666666666666666,
              "#ed7953"
             ],
             [
              0.7777777777777778,
              "#fb9f3a"
             ],
             [
              0.8888888888888888,
              "#fdca26"
             ],
             [
              1,
              "#f0f921"
             ]
            ],
            "type": "contour"
           }
          ],
          "contourcarpet": [
           {
            "colorbar": {
             "outlinewidth": 0,
             "ticks": ""
            },
            "type": "contourcarpet"
           }
          ],
          "heatmap": [
           {
            "colorbar": {
             "outlinewidth": 0,
             "ticks": ""
            },
            "colorscale": [
             [
              0,
              "#0d0887"
             ],
             [
              0.1111111111111111,
              "#46039f"
             ],
             [
              0.2222222222222222,
              "#7201a8"
             ],
             [
              0.3333333333333333,
              "#9c179e"
             ],
             [
              0.4444444444444444,
              "#bd3786"
             ],
             [
              0.5555555555555556,
              "#d8576b"
             ],
             [
              0.6666666666666666,
              "#ed7953"
             ],
             [
              0.7777777777777778,
              "#fb9f3a"
             ],
             [
              0.8888888888888888,
              "#fdca26"
             ],
             [
              1,
              "#f0f921"
             ]
            ],
            "type": "heatmap"
           }
          ],
          "heatmapgl": [
           {
            "colorbar": {
             "outlinewidth": 0,
             "ticks": ""
            },
            "colorscale": [
             [
              0,
              "#0d0887"
             ],
             [
              0.1111111111111111,
              "#46039f"
             ],
             [
              0.2222222222222222,
              "#7201a8"
             ],
             [
              0.3333333333333333,
              "#9c179e"
             ],
             [
              0.4444444444444444,
              "#bd3786"
             ],
             [
              0.5555555555555556,
              "#d8576b"
             ],
             [
              0.6666666666666666,
              "#ed7953"
             ],
             [
              0.7777777777777778,
              "#fb9f3a"
             ],
             [
              0.8888888888888888,
              "#fdca26"
             ],
             [
              1,
              "#f0f921"
             ]
            ],
            "type": "heatmapgl"
           }
          ],
          "histogram": [
           {
            "marker": {
             "colorbar": {
              "outlinewidth": 0,
              "ticks": ""
             }
            },
            "type": "histogram"
           }
          ],
          "histogram2d": [
           {
            "colorbar": {
             "outlinewidth": 0,
             "ticks": ""
            },
            "colorscale": [
             [
              0,
              "#0d0887"
             ],
             [
              0.1111111111111111,
              "#46039f"
             ],
             [
              0.2222222222222222,
              "#7201a8"
             ],
             [
              0.3333333333333333,
              "#9c179e"
             ],
             [
              0.4444444444444444,
              "#bd3786"
             ],
             [
              0.5555555555555556,
              "#d8576b"
             ],
             [
              0.6666666666666666,
              "#ed7953"
             ],
             [
              0.7777777777777778,
              "#fb9f3a"
             ],
             [
              0.8888888888888888,
              "#fdca26"
             ],
             [
              1,
              "#f0f921"
             ]
            ],
            "type": "histogram2d"
           }
          ],
          "histogram2dcontour": [
           {
            "colorbar": {
             "outlinewidth": 0,
             "ticks": ""
            },
            "colorscale": [
             [
              0,
              "#0d0887"
             ],
             [
              0.1111111111111111,
              "#46039f"
             ],
             [
              0.2222222222222222,
              "#7201a8"
             ],
             [
              0.3333333333333333,
              "#9c179e"
             ],
             [
              0.4444444444444444,
              "#bd3786"
             ],
             [
              0.5555555555555556,
              "#d8576b"
             ],
             [
              0.6666666666666666,
              "#ed7953"
             ],
             [
              0.7777777777777778,
              "#fb9f3a"
             ],
             [
              0.8888888888888888,
              "#fdca26"
             ],
             [
              1,
              "#f0f921"
             ]
            ],
            "type": "histogram2dcontour"
           }
          ],
          "mesh3d": [
           {
            "colorbar": {
             "outlinewidth": 0,
             "ticks": ""
            },
            "type": "mesh3d"
           }
          ],
          "parcoords": [
           {
            "line": {
             "colorbar": {
              "outlinewidth": 0,
              "ticks": ""
             }
            },
            "type": "parcoords"
           }
          ],
          "pie": [
           {
            "automargin": true,
            "type": "pie"
           }
          ],
          "scatter": [
           {
            "marker": {
             "colorbar": {
              "outlinewidth": 0,
              "ticks": ""
             }
            },
            "type": "scatter"
           }
          ],
          "scatter3d": [
           {
            "line": {
             "colorbar": {
              "outlinewidth": 0,
              "ticks": ""
             }
            },
            "marker": {
             "colorbar": {
              "outlinewidth": 0,
              "ticks": ""
             }
            },
            "type": "scatter3d"
           }
          ],
          "scattercarpet": [
           {
            "marker": {
             "colorbar": {
              "outlinewidth": 0,
              "ticks": ""
             }
            },
            "type": "scattercarpet"
           }
          ],
          "scattergeo": [
           {
            "marker": {
             "colorbar": {
              "outlinewidth": 0,
              "ticks": ""
             }
            },
            "type": "scattergeo"
           }
          ],
          "scattergl": [
           {
            "marker": {
             "colorbar": {
              "outlinewidth": 0,
              "ticks": ""
             }
            },
            "type": "scattergl"
           }
          ],
          "scattermapbox": [
           {
            "marker": {
             "colorbar": {
              "outlinewidth": 0,
              "ticks": ""
             }
            },
            "type": "scattermapbox"
           }
          ],
          "scatterpolar": [
           {
            "marker": {
             "colorbar": {
              "outlinewidth": 0,
              "ticks": ""
             }
            },
            "type": "scatterpolar"
           }
          ],
          "scatterpolargl": [
           {
            "marker": {
             "colorbar": {
              "outlinewidth": 0,
              "ticks": ""
             }
            },
            "type": "scatterpolargl"
           }
          ],
          "scatterternary": [
           {
            "marker": {
             "colorbar": {
              "outlinewidth": 0,
              "ticks": ""
             }
            },
            "type": "scatterternary"
           }
          ],
          "surface": [
           {
            "colorbar": {
             "outlinewidth": 0,
             "ticks": ""
            },
            "colorscale": [
             [
              0,
              "#0d0887"
             ],
             [
              0.1111111111111111,
              "#46039f"
             ],
             [
              0.2222222222222222,
              "#7201a8"
             ],
             [
              0.3333333333333333,
              "#9c179e"
             ],
             [
              0.4444444444444444,
              "#bd3786"
             ],
             [
              0.5555555555555556,
              "#d8576b"
             ],
             [
              0.6666666666666666,
              "#ed7953"
             ],
             [
              0.7777777777777778,
              "#fb9f3a"
             ],
             [
              0.8888888888888888,
              "#fdca26"
             ],
             [
              1,
              "#f0f921"
             ]
            ],
            "type": "surface"
           }
          ],
          "table": [
           {
            "cells": {
             "fill": {
              "color": "#EBF0F8"
             },
             "line": {
              "color": "white"
             }
            },
            "header": {
             "fill": {
              "color": "#C8D4E3"
             },
             "line": {
              "color": "white"
             }
            },
            "type": "table"
           }
          ]
         },
         "layout": {
          "annotationdefaults": {
           "arrowcolor": "#2a3f5f",
           "arrowhead": 0,
           "arrowwidth": 1
          },
          "coloraxis": {
           "colorbar": {
            "outlinewidth": 0,
            "ticks": ""
           }
          },
          "colorscale": {
           "diverging": [
            [
             0,
             "#8e0152"
            ],
            [
             0.1,
             "#c51b7d"
            ],
            [
             0.2,
             "#de77ae"
            ],
            [
             0.3,
             "#f1b6da"
            ],
            [
             0.4,
             "#fde0ef"
            ],
            [
             0.5,
             "#f7f7f7"
            ],
            [
             0.6,
             "#e6f5d0"
            ],
            [
             0.7,
             "#b8e186"
            ],
            [
             0.8,
             "#7fbc41"
            ],
            [
             0.9,
             "#4d9221"
            ],
            [
             1,
             "#276419"
            ]
           ],
           "sequential": [
            [
             0,
             "#0d0887"
            ],
            [
             0.1111111111111111,
             "#46039f"
            ],
            [
             0.2222222222222222,
             "#7201a8"
            ],
            [
             0.3333333333333333,
             "#9c179e"
            ],
            [
             0.4444444444444444,
             "#bd3786"
            ],
            [
             0.5555555555555556,
             "#d8576b"
            ],
            [
             0.6666666666666666,
             "#ed7953"
            ],
            [
             0.7777777777777778,
             "#fb9f3a"
            ],
            [
             0.8888888888888888,
             "#fdca26"
            ],
            [
             1,
             "#f0f921"
            ]
           ],
           "sequentialminus": [
            [
             0,
             "#0d0887"
            ],
            [
             0.1111111111111111,
             "#46039f"
            ],
            [
             0.2222222222222222,
             "#7201a8"
            ],
            [
             0.3333333333333333,
             "#9c179e"
            ],
            [
             0.4444444444444444,
             "#bd3786"
            ],
            [
             0.5555555555555556,
             "#d8576b"
            ],
            [
             0.6666666666666666,
             "#ed7953"
            ],
            [
             0.7777777777777778,
             "#fb9f3a"
            ],
            [
             0.8888888888888888,
             "#fdca26"
            ],
            [
             1,
             "#f0f921"
            ]
           ]
          },
          "colorway": [
           "#636efa",
           "#EF553B",
           "#00cc96",
           "#ab63fa",
           "#FFA15A",
           "#19d3f3",
           "#FF6692",
           "#B6E880",
           "#FF97FF",
           "#FECB52"
          ],
          "font": {
           "color": "#2a3f5f"
          },
          "geo": {
           "bgcolor": "white",
           "lakecolor": "white",
           "landcolor": "#E5ECF6",
           "showlakes": true,
           "showland": true,
           "subunitcolor": "white"
          },
          "hoverlabel": {
           "align": "left"
          },
          "hovermode": "closest",
          "mapbox": {
           "style": "light"
          },
          "paper_bgcolor": "white",
          "plot_bgcolor": "#E5ECF6",
          "polar": {
           "angularaxis": {
            "gridcolor": "white",
            "linecolor": "white",
            "ticks": ""
           },
           "bgcolor": "#E5ECF6",
           "radialaxis": {
            "gridcolor": "white",
            "linecolor": "white",
            "ticks": ""
           }
          },
          "scene": {
           "xaxis": {
            "backgroundcolor": "#E5ECF6",
            "gridcolor": "white",
            "gridwidth": 2,
            "linecolor": "white",
            "showbackground": true,
            "ticks": "",
            "zerolinecolor": "white"
           },
           "yaxis": {
            "backgroundcolor": "#E5ECF6",
            "gridcolor": "white",
            "gridwidth": 2,
            "linecolor": "white",
            "showbackground": true,
            "ticks": "",
            "zerolinecolor": "white"
           },
           "zaxis": {
            "backgroundcolor": "#E5ECF6",
            "gridcolor": "white",
            "gridwidth": 2,
            "linecolor": "white",
            "showbackground": true,
            "ticks": "",
            "zerolinecolor": "white"
           }
          },
          "shapedefaults": {
           "line": {
            "color": "#2a3f5f"
           }
          },
          "ternary": {
           "aaxis": {
            "gridcolor": "white",
            "linecolor": "white",
            "ticks": ""
           },
           "baxis": {
            "gridcolor": "white",
            "linecolor": "white",
            "ticks": ""
           },
           "bgcolor": "#E5ECF6",
           "caxis": {
            "gridcolor": "white",
            "linecolor": "white",
            "ticks": ""
           }
          },
          "title": {
           "x": 0.05
          },
          "xaxis": {
           "automargin": true,
           "gridcolor": "white",
           "linecolor": "white",
           "ticks": "",
           "title": {
            "standoff": 15
           },
           "zerolinecolor": "white",
           "zerolinewidth": 2
          },
          "yaxis": {
           "automargin": true,
           "gridcolor": "white",
           "linecolor": "white",
           "ticks": "",
           "title": {
            "standoff": 15
           },
           "zerolinecolor": "white",
           "zerolinewidth": 2
          }
         }
        },
        "title": {
         "font": {
          "color": "#4D5663"
         }
        },
        "xaxis": {
         "gridcolor": "#E1E5ED",
         "showgrid": true,
         "tickfont": {
          "color": "#4D5663"
         },
         "title": {
          "font": {
           "color": "#4D5663"
          },
          "text": ""
         },
         "zerolinecolor": "#E1E5ED"
        },
        "yaxis": {
         "gridcolor": "#E1E5ED",
         "showgrid": true,
         "tickfont": {
          "color": "#4D5663"
         },
         "title": {
          "font": {
           "color": "#4D5663"
          },
          "text": ""
         },
         "zerolinecolor": "#E1E5ED"
        }
       }
      },
      "text/html": [
       "<div>                            <div id=\"f80bf1d1-98ab-4937-9789-6828c2cf8775\" class=\"plotly-graph-div\" style=\"height:525px; width:100%;\"></div>            <script type=\"text/javascript\">                require([\"plotly\"], function(Plotly) {                    window.PLOTLYENV=window.PLOTLYENV || {};\n",
       "                    window.PLOTLYENV.BASE_URL='https://plot.ly';                                    if (document.getElementById(\"f80bf1d1-98ab-4937-9789-6828c2cf8775\")) {                    Plotly.newPlot(                        \"f80bf1d1-98ab-4937-9789-6828c2cf8775\",                        [{\"histfunc\": \"count\", \"histnorm\": \"\", \"marker\": {\"color\": \"rgba(255, 153, 51, 1.0)\", \"line\": {\"color\": \"#4D5663\", \"width\": 1.3}}, \"name\": \"Age\", \"opacity\": 0.8, \"orientation\": \"v\", \"type\": \"histogram\", \"x\": [21, 29, 13, 14, 10, 10, 18, 38, 14, 12, 14, 28, 31, 12, 10, 12, 27, 59, 51, 10, 23, 10, 5, 26, 5, 15, 50, 10, 9, 11, 8, 17, 10, 12, 28, 46, 12, 21, 17, 17, 23, 22, 10, 10, 12, 12, 30, 21, 30, 11, 12, 8, 17, 22, 18, 47, 37, 10, 11, 19, 14, 25, 40, 32, 11, 9, 10, 10, 30, 7, 46, 12, 15, 26, 45, 67, 25, 23, 40, 56, 25, 18, 12, 25, 13, 41, 12, 12, 10, 39, 12, 3, 14, 12, 18, 29, 10, 12, 18, 15, 26, 21, 12, 32, 31, 15, 47, 24, 21, 17, 30, 30, 18, 15, 15, 8, 18, 12, 12, 12, 12, 10, 10, 12, 18, 19, 40, 15, 12, 30, 10, 50, 40, 15, 28, 30, 18, 15, 21, 10, 40, 12, 21, 28, 32, 12, 10, 18, 40, 12, 45, 36, 12, 18, 12, 21, 19, 18, 35, 25, 25, 10, 32, 26, 15, 16, 40, 29, 12, 24, 18, 31, 44, 44, 30, 30, 40, 40, 37, 31, 30, 23, 21, 28, 9, 9, 12, 30, 18, 11, 30, 50, 13, 20, 10, 10, 40, 10, 12, 23, 15, 19, 12, 11, 26, 15, 22, 10, 12, 13, 15, 18, 15, 15, 30, 29, 26, 18, 15, 14, 12, 12, 10, 50, 33, 25, 30, 18, 15, 10, 12, 6, 5, 25, 22, 11, 8, 8, 30, 10, 29, 10, 11, 12, 11, 10, 14, 30, 13, 9, 20, 13, 17, 20, 26, 30, 21, 11, 10, 13, 23, 19, 5, 11, 11, 14, 12, 74, 71, 60, 28, 10, 50, 14, 14, 13, 28, 20, 18, 23, 23, 35, 21, 21, 29, 29, 21, 8, 21, 17, 12, 15, 12, 13, 21, 13, 16, 23, 22, 40, 51, 13, 72, 15, 10, 24, 22, 27, 21, 25, 11, 3, 21, 12, 17, 30, 31, 43, 30, 33, 30, 37, 44, 30, 31, 44, 31, 44, 44, 30, 30, 40, 40, 37, 31, 30, 23, 21, 28, 9, 9, 12, 30, 18, 11, 30, 50, 13, 20, 10, 10, 40, 10, 12, 23, 15, 19, 12, 11, 26, 15, 22, 10, 12, 13, 15, 18, 15, 15, 30, 29, 26, 18, 15, 14, 12, 12, 10, 50, 33, 25, 30, 18, 15, 10, 12, 6, 5, 25, 22, 11, 8, 8, 30, 10, 29, 10, 11, 12, 11, 10, 19, 16, 10, 9, 10, 13, 12, 12, 8, 8, 12, 15, 8, 10, 8, 17, 11, 11, 25, 26, 21, 12, 21, 10, 10, 8, 8, 10, 8, 7, 9, 10, 11, 11, 12, 13, 14, 24, 25, 27, 33, 21, 39, 30, 25, 5, 11, 20, 12, 25, 18, 21, 12, 8, 8, 10, 15, 25, 10, 10, 14, 10, 26, 12, 50, 12, 14, 17, 10, 21, 14, 19, 15, 10, 26, 16, 22, 11, 50, 30, 25, 12, 25, 56, 52, 9, 10, 18, 17, 12, 14, 10, 12, 10, 26, 28, 10, 26, 10, 7, 9, 8, 50, 8, 25, 9, 35, 8, 13, 11, 16, 21, 15, 19, 43, 8, 24, 17, 14, 6, 35, 7, 12, 7, 12, 8, 22, 14, 50, 52, 8, 12, 19, 46, 25, 25, 34, 17, 40, 37, 52, 32, 18, 20, 30, 21, 15, 18, 12, 18, 12, 21, 16, 12, 10, 7, 12, 18, 8, 25, 10, 15, 42, 26, 16, 42, 23, 23, 11, 18, 40, 51, 35, 10, 40, 27, 34, 6, 47, 5, 50, 12, 21, 15, 25, 21, 38, 13, 19, 18, 15, 10, 12, 18, 10, 18, 10, 10, 25, 21, 22, 30, 10, 25, 14, 16, 12, 12, 13, 40, 27, 10, 10, 25, 16, 21, 30, 16, 16, 30]}],                        {\"barmode\": \"overlay\", \"legend\": {\"bgcolor\": \"#F5F6F9\", \"font\": {\"color\": \"#4D5663\"}}, \"paper_bgcolor\": \"#F5F6F9\", \"plot_bgcolor\": \"#F5F6F9\", \"template\": {\"data\": {\"bar\": [{\"error_x\": {\"color\": \"#2a3f5f\"}, \"error_y\": {\"color\": \"#2a3f5f\"}, \"marker\": {\"line\": {\"color\": \"#E5ECF6\", \"width\": 0.5}}, \"type\": \"bar\"}], \"barpolar\": [{\"marker\": {\"line\": {\"color\": \"#E5ECF6\", \"width\": 0.5}}, \"type\": \"barpolar\"}], \"carpet\": [{\"aaxis\": {\"endlinecolor\": \"#2a3f5f\", \"gridcolor\": \"white\", \"linecolor\": \"white\", \"minorgridcolor\": \"white\", \"startlinecolor\": \"#2a3f5f\"}, \"baxis\": {\"endlinecolor\": \"#2a3f5f\", \"gridcolor\": \"white\", \"linecolor\": \"white\", \"minorgridcolor\": \"white\", \"startlinecolor\": \"#2a3f5f\"}, \"type\": \"carpet\"}], \"choropleth\": [{\"colorbar\": {\"outlinewidth\": 0, \"ticks\": \"\"}, \"type\": \"choropleth\"}], \"contour\": [{\"colorbar\": {\"outlinewidth\": 0, \"ticks\": \"\"}, \"colorscale\": [[0.0, \"#0d0887\"], [0.1111111111111111, \"#46039f\"], [0.2222222222222222, \"#7201a8\"], [0.3333333333333333, \"#9c179e\"], [0.4444444444444444, \"#bd3786\"], [0.5555555555555556, \"#d8576b\"], [0.6666666666666666, \"#ed7953\"], [0.7777777777777778, \"#fb9f3a\"], [0.8888888888888888, \"#fdca26\"], [1.0, \"#f0f921\"]], \"type\": \"contour\"}], \"contourcarpet\": [{\"colorbar\": {\"outlinewidth\": 0, \"ticks\": \"\"}, \"type\": \"contourcarpet\"}], \"heatmap\": [{\"colorbar\": {\"outlinewidth\": 0, \"ticks\": \"\"}, \"colorscale\": [[0.0, \"#0d0887\"], [0.1111111111111111, \"#46039f\"], [0.2222222222222222, \"#7201a8\"], [0.3333333333333333, \"#9c179e\"], [0.4444444444444444, \"#bd3786\"], [0.5555555555555556, \"#d8576b\"], [0.6666666666666666, \"#ed7953\"], [0.7777777777777778, \"#fb9f3a\"], [0.8888888888888888, \"#fdca26\"], [1.0, \"#f0f921\"]], \"type\": \"heatmap\"}], \"heatmapgl\": [{\"colorbar\": {\"outlinewidth\": 0, \"ticks\": \"\"}, \"colorscale\": [[0.0, \"#0d0887\"], [0.1111111111111111, \"#46039f\"], [0.2222222222222222, \"#7201a8\"], [0.3333333333333333, \"#9c179e\"], [0.4444444444444444, \"#bd3786\"], [0.5555555555555556, \"#d8576b\"], [0.6666666666666666, \"#ed7953\"], [0.7777777777777778, \"#fb9f3a\"], [0.8888888888888888, \"#fdca26\"], [1.0, \"#f0f921\"]], \"type\": \"heatmapgl\"}], \"histogram\": [{\"marker\": {\"colorbar\": {\"outlinewidth\": 0, \"ticks\": \"\"}}, \"type\": \"histogram\"}], \"histogram2d\": [{\"colorbar\": {\"outlinewidth\": 0, \"ticks\": \"\"}, \"colorscale\": [[0.0, \"#0d0887\"], [0.1111111111111111, \"#46039f\"], [0.2222222222222222, \"#7201a8\"], [0.3333333333333333, \"#9c179e\"], [0.4444444444444444, \"#bd3786\"], [0.5555555555555556, \"#d8576b\"], [0.6666666666666666, \"#ed7953\"], [0.7777777777777778, \"#fb9f3a\"], [0.8888888888888888, \"#fdca26\"], [1.0, \"#f0f921\"]], \"type\": \"histogram2d\"}], \"histogram2dcontour\": [{\"colorbar\": {\"outlinewidth\": 0, \"ticks\": \"\"}, \"colorscale\": [[0.0, \"#0d0887\"], [0.1111111111111111, \"#46039f\"], [0.2222222222222222, \"#7201a8\"], [0.3333333333333333, \"#9c179e\"], [0.4444444444444444, \"#bd3786\"], [0.5555555555555556, \"#d8576b\"], [0.6666666666666666, \"#ed7953\"], [0.7777777777777778, \"#fb9f3a\"], [0.8888888888888888, \"#fdca26\"], [1.0, \"#f0f921\"]], \"type\": \"histogram2dcontour\"}], \"mesh3d\": [{\"colorbar\": {\"outlinewidth\": 0, \"ticks\": \"\"}, \"type\": \"mesh3d\"}], \"parcoords\": [{\"line\": {\"colorbar\": {\"outlinewidth\": 0, \"ticks\": \"\"}}, \"type\": \"parcoords\"}], \"pie\": [{\"automargin\": true, \"type\": \"pie\"}], \"scatter\": [{\"marker\": {\"colorbar\": {\"outlinewidth\": 0, \"ticks\": \"\"}}, \"type\": \"scatter\"}], \"scatter3d\": [{\"line\": {\"colorbar\": {\"outlinewidth\": 0, \"ticks\": \"\"}}, \"marker\": {\"colorbar\": {\"outlinewidth\": 0, \"ticks\": \"\"}}, \"type\": \"scatter3d\"}], \"scattercarpet\": [{\"marker\": {\"colorbar\": {\"outlinewidth\": 0, \"ticks\": \"\"}}, \"type\": \"scattercarpet\"}], \"scattergeo\": [{\"marker\": {\"colorbar\": {\"outlinewidth\": 0, \"ticks\": \"\"}}, \"type\": \"scattergeo\"}], \"scattergl\": [{\"marker\": {\"colorbar\": {\"outlinewidth\": 0, \"ticks\": \"\"}}, \"type\": \"scattergl\"}], \"scattermapbox\": [{\"marker\": {\"colorbar\": {\"outlinewidth\": 0, \"ticks\": \"\"}}, \"type\": \"scattermapbox\"}], \"scatterpolar\": [{\"marker\": {\"colorbar\": {\"outlinewidth\": 0, \"ticks\": \"\"}}, \"type\": \"scatterpolar\"}], \"scatterpolargl\": [{\"marker\": {\"colorbar\": {\"outlinewidth\": 0, \"ticks\": \"\"}}, \"type\": \"scatterpolargl\"}], \"scatterternary\": [{\"marker\": {\"colorbar\": {\"outlinewidth\": 0, \"ticks\": \"\"}}, \"type\": \"scatterternary\"}], \"surface\": [{\"colorbar\": {\"outlinewidth\": 0, \"ticks\": \"\"}, \"colorscale\": [[0.0, \"#0d0887\"], [0.1111111111111111, \"#46039f\"], [0.2222222222222222, \"#7201a8\"], [0.3333333333333333, \"#9c179e\"], [0.4444444444444444, \"#bd3786\"], [0.5555555555555556, \"#d8576b\"], [0.6666666666666666, \"#ed7953\"], [0.7777777777777778, \"#fb9f3a\"], [0.8888888888888888, \"#fdca26\"], [1.0, \"#f0f921\"]], \"type\": \"surface\"}], \"table\": [{\"cells\": {\"fill\": {\"color\": \"#EBF0F8\"}, \"line\": {\"color\": \"white\"}}, \"header\": {\"fill\": {\"color\": \"#C8D4E3\"}, \"line\": {\"color\": \"white\"}}, \"type\": \"table\"}]}, \"layout\": {\"annotationdefaults\": {\"arrowcolor\": \"#2a3f5f\", \"arrowhead\": 0, \"arrowwidth\": 1}, \"coloraxis\": {\"colorbar\": {\"outlinewidth\": 0, \"ticks\": \"\"}}, \"colorscale\": {\"diverging\": [[0, \"#8e0152\"], [0.1, \"#c51b7d\"], [0.2, \"#de77ae\"], [0.3, \"#f1b6da\"], [0.4, \"#fde0ef\"], [0.5, \"#f7f7f7\"], [0.6, \"#e6f5d0\"], [0.7, \"#b8e186\"], [0.8, \"#7fbc41\"], [0.9, \"#4d9221\"], [1, \"#276419\"]], \"sequential\": [[0.0, \"#0d0887\"], [0.1111111111111111, \"#46039f\"], [0.2222222222222222, \"#7201a8\"], [0.3333333333333333, \"#9c179e\"], [0.4444444444444444, \"#bd3786\"], [0.5555555555555556, \"#d8576b\"], [0.6666666666666666, \"#ed7953\"], [0.7777777777777778, \"#fb9f3a\"], [0.8888888888888888, \"#fdca26\"], [1.0, \"#f0f921\"]], \"sequentialminus\": [[0.0, \"#0d0887\"], [0.1111111111111111, \"#46039f\"], [0.2222222222222222, \"#7201a8\"], [0.3333333333333333, \"#9c179e\"], [0.4444444444444444, \"#bd3786\"], [0.5555555555555556, \"#d8576b\"], [0.6666666666666666, \"#ed7953\"], [0.7777777777777778, \"#fb9f3a\"], [0.8888888888888888, \"#fdca26\"], [1.0, \"#f0f921\"]]}, \"colorway\": [\"#636efa\", \"#EF553B\", \"#00cc96\", \"#ab63fa\", \"#FFA15A\", \"#19d3f3\", \"#FF6692\", \"#B6E880\", \"#FF97FF\", \"#FECB52\"], \"font\": {\"color\": \"#2a3f5f\"}, \"geo\": {\"bgcolor\": \"white\", \"lakecolor\": \"white\", \"landcolor\": \"#E5ECF6\", \"showlakes\": true, \"showland\": true, \"subunitcolor\": \"white\"}, \"hoverlabel\": {\"align\": \"left\"}, \"hovermode\": \"closest\", \"mapbox\": {\"style\": \"light\"}, \"paper_bgcolor\": \"white\", \"plot_bgcolor\": \"#E5ECF6\", \"polar\": {\"angularaxis\": {\"gridcolor\": \"white\", \"linecolor\": \"white\", \"ticks\": \"\"}, \"bgcolor\": \"#E5ECF6\", \"radialaxis\": {\"gridcolor\": \"white\", \"linecolor\": \"white\", \"ticks\": \"\"}}, \"scene\": {\"xaxis\": {\"backgroundcolor\": \"#E5ECF6\", \"gridcolor\": \"white\", \"gridwidth\": 2, \"linecolor\": \"white\", \"showbackground\": true, \"ticks\": \"\", \"zerolinecolor\": \"white\"}, \"yaxis\": {\"backgroundcolor\": \"#E5ECF6\", \"gridcolor\": \"white\", \"gridwidth\": 2, \"linecolor\": \"white\", \"showbackground\": true, \"ticks\": \"\", \"zerolinecolor\": \"white\"}, \"zaxis\": {\"backgroundcolor\": \"#E5ECF6\", \"gridcolor\": \"white\", \"gridwidth\": 2, \"linecolor\": \"white\", \"showbackground\": true, \"ticks\": \"\", \"zerolinecolor\": \"white\"}}, \"shapedefaults\": {\"line\": {\"color\": \"#2a3f5f\"}}, \"ternary\": {\"aaxis\": {\"gridcolor\": \"white\", \"linecolor\": \"white\", \"ticks\": \"\"}, \"baxis\": {\"gridcolor\": \"white\", \"linecolor\": \"white\", \"ticks\": \"\"}, \"bgcolor\": \"#E5ECF6\", \"caxis\": {\"gridcolor\": \"white\", \"linecolor\": \"white\", \"ticks\": \"\"}}, \"title\": {\"x\": 0.05}, \"xaxis\": {\"automargin\": true, \"gridcolor\": \"white\", \"linecolor\": \"white\", \"ticks\": \"\", \"title\": {\"standoff\": 15}, \"zerolinecolor\": \"white\", \"zerolinewidth\": 2}, \"yaxis\": {\"automargin\": true, \"gridcolor\": \"white\", \"linecolor\": \"white\", \"ticks\": \"\", \"title\": {\"standoff\": 15}, \"zerolinecolor\": \"white\", \"zerolinewidth\": 2}}}, \"title\": {\"font\": {\"color\": \"#4D5663\"}}, \"xaxis\": {\"gridcolor\": \"#E1E5ED\", \"showgrid\": true, \"tickfont\": {\"color\": \"#4D5663\"}, \"title\": {\"font\": {\"color\": \"#4D5663\"}, \"text\": \"\"}, \"zerolinecolor\": \"#E1E5ED\"}, \"yaxis\": {\"gridcolor\": \"#E1E5ED\", \"showgrid\": true, \"tickfont\": {\"color\": \"#4D5663\"}, \"title\": {\"font\": {\"color\": \"#4D5663\"}, \"text\": \"\"}, \"zerolinecolor\": \"#E1E5ED\"}},                        {\"showLink\": true, \"linkText\": \"Export to plot.ly\", \"plotlyServerURL\": \"https://plot.ly\", \"responsive\": true}                    ).then(function(){\n",
       "                            \n",
       "var gd = document.getElementById('f80bf1d1-98ab-4937-9789-6828c2cf8775');\n",
       "var x = new MutationObserver(function (mutations, observer) {{\n",
       "        var display = window.getComputedStyle(gd).display;\n",
       "        if (!display || display === 'none') {{\n",
       "            console.log([gd, 'removed!']);\n",
       "            Plotly.purge(gd);\n",
       "            observer.disconnect();\n",
       "        }}\n",
       "}});\n",
       "\n",
       "// Listen for the removal of the full notebook cells\n",
       "var notebookContainer = gd.closest('#notebook-container');\n",
       "if (notebookContainer) {{\n",
       "    x.observe(notebookContainer, {childList: true});\n",
       "}}\n",
       "\n",
       "// Listen for the clearing of the current output cell\n",
       "var outputEl = gd.closest('.output');\n",
       "if (outputEl) {{\n",
       "    x.observe(outputEl, {childList: true});\n",
       "}}\n",
       "\n",
       "                        })                };                });            </script>        </div>"
      ]
     },
     "metadata": {},
     "output_type": "display_data"
    }
   ],
   "source": [
    "df[~df['Age'].isnull()]['Age'].astype('object').iplot(kind='hist')"
   ]
  },
  {
   "cell_type": "code",
   "execution_count": 55,
   "metadata": {
    "ExecuteTime": {
     "end_time": "2021-01-11T08:39:56.949075Z",
     "start_time": "2021-01-11T08:39:56.718394Z"
    }
   },
   "outputs": [
    {
     "data": {
      "application/vnd.plotly.v1+json": {
       "config": {
        "linkText": "Export to plot.ly",
        "plotlyServerURL": "https://plot.ly",
        "showLink": true
       },
       "data": [
        {
         "marker": {
          "color": "rgba(255, 153, 51, 1.0)",
          "line": {
           "width": 1.3
          },
          "opacity": 0.8,
          "size": 12,
          "symbol": "circle"
         },
         "mode": "markers",
         "name": "12-50",
         "text": [
          "Benromach 21 Year Old",
          "Balblair 1990 29 Year Old Connoisseur's Choice",
          "Benriach 2005 UK Exclusive Peated Rum Cask #7553",
          "Character of Islay Bowmore 18 Year Old Wind & Waves #11714",
          "The Singleton of Glen Ord 38 Year Old Epicurean Odyssey",
          "Glenmorangie Quinta Ruban Giraffe Tin",
          "GlenAllachie 2006 #6620",
          "Wemyss Malts Bunnahabhain 1990 28 Year Old Boat Captain's Brew",
          "Wemyss Malts Bowmore 1988 31 Year Old Candied Violets",
          "Glendronach 27 Year Old #182 Oloroso UK Exclusive Single Cask",
          "Darkness Caperdonich 23 Year Old 10188",
          "Bruichladdich Black Art 8",
          "Bowmore 15 Year Old Glass Gift Set",
          "Macallan 50 Year Old Red Collection",
          "Darkness Bowmore 17 Year Old Moscatel Cask Finish",
          "Deanston 1991 Muscat Cask Finish",
          "Fettercairn 46 Year Old",
          "Ledaig 21 Year Old 1998 Marsala Cask Finish",
          "Deanston 2002 Pinot Noir Cask",
          "Deanston 2002 Organic",
          "Tobermory 23 Year Old",
          "Macallan 1990 22 Year Old Fine & Rare #24706",
          "Loch Lomond 30 Year Old",
          "Loch Lomond 21 Year Old",
          "Dalwhinnie 30 Year Old Special Releases 2020",
          "Singleton 17 Year Old Special Releases 2020",
          "Fettercairn 22 Year Old",
          "Macallan 18 Year Old Double Cask",
          "Macallan 1954 47 Year Old Fine & Rare #1902",
          "Macallan 1940 37 Year Old Fine & Rare",
          "Balvenie The Edge of Burnhead Wood 19 Year Old",
          "Glen Scotia 14 Year Old Tawny Port Finish Campbeltown Malts Festival 2020",
          "Wemyss Malts Velvet Fig 25 Year Old",
          "Glenglassaugh 1978 40 Year Old #3060",
          "Old Malt Cask Ardbeg 32 Year Old 1967",
          "Ardbeg 1972 VELIER",
          "Dailuaine 46 Year Old Platinum Old & Rare",
          "GlenAllachie 15 Year Old",
          "Glendronach 1993 26 Year Old #7434",
          "Glen Scotia 45 Year Old",
          "Balblair 25 Year Old",
          "Glenfiddich Grand Cru 23 Year Old",
          "Brora 40 Year Old 200th Anniversary",
          "GlenAllachie 25 Year Old",
          "GlenAllachie 18 Year Old",
          "Old Pulteney 25 Year Old - 2019",
          "Talisker 41 Year Old",
          "Port Ellen 39 Year Old Untold Stories: The Spirit Safe",
          "Balvenie The Week of Peat 14 Year Old",
          "Johnnie Walker 18 Year Old",
          "Whisky Works Glaswegian 29 Year Old",
          "Balblair 18 Year Old",
          "Balblair 15 Year Old",
          "Glenmorangie Grand Vintage Malt 1991",
          "Springbank 1997 21 year old Authors Series - Oscar Wilde",
          "Macallan 1937 32 Year Old Fine & Rare",
          "Macallan 1938 31 Year Old Fine & Rare",
          "Macallan 1947 15 Year Old Fine & Rare",
          "Balvenie 1971 DCS Chapter 4",
          "Talisker 1953 24 Year Old Connoisseur's Choice",
          "Talisker 1952 21 Year Old Connoisseur's Choice",
          "Ballantine's Miltonduff 17 Year Old",
          "Glenfiddich 30 Year Old",
          "Glenglassaugh 30 Year Old",
          "Glenfiddich 18 Year Old 5cl",
          "Glenfiddich 15 Year Old Solera 20cl",
          "Singleton of Dufftown 15 Year Old",
          "Singleton of Dufftown 18 Year Old",
          "GlenDronach 18 Year Old 5cl",
          "Loch Lomond 19 Year Old Royal Portrush",
          "Dalmore 40 Year Old",
          "Benrinnes 15 Year Old",
          "Jura 1988",
          "The Last Drop Glenrothes 1968 Cask 13504",
          "Fettercairn 40 Year Old",
          "GlenDronach 15 Year Old Revival",
          "Fettercairn 28 Year Old",
          "Macallan 30 Year Old Sherry Oak 2020",
          "Old Pulteney 18 Year Old",
          "Old Pulteney 15 Year Old",
          "Glenfiddich Winter Storm Batch 2",
          "Talisker 40 Year Old",
          "BenRiach 21 Year Old",
          "The Tweeddale The Evolution",
          "Convalmore 32 Year Old 2017 Special Release",
          "Jura 18 Year Old",
          "Bunnahabhain 40 Year Old",
          "Dalmore 45 Year Old",
          "Bunnahabhain 1980 Canasta Cask Finish",
          "Macallan 18 Year Old Sherry Oak 2020",
          "Glenfiddich 21 Year Old 20cl",
          "Old Malt Cask Highland Park 19 Year Old",
          "Aberlour 18 Year Old",
          "Dalmore 35 Year Old",
          "Chivas Regal 25 year old",
          "Old Pulteney 25 Year Old",
          "Bruichladdich 1984 32 Year Old",
          "Glenfiddich 26 Year Old Excellence",
          "Highland Park Fire",
          "Inchmurrin Taster Pack",
          "Glenfiddich 40 Year Old",
          "Loch Lomond Taster Pack",
          "Inchmoan 1992",
          "anCnoc 18 Year Old",
          "Glen Garioch 31 Year Old Platinum Old & Rare",
          "Glenburgie 44 Year Old Platinum Old & Rare",
          "Dufftown 44 Year Old Platinum Old & Rare",
          "Cragganmore 30 Year Old Platinum Old & Rare",
          "Braes of Glenlivet 30 Year Old Platinum Old & Rare",
          "Benrinnes 40 Year Old Platinum Old & Rare",
          "Balmenach 40 Year Old Platinum Old & Rare",
          "Aultmore 37 Year Old Platinum Old & Rare",
          "Ardmore 31 Year Old Platinum Old & Rare",
          "Old and Rare Bunnahabhain 30 Year Old",
          "Old Malt Cask Ben Nevis 23 Year Old",
          "Old Malt Cask Longmorn 21 Year Old",
          "Glengoyne 28 Year Old",
          "Bunnahabhain 1988 Marsala Cask Finish",
          "Balvenie 2001 DCS Chapter 5",
          "Dalmore 1973 Gonzalez Byass",
          "The Balvenie 50 Year Old: Marriage 0197",
          "Glenrothes 1995",
          "Glenrothes 40 Year Old",
          "Auchentoshan 1996",
          "Bowmore 15 Year Old Gift Set",
          "Glenrothes 1988",
          "Glen Keith 26 Year Old Platinum Old & Rare",
          "Benromach 15 Year Old",
          "Bowmore Feis Ile 2019 Cask #666",
          "GlenAllachie 2004 #6213",
          "GlenAllachie 2001 #4152",
          "Mortlach 15 Year Old - Game of Thrones Six Kingdoms",
          "Highland Park Esquire",
          "Dalwhinnie 30 Year Old Special Releases 2019",
          "Pittyvaich 29 Year Old Special Releases 2019",
          "Mortlach 26 Year Old Special Releases 2019",
          "Singleton of Glen Ord 18 Year Old Special Releases 2019",
          "Talisker 15 Year Old Special Releases 2019",
          "Cardhu 14 Year Old Special Releases 2019",
          "Macallan 50 Year Old",
          "Tamnavulin 33 Year Old The Stillman's Dram",
          "Laphroaig 25 Year Old Cask Strength",
          "Laphroaig 30 Year Old The Ian Hunter Story Book One",
          "Glengoyne 18 Year Old 20cl",
          "Glengoyne 15 Year Old 20cl",
          "Bruichladdich Black Art 7",
          "First Editions Ben Nevis 1996",
          "Glengoyne 30 Year Old 2018",
          "Littlemill 29 Year Old Private Cellar Edition 2019",
          "Highland Park 2006 14 Year Old Connoisseur's Choice",
          "The Glenlivet 1990 30 Year Old Connoisseur's Choice",
          "Golden Cask Tomatin 20 Year Old",
          "Darkness Dailuaine 17 Year Old",
          "Darkness Auchroisk 20 Year Old",
          "Darkness Auchentoshan 26 Year Old",
          "Glen Scotia 30 Year Old",
          "GlenAllachie 21 Year Old Batch 1",
          "Darkness Allt A'Bhainne 23 Year Old 10358",
          "Darkness Linkwood 19 Year Old Pedro Ximenez Cask 10559",
          "The Loch Fyne Bunnahabhain 14 Year Old 2006",
          "John Walker & Sons 28 Year Old Bicentenary Blend",
          "Highland Park 50 Year Old",
          "Darkness Ardbeg 14 Year Old Pedro Ximénez Cask Finish #11723",
          "Darkness Ardbeg 14 Year Old Pedro Ximénez Cask Finish #10394",
          "Golden Cask Bunnahabhain 28 Year Old",
          "Golden Cask Tobermory 20 Year Old",
          "Golden Cask Dailuaine 18 Year Old",
          "Golden Cask Speyside 23 Year Old",
          "Golden Cask Macduff 23 Year Old",
          "Golden Cask Macduff 35 Year Old",
          "Golden Cask Braes of Glenlivet 21 Year Old",
          "Golden Cask Benrinnes 21 Year Old",
          "GlenAllachie 1989 29 Year Old #2588",
          "GlenDronach Kingsman Edition 1989 Vintage",
          "Mortlach 21 Year Old Special Releases 2020",
          "Ardbeg 1991 21 Year Old Single Cask Cadenhead's Authentic Collection",
          "Balvenie 17 Year Old Islay Cask",
          "Macallan 15 Year Old Double Cask",
          "Arran 21 Year Old Kildonan & Pladda Island - Explorer Series Vol. 3",
          "Fettercairn 16 Year Old",
          "Old Malt Cask Inchmurrin 23 Year Old",
          "Macallan Exceptional Single Cask 2019/ESB-5542/02",
          "Port Ellen 40 Year Old 9 Rogue Casks",
          "Inchmurrin 2004 #17/641-2",
          "Arran 1995 #217",
          "Macallan Exceptional Single Cask 2019/ESB-14/03",
          "Glendronach 1992 27 Year Old #5852",
          "Lagavulin 21 Year Old Jazz Festival 2019",
          "Dalmore 25 Year Old - 2019",
          "Invergordon 21 Year Old The Sovereign",
          "Bruichladdich 17 Year Old 1l",
          "Tullibardine 30 Year Old Platinum Old & Rare",
          "Tormore 31 Year Old Platinum Old & Rare",
          "Teaninich 43 Year Old Platinum Old & Rare",
          "Tamdhu 1989 30 Year Old Platinum Old & Rare",
          "Strathmill 33 Year Old Platinum Old & Rare",
          "Linkwood 30 Year Old Platinum Old & Rare",
          "Inchgower 37 Year Old Platinum Old & Rare",
          "Glen Elgin 44 Year Old Platinum Old & Rare",
          "Glentauchers 30 Year Old Platinum Old & Rare",
          "Glenrothes 31 Year Old Platinum Old & Rare",
          "Glenlossie 44 Year Old Platinum Old & Rare",
          "Glen Garioch 31 Year Old Platinum Old & Rare",
          "Glenburgie 44 Year Old Platinum Old & Rare",
          "Dufftown 44 Year Old Platinum Old & Rare",
          "Cragganmore 30 Year Old Platinum Old & Rare",
          "Braes of Glenlivet 30 Year Old Platinum Old & Rare",
          "Benrinnes 40 Year Old Platinum Old & Rare",
          "Balmenach 40 Year Old Platinum Old & Rare",
          "Aultmore 37 Year Old Platinum Old & Rare",
          "Ardmore 31 Year Old Platinum Old & Rare",
          "Old and Rare Bunnahabhain 30 Year Old",
          "Old Malt Cask Ben Nevis 23 Year Old",
          "Old Malt Cask Longmorn 21 Year Old",
          "Glengoyne 28 Year Old",
          "Bunnahabhain 1988 Marsala Cask Finish",
          "Balvenie 2001 DCS Chapter 5",
          "Dalmore 1973 Gonzalez Byass",
          "The Balvenie 50 Year Old: Marriage 0197",
          "Glenrothes 1995",
          "Glenrothes 40 Year Old",
          "Auchentoshan 1996",
          "Bowmore 15 Year Old Gift Set",
          "Glenrothes 1988",
          "Glen Keith 26 Year Old Platinum Old & Rare",
          "Benromach 15 Year Old",
          "Bowmore Feis Ile 2019 Cask #666",
          "GlenAllachie 2004 #6213",
          "GlenAllachie 2001 #4152",
          "Mortlach 15 Year Old - Game of Thrones Six Kingdoms",
          "Highland Park Esquire",
          "Dalwhinnie 30 Year Old Special Releases 2019",
          "Pittyvaich 29 Year Old Special Releases 2019",
          "Mortlach 26 Year Old Special Releases 2019",
          "Singleton of Glen Ord 18 Year Old Special Releases 2019",
          "Talisker 15 Year Old Special Releases 2019",
          "Cardhu 14 Year Old Special Releases 2019",
          "Macallan 50 Year Old",
          "Tamnavulin 33 Year Old The Stillman's Dram",
          "Laphroaig 25 Year Old Cask Strength",
          "Laphroaig 30 Year Old The Ian Hunter Story Book One",
          "Glengoyne 18 Year Old 20cl",
          "Glengoyne 15 Year Old 20cl",
          "Bruichladdich Black Art 7",
          "First Editions Ben Nevis 1996",
          "Glengoyne 30 Year Old 2018",
          "Littlemill 29 Year Old Private Cellar Edition 2019",
          "Ardbeg Traigh Bhan 19 Year Old",
          "anCnoc 16 Year Old 125th Anniversary",
          "Bowmore 15 Year Old 35cl",
          "Old Malt Cask Bowmore 17 Year Old",
          "Talisker 25 Year Old 2004",
          "Highland Park 26 Year Old Soren Solkaer",
          "Old Malt Cask Arran 21 Year Old",
          "Aultmore 21 Year Old",
          "BenRiach Batch 16 2005 #3791",
          "BenRiach Batch 16 1994 #6500",
          "BenRiach Batch 16 1993 #7881",
          "BenRiach Batch 16 1991 #1865",
          "BenRiach Batch 16 1985 #7214",
          "Jura 21 Year Old Tide",
          "Bunnahabhain Elements 39 Year Old",
          "Macallan 30 Year Old Sherry Oak (Old style)",
          "Glen Ord 25 Year Old",
          "North British 20 Year Old",
          "Benromach 1981",
          "Distiller's Art Royal Brackla 18 Year Old",
          "Glengoyne 21 Year Old",
          "Glenmorangie 15 Year Old Sauternes Wood Finish",
          "Loch Lomond 25 Year Old Triple Wood",
          "Loch Lomond 2004 Single Cask",
          "Balvenie A Day of Dark Barley 26 Year Old",
          "Fettercairn 50 Year Old",
          "Hazelburn 14 Year Old Oloroso Cask Matured 2019",
          "Old Malt Cask Bowmore 17 Year Old - Feis Ile 2019",
          "Arran Explorer Series II Lochranza Castle",
          "Old Malt Cask Glencadam 14 Year Old",
          "Old Malt Cask Glenburgie 19 Year Old",
          "Old Malt Cask Longmorn 15 Year Old",
          "GlenDronach 1992 26 Year Old The Whisky Shop Exclusive",
          "Highland Park Twisted Tattoo 16 Year Old",
          "Old Malt Cask Ben Nevis 22 Year Old",
          "Authors' Series Probably Speyside's Finest 1968 50 Year Old - Nathaniel Hawthorne",
          "Authors' Series Tormore 1988 30 Year Old - Charles Baudelaire",
          "Authors' Series Tullibardine 1993 25 Year Old - William Thackeray",
          "GlenDronach Master Vintage 1993 25 Year Old",
          "Balvenie 1999 DCS Chapter 4",
          "Inchmurrin 2001 Single Cask Exclusive",
          "The Singleton of Glen Ord 14 Year Old 2018 Special Release",
          "Macallan 26 Year Old Platinum Old & Rare",
          "Old Malt Cask Jura 28 Year Old",
          "Bruichladdich Black Art 6 & free glass",
          "Loch Lomond 50 Year Old",
          "The GlenDronach Kingsman Edition 1991 Vintage",
          "Macallan 1940 35 Year Old Fine & Rare",
          "Loch Lomond 2001 The Whisky Shop Exclusive Limousin Oak Cask",
          "Royal Salute 21 Year Old Gift Pack",
          "Glen Garioch 1998 Wine Cask Matured",
          "Blair Athol 19yo",
          "Balvenie 1972 DCS Chapter 2",
          "Aberfeldy 1991 The Whisky Shop Exclusive",
          "BenRiach 17 Year Old Pedro Ximenez Sherry Wood",
          "GlenDronach 14 Year Old Virgin Oak",
          "Benromach 35 Year Old",
          "BRUICHLADDICH THE LADDIE TWENTY TWO YEAR OLD",
          "anCnoc 1997",
          "Bowmore 50 year old",
          "Glendronach 19 year old Madeira Cask",
          "Balvenie 1968 DCM bottling 46 year old",
          "Pittyvaich 1989 25 year old Special Release 2015",
          "Dalwhinnie 1989 25 year old Special Release 2015",
          "Dailuaine 1980 34 year old Special Release 2015",
          "Caol Ila 17 year old  Special Release 2015",
          "The Cally 1974 'Caledonian' 40 Year Old 2015 Special Release",
          "Brora 1977 37 year old Special Release 2015",
          "Laphroaig 32 Year Old",
          "BenRiach 'Latada' 18 Year Old Peated Madeira  Finish",
          "Glendronach Octaves 20 Year Old",
          "Dalmore 30 Year Old",
          "Dalmore 21 year old",
          "Dimple 15 Year Old",
          "Cutty Sark 18 Year Old",
          "The Deveron 18 Years Old",
          "Royal Brackla 21 Years Old",
          "Royal Brackla 16 Years Old",
          "Chivas 18 Year Old Ice Drop Gift Pack",
          "Laphroaig 25 Year Old 2018",
          "Laphroaig 15 Year Old 200th Anniversary Bottling",
          "Ledaig 42 year old",
          "Rare Cask Reserves  Ghosted Reserve",
          "Highland Park Odin",
          "Auchentoshan 1965",
          "Laphroaig 1991",
          "Bruichladdich Black Art 4",
          "Laphroaig 18 Year Old",
          "Ladyburn 1974 40 year old",
          "BenRiach 35 year old",
          "Old Pulteney 40 year old",
          "Talisker 1985 27 year old",
          "Port Ellen 34 year old 13th Release",
          "Glenfarclas 1966 Fino Cask",
          "The Glenlivet 50 year old Winchester Collection 1964",
          "Benrinnes 21 year old 2014 Special Release",
          "Caol Ila 15 year old",
          "Cragganmore 25 Year Old 2014 Special Release",
          "Rosebank 21 Year Old 2014 Special Release",
          "The Singleton of Glendullan 38 year old 2014 Special Release",
          "Glenfiddich 19 Year Old Age of Discovery Bourbon Cask Reserve",
          "Springbank 18 year old Renegade",
          "Glenfiddich 15 Year Old Solera 5cl",
          "Auchentoshan 18 Year Old 5cl",
          "The Glenlivet 18 year old & 2 Glass Gift Pack",
          "The Grants Rare Cask Reserve Pack 25 year old 3 x 35cl",
          "Springbank 21 year old Renegade",
          "Kininvie 23 year old batch 2",
          "Whyte & Mackay 30 year old",
          "BenRiach 25 year old",
          "Arran 14 year old",
          "Aberlour 16 Year Old",
          "Whyte & Mackay 40 year old",
          "Tomintoul 27 year old",
          "Speyburn 25 year old",
          "Scapa 16 Year Old",
          "Royal Salute Diamond Jubilee",
          "Old Pulteney 30 year old",
          "Longmorn 16 year old",
          "Lagavulin 16 year old 20cl",
          "Isle of Jura 30 year old"
         ],
         "textfont": {
          "color": "#4D5663"
         },
         "type": "scatter",
         "x": [
          43,
          58.4,
          52.6,
          55.4,
          49.6,
          46,
          60.2,
          46.8,
          46,
          49.5,
          54,
          45.1,
          43,
          45.1,
          53.6,
          45,
          42.5,
          55.8,
          50,
          49.3,
          46.3,
          58.2,
          47,
          46,
          51.9,
          55.1,
          47,
          43,
          50.2,
          43,
          48.7,
          52.8,
          42.3,
          45.4,
          49,
          49.9,
          45.1,
          46,
          54.2,
          43.8,
          46,
          40,
          49.2,
          48,
          46,
          46,
          50.7,
          50.9,
          48.3,
          40,
          54.2,
          46,
          46,
          43,
          52.9,
          43,
          43,
          45.4,
          49.9,
          43,
          43,
          40,
          40,
          44.8,
          43,
          40,
          40,
          40,
          46,
          50.3,
          42,
          43,
          53.5,
          51.3,
          48.9,
          46,
          42,
          43,
          46,
          46,
          43,
          50,
          46,
          52,
          48.2,
          44,
          41.9,
          40,
          49.5,
          43,
          40,
          50,
          43,
          40,
          40,
          46,
          43.7,
          43,
          45.2,
          40,
          45.8,
          40,
          48.6,
          46,
          49.1,
          41.8,
          41.8,
          51.4,
          54.7,
          42.1,
          45.4,
          54.3,
          50.2,
          44.9,
          50,
          50,
          46.8,
          47.4,
          63.5,
          42,
          42,
          45,
          43,
          55.2,
          43,
          43,
          51.8,
          43,
          52.3,
          56.7,
          55.1,
          46,
          60.3,
          54.7,
          51.4,
          53.3,
          55,
          57.3,
          55,
          44,
          45,
          48.9,
          46.7,
          43,
          43,
          48.4,
          50,
          46.8,
          47.3,
          60.1,
          54.4,
          53.9,
          52.7,
          54.5,
          40.2,
          50.8,
          51.4,
          41.9,
          48.5,
          50,
          40,
          42.5,
          40,
          47.7,
          45.8,
          57.8,
          58.7,
          61.7,
          64.6,
          49.1,
          51.3,
          55.8,
          45.9,
          50.1,
          56.9,
          52.6,
          43,
          43,
          50.4,
          46.4,
          50,
          57.6,
          50.9,
          54.6,
          51.7,
          56.7,
          58.4,
          50.1,
          42,
          49,
          43,
          47.1,
          49.9,
          40.2,
          54.4,
          54.2,
          50.4,
          50.1,
          45.6,
          45.7,
          50.1,
          43.4,
          49.1,
          41.8,
          41.8,
          51.4,
          54.7,
          42.1,
          45.4,
          54.3,
          50.2,
          44.9,
          50,
          50,
          46.8,
          47.4,
          63.5,
          42,
          42,
          45,
          43,
          55.2,
          43,
          43,
          51.8,
          43,
          52.3,
          56.7,
          55.1,
          46,
          60.3,
          54.7,
          51.4,
          53.3,
          55,
          57.3,
          55,
          44,
          45,
          48.9,
          46.7,
          43,
          43,
          48.4,
          50,
          46.8,
          47.3,
          46.2,
          56.3,
          43,
          50,
          57.8,
          40.5,
          50,
          46,
          55.3,
          51.8,
          54.3,
          50.3,
          48.1,
          46.7,
          43.2,
          43,
          58.3,
          54.5,
          54.2,
          48,
          43,
          46,
          46.3,
          54.4,
          47.8,
          47.9,
          49.3,
          50,
          47.2,
          50,
          50,
          50,
          50,
          46.7,
          50,
          50.2,
          43,
          53.3,
          48.2,
          46.8,
          54.1,
          57.6,
          55.2,
          50,
          46.9,
          46.2,
          48.2,
          43,
          56.5,
          40,
          48,
          50,
          52.4,
          53.5,
          46,
          46,
          43,
          46,
          46,
          46,
          46,
          45.9,
          49.9,
          48.8,
          50.9,
          55.9,
          53.3,
          50.4,
          46.6,
          46,
          48,
          45,
          42,
          40,
          43,
          40,
          40,
          40,
          40,
          52,
          43,
          46.3,
          42,
          55.8,
          41.3,
          52.6,
          49.2,
          48,
          48.6,
          42.5,
          51.3,
          56.1,
          55,
          50.5,
          42.3,
          56.9,
          60.39,
          51.4,
          55.3,
          59.8,
          40,
          46,
          40,
          43,
          43,
          47,
          46,
          42.6,
          40,
          50,
          46,
          40,
          45,
          40,
          46,
          40,
          40,
          44,
          48,
          43,
          44
         ],
         "y": [
          178.57,
          885.71,
          171.43,
          421.36,
          3000,
          85.7,
          141.43,
          341.43,
          800,
          600,
          615.9,
          414.21,
          90,
          99992.86,
          387.98,
          385.71,
          12142.86,
          285.71,
          157.14,
          214.27,
          427.14,
          14214.29,
          714.29,
          207.14,
          785.71,
          157.14,
          285.71,
          357.14,
          45707.14,
          49992.86,
          371.43,
          107.14,
          155.71,
          1427.14,
          4564.29,
          9992.86,
          1535.71,
          95.71,
          355.71,
          5428.57,
          750,
          268.57,
          6428.57,
          357.14,
          138.57,
          607.14,
          4142.86,
          6428.57,
          78.36,
          117.14,
          185.71,
          148.5,
          114.29,
          857.07,
          892.86,
          49992.86,
          60714.29,
          48571.43,
          29992.86,
          4285.71,
          3571.43,
          132.86,
          714.29,
          514.29,
          220,
          135,
          69.93,
          108.57,
          300,
          228.57,
          9642.86,
          68.43,
          928.57,
          7714.29,
          4285.71,
          88.57,
          785.71,
          6785.71,
          139.93,
          84.14,
          284.29,
          3928.57,
          199.99,
          250,
          1928.57,
          107.14,
          3178.57,
          15714.29,
          2571.43,
          464.29,
          225,
          427.14,
          290,
          6428.57,
          407.14,
          428.57,
          1000,
          535.71,
          271.43,
          186.67,
          3928.57,
          173.33,
          328.57,
          125.71,
          442.86,
          1442.86,
          1442.86,
          571.43,
          407.14,
          1021.43,
          1021.43,
          692.86,
          457.14,
          800,
          228.57,
          214.29,
          850,
          642.86,
          1142.86,
          2850,
          39285.71,
          157.14,
          4142.86,
          357.14,
          91.41,
          507.14,
          385.71,
          100,
          3570,
          157.14,
          192.86,
          171.43,
          285.71,
          714.29,
          471.43,
          2142.86,
          185.71,
          157.14,
          171.43,
          119993.33,
          857.14,
          657.14,
          998.57,
          160,
          110,
          421.43,
          228.57,
          1000,
          3928.57,
          133.57,
          885.71,
          185.71,
          149.9,
          213.9,
          179.98,
          1214.29,
          284.29,
          190,
          201.9,
          190,
          1057.14,
          24142.86,
          319.98,
          279.98,
          264.29,
          135.71,
          135.71,
          157.14,
          157.14,
          342.86,
          142.86,
          142.86,
          535.71,
          1107.14,
          821.43,
          707.14,
          498.57,
          142.86,
          241.43,
          100,
          228.57,
          5000,
          9135.71,
          92.86,
          255.71,
          4278.57,
          428.57,
          1141.43,
          1250,
          185.71,
          195,
          371.43,
          485.71,
          1278.57,
          407.14,
          478.57,
          442.86,
          735.71,
          1442.86,
          400,
          528.57,
          1442.86,
          442.86,
          1442.86,
          1442.86,
          571.43,
          407.14,
          1021.43,
          1021.43,
          692.86,
          457.14,
          800,
          228.57,
          214.29,
          850,
          642.86,
          1142.86,
          2850,
          39285.71,
          157.14,
          4142.86,
          357.14,
          91.41,
          507.14,
          385.71,
          100,
          3570,
          157.14,
          192.86,
          171.43,
          285.71,
          714.29,
          471.43,
          2142.86,
          185.71,
          157.14,
          171.43,
          119993.33,
          857.14,
          657.14,
          998.57,
          160,
          110,
          421.43,
          228.57,
          1000,
          3928.57,
          241.43,
          142.86,
          105.71,
          271.43,
          850,
          785.71,
          255.71,
          257.14,
          157.14,
          328.57,
          357.14,
          428.57,
          850,
          228.57,
          17135.71,
          8571.43,
          628.57,
          178.57,
          428.57,
          170,
          214.29,
          320,
          357.14,
          157.14,
          892.86,
          25707.14,
          92.86,
          284.29,
          192.86,
          141.43,
          178.57,
          150,
          341.43,
          114.29,
          228.57,
          3928.57,
          607.14,
          564.29,
          357.14,
          1707.14,
          121.43,
          142.86,
          2628.57,
          250,
          400,
          17142.86,
          785.71,
          57142.86,
          121.43,
          192.86,
          207.14,
          197.14,
          21428.57,
          457.14,
          118.57,
          82.84,
          642.86,
          221.43,
          100,
          25000,
          140,
          27142.86,
          357.14,
          464.29,
          542.86,
          128.57,
          1142.86,
          2142.86,
          1071.43,
          128.57,
          525.71,
          2142.86,
          500,
          71.43,
          102.86,
          92.86,
          271.43,
          128.57,
          392.86,
          857.14,
          107.14,
          4571.43,
          500,
          500,
          6428.57,
          353.57,
          321.43,
          114.29,
          3710,
          642.86,
          2142.86,
          750,
          2857.14,
          1214.29,
          25714.29,
          342.86,
          107.14,
          427.14,
          428.57,
          1071.43,
          214.29,
          285.71,
          165,
          219.8,
          100,
          357.14,
          357.14,
          285.71,
          357.14,
          292.86,
          81.43,
          100,
          900,
          165.7,
          400,
          125.71,
          471.43,
          500,
          135.71,
          165,
          642.86
         ]
        },
        {
         "marker": {
          "color": "rgba(55, 128, 191, 1.0)",
          "line": {
           "width": 1.3
          },
          "opacity": 0.8,
          "size": 12,
          "symbol": "circle"
         },
         "mode": "markers",
         "name": "No Age Statement",
         "text": [
          "John Walker & Sons King George V",
          "Paul John Christmas Edition 2020",
          "Compass Box Magic Cask",
          "Johnnie Walker Blue Label Chinese New Year 2021 - Year of the Ox",
          "The Glenlivet 1986 33 Year Old Connoisseur's Choice",
          "Johnnie Walker Black Icon 200th Anniversary",
          "Johnnie Walker Gold Icon 200th Anniversary",
          "Glen Moray 2006 Sauternes Cask",
          "Drinks By The Dram Whisky Baubles",
          "Compass Box Peat Monster Arcana",
          "anCnoc 2007 #660",
          "Johnnie Walker Blue Label Glass Gift Set",
          "Johnnie Walker Black Label Glass Gift Set",
          "Johnnie Walker 18 Year Old Glass Gift Set",
          "Johnnie Walker Black Label Gift Tin",
          "Johnnie Walker Green Label Gift Set",
          "Johnnie Walker Gold Label Glass Gift Set",
          "Compass Box Spice Tree Extravaganza",
          "Compass Box Rogues Banquet",
          "Compass Box Juveniles",
          "Compass Box Flaming Heart",
          "Kilchoman Machir Bay Cask Strength Christmas Edition",
          "Arran Sauternes Cask Finish",
          "The Loch Fyne The Living Cask Batch 10",
          "Johnnie Walker Blue Label 200th Anniversary",
          "Ardbeg An Oa Smoker Gift Pack",
          "Bunnahabhain 2008 Manzanilla Cask",
          "Bunnahabhain 1997 Moine",
          "Macallan Exceptional Cask 1993 #3917",
          "Balvenie Tun 1509 Batch 7",
          "Pittyvaich 30 Year Old Special Releases 2020",
          "Bunnahabhain Cruach-Mhona",
          "Bunnahabhain Eirigh Na Greine",
          "Loch Lomond Wales Open & Celtic Classic Oloroso Cask",
          "Loch Lomond The English Open Sauternes Cask",
          "Loch Lomond British Masters Limousin Oak Cask",
          "Loch Lomond The English Championship Rum Cask",
          "Loch Lomond The UK Championship Tawny Port Cask",
          "Port Charlotte OLC: 01 2010 Heavily Peated",
          "The Glenlivet Spectra",
          "Teacher's Highland Cream",
          "Macallan Rare Cask 2020 Release",
          "Stylish Whisky Mini Nessie Decanter 10cl",
          "Stylish Whisky Mini Piper Decanter 10cl",
          "Johnnie Walker Blue Label Rare Side of Scotland",
          "Arran Quarter Cask The Bothy",
          "Robert Burns Malt Gift Pack",
          "Jura 1989",
          "Nectar Grove Batch Strength",
          "Glenrothes Whisky Maker's Cut",
          "Laphroaig Lore Gift Set",
          "Johnnie Walker Sweet Peat",
          "Dalmore Port Wood Reserve Gift Set",
          "Bruichladdich The Classic Laddie Scottish Barley Gift Pack",
          "Johnnie Walker Taster Gift Set 3x5cl",
          "Johnnie Walker Blue Label Ghost & Rare: Glenury Royal",
          "Compass Box The Circle",
          "Stylish Whisky Golf Club Decanter 20cl",
          "Pot Still Tap & 2 Glasses",
          "Auchentoshan Gift Pack 3x5cl",
          "Benromach Cask Strength 2009",
          "Kilchoman Twin Pack 2x20cl",
          "Kilchoman Sanaig 20cl",
          "Loch Lomond Single Grain",
          "Loch Lomond Signature",
          "Bruichladdich The Classic Laddie 20cl",
          "Longrow Peated",
          "Arbikie Highland Rye",
          "Kilchoman Sanaig",
          "Kilchoman Machir Bay",
          "Macallan Estate 2019",
          "Clynelish Reserve - Game of Thrones House Tyrell",
          "Kingsbarns Dream to Dram",
          "Compass Box The Spaniard",
          "Glenglassaugh Evolution",
          "Glen Moray Mastery",
          "Glenkeir Treasures Secret Islay",
          "Glen Scotia Victoriana",
          "Johnnie Walker Green Label",
          "The John Walker",
          "Glendronach Peated Cask",
          "Laphroaig Select",
          "Cragganmore Distillers Edition",
          "Johnnie Walker Blue Label 20cl",
          "Black Bottle",
          "Whyte & Mackay",
          "Johnnie Walker Red Label",
          "Glayva",
          "The Glenlivet Nadurra Oloroso Cask Finish",
          "Johnnie Walker Blenders' Batch Directors Edition 2016",
          "Aberlour Casg Annamh",
          "Compass Box Malt Whisky Collection",
          "Chivas Regal Mizunara",
          "Monkey Shoulder Smokey Monkey",
          "Johnnie Walker Blue Label Ghost & Rare: Port Ellen",
          "Glenfiddich Fire & Cane",
          "Ailsa Bay 1.2 Sweet Smoke",
          "Bruichladdich Classic Laddie Gift Pack",
          "Old Pulteney Huddart",
          "The Loch Fyne Chocolate & Orange Liqueur 5cl",
          "The Loch Fyne Blend 5cl",
          "Classic Malts Gentle Collection",
          "Classic Malts Coastal Collection",
          "Classic Malt Pack Strong 3 x 20cl",
          "Golf Ball on Tee with Tap",
          "Johnnie Walker Gold Label Reserve",
          "Johnnie Walker Blue Label",
          "Jura Seven Wood",
          "Bunnahabhain Toiteach A Dha",
          "Shackleton Blended Malt Scotch",
          "Bunnahabhain Stiuireadair",
          "Globe and 4 Glasses",
          "Macallan No 6 1824 Series",
          "Barrel and 2 Glasses",
          "Auchentoshan Gift Pack 3 x 20cl",
          "Barley Tap and 2 Glasses",
          "Glenfiddich IPA Experiment",
          "Glenglassaugh Octaves Classic",
          "Laphroaig Lore",
          "Old Pulteney 1983 Vintage",
          "The Lost Distillery Co. Lossit",
          "Ardbeg An Oa",
          "The Lost Distillery Co. Jericho",
          "Talisker Skye",
          "Robert Burns Malt",
          "Benromach Peat Smoke",
          "Laphroaig Quarter Cask",
          "Glen Moray Rhum Agricole",
          "Glenrothes Elders' Reserve 10cl",
          "Kilchoman UK Small Batch No.1",
          "Glenmorangie 1993 Burr Oak Reserve",
          "Game of Thrones Whisky Collection (Set of 9)",
          "Johnnie Walker Double Black Gift Set",
          "Bowmore Craftsmen's Collection Mashmen's Selection",
          "Macallan Decades Fifties",
          "Macallan Decades Forties",
          "Macallan Rare Cask Batch No.2 2019 Release",
          "Dalmore King Alexander III Gift Set",
          "1770 Peated No.1",
          "Old Pulteney 2006 #1448",
          "The Lost Distillery Co. Discovery Selection Gift Pack 3x5cl",
          "Balvenie Tun 1509 Batch 6",
          "Magnum Highland Cream Liqueur",
          "Macallan Edition No.5",
          "12 Drams of Christmas - Premium Whisky Selection Box",
          "12 Drams of Christmas - Whisky Selection Box",
          "Johnnie Walker Discover Gift Set 5x5cl",
          "Compass Box Myths & Legends III",
          "Compass Box Myths & Legends II",
          "Compass Box Myths & Legends I",
          "Jura Gift Pack 3x5cl",
          "Compass Box No Name No.2",
          "Drinks by the Dram Whisky Crackers",
          "GlenAllachie 2009 #3782",
          "GlenAllachie 2008 #3966",
          "GlenAllachie 2008 #1867",
          "GlenAllachie 2006 #111860",
          "GlenAllachie 2005 #5182",
          "GlenAllachie 1989 #6118",
          "Talisker Exploration Gift Set 3x5cl",
          "Macallan Distil Your World: London",
          "Jura The Loch",
          "Darkness Aultmore 22 Year Old 10358",
          "Arran Port Wood Cask Finish",
          "Laphroaig 30 Year Old The Ian Hunter Story Book Two",
          "Compass Box Hedonism Felicitas",
          "Character of Islay Tasting Set Pack",
          "Kilchoman 100% Islay 10th Edition",
          "Highland Park Cask Strength No.1",
          "Macallan Edition No.6",
          "Glenmorangie A Tale of Cake",
          "Macallan Exceptional Cask 1988 #3890",
          "Macallan Exceptional Cask 2002 #2340",
          "Bowmore Vault Edition 2",
          "The Scotch Whisky Advent Calendar (2020 Edition)",
          "Cragganmore 20 Year Old Special Releases 2020",
          "Dalmore Dominium - Travel Retail Exclusive",
          "Ardbeg 1978 Spirit Of Scotland",
          "Kilchoman Loch Gorm 2020",
          "Daftmill 2007 Winter Release",
          "Glenrothes 1992 2nd Edition",
          "Daftmill 2008 Summer Release",
          "Ardbeg 1977 Limited Edition",
          "Stylish Whisky Mini Golf Decanter 10cl",
          "Macallan Concept Number 1 2018",
          "Macallan Boutique Collection 2019",
          "Aberlour 1989 Dunnage Matured Millennium",
          "Octomore 10.4 Dialogos Virgin Oak",
          "Johnnie Walker Blue Label Year of the Rat",
          "The Loch Fyne The Living Cask Batch 9",
          "Glen Moray Rhum Agricole",
          "Glenrothes Elders' Reserve 10cl",
          "Kilchoman UK Small Batch No.1",
          "Glenmorangie 1993 Burr Oak Reserve",
          "Game of Thrones Whisky Collection (Set of 9)",
          "Johnnie Walker Double Black Gift Set",
          "Bowmore Craftsmen's Collection Mashmen's Selection",
          "Macallan Decades Fifties",
          "Macallan Decades Forties",
          "Macallan Rare Cask Batch No.2 2019 Release",
          "Dalmore King Alexander III Gift Set",
          "1770 Peated No.1",
          "Old Pulteney 2006 #1448",
          "The Lost Distillery Co. Discovery Selection Gift Pack 3x5cl",
          "Balvenie Tun 1509 Batch 6",
          "Magnum Highland Cream Liqueur",
          "Macallan Edition No.5",
          "12 Drams of Christmas - Premium Whisky Selection Box",
          "12 Drams of Christmas - Whisky Selection Box",
          "Johnnie Walker Discover Gift Set 5x5cl",
          "Compass Box Myths & Legends III",
          "Compass Box Myths & Legends II",
          "Compass Box Myths & Legends I",
          "Jura Gift Pack 3x5cl",
          "Compass Box No Name No.2",
          "Benromach Peat Smoke Sherry Cask Matured 2009",
          "Highland Park Valfather",
          "anCnoc Peat",
          "Old Pulteney 21 Year Old & 1989 Vintage Twin Pack",
          "Tullibardine 225 Sauternes Cask Finish",
          "GlenDronach Cask Strength Batch 6",
          "Speyburn Bradan Orach",
          "Port Charlotte Scottish Barley 20cl",
          "The Lost Distillery Co. Dalaruan",
          "Loch Lomond 2002 Cristie Kerr",
          "The Loch Fyne The Living Cask Batch 8",
          "Loch Lomond 2004 Colin Montgomerie Single Cask",
          "Loch Lomond Original",
          "Loch Lomond The Open Special Edition Distiller's Cut",
          "Chichibu Single Cask #5036",
          "Chichibu Single Cask #1700",
          "Glenkeir Treasures Secret Islay 10cl",
          "Glenkeir Treasures Secret Islay 20cl",
          "Piper Decanter",
          "Johnnie Walker Directors Blend 2012",
          "Glen Scotia 1999 Single Cask",
          "Usquaebach Reserve",
          "North British 1980",
          "Macallan Private Eye",
          "Stylish Whisky Globe Decanter 20cl",
          "Bruichladdich Islay Barley 20cl",
          "Connoisseur's Choice Glencadam 1991",
          "Macallan Genesis",
          "Port Charlotte MRC: 01 2010",
          "Kilchoman STR Cask Matured",
          "1770 Glasgow Single Malt",
          "Ardbeg Drum",
          "Loch Lomond The Open Special Edition Distiller's Cut Gift Pack",
          "Singleton of Glendullan Reserve - Game of Thrones House Tully",
          "Oban Bay Reserve - Game of Thrones The Night's Watch",
          "Cardhu Gold Reserve - Game of Thrones House Targaryen",
          "Dalwhinnie Winter's Frost - Game of Thrones House Stark",
          "Kilkerran Heavily Peated",
          "Game of Thrones Whisky Collection (Set of 8)",
          "Macallan Archival Series Folio 3",
          "Johnnie Walker Blue Label Year of the Pig Limited Edition",
          "Talisker Select Reserve - Game of Thrones House Greyjoy",
          "Compass Box Hedonism",
          "Balvenie DCS Chapter 5 Set",
          "Macallan Masters of Photography: Magnum Edition",
          "Glenkeir Treasures Gift Pack",
          "Balblair 1997 Single Cask The Whisky Shop Exclusive",
          "Jura Prophecy 20cl",
          "Johnnie Walker Blue Label Year of the Rooster Limited Edition",
          "Glenkeir Treasures Secret Highland",
          "Johnnie Walker Blue Label Winter Edition",
          "The Singleton of Dufftown Spey Cascade",
          "Bowmore Small Batch",
          "Auchentoshan American Oak",
          "The Glenlivet Cipher",
          "Glenmorangie Pride 1978",
          "Customer Favourites Gift Box",
          "The Whisky Shop 'The Best Of Islay' Gift Box",
          "Old Pulteney 1989",
          "Bell's Decanter 2012 - Robert Duff Bell",
          "Kilchoman Madeira Cask",
          "Drambuie Jacobite Collection",
          "JOHNNIE WALKER Blue Label Anniversary 60.5%",
          "Glenmorangie Milsean",
          "Royal Salute World Polo Edition",
          "Johnnie Walker Blue Label Year of the Monkey Limited Edition",
          "Jura 1977",
          "Highland Park 1968",
          "Highland Park 1970",
          "Octomore 7.3",
          "The Whisky Shop 'Tour of Scotland' gift box",
          "Glenfarclas 2000 Gift Box Set",
          "The Macallan M",
          "Bowmore Devil's Cask III 37.5cl",
          "Hankey Bannister",
          "Glenglassaugh Revival",
          "Glenkinchie Distillers Edition",
          "Glenrothes Select Reserve",
          "Cutty Sark Prohibition",
          "The Naked Grouse",
          "Octomore 7.1 Scottish Barley",
          "Ardbeg Perpetuum",
          "Dalmore Mckenzie",
          "Glenrothes Vintage Reserve",
          "anCnoc 1975",
          "Laphroaig Triple Wood & free glass",
          "Macallan Ruby",
          "Macallan Masters of Photography: Mario Testino Edition: Purple Print",
          "Macallan Masters of Photography: Mario Testino Edition: Green Print",
          "The Glenlivet Founder's Reserve",
          "Glenmorangie Tusail Private Edition",
          "Bowmore 1969",
          "Bowmore 1967",
          "Jura 1984 Vintage",
          "Glenmorangie The Taghta",
          "Scotland in a Box",
          "anCnoc Cutter",
          "Octomore 6.1 Scottish Barley",
          "Port Charlotte Islay Barley",
          "Kilchoman Original Cask Strength",
          "Clynelish Select Reserve 2014 Special Release",
          "Kilchoman Port Cask",
          "The Black Grouse",
          "Glenfarclas 1960",
          "Glenfarclas 1966",
          "Glenfarclas 1990",
          "Old Pulteney 1990 limited release",
          "Balvenie Tun 1509",
          "Glenfarclas 1996",
          "Glenfarclas 1985",
          "Glenfarclas 1984",
          "Glenfarclas 1982",
          "Glenfarclas 1975",
          "Glenfarclas 1974",
          "Glenfarclas 1973",
          "Glenfarclas 1972",
          "Glenfarclas 1969",
          "Glenfarclas 1967",
          "Glenfarclas 1965",
          "Glenfarclas 1964",
          "Glenfarclas 1963",
          "Glenfarclas 1962",
          "Glenfarclas 1961",
          "Glenfarclas 1958",
          "Glenfarclas 1957",
          "Glenfarclas 1954",
          "Jura Tastival Festival bottling",
          "Islay Mist Deluxe 5cl",
          "Famous Grouse",
          "Stag's Breath",
          "Columba Cream Liqueur",
          "World Miniature Gift Pack 4 x 5cl",
          "The Glenlivet Triple Pack 3 x 20cl",
          "Hankey Bannister Original",
          "Bruichladdich Islay Barley & free glass",
          "Old Pulteney Clipper",
          "The Glenlivet Guardians Chapter",
          "Premium Whisky Selection Gift Pack 4 x 5cl",
          "Jura The Collection 3x5cl",
          "Dailuaine 1997 Managers Choice",
          "Clynelish Distillers Edition",
          "Cardhu Special Cask Reserve",
          "Bowmore Gift Pack 3x20cl",
          "Vat 69",
          "Scottish Leader",
          "Lauder's",
          "Grand Macnish Finest",
          "Glenglassaugh Triple Pack 3 x 20cl",
          "Glenturret Triple Wood",
          "Talisker Pack 3 x 20cl",
          "Strathmill 1996 Managers Choice",
          "Royal Salute 100 Casks",
          "Royal Lochnagar Selected Reserve",
          "Robert Burns Blend",
          "Compass Box The Peat Monster",
          "Old Pulteney Navigator",
          "McClellands Islay Single Malt",
          "McClellands Lowland Single Malt",
          "McClellands Highland Single Malt",
          "Mannochmore 1998 Managers Choice",
          "Knockando 1996 Managers Choice",
          "Isle of Jura 1976"
         ],
         "textfont": {
          "color": "#4D5663"
         },
         "type": "scatter",
         "x": [
          43,
          46,
          46,
          40,
          47.5,
          40,
          40,
          59.6,
          45.5,
          46,
          53,
          40,
          40,
          40,
          40,
          40,
          40,
          46,
          46,
          46,
          48.9,
          58.6,
          50,
          43.6,
          40,
          46.6,
          52.3,
          50,
          51.4,
          52.4,
          50.8,
          50,
          46.3,
          52.3,
          54.7,
          55.1,
          55.2,
          53.4,
          55.1,
          40,
          40,
          43,
          40,
          40,
          40,
          56.2,
          43,
          53.5,
          54,
          48.8,
          48,
          40.8,
          46.5,
          50,
          40,
          43.8,
          46,
          40,
          40,
          40,
          57.2,
          40,
          46,
          46,
          40,
          50,
          46,
          46,
          46,
          46,
          43,
          51,
          46,
          43,
          50,
          52.3,
          40,
          54.2,
          43,
          40,
          46,
          40,
          40,
          40,
          40,
          40,
          40,
          35,
          60.7,
          40,
          48,
          40,
          40,
          40,
          43.8,
          43,
          48.9,
          50,
          46,
          40,
          40,
          40,
          40,
          40,
          40,
          40,
          40,
          42,
          46.3,
          40,
          46.3,
          40,
          43,
          40,
          40,
          40,
          43,
          44,
          48,
          46,
          43,
          46.6,
          43,
          45.8,
          43,
          46,
          48,
          46.3,
          43,
          48.3,
          56.3,
          40,
          40,
          55.7,
          40,
          40,
          43,
          40,
          46,
          51.4,
          40,
          50.4,
          17,
          48.5,
          40,
          40,
          40,
          46,
          46,
          46,
          40,
          48.9,
          43.8,
          59,
          56.6,
          52.3,
          58.6,
          57.6,
          51.1,
          40,
          57.5,
          44.5,
          50.2,
          50,
          48.2,
          53,
          45.3,
          50,
          63.3,
          48.6,
          46,
          51.7,
          57.8,
          50.1,
          40,
          55.8,
          43,
          56.9,
          46,
          46,
          44.3,
          46,
          46,
          40,
          40,
          52,
          40,
          63.5,
          40,
          43.6,
          46.3,
          43,
          48.3,
          56.3,
          40,
          40,
          55.7,
          40,
          40,
          43,
          40,
          46,
          51.4,
          40,
          50.4,
          17,
          48.5,
          40,
          40,
          40,
          46,
          46,
          46,
          40,
          48.9,
          59.9,
          47,
          46,
          46,
          43,
          56.1,
          40,
          50,
          43,
          48.1,
          43.6,
          51.2,
          40,
          46,
          59.1,
          62.4,
          40,
          40,
          40,
          43,
          58.4,
          43,
          60.3,
          40,
          40,
          50,
          46,
          45.5,
          59.2,
          50,
          46,
          46,
          46,
          40,
          43,
          40,
          43,
          59.3,
          40,
          43,
          40,
          45.8,
          43,
          40,
          44,
          40,
          51.4,
          46,
          40,
          40,
          40,
          40,
          40,
          40,
          48,
          47.4,
          40,
          40,
          46,
          40,
          50,
          40,
          60.5,
          46,
          40,
          43,
          46,
          45.6,
          48,
          63,
          40,
          58.5,
          44.5,
          56.7,
          40,
          46,
          43,
          43,
          50,
          40,
          59.5,
          47.4,
          46,
          40,
          44.2,
          48,
          43,
          46.6,
          46.6,
          40,
          46,
          40,
          40,
          44,
          46,
          40,
          46,
          57,
          50,
          59.2,
          54.9,
          55,
          40,
          45.2,
          50.6,
          48.6,
          46,
          47,
          57.6,
          44.2,
          47.1,
          49.6,
          44.5,
          42.7,
          48.6,
          45.6,
          56.2,
          55.6,
          51.8,
          46.4,
          47.4,
          45.3,
          41.7,
          41.7,
          50.3,
          46.7,
          44,
          40,
          40,
          19.8,
          17,
          40,
          40,
          40,
          50,
          46,
          48.7,
          40,
          40,
          58.6,
          46,
          40,
          40,
          40,
          40,
          40,
          40,
          40,
          40,
          40,
          60.1,
          40,
          43,
          40,
          46,
          46,
          40,
          40,
          40,
          59.1,
          58.5,
          46
         ],
         "y": [
          785.71,
          78.43,
          224.29,
          320,
          1228.57,
          45.7,
          74.29,
          114.21,
          221.94,
          107.07,
          134.29,
          227.13,
          42.86,
          120,
          42.86,
          61.36,
          65.64,
          131.36,
          264.21,
          135.64,
          171.43,
          67.13,
          56.79,
          90,
          278.57,
          69.93,
          214.27,
          528.56,
          9998.57,
          428.57,
          571.43,
          84.99,
          74.99,
          121.41,
          121.41,
          121.41,
          128.56,
          128.56,
          126.67,
          166.58,
          28.57,
          314.27,
          250,
          250,
          307.14,
          58.49,
          55.71,
          857.14,
          71.43,
          65.43,
          112.79,
          60,
          114.29,
          74.29,
          133.33,
          392.86,
          171.43,
          225,
          228.57,
          213.33,
          84.27,
          135,
          145,
          42.86,
          42.86,
          130,
          67.14,
          357.14,
          78.57,
          70,
          248.43,
          68.57,
          70,
          81.43,
          78.57,
          1285.71,
          110,
          104.29,
          70,
          3021.43,
          67.14,
          57.14,
          90,
          300,
          30,
          28.57,
          42.86,
          52,
          87.14,
          2995,
          67.07,
          166.67,
          74.29,
          64.29,
          377.14,
          61.43,
          85.71,
          74.29,
          71.43,
          140,
          140,
          73.32,
          66.65,
          83.33,
          228.57,
          74.29,
          214.29,
          84.29,
          54.14,
          57.14,
          48.5,
          228.57,
          4000,
          228.57,
          115,
          228.57,
          81.43,
          97.14,
          127.14,
          714.29,
          71.43,
          70,
          71.43,
          64.29,
          55.71,
          67.14,
          71.43,
          84.29,
          200,
          85.71,
          712.86,
          82.22,
          57.14,
          427.14,
          720,
          720,
          328.57,
          321.43,
          98,
          141.43,
          166.67,
          392.86,
          34.29,
          140.71,
          249.97,
          191.67,
          128,
          185.71,
          185.71,
          185.71,
          140,
          157.14,
          221.94,
          122.86,
          128.57,
          128.57,
          137.14,
          151.43,
          757.14,
          79.93,
          3757.14,
          64.29,
          175.9,
          57.13,
          1228.57,
          250,
          199.93,
          107.14,
          85.71,
          140.71,
          107.14,
          12855.71,
          1928.57,
          141.43,
          208.33,
          185.71,
          107.14,
          850,
          107.14,
          235.71,
          235.71,
          278.57,
          1357.14,
          250,
          321.43,
          570,
          141.43,
          228.57,
          307.14,
          90,
          84.29,
          200,
          85.71,
          712.86,
          82.22,
          57.14,
          427.14,
          720,
          720,
          328.57,
          321.43,
          98,
          141.43,
          166.67,
          392.86,
          34.29,
          140.71,
          249.97,
          191.67,
          128,
          185.71,
          185.71,
          185.71,
          140,
          157.14,
          84.29,
          85.71,
          114.29,
          428.57,
          85.71,
          90,
          34.27,
          120,
          71.43,
          357.14,
          90,
          114.29,
          35.71,
          78.57,
          2564.29,
          2564.29,
          120,
          120,
          228.57,
          3928.57,
          192.86,
          55.71,
          357.14,
          6428.57,
          225,
          140,
          210,
          4857.14,
          141.43,
          107.14,
          98,
          141.43,
          78.57,
          54.29,
          92.86,
          68.57,
          68.57,
          62.86,
          71.07,
          2571.43,
          278.43,
          68.57,
          104.29,
          17714.29,
          3857.14,
          166.67,
          200,
          125,
          314.29,
          100,
          321.43,
          50,
          55.71,
          47.14,
          157.14,
          3800,
          660,
          660,
          192.86,
          121.43,
          127.14,
          5000,
          3571.43,
          114.29,
          228.57,
          212.86,
          1011.23,
          4564.29,
          4135.71,
          235.71,
          700,
          114.29,
          5714.29,
          520,
          41.43,
          64.29,
          100,
          62.86,
          42.86,
          42.86,
          142.86,
          121.43,
          428.57,
          57.14,
          415.71,
          98.57,
          357.14,
          3164.29,
          3164.29,
          57.14,
          111.43,
          3000,
          3857.14,
          1071.43,
          98.57,
          191.67,
          104.29,
          141.43,
          92.86,
          98.57,
          714.29,
          110,
          40,
          6285.71,
          5712.86,
          485.71,
          235.71,
          321.43,
          485.71,
          1000,
          7857.14,
          1485.71,
          8428.57,
          5000,
          5000,
          3857.14,
          5712.86,
          5712.86,
          5712.86,
          5712.86,
          5712.86,
          7857.14,
          6285.71,
          10428.57,
          15500,
          12142.86,
          141.43,
          90,
          27.14,
          35.71,
          135,
          399.8,
          113.32,
          110,
          90,
          74.29,
          84.29,
          379.8,
          400,
          378.57,
          98.57,
          85.71,
          140,
          42.86,
          44.95,
          30,
          37.14,
          1700,
          67.14,
          82.83,
          424.29,
          400,
          421.43,
          40,
          49.93,
          71.43,
          42.86,
          42.86,
          42.86,
          371.43,
          491.43,
          791.41
         ]
        },
        {
         "marker": {
          "color": "rgba(50, 171, 96, 1.0)",
          "line": {
           "width": 1.3
          },
          "opacity": 0.8,
          "size": 12,
          "symbol": "circle"
         },
         "mode": "markers",
         "name": "0-12",
         "text": [
          "Benriach 2005 UK Exclusive Pedro Ximenez Cask #5278",
          "Black Bottle 10 Year Old",
          "Deanston 10 Year Old Bordeaux Red Wine Cask Finish",
          "Glenmorangie 12 Year Old Malaga",
          "Golden Cask Linkwood 12 Year Old",
          "Talisker 10 Year Old 20cl Hot Chocolate Gift Set",
          "Singleton of Dufftown 12 Year Old Tumbler Gift Set",
          "GlenAllachie 10 Year Old Cask Strength Batch 4",
          "Octomore 10 Year Old Dialogos 2009",
          "Octomore 11.3 Islay Barley",
          "Ardbeg Wee Beastie",
          "Glenmorangie 10 Year Old Original Giraffe Tin",
          "GlenAllachie 9 Year Old Rye Cask Finish",
          "Glen Scotia 11 Year Old Sherry Double Cask",
          "Darkness 8 Year Old",
          "Aerolite Lyndsay Islay 10 Year Old",
          "Dalmore 12 Year Old Sherry Cask Select",
          "Tobermory 12 Year Old 2007 Port Pipe Finish",
          "Benriach The Smoky Ten",
          "Benriach The Original Ten",
          "Benriach The Smoky Twelve",
          "Benriach The Twelve",
          "Cardhu 11 Year Old Special Releases 2020",
          "Lagavulin 12 Year Old Special Releases 2020",
          "Talisker 8 Year Old Special Releases 2020",
          "Laphroaig 10 Year Old Cask Strength 2020",
          "Glenallachie 2008 #508",
          "Glenkeir Treasures Twin Casks Secret Highland 11 Year Old",
          "Glenkeir Treasures Twin Casks Secret Speyside 9 Year Old",
          "Glen Scotia 2009 #784",
          "First Editions Blair Athol 2009",
          "Arran Sherry Cask The Bodega",
          "Singleton of Dufftown 12 Year Old Gift Set",
          "GlenAllachie 12 Year Old",
          "Jura Two-One-Two (212)",
          "Highland Park 12 Year Old",
          "Loch Lomond 12 Year Old Taster Pack",
          "Macallan 10 Year Old Sherry Oak",
          "Glencairn Whisky Glasses & Auchentoshan 20cl Gift Set",
          "Balvenie The Sweet Toast of American Oak 12 Year Old",
          "Whisky Works King of Trees 10 Year Old",
          "Tobermory 12 Year Old",
          "Balblair 12 Year Old",
          "Blairmhor 8 Year Old 35cl",
          "Knockando 12 year old",
          "The Glenlivet 12 Year Old",
          "Glenkinchie 12 year old 20cl",
          "Cragganmore 12 year old 20cl",
          "BenRiach 10 Year Old Curiositas",
          "Teaninich 10 Year Old",
          "Mannochmore 12 year old",
          "Mortlach 12 Year Old The Wee Witchie",
          "Benromach 2008 cask strength",
          "Port Charlotte 10 Year Old",
          "Macallan 12 Year Old Triple Cask",
          "Johnnie Walker Black Label",
          "Hazelburn 10 Year Old",
          "Macallan 12 Year Old Double Cask",
          "Jura 12 Year Old",
          "Caol Ila 12 Year Old 20cl",
          "Arran 10 Year Old",
          "Aberlour 12 Year Old",
          "First Editions Ardmore 2009 9 Year Old",
          "First Editions Dailuaine 2009 9 Year Old",
          "Macallan 12 Year Old Triple Cask Gift Box",
          "Old Malt Cask Craigellachie 11 Year Old",
          "Glenrothes 2004",
          "First Editions Glen Garioch 2008 10 Year Old",
          "BenRiach 10 Year Old Gift Set",
          "Talisker 10 Year Old Gift Set",
          "Jura 12 Year Old Gift Pack 2019",
          "Old Malt Cask Tobermory 12 Year Old",
          "First Editions Dalmore 2008 11 Year Old",
          "GlenAllachie 2008 #586",
          "GlenAllachie 2007 #3767 12 Year Old Single Cask",
          "GlenAllachie 2006 #6580",
          "Lagavulin 12 Year Old Special Releases 2019",
          "Cragganmore 12 Year Old Special Releases 2019",
          "Ardbeg 10 Year Old Ardbone Pack",
          "Glengoyne 10 Year Old 20cl",
          "Loch Lomond 12 Year Old Gift Pack",
          "Octomore 10.3 Dialogos 6 Year Old",
          "Octomore 10.1 Dialogos 5 Year Old",
          "First Editions Mortlach 2007 11 Year Old",
          "First Editions Caol Ila 2010 8 Year Old",
          "First Editions Craigellachie 2011 8 Year Old",
          "Port Charlotte 10 Year Old Gift Pack",
          "GlenDronach Cask Strength Batch 8",
          "The Loch Fyne Glentauchers 11 Year Old",
          "The Loch Fyne Aultmore 12 Year Old",
          "Bunnahabhain 2007 French Brandy Finish",
          "GlenAllachie 10 Year Old Cask Strength Batch 2",
          "Old Malt Cask Mortlach 13 Year Old",
          "First Editions Ben Nevis 2011 9 Year Old",
          "Darkness Benrinnes 13 Year Old Pedro Ximenez Cask",
          "First Editions Dailuaine 11 Year Old 2008",
          "First Editions Aultmore 10 Year Old 2010",
          "Glendronach 2006 13 Year Old #5538 UK Exclusive",
          "Octomore 11.1 Scottish Barley",
          "Glenallachie 11 Year Old Port Wood Finish",
          "Glenallachie 11 Year Old Mostcatel Finish",
          "The Loch Fyne Craigellachie 12 Year Old 2008",
          "GlenAllachie 10 Year Old Cask Strength Batch 3",
          "Golden Cask Bowmore 13 Year Old",
          "First Editions Talisker 2010 8 Year Old",
          "Macallan 12 Year Old Re-Awakening",
          "Loch Lomond 12 Year Old Open Edition",
          "GlenAllachie 13 Year Old Spirit of Speyside Festival 2020",
          "Glen Moray Madeira Cask Project",
          "Loch Lomond 2006 #18/550-12",
          "First Editions Deanston 2009",
          "Glenrothes 1984",
          "Macallan 12 Year Old Triple Cask Chinese New Year Twin Pack",
          "First Editions Ardmore 2009 9 Year Old",
          "First Editions Dailuaine 2009 9 Year Old",
          "Macallan 12 Year Old Triple Cask Gift Box",
          "Old Malt Cask Craigellachie 11 Year Old",
          "Glenrothes 2004",
          "First Editions Glen Garioch 2008 10 Year Old",
          "BenRiach 10 Year Old Gift Set",
          "Talisker 10 Year Old Gift Set",
          "Jura 12 Year Old Gift Pack 2019",
          "Old Malt Cask Tobermory 12 Year Old",
          "First Editions Dalmore 2008 11 Year Old",
          "GlenAllachie 2008 #586",
          "GlenAllachie 2007 #3767 12 Year Old Single Cask",
          "GlenAllachie 2006 #6580",
          "Lagavulin 12 Year Old Special Releases 2019",
          "Cragganmore 12 Year Old Special Releases 2019",
          "Ardbeg 10 Year Old Ardbone Pack",
          "Glengoyne 10 Year Old 20cl",
          "Loch Lomond 12 Year Old Gift Pack",
          "Octomore 10.3 Dialogos 6 Year Old",
          "Octomore 10.1 Dialogos 5 Year Old",
          "First Editions Mortlach 2007 11 Year Old",
          "First Editions Caol Ila 2010 8 Year Old",
          "First Editions Craigellachie 2011 8 Year Old",
          "Port Charlotte 10 Year Old Gift Pack",
          "GlenDronach Cask Strength Batch 8",
          "The Loch Fyne Glentauchers 11 Year Old",
          "The Loch Fyne Aultmore 12 Year Old",
          "Bunnahabhain 2007 French Brandy Finish",
          "GlenAllachie 10 Year Old Cask Strength Batch 2",
          "Laphroaig 10 Year Old Original Cask Strength",
          "First Editions Royal Brackla 2009",
          "Longrow 1992 10 Year Old",
          "Distiller's Art Braeval 13 Year Old",
          "Chivas Regal 12 Year Old Tim Little",
          "Hazelburn 12 Year Old",
          "First Editions Blair Athol 2010",
          "First Editions Mortlach 2009",
          "Ardmore 12 Year Old Port Wood Finish",
          "First Editions Benrinnes 2009",
          "First Editions Inchgower 2008 20cl",
          "First Editions Benrinnes 2010 8 Year Old 20cl",
          "First Editions Tullibardine 2008",
          "First Editions Bunnahabhain 2007 - 2018 Edition",
          "Arran Master of Distilling II",
          "Glenkeir Treasures Speyburn 10 Year Old 10cl",
          "Glenkeir Treasures Speyburn 10 Year Old 20cl",
          "Glenkeir Treasures Secret Speyside 8 Year Old 10cl",
          "Glenkeir Treasures Secret Speyside 8 Year Old 20cl",
          "Glenkeir Treasures Speyburn 10 Year Old",
          "Glenkeir Treasures Secret Speyside 8 Year Old",
          "BenRiach Batch 16 2012 #7825",
          "BenRiach Batch 16 2009 #6095",
          "BenRiach Batch 16 2008 #3085",
          "BenRiach Batch 16 2007 #3237",
          "BenRiach Batch 16 2008 #2506",
          "BenRiach Batch 16 2007 #7611",
          "BenRiach Batch 16 2005 #3435",
          "Kilchoman 2006 Vintage",
          "First Editions Tamdhu 2007",
          "Ballantine's 12 Year Old 1l",
          "First Editions Craigellachie 2006",
          "First Editions Benrinnes 2010",
          "Old Malt Cask Talisker 8 Year Old",
          "Glenmorangie 10 Year Old 150th Anniversary",
          "First Editions Craigellachie 2008 10 Year Old",
          "First Editions Inchgower 2008 10 Year Old",
          "GlenDronach Port Wood 10 Year Old",
          "GlenDronach 12 Year Old Walker Slater Pack",
          "Royal Lochnagar 12 Year Old - Game of Thrones House Baratheon",
          "Springbank 10 Year Old Local Barley",
          "Bruichladdich Uisge Luing 10 Year Old",
          "Old Malt Cask Mortlach 11 Year Old",
          "BenRiach 2005 Whisky Shop Exclusive",
          "Lagavulin 9 Year Old - Game of Thrones House Lannister",
          "Glenmorangie Original Gift Pack",
          "BenRiach 12 Year Old Sherry Wood",
          "First Editions Mortlach 2007 Manager's Special",
          "Bunnahabhain 12 year old Old Malt Cask",
          "First Editions Craigellachie 2008 Manager's Special",
          "Kilchoman 2007 Single Cask The Whisky Shop Exclusive",
          "First Editions Balmenach 10yo",
          "Glenkeir Treasures Aultmore 7 Year Old",
          "Glenkeir Treasures Glengoyne 9 Year Old",
          "Mortlach 8 year old GlenKeir Treasure",
          "Glenkeir Treasures Fettercairn 8 Year Old",
          "Glenkeir Treasures Craigellachie 9 Year Old",
          "Old Malt Cask Tamdhu 8 Year Old 20cl",
          "Longrow Red",
          "Laphroaig First Edition 11 year old",
          "Fettercairn 8 Year Old Douglas of Drumlanrig",
          "Glenkeir Treasures Dailuaine 6 Year Old",
          "Old Malt Cask Fettercairn 7 Year Old",
          "Old Malt Cask Craigellachie 12 Year Old 20cl",
          "Fettercairn 7 Year Old Old Malt Cask with glass gift pack",
          "Old Malt Cask Blair Athol 12 Year Old with Glass",
          "Inchgower 8 Year Old Douglas of Drumlanrig",
          "Glengoyne 8 Year Old",
          "Dalmore 12 Year Old With Whisky Stones",
          "Cutty Sark 12 Year Old",
          "The Deveron 12 Years Old",
          "Royal Brackla 12 Years Old",
          "Glenmorangie Original",
          "Aultmore 7 year old",
          "Royal Lochnagar 12 Year Old",
          "Glendronach The Hielan' 8 Years Old",
          "Laphroaig 10 year old & free glass",
          "Glendronach 2003 Whisky Shop Exclusive",
          "BenRiach 10th Anniversary 10 year old",
          "Glenkeir Treasures Inchgower 6 year old 10cl",
          "Octomore 6.3 Islay Barley 2009",
          "Lagavulin 12 Year Old 2014 Special Release",
          "Glenkeir Treasures Speyside 13 year old",
          "Glenmorangie Original 10 year old",
          "Singleton of Dufftown 12 Year Old 5cl",
          "Tobermory 10 Year Old 5cl",
          "Glenfarclas 10 year old 35cl",
          "Aberlour 10 Year Old",
          "Jura 10 year old 35cl",
          "Strathmill 12 year old",
          "Antiquary 12 year old",
          "Whyte & Mackay 13 year old",
          "Tobermory 10 year old",
          "Talisker 10 year old 20cl"
         ],
         "textfont": {
          "color": "#4D5663"
         },
         "type": "scatter",
         "x": [
          56.4,
          40,
          46.3,
          47.3,
          56,
          45.8,
          40,
          56.1,
          54.3,
          61.7,
          47.4,
          43,
          48,
          54.1,
          47.8,
          46,
          43,
          58.6,
          46,
          43,
          46,
          46,
          56,
          56.4,
          57.9,
          60.1,
          51.8,
          46,
          46,
          57.8,
          46,
          55.8,
          40,
          46,
          47.5,
          40,
          40,
          40,
          40,
          43,
          46.5,
          46.3,
          46,
          40,
          43,
          40,
          43,
          40,
          46,
          43,
          43,
          43.4,
          57,
          50,
          40,
          40,
          46,
          43,
          40,
          43,
          46,
          40,
          46,
          46,
          40,
          50,
          48.8,
          46,
          43,
          45.8,
          40,
          50,
          46,
          57.4,
          60.8,
          60.1,
          56.5,
          58.4,
          46,
          40,
          46,
          61.3,
          59.8,
          46,
          46,
          46,
          50,
          61,
          57.7,
          57.9,
          52.5,
          54.8,
          50,
          46,
          51.1,
          46,
          46,
          57.4,
          59.4,
          48,
          48,
          59,
          58.2,
          55.5,
          46,
          43,
          46,
          60.5,
          46.3,
          53.1,
          46,
          43,
          40,
          46,
          46,
          40,
          50,
          48.8,
          46,
          43,
          45.8,
          40,
          50,
          46,
          57.4,
          60.8,
          60.1,
          56.5,
          58.4,
          46,
          40,
          46,
          61.3,
          59.8,
          46,
          46,
          46,
          50,
          61,
          57.7,
          57.9,
          52.5,
          54.8,
          58.6,
          46,
          46,
          48,
          40,
          46,
          46,
          46,
          46,
          46,
          46,
          46,
          46,
          46,
          51.8,
          40,
          40,
          40,
          40,
          40,
          40,
          61.2,
          58.5,
          61.6,
          61.2,
          59.4,
          59.5,
          55,
          46,
          46,
          43,
          46,
          46,
          50,
          40,
          46,
          46,
          46,
          43,
          40,
          57.3,
          58.5,
          50,
          56,
          46,
          40,
          46,
          46,
          50,
          46,
          56.5,
          46,
          40,
          40,
          40,
          40,
          40,
          50,
          51.3,
          46,
          46,
          40,
          50,
          50,
          50,
          50,
          46,
          46,
          40,
          40,
          40,
          40,
          40,
          46,
          40,
          46,
          40,
          53.3,
          46,
          40,
          64,
          54.4,
          40,
          40,
          40,
          46.3,
          40,
          40,
          40,
          43,
          40,
          40,
          46.3,
          45.8
         ],
         "y": [
          142.79,
          41.41,
          85.71,
          114.21,
          97.13,
          109.5,
          58.56,
          91.43,
          228.57,
          250,
          55.71,
          57.13,
          84.27,
          85.64,
          71.41,
          64.27,
          98.57,
          142.86,
          55.64,
          52.79,
          61.29,
          55.5,
          121.43,
          178.57,
          128.57,
          110,
          128.5,
          140,
          136,
          92.86,
          100,
          75.64,
          54.21,
          67.14,
          128.57,
          57.14,
          173.33,
          428.57,
          210,
          71.43,
          107.14,
          71.43,
          74.29,
          54.29,
          64.29,
          57.14,
          125,
          125,
          67.14,
          82.86,
          82.86,
          71.43,
          85.7,
          88.57,
          100,
          62.86,
          82.86,
          72.84,
          64.29,
          140,
          64.29,
          68.57,
          98.57,
          98.57,
          100,
          128.57,
          92.86,
          100,
          42.84,
          57.14,
          64.29,
          131.43,
          111.43,
          121.43,
          135.71,
          142.86,
          157.14,
          121.43,
          74.29,
          95,
          71.43,
          250,
          181.43,
          121.43,
          150,
          100,
          88.57,
          105.71,
          150,
          160,
          155.71,
          87.14,
          138.57,
          100,
          133.9,
          117.14,
          100,
          200,
          178.57,
          89.99,
          89.99,
          160,
          87.14,
          138.57,
          151.41,
          1707.14,
          78.5,
          178.57,
          92.86,
          84.21,
          105.71,
          278.57,
          85.71,
          98.57,
          98.57,
          100,
          128.57,
          92.86,
          100,
          42.84,
          57.14,
          64.29,
          131.43,
          111.43,
          121.43,
          135.71,
          142.86,
          157.14,
          121.43,
          74.29,
          95,
          71.43,
          250,
          181.43,
          121.43,
          150,
          100,
          88.57,
          105.71,
          150,
          160,
          155.71,
          87.14,
          107.14,
          88.57,
          112.86,
          120,
          57.14,
          84.29,
          98.57,
          98.57,
          80,
          91.43,
          130,
          125,
          114.29,
          100,
          107.13,
          130,
          130,
          130,
          130,
          110,
          110,
          78.57,
          100,
          108.57,
          120,
          120,
          131.43,
          141.43,
          564.29,
          105.71,
          99,
          108.57,
          94.29,
          164.29,
          285.71,
          100,
          100,
          85.71,
          70,
          54.29,
          171.43,
          128.57,
          135.71,
          121.43,
          92.86,
          64.29,
          68.57,
          108.57,
          157.14,
          100,
          200,
          94.29,
          90,
          100,
          90,
          80,
          100,
          150,
          112.86,
          204.29,
          98.57,
          80,
          140,
          145,
          195,
          195,
          85.71,
          81.43,
          85.71,
          52.86,
          57.14,
          74.29,
          64.29,
          81.43,
          54.21,
          60,
          60,
          371.43,
          92.86,
          100,
          214.29,
          114.29,
          130,
          145,
          139.8,
          159.8,
          74.29,
          57.14,
          77.14,
          84.29,
          119.8,
          41.43,
          65.71,
          130
         ]
        },
        {
         "marker": {
          "color": "rgba(128, 0, 128, 1.0)",
          "line": {
           "width": 1.3
          },
          "opacity": 0.8,
          "size": 12,
          "symbol": "circle"
         },
         "mode": "markers",
         "name": "50+",
         "text": [
          "Gordon & MacPhail Glen Grant 1954 59 Year Old",
          "Gordon & MacPhail Mortlach 1949 51 Year Old",
          "Macallan Exceptional Single Cask 1950",
          "The Last Drop 56 Year Old",
          "Macallan 74 Year Old Red Collection",
          "Macallan 71 Year Old Red Collection",
          "Macallan 60 Year Old Red Collection",
          "Dalmore 51 Year Old",
          "Macallan 72 Year Old in Lalique",
          "Macallan 1946 56 Year Old (Cask 46/3M) Fine & Rare",
          "Macallan 1949 52 Year Old (Cask 935) Fine & Rare",
          "Lochside 52 Year Old Sovereign",
          "Bowmore 1957",
          "Glenglassaugh 51 year old"
         ],
         "textfont": {
          "color": "#4D5663"
         },
         "type": "scatter",
         "x": [
          40,
          40,
          53.4,
          47.2,
          42.6,
          41.6,
          43.4,
          40,
          42,
          44.3,
          41.1,
          48.1,
          42.1,
          41.7
         ],
         "y": [
          3571.43,
          5712.86,
          98571.43,
          5357.14,
          135714.29,
          127142.86,
          112857.14,
          98571.43,
          102857.14,
          57000,
          58571.43,
          1371.43,
          142857.14,
          7028.57
         ]
        }
       ],
       "layout": {
        "legend": {
         "bgcolor": "#F5F6F9",
         "font": {
          "color": "#4D5663"
         }
        },
        "paper_bgcolor": "#F5F6F9",
        "plot_bgcolor": "#F5F6F9",
        "template": {
         "data": {
          "bar": [
           {
            "error_x": {
             "color": "#2a3f5f"
            },
            "error_y": {
             "color": "#2a3f5f"
            },
            "marker": {
             "line": {
              "color": "#E5ECF6",
              "width": 0.5
             }
            },
            "type": "bar"
           }
          ],
          "barpolar": [
           {
            "marker": {
             "line": {
              "color": "#E5ECF6",
              "width": 0.5
             }
            },
            "type": "barpolar"
           }
          ],
          "carpet": [
           {
            "aaxis": {
             "endlinecolor": "#2a3f5f",
             "gridcolor": "white",
             "linecolor": "white",
             "minorgridcolor": "white",
             "startlinecolor": "#2a3f5f"
            },
            "baxis": {
             "endlinecolor": "#2a3f5f",
             "gridcolor": "white",
             "linecolor": "white",
             "minorgridcolor": "white",
             "startlinecolor": "#2a3f5f"
            },
            "type": "carpet"
           }
          ],
          "choropleth": [
           {
            "colorbar": {
             "outlinewidth": 0,
             "ticks": ""
            },
            "type": "choropleth"
           }
          ],
          "contour": [
           {
            "colorbar": {
             "outlinewidth": 0,
             "ticks": ""
            },
            "colorscale": [
             [
              0,
              "#0d0887"
             ],
             [
              0.1111111111111111,
              "#46039f"
             ],
             [
              0.2222222222222222,
              "#7201a8"
             ],
             [
              0.3333333333333333,
              "#9c179e"
             ],
             [
              0.4444444444444444,
              "#bd3786"
             ],
             [
              0.5555555555555556,
              "#d8576b"
             ],
             [
              0.6666666666666666,
              "#ed7953"
             ],
             [
              0.7777777777777778,
              "#fb9f3a"
             ],
             [
              0.8888888888888888,
              "#fdca26"
             ],
             [
              1,
              "#f0f921"
             ]
            ],
            "type": "contour"
           }
          ],
          "contourcarpet": [
           {
            "colorbar": {
             "outlinewidth": 0,
             "ticks": ""
            },
            "type": "contourcarpet"
           }
          ],
          "heatmap": [
           {
            "colorbar": {
             "outlinewidth": 0,
             "ticks": ""
            },
            "colorscale": [
             [
              0,
              "#0d0887"
             ],
             [
              0.1111111111111111,
              "#46039f"
             ],
             [
              0.2222222222222222,
              "#7201a8"
             ],
             [
              0.3333333333333333,
              "#9c179e"
             ],
             [
              0.4444444444444444,
              "#bd3786"
             ],
             [
              0.5555555555555556,
              "#d8576b"
             ],
             [
              0.6666666666666666,
              "#ed7953"
             ],
             [
              0.7777777777777778,
              "#fb9f3a"
             ],
             [
              0.8888888888888888,
              "#fdca26"
             ],
             [
              1,
              "#f0f921"
             ]
            ],
            "type": "heatmap"
           }
          ],
          "heatmapgl": [
           {
            "colorbar": {
             "outlinewidth": 0,
             "ticks": ""
            },
            "colorscale": [
             [
              0,
              "#0d0887"
             ],
             [
              0.1111111111111111,
              "#46039f"
             ],
             [
              0.2222222222222222,
              "#7201a8"
             ],
             [
              0.3333333333333333,
              "#9c179e"
             ],
             [
              0.4444444444444444,
              "#bd3786"
             ],
             [
              0.5555555555555556,
              "#d8576b"
             ],
             [
              0.6666666666666666,
              "#ed7953"
             ],
             [
              0.7777777777777778,
              "#fb9f3a"
             ],
             [
              0.8888888888888888,
              "#fdca26"
             ],
             [
              1,
              "#f0f921"
             ]
            ],
            "type": "heatmapgl"
           }
          ],
          "histogram": [
           {
            "marker": {
             "colorbar": {
              "outlinewidth": 0,
              "ticks": ""
             }
            },
            "type": "histogram"
           }
          ],
          "histogram2d": [
           {
            "colorbar": {
             "outlinewidth": 0,
             "ticks": ""
            },
            "colorscale": [
             [
              0,
              "#0d0887"
             ],
             [
              0.1111111111111111,
              "#46039f"
             ],
             [
              0.2222222222222222,
              "#7201a8"
             ],
             [
              0.3333333333333333,
              "#9c179e"
             ],
             [
              0.4444444444444444,
              "#bd3786"
             ],
             [
              0.5555555555555556,
              "#d8576b"
             ],
             [
              0.6666666666666666,
              "#ed7953"
             ],
             [
              0.7777777777777778,
              "#fb9f3a"
             ],
             [
              0.8888888888888888,
              "#fdca26"
             ],
             [
              1,
              "#f0f921"
             ]
            ],
            "type": "histogram2d"
           }
          ],
          "histogram2dcontour": [
           {
            "colorbar": {
             "outlinewidth": 0,
             "ticks": ""
            },
            "colorscale": [
             [
              0,
              "#0d0887"
             ],
             [
              0.1111111111111111,
              "#46039f"
             ],
             [
              0.2222222222222222,
              "#7201a8"
             ],
             [
              0.3333333333333333,
              "#9c179e"
             ],
             [
              0.4444444444444444,
              "#bd3786"
             ],
             [
              0.5555555555555556,
              "#d8576b"
             ],
             [
              0.6666666666666666,
              "#ed7953"
             ],
             [
              0.7777777777777778,
              "#fb9f3a"
             ],
             [
              0.8888888888888888,
              "#fdca26"
             ],
             [
              1,
              "#f0f921"
             ]
            ],
            "type": "histogram2dcontour"
           }
          ],
          "mesh3d": [
           {
            "colorbar": {
             "outlinewidth": 0,
             "ticks": ""
            },
            "type": "mesh3d"
           }
          ],
          "parcoords": [
           {
            "line": {
             "colorbar": {
              "outlinewidth": 0,
              "ticks": ""
             }
            },
            "type": "parcoords"
           }
          ],
          "pie": [
           {
            "automargin": true,
            "type": "pie"
           }
          ],
          "scatter": [
           {
            "marker": {
             "colorbar": {
              "outlinewidth": 0,
              "ticks": ""
             }
            },
            "type": "scatter"
           }
          ],
          "scatter3d": [
           {
            "line": {
             "colorbar": {
              "outlinewidth": 0,
              "ticks": ""
             }
            },
            "marker": {
             "colorbar": {
              "outlinewidth": 0,
              "ticks": ""
             }
            },
            "type": "scatter3d"
           }
          ],
          "scattercarpet": [
           {
            "marker": {
             "colorbar": {
              "outlinewidth": 0,
              "ticks": ""
             }
            },
            "type": "scattercarpet"
           }
          ],
          "scattergeo": [
           {
            "marker": {
             "colorbar": {
              "outlinewidth": 0,
              "ticks": ""
             }
            },
            "type": "scattergeo"
           }
          ],
          "scattergl": [
           {
            "marker": {
             "colorbar": {
              "outlinewidth": 0,
              "ticks": ""
             }
            },
            "type": "scattergl"
           }
          ],
          "scattermapbox": [
           {
            "marker": {
             "colorbar": {
              "outlinewidth": 0,
              "ticks": ""
             }
            },
            "type": "scattermapbox"
           }
          ],
          "scatterpolar": [
           {
            "marker": {
             "colorbar": {
              "outlinewidth": 0,
              "ticks": ""
             }
            },
            "type": "scatterpolar"
           }
          ],
          "scatterpolargl": [
           {
            "marker": {
             "colorbar": {
              "outlinewidth": 0,
              "ticks": ""
             }
            },
            "type": "scatterpolargl"
           }
          ],
          "scatterternary": [
           {
            "marker": {
             "colorbar": {
              "outlinewidth": 0,
              "ticks": ""
             }
            },
            "type": "scatterternary"
           }
          ],
          "surface": [
           {
            "colorbar": {
             "outlinewidth": 0,
             "ticks": ""
            },
            "colorscale": [
             [
              0,
              "#0d0887"
             ],
             [
              0.1111111111111111,
              "#46039f"
             ],
             [
              0.2222222222222222,
              "#7201a8"
             ],
             [
              0.3333333333333333,
              "#9c179e"
             ],
             [
              0.4444444444444444,
              "#bd3786"
             ],
             [
              0.5555555555555556,
              "#d8576b"
             ],
             [
              0.6666666666666666,
              "#ed7953"
             ],
             [
              0.7777777777777778,
              "#fb9f3a"
             ],
             [
              0.8888888888888888,
              "#fdca26"
             ],
             [
              1,
              "#f0f921"
             ]
            ],
            "type": "surface"
           }
          ],
          "table": [
           {
            "cells": {
             "fill": {
              "color": "#EBF0F8"
             },
             "line": {
              "color": "white"
             }
            },
            "header": {
             "fill": {
              "color": "#C8D4E3"
             },
             "line": {
              "color": "white"
             }
            },
            "type": "table"
           }
          ]
         },
         "layout": {
          "annotationdefaults": {
           "arrowcolor": "#2a3f5f",
           "arrowhead": 0,
           "arrowwidth": 1
          },
          "coloraxis": {
           "colorbar": {
            "outlinewidth": 0,
            "ticks": ""
           }
          },
          "colorscale": {
           "diverging": [
            [
             0,
             "#8e0152"
            ],
            [
             0.1,
             "#c51b7d"
            ],
            [
             0.2,
             "#de77ae"
            ],
            [
             0.3,
             "#f1b6da"
            ],
            [
             0.4,
             "#fde0ef"
            ],
            [
             0.5,
             "#f7f7f7"
            ],
            [
             0.6,
             "#e6f5d0"
            ],
            [
             0.7,
             "#b8e186"
            ],
            [
             0.8,
             "#7fbc41"
            ],
            [
             0.9,
             "#4d9221"
            ],
            [
             1,
             "#276419"
            ]
           ],
           "sequential": [
            [
             0,
             "#0d0887"
            ],
            [
             0.1111111111111111,
             "#46039f"
            ],
            [
             0.2222222222222222,
             "#7201a8"
            ],
            [
             0.3333333333333333,
             "#9c179e"
            ],
            [
             0.4444444444444444,
             "#bd3786"
            ],
            [
             0.5555555555555556,
             "#d8576b"
            ],
            [
             0.6666666666666666,
             "#ed7953"
            ],
            [
             0.7777777777777778,
             "#fb9f3a"
            ],
            [
             0.8888888888888888,
             "#fdca26"
            ],
            [
             1,
             "#f0f921"
            ]
           ],
           "sequentialminus": [
            [
             0,
             "#0d0887"
            ],
            [
             0.1111111111111111,
             "#46039f"
            ],
            [
             0.2222222222222222,
             "#7201a8"
            ],
            [
             0.3333333333333333,
             "#9c179e"
            ],
            [
             0.4444444444444444,
             "#bd3786"
            ],
            [
             0.5555555555555556,
             "#d8576b"
            ],
            [
             0.6666666666666666,
             "#ed7953"
            ],
            [
             0.7777777777777778,
             "#fb9f3a"
            ],
            [
             0.8888888888888888,
             "#fdca26"
            ],
            [
             1,
             "#f0f921"
            ]
           ]
          },
          "colorway": [
           "#636efa",
           "#EF553B",
           "#00cc96",
           "#ab63fa",
           "#FFA15A",
           "#19d3f3",
           "#FF6692",
           "#B6E880",
           "#FF97FF",
           "#FECB52"
          ],
          "font": {
           "color": "#2a3f5f"
          },
          "geo": {
           "bgcolor": "white",
           "lakecolor": "white",
           "landcolor": "#E5ECF6",
           "showlakes": true,
           "showland": true,
           "subunitcolor": "white"
          },
          "hoverlabel": {
           "align": "left"
          },
          "hovermode": "closest",
          "mapbox": {
           "style": "light"
          },
          "paper_bgcolor": "white",
          "plot_bgcolor": "#E5ECF6",
          "polar": {
           "angularaxis": {
            "gridcolor": "white",
            "linecolor": "white",
            "ticks": ""
           },
           "bgcolor": "#E5ECF6",
           "radialaxis": {
            "gridcolor": "white",
            "linecolor": "white",
            "ticks": ""
           }
          },
          "scene": {
           "xaxis": {
            "backgroundcolor": "#E5ECF6",
            "gridcolor": "white",
            "gridwidth": 2,
            "linecolor": "white",
            "showbackground": true,
            "ticks": "",
            "zerolinecolor": "white"
           },
           "yaxis": {
            "backgroundcolor": "#E5ECF6",
            "gridcolor": "white",
            "gridwidth": 2,
            "linecolor": "white",
            "showbackground": true,
            "ticks": "",
            "zerolinecolor": "white"
           },
           "zaxis": {
            "backgroundcolor": "#E5ECF6",
            "gridcolor": "white",
            "gridwidth": 2,
            "linecolor": "white",
            "showbackground": true,
            "ticks": "",
            "zerolinecolor": "white"
           }
          },
          "shapedefaults": {
           "line": {
            "color": "#2a3f5f"
           }
          },
          "ternary": {
           "aaxis": {
            "gridcolor": "white",
            "linecolor": "white",
            "ticks": ""
           },
           "baxis": {
            "gridcolor": "white",
            "linecolor": "white",
            "ticks": ""
           },
           "bgcolor": "#E5ECF6",
           "caxis": {
            "gridcolor": "white",
            "linecolor": "white",
            "ticks": ""
           }
          },
          "title": {
           "x": 0.05
          },
          "xaxis": {
           "automargin": true,
           "gridcolor": "white",
           "linecolor": "white",
           "ticks": "",
           "title": {
            "standoff": 15
           },
           "zerolinecolor": "white",
           "zerolinewidth": 2
          },
          "yaxis": {
           "automargin": true,
           "gridcolor": "white",
           "linecolor": "white",
           "ticks": "",
           "title": {
            "standoff": 15
           },
           "zerolinecolor": "white",
           "zerolinewidth": 2
          }
         }
        },
        "title": {
         "font": {
          "color": "#4D5663"
         },
         "text": "Alcohol Percentage and Price of Whisky  "
        },
        "xaxis": {
         "gridcolor": "#E1E5ED",
         "showgrid": true,
         "tickfont": {
          "color": "#4D5663"
         },
         "title": {
          "font": {
           "color": "#4D5663"
          },
          "text": "Alcohol Percentage"
         },
         "zerolinecolor": "#E1E5ED"
        },
        "yaxis": {
         "gridcolor": "#E1E5ED",
         "showgrid": true,
         "tickfont": {
          "color": "#4D5663"
         },
         "title": {
          "font": {
           "color": "#4D5663"
          },
          "text": "Price per Litre"
         },
         "zerolinecolor": "#E1E5ED"
        }
       }
      },
      "text/html": [
       "<div>                            <div id=\"09b7bc9a-05ad-4e68-b631-68a3c3f0daa1\" class=\"plotly-graph-div\" style=\"height:525px; width:100%;\"></div>            <script type=\"text/javascript\">                require([\"plotly\"], function(Plotly) {                    window.PLOTLYENV=window.PLOTLYENV || {};\n",
       "                    window.PLOTLYENV.BASE_URL='https://plot.ly';                                    if (document.getElementById(\"09b7bc9a-05ad-4e68-b631-68a3c3f0daa1\")) {                    Plotly.newPlot(                        \"09b7bc9a-05ad-4e68-b631-68a3c3f0daa1\",                        [{\"marker\": {\"color\": \"rgba(255, 153, 51, 1.0)\", \"line\": {\"width\": 1.3}, \"opacity\": 0.8, \"size\": 12, \"symbol\": \"circle\"}, \"mode\": \"markers\", \"name\": \"12-50\", \"text\": [\"Benromach 21 Year Old\", \"Balblair 1990 29 Year Old Connoisseur's Choice\", \"Benriach 2005 UK Exclusive Peated Rum Cask #7553\", \"Character of Islay Bowmore 18 Year Old Wind & Waves #11714\", \"The Singleton of Glen Ord 38 Year Old Epicurean Odyssey\", \"Glenmorangie Quinta Ruban Giraffe Tin\", \"GlenAllachie 2006 #6620\", \"Wemyss Malts Bunnahabhain 1990 28 Year Old Boat Captain's Brew\", \"Wemyss Malts Bowmore 1988 31 Year Old Candied Violets\", \"Glendronach 27 Year Old #182 Oloroso UK Exclusive Single Cask\", \"Darkness Caperdonich 23 Year Old 10188\", \"Bruichladdich Black Art 8\", \"Bowmore 15 Year Old Glass Gift Set\", \"Macallan 50 Year Old Red Collection\", \"Darkness Bowmore 17 Year Old Moscatel Cask Finish\", \"Deanston 1991 Muscat Cask Finish\", \"Fettercairn 46 Year Old\", \"Ledaig 21 Year Old 1998 Marsala Cask Finish\", \"Deanston 2002 Pinot Noir Cask\", \"Deanston 2002 Organic\", \"Tobermory 23 Year Old\", \"Macallan 1990 22 Year Old Fine & Rare #24706\", \"Loch Lomond 30 Year Old\", \"Loch Lomond 21 Year Old\", \"Dalwhinnie 30 Year Old Special Releases 2020\", \"Singleton 17 Year Old Special Releases 2020\", \"Fettercairn 22 Year Old\", \"Macallan 18 Year Old Double Cask\", \"Macallan 1954 47 Year Old Fine & Rare #1902\", \"Macallan 1940 37 Year Old Fine & Rare\", \"Balvenie The Edge of Burnhead Wood 19 Year Old\", \"Glen Scotia 14 Year Old Tawny Port Finish Campbeltown Malts Festival 2020\", \"Wemyss Malts Velvet Fig 25 Year Old\", \"Glenglassaugh 1978 40 Year Old #3060\", \"Old Malt Cask Ardbeg 32 Year Old 1967\", \"Ardbeg 1972 VELIER\", \"Dailuaine 46 Year Old Platinum Old & Rare\", \"GlenAllachie 15 Year Old\", \"Glendronach 1993 26 Year Old #7434\", \"Glen Scotia 45 Year Old\", \"Balblair 25 Year Old\", \"Glenfiddich Grand Cru 23 Year Old\", \"Brora 40 Year Old 200th Anniversary\", \"GlenAllachie 25 Year Old\", \"GlenAllachie 18 Year Old\", \"Old Pulteney 25 Year Old - 2019\", \"Talisker 41 Year Old\", \"Port Ellen 39 Year Old Untold Stories: The Spirit Safe\", \"Balvenie The Week of Peat 14 Year Old\", \"Johnnie Walker 18 Year Old\", \"Whisky Works Glaswegian 29 Year Old\", \"Balblair 18 Year Old\", \"Balblair 15 Year Old\", \"Glenmorangie Grand Vintage Malt 1991\", \"Springbank 1997 21 year old Authors Series - Oscar Wilde\", \"Macallan 1937 32 Year Old Fine & Rare\", \"Macallan 1938 31 Year Old Fine & Rare\", \"Macallan 1947 15 Year Old Fine & Rare\", \"Balvenie 1971 DCS Chapter 4\", \"Talisker 1953 24 Year Old Connoisseur's Choice\", \"Talisker 1952 21 Year Old Connoisseur's Choice\", \"Ballantine's Miltonduff 17 Year Old\", \"Glenfiddich 30 Year Old\", \"Glenglassaugh 30 Year Old\", \"Glenfiddich 18 Year Old 5cl\", \"Glenfiddich 15 Year Old Solera 20cl\", \"Singleton of Dufftown 15 Year Old\", \"Singleton of Dufftown 18 Year Old\", \"GlenDronach 18 Year Old 5cl\", \"Loch Lomond 19 Year Old Royal Portrush\", \"Dalmore 40 Year Old\", \"Benrinnes 15 Year Old\", \"Jura 1988\", \"The Last Drop Glenrothes 1968 Cask 13504\", \"Fettercairn 40 Year Old\", \"GlenDronach 15 Year Old Revival\", \"Fettercairn 28 Year Old\", \"Macallan 30 Year Old Sherry Oak 2020\", \"Old Pulteney 18 Year Old\", \"Old Pulteney 15 Year Old\", \"Glenfiddich Winter Storm Batch 2\", \"Talisker 40 Year Old\", \"BenRiach 21 Year Old\", \"The Tweeddale The Evolution\", \"Convalmore 32 Year Old 2017 Special Release\", \"Jura 18 Year Old\", \"Bunnahabhain 40 Year Old\", \"Dalmore 45 Year Old\", \"Bunnahabhain 1980 Canasta Cask Finish\", \"Macallan 18 Year Old Sherry Oak 2020\", \"Glenfiddich 21 Year Old 20cl\", \"Old Malt Cask Highland Park 19 Year Old\", \"Aberlour 18 Year Old\", \"Dalmore 35 Year Old\", \"Chivas Regal 25 year old\", \"Old Pulteney 25 Year Old\", \"Bruichladdich 1984 32 Year Old\", \"Glenfiddich 26 Year Old Excellence\", \"Highland Park Fire\", \"Inchmurrin Taster Pack\", \"Glenfiddich 40 Year Old\", \"Loch Lomond Taster Pack\", \"Inchmoan 1992\", \"anCnoc 18 Year Old\", \"Glen Garioch 31 Year Old Platinum Old & Rare\", \"Glenburgie 44 Year Old Platinum Old & Rare\", \"Dufftown 44 Year Old Platinum Old & Rare\", \"Cragganmore 30 Year Old Platinum Old & Rare\", \"Braes of Glenlivet 30 Year Old Platinum Old & Rare\", \"Benrinnes 40 Year Old Platinum Old & Rare\", \"Balmenach 40 Year Old Platinum Old & Rare\", \"Aultmore 37 Year Old Platinum Old & Rare\", \"Ardmore 31 Year Old Platinum Old & Rare\", \"Old and Rare Bunnahabhain 30 Year Old\", \"Old Malt Cask Ben Nevis 23 Year Old\", \"Old Malt Cask Longmorn 21 Year Old\", \"Glengoyne 28 Year Old\", \"Bunnahabhain 1988 Marsala Cask Finish\", \"Balvenie 2001 DCS Chapter 5\", \"Dalmore 1973 Gonzalez Byass\", \"The Balvenie 50 Year Old: Marriage 0197\", \"Glenrothes 1995\", \"Glenrothes 40 Year Old\", \"Auchentoshan 1996\", \"Bowmore 15 Year Old Gift Set\", \"Glenrothes 1988\", \"Glen Keith 26 Year Old Platinum Old & Rare\", \"Benromach 15 Year Old\", \"Bowmore Feis Ile 2019 Cask #666\", \"GlenAllachie 2004 #6213\", \"GlenAllachie 2001 #4152\", \"Mortlach 15 Year Old - Game of Thrones Six Kingdoms\", \"Highland Park Esquire\", \"Dalwhinnie 30 Year Old Special Releases 2019\", \"Pittyvaich 29 Year Old Special Releases 2019\", \"Mortlach 26 Year Old Special Releases 2019\", \"Singleton of Glen Ord 18 Year Old Special Releases 2019\", \"Talisker 15 Year Old Special Releases 2019\", \"Cardhu 14 Year Old Special Releases 2019\", \"Macallan 50 Year Old\", \"Tamnavulin 33 Year Old The Stillman's Dram\", \"Laphroaig 25 Year Old Cask Strength\", \"Laphroaig 30 Year Old The Ian Hunter Story Book One\", \"Glengoyne 18 Year Old 20cl\", \"Glengoyne 15 Year Old 20cl\", \"Bruichladdich Black Art 7\", \"First Editions Ben Nevis 1996\", \"Glengoyne 30 Year Old 2018\", \"Littlemill 29 Year Old Private Cellar Edition 2019\", \"Highland Park 2006 14 Year Old Connoisseur's Choice\", \"The Glenlivet 1990 30 Year Old Connoisseur's Choice\", \"Golden Cask Tomatin 20 Year Old\", \"Darkness Dailuaine 17 Year Old\", \"Darkness Auchroisk 20 Year Old\", \"Darkness Auchentoshan 26 Year Old\", \"Glen Scotia 30 Year Old\", \"GlenAllachie 21 Year Old Batch 1\", \"Darkness Allt A'Bhainne 23 Year Old 10358\", \"Darkness Linkwood 19 Year Old Pedro Ximenez Cask 10559\", \"The Loch Fyne Bunnahabhain 14 Year Old 2006\", \"John Walker & Sons 28 Year Old Bicentenary Blend\", \"Highland Park 50 Year Old\", \"Darkness Ardbeg 14 Year Old Pedro Xim\\u00e9nez Cask Finish #11723\", \"Darkness Ardbeg 14 Year Old Pedro Xim\\u00e9nez Cask Finish #10394\", \"Golden Cask Bunnahabhain 28 Year Old\", \"Golden Cask Tobermory 20 Year Old\", \"Golden Cask Dailuaine 18 Year Old\", \"Golden Cask Speyside 23 Year Old\", \"Golden Cask Macduff 23 Year Old\", \"Golden Cask Macduff 35 Year Old\", \"Golden Cask Braes of Glenlivet 21 Year Old\", \"Golden Cask Benrinnes 21 Year Old\", \"GlenAllachie 1989 29 Year Old #2588\", \"GlenDronach Kingsman Edition 1989 Vintage\", \"Mortlach 21 Year Old Special Releases 2020\", \"Ardbeg 1991 21 Year Old Single Cask Cadenhead's Authentic Collection\", \"Balvenie 17 Year Old Islay Cask\", \"Macallan 15 Year Old Double Cask\", \"Arran 21 Year Old Kildonan & Pladda Island - Explorer Series Vol. 3\", \"Fettercairn 16 Year Old\", \"Old Malt Cask Inchmurrin 23 Year Old\", \"Macallan Exceptional Single Cask 2019/ESB-5542/02\", \"Port Ellen 40 Year Old 9 Rogue Casks\", \"Inchmurrin 2004 #17/641-2\", \"Arran 1995 #217\", \"Macallan Exceptional Single Cask 2019/ESB-14/03\", \"Glendronach 1992 27 Year Old #5852\", \"Lagavulin 21 Year Old Jazz Festival 2019\", \"Dalmore 25 Year Old - 2019\", \"Invergordon 21 Year Old The Sovereign\", \"Bruichladdich 17 Year Old 1l\", \"Tullibardine 30 Year Old Platinum Old & Rare\", \"Tormore 31 Year Old Platinum Old & Rare\", \"Teaninich 43 Year Old Platinum Old & Rare\", \"Tamdhu 1989 30 Year Old Platinum Old & Rare\", \"Strathmill 33 Year Old Platinum Old & Rare\", \"Linkwood 30 Year Old Platinum Old & Rare\", \"Inchgower 37 Year Old Platinum Old & Rare\", \"Glen Elgin 44 Year Old Platinum Old & Rare\", \"Glentauchers 30 Year Old Platinum Old & Rare\", \"Glenrothes 31 Year Old Platinum Old & Rare\", \"Glenlossie 44 Year Old Platinum Old & Rare\", \"Glen Garioch 31 Year Old Platinum Old & Rare\", \"Glenburgie 44 Year Old Platinum Old & Rare\", \"Dufftown 44 Year Old Platinum Old & Rare\", \"Cragganmore 30 Year Old Platinum Old & Rare\", \"Braes of Glenlivet 30 Year Old Platinum Old & Rare\", \"Benrinnes 40 Year Old Platinum Old & Rare\", \"Balmenach 40 Year Old Platinum Old & Rare\", \"Aultmore 37 Year Old Platinum Old & Rare\", \"Ardmore 31 Year Old Platinum Old & Rare\", \"Old and Rare Bunnahabhain 30 Year Old\", \"Old Malt Cask Ben Nevis 23 Year Old\", \"Old Malt Cask Longmorn 21 Year Old\", \"Glengoyne 28 Year Old\", \"Bunnahabhain 1988 Marsala Cask Finish\", \"Balvenie 2001 DCS Chapter 5\", \"Dalmore 1973 Gonzalez Byass\", \"The Balvenie 50 Year Old: Marriage 0197\", \"Glenrothes 1995\", \"Glenrothes 40 Year Old\", \"Auchentoshan 1996\", \"Bowmore 15 Year Old Gift Set\", \"Glenrothes 1988\", \"Glen Keith 26 Year Old Platinum Old & Rare\", \"Benromach 15 Year Old\", \"Bowmore Feis Ile 2019 Cask #666\", \"GlenAllachie 2004 #6213\", \"GlenAllachie 2001 #4152\", \"Mortlach 15 Year Old - Game of Thrones Six Kingdoms\", \"Highland Park Esquire\", \"Dalwhinnie 30 Year Old Special Releases 2019\", \"Pittyvaich 29 Year Old Special Releases 2019\", \"Mortlach 26 Year Old Special Releases 2019\", \"Singleton of Glen Ord 18 Year Old Special Releases 2019\", \"Talisker 15 Year Old Special Releases 2019\", \"Cardhu 14 Year Old Special Releases 2019\", \"Macallan 50 Year Old\", \"Tamnavulin 33 Year Old The Stillman's Dram\", \"Laphroaig 25 Year Old Cask Strength\", \"Laphroaig 30 Year Old The Ian Hunter Story Book One\", \"Glengoyne 18 Year Old 20cl\", \"Glengoyne 15 Year Old 20cl\", \"Bruichladdich Black Art 7\", \"First Editions Ben Nevis 1996\", \"Glengoyne 30 Year Old 2018\", \"Littlemill 29 Year Old Private Cellar Edition 2019\", \"Ardbeg Traigh Bhan 19 Year Old\", \"anCnoc 16 Year Old 125th Anniversary\", \"Bowmore 15 Year Old 35cl\", \"Old Malt Cask Bowmore 17 Year Old\", \"Talisker 25 Year Old 2004\", \"Highland Park 26 Year Old Soren Solkaer\", \"Old Malt Cask Arran 21 Year Old\", \"Aultmore 21 Year Old\", \"BenRiach Batch 16 2005 #3791\", \"BenRiach Batch 16 1994 #6500\", \"BenRiach Batch 16 1993 #7881\", \"BenRiach Batch 16 1991 #1865\", \"BenRiach Batch 16 1985 #7214\", \"Jura 21 Year Old Tide\", \"Bunnahabhain Elements 39 Year Old\", \"Macallan 30 Year Old Sherry Oak (Old style)\", \"Glen Ord 25 Year Old\", \"North British 20 Year Old\", \"Benromach 1981\", \"Distiller's Art Royal Brackla 18 Year Old\", \"Glengoyne 21 Year Old\", \"Glenmorangie 15 Year Old Sauternes Wood Finish\", \"Loch Lomond 25 Year Old Triple Wood\", \"Loch Lomond 2004 Single Cask\", \"Balvenie A Day of Dark Barley 26 Year Old\", \"Fettercairn 50 Year Old\", \"Hazelburn 14 Year Old Oloroso Cask Matured 2019\", \"Old Malt Cask Bowmore 17 Year Old - Feis Ile 2019\", \"Arran Explorer Series II Lochranza Castle\", \"Old Malt Cask Glencadam 14 Year Old\", \"Old Malt Cask Glenburgie 19 Year Old\", \"Old Malt Cask Longmorn 15 Year Old\", \"GlenDronach 1992 26 Year Old The Whisky Shop Exclusive\", \"Highland Park Twisted Tattoo 16 Year Old\", \"Old Malt Cask Ben Nevis 22 Year Old\", \"Authors' Series Probably Speyside's Finest 1968 50 Year Old - Nathaniel Hawthorne\", \"Authors' Series Tormore 1988 30 Year Old - Charles Baudelaire\", \"Authors' Series Tullibardine 1993 25 Year Old - William Thackeray\", \"GlenDronach Master Vintage 1993 25 Year Old\", \"Balvenie 1999 DCS Chapter 4\", \"Inchmurrin 2001 Single Cask Exclusive\", \"The Singleton of Glen Ord 14 Year Old 2018 Special Release\", \"Macallan 26 Year Old Platinum Old & Rare\", \"Old Malt Cask Jura 28 Year Old\", \"Bruichladdich Black Art 6 & free glass\", \"Loch Lomond 50 Year Old\", \"The GlenDronach Kingsman Edition 1991 Vintage\", \"Macallan 1940 35 Year Old Fine & Rare\", \"Loch Lomond 2001 The Whisky Shop Exclusive Limousin Oak Cask\", \"Royal Salute 21 Year Old Gift Pack\", \"Glen Garioch 1998 Wine Cask Matured\", \"Blair Athol 19yo\", \"Balvenie 1972 DCS Chapter 2\", \"Aberfeldy 1991 The Whisky Shop Exclusive\", \"BenRiach 17 Year Old Pedro Ximenez Sherry Wood\", \"GlenDronach 14 Year Old Virgin Oak\", \"Benromach 35 Year Old\", \"BRUICHLADDICH THE LADDIE TWENTY TWO YEAR OLD\", \"anCnoc 1997\", \"Bowmore 50 year old\", \"Glendronach 19 year old Madeira Cask\", \"Balvenie 1968 DCM bottling 46 year old\", \"Pittyvaich 1989 25 year old Special Release 2015\", \"Dalwhinnie 1989 25 year old Special Release 2015\", \"Dailuaine 1980 34 year old Special Release 2015\", \"Caol Ila 17 year old  Special Release 2015\", \"The Cally 1974 'Caledonian' 40 Year Old 2015 Special Release\", \"Brora 1977 37 year old Special Release 2015\", \"Laphroaig 32 Year Old\", \"BenRiach 'Latada' 18 Year Old Peated Madeira  Finish\", \"Glendronach Octaves 20 Year Old\", \"Dalmore 30 Year Old\", \"Dalmore 21 year old\", \"Dimple 15 Year Old\", \"Cutty Sark 18 Year Old\", \"The Deveron 18 Years Old\", \"Royal Brackla 21 Years Old\", \"Royal Brackla 16 Years Old\", \"Chivas 18 Year Old Ice Drop Gift Pack\", \"Laphroaig 25 Year Old 2018\", \"Laphroaig 15 Year Old 200th Anniversary Bottling\", \"Ledaig 42 year old\", \"Rare Cask Reserves  Ghosted Reserve\", \"Highland Park Odin\", \"Auchentoshan 1965\", \"Laphroaig 1991\", \"Bruichladdich Black Art 4\", \"Laphroaig 18 Year Old\", \"Ladyburn 1974 40 year old\", \"BenRiach 35 year old\", \"Old Pulteney 40 year old\", \"Talisker 1985 27 year old\", \"Port Ellen 34 year old 13th Release\", \"Glenfarclas 1966 Fino Cask\", \"The Glenlivet 50 year old Winchester Collection 1964\", \"Benrinnes 21 year old 2014 Special Release\", \"Caol Ila 15 year old\", \"Cragganmore 25 Year Old 2014 Special Release\", \"Rosebank 21 Year Old 2014 Special Release\", \"The Singleton of Glendullan 38 year old 2014 Special Release\", \"Glenfiddich 19 Year Old Age of Discovery Bourbon Cask Reserve\", \"Springbank 18 year old Renegade\", \"Glenfiddich 15 Year Old Solera 5cl\", \"Auchentoshan 18 Year Old 5cl\", \"The Glenlivet 18 year old & 2 Glass Gift Pack\", \"The Grants Rare Cask Reserve Pack 25 year old 3 x 35cl\", \"Springbank 21 year old Renegade\", \"Kininvie 23 year old batch 2\", \"Whyte & Mackay 30 year old\", \"BenRiach 25 year old\", \"Arran 14 year old\", \"Aberlour 16 Year Old\", \"Whyte & Mackay 40 year old\", \"Tomintoul 27 year old\", \"Speyburn 25 year old\", \"Scapa 16 Year Old\", \"Royal Salute Diamond Jubilee\", \"Old Pulteney 30 year old\", \"Longmorn 16 year old\", \"Lagavulin 16 year old 20cl\", \"Isle of Jura 30 year old\"], \"textfont\": {\"color\": \"#4D5663\"}, \"type\": \"scatter\", \"x\": [43.0, 58.4, 52.6, 55.4, 49.6, 46.0, 60.2, 46.8, 46.0, 49.5, 54.0, 45.1, 43.0, 45.1, 53.6, 45.0, 42.5, 55.8, 50.0, 49.3, 46.3, 58.2, 47.0, 46.0, 51.9, 55.1, 47.0, 43.0, 50.2, 43.0, 48.7, 52.8, 42.3, 45.4, 49.0, 49.9, 45.1, 46.0, 54.2, 43.8, 46.0, 40.0, 49.2, 48.0, 46.0, 46.0, 50.7, 50.9, 48.3, 40.0, 54.2, 46.0, 46.0, 43.0, 52.9, 43.0, 43.0, 45.4, 49.9, 43.0, 43.0, 40.0, 40.0, 44.8, 43.0, 40.0, 40.0, 40.0, 46.0, 50.3, 42.0, 43.0, 53.5, 51.3, 48.9, 46.0, 42.0, 43.0, 46.0, 46.0, 43.0, 50.0, 46.0, 52.0, 48.2, 44.0, 41.9, 40.0, 49.5, 43.0, 40.0, 50.0, 43.0, 40.0, 40.0, 46.0, 43.7, 43.0, 45.2, 40.0, 45.8, 40.0, 48.6, 46.0, 49.1, 41.8, 41.8, 51.4, 54.7, 42.1, 45.4, 54.3, 50.2, 44.9, 50.0, 50.0, 46.8, 47.4, 63.5, 42.0, 42.0, 45.0, 43.0, 55.2, 43.0, 43.0, 51.8, 43.0, 52.3, 56.7, 55.1, 46.0, 60.3, 54.7, 51.4, 53.3, 55.0, 57.3, 55.0, 44.0, 45.0, 48.9, 46.7, 43.0, 43.0, 48.4, 50.0, 46.8, 47.3, 60.1, 54.4, 53.9, 52.7, 54.5, 40.2, 50.8, 51.4, 41.9, 48.5, 50.0, 40.0, 42.5, 40.0, 47.7, 45.8, 57.8, 58.7, 61.7, 64.6, 49.1, 51.3, 55.8, 45.9, 50.1, 56.9, 52.6, 43.0, 43.0, 50.4, 46.4, 50.0, 57.6, 50.9, 54.6, 51.7, 56.7, 58.4, 50.1, 42.0, 49.0, 43.0, 47.1, 49.9, 40.2, 54.4, 54.2, 50.4, 50.1, 45.6, 45.7, 50.1, 43.4, 49.1, 41.8, 41.8, 51.4, 54.7, 42.1, 45.4, 54.3, 50.2, 44.9, 50.0, 50.0, 46.8, 47.4, 63.5, 42.0, 42.0, 45.0, 43.0, 55.2, 43.0, 43.0, 51.8, 43.0, 52.3, 56.7, 55.1, 46.0, 60.3, 54.7, 51.4, 53.3, 55.0, 57.3, 55.0, 44.0, 45.0, 48.9, 46.7, 43.0, 43.0, 48.4, 50.0, 46.8, 47.3, 46.2, 56.3, 43.0, 50.0, 57.8, 40.5, 50.0, 46.0, 55.3, 51.8, 54.3, 50.3, 48.1, 46.7, 43.2, 43.0, 58.3, 54.5, 54.2, 48.0, 43.0, 46.0, 46.3, 54.4, 47.8, 47.9, 49.3, 50.0, 47.2, 50.0, 50.0, 50.0, 50.0, 46.7, 50.0, 50.2, 43.0, 53.3, 48.2, 46.8, 54.1, 57.6, 55.2, 50.0, 46.9, 46.2, 48.2, 43.0, 56.5, 40.0, 48.0, 50.0, 52.4, 53.5, 46.0, 46.0, 43.0, 46.0, 46.0, 46.0, 46.0, 45.9, 49.9, 48.8, 50.9, 55.9, 53.3, 50.4, 46.6, 46.0, 48.0, 45.0, 42.0, 40.0, 43.0, 40.0, 40.0, 40.0, 40.0, 52.0, 43.0, 46.3, 42.0, 55.8, 41.3, 52.6, 49.2, 48.0, 48.6, 42.5, 51.3, 56.1, 55.0, 50.5, 42.3, 56.9, 60.39, 51.4, 55.3, 59.8, 40.0, 46.0, 40.0, 43.0, 43.0, 47.0, 46.0, 42.6, 40.0, 50.0, 46.0, 40.0, 45.0, 40.0, 46.0, 40.0, 40.0, 44.0, 48.0, 43.0, 44.0], \"y\": [178.57, 885.71, 171.43, 421.36, 3000.0, 85.7, 141.43, 341.43, 800.0, 600.0, 615.9, 414.21, 90.0, 99992.86, 387.98, 385.71, 12142.86, 285.71, 157.14, 214.27, 427.14, 14214.29, 714.29, 207.14, 785.71, 157.14, 285.71, 357.14, 45707.14, 49992.86, 371.43, 107.14, 155.71, 1427.14, 4564.29, 9992.86, 1535.71, 95.71, 355.71, 5428.57, 750.0, 268.57, 6428.57, 357.14, 138.57, 607.14, 4142.86, 6428.57, 78.36, 117.14, 185.71, 148.5, 114.29, 857.07, 892.86, 49992.86, 60714.29, 48571.43, 29992.86, 4285.71, 3571.43, 132.86, 714.29, 514.29, 220.0, 135.0, 69.93, 108.57, 300.0, 228.57, 9642.86, 68.43, 928.57, 7714.29, 4285.71, 88.57, 785.71, 6785.71, 139.93, 84.14, 284.29, 3928.57, 199.99, 250.0, 1928.57, 107.14, 3178.57, 15714.29, 2571.43, 464.29, 225.0, 427.14, 290.0, 6428.57, 407.14, 428.57, 1000.0, 535.71, 271.43, 186.67, 3928.57, 173.33, 328.57, 125.71, 442.86, 1442.86, 1442.86, 571.43, 407.14, 1021.43, 1021.43, 692.86, 457.14, 800.0, 228.57, 214.29, 850.0, 642.86, 1142.86, 2850.0, 39285.71, 157.14, 4142.86, 357.14, 91.41, 507.14, 385.71, 100.0, 3570.0, 157.14, 192.86, 171.43, 285.71, 714.29, 471.43, 2142.86, 185.71, 157.14, 171.43, 119993.33, 857.14, 657.14, 998.57, 160.0, 110.0, 421.43, 228.57, 1000.0, 3928.57, 133.57, 885.71, 185.71, 149.9, 213.9, 179.98, 1214.29, 284.29, 190.0, 201.9, 190.0, 1057.14, 24142.86, 319.98, 279.98, 264.29, 135.71, 135.71, 157.14, 157.14, 342.86, 142.86, 142.86, 535.71, 1107.14, 821.43, 707.14, 498.57, 142.86, 241.43, 100.0, 228.57, 5000.0, 9135.71, 92.86, 255.71, 4278.57, 428.57, 1141.43, 1250.0, 185.71, 195.0, 371.43, 485.71, 1278.57, 407.14, 478.57, 442.86, 735.71, 1442.86, 400.0, 528.57, 1442.86, 442.86, 1442.86, 1442.86, 571.43, 407.14, 1021.43, 1021.43, 692.86, 457.14, 800.0, 228.57, 214.29, 850.0, 642.86, 1142.86, 2850.0, 39285.71, 157.14, 4142.86, 357.14, 91.41, 507.14, 385.71, 100.0, 3570.0, 157.14, 192.86, 171.43, 285.71, 714.29, 471.43, 2142.86, 185.71, 157.14, 171.43, 119993.33, 857.14, 657.14, 998.57, 160.0, 110.0, 421.43, 228.57, 1000.0, 3928.57, 241.43, 142.86, 105.71, 271.43, 850.0, 785.71, 255.71, 257.14, 157.14, 328.57, 357.14, 428.57, 850.0, 228.57, 17135.71, 8571.43, 628.57, 178.57, 428.57, 170.0, 214.29, 320.0, 357.14, 157.14, 892.86, 25707.14, 92.86, 284.29, 192.86, 141.43, 178.57, 150.0, 341.43, 114.29, 228.57, 3928.57, 607.14, 564.29, 357.14, 1707.14, 121.43, 142.86, 2628.57, 250.0, 400.0, 17142.86, 785.71, 57142.86, 121.43, 192.86, 207.14, 197.14, 21428.57, 457.14, 118.57, 82.84, 642.86, 221.43, 100.0, 25000.0, 140.0, 27142.86, 357.14, 464.29, 542.86, 128.57, 1142.86, 2142.86, 1071.43, 128.57, 525.71, 2142.86, 500.0, 71.43, 102.86, 92.86, 271.43, 128.57, 392.86, 857.14, 107.14, 4571.43, 500.0, 500.0, 6428.57, 353.57, 321.43, 114.29, 3710.0, 642.86, 2142.86, 750.0, 2857.14, 1214.29, 25714.29, 342.86, 107.14, 427.14, 428.57, 1071.43, 214.29, 285.71, 165.0, 219.8, 100.0, 357.14, 357.14, 285.71, 357.14, 292.86, 81.43, 100.0, 900.0, 165.7, 400.0, 125.71, 471.43, 500.0, 135.71, 165.0, 642.86]}, {\"marker\": {\"color\": \"rgba(55, 128, 191, 1.0)\", \"line\": {\"width\": 1.3}, \"opacity\": 0.8, \"size\": 12, \"symbol\": \"circle\"}, \"mode\": \"markers\", \"name\": \"No Age Statement\", \"text\": [\"John Walker & Sons King George V\", \"Paul John Christmas Edition 2020\", \"Compass Box Magic Cask\", \"Johnnie Walker Blue Label Chinese New Year 2021 - Year of the Ox\", \"The Glenlivet 1986 33 Year Old Connoisseur's Choice\", \"Johnnie Walker Black Icon 200th Anniversary\", \"Johnnie Walker Gold Icon 200th Anniversary\", \"Glen Moray 2006 Sauternes Cask\", \"Drinks By The Dram Whisky Baubles\", \"Compass Box Peat Monster Arcana\", \"anCnoc 2007 #660\", \"Johnnie Walker Blue Label Glass Gift Set\", \"Johnnie Walker Black Label Glass Gift Set\", \"Johnnie Walker 18 Year Old Glass Gift Set\", \"Johnnie Walker Black Label Gift Tin\", \"Johnnie Walker Green Label Gift Set\", \"Johnnie Walker Gold Label Glass Gift Set\", \"Compass Box Spice Tree Extravaganza\", \"Compass Box Rogues Banquet\", \"Compass Box Juveniles\", \"Compass Box Flaming Heart\", \"Kilchoman Machir Bay Cask Strength Christmas Edition\", \"Arran Sauternes Cask Finish\", \"The Loch Fyne The Living Cask Batch 10\", \"Johnnie Walker Blue Label 200th Anniversary\", \"Ardbeg An Oa Smoker Gift Pack\", \"Bunnahabhain 2008 Manzanilla Cask\", \"Bunnahabhain 1997 Moine\", \"Macallan Exceptional Cask 1993 #3917\", \"Balvenie Tun 1509 Batch 7\", \"Pittyvaich 30 Year Old Special Releases 2020\", \"Bunnahabhain Cruach-Mhona\", \"Bunnahabhain Eirigh Na Greine\", \"Loch Lomond Wales Open & Celtic Classic Oloroso Cask\", \"Loch Lomond The English Open Sauternes Cask\", \"Loch Lomond British Masters Limousin Oak Cask\", \"Loch Lomond The English Championship Rum Cask\", \"Loch Lomond The UK Championship Tawny Port Cask\", \"Port Charlotte OLC: 01 2010 Heavily Peated\", \"The Glenlivet Spectra\", \"Teacher's Highland Cream\", \"Macallan Rare Cask 2020 Release\", \"Stylish Whisky Mini Nessie Decanter 10cl\", \"Stylish Whisky Mini Piper Decanter 10cl\", \"Johnnie Walker Blue Label Rare Side of Scotland\", \"Arran Quarter Cask The Bothy\", \"Robert Burns Malt Gift Pack\", \"Jura 1989\", \"Nectar Grove Batch Strength\", \"Glenrothes Whisky Maker's Cut\", \"Laphroaig Lore Gift Set\", \"Johnnie Walker Sweet Peat\", \"Dalmore Port Wood Reserve Gift Set\", \"Bruichladdich The Classic Laddie Scottish Barley Gift Pack\", \"Johnnie Walker Taster Gift Set 3x5cl\", \"Johnnie Walker Blue Label Ghost & Rare: Glenury Royal\", \"Compass Box The Circle\", \"Stylish Whisky Golf Club Decanter 20cl\", \"Pot Still Tap & 2 Glasses\", \"Auchentoshan Gift Pack 3x5cl\", \"Benromach Cask Strength 2009\", \"Kilchoman Twin Pack 2x20cl\", \"Kilchoman Sanaig 20cl\", \"Loch Lomond Single Grain\", \"Loch Lomond Signature\", \"Bruichladdich The Classic Laddie 20cl\", \"Longrow Peated\", \"Arbikie Highland Rye\", \"Kilchoman Sanaig\", \"Kilchoman Machir Bay\", \"Macallan Estate 2019\", \"Clynelish Reserve - Game of Thrones House Tyrell\", \"Kingsbarns Dream to Dram\", \"Compass Box The Spaniard\", \"Glenglassaugh Evolution\", \"Glen Moray Mastery\", \"Glenkeir Treasures Secret Islay\", \"Glen Scotia Victoriana\", \"Johnnie Walker Green Label\", \"The John Walker\", \"Glendronach Peated Cask\", \"Laphroaig Select\", \"Cragganmore Distillers Edition\", \"Johnnie Walker Blue Label 20cl\", \"Black Bottle\", \"Whyte & Mackay\", \"Johnnie Walker Red Label\", \"Glayva\", \"The Glenlivet Nadurra Oloroso Cask Finish\", \"Johnnie Walker Blenders' Batch Directors Edition 2016\", \"Aberlour Casg Annamh\", \"Compass Box Malt Whisky Collection\", \"Chivas Regal Mizunara\", \"Monkey Shoulder Smokey Monkey\", \"Johnnie Walker Blue Label Ghost & Rare: Port Ellen\", \"Glenfiddich Fire & Cane\", \"Ailsa Bay 1.2 Sweet Smoke\", \"Bruichladdich Classic Laddie Gift Pack\", \"Old Pulteney Huddart\", \"The Loch Fyne Chocolate & Orange Liqueur 5cl\", \"The Loch Fyne Blend 5cl\", \"Classic Malts Gentle Collection\", \"Classic Malts Coastal Collection\", \"Classic Malt Pack Strong 3 x 20cl\", \"Golf Ball on Tee with Tap\", \"Johnnie Walker Gold Label Reserve\", \"Johnnie Walker Blue Label\", \"Jura Seven Wood\", \"Bunnahabhain Toiteach A Dha\", \"Shackleton Blended Malt Scotch\", \"Bunnahabhain Stiuireadair\", \"Globe and 4 Glasses\", \"Macallan No 6 1824 Series\", \"Barrel and 2 Glasses\", \"Auchentoshan Gift Pack 3 x 20cl\", \"Barley Tap and 2 Glasses\", \"Glenfiddich IPA Experiment\", \"Glenglassaugh Octaves Classic\", \"Laphroaig Lore\", \"Old Pulteney 1983 Vintage\", \"The Lost Distillery Co. Lossit\", \"Ardbeg An Oa\", \"The Lost Distillery Co. Jericho\", \"Talisker Skye\", \"Robert Burns Malt\", \"Benromach Peat Smoke\", \"Laphroaig Quarter Cask\", \"Glen Moray Rhum Agricole\", \"Glenrothes Elders' Reserve 10cl\", \"Kilchoman UK Small Batch No.1\", \"Glenmorangie 1993 Burr Oak Reserve\", \"Game of Thrones Whisky Collection (Set of 9)\", \"Johnnie Walker Double Black Gift Set\", \"Bowmore Craftsmen's Collection Mashmen's Selection\", \"Macallan Decades Fifties\", \"Macallan Decades Forties\", \"Macallan Rare Cask Batch No.2 2019 Release\", \"Dalmore King Alexander III Gift Set\", \"1770 Peated No.1\", \"Old Pulteney 2006 #1448\", \"The Lost Distillery Co. Discovery Selection Gift Pack 3x5cl\", \"Balvenie Tun 1509 Batch 6\", \"Magnum Highland Cream Liqueur\", \"Macallan Edition No.5\", \"12 Drams of Christmas - Premium Whisky Selection Box\", \"12 Drams of Christmas - Whisky Selection Box\", \"Johnnie Walker Discover Gift Set 5x5cl\", \"Compass Box Myths & Legends III\", \"Compass Box Myths & Legends II\", \"Compass Box Myths & Legends I\", \"Jura Gift Pack 3x5cl\", \"Compass Box No Name No.2\", \"Drinks by the Dram Whisky Crackers\", \"GlenAllachie 2009 #3782\", \"GlenAllachie 2008 #3966\", \"GlenAllachie 2008 #1867\", \"GlenAllachie 2006 #111860\", \"GlenAllachie 2005 #5182\", \"GlenAllachie 1989 #6118\", \"Talisker Exploration Gift Set 3x5cl\", \"Macallan Distil Your World: London\", \"Jura The Loch\", \"Darkness Aultmore 22 Year Old 10358\", \"Arran Port Wood Cask Finish\", \"Laphroaig 30 Year Old The Ian Hunter Story Book Two\", \"Compass Box Hedonism Felicitas\", \"Character of Islay Tasting Set Pack\", \"Kilchoman 100% Islay 10th Edition\", \"Highland Park Cask Strength No.1\", \"Macallan Edition No.6\", \"Glenmorangie A Tale of Cake\", \"Macallan Exceptional Cask 1988 #3890\", \"Macallan Exceptional Cask 2002 #2340\", \"Bowmore Vault Edition 2\", \"The Scotch Whisky Advent Calendar (2020 Edition)\", \"Cragganmore 20 Year Old Special Releases 2020\", \"Dalmore Dominium - Travel Retail Exclusive\", \"Ardbeg 1978 Spirit Of Scotland\", \"Kilchoman Loch Gorm 2020\", \"Daftmill 2007 Winter Release\", \"Glenrothes 1992 2nd Edition\", \"Daftmill 2008 Summer Release\", \"Ardbeg 1977 Limited Edition\", \"Stylish Whisky Mini Golf Decanter 10cl\", \"Macallan Concept Number 1 2018\", \"Macallan Boutique Collection 2019\", \"Aberlour 1989 Dunnage Matured Millennium\", \"Octomore 10.4 Dialogos Virgin Oak\", \"Johnnie Walker Blue Label Year of the Rat\", \"The Loch Fyne The Living Cask Batch 9\", \"Glen Moray Rhum Agricole\", \"Glenrothes Elders' Reserve 10cl\", \"Kilchoman UK Small Batch No.1\", \"Glenmorangie 1993 Burr Oak Reserve\", \"Game of Thrones Whisky Collection (Set of 9)\", \"Johnnie Walker Double Black Gift Set\", \"Bowmore Craftsmen's Collection Mashmen's Selection\", \"Macallan Decades Fifties\", \"Macallan Decades Forties\", \"Macallan Rare Cask Batch No.2 2019 Release\", \"Dalmore King Alexander III Gift Set\", \"1770 Peated No.1\", \"Old Pulteney 2006 #1448\", \"The Lost Distillery Co. Discovery Selection Gift Pack 3x5cl\", \"Balvenie Tun 1509 Batch 6\", \"Magnum Highland Cream Liqueur\", \"Macallan Edition No.5\", \"12 Drams of Christmas - Premium Whisky Selection Box\", \"12 Drams of Christmas - Whisky Selection Box\", \"Johnnie Walker Discover Gift Set 5x5cl\", \"Compass Box Myths & Legends III\", \"Compass Box Myths & Legends II\", \"Compass Box Myths & Legends I\", \"Jura Gift Pack 3x5cl\", \"Compass Box No Name No.2\", \"Benromach Peat Smoke Sherry Cask Matured 2009\", \"Highland Park Valfather\", \"anCnoc Peat\", \"Old Pulteney 21 Year Old & 1989 Vintage Twin Pack\", \"Tullibardine 225 Sauternes Cask Finish\", \"GlenDronach Cask Strength Batch 6\", \"Speyburn Bradan Orach\", \"Port Charlotte Scottish Barley 20cl\", \"The Lost Distillery Co. Dalaruan\", \"Loch Lomond 2002 Cristie Kerr\", \"The Loch Fyne The Living Cask Batch 8\", \"Loch Lomond 2004 Colin Montgomerie Single Cask\", \"Loch Lomond Original\", \"Loch Lomond The Open Special Edition Distiller's Cut\", \"Chichibu Single Cask #5036\", \"Chichibu Single Cask #1700\", \"Glenkeir Treasures Secret Islay 10cl\", \"Glenkeir Treasures Secret Islay 20cl\", \"Piper Decanter\", \"Johnnie Walker Directors Blend 2012\", \"Glen Scotia 1999 Single Cask\", \"Usquaebach Reserve\", \"North British 1980\", \"Macallan Private Eye\", \"Stylish Whisky Globe Decanter 20cl\", \"Bruichladdich Islay Barley 20cl\", \"Connoisseur's Choice Glencadam 1991\", \"Macallan Genesis\", \"Port Charlotte MRC: 01 2010\", \"Kilchoman STR Cask Matured\", \"1770 Glasgow Single Malt\", \"Ardbeg Drum\", \"Loch Lomond The Open Special Edition Distiller's Cut Gift Pack\", \"Singleton of Glendullan Reserve - Game of Thrones House Tully\", \"Oban Bay Reserve - Game of Thrones The Night's Watch\", \"Cardhu Gold Reserve - Game of Thrones House Targaryen\", \"Dalwhinnie Winter's Frost - Game of Thrones House Stark\", \"Kilkerran Heavily Peated\", \"Game of Thrones Whisky Collection (Set of 8)\", \"Macallan Archival Series Folio 3\", \"Johnnie Walker Blue Label Year of the Pig Limited Edition\", \"Talisker Select Reserve - Game of Thrones House Greyjoy\", \"Compass Box Hedonism\", \"Balvenie DCS Chapter 5 Set\", \"Macallan Masters of Photography: Magnum Edition\", \"Glenkeir Treasures Gift Pack\", \"Balblair 1997 Single Cask The Whisky Shop Exclusive\", \"Jura Prophecy 20cl\", \"Johnnie Walker Blue Label Year of the Rooster Limited Edition\", \"Glenkeir Treasures Secret Highland\", \"Johnnie Walker Blue Label Winter Edition\", \"The Singleton of Dufftown Spey Cascade\", \"Bowmore Small Batch\", \"Auchentoshan American Oak\", \"The Glenlivet Cipher\", \"Glenmorangie Pride 1978\", \"Customer Favourites Gift Box\", \"The Whisky Shop 'The Best Of Islay' Gift Box\", \"Old Pulteney 1989\", \"Bell's Decanter 2012 - Robert Duff Bell\", \"Kilchoman Madeira Cask\", \"Drambuie Jacobite Collection\", \"JOHNNIE WALKER Blue Label Anniversary 60.5%\", \"Glenmorangie Milsean\", \"Royal Salute World Polo Edition\", \"Johnnie Walker Blue Label Year of the Monkey Limited Edition\", \"Jura 1977\", \"Highland Park 1968\", \"Highland Park 1970\", \"Octomore 7.3\", \"The Whisky Shop 'Tour of Scotland' gift box\", \"Glenfarclas 2000 Gift Box Set\", \"The Macallan M\", \"Bowmore Devil's Cask III 37.5cl\", \"Hankey Bannister\", \"Glenglassaugh Revival\", \"Glenkinchie Distillers Edition\", \"Glenrothes Select Reserve\", \"Cutty Sark Prohibition\", \"The Naked Grouse\", \"Octomore 7.1 Scottish Barley\", \"Ardbeg Perpetuum\", \"Dalmore Mckenzie\", \"Glenrothes Vintage Reserve\", \"anCnoc 1975\", \"Laphroaig Triple Wood & free glass\", \"Macallan Ruby\", \"Macallan Masters of Photography: Mario Testino Edition: Purple Print\", \"Macallan Masters of Photography: Mario Testino Edition: Green Print\", \"The Glenlivet Founder's Reserve\", \"Glenmorangie Tusail Private Edition\", \"Bowmore 1969\", \"Bowmore 1967\", \"Jura 1984 Vintage\", \"Glenmorangie The Taghta\", \"Scotland in a Box\", \"anCnoc Cutter\", \"Octomore 6.1 Scottish Barley\", \"Port Charlotte Islay Barley\", \"Kilchoman Original Cask Strength\", \"Clynelish Select Reserve 2014 Special Release\", \"Kilchoman Port Cask\", \"The Black Grouse\", \"Glenfarclas 1960\", \"Glenfarclas 1966\", \"Glenfarclas 1990\", \"Old Pulteney 1990 limited release\", \"Balvenie Tun 1509\", \"Glenfarclas 1996\", \"Glenfarclas 1985\", \"Glenfarclas 1984\", \"Glenfarclas 1982\", \"Glenfarclas 1975\", \"Glenfarclas 1974\", \"Glenfarclas 1973\", \"Glenfarclas 1972\", \"Glenfarclas 1969\", \"Glenfarclas 1967\", \"Glenfarclas 1965\", \"Glenfarclas 1964\", \"Glenfarclas 1963\", \"Glenfarclas 1962\", \"Glenfarclas 1961\", \"Glenfarclas 1958\", \"Glenfarclas 1957\", \"Glenfarclas 1954\", \"Jura Tastival Festival bottling\", \"Islay Mist Deluxe 5cl\", \"Famous Grouse\", \"Stag's Breath\", \"Columba Cream Liqueur\", \"World Miniature Gift Pack 4 x 5cl\", \"The Glenlivet Triple Pack 3 x 20cl\", \"Hankey Bannister Original\", \"Bruichladdich Islay Barley & free glass\", \"Old Pulteney Clipper\", \"The Glenlivet Guardians Chapter\", \"Premium Whisky Selection Gift Pack 4 x 5cl\", \"Jura The Collection 3x5cl\", \"Dailuaine 1997 Managers Choice\", \"Clynelish Distillers Edition\", \"Cardhu Special Cask Reserve\", \"Bowmore Gift Pack 3x20cl\", \"Vat 69\", \"Scottish Leader\", \"Lauder's\", \"Grand Macnish Finest\", \"Glenglassaugh Triple Pack 3 x 20cl\", \"Glenturret Triple Wood\", \"Talisker Pack 3 x 20cl\", \"Strathmill 1996 Managers Choice\", \"Royal Salute 100 Casks\", \"Royal Lochnagar Selected Reserve\", \"Robert Burns Blend\", \"Compass Box The Peat Monster\", \"Old Pulteney Navigator\", \"McClellands Islay Single Malt\", \"McClellands Lowland Single Malt\", \"McClellands Highland Single Malt\", \"Mannochmore 1998 Managers Choice\", \"Knockando 1996 Managers Choice\", \"Isle of Jura 1976\"], \"textfont\": {\"color\": \"#4D5663\"}, \"type\": \"scatter\", \"x\": [43.0, 46.0, 46.0, 40.0, 47.5, 40.0, 40.0, 59.6, 45.5, 46.0, 53.0, 40.0, 40.0, 40.0, 40.0, 40.0, 40.0, 46.0, 46.0, 46.0, 48.9, 58.6, 50.0, 43.6, 40.0, 46.6, 52.3, 50.0, 51.4, 52.4, 50.8, 50.0, 46.3, 52.3, 54.7, 55.1, 55.2, 53.4, 55.1, 40.0, 40.0, 43.0, 40.0, 40.0, 40.0, 56.2, 43.0, 53.5, 54.0, 48.8, 48.0, 40.8, 46.5, 50.0, 40.0, 43.8, 46.0, 40.0, 40.0, 40.0, 57.2, 40.0, 46.0, 46.0, 40.0, 50.0, 46.0, 46.0, 46.0, 46.0, 43.0, 51.0, 46.0, 43.0, 50.0, 52.3, 40.0, 54.2, 43.0, 40.0, 46.0, 40.0, 40.0, 40.0, 40.0, 40.0, 40.0, 35.0, 60.7, 40.0, 48.0, 40.0, 40.0, 40.0, 43.8, 43.0, 48.9, 50.0, 46.0, 40.0, 40.0, 40.0, 40.0, 40.0, 40.0, 40.0, 40.0, 42.0, 46.3, 40.0, 46.3, 40.0, 43.0, 40.0, 40.0, 40.0, 43.0, 44.0, 48.0, 46.0, 43.0, 46.6, 43.0, 45.8, 43.0, 46.0, 48.0, 46.3, 43.0, 48.3, 56.3, 40.0, 40.0, 55.7, 40.0, 40.0, 43.0, 40.0, 46.0, 51.4, 40.0, 50.4, 17.0, 48.5, 40.0, 40.0, 40.0, 46.0, 46.0, 46.0, 40.0, 48.9, 43.8, 59.0, 56.6, 52.3, 58.6, 57.6, 51.1, 40.0, 57.5, 44.5, 50.2, 50.0, 48.2, 53.0, 45.3, 50.0, 63.3, 48.6, 46.0, 51.7, 57.8, 50.1, 40.0, 55.8, 43.0, 56.9, 46.0, 46.0, 44.3, 46.0, 46.0, 40.0, 40.0, 52.0, 40.0, 63.5, 40.0, 43.6, 46.3, 43.0, 48.3, 56.3, 40.0, 40.0, 55.7, 40.0, 40.0, 43.0, 40.0, 46.0, 51.4, 40.0, 50.4, 17.0, 48.5, 40.0, 40.0, 40.0, 46.0, 46.0, 46.0, 40.0, 48.9, 59.9, 47.0, 46.0, 46.0, 43.0, 56.1, 40.0, 50.0, 43.0, 48.1, 43.6, 51.2, 40.0, 46.0, 59.1, 62.4, 40.0, 40.0, 40.0, 43.0, 58.4, 43.0, 60.3, 40.0, 40.0, 50.0, 46.0, 45.5, 59.2, 50.0, 46.0, 46.0, 46.0, 40.0, 43.0, 40.0, 43.0, 59.3, 40.0, 43.0, 40.0, 45.8, 43.0, 40.0, 44.0, 40.0, 51.4, 46.0, 40.0, 40.0, 40.0, 40.0, 40.0, 40.0, 48.0, 47.4, 40.0, 40.0, 46.0, 40.0, 50.0, 40.0, 60.5, 46.0, 40.0, 43.0, 46.0, 45.6, 48.0, 63.0, 40.0, 58.5, 44.5, 56.7, 40.0, 46.0, 43.0, 43.0, 50.0, 40.0, 59.5, 47.4, 46.0, 40.0, 44.2, 48.0, 43.0, 46.6, 46.6, 40.0, 46.0, 40.0, 40.0, 44.0, 46.0, 40.0, 46.0, 57.0, 50.0, 59.2, 54.9, 55.0, 40.0, 45.2, 50.6, 48.6, 46.0, 47.0, 57.6, 44.2, 47.1, 49.6, 44.5, 42.7, 48.6, 45.6, 56.2, 55.6, 51.8, 46.4, 47.4, 45.3, 41.7, 41.7, 50.3, 46.7, 44.0, 40.0, 40.0, 19.8, 17.0, 40.0, 40.0, 40.0, 50.0, 46.0, 48.7, 40.0, 40.0, 58.6, 46.0, 40.0, 40.0, 40.0, 40.0, 40.0, 40.0, 40.0, 40.0, 40.0, 60.1, 40.0, 43.0, 40.0, 46.0, 46.0, 40.0, 40.0, 40.0, 59.1, 58.5, 46.0], \"y\": [785.71, 78.43, 224.29, 320.0, 1228.57, 45.7, 74.29, 114.21, 221.94, 107.07, 134.29, 227.13, 42.86, 120.0, 42.86, 61.36, 65.64, 131.36, 264.21, 135.64, 171.43, 67.13, 56.79, 90.0, 278.57, 69.93, 214.27, 528.56, 9998.57, 428.57, 571.43, 84.99, 74.99, 121.41, 121.41, 121.41, 128.56, 128.56, 126.67, 166.58, 28.57, 314.27, 250.0, 250.0, 307.14, 58.49, 55.71, 857.14, 71.43, 65.43, 112.79, 60.0, 114.29, 74.29, 133.33, 392.86, 171.43, 225.0, 228.57, 213.33, 84.27, 135.0, 145.0, 42.86, 42.86, 130.0, 67.14, 357.14, 78.57, 70.0, 248.43, 68.57, 70.0, 81.43, 78.57, 1285.71, 110.0, 104.29, 70.0, 3021.43, 67.14, 57.14, 90.0, 300.0, 30.0, 28.57, 42.86, 52.0, 87.14, 2995.0, 67.07, 166.67, 74.29, 64.29, 377.14, 61.43, 85.71, 74.29, 71.43, 140.0, 140.0, 73.32, 66.65, 83.33, 228.57, 74.29, 214.29, 84.29, 54.14, 57.14, 48.5, 228.57, 4000.0, 228.57, 115.0, 228.57, 81.43, 97.14, 127.14, 714.29, 71.43, 70.0, 71.43, 64.29, 55.71, 67.14, 71.43, 84.29, 200.0, 85.71, 712.86, 82.22, 57.14, 427.14, 720.0, 720.0, 328.57, 321.43, 98.0, 141.43, 166.67, 392.86, 34.29, 140.71, 249.97, 191.67, 128.0, 185.71, 185.71, 185.71, 140.0, 157.14, 221.94, 122.86, 128.57, 128.57, 137.14, 151.43, 757.14, 79.93, 3757.14, 64.29, 175.9, 57.13, 1228.57, 250.0, 199.93, 107.14, 85.71, 140.71, 107.14, 12855.71, 1928.57, 141.43, 208.33, 185.71, 107.14, 850.0, 107.14, 235.71, 235.71, 278.57, 1357.14, 250.0, 321.43, 570.0, 141.43, 228.57, 307.14, 90.0, 84.29, 200.0, 85.71, 712.86, 82.22, 57.14, 427.14, 720.0, 720.0, 328.57, 321.43, 98.0, 141.43, 166.67, 392.86, 34.29, 140.71, 249.97, 191.67, 128.0, 185.71, 185.71, 185.71, 140.0, 157.14, 84.29, 85.71, 114.29, 428.57, 85.71, 90.0, 34.27, 120.0, 71.43, 357.14, 90.0, 114.29, 35.71, 78.57, 2564.29, 2564.29, 120.0, 120.0, 228.57, 3928.57, 192.86, 55.71, 357.14, 6428.57, 225.0, 140.0, 210.0, 4857.14, 141.43, 107.14, 98.0, 141.43, 78.57, 54.29, 92.86, 68.57, 68.57, 62.86, 71.07, 2571.43, 278.43, 68.57, 104.29, 17714.29, 3857.14, 166.67, 200.0, 125.0, 314.29, 100.0, 321.43, 50.0, 55.71, 47.14, 157.14, 3800.0, 660.0, 660.0, 192.86, 121.43, 127.14, 5000.0, 3571.43, 114.29, 228.57, 212.86, 1011.23, 4564.29, 4135.71, 235.71, 700.0, 114.29, 5714.29, 520.0, 41.43, 64.29, 100.0, 62.86, 42.86, 42.86, 142.86, 121.43, 428.57, 57.14, 415.71, 98.57, 357.14, 3164.29, 3164.29, 57.14, 111.43, 3000.0, 3857.14, 1071.43, 98.57, 191.67, 104.29, 141.43, 92.86, 98.57, 714.29, 110.0, 40.0, 6285.71, 5712.86, 485.71, 235.71, 321.43, 485.71, 1000.0, 7857.14, 1485.71, 8428.57, 5000.0, 5000.0, 3857.14, 5712.86, 5712.86, 5712.86, 5712.86, 5712.86, 7857.14, 6285.71, 10428.57, 15500.0, 12142.86, 141.43, 90.0, 27.14, 35.71, 135.0, 399.8, 113.32, 110.0, 90.0, 74.29, 84.29, 379.8, 400.0, 378.57, 98.57, 85.71, 140.0, 42.86, 44.95, 30.0, 37.14, 1700.0, 67.14, 82.83, 424.29, 400.0, 421.43, 40.0, 49.93, 71.43, 42.86, 42.86, 42.86, 371.43, 491.43, 791.41]}, {\"marker\": {\"color\": \"rgba(50, 171, 96, 1.0)\", \"line\": {\"width\": 1.3}, \"opacity\": 0.8, \"size\": 12, \"symbol\": \"circle\"}, \"mode\": \"markers\", \"name\": \"0-12\", \"text\": [\"Benriach 2005 UK Exclusive Pedro Ximenez Cask #5278\", \"Black Bottle 10 Year Old\", \"Deanston 10 Year Old Bordeaux Red Wine Cask Finish\", \"Glenmorangie 12 Year Old Malaga\", \"Golden Cask Linkwood 12 Year Old\", \"Talisker 10 Year Old 20cl Hot Chocolate Gift Set\", \"Singleton of Dufftown 12 Year Old Tumbler Gift Set\", \"GlenAllachie 10 Year Old Cask Strength Batch 4\", \"Octomore 10 Year Old Dialogos 2009\", \"Octomore 11.3 Islay Barley\", \"Ardbeg Wee Beastie\", \"Glenmorangie 10 Year Old Original Giraffe Tin\", \"GlenAllachie 9 Year Old Rye Cask Finish\", \"Glen Scotia 11 Year Old Sherry Double Cask\", \"Darkness 8 Year Old\", \"Aerolite Lyndsay Islay 10 Year Old\", \"Dalmore 12 Year Old Sherry Cask Select\", \"Tobermory 12 Year Old 2007 Port Pipe Finish\", \"Benriach The Smoky Ten\", \"Benriach The Original Ten\", \"Benriach The Smoky Twelve\", \"Benriach The Twelve\", \"Cardhu 11 Year Old Special Releases 2020\", \"Lagavulin 12 Year Old Special Releases 2020\", \"Talisker 8 Year Old Special Releases 2020\", \"Laphroaig 10 Year Old Cask Strength 2020\", \"Glenallachie 2008 #508\", \"Glenkeir Treasures Twin Casks Secret Highland 11 Year Old\", \"Glenkeir Treasures Twin Casks Secret Speyside 9 Year Old\", \"Glen Scotia 2009 #784\", \"First Editions Blair Athol 2009\", \"Arran Sherry Cask The Bodega\", \"Singleton of Dufftown 12 Year Old Gift Set\", \"GlenAllachie 12 Year Old\", \"Jura Two-One-Two (212)\", \"Highland Park 12 Year Old\", \"Loch Lomond 12 Year Old Taster Pack\", \"Macallan 10 Year Old Sherry Oak\", \"Glencairn Whisky Glasses & Auchentoshan 20cl Gift Set\", \"Balvenie The Sweet Toast of American Oak 12 Year Old\", \"Whisky Works King of Trees 10 Year Old\", \"Tobermory 12 Year Old\", \"Balblair 12 Year Old\", \"Blairmhor 8 Year Old 35cl\", \"Knockando 12 year old\", \"The Glenlivet 12 Year Old\", \"Glenkinchie 12 year old 20cl\", \"Cragganmore 12 year old 20cl\", \"BenRiach 10 Year Old Curiositas\", \"Teaninich 10 Year Old\", \"Mannochmore 12 year old\", \"Mortlach 12 Year Old The Wee Witchie\", \"Benromach 2008 cask strength\", \"Port Charlotte 10 Year Old\", \"Macallan 12 Year Old Triple Cask\", \"Johnnie Walker Black Label\", \"Hazelburn 10 Year Old\", \"Macallan 12 Year Old Double Cask\", \"Jura 12 Year Old\", \"Caol Ila 12 Year Old 20cl\", \"Arran 10 Year Old\", \"Aberlour 12 Year Old\", \"First Editions Ardmore 2009 9 Year Old\", \"First Editions Dailuaine 2009 9 Year Old\", \"Macallan 12 Year Old Triple Cask Gift Box\", \"Old Malt Cask Craigellachie 11 Year Old\", \"Glenrothes 2004\", \"First Editions Glen Garioch 2008 10 Year Old\", \"BenRiach 10 Year Old Gift Set\", \"Talisker 10 Year Old Gift Set\", \"Jura 12 Year Old Gift Pack 2019\", \"Old Malt Cask Tobermory 12 Year Old\", \"First Editions Dalmore 2008 11 Year Old\", \"GlenAllachie 2008 #586\", \"GlenAllachie 2007 #3767 12 Year Old Single Cask\", \"GlenAllachie 2006 #6580\", \"Lagavulin 12 Year Old Special Releases 2019\", \"Cragganmore 12 Year Old Special Releases 2019\", \"Ardbeg 10 Year Old Ardbone Pack\", \"Glengoyne 10 Year Old 20cl\", \"Loch Lomond 12 Year Old Gift Pack\", \"Octomore 10.3 Dialogos 6 Year Old\", \"Octomore 10.1 Dialogos 5 Year Old\", \"First Editions Mortlach 2007 11 Year Old\", \"First Editions Caol Ila 2010 8 Year Old\", \"First Editions Craigellachie 2011 8 Year Old\", \"Port Charlotte 10 Year Old Gift Pack\", \"GlenDronach Cask Strength Batch 8\", \"The Loch Fyne Glentauchers 11 Year Old\", \"The Loch Fyne Aultmore 12 Year Old\", \"Bunnahabhain 2007 French Brandy Finish\", \"GlenAllachie 10 Year Old Cask Strength Batch 2\", \"Old Malt Cask Mortlach 13 Year Old\", \"First Editions Ben Nevis 2011 9 Year Old\", \"Darkness Benrinnes 13 Year Old Pedro Ximenez Cask\", \"First Editions Dailuaine 11 Year Old 2008\", \"First Editions Aultmore 10 Year Old 2010\", \"Glendronach 2006 13 Year Old #5538 UK Exclusive\", \"Octomore 11.1 Scottish Barley\", \"Glenallachie 11 Year Old Port Wood Finish\", \"Glenallachie 11 Year Old Mostcatel Finish\", \"The Loch Fyne Craigellachie 12 Year Old 2008\", \"GlenAllachie 10 Year Old Cask Strength Batch 3\", \"Golden Cask Bowmore 13 Year Old\", \"First Editions Talisker 2010 8 Year Old\", \"Macallan 12 Year Old Re-Awakening\", \"Loch Lomond 12 Year Old Open Edition\", \"GlenAllachie 13 Year Old Spirit of Speyside Festival 2020\", \"Glen Moray Madeira Cask Project\", \"Loch Lomond 2006 #18/550-12\", \"First Editions Deanston 2009\", \"Glenrothes 1984\", \"Macallan 12 Year Old Triple Cask Chinese New Year Twin Pack\", \"First Editions Ardmore 2009 9 Year Old\", \"First Editions Dailuaine 2009 9 Year Old\", \"Macallan 12 Year Old Triple Cask Gift Box\", \"Old Malt Cask Craigellachie 11 Year Old\", \"Glenrothes 2004\", \"First Editions Glen Garioch 2008 10 Year Old\", \"BenRiach 10 Year Old Gift Set\", \"Talisker 10 Year Old Gift Set\", \"Jura 12 Year Old Gift Pack 2019\", \"Old Malt Cask Tobermory 12 Year Old\", \"First Editions Dalmore 2008 11 Year Old\", \"GlenAllachie 2008 #586\", \"GlenAllachie 2007 #3767 12 Year Old Single Cask\", \"GlenAllachie 2006 #6580\", \"Lagavulin 12 Year Old Special Releases 2019\", \"Cragganmore 12 Year Old Special Releases 2019\", \"Ardbeg 10 Year Old Ardbone Pack\", \"Glengoyne 10 Year Old 20cl\", \"Loch Lomond 12 Year Old Gift Pack\", \"Octomore 10.3 Dialogos 6 Year Old\", \"Octomore 10.1 Dialogos 5 Year Old\", \"First Editions Mortlach 2007 11 Year Old\", \"First Editions Caol Ila 2010 8 Year Old\", \"First Editions Craigellachie 2011 8 Year Old\", \"Port Charlotte 10 Year Old Gift Pack\", \"GlenDronach Cask Strength Batch 8\", \"The Loch Fyne Glentauchers 11 Year Old\", \"The Loch Fyne Aultmore 12 Year Old\", \"Bunnahabhain 2007 French Brandy Finish\", \"GlenAllachie 10 Year Old Cask Strength Batch 2\", \"Laphroaig 10 Year Old Original Cask Strength\", \"First Editions Royal Brackla 2009\", \"Longrow 1992 10 Year Old\", \"Distiller's Art Braeval 13 Year Old\", \"Chivas Regal 12 Year Old Tim Little\", \"Hazelburn 12 Year Old\", \"First Editions Blair Athol 2010\", \"First Editions Mortlach 2009\", \"Ardmore 12 Year Old Port Wood Finish\", \"First Editions Benrinnes 2009\", \"First Editions Inchgower 2008 20cl\", \"First Editions Benrinnes 2010 8 Year Old 20cl\", \"First Editions Tullibardine 2008\", \"First Editions Bunnahabhain 2007 - 2018 Edition\", \"Arran Master of Distilling II\", \"Glenkeir Treasures Speyburn 10 Year Old 10cl\", \"Glenkeir Treasures Speyburn 10 Year Old 20cl\", \"Glenkeir Treasures Secret Speyside 8 Year Old 10cl\", \"Glenkeir Treasures Secret Speyside 8 Year Old 20cl\", \"Glenkeir Treasures Speyburn 10 Year Old\", \"Glenkeir Treasures Secret Speyside 8 Year Old\", \"BenRiach Batch 16 2012 #7825\", \"BenRiach Batch 16 2009 #6095\", \"BenRiach Batch 16 2008 #3085\", \"BenRiach Batch 16 2007 #3237\", \"BenRiach Batch 16 2008 #2506\", \"BenRiach Batch 16 2007 #7611\", \"BenRiach Batch 16 2005 #3435\", \"Kilchoman 2006 Vintage\", \"First Editions Tamdhu 2007\", \"Ballantine's 12 Year Old 1l\", \"First Editions Craigellachie 2006\", \"First Editions Benrinnes 2010\", \"Old Malt Cask Talisker 8 Year Old\", \"Glenmorangie 10 Year Old 150th Anniversary\", \"First Editions Craigellachie 2008 10 Year Old\", \"First Editions Inchgower 2008 10 Year Old\", \"GlenDronach Port Wood 10 Year Old\", \"GlenDronach 12 Year Old Walker Slater Pack\", \"Royal Lochnagar 12 Year Old - Game of Thrones House Baratheon\", \"Springbank 10 Year Old Local Barley\", \"Bruichladdich Uisge Luing 10 Year Old\", \"Old Malt Cask Mortlach 11 Year Old\", \"BenRiach 2005 Whisky Shop Exclusive\", \"Lagavulin 9 Year Old - Game of Thrones House Lannister\", \"Glenmorangie Original Gift Pack\", \"BenRiach 12 Year Old Sherry Wood\", \"First Editions Mortlach 2007 Manager's Special\", \"Bunnahabhain 12 year old Old Malt Cask\", \"First Editions Craigellachie 2008 Manager's Special\", \"Kilchoman 2007 Single Cask The Whisky Shop Exclusive\", \"First Editions Balmenach 10yo\", \"Glenkeir Treasures Aultmore 7 Year Old\", \"Glenkeir Treasures Glengoyne 9 Year Old\", \"Mortlach 8 year old GlenKeir Treasure\", \"Glenkeir Treasures Fettercairn 8 Year Old\", \"Glenkeir Treasures Craigellachie 9 Year Old\", \"Old Malt Cask Tamdhu 8 Year Old 20cl\", \"Longrow Red\", \"Laphroaig First Edition 11 year old\", \"Fettercairn 8 Year Old Douglas of Drumlanrig\", \"Glenkeir Treasures Dailuaine 6 Year Old\", \"Old Malt Cask Fettercairn 7 Year Old\", \"Old Malt Cask Craigellachie 12 Year Old 20cl\", \"Fettercairn 7 Year Old Old Malt Cask with glass gift pack\", \"Old Malt Cask Blair Athol 12 Year Old with Glass\", \"Inchgower 8 Year Old Douglas of Drumlanrig\", \"Glengoyne 8 Year Old\", \"Dalmore 12 Year Old With Whisky Stones\", \"Cutty Sark 12 Year Old\", \"The Deveron 12 Years Old\", \"Royal Brackla 12 Years Old\", \"Glenmorangie Original\", \"Aultmore 7 year old\", \"Royal Lochnagar 12 Year Old\", \"Glendronach The Hielan' 8 Years Old\", \"Laphroaig 10 year old & free glass\", \"Glendronach 2003 Whisky Shop Exclusive\", \"BenRiach 10th Anniversary 10 year old\", \"Glenkeir Treasures Inchgower 6 year old 10cl\", \"Octomore 6.3 Islay Barley 2009\", \"Lagavulin 12 Year Old 2014 Special Release\", \"Glenkeir Treasures Speyside 13 year old\", \"Glenmorangie Original 10 year old\", \"Singleton of Dufftown 12 Year Old 5cl\", \"Tobermory 10 Year Old 5cl\", \"Glenfarclas 10 year old 35cl\", \"Aberlour 10 Year Old\", \"Jura 10 year old 35cl\", \"Strathmill 12 year old\", \"Antiquary 12 year old\", \"Whyte & Mackay 13 year old\", \"Tobermory 10 year old\", \"Talisker 10 year old 20cl\"], \"textfont\": {\"color\": \"#4D5663\"}, \"type\": \"scatter\", \"x\": [56.4, 40.0, 46.3, 47.3, 56.0, 45.8, 40.0, 56.1, 54.3, 61.7, 47.4, 43.0, 48.0, 54.1, 47.8, 46.0, 43.0, 58.6, 46.0, 43.0, 46.0, 46.0, 56.0, 56.4, 57.9, 60.1, 51.8, 46.0, 46.0, 57.8, 46.0, 55.8, 40.0, 46.0, 47.5, 40.0, 40.0, 40.0, 40.0, 43.0, 46.5, 46.3, 46.0, 40.0, 43.0, 40.0, 43.0, 40.0, 46.0, 43.0, 43.0, 43.4, 57.0, 50.0, 40.0, 40.0, 46.0, 43.0, 40.0, 43.0, 46.0, 40.0, 46.0, 46.0, 40.0, 50.0, 48.8, 46.0, 43.0, 45.8, 40.0, 50.0, 46.0, 57.4, 60.8, 60.1, 56.5, 58.4, 46.0, 40.0, 46.0, 61.3, 59.8, 46.0, 46.0, 46.0, 50.0, 61.0, 57.7, 57.9, 52.5, 54.8, 50.0, 46.0, 51.1, 46.0, 46.0, 57.4, 59.4, 48.0, 48.0, 59.0, 58.2, 55.5, 46.0, 43.0, 46.0, 60.5, 46.3, 53.1, 46.0, 43.0, 40.0, 46.0, 46.0, 40.0, 50.0, 48.8, 46.0, 43.0, 45.8, 40.0, 50.0, 46.0, 57.4, 60.8, 60.1, 56.5, 58.4, 46.0, 40.0, 46.0, 61.3, 59.8, 46.0, 46.0, 46.0, 50.0, 61.0, 57.7, 57.9, 52.5, 54.8, 58.6, 46.0, 46.0, 48.0, 40.0, 46.0, 46.0, 46.0, 46.0, 46.0, 46.0, 46.0, 46.0, 46.0, 51.8, 40.0, 40.0, 40.0, 40.0, 40.0, 40.0, 61.2, 58.5, 61.6, 61.2, 59.4, 59.5, 55.0, 46.0, 46.0, 43.0, 46.0, 46.0, 50.0, 40.0, 46.0, 46.0, 46.0, 43.0, 40.0, 57.3, 58.5, 50.0, 56.0, 46.0, 40.0, 46.0, 46.0, 50.0, 46.0, 56.5, 46.0, 40.0, 40.0, 40.0, 40.0, 40.0, 50.0, 51.3, 46.0, 46.0, 40.0, 50.0, 50.0, 50.0, 50.0, 46.0, 46.0, 40.0, 40.0, 40.0, 40.0, 40.0, 46.0, 40.0, 46.0, 40.0, 53.3, 46.0, 40.0, 64.0, 54.4, 40.0, 40.0, 40.0, 46.3, 40.0, 40.0, 40.0, 43.0, 40.0, 40.0, 46.3, 45.8], \"y\": [142.79, 41.41, 85.71, 114.21, 97.13, 109.5, 58.56, 91.43, 228.57, 250.0, 55.71, 57.13, 84.27, 85.64, 71.41, 64.27, 98.57, 142.86, 55.64, 52.79, 61.29, 55.5, 121.43, 178.57, 128.57, 110.0, 128.5, 140.0, 136.0, 92.86, 100.0, 75.64, 54.21, 67.14, 128.57, 57.14, 173.33, 428.57, 210.0, 71.43, 107.14, 71.43, 74.29, 54.29, 64.29, 57.14, 125.0, 125.0, 67.14, 82.86, 82.86, 71.43, 85.7, 88.57, 100.0, 62.86, 82.86, 72.84, 64.29, 140.0, 64.29, 68.57, 98.57, 98.57, 100.0, 128.57, 92.86, 100.0, 42.84, 57.14, 64.29, 131.43, 111.43, 121.43, 135.71, 142.86, 157.14, 121.43, 74.29, 95.0, 71.43, 250.0, 181.43, 121.43, 150.0, 100.0, 88.57, 105.71, 150.0, 160.0, 155.71, 87.14, 138.57, 100.0, 133.9, 117.14, 100.0, 200.0, 178.57, 89.99, 89.99, 160.0, 87.14, 138.57, 151.41, 1707.14, 78.5, 178.57, 92.86, 84.21, 105.71, 278.57, 85.71, 98.57, 98.57, 100.0, 128.57, 92.86, 100.0, 42.84, 57.14, 64.29, 131.43, 111.43, 121.43, 135.71, 142.86, 157.14, 121.43, 74.29, 95.0, 71.43, 250.0, 181.43, 121.43, 150.0, 100.0, 88.57, 105.71, 150.0, 160.0, 155.71, 87.14, 107.14, 88.57, 112.86, 120.0, 57.14, 84.29, 98.57, 98.57, 80.0, 91.43, 130.0, 125.0, 114.29, 100.0, 107.13, 130.0, 130.0, 130.0, 130.0, 110.0, 110.0, 78.57, 100.0, 108.57, 120.0, 120.0, 131.43, 141.43, 564.29, 105.71, 99.0, 108.57, 94.29, 164.29, 285.71, 100.0, 100.0, 85.71, 70.0, 54.29, 171.43, 128.57, 135.71, 121.43, 92.86, 64.29, 68.57, 108.57, 157.14, 100.0, 200.0, 94.29, 90.0, 100.0, 90.0, 80.0, 100.0, 150.0, 112.86, 204.29, 98.57, 80.0, 140.0, 145.0, 195.0, 195.0, 85.71, 81.43, 85.71, 52.86, 57.14, 74.29, 64.29, 81.43, 54.21, 60.0, 60.0, 371.43, 92.86, 100.0, 214.29, 114.29, 130.0, 145.0, 139.8, 159.8, 74.29, 57.14, 77.14, 84.29, 119.8, 41.43, 65.71, 130.0]}, {\"marker\": {\"color\": \"rgba(128, 0, 128, 1.0)\", \"line\": {\"width\": 1.3}, \"opacity\": 0.8, \"size\": 12, \"symbol\": \"circle\"}, \"mode\": \"markers\", \"name\": \"50+\", \"text\": [\"Gordon & MacPhail Glen Grant 1954 59 Year Old\", \"Gordon & MacPhail Mortlach 1949 51 Year Old\", \"Macallan Exceptional Single Cask 1950\", \"The Last Drop 56 Year Old\", \"Macallan 74 Year Old Red Collection\", \"Macallan 71 Year Old Red Collection\", \"Macallan 60 Year Old Red Collection\", \"Dalmore 51 Year Old\", \"Macallan 72 Year Old in Lalique\", \"Macallan 1946 56 Year Old (Cask 46/3M) Fine & Rare\", \"Macallan 1949 52 Year Old (Cask 935) Fine & Rare\", \"Lochside 52 Year Old Sovereign\", \"Bowmore 1957\", \"Glenglassaugh 51 year old\"], \"textfont\": {\"color\": \"#4D5663\"}, \"type\": \"scatter\", \"x\": [40.0, 40.0, 53.4, 47.2, 42.6, 41.6, 43.4, 40.0, 42.0, 44.3, 41.1, 48.1, 42.1, 41.7], \"y\": [3571.43, 5712.86, 98571.43, 5357.14, 135714.29, 127142.86, 112857.14, 98571.43, 102857.14, 57000.0, 58571.43, 1371.43, 142857.14, 7028.57]}],                        {\"legend\": {\"bgcolor\": \"#F5F6F9\", \"font\": {\"color\": \"#4D5663\"}}, \"paper_bgcolor\": \"#F5F6F9\", \"plot_bgcolor\": \"#F5F6F9\", \"template\": {\"data\": {\"bar\": [{\"error_x\": {\"color\": \"#2a3f5f\"}, \"error_y\": {\"color\": \"#2a3f5f\"}, \"marker\": {\"line\": {\"color\": \"#E5ECF6\", \"width\": 0.5}}, \"type\": \"bar\"}], \"barpolar\": [{\"marker\": {\"line\": {\"color\": \"#E5ECF6\", \"width\": 0.5}}, \"type\": \"barpolar\"}], \"carpet\": [{\"aaxis\": {\"endlinecolor\": \"#2a3f5f\", \"gridcolor\": \"white\", \"linecolor\": \"white\", \"minorgridcolor\": \"white\", \"startlinecolor\": \"#2a3f5f\"}, \"baxis\": {\"endlinecolor\": \"#2a3f5f\", \"gridcolor\": \"white\", \"linecolor\": \"white\", \"minorgridcolor\": \"white\", \"startlinecolor\": \"#2a3f5f\"}, \"type\": \"carpet\"}], \"choropleth\": [{\"colorbar\": {\"outlinewidth\": 0, \"ticks\": \"\"}, \"type\": \"choropleth\"}], \"contour\": [{\"colorbar\": {\"outlinewidth\": 0, \"ticks\": \"\"}, \"colorscale\": [[0.0, \"#0d0887\"], [0.1111111111111111, \"#46039f\"], [0.2222222222222222, \"#7201a8\"], [0.3333333333333333, \"#9c179e\"], [0.4444444444444444, \"#bd3786\"], [0.5555555555555556, \"#d8576b\"], [0.6666666666666666, \"#ed7953\"], [0.7777777777777778, \"#fb9f3a\"], [0.8888888888888888, \"#fdca26\"], [1.0, \"#f0f921\"]], \"type\": \"contour\"}], \"contourcarpet\": [{\"colorbar\": {\"outlinewidth\": 0, \"ticks\": \"\"}, \"type\": \"contourcarpet\"}], \"heatmap\": [{\"colorbar\": {\"outlinewidth\": 0, \"ticks\": \"\"}, \"colorscale\": [[0.0, \"#0d0887\"], [0.1111111111111111, \"#46039f\"], [0.2222222222222222, \"#7201a8\"], [0.3333333333333333, \"#9c179e\"], [0.4444444444444444, \"#bd3786\"], [0.5555555555555556, \"#d8576b\"], [0.6666666666666666, \"#ed7953\"], [0.7777777777777778, \"#fb9f3a\"], [0.8888888888888888, \"#fdca26\"], [1.0, \"#f0f921\"]], \"type\": \"heatmap\"}], \"heatmapgl\": [{\"colorbar\": {\"outlinewidth\": 0, \"ticks\": \"\"}, \"colorscale\": [[0.0, \"#0d0887\"], [0.1111111111111111, \"#46039f\"], [0.2222222222222222, \"#7201a8\"], [0.3333333333333333, \"#9c179e\"], [0.4444444444444444, \"#bd3786\"], [0.5555555555555556, \"#d8576b\"], [0.6666666666666666, \"#ed7953\"], [0.7777777777777778, \"#fb9f3a\"], [0.8888888888888888, \"#fdca26\"], [1.0, \"#f0f921\"]], \"type\": \"heatmapgl\"}], \"histogram\": [{\"marker\": {\"colorbar\": {\"outlinewidth\": 0, \"ticks\": \"\"}}, \"type\": \"histogram\"}], \"histogram2d\": [{\"colorbar\": {\"outlinewidth\": 0, \"ticks\": \"\"}, \"colorscale\": [[0.0, \"#0d0887\"], [0.1111111111111111, \"#46039f\"], [0.2222222222222222, \"#7201a8\"], [0.3333333333333333, \"#9c179e\"], [0.4444444444444444, \"#bd3786\"], [0.5555555555555556, \"#d8576b\"], [0.6666666666666666, \"#ed7953\"], [0.7777777777777778, \"#fb9f3a\"], [0.8888888888888888, \"#fdca26\"], [1.0, \"#f0f921\"]], \"type\": \"histogram2d\"}], \"histogram2dcontour\": [{\"colorbar\": {\"outlinewidth\": 0, \"ticks\": \"\"}, \"colorscale\": [[0.0, \"#0d0887\"], [0.1111111111111111, \"#46039f\"], [0.2222222222222222, \"#7201a8\"], [0.3333333333333333, \"#9c179e\"], [0.4444444444444444, \"#bd3786\"], [0.5555555555555556, \"#d8576b\"], [0.6666666666666666, \"#ed7953\"], [0.7777777777777778, \"#fb9f3a\"], [0.8888888888888888, \"#fdca26\"], [1.0, \"#f0f921\"]], \"type\": \"histogram2dcontour\"}], \"mesh3d\": [{\"colorbar\": {\"outlinewidth\": 0, \"ticks\": \"\"}, \"type\": \"mesh3d\"}], \"parcoords\": [{\"line\": {\"colorbar\": {\"outlinewidth\": 0, \"ticks\": \"\"}}, \"type\": \"parcoords\"}], \"pie\": [{\"automargin\": true, \"type\": \"pie\"}], \"scatter\": [{\"marker\": {\"colorbar\": {\"outlinewidth\": 0, \"ticks\": \"\"}}, \"type\": \"scatter\"}], \"scatter3d\": [{\"line\": {\"colorbar\": {\"outlinewidth\": 0, \"ticks\": \"\"}}, \"marker\": {\"colorbar\": {\"outlinewidth\": 0, \"ticks\": \"\"}}, \"type\": \"scatter3d\"}], \"scattercarpet\": [{\"marker\": {\"colorbar\": {\"outlinewidth\": 0, \"ticks\": \"\"}}, \"type\": \"scattercarpet\"}], \"scattergeo\": [{\"marker\": {\"colorbar\": {\"outlinewidth\": 0, \"ticks\": \"\"}}, \"type\": \"scattergeo\"}], \"scattergl\": [{\"marker\": {\"colorbar\": {\"outlinewidth\": 0, \"ticks\": \"\"}}, \"type\": \"scattergl\"}], \"scattermapbox\": [{\"marker\": {\"colorbar\": {\"outlinewidth\": 0, \"ticks\": \"\"}}, \"type\": \"scattermapbox\"}], \"scatterpolar\": [{\"marker\": {\"colorbar\": {\"outlinewidth\": 0, \"ticks\": \"\"}}, \"type\": \"scatterpolar\"}], \"scatterpolargl\": [{\"marker\": {\"colorbar\": {\"outlinewidth\": 0, \"ticks\": \"\"}}, \"type\": \"scatterpolargl\"}], \"scatterternary\": [{\"marker\": {\"colorbar\": {\"outlinewidth\": 0, \"ticks\": \"\"}}, \"type\": \"scatterternary\"}], \"surface\": [{\"colorbar\": {\"outlinewidth\": 0, \"ticks\": \"\"}, \"colorscale\": [[0.0, \"#0d0887\"], [0.1111111111111111, \"#46039f\"], [0.2222222222222222, \"#7201a8\"], [0.3333333333333333, \"#9c179e\"], [0.4444444444444444, \"#bd3786\"], [0.5555555555555556, \"#d8576b\"], [0.6666666666666666, \"#ed7953\"], [0.7777777777777778, \"#fb9f3a\"], [0.8888888888888888, \"#fdca26\"], [1.0, \"#f0f921\"]], \"type\": \"surface\"}], \"table\": [{\"cells\": {\"fill\": {\"color\": \"#EBF0F8\"}, \"line\": {\"color\": \"white\"}}, \"header\": {\"fill\": {\"color\": \"#C8D4E3\"}, \"line\": {\"color\": \"white\"}}, \"type\": \"table\"}]}, \"layout\": {\"annotationdefaults\": {\"arrowcolor\": \"#2a3f5f\", \"arrowhead\": 0, \"arrowwidth\": 1}, \"coloraxis\": {\"colorbar\": {\"outlinewidth\": 0, \"ticks\": \"\"}}, \"colorscale\": {\"diverging\": [[0, \"#8e0152\"], [0.1, \"#c51b7d\"], [0.2, \"#de77ae\"], [0.3, \"#f1b6da\"], [0.4, \"#fde0ef\"], [0.5, \"#f7f7f7\"], [0.6, \"#e6f5d0\"], [0.7, \"#b8e186\"], [0.8, \"#7fbc41\"], [0.9, \"#4d9221\"], [1, \"#276419\"]], \"sequential\": [[0.0, \"#0d0887\"], [0.1111111111111111, \"#46039f\"], [0.2222222222222222, \"#7201a8\"], [0.3333333333333333, \"#9c179e\"], [0.4444444444444444, \"#bd3786\"], [0.5555555555555556, \"#d8576b\"], [0.6666666666666666, \"#ed7953\"], [0.7777777777777778, \"#fb9f3a\"], [0.8888888888888888, \"#fdca26\"], [1.0, \"#f0f921\"]], \"sequentialminus\": [[0.0, \"#0d0887\"], [0.1111111111111111, \"#46039f\"], [0.2222222222222222, \"#7201a8\"], [0.3333333333333333, \"#9c179e\"], [0.4444444444444444, \"#bd3786\"], [0.5555555555555556, \"#d8576b\"], [0.6666666666666666, \"#ed7953\"], [0.7777777777777778, \"#fb9f3a\"], [0.8888888888888888, \"#fdca26\"], [1.0, \"#f0f921\"]]}, \"colorway\": [\"#636efa\", \"#EF553B\", \"#00cc96\", \"#ab63fa\", \"#FFA15A\", \"#19d3f3\", \"#FF6692\", \"#B6E880\", \"#FF97FF\", \"#FECB52\"], \"font\": {\"color\": \"#2a3f5f\"}, \"geo\": {\"bgcolor\": \"white\", \"lakecolor\": \"white\", \"landcolor\": \"#E5ECF6\", \"showlakes\": true, \"showland\": true, \"subunitcolor\": \"white\"}, \"hoverlabel\": {\"align\": \"left\"}, \"hovermode\": \"closest\", \"mapbox\": {\"style\": \"light\"}, \"paper_bgcolor\": \"white\", \"plot_bgcolor\": \"#E5ECF6\", \"polar\": {\"angularaxis\": {\"gridcolor\": \"white\", \"linecolor\": \"white\", \"ticks\": \"\"}, \"bgcolor\": \"#E5ECF6\", \"radialaxis\": {\"gridcolor\": \"white\", \"linecolor\": \"white\", \"ticks\": \"\"}}, \"scene\": {\"xaxis\": {\"backgroundcolor\": \"#E5ECF6\", \"gridcolor\": \"white\", \"gridwidth\": 2, \"linecolor\": \"white\", \"showbackground\": true, \"ticks\": \"\", \"zerolinecolor\": \"white\"}, \"yaxis\": {\"backgroundcolor\": \"#E5ECF6\", \"gridcolor\": \"white\", \"gridwidth\": 2, \"linecolor\": \"white\", \"showbackground\": true, \"ticks\": \"\", \"zerolinecolor\": \"white\"}, \"zaxis\": {\"backgroundcolor\": \"#E5ECF6\", \"gridcolor\": \"white\", \"gridwidth\": 2, \"linecolor\": \"white\", \"showbackground\": true, \"ticks\": \"\", \"zerolinecolor\": \"white\"}}, \"shapedefaults\": {\"line\": {\"color\": \"#2a3f5f\"}}, \"ternary\": {\"aaxis\": {\"gridcolor\": \"white\", \"linecolor\": \"white\", \"ticks\": \"\"}, \"baxis\": {\"gridcolor\": \"white\", \"linecolor\": \"white\", \"ticks\": \"\"}, \"bgcolor\": \"#E5ECF6\", \"caxis\": {\"gridcolor\": \"white\", \"linecolor\": \"white\", \"ticks\": \"\"}}, \"title\": {\"x\": 0.05}, \"xaxis\": {\"automargin\": true, \"gridcolor\": \"white\", \"linecolor\": \"white\", \"ticks\": \"\", \"title\": {\"standoff\": 15}, \"zerolinecolor\": \"white\", \"zerolinewidth\": 2}, \"yaxis\": {\"automargin\": true, \"gridcolor\": \"white\", \"linecolor\": \"white\", \"ticks\": \"\", \"title\": {\"standoff\": 15}, \"zerolinecolor\": \"white\", \"zerolinewidth\": 2}}}, \"title\": {\"font\": {\"color\": \"#4D5663\"}, \"text\": \"Alcohol Percentage and Price of Whisky  \"}, \"xaxis\": {\"gridcolor\": \"#E1E5ED\", \"showgrid\": true, \"tickfont\": {\"color\": \"#4D5663\"}, \"title\": {\"font\": {\"color\": \"#4D5663\"}, \"text\": \"Alcohol Percentage\"}, \"zerolinecolor\": \"#E1E5ED\"}, \"yaxis\": {\"gridcolor\": \"#E1E5ED\", \"showgrid\": true, \"tickfont\": {\"color\": \"#4D5663\"}, \"title\": {\"font\": {\"color\": \"#4D5663\"}, \"text\": \"Price per Litre\"}, \"zerolinecolor\": \"#E1E5ED\"}},                        {\"showLink\": true, \"linkText\": \"Export to plot.ly\", \"plotlyServerURL\": \"https://plot.ly\", \"responsive\": true}                    ).then(function(){\n",
       "                            \n",
       "var gd = document.getElementById('09b7bc9a-05ad-4e68-b631-68a3c3f0daa1');\n",
       "var x = new MutationObserver(function (mutations, observer) {{\n",
       "        var display = window.getComputedStyle(gd).display;\n",
       "        if (!display || display === 'none') {{\n",
       "            console.log([gd, 'removed!']);\n",
       "            Plotly.purge(gd);\n",
       "            observer.disconnect();\n",
       "        }}\n",
       "}});\n",
       "\n",
       "// Listen for the removal of the full notebook cells\n",
       "var notebookContainer = gd.closest('#notebook-container');\n",
       "if (notebookContainer) {{\n",
       "    x.observe(notebookContainer, {childList: true});\n",
       "}}\n",
       "\n",
       "// Listen for the clearing of the current output cell\n",
       "var outputEl = gd.closest('.output');\n",
       "if (outputEl) {{\n",
       "    x.observe(outputEl, {childList: true});\n",
       "}}\n",
       "\n",
       "                        })                };                });            </script>        </div>"
      ]
     },
     "metadata": {},
     "output_type": "display_data"
    }
   ],
   "source": [
    "df.iplot(x='ABV',\n",
    "        y='price_per_litre',\n",
    "         #size=df['Age'],\n",
    "        \n",
    "                                                           \n",
    "                                                      \n",
    "        categories='age_class',\n",
    "        xTitle='Alcohol Percentage',\n",
    "        yTitle='Price per Litre',\n",
    "        text='name',\n",
    "        title='Alcohol Percentage and Price of Whisky  ')"
   ]
  },
  {
   "cell_type": "markdown",
   "metadata": {},
   "source": [
    "- The above figure shows if there is any effect on the alcohol percentage of the whikey according to its age and does it also affect the price\n",
    "- Ignoring the 'no age statement' group, I do not think that we can clearly state if the alcohol percentage and the age are related. \n",
    "- And also increase in alcohol percentage doesnot mean increase in price. The figure below shows it in a clearer picture."
   ]
  },
  {
   "cell_type": "code",
   "execution_count": 56,
   "metadata": {
    "ExecuteTime": {
     "end_time": "2021-01-11T08:39:57.089080Z",
     "start_time": "2021-01-11T08:39:56.953073Z"
    }
   },
   "outputs": [
    {
     "data": {
      "application/vnd.plotly.v1+json": {
       "config": {
        "linkText": "Export to plot.ly",
        "plotlyServerURL": "https://plot.ly",
        "showLink": true
       },
       "data": [
        {
         "marker": {
          "color": "rgba(255, 153, 51, 1.0)",
          "line": {
           "width": 1.3
          },
          "opacity": 0.8,
          "size": 12,
          "symbol": "circle"
         },
         "mode": "markers",
         "name": "Yes",
         "text": [
          "Benromach 21 Year Old",
          "Paul John Christmas Edition 2020",
          "Compass Box Magic Cask",
          "Johnnie Walker Blue Label Chinese New Year 2021 - Year of the Ox",
          "The Glenlivet 1986 33 Year Old Connoisseur's Choice",
          "Balblair 1990 29 Year Old Connoisseur's Choice",
          "Character of Islay Bowmore 18 Year Old Wind & Waves #11714",
          "The Singleton of Glen Ord 38 Year Old Epicurean Odyssey",
          "Johnnie Walker Black Icon 200th Anniversary",
          "Johnnie Walker Gold Icon 200th Anniversary",
          "Glen Moray 2006 Sauternes Cask",
          "Glenmorangie Quinta Ruban Giraffe Tin",
          "Glenmorangie 12 Year Old Malaga",
          "Compass Box Peat Monster Arcana",
          "anCnoc 2007 #660",
          "Wemyss Malts Bunnahabhain 1990 28 Year Old Boat Captain's Brew",
          "Wemyss Malts Bowmore 1988 31 Year Old Candied Violets",
          "Glendronach 27 Year Old #182 Oloroso UK Exclusive Single Cask",
          "GlenAllachie 10 Year Old Cask Strength Batch 4",
          "Kilchoman Machir Bay Cask Strength Christmas Edition",
          "Bruichladdich Black Art 8",
          "Macallan 50 Year Old Red Collection",
          "Glenmorangie 10 Year Old Original Giraffe Tin",
          "Glen Scotia 11 Year Old Sherry Double Cask",
          "Fettercairn 46 Year Old",
          "Bunnahabhain 1997 Moine",
          "Macallan Exceptional Cask 1993 #3917",
          "Balvenie Tun 1509 Batch 7",
          "Pittyvaich 30 Year Old Special Releases 2020",
          "Dalwhinnie 30 Year Old Special Releases 2020",
          "Cardhu 11 Year Old Special Releases 2020",
          "Lagavulin 12 Year Old Special Releases 2020",
          "Talisker 8 Year Old Special Releases 2020",
          "Singleton 17 Year Old Special Releases 2020",
          "Bunnahabhain Cruach-Mhona",
          "Bunnahabhain Eirigh Na Greine",
          "Loch Lomond Wales Open & Celtic Classic Oloroso Cask",
          "Loch Lomond The English Open Sauternes Cask",
          "Loch Lomond British Masters Limousin Oak Cask",
          "Loch Lomond The English Championship Rum Cask",
          "Loch Lomond The UK Championship Tawny Port Cask",
          "Fettercairn 22 Year Old",
          "Macallan 1954 47 Year Old Fine & Rare #1902",
          "Macallan 1940 37 Year Old Fine & Rare",
          "The Glenlivet Spectra",
          "Laphroaig 10 Year Old Cask Strength 2020",
          "Glenallachie 2008 #508",
          "Macallan Rare Cask 2020 Release",
          "Glen Scotia 14 Year Old Tawny Port Finish Campbeltown Malts Festival 2020",
          "Wemyss Malts Velvet Fig 25 Year Old",
          "Glenglassaugh 1978 40 Year Old #3060",
          "Old Malt Cask Ardbeg 32 Year Old 1967",
          "Glenkeir Treasures Twin Casks Secret Highland 11 Year Old",
          "Glenkeir Treasures Twin Casks Secret Speyside 9 Year Old",
          "Glen Scotia 2009 #784",
          "First Editions Blair Athol 2009",
          "Ardbeg 1972 VELIER",
          "Johnnie Walker Blue Label Rare Side of Scotland",
          "Dailuaine 46 Year Old Platinum Old & Rare",
          "Jura 1989",
          "Nectar Grove Batch Strength",
          "Johnnie Walker Sweet Peat",
          "Glendronach 1993 26 Year Old #7434",
          "Glen Scotia 45 Year Old",
          "Macallan Exceptional Single Cask 1950",
          "Brora 40 Year Old 200th Anniversary",
          "The Last Drop 56 Year Old",
          "Johnnie Walker Blue Label Ghost & Rare: Glenury Royal",
          "GlenAllachie 25 Year Old",
          "Compass Box The Circle",
          "Jura Two-One-Two (212)",
          "Talisker 41 Year Old",
          "Benromach Cask Strength 2009",
          "Port Ellen 39 Year Old Untold Stories: The Spirit Safe",
          "Arbikie Highland Rye",
          "Macallan Estate 2019",
          "Clynelish Reserve - Game of Thrones House Tyrell",
          "Whisky Works Glaswegian 29 Year Old",
          "Whisky Works King of Trees 10 Year Old",
          "Kingsbarns Dream to Dram",
          "Glenmorangie Grand Vintage Malt 1991",
          "Springbank 1997 21 year old Authors Series - Oscar Wilde",
          "Glenkeir Treasures Secret Islay",
          "Loch Lomond 19 Year Old Royal Portrush",
          "Johnnie Walker Blenders' Batch Directors Edition 2016",
          "Johnnie Walker Blue Label Ghost & Rare: Port Ellen",
          "Jura 1988",
          "The Last Drop Glenrothes 1968 Cask 13504",
          "Fettercairn 40 Year Old",
          "Convalmore 32 Year Old 2017 Special Release",
          "Bunnahabhain 40 Year Old",
          "Bunnahabhain 1980 Canasta Cask Finish",
          "Old Pulteney 1983 Vintage",
          "Bruichladdich 1984 32 Year Old",
          "Glen Garioch 31 Year Old Platinum Old & Rare",
          "Glenburgie 44 Year Old Platinum Old & Rare",
          "Dufftown 44 Year Old Platinum Old & Rare",
          "Cragganmore 30 Year Old Platinum Old & Rare",
          "Braes of Glenlivet 30 Year Old Platinum Old & Rare",
          "Benrinnes 40 Year Old Platinum Old & Rare",
          "Balmenach 40 Year Old Platinum Old & Rare",
          "Aultmore 37 Year Old Platinum Old & Rare",
          "Ardmore 31 Year Old Platinum Old & Rare",
          "Old and Rare Bunnahabhain 30 Year Old",
          "Old Malt Cask Ben Nevis 23 Year Old",
          "Old Malt Cask Longmorn 21 Year Old",
          "First Editions Ardmore 2009 9 Year Old",
          "First Editions Dailuaine 2009 9 Year Old",
          "Macallan 12 Year Old Triple Cask Gift Box",
          "Bunnahabhain 1988 Marsala Cask Finish",
          "Glen Moray Rhum Agricole",
          "Balvenie 2001 DCS Chapter 5",
          "Old Malt Cask Craigellachie 11 Year Old",
          "Dalmore 1973 Gonzalez Byass",
          "The Balvenie 50 Year Old: Marriage 0197",
          "Glenrothes 2004",
          "Glenrothes 1995",
          "Kilchoman UK Small Batch No.1",
          "First Editions Glen Garioch 2008 10 Year Old",
          "Glenrothes 40 Year Old",
          "Glenmorangie 1993 Burr Oak Reserve",
          "Auchentoshan 1996",
          "Game of Thrones Whisky Collection (Set of 9)",
          "Glenrothes 1988",
          "Old Malt Cask Tobermory 12 Year Old",
          "First Editions Dalmore 2008 11 Year Old",
          "Glen Keith 26 Year Old Platinum Old & Rare",
          "Bowmore Feis Ile 2019 Cask #666",
          "GlenAllachie 2008 #586",
          "GlenAllachie 2007 #3767 12 Year Old Single Cask",
          "GlenAllachie 2006 #6580",
          "GlenAllachie 2004 #6213",
          "GlenAllachie 2001 #4152",
          "Bowmore Craftsmen's Collection Mashmen's Selection",
          "Macallan Decades Fifties",
          "Macallan Decades Forties",
          "Mortlach 15 Year Old - Game of Thrones Six Kingdoms",
          "Macallan Rare Cask Batch No.2 2019 Release",
          "Highland Park Esquire",
          "Dalwhinnie 30 Year Old Special Releases 2019",
          "Pittyvaich 29 Year Old Special Releases 2019",
          "Mortlach 26 Year Old Special Releases 2019",
          "Singleton of Glen Ord 18 Year Old Special Releases 2019",
          "Talisker 15 Year Old Special Releases 2019",
          "Cardhu 14 Year Old Special Releases 2019",
          "Lagavulin 12 Year Old Special Releases 2019",
          "Cragganmore 12 Year Old Special Releases 2019",
          "Macallan 50 Year Old",
          "Old Pulteney 2006 #1448",
          "Tamnavulin 33 Year Old The Stillman's Dram",
          "Laphroaig 30 Year Old The Ian Hunter Story Book One",
          "Octomore 10.3 Dialogos 6 Year Old",
          "Octomore 10.1 Dialogos 5 Year Old",
          "Bruichladdich Black Art 7",
          "Balvenie Tun 1509 Batch 6",
          "First Editions Ben Nevis 1996",
          "First Editions Mortlach 2007 11 Year Old",
          "First Editions Caol Ila 2010 8 Year Old",
          "First Editions Craigellachie 2011 8 Year Old",
          "Glengoyne 30 Year Old 2018",
          "Macallan Edition No.5",
          "Littlemill 29 Year Old Private Cellar Edition 2019",
          "GlenDronach Cask Strength Batch 8",
          "The Loch Fyne Glentauchers 11 Year Old",
          "The Loch Fyne Aultmore 12 Year Old",
          "Bunnahabhain 2007 French Brandy Finish",
          "Compass Box Myths & Legends III",
          "Compass Box Myths & Legends II",
          "Compass Box Myths & Legends I",
          "GlenAllachie 10 Year Old Cask Strength Batch 2",
          "Compass Box No Name No.2",
          "Highland Park 2006 14 Year Old Connoisseur's Choice",
          "The Glenlivet 1990 30 Year Old Connoisseur's Choice",
          "Old Malt Cask Mortlach 13 Year Old",
          "First Editions Ben Nevis 2011 9 Year Old",
          "Darkness Benrinnes 13 Year Old Pedro Ximenez Cask",
          "Darkness Dailuaine 17 Year Old",
          "Darkness Auchroisk 20 Year Old",
          "Darkness Auchentoshan 26 Year Old",
          "Glen Scotia 30 Year Old",
          "First Editions Dailuaine 11 Year Old 2008",
          "First Editions Aultmore 10 Year Old 2010",
          "Glendronach 2006 13 Year Old #5538 UK Exclusive",
          "Macallan Distil Your World: London",
          "The Loch Fyne Bunnahabhain 14 Year Old 2006",
          "The Loch Fyne Craigellachie 12 Year Old 2008",
          "Laphroaig 30 Year Old The Ian Hunter Story Book Two",
          "Macallan 74 Year Old Red Collection",
          "Macallan 71 Year Old Red Collection",
          "Macallan 60 Year Old Red Collection",
          "GlenAllachie 10 Year Old Cask Strength Batch 3",
          "Highland Park 50 Year Old",
          "Macallan Edition No.6",
          "Glenmorangie A Tale of Cake",
          "Macallan Exceptional Cask 1988 #3890",
          "Macallan Exceptional Cask 2002 #2340",
          "Golden Cask Bowmore 13 Year Old",
          "Golden Cask Bunnahabhain 28 Year Old",
          "Golden Cask Tobermory 20 Year Old",
          "Golden Cask Dailuaine 18 Year Old",
          "Golden Cask Speyside 23 Year Old",
          "Golden Cask Macduff 23 Year Old",
          "Golden Cask Macduff 35 Year Old",
          "Golden Cask Braes of Glenlivet 21 Year Old",
          "Golden Cask Benrinnes 21 Year Old",
          "GlenAllachie 1989 29 Year Old #2588",
          "GlenDronach Kingsman Edition 1989 Vintage",
          "Cragganmore 20 Year Old Special Releases 2020",
          "Mortlach 21 Year Old Special Releases 2020",
          "First Editions Talisker 2010 8 Year Old",
          "GlenAllachie 13 Year Old Spirit of Speyside Festival 2020",
          "Arran 21 Year Old Kildonan & Pladda Island - Explorer Series Vol. 3",
          "Glen Moray Madeira Cask Project",
          "Fettercairn 16 Year Old",
          "Old Malt Cask Inchmurrin 23 Year Old",
          "Macallan Exceptional Single Cask 2019/ESB-5542/02",
          "Port Ellen 40 Year Old 9 Rogue Casks",
          "Dalmore 51 Year Old",
          "Loch Lomond 2006 #18/550-12",
          "Macallan 72 Year Old in Lalique",
          "Inchmurrin 2004 #17/641-2",
          "Daftmill 2007 Winter Release",
          "First Editions Deanston 2009",
          "Arran 1995 #217",
          "Macallan Exceptional Single Cask 2019/ESB-14/03",
          "Glendronach 1992 27 Year Old #5852",
          "Lagavulin 21 Year Old Jazz Festival 2019",
          "Glenrothes 1992 2nd Edition",
          "Daftmill 2008 Summer Release",
          "Ardbeg 1977 Limited Edition",
          "Macallan Concept Number 1 2018",
          "Macallan Boutique Collection 2019",
          "Aberlour 1989 Dunnage Matured Millennium",
          "Glenrothes 1984",
          "Octomore 10.4 Dialogos Virgin Oak",
          "Invergordon 21 Year Old The Sovereign",
          "Macallan 12 Year Old Triple Cask Chinese New Year Twin Pack",
          "Johnnie Walker Blue Label Year of the Rat",
          "The Loch Fyne The Living Cask Batch 9",
          "Tullibardine 30 Year Old Platinum Old & Rare",
          "Tormore 31 Year Old Platinum Old & Rare",
          "Teaninich 43 Year Old Platinum Old & Rare",
          "Tamdhu 1989 30 Year Old Platinum Old & Rare",
          "Strathmill 33 Year Old Platinum Old & Rare",
          "Linkwood 30 Year Old Platinum Old & Rare",
          "Inchgower 37 Year Old Platinum Old & Rare",
          "Glen Elgin 44 Year Old Platinum Old & Rare",
          "Glentauchers 30 Year Old Platinum Old & Rare",
          "Glenrothes 31 Year Old Platinum Old & Rare",
          "Glenlossie 44 Year Old Platinum Old & Rare",
          "Glen Garioch 31 Year Old Platinum Old & Rare",
          "Glenburgie 44 Year Old Platinum Old & Rare",
          "Dufftown 44 Year Old Platinum Old & Rare",
          "Cragganmore 30 Year Old Platinum Old & Rare",
          "Braes of Glenlivet 30 Year Old Platinum Old & Rare",
          "Benrinnes 40 Year Old Platinum Old & Rare",
          "Balmenach 40 Year Old Platinum Old & Rare",
          "Aultmore 37 Year Old Platinum Old & Rare",
          "Ardmore 31 Year Old Platinum Old & Rare",
          "Old and Rare Bunnahabhain 30 Year Old",
          "Old Malt Cask Ben Nevis 23 Year Old",
          "Old Malt Cask Longmorn 21 Year Old",
          "First Editions Ardmore 2009 9 Year Old",
          "First Editions Dailuaine 2009 9 Year Old",
          "Macallan 12 Year Old Triple Cask Gift Box",
          "Bunnahabhain 1988 Marsala Cask Finish",
          "Glen Moray Rhum Agricole",
          "Balvenie 2001 DCS Chapter 5",
          "Old Malt Cask Craigellachie 11 Year Old",
          "Dalmore 1973 Gonzalez Byass",
          "The Balvenie 50 Year Old: Marriage 0197",
          "Glenrothes 2004",
          "Glenrothes 1995",
          "Kilchoman UK Small Batch No.1",
          "First Editions Glen Garioch 2008 10 Year Old",
          "Glenrothes 40 Year Old",
          "Glenmorangie 1993 Burr Oak Reserve",
          "Auchentoshan 1996",
          "Game of Thrones Whisky Collection (Set of 9)",
          "Glenrothes 1988",
          "Old Malt Cask Tobermory 12 Year Old",
          "First Editions Dalmore 2008 11 Year Old",
          "Glen Keith 26 Year Old Platinum Old & Rare",
          "Bowmore Feis Ile 2019 Cask #666",
          "GlenAllachie 2008 #586",
          "GlenAllachie 2007 #3767 12 Year Old Single Cask",
          "GlenAllachie 2006 #6580",
          "GlenAllachie 2004 #6213",
          "GlenAllachie 2001 #4152",
          "Bowmore Craftsmen's Collection Mashmen's Selection",
          "Macallan Decades Fifties",
          "Macallan Decades Forties",
          "Mortlach 15 Year Old - Game of Thrones Six Kingdoms",
          "Macallan Rare Cask Batch No.2 2019 Release",
          "Highland Park Esquire",
          "Dalwhinnie 30 Year Old Special Releases 2019",
          "Pittyvaich 29 Year Old Special Releases 2019",
          "Mortlach 26 Year Old Special Releases 2019",
          "Singleton of Glen Ord 18 Year Old Special Releases 2019",
          "Talisker 15 Year Old Special Releases 2019",
          "Cardhu 14 Year Old Special Releases 2019",
          "Lagavulin 12 Year Old Special Releases 2019",
          "Cragganmore 12 Year Old Special Releases 2019",
          "Macallan 50 Year Old",
          "Old Pulteney 2006 #1448",
          "Tamnavulin 33 Year Old The Stillman's Dram",
          "Laphroaig 30 Year Old The Ian Hunter Story Book One",
          "Octomore 10.3 Dialogos 6 Year Old",
          "Octomore 10.1 Dialogos 5 Year Old",
          "Bruichladdich Black Art 7",
          "Balvenie Tun 1509 Batch 6",
          "First Editions Ben Nevis 1996",
          "First Editions Mortlach 2007 11 Year Old",
          "First Editions Caol Ila 2010 8 Year Old",
          "First Editions Craigellachie 2011 8 Year Old",
          "Glengoyne 30 Year Old 2018",
          "Macallan Edition No.5",
          "Littlemill 29 Year Old Private Cellar Edition 2019",
          "GlenDronach Cask Strength Batch 8",
          "The Loch Fyne Glentauchers 11 Year Old",
          "The Loch Fyne Aultmore 12 Year Old",
          "Bunnahabhain 2007 French Brandy Finish",
          "Compass Box Myths & Legends III",
          "Compass Box Myths & Legends II",
          "Compass Box Myths & Legends I",
          "GlenAllachie 10 Year Old Cask Strength Batch 2",
          "Compass Box No Name No.2",
          "Benromach Peat Smoke Sherry Cask Matured 2009",
          "Ardbeg Traigh Bhan 19 Year Old",
          "Highland Park Valfather",
          "anCnoc 16 Year Old 125th Anniversary",
          "anCnoc Peat",
          "Laphroaig 10 Year Old Original Cask Strength",
          "Old Pulteney 21 Year Old & 1989 Vintage Twin Pack",
          "First Editions Royal Brackla 2009",
          "Longrow 1992 10 Year Old",
          "Distiller's Art Braeval 13 Year Old",
          "Chivas Regal 12 Year Old Tim Little",
          "First Editions Blair Athol 2010",
          "First Editions Mortlach 2009",
          "GlenDronach Cask Strength Batch 6",
          "First Editions Benrinnes 2009",
          "First Editions Inchgower 2008 20cl",
          "First Editions Benrinnes 2010 8 Year Old 20cl",
          "Old Malt Cask Bowmore 17 Year Old",
          "First Editions Tullibardine 2008",
          "First Editions Bunnahabhain 2007 - 2018 Edition",
          "Talisker 25 Year Old 2004",
          "Highland Park 26 Year Old Soren Solkaer",
          "Loch Lomond 2002 Cristie Kerr",
          "The Loch Fyne The Living Cask Batch 8",
          "Old Malt Cask Arran 21 Year Old",
          "Arran Master of Distilling II",
          "Loch Lomond 2004 Colin Montgomerie Single Cask",
          "Loch Lomond The Open Special Edition Distiller's Cut",
          "Chichibu Single Cask #5036",
          "Chichibu Single Cask #1700",
          "Glenkeir Treasures Secret Islay 10cl",
          "Glenkeir Treasures Secret Islay 20cl",
          "Glenkeir Treasures Speyburn 10 Year Old 10cl",
          "Glenkeir Treasures Speyburn 10 Year Old 20cl",
          "Glenkeir Treasures Secret Speyside 8 Year Old 10cl",
          "Glenkeir Treasures Secret Speyside 8 Year Old 20cl",
          "Glenkeir Treasures Speyburn 10 Year Old",
          "Glenkeir Treasures Secret Speyside 8 Year Old",
          "BenRiach Batch 16 2012 #7825",
          "BenRiach Batch 16 2009 #6095",
          "BenRiach Batch 16 2008 #3085",
          "BenRiach Batch 16 2007 #3237",
          "BenRiach Batch 16 2008 #2506",
          "BenRiach Batch 16 2007 #7611",
          "BenRiach Batch 16 2005 #3435",
          "BenRiach Batch 16 2005 #3791",
          "BenRiach Batch 16 1994 #6500",
          "BenRiach Batch 16 1993 #7881",
          "BenRiach Batch 16 1991 #1865",
          "BenRiach Batch 16 1985 #7214",
          "Bunnahabhain Elements 39 Year Old",
          "Johnnie Walker Directors Blend 2012",
          "Glen Ord 25 Year Old",
          "Kilchoman 2006 Vintage",
          "First Editions Tamdhu 2007",
          "Glen Scotia 1999 Single Cask",
          "Macallan Private Eye",
          "Benromach 1981",
          "Distiller's Art Royal Brackla 18 Year Old",
          "Connoisseur's Choice Glencadam 1991",
          "First Editions Craigellachie 2006",
          "First Editions Benrinnes 2010",
          "Old Malt Cask Talisker 8 Year Old",
          "Macallan Genesis",
          "Glenmorangie 15 Year Old Sauternes Wood Finish",
          "Port Charlotte MRC: 01 2010",
          "Loch Lomond 25 Year Old Triple Wood",
          "First Editions Craigellachie 2008 10 Year Old",
          "First Editions Inchgower 2008 10 Year Old",
          "Kilchoman STR Cask Matured",
          "Loch Lomond 2004 Single Cask",
          "Ardbeg Drum",
          "Loch Lomond The Open Special Edition Distiller's Cut Gift Pack",
          "Singleton of Glendullan Reserve - Game of Thrones House Tully",
          "Royal Lochnagar 12 Year Old - Game of Thrones House Baratheon",
          "Oban Bay Reserve - Game of Thrones The Night's Watch",
          "Cardhu Gold Reserve - Game of Thrones House Targaryen",
          "Dalwhinnie Winter's Frost - Game of Thrones House Stark",
          "Old Malt Cask Bowmore 17 Year Old - Feis Ile 2019",
          "Springbank 10 Year Old Local Barley",
          "Old Malt Cask Glencadam 14 Year Old",
          "Old Malt Cask Glenburgie 19 Year Old",
          "Old Malt Cask Longmorn 15 Year Old",
          "Bruichladdich Uisge Luing 10 Year Old",
          "GlenDronach 1992 26 Year Old The Whisky Shop Exclusive",
          "Highland Park Twisted Tattoo 16 Year Old",
          "Game of Thrones Whisky Collection (Set of 8)",
          "Old Malt Cask Ben Nevis 22 Year Old",
          "Old Malt Cask Mortlach 11 Year Old",
          "Authors' Series Probably Speyside's Finest 1968 50 Year Old - Nathaniel Hawthorne",
          "Authors' Series Tormore 1988 30 Year Old - Charles Baudelaire",
          "Authors' Series Tullibardine 1993 25 Year Old - William Thackeray",
          "BenRiach 2005 Whisky Shop Exclusive",
          "The GlenDronach Kingsman Edition 1991 Vintage",
          "Highland Park Odin",
          "Lagavulin 12 Year Old 2014 Special Release",
          "Strathmill 1996 Managers Choice",
          "Mannochmore 1998 Managers Choice",
          "Knockando 1996 Managers Choice"
         ],
         "textfont": {
          "color": "#4D5663"
         },
         "type": "scatter",
         "x": [
          178.57,
          78.43,
          224.29,
          320,
          1228.57,
          885.71,
          421.36,
          3000,
          45.7,
          74.29,
          114.21,
          85.7,
          114.21,
          107.07,
          134.29,
          341.43,
          800,
          600,
          91.43,
          67.13,
          414.21,
          99992.86,
          57.13,
          85.64,
          12142.86,
          528.56,
          9998.57,
          428.57,
          571.43,
          785.71,
          121.43,
          178.57,
          128.57,
          157.14,
          84.99,
          74.99,
          121.41,
          121.41,
          121.41,
          128.56,
          128.56,
          285.71,
          45707.14,
          49992.86,
          166.58,
          110,
          128.5,
          314.27,
          107.14,
          155.71,
          1427.14,
          4564.29,
          140,
          136,
          92.86,
          100,
          9992.86,
          307.14,
          1535.71,
          857.14,
          71.43,
          60,
          355.71,
          5428.57,
          98571.43,
          6428.57,
          5357.14,
          392.86,
          357.14,
          171.43,
          128.57,
          4142.86,
          84.27,
          6428.57,
          357.14,
          248.43,
          68.57,
          185.71,
          107.14,
          70,
          857.07,
          892.86,
          110,
          228.57,
          2995,
          377.14,
          928.57,
          7714.29,
          4285.71,
          1928.57,
          3178.57,
          2571.43,
          714.29,
          1000,
          442.86,
          1442.86,
          1442.86,
          571.43,
          407.14,
          1021.43,
          1021.43,
          692.86,
          457.14,
          800,
          228.57,
          214.29,
          98.57,
          98.57,
          100,
          642.86,
          84.29,
          1142.86,
          128.57,
          2850,
          39285.71,
          92.86,
          157.14,
          85.71,
          100,
          4142.86,
          712.86,
          357.14,
          82.22,
          507.14,
          131.43,
          111.43,
          385.71,
          3570,
          121.43,
          135.71,
          142.86,
          157.14,
          192.86,
          427.14,
          720,
          720,
          171.43,
          328.57,
          285.71,
          714.29,
          471.43,
          2142.86,
          185.71,
          157.14,
          171.43,
          157.14,
          121.43,
          119993.33,
          141.43,
          857.14,
          998.57,
          250,
          181.43,
          421.43,
          392.86,
          228.57,
          121.43,
          150,
          100,
          1000,
          140.71,
          3928.57,
          105.71,
          150,
          160,
          155.71,
          185.71,
          185.71,
          185.71,
          87.14,
          157.14,
          133.57,
          885.71,
          138.57,
          100,
          133.9,
          149.9,
          213.9,
          179.98,
          1214.29,
          117.14,
          100,
          200,
          3757.14,
          190,
          160,
          1228.57,
          135714.29,
          127142.86,
          112857.14,
          87.14,
          24142.86,
          140.71,
          107.14,
          12855.71,
          1928.57,
          138.57,
          264.29,
          135.71,
          135.71,
          157.14,
          157.14,
          342.86,
          142.86,
          142.86,
          535.71,
          1107.14,
          185.71,
          821.43,
          151.41,
          178.57,
          241.43,
          92.86,
          100,
          228.57,
          5000,
          9135.71,
          98571.43,
          84.21,
          102857.14,
          92.86,
          235.71,
          105.71,
          255.71,
          4278.57,
          428.57,
          1141.43,
          235.71,
          278.57,
          1357.14,
          321.43,
          570,
          141.43,
          278.57,
          228.57,
          185.71,
          85.71,
          307.14,
          90,
          371.43,
          485.71,
          1278.57,
          407.14,
          478.57,
          442.86,
          735.71,
          1442.86,
          400,
          528.57,
          1442.86,
          442.86,
          1442.86,
          1442.86,
          571.43,
          407.14,
          1021.43,
          1021.43,
          692.86,
          457.14,
          800,
          228.57,
          214.29,
          98.57,
          98.57,
          100,
          642.86,
          84.29,
          1142.86,
          128.57,
          2850,
          39285.71,
          92.86,
          157.14,
          85.71,
          100,
          4142.86,
          712.86,
          357.14,
          82.22,
          507.14,
          131.43,
          111.43,
          385.71,
          3570,
          121.43,
          135.71,
          142.86,
          157.14,
          192.86,
          427.14,
          720,
          720,
          171.43,
          328.57,
          285.71,
          714.29,
          471.43,
          2142.86,
          185.71,
          157.14,
          171.43,
          157.14,
          121.43,
          119993.33,
          141.43,
          857.14,
          998.57,
          250,
          181.43,
          421.43,
          392.86,
          228.57,
          121.43,
          150,
          100,
          1000,
          140.71,
          3928.57,
          105.71,
          150,
          160,
          155.71,
          185.71,
          185.71,
          185.71,
          87.14,
          157.14,
          84.29,
          241.43,
          85.71,
          142.86,
          114.29,
          107.14,
          428.57,
          88.57,
          112.86,
          120,
          57.14,
          98.57,
          98.57,
          90,
          91.43,
          130,
          125,
          271.43,
          114.29,
          100,
          850,
          785.71,
          357.14,
          90,
          255.71,
          107.13,
          114.29,
          78.57,
          2564.29,
          2564.29,
          120,
          120,
          130,
          130,
          130,
          130,
          110,
          110,
          78.57,
          100,
          108.57,
          120,
          120,
          131.43,
          141.43,
          157.14,
          328.57,
          357.14,
          428.57,
          850,
          17135.71,
          3928.57,
          628.57,
          564.29,
          105.71,
          192.86,
          6428.57,
          428.57,
          170,
          210,
          108.57,
          94.29,
          164.29,
          4857.14,
          320,
          141.43,
          357.14,
          100,
          100,
          107.14,
          157.14,
          141.43,
          78.57,
          54.29,
          54.29,
          92.86,
          68.57,
          68.57,
          284.29,
          171.43,
          141.43,
          178.57,
          150,
          128.57,
          341.43,
          114.29,
          71.07,
          228.57,
          135.71,
          3928.57,
          607.14,
          564.29,
          121.43,
          785.71,
          500,
          114.29,
          424.29,
          371.43,
          491.43
         ],
         "y": [
          "normal",
          "normal",
          "normal",
          "normal",
          "normal",
          "high",
          "high",
          "normal",
          "normal",
          "normal",
          "high",
          "normal",
          "normal",
          "normal",
          "normal",
          "normal",
          "normal",
          "normal",
          "high",
          "high",
          "normal",
          "normal",
          "normal",
          "normal",
          "normal",
          "normal",
          "normal",
          "normal",
          "normal",
          "normal",
          "high",
          "high",
          "high",
          "high",
          "normal",
          "normal",
          "normal",
          "normal",
          "high",
          "high",
          "normal",
          "normal",
          "normal",
          "normal",
          "normal",
          "high",
          "normal",
          "normal",
          "normal",
          "normal",
          "normal",
          "normal",
          "normal",
          "normal",
          "high",
          "normal",
          "normal",
          "normal",
          "normal",
          "normal",
          "normal",
          "normal",
          "normal",
          "normal",
          "normal",
          "normal",
          "normal",
          "normal",
          "normal",
          "normal",
          "normal",
          "normal",
          "high",
          "normal",
          "normal",
          "normal",
          "normal",
          "normal",
          "normal",
          "normal",
          "normal",
          "normal",
          "normal",
          "normal",
          "normal",
          "normal",
          "normal",
          "normal",
          "normal",
          "normal",
          "normal",
          "normal",
          "normal",
          "normal",
          "normal",
          "normal",
          "normal",
          "normal",
          "normal",
          "normal",
          "normal",
          "normal",
          "normal",
          "normal",
          "normal",
          "normal",
          "normal",
          "normal",
          "normal",
          "normal",
          "normal",
          "high",
          "normal",
          "normal",
          "normal",
          "normal",
          "normal",
          "normal",
          "normal",
          "normal",
          "high",
          "high",
          "normal",
          "normal",
          "normal",
          "normal",
          "normal",
          "normal",
          "high",
          "high",
          "high",
          "high",
          "high",
          "high",
          "normal",
          "normal",
          "normal",
          "normal",
          "high",
          "normal",
          "normal",
          "normal",
          "normal",
          "high",
          "normal",
          "high",
          "high",
          "normal",
          "normal",
          "normal",
          "normal",
          "high",
          "high",
          "normal",
          "normal",
          "normal",
          "normal",
          "normal",
          "normal",
          "normal",
          "normal",
          "normal",
          "high",
          "high",
          "high",
          "normal",
          "normal",
          "normal",
          "normal",
          "normal",
          "normal",
          "high",
          "normal",
          "normal",
          "normal",
          "normal",
          "normal",
          "normal",
          "normal",
          "normal",
          "normal",
          "normal",
          "high",
          "high",
          "normal",
          "high",
          "normal",
          "normal",
          "normal",
          "normal",
          "high",
          "normal",
          "normal",
          "normal",
          "normal",
          "high",
          "high",
          "normal",
          "high",
          "high",
          "high",
          "high",
          "normal",
          "normal",
          "high",
          "normal",
          "normal",
          "high",
          "high",
          "normal",
          "high",
          "normal",
          "normal",
          "normal",
          "normal",
          "high",
          "normal",
          "normal",
          "normal",
          "normal",
          "normal",
          "normal",
          "normal",
          "normal",
          "high",
          "high",
          "normal",
          "normal",
          "normal",
          "normal",
          "normal",
          "normal",
          "normal",
          "normal",
          "high",
          "normal",
          "normal",
          "normal",
          "normal",
          "normal",
          "normal",
          "normal",
          "normal",
          "normal",
          "normal",
          "normal",
          "normal",
          "normal",
          "normal",
          "normal",
          "normal",
          "normal",
          "normal",
          "normal",
          "normal",
          "normal",
          "normal",
          "normal",
          "normal",
          "normal",
          "normal",
          "normal",
          "normal",
          "normal",
          "normal",
          "normal",
          "normal",
          "high",
          "normal",
          "normal",
          "normal",
          "normal",
          "normal",
          "normal",
          "normal",
          "normal",
          "high",
          "high",
          "normal",
          "normal",
          "normal",
          "normal",
          "normal",
          "normal",
          "high",
          "high",
          "high",
          "high",
          "high",
          "high",
          "normal",
          "normal",
          "normal",
          "normal",
          "high",
          "normal",
          "normal",
          "normal",
          "normal",
          "high",
          "normal",
          "high",
          "high",
          "normal",
          "normal",
          "normal",
          "normal",
          "high",
          "high",
          "normal",
          "normal",
          "normal",
          "normal",
          "normal",
          "normal",
          "normal",
          "normal",
          "normal",
          "high",
          "high",
          "high",
          "normal",
          "normal",
          "normal",
          "normal",
          "normal",
          "normal",
          "high",
          "normal",
          "normal",
          "high",
          "normal",
          "high",
          "normal",
          "normal",
          "normal",
          "normal",
          "normal",
          "normal",
          "normal",
          "high",
          "normal",
          "normal",
          "normal",
          "normal",
          "normal",
          "normal",
          "high",
          "normal",
          "normal",
          "normal",
          "normal",
          "normal",
          "normal",
          "normal",
          "high",
          "high",
          "normal",
          "normal",
          "normal",
          "normal",
          "normal",
          "normal",
          "normal",
          "normal",
          "high",
          "high",
          "high",
          "high",
          "high",
          "high",
          "normal",
          "high",
          "normal",
          "normal",
          "normal",
          "normal",
          "normal",
          "normal",
          "high",
          "normal",
          "normal",
          "high",
          "normal",
          "normal",
          "normal",
          "normal",
          "normal",
          "normal",
          "normal",
          "normal",
          "normal",
          "high",
          "normal",
          "normal",
          "normal",
          "normal",
          "normal",
          "normal",
          "normal",
          "normal",
          "normal",
          "normal",
          "normal",
          "normal",
          "normal",
          "high",
          "normal",
          "normal",
          "normal",
          "high",
          "normal",
          "normal",
          "normal",
          "normal",
          "normal",
          "normal",
          "normal",
          "normal",
          "high",
          "normal",
          "high",
          "normal",
          "high",
          "high",
          "high"
         ]
        },
        {
         "marker": {
          "color": "rgba(55, 128, 191, 1.0)",
          "line": {
           "width": 1.3
          },
          "opacity": 0.8,
          "size": 12,
          "symbol": "circle"
         },
         "mode": "markers",
         "name": "No",
         "text": [
          "John Walker & Sons King George V",
          "Benriach 2005 UK Exclusive Pedro Ximenez Cask #5278",
          "Benriach 2005 UK Exclusive Peated Rum Cask #7553",
          "Black Bottle 10 Year Old",
          "Deanston 10 Year Old Bordeaux Red Wine Cask Finish",
          "Drinks By The Dram Whisky Baubles",
          "GlenAllachie 2006 #6620",
          "Golden Cask Linkwood 12 Year Old",
          "Talisker 10 Year Old 20cl Hot Chocolate Gift Set",
          "Singleton of Dufftown 12 Year Old Tumbler Gift Set",
          "Johnnie Walker Blue Label Glass Gift Set",
          "Johnnie Walker Black Label Glass Gift Set",
          "Johnnie Walker 18 Year Old Glass Gift Set",
          "Johnnie Walker Black Label Gift Tin",
          "Johnnie Walker Green Label Gift Set",
          "Johnnie Walker Gold Label Glass Gift Set",
          "Compass Box Spice Tree Extravaganza",
          "Compass Box Rogues Banquet",
          "Compass Box Juveniles",
          "Compass Box Flaming Heart",
          "Gordon & MacPhail Glen Grant 1954 59 Year Old",
          "Gordon & MacPhail Mortlach 1949 51 Year Old",
          "Darkness Caperdonich 23 Year Old 10188",
          "Octomore 10 Year Old Dialogos 2009",
          "Octomore 11.3 Islay Barley",
          "Ardbeg Wee Beastie",
          "Bowmore 15 Year Old Glass Gift Set",
          "Arran Sauternes Cask Finish",
          "The Loch Fyne The Living Cask Batch 10",
          "Johnnie Walker Blue Label 200th Anniversary",
          "GlenAllachie 9 Year Old Rye Cask Finish",
          "Darkness 8 Year Old",
          "Darkness Bowmore 17 Year Old Moscatel Cask Finish",
          "Aerolite Lyndsay Islay 10 Year Old",
          "Dalmore 12 Year Old Sherry Cask Select",
          "Deanston 1991 Muscat Cask Finish",
          "Ardbeg An Oa Smoker Gift Pack",
          "Tobermory 12 Year Old 2007 Port Pipe Finish",
          "Ledaig 21 Year Old 1998 Marsala Cask Finish",
          "Deanston 2002 Pinot Noir Cask",
          "Deanston 2002 Organic",
          "Bunnahabhain 2008 Manzanilla Cask",
          "Tobermory 23 Year Old",
          "Macallan 1990 22 Year Old Fine & Rare #24706",
          "Benriach The Smoky Ten",
          "Benriach The Original Ten",
          "Benriach The Smoky Twelve",
          "Benriach The Twelve",
          "Loch Lomond 30 Year Old",
          "Loch Lomond 21 Year Old",
          "Port Charlotte OLC: 01 2010 Heavily Peated",
          "Macallan 18 Year Old Double Cask",
          "Teacher's Highland Cream",
          "Balvenie The Edge of Burnhead Wood 19 Year Old",
          "Stylish Whisky Mini Nessie Decanter 10cl",
          "Stylish Whisky Mini Piper Decanter 10cl",
          "Arran Sherry Cask The Bodega",
          "Arran Quarter Cask The Bothy",
          "Robert Burns Malt Gift Pack",
          "Singleton of Dufftown 12 Year Old Gift Set",
          "Glenrothes Whisky Maker's Cut",
          "Laphroaig Lore Gift Set",
          "GlenAllachie 15 Year Old",
          "Dalmore Port Wood Reserve Gift Set",
          "Bruichladdich The Classic Laddie Scottish Barley Gift Pack",
          "Balblair 25 Year Old",
          "Glenfiddich Grand Cru 23 Year Old",
          "Johnnie Walker Taster Gift Set 3x5cl",
          "GlenAllachie 18 Year Old",
          "GlenAllachie 12 Year Old",
          "Old Pulteney 25 Year Old - 2019",
          "Highland Park 12 Year Old",
          "Stylish Whisky Golf Club Decanter 20cl",
          "Pot Still Tap & 2 Glasses",
          "Auchentoshan Gift Pack 3x5cl",
          "Loch Lomond 12 Year Old Taster Pack",
          "Kilchoman Twin Pack 2x20cl",
          "Kilchoman Sanaig 20cl",
          "Loch Lomond Single Grain",
          "Loch Lomond Signature",
          "Macallan 10 Year Old Sherry Oak",
          "Bruichladdich The Classic Laddie 20cl",
          "Longrow Peated",
          "Glencairn Whisky Glasses & Auchentoshan 20cl Gift Set",
          "Kilchoman Sanaig",
          "Kilchoman Machir Bay",
          "Balvenie The Week of Peat 14 Year Old",
          "Balvenie The Sweet Toast of American Oak 12 Year Old",
          "Johnnie Walker 18 Year Old",
          "Tobermory 12 Year Old",
          "Balblair 18 Year Old",
          "Balblair 15 Year Old",
          "Balblair 12 Year Old",
          "Compass Box The Spaniard",
          "Macallan 1937 32 Year Old Fine & Rare",
          "Macallan 1938 31 Year Old Fine & Rare",
          "Macallan 1947 15 Year Old Fine & Rare",
          "Glenglassaugh Evolution",
          "Balvenie 1971 DCS Chapter 4",
          "Glen Moray Mastery",
          "Glen Scotia Victoriana",
          "Talisker 1953 24 Year Old Connoisseur's Choice",
          "Talisker 1952 21 Year Old Connoisseur's Choice",
          "Johnnie Walker Green Label",
          "Ballantine's Miltonduff 17 Year Old",
          "The John Walker",
          "Glenfiddich 30 Year Old",
          "Glendronach Peated Cask",
          "Laphroaig Select",
          "Glenglassaugh 30 Year Old",
          "Glenfiddich 18 Year Old 5cl",
          "Glenfiddich 15 Year Old Solera 20cl",
          "Cragganmore Distillers Edition",
          "Singleton of Dufftown 15 Year Old",
          "Blairmhor 8 Year Old 35cl",
          "Singleton of Dufftown 18 Year Old",
          "Knockando 12 year old",
          "Johnnie Walker Blue Label 20cl",
          "The Glenlivet 12 Year Old",
          "Glenkinchie 12 year old 20cl",
          "Cragganmore 12 year old 20cl",
          "Black Bottle",
          "BenRiach 10 Year Old Curiositas",
          "Whyte & Mackay",
          "Teaninich 10 Year Old",
          "Mannochmore 12 year old",
          "Johnnie Walker Red Label",
          "GlenDronach 18 Year Old 5cl",
          "Glayva",
          "The Glenlivet Nadurra Oloroso Cask Finish",
          "Dalmore 40 Year Old",
          "Aberlour Casg Annamh",
          "Compass Box Malt Whisky Collection",
          "Benrinnes 15 Year Old",
          "Chivas Regal Mizunara",
          "Monkey Shoulder Smokey Monkey",
          "Mortlach 12 Year Old The Wee Witchie",
          "Glenfiddich Fire & Cane",
          "Benromach 2008 cask strength",
          "Ailsa Bay 1.2 Sweet Smoke",
          "GlenDronach 15 Year Old Revival",
          "Bruichladdich Classic Laddie Gift Pack",
          "Fettercairn 28 Year Old",
          "Macallan 30 Year Old Sherry Oak 2020",
          "Old Pulteney 18 Year Old",
          "Old Pulteney 15 Year Old",
          "Old Pulteney Huddart",
          "Glenfiddich Winter Storm Batch 2",
          "Port Charlotte 10 Year Old",
          "Talisker 40 Year Old",
          "Macallan 12 Year Old Triple Cask",
          "BenRiach 21 Year Old",
          "The Loch Fyne Chocolate & Orange Liqueur 5cl",
          "The Loch Fyne Blend 5cl",
          "The Tweeddale The Evolution",
          "Classic Malts Gentle Collection",
          "Classic Malts Coastal Collection",
          "Classic Malt Pack Strong 3 x 20cl",
          "Golf Ball on Tee with Tap",
          "Johnnie Walker Gold Label Reserve",
          "Johnnie Walker Blue Label",
          "Johnnie Walker Black Label",
          "Hazelburn 10 Year Old",
          "Jura 18 Year Old",
          "Jura Seven Wood",
          "Bunnahabhain Toiteach A Dha",
          "Macallan 12 Year Old Double Cask",
          "Dalmore 45 Year Old",
          "Jura 12 Year Old",
          "Macallan 18 Year Old Sherry Oak 2020",
          "Caol Ila 12 Year Old 20cl",
          "Shackleton Blended Malt Scotch",
          "Bunnahabhain Stiuireadair",
          "Globe and 4 Glasses",
          "Macallan No 6 1824 Series",
          "Glenfiddich 21 Year Old 20cl",
          "Barrel and 2 Glasses",
          "Auchentoshan Gift Pack 3 x 20cl",
          "Old Malt Cask Highland Park 19 Year Old",
          "Barley Tap and 2 Glasses",
          "Glenfiddich IPA Experiment",
          "Glenglassaugh Octaves Classic",
          "Laphroaig Lore",
          "Aberlour 18 Year Old",
          "Dalmore 35 Year Old",
          "Chivas Regal 25 year old",
          "Old Pulteney 25 Year Old",
          "The Lost Distillery Co. Lossit",
          "Ardbeg An Oa",
          "Arran 10 Year Old",
          "Glenfiddich 26 Year Old Excellence",
          "The Lost Distillery Co. Jericho",
          "Highland Park Fire",
          "Talisker Skye",
          "Inchmurrin Taster Pack",
          "Robert Burns Malt",
          "Glenfiddich 40 Year Old",
          "Loch Lomond Taster Pack",
          "Aberlour 12 Year Old",
          "Inchmoan 1992",
          "Benromach Peat Smoke",
          "anCnoc 18 Year Old",
          "Laphroaig Quarter Cask",
          "Glengoyne 28 Year Old",
          "Glenrothes Elders' Reserve 10cl",
          "BenRiach 10 Year Old Gift Set",
          "Talisker 10 Year Old Gift Set",
          "Jura 12 Year Old Gift Pack 2019",
          "Bowmore 15 Year Old Gift Set",
          "Johnnie Walker Double Black Gift Set",
          "Benromach 15 Year Old",
          "Dalmore King Alexander III Gift Set",
          "Ardbeg 10 Year Old Ardbone Pack",
          "1770 Peated No.1",
          "Laphroaig 25 Year Old Cask Strength",
          "Glengoyne 18 Year Old 20cl",
          "Glengoyne 15 Year Old 20cl",
          "Glengoyne 10 Year Old 20cl",
          "Loch Lomond 12 Year Old Gift Pack",
          "The Lost Distillery Co. Discovery Selection Gift Pack 3x5cl",
          "Magnum Highland Cream Liqueur",
          "Port Charlotte 10 Year Old Gift Pack",
          "12 Drams of Christmas - Premium Whisky Selection Box",
          "12 Drams of Christmas - Whisky Selection Box",
          "Johnnie Walker Discover Gift Set 5x5cl",
          "Jura Gift Pack 3x5cl",
          "Golden Cask Tomatin 20 Year Old",
          "Drinks by the Dram Whisky Crackers",
          "GlenAllachie 2009 #3782",
          "GlenAllachie 2008 #3966",
          "GlenAllachie 2008 #1867",
          "GlenAllachie 2006 #111860",
          "GlenAllachie 2005 #5182",
          "GlenAllachie 1989 #6118",
          "GlenAllachie 21 Year Old Batch 1",
          "Talisker Exploration Gift Set 3x5cl",
          "Jura The Loch",
          "Darkness Aultmore 22 Year Old 10358",
          "Darkness Allt A'Bhainne 23 Year Old 10358",
          "Darkness Linkwood 19 Year Old Pedro Ximenez Cask 10559",
          "Octomore 11.1 Scottish Barley",
          "Glenallachie 11 Year Old Port Wood Finish",
          "Glenallachie 11 Year Old Mostcatel Finish",
          "Arran Port Wood Cask Finish",
          "John Walker & Sons 28 Year Old Bicentenary Blend",
          "Compass Box Hedonism Felicitas",
          "Character of Islay Tasting Set Pack",
          "Darkness Ardbeg 14 Year Old Pedro Ximénez Cask Finish #11723",
          "Darkness Ardbeg 14 Year Old Pedro Ximénez Cask Finish #10394",
          "Kilchoman 100% Islay 10th Edition",
          "Highland Park Cask Strength No.1",
          "Bowmore Vault Edition 2",
          "The Scotch Whisky Advent Calendar (2020 Edition)",
          "Dalmore Dominium - Travel Retail Exclusive",
          "Ardbeg 1991 21 Year Old Single Cask Cadenhead's Authentic Collection",
          "Ardbeg 1978 Spirit Of Scotland",
          "Balvenie 17 Year Old Islay Cask",
          "Macallan 12 Year Old Re-Awakening",
          "Macallan 15 Year Old Double Cask",
          "Loch Lomond 12 Year Old Open Edition",
          "Kilchoman Loch Gorm 2020",
          "Dalmore 25 Year Old - 2019",
          "Stylish Whisky Mini Golf Decanter 10cl",
          "Bruichladdich 17 Year Old 1l",
          "Glengoyne 28 Year Old",
          "Glenrothes Elders' Reserve 10cl",
          "BenRiach 10 Year Old Gift Set",
          "Talisker 10 Year Old Gift Set",
          "Jura 12 Year Old Gift Pack 2019",
          "Bowmore 15 Year Old Gift Set",
          "Johnnie Walker Double Black Gift Set",
          "Benromach 15 Year Old",
          "Dalmore King Alexander III Gift Set",
          "Ardbeg 10 Year Old Ardbone Pack",
          "1770 Peated No.1",
          "Laphroaig 25 Year Old Cask Strength",
          "Glengoyne 18 Year Old 20cl",
          "Glengoyne 15 Year Old 20cl",
          "Glengoyne 10 Year Old 20cl",
          "Loch Lomond 12 Year Old Gift Pack",
          "The Lost Distillery Co. Discovery Selection Gift Pack 3x5cl",
          "Magnum Highland Cream Liqueur",
          "Port Charlotte 10 Year Old Gift Pack",
          "12 Drams of Christmas - Premium Whisky Selection Box",
          "12 Drams of Christmas - Whisky Selection Box",
          "Johnnie Walker Discover Gift Set 5x5cl",
          "Jura Gift Pack 3x5cl",
          "Tullibardine 225 Sauternes Cask Finish",
          "Hazelburn 12 Year Old",
          "Ardmore 12 Year Old Port Wood Finish",
          "Bowmore 15 Year Old 35cl",
          "Speyburn Bradan Orach",
          "Port Charlotte Scottish Barley 20cl",
          "The Lost Distillery Co. Dalaruan",
          "Loch Lomond Original",
          "Aultmore 21 Year Old",
          "Piper Decanter",
          "Jura 21 Year Old Tide",
          "Macallan 30 Year Old Sherry Oak (Old style)",
          "Usquaebach Reserve",
          "North British 1980",
          "North British 20 Year Old",
          "Ballantine's 12 Year Old 1l",
          "Stylish Whisky Globe Decanter 20cl",
          "Bruichladdich Islay Barley 20cl",
          "Glengoyne 21 Year Old",
          "Glenmorangie 10 Year Old 150th Anniversary",
          "GlenDronach Port Wood 10 Year Old",
          "1770 Glasgow Single Malt",
          "Balvenie A Day of Dark Barley 26 Year Old",
          "GlenDronach 12 Year Old Walker Slater Pack",
          "Fettercairn 50 Year Old",
          "Hazelburn 14 Year Old Oloroso Cask Matured 2019",
          "Arran Explorer Series II Lochranza Castle",
          "Kilkerran Heavily Peated",
          "Macallan Archival Series Folio 3",
          "GlenDronach Master Vintage 1993 25 Year Old",
          "Macallan 1946 56 Year Old (Cask 46/3M) Fine & Rare",
          "Macallan 1949 52 Year Old (Cask 935) Fine & Rare",
          "Johnnie Walker Blue Label Year of the Pig Limited Edition",
          "Lagavulin 9 Year Old - Game of Thrones House Lannister",
          "Talisker Select Reserve - Game of Thrones House Greyjoy",
          "Compass Box Hedonism",
          "Glenmorangie Original Gift Pack",
          "Balvenie 1999 DCS Chapter 4",
          "Balvenie DCS Chapter 5 Set",
          "Macallan Masters of Photography: Magnum Edition",
          "Inchmurrin 2001 Single Cask Exclusive",
          "BenRiach 12 Year Old Sherry Wood",
          "The Singleton of Glen Ord 14 Year Old 2018 Special Release",
          "First Editions Mortlach 2007 Manager's Special",
          "Bunnahabhain 12 year old Old Malt Cask",
          "First Editions Craigellachie 2008 Manager's Special",
          "Macallan 26 Year Old Platinum Old & Rare",
          "Old Malt Cask Jura 28 Year Old",
          "Glenkeir Treasures Gift Pack",
          "Kilchoman 2007 Single Cask The Whisky Shop Exclusive",
          "Bruichladdich Black Art 6 & free glass",
          "First Editions Balmenach 10yo",
          "Glenkeir Treasures Aultmore 7 Year Old",
          "Glenkeir Treasures Glengoyne 9 Year Old",
          "Mortlach 8 year old GlenKeir Treasure",
          "Loch Lomond 50 Year Old",
          "Glenkeir Treasures Fettercairn 8 Year Old",
          "Balblair 1997 Single Cask The Whisky Shop Exclusive",
          "Glenkeir Treasures Craigellachie 9 Year Old",
          "Macallan 1940 35 Year Old Fine & Rare",
          "Old Malt Cask Tamdhu 8 Year Old 20cl",
          "Longrow Red",
          "Laphroaig First Edition 11 year old",
          "Loch Lomond 2001 The Whisky Shop Exclusive Limousin Oak Cask",
          "Royal Salute 21 Year Old Gift Pack",
          "Glen Garioch 1998 Wine Cask Matured",
          "Blair Athol 19yo",
          "Jura Prophecy 20cl",
          "Balvenie 1972 DCS Chapter 2",
          "Johnnie Walker Blue Label Year of the Rooster Limited Edition",
          "Glenkeir Treasures Secret Highland",
          "Johnnie Walker Blue Label Winter Edition",
          "The Singleton of Dufftown Spey Cascade",
          "Bowmore Small Batch",
          "Fettercairn 8 Year Old Douglas of Drumlanrig",
          "Aberfeldy 1991 The Whisky Shop Exclusive",
          "BenRiach 17 Year Old Pedro Ximenez Sherry Wood",
          "GlenDronach 14 Year Old Virgin Oak",
          "Auchentoshan American Oak",
          "The Glenlivet Cipher",
          "Glenkeir Treasures Dailuaine 6 Year Old",
          "Glenmorangie Pride 1978",
          "Benromach 35 Year Old",
          "Old Malt Cask Fettercairn 7 Year Old",
          "Old Malt Cask Craigellachie 12 Year Old 20cl",
          "Customer Favourites Gift Box",
          "Fettercairn 7 Year Old Old Malt Cask with glass gift pack",
          "Old Malt Cask Blair Athol 12 Year Old with Glass",
          "The Whisky Shop 'The Best Of Islay' Gift Box",
          "Inchgower 8 Year Old Douglas of Drumlanrig",
          "Old Pulteney 1989",
          "Bell's Decanter 2012 - Robert Duff Bell",
          "Kilchoman Madeira Cask",
          "Drambuie Jacobite Collection",
          "BRUICHLADDICH THE LADDIE TWENTY TWO YEAR OLD",
          "anCnoc 1997",
          "JOHNNIE WALKER Blue Label Anniversary 60.5%",
          "Bowmore 50 year old",
          "Glenmorangie Milsean",
          "Royal Salute World Polo Edition",
          "Johnnie Walker Blue Label Year of the Monkey Limited Edition",
          "Lochside 52 Year Old Sovereign",
          "Jura 1977",
          "Glengoyne 8 Year Old",
          "Highland Park 1968",
          "Highland Park 1970",
          "Octomore 7.3",
          "Dalmore 12 Year Old With Whisky Stones",
          "Glendronach 19 year old Madeira Cask",
          "Balvenie 1968 DCM bottling 46 year old",
          "The Whisky Shop 'Tour of Scotland' gift box",
          "Glenfarclas 2000 Gift Box Set",
          "Pittyvaich 1989 25 year old Special Release 2015",
          "Dalwhinnie 1989 25 year old Special Release 2015",
          "Dailuaine 1980 34 year old Special Release 2015",
          "Caol Ila 17 year old  Special Release 2015",
          "The Cally 1974 'Caledonian' 40 Year Old 2015 Special Release",
          "Brora 1977 37 year old Special Release 2015",
          "The Macallan M",
          "Bowmore 1957",
          "Laphroaig 32 Year Old",
          "Bowmore Devil's Cask III 37.5cl",
          "BenRiach 'Latada' 18 Year Old Peated Madeira  Finish",
          "Glendronach Octaves 20 Year Old",
          "Dalmore 30 Year Old",
          "Dalmore 21 year old",
          "Hankey Bannister",
          "Glenglassaugh Revival",
          "Dimple 15 Year Old",
          "Cutty Sark 18 Year Old",
          "Cutty Sark 12 Year Old",
          "Glenkinchie Distillers Edition",
          "Glenrothes Select Reserve",
          "Cutty Sark Prohibition",
          "The Deveron 18 Years Old",
          "The Deveron 12 Years Old",
          "Royal Brackla 21 Years Old",
          "Royal Brackla 16 Years Old",
          "Royal Brackla 12 Years Old",
          "The Naked Grouse",
          "Glenmorangie Original",
          "Octomore 7.1 Scottish Barley",
          "Aultmore 7 year old",
          "Royal Lochnagar 12 Year Old",
          "Chivas 18 Year Old Ice Drop Gift Pack",
          "Ardbeg Perpetuum",
          "Dalmore Mckenzie",
          "Glendronach The Hielan' 8 Years Old",
          "Glenrothes Vintage Reserve",
          "anCnoc 1975",
          "Laphroaig 25 Year Old 2018",
          "Laphroaig Triple Wood & free glass",
          "Laphroaig 10 year old & free glass",
          "Laphroaig 15 Year Old 200th Anniversary Bottling",
          "Macallan Ruby",
          "Macallan Masters of Photography: Mario Testino Edition: Purple Print",
          "Macallan Masters of Photography: Mario Testino Edition: Green Print",
          "Ledaig 42 year old",
          "Rare Cask Reserves  Ghosted Reserve",
          "The Glenlivet Founder's Reserve",
          "Auchentoshan 1965",
          "Laphroaig 1991",
          "Glenmorangie Tusail Private Edition",
          "Bruichladdich Black Art 4",
          "Glendronach 2003 Whisky Shop Exclusive",
          "Laphroaig 18 Year Old",
          "Bowmore 1969",
          "Bowmore 1967",
          "Ladyburn 1974 40 year old",
          "Jura 1984 Vintage",
          "Glenglassaugh 51 year old",
          "BenRiach 35 year old",
          "BenRiach 10th Anniversary 10 year old",
          "Glenmorangie The Taghta",
          "Old Pulteney 40 year old",
          "Scotland in a Box",
          "Talisker 1985 27 year old",
          "Port Ellen 34 year old 13th Release",
          "anCnoc Cutter",
          "Octomore 6.1 Scottish Barley",
          "Port Charlotte Islay Barley",
          "Glenkeir Treasures Inchgower 6 year old 10cl",
          "Glenfarclas 1966 Fino Cask",
          "Octomore 6.3 Islay Barley 2009",
          "The Glenlivet 50 year old Winchester Collection 1964",
          "Kilchoman Original Cask Strength",
          "Benrinnes 21 year old 2014 Special Release",
          "Caol Ila 15 year old",
          "Clynelish Select Reserve 2014 Special Release",
          "Cragganmore 25 Year Old 2014 Special Release",
          "Rosebank 21 Year Old 2014 Special Release",
          "The Singleton of Glendullan 38 year old 2014 Special Release",
          "Kilchoman Port Cask",
          "Glenkeir Treasures Speyside 13 year old",
          "The Black Grouse",
          "Glenfiddich 19 Year Old Age of Discovery Bourbon Cask Reserve",
          "Glenfarclas 1960",
          "Glenfarclas 1966",
          "Glenfarclas 1990",
          "Old Pulteney 1990 limited release",
          "Springbank 18 year old Renegade",
          "Balvenie Tun 1509",
          "Glenfarclas 1996",
          "Glenfarclas 1985",
          "Glenfarclas 1984",
          "Glenfarclas 1982",
          "Glenfarclas 1975",
          "Glenfarclas 1974",
          "Glenfarclas 1973",
          "Glenfarclas 1972",
          "Glenfarclas 1969",
          "Glenfarclas 1967",
          "Glenfarclas 1965",
          "Glenfarclas 1964",
          "Glenfarclas 1963",
          "Glenfarclas 1962",
          "Glenfarclas 1961",
          "Glenfarclas 1958",
          "Glenfarclas 1957",
          "Glenfarclas 1954",
          "Jura Tastival Festival bottling",
          "Islay Mist Deluxe 5cl",
          "Glenfiddich 15 Year Old Solera 5cl",
          "Famous Grouse",
          "Stag's Breath",
          "Columba Cream Liqueur",
          "Glenmorangie Original 10 year old",
          "Singleton of Dufftown 12 Year Old 5cl",
          "World Miniature Gift Pack 4 x 5cl",
          "The Glenlivet Triple Pack 3 x 20cl",
          "Hankey Bannister Original",
          "Auchentoshan 18 Year Old 5cl",
          "Tobermory 10 Year Old 5cl",
          "The Glenlivet 18 year old & 2 Glass Gift Pack",
          "Glenfarclas 10 year old 35cl",
          "Aberlour 10 Year Old",
          "The Grants Rare Cask Reserve Pack 25 year old 3 x 35cl",
          "Bruichladdich Islay Barley & free glass",
          "Old Pulteney Clipper",
          "Springbank 21 year old Renegade",
          "The Glenlivet Guardians Chapter",
          "Kininvie 23 year old batch 2",
          "Whyte & Mackay 30 year old",
          "Premium Whisky Selection Gift Pack 4 x 5cl",
          "Jura 10 year old 35cl",
          "Jura The Collection 3x5cl",
          "Dailuaine 1997 Managers Choice",
          "Clynelish Distillers Edition",
          "Cardhu Special Cask Reserve",
          "Bowmore Gift Pack 3x20cl",
          "BenRiach 25 year old",
          "Arran 14 year old",
          "Aberlour 16 Year Old",
          "Vat 69",
          "Strathmill 12 year old",
          "Scottish Leader",
          "Lauder's",
          "Grand Macnish Finest",
          "Glenglassaugh Triple Pack 3 x 20cl",
          "Antiquary 12 year old",
          "Whyte & Mackay 13 year old",
          "Whyte & Mackay 40 year old",
          "Tomintoul 27 year old",
          "Tobermory 10 year old",
          "Glenturret Triple Wood",
          "Talisker 10 year old 20cl",
          "Talisker Pack 3 x 20cl",
          "Speyburn 25 year old",
          "Scapa 16 Year Old",
          "Royal Salute Diamond Jubilee",
          "Royal Salute 100 Casks",
          "Royal Lochnagar Selected Reserve",
          "Robert Burns Blend",
          "Compass Box The Peat Monster",
          "Old Pulteney Navigator",
          "Old Pulteney 30 year old",
          "McClellands Islay Single Malt",
          "McClellands Lowland Single Malt",
          "McClellands Highland Single Malt",
          "Longmorn 16 year old",
          "Lagavulin 16 year old 20cl",
          "Isle of Jura 30 year old",
          "Isle of Jura 1976"
         ],
         "textfont": {
          "color": "#4D5663"
         },
         "type": "scatter",
         "x": [
          785.71,
          142.79,
          171.43,
          41.41,
          85.71,
          221.94,
          141.43,
          97.13,
          109.5,
          58.56,
          227.13,
          42.86,
          120,
          42.86,
          61.36,
          65.64,
          131.36,
          264.21,
          135.64,
          171.43,
          3571.43,
          5712.86,
          615.9,
          228.57,
          250,
          55.71,
          90,
          56.79,
          90,
          278.57,
          84.27,
          71.41,
          387.98,
          64.27,
          98.57,
          385.71,
          69.93,
          142.86,
          285.71,
          157.14,
          214.27,
          214.27,
          427.14,
          14214.29,
          55.64,
          52.79,
          61.29,
          55.5,
          714.29,
          207.14,
          126.67,
          357.14,
          28.57,
          371.43,
          250,
          250,
          75.64,
          58.49,
          55.71,
          54.21,
          65.43,
          112.79,
          95.71,
          114.29,
          74.29,
          750,
          268.57,
          133.33,
          138.57,
          67.14,
          607.14,
          57.14,
          225,
          228.57,
          213.33,
          173.33,
          135,
          145,
          42.86,
          42.86,
          428.57,
          130,
          67.14,
          210,
          78.57,
          70,
          78.36,
          71.43,
          117.14,
          71.43,
          148.5,
          114.29,
          74.29,
          81.43,
          49992.86,
          60714.29,
          48571.43,
          78.57,
          29992.86,
          1285.71,
          104.29,
          4285.71,
          3571.43,
          70,
          132.86,
          3021.43,
          714.29,
          67.14,
          57.14,
          514.29,
          220,
          135,
          90,
          69.93,
          54.29,
          108.57,
          64.29,
          300,
          57.14,
          125,
          125,
          30,
          67.14,
          28.57,
          82.86,
          82.86,
          42.86,
          300,
          52,
          87.14,
          9642.86,
          67.07,
          166.67,
          68.43,
          74.29,
          64.29,
          71.43,
          61.43,
          85.7,
          85.71,
          88.57,
          74.29,
          785.71,
          6785.71,
          139.93,
          84.14,
          71.43,
          284.29,
          88.57,
          3928.57,
          100,
          199.99,
          140,
          140,
          250,
          73.32,
          66.65,
          83.33,
          228.57,
          74.29,
          214.29,
          62.86,
          82.86,
          107.14,
          84.29,
          54.14,
          72.84,
          15714.29,
          64.29,
          464.29,
          140,
          57.14,
          48.5,
          228.57,
          4000,
          225,
          228.57,
          115,
          427.14,
          228.57,
          81.43,
          97.14,
          127.14,
          290,
          6428.57,
          407.14,
          428.57,
          71.43,
          70,
          64.29,
          535.71,
          71.43,
          271.43,
          64.29,
          186.67,
          55.71,
          3928.57,
          173.33,
          68.57,
          328.57,
          67.14,
          125.71,
          71.43,
          850,
          200,
          42.84,
          57.14,
          64.29,
          91.41,
          57.14,
          100,
          321.43,
          74.29,
          98,
          657.14,
          160,
          110,
          95,
          71.43,
          166.67,
          34.29,
          88.57,
          249.97,
          191.67,
          128,
          140,
          185.71,
          221.94,
          122.86,
          128.57,
          128.57,
          137.14,
          151.43,
          757.14,
          284.29,
          79.93,
          64.29,
          175.9,
          190,
          201.9,
          178.57,
          89.99,
          89.99,
          57.13,
          1057.14,
          250,
          199.93,
          319.98,
          279.98,
          107.14,
          85.71,
          141.43,
          208.33,
          107.14,
          707.14,
          850,
          498.57,
          1707.14,
          142.86,
          78.5,
          107.14,
          1250,
          250,
          195,
          850,
          200,
          42.84,
          57.14,
          64.29,
          91.41,
          57.14,
          100,
          321.43,
          74.29,
          98,
          657.14,
          160,
          110,
          95,
          71.43,
          166.67,
          34.29,
          88.57,
          249.97,
          191.67,
          128,
          140,
          85.71,
          84.29,
          80,
          105.71,
          34.27,
          120,
          71.43,
          35.71,
          257.14,
          228.57,
          228.57,
          8571.43,
          55.71,
          357.14,
          178.57,
          99,
          225,
          140,
          214.29,
          285.71,
          85.71,
          98,
          892.86,
          70,
          25707.14,
          92.86,
          192.86,
          62.86,
          2571.43,
          357.14,
          57000,
          58571.43,
          278.43,
          92.86,
          68.57,
          104.29,
          64.29,
          1707.14,
          17714.29,
          3857.14,
          121.43,
          68.57,
          142.86,
          108.57,
          157.14,
          100,
          2628.57,
          250,
          166.67,
          200,
          400,
          94.29,
          90,
          100,
          90,
          17142.86,
          80,
          200,
          100,
          57142.86,
          150,
          112.86,
          204.29,
          121.43,
          192.86,
          207.14,
          197.14,
          125,
          21428.57,
          314.29,
          100,
          321.43,
          50,
          55.71,
          98.57,
          457.14,
          118.57,
          82.84,
          47.14,
          157.14,
          80,
          3800,
          642.86,
          140,
          145,
          660,
          195,
          195,
          660,
          85.71,
          192.86,
          121.43,
          127.14,
          5000,
          221.43,
          100,
          3571.43,
          25000,
          114.29,
          228.57,
          212.86,
          1371.43,
          1011.23,
          81.43,
          4564.29,
          4135.71,
          235.71,
          85.71,
          140,
          27142.86,
          700,
          114.29,
          357.14,
          464.29,
          542.86,
          128.57,
          1142.86,
          2142.86,
          5714.29,
          142857.14,
          1071.43,
          520,
          128.57,
          525.71,
          2142.86,
          500,
          41.43,
          64.29,
          71.43,
          102.86,
          52.86,
          100,
          62.86,
          42.86,
          92.86,
          57.14,
          271.43,
          128.57,
          74.29,
          42.86,
          64.29,
          142.86,
          81.43,
          54.21,
          392.86,
          121.43,
          428.57,
          60,
          57.14,
          415.71,
          857.14,
          98.57,
          60,
          107.14,
          357.14,
          3164.29,
          3164.29,
          4571.43,
          500,
          57.14,
          6428.57,
          353.57,
          111.43,
          321.43,
          371.43,
          114.29,
          3000,
          3857.14,
          3710,
          1071.43,
          7028.57,
          642.86,
          92.86,
          98.57,
          2142.86,
          191.67,
          750,
          2857.14,
          104.29,
          141.43,
          92.86,
          100,
          1214.29,
          214.29,
          25714.29,
          98.57,
          342.86,
          107.14,
          714.29,
          427.14,
          428.57,
          1071.43,
          110,
          130,
          40,
          214.29,
          6285.71,
          5712.86,
          485.71,
          235.71,
          285.71,
          321.43,
          485.71,
          1000,
          7857.14,
          1485.71,
          8428.57,
          5000,
          5000,
          3857.14,
          5712.86,
          5712.86,
          5712.86,
          5712.86,
          5712.86,
          7857.14,
          6285.71,
          10428.57,
          15500,
          12142.86,
          141.43,
          90,
          165,
          27.14,
          35.71,
          135,
          145,
          139.8,
          399.8,
          113.32,
          110,
          219.8,
          159.8,
          100,
          74.29,
          57.14,
          357.14,
          90,
          74.29,
          357.14,
          84.29,
          285.71,
          357.14,
          379.8,
          77.14,
          400,
          378.57,
          98.57,
          85.71,
          140,
          292.86,
          81.43,
          100,
          42.86,
          84.29,
          44.95,
          30,
          37.14,
          1700,
          119.8,
          41.43,
          900,
          165.7,
          65.71,
          67.14,
          130,
          82.83,
          400,
          125.71,
          471.43,
          400,
          421.43,
          40,
          49.93,
          71.43,
          500,
          42.86,
          42.86,
          42.86,
          135.71,
          165,
          642.86,
          791.41
         ],
         "y": [
          "normal",
          "high",
          "normal",
          "normal",
          "normal",
          "normal",
          "high",
          "high",
          "normal",
          "normal",
          "normal",
          "normal",
          "normal",
          "normal",
          "normal",
          "normal",
          "normal",
          "normal",
          "normal",
          "normal",
          "normal",
          "normal",
          "normal",
          "normal",
          "high",
          "normal",
          "normal",
          "normal",
          "normal",
          "normal",
          "normal",
          "normal",
          "normal",
          "normal",
          "normal",
          "normal",
          "normal",
          "high",
          "high",
          "normal",
          "normal",
          "normal",
          "normal",
          "high",
          "normal",
          "normal",
          "normal",
          "normal",
          "normal",
          "normal",
          "high",
          "normal",
          "normal",
          "normal",
          "normal",
          "normal",
          "high",
          "high",
          "normal",
          "normal",
          "normal",
          "normal",
          "normal",
          "normal",
          "normal",
          "normal",
          "normal",
          "normal",
          "normal",
          "normal",
          "normal",
          "normal",
          "normal",
          "normal",
          "normal",
          "normal",
          "normal",
          "normal",
          "normal",
          "normal",
          "normal",
          "normal",
          "normal",
          "normal",
          "normal",
          "normal",
          "normal",
          "normal",
          "normal",
          "normal",
          "normal",
          "normal",
          "normal",
          "normal",
          "normal",
          "normal",
          "normal",
          "normal",
          "normal",
          "normal",
          "normal",
          "normal",
          "normal",
          "normal",
          "normal",
          "normal",
          "normal",
          "normal",
          "normal",
          "normal",
          "normal",
          "normal",
          "normal",
          "normal",
          "normal",
          "normal",
          "normal",
          "normal",
          "normal",
          "normal",
          "normal",
          "normal",
          "normal",
          "normal",
          "normal",
          "normal",
          "normal",
          "normal",
          "low",
          "high",
          "normal",
          "normal",
          "normal",
          "normal",
          "normal",
          "normal",
          "normal",
          "normal",
          "high",
          "normal",
          "normal",
          "normal",
          "normal",
          "normal",
          "normal",
          "normal",
          "normal",
          "normal",
          "normal",
          "normal",
          "normal",
          "normal",
          "normal",
          "normal",
          "normal",
          "normal",
          "normal",
          "normal",
          "normal",
          "normal",
          "normal",
          "normal",
          "normal",
          "normal",
          "normal",
          "normal",
          "normal",
          "normal",
          "normal",
          "normal",
          "normal",
          "normal",
          "normal",
          "normal",
          "normal",
          "normal",
          "normal",
          "normal",
          "normal",
          "normal",
          "normal",
          "normal",
          "normal",
          "normal",
          "normal",
          "normal",
          "normal",
          "normal",
          "normal",
          "normal",
          "normal",
          "normal",
          "normal",
          "normal",
          "normal",
          "normal",
          "normal",
          "normal",
          "normal",
          "normal",
          "normal",
          "normal",
          "normal",
          "normal",
          "normal",
          "normal",
          "normal",
          "normal",
          "normal",
          "normal",
          "normal",
          "normal",
          "normal",
          "normal",
          "normal",
          "normal",
          "normal",
          "normal",
          "normal",
          "normal",
          null,
          "normal",
          "normal",
          "normal",
          "normal",
          "normal",
          "normal",
          "normal",
          "high",
          "high",
          "normal",
          "high",
          "high",
          "normal",
          "normal",
          "normal",
          "normal",
          "normal",
          "normal",
          "normal",
          "high",
          "normal",
          "normal",
          "normal",
          "normal",
          "normal",
          "normal",
          "normal",
          "normal",
          "normal",
          "high",
          "normal",
          "normal",
          "normal",
          "normal",
          "high",
          "normal",
          "normal",
          "normal",
          "normal",
          "normal",
          "normal",
          "normal",
          "normal",
          "normal",
          "normal",
          "normal",
          "normal",
          "normal",
          "normal",
          "normal",
          "normal",
          "normal",
          "normal",
          "normal",
          "normal",
          "normal",
          "normal",
          "normal",
          "normal",
          "normal",
          null,
          "normal",
          "normal",
          "normal",
          "normal",
          "normal",
          "normal",
          "normal",
          "normal",
          "normal",
          "normal",
          "normal",
          "normal",
          "normal",
          "normal",
          "normal",
          "normal",
          "normal",
          "normal",
          "high",
          "normal",
          "normal",
          "normal",
          "normal",
          "normal",
          "normal",
          "normal",
          "normal",
          "normal",
          "normal",
          "normal",
          "normal",
          "normal",
          "high",
          "normal",
          "normal",
          "normal",
          "normal",
          "normal",
          "normal",
          "normal",
          "normal",
          "normal",
          "normal",
          "normal",
          "normal",
          "normal",
          "normal",
          "high",
          "normal",
          "normal",
          "normal",
          "high",
          "normal",
          "normal",
          "high",
          "normal",
          "normal",
          "normal",
          "normal",
          "normal",
          "normal",
          "normal",
          "normal",
          "normal",
          "normal",
          "normal",
          "normal",
          "normal",
          "high",
          "normal",
          "normal",
          "normal",
          "normal",
          "normal",
          "normal",
          "normal",
          "normal",
          "normal",
          "normal",
          "normal",
          "normal",
          "normal",
          "normal",
          "normal",
          "normal",
          "normal",
          "normal",
          "normal",
          "normal",
          "normal",
          "normal",
          "normal",
          "normal",
          "normal",
          "normal",
          "normal",
          "normal",
          "normal",
          "normal",
          "normal",
          "normal",
          "high",
          "normal",
          "normal",
          "normal",
          "normal",
          "normal",
          "normal",
          "normal",
          "normal",
          "normal",
          "high",
          "normal",
          "normal",
          "normal",
          "normal",
          "high",
          "normal",
          "normal",
          "normal",
          "high",
          "normal",
          "normal",
          "normal",
          "normal",
          "normal",
          "high",
          "normal",
          "normal",
          "normal",
          "normal",
          "normal",
          "normal",
          "normal",
          "normal",
          "normal",
          "normal",
          "normal",
          "normal",
          "normal",
          "normal",
          "normal",
          "normal",
          "normal",
          "normal",
          "normal",
          "high",
          "normal",
          "normal",
          "normal",
          "normal",
          "normal",
          "normal",
          "normal",
          "normal",
          "normal",
          "normal",
          "normal",
          "normal",
          "normal",
          "normal",
          "normal",
          "normal",
          "normal",
          "normal",
          "normal",
          "normal",
          "normal",
          "normal",
          "normal",
          "normal",
          "normal",
          "normal",
          "normal",
          "normal",
          "normal",
          "normal",
          "normal",
          "normal",
          "normal",
          "normal",
          "high",
          "normal",
          "normal",
          "high",
          "normal",
          "normal",
          "normal",
          "high",
          "normal",
          "high",
          "high",
          "high",
          "normal",
          "normal",
          "high",
          "high",
          "normal",
          "normal",
          "normal",
          "normal",
          "normal",
          "normal",
          "normal",
          "normal",
          "normal",
          "normal",
          "high",
          "normal",
          "normal",
          "normal",
          "normal",
          "normal",
          "normal",
          "normal",
          "high",
          "high",
          "normal",
          "normal",
          "normal",
          "normal",
          "normal",
          "normal",
          "normal",
          "normal",
          "normal",
          "normal",
          "normal",
          "normal",
          "low",
          null,
          "normal",
          "normal",
          "normal",
          "normal",
          "normal",
          "normal",
          "normal",
          "normal",
          "normal",
          "normal",
          "normal",
          "normal",
          "normal",
          "normal",
          "normal",
          "normal",
          "normal",
          "normal",
          "normal",
          "normal",
          "high",
          "normal",
          "normal",
          "normal",
          "normal",
          "normal",
          "normal",
          "normal",
          "normal",
          "normal",
          "normal",
          "normal",
          "normal",
          "normal",
          "normal",
          "normal",
          "normal",
          "normal",
          "normal",
          "normal",
          "normal",
          "normal",
          "normal",
          "normal",
          "normal",
          "normal",
          "normal",
          "normal",
          "normal",
          "normal",
          "normal",
          "normal",
          "normal",
          "normal",
          "normal",
          "normal",
          "normal"
         ]
        }
       ],
       "layout": {
        "legend": {
         "bgcolor": "#F5F6F9",
         "font": {
          "color": "#4D5663"
         }
        },
        "paper_bgcolor": "#F5F6F9",
        "plot_bgcolor": "#F5F6F9",
        "template": {
         "data": {
          "bar": [
           {
            "error_x": {
             "color": "#2a3f5f"
            },
            "error_y": {
             "color": "#2a3f5f"
            },
            "marker": {
             "line": {
              "color": "#E5ECF6",
              "width": 0.5
             }
            },
            "type": "bar"
           }
          ],
          "barpolar": [
           {
            "marker": {
             "line": {
              "color": "#E5ECF6",
              "width": 0.5
             }
            },
            "type": "barpolar"
           }
          ],
          "carpet": [
           {
            "aaxis": {
             "endlinecolor": "#2a3f5f",
             "gridcolor": "white",
             "linecolor": "white",
             "minorgridcolor": "white",
             "startlinecolor": "#2a3f5f"
            },
            "baxis": {
             "endlinecolor": "#2a3f5f",
             "gridcolor": "white",
             "linecolor": "white",
             "minorgridcolor": "white",
             "startlinecolor": "#2a3f5f"
            },
            "type": "carpet"
           }
          ],
          "choropleth": [
           {
            "colorbar": {
             "outlinewidth": 0,
             "ticks": ""
            },
            "type": "choropleth"
           }
          ],
          "contour": [
           {
            "colorbar": {
             "outlinewidth": 0,
             "ticks": ""
            },
            "colorscale": [
             [
              0,
              "#0d0887"
             ],
             [
              0.1111111111111111,
              "#46039f"
             ],
             [
              0.2222222222222222,
              "#7201a8"
             ],
             [
              0.3333333333333333,
              "#9c179e"
             ],
             [
              0.4444444444444444,
              "#bd3786"
             ],
             [
              0.5555555555555556,
              "#d8576b"
             ],
             [
              0.6666666666666666,
              "#ed7953"
             ],
             [
              0.7777777777777778,
              "#fb9f3a"
             ],
             [
              0.8888888888888888,
              "#fdca26"
             ],
             [
              1,
              "#f0f921"
             ]
            ],
            "type": "contour"
           }
          ],
          "contourcarpet": [
           {
            "colorbar": {
             "outlinewidth": 0,
             "ticks": ""
            },
            "type": "contourcarpet"
           }
          ],
          "heatmap": [
           {
            "colorbar": {
             "outlinewidth": 0,
             "ticks": ""
            },
            "colorscale": [
             [
              0,
              "#0d0887"
             ],
             [
              0.1111111111111111,
              "#46039f"
             ],
             [
              0.2222222222222222,
              "#7201a8"
             ],
             [
              0.3333333333333333,
              "#9c179e"
             ],
             [
              0.4444444444444444,
              "#bd3786"
             ],
             [
              0.5555555555555556,
              "#d8576b"
             ],
             [
              0.6666666666666666,
              "#ed7953"
             ],
             [
              0.7777777777777778,
              "#fb9f3a"
             ],
             [
              0.8888888888888888,
              "#fdca26"
             ],
             [
              1,
              "#f0f921"
             ]
            ],
            "type": "heatmap"
           }
          ],
          "heatmapgl": [
           {
            "colorbar": {
             "outlinewidth": 0,
             "ticks": ""
            },
            "colorscale": [
             [
              0,
              "#0d0887"
             ],
             [
              0.1111111111111111,
              "#46039f"
             ],
             [
              0.2222222222222222,
              "#7201a8"
             ],
             [
              0.3333333333333333,
              "#9c179e"
             ],
             [
              0.4444444444444444,
              "#bd3786"
             ],
             [
              0.5555555555555556,
              "#d8576b"
             ],
             [
              0.6666666666666666,
              "#ed7953"
             ],
             [
              0.7777777777777778,
              "#fb9f3a"
             ],
             [
              0.8888888888888888,
              "#fdca26"
             ],
             [
              1,
              "#f0f921"
             ]
            ],
            "type": "heatmapgl"
           }
          ],
          "histogram": [
           {
            "marker": {
             "colorbar": {
              "outlinewidth": 0,
              "ticks": ""
             }
            },
            "type": "histogram"
           }
          ],
          "histogram2d": [
           {
            "colorbar": {
             "outlinewidth": 0,
             "ticks": ""
            },
            "colorscale": [
             [
              0,
              "#0d0887"
             ],
             [
              0.1111111111111111,
              "#46039f"
             ],
             [
              0.2222222222222222,
              "#7201a8"
             ],
             [
              0.3333333333333333,
              "#9c179e"
             ],
             [
              0.4444444444444444,
              "#bd3786"
             ],
             [
              0.5555555555555556,
              "#d8576b"
             ],
             [
              0.6666666666666666,
              "#ed7953"
             ],
             [
              0.7777777777777778,
              "#fb9f3a"
             ],
             [
              0.8888888888888888,
              "#fdca26"
             ],
             [
              1,
              "#f0f921"
             ]
            ],
            "type": "histogram2d"
           }
          ],
          "histogram2dcontour": [
           {
            "colorbar": {
             "outlinewidth": 0,
             "ticks": ""
            },
            "colorscale": [
             [
              0,
              "#0d0887"
             ],
             [
              0.1111111111111111,
              "#46039f"
             ],
             [
              0.2222222222222222,
              "#7201a8"
             ],
             [
              0.3333333333333333,
              "#9c179e"
             ],
             [
              0.4444444444444444,
              "#bd3786"
             ],
             [
              0.5555555555555556,
              "#d8576b"
             ],
             [
              0.6666666666666666,
              "#ed7953"
             ],
             [
              0.7777777777777778,
              "#fb9f3a"
             ],
             [
              0.8888888888888888,
              "#fdca26"
             ],
             [
              1,
              "#f0f921"
             ]
            ],
            "type": "histogram2dcontour"
           }
          ],
          "mesh3d": [
           {
            "colorbar": {
             "outlinewidth": 0,
             "ticks": ""
            },
            "type": "mesh3d"
           }
          ],
          "parcoords": [
           {
            "line": {
             "colorbar": {
              "outlinewidth": 0,
              "ticks": ""
             }
            },
            "type": "parcoords"
           }
          ],
          "pie": [
           {
            "automargin": true,
            "type": "pie"
           }
          ],
          "scatter": [
           {
            "marker": {
             "colorbar": {
              "outlinewidth": 0,
              "ticks": ""
             }
            },
            "type": "scatter"
           }
          ],
          "scatter3d": [
           {
            "line": {
             "colorbar": {
              "outlinewidth": 0,
              "ticks": ""
             }
            },
            "marker": {
             "colorbar": {
              "outlinewidth": 0,
              "ticks": ""
             }
            },
            "type": "scatter3d"
           }
          ],
          "scattercarpet": [
           {
            "marker": {
             "colorbar": {
              "outlinewidth": 0,
              "ticks": ""
             }
            },
            "type": "scattercarpet"
           }
          ],
          "scattergeo": [
           {
            "marker": {
             "colorbar": {
              "outlinewidth": 0,
              "ticks": ""
             }
            },
            "type": "scattergeo"
           }
          ],
          "scattergl": [
           {
            "marker": {
             "colorbar": {
              "outlinewidth": 0,
              "ticks": ""
             }
            },
            "type": "scattergl"
           }
          ],
          "scattermapbox": [
           {
            "marker": {
             "colorbar": {
              "outlinewidth": 0,
              "ticks": ""
             }
            },
            "type": "scattermapbox"
           }
          ],
          "scatterpolar": [
           {
            "marker": {
             "colorbar": {
              "outlinewidth": 0,
              "ticks": ""
             }
            },
            "type": "scatterpolar"
           }
          ],
          "scatterpolargl": [
           {
            "marker": {
             "colorbar": {
              "outlinewidth": 0,
              "ticks": ""
             }
            },
            "type": "scatterpolargl"
           }
          ],
          "scatterternary": [
           {
            "marker": {
             "colorbar": {
              "outlinewidth": 0,
              "ticks": ""
             }
            },
            "type": "scatterternary"
           }
          ],
          "surface": [
           {
            "colorbar": {
             "outlinewidth": 0,
             "ticks": ""
            },
            "colorscale": [
             [
              0,
              "#0d0887"
             ],
             [
              0.1111111111111111,
              "#46039f"
             ],
             [
              0.2222222222222222,
              "#7201a8"
             ],
             [
              0.3333333333333333,
              "#9c179e"
             ],
             [
              0.4444444444444444,
              "#bd3786"
             ],
             [
              0.5555555555555556,
              "#d8576b"
             ],
             [
              0.6666666666666666,
              "#ed7953"
             ],
             [
              0.7777777777777778,
              "#fb9f3a"
             ],
             [
              0.8888888888888888,
              "#fdca26"
             ],
             [
              1,
              "#f0f921"
             ]
            ],
            "type": "surface"
           }
          ],
          "table": [
           {
            "cells": {
             "fill": {
              "color": "#EBF0F8"
             },
             "line": {
              "color": "white"
             }
            },
            "header": {
             "fill": {
              "color": "#C8D4E3"
             },
             "line": {
              "color": "white"
             }
            },
            "type": "table"
           }
          ]
         },
         "layout": {
          "annotationdefaults": {
           "arrowcolor": "#2a3f5f",
           "arrowhead": 0,
           "arrowwidth": 1
          },
          "coloraxis": {
           "colorbar": {
            "outlinewidth": 0,
            "ticks": ""
           }
          },
          "colorscale": {
           "diverging": [
            [
             0,
             "#8e0152"
            ],
            [
             0.1,
             "#c51b7d"
            ],
            [
             0.2,
             "#de77ae"
            ],
            [
             0.3,
             "#f1b6da"
            ],
            [
             0.4,
             "#fde0ef"
            ],
            [
             0.5,
             "#f7f7f7"
            ],
            [
             0.6,
             "#e6f5d0"
            ],
            [
             0.7,
             "#b8e186"
            ],
            [
             0.8,
             "#7fbc41"
            ],
            [
             0.9,
             "#4d9221"
            ],
            [
             1,
             "#276419"
            ]
           ],
           "sequential": [
            [
             0,
             "#0d0887"
            ],
            [
             0.1111111111111111,
             "#46039f"
            ],
            [
             0.2222222222222222,
             "#7201a8"
            ],
            [
             0.3333333333333333,
             "#9c179e"
            ],
            [
             0.4444444444444444,
             "#bd3786"
            ],
            [
             0.5555555555555556,
             "#d8576b"
            ],
            [
             0.6666666666666666,
             "#ed7953"
            ],
            [
             0.7777777777777778,
             "#fb9f3a"
            ],
            [
             0.8888888888888888,
             "#fdca26"
            ],
            [
             1,
             "#f0f921"
            ]
           ],
           "sequentialminus": [
            [
             0,
             "#0d0887"
            ],
            [
             0.1111111111111111,
             "#46039f"
            ],
            [
             0.2222222222222222,
             "#7201a8"
            ],
            [
             0.3333333333333333,
             "#9c179e"
            ],
            [
             0.4444444444444444,
             "#bd3786"
            ],
            [
             0.5555555555555556,
             "#d8576b"
            ],
            [
             0.6666666666666666,
             "#ed7953"
            ],
            [
             0.7777777777777778,
             "#fb9f3a"
            ],
            [
             0.8888888888888888,
             "#fdca26"
            ],
            [
             1,
             "#f0f921"
            ]
           ]
          },
          "colorway": [
           "#636efa",
           "#EF553B",
           "#00cc96",
           "#ab63fa",
           "#FFA15A",
           "#19d3f3",
           "#FF6692",
           "#B6E880",
           "#FF97FF",
           "#FECB52"
          ],
          "font": {
           "color": "#2a3f5f"
          },
          "geo": {
           "bgcolor": "white",
           "lakecolor": "white",
           "landcolor": "#E5ECF6",
           "showlakes": true,
           "showland": true,
           "subunitcolor": "white"
          },
          "hoverlabel": {
           "align": "left"
          },
          "hovermode": "closest",
          "mapbox": {
           "style": "light"
          },
          "paper_bgcolor": "white",
          "plot_bgcolor": "#E5ECF6",
          "polar": {
           "angularaxis": {
            "gridcolor": "white",
            "linecolor": "white",
            "ticks": ""
           },
           "bgcolor": "#E5ECF6",
           "radialaxis": {
            "gridcolor": "white",
            "linecolor": "white",
            "ticks": ""
           }
          },
          "scene": {
           "xaxis": {
            "backgroundcolor": "#E5ECF6",
            "gridcolor": "white",
            "gridwidth": 2,
            "linecolor": "white",
            "showbackground": true,
            "ticks": "",
            "zerolinecolor": "white"
           },
           "yaxis": {
            "backgroundcolor": "#E5ECF6",
            "gridcolor": "white",
            "gridwidth": 2,
            "linecolor": "white",
            "showbackground": true,
            "ticks": "",
            "zerolinecolor": "white"
           },
           "zaxis": {
            "backgroundcolor": "#E5ECF6",
            "gridcolor": "white",
            "gridwidth": 2,
            "linecolor": "white",
            "showbackground": true,
            "ticks": "",
            "zerolinecolor": "white"
           }
          },
          "shapedefaults": {
           "line": {
            "color": "#2a3f5f"
           }
          },
          "ternary": {
           "aaxis": {
            "gridcolor": "white",
            "linecolor": "white",
            "ticks": ""
           },
           "baxis": {
            "gridcolor": "white",
            "linecolor": "white",
            "ticks": ""
           },
           "bgcolor": "#E5ECF6",
           "caxis": {
            "gridcolor": "white",
            "linecolor": "white",
            "ticks": ""
           }
          },
          "title": {
           "x": 0.05
          },
          "xaxis": {
           "automargin": true,
           "gridcolor": "white",
           "linecolor": "white",
           "ticks": "",
           "title": {
            "standoff": 15
           },
           "zerolinecolor": "white",
           "zerolinewidth": 2
          },
          "yaxis": {
           "automargin": true,
           "gridcolor": "white",
           "linecolor": "white",
           "ticks": "",
           "title": {
            "standoff": 15
           },
           "zerolinecolor": "white",
           "zerolinewidth": 2
          }
         }
        },
        "title": {
         "font": {
          "color": "#4D5663"
         },
         "text": "Whiskey price Distribution according to their Alcohol level"
        },
        "xaxis": {
         "gridcolor": "#E1E5ED",
         "showgrid": true,
         "tickfont": {
          "color": "#4D5663"
         },
         "title": {
          "font": {
           "color": "#4D5663"
          },
          "text": "Price per Litre"
         },
         "zerolinecolor": "#E1E5ED"
        },
        "yaxis": {
         "gridcolor": "#E1E5ED",
         "showgrid": true,
         "tickfont": {
          "color": "#4D5663"
         },
         "title": {
          "font": {
           "color": "#4D5663"
          },
          "text": ""
         },
         "zerolinecolor": "#E1E5ED"
        }
       }
      },
      "text/html": [
       "<div>                            <div id=\"4e04129a-f67e-48d6-8023-7aa338c72393\" class=\"plotly-graph-div\" style=\"height:525px; width:100%;\"></div>            <script type=\"text/javascript\">                require([\"plotly\"], function(Plotly) {                    window.PLOTLYENV=window.PLOTLYENV || {};\n",
       "                    window.PLOTLYENV.BASE_URL='https://plot.ly';                                    if (document.getElementById(\"4e04129a-f67e-48d6-8023-7aa338c72393\")) {                    Plotly.newPlot(                        \"4e04129a-f67e-48d6-8023-7aa338c72393\",                        [{\"marker\": {\"color\": \"rgba(255, 153, 51, 1.0)\", \"line\": {\"width\": 1.3}, \"opacity\": 0.8, \"size\": 12, \"symbol\": \"circle\"}, \"mode\": \"markers\", \"name\": \"Yes\", \"text\": [\"Benromach 21 Year Old\", \"Paul John Christmas Edition 2020\", \"Compass Box Magic Cask\", \"Johnnie Walker Blue Label Chinese New Year 2021 - Year of the Ox\", \"The Glenlivet 1986 33 Year Old Connoisseur's Choice\", \"Balblair 1990 29 Year Old Connoisseur's Choice\", \"Character of Islay Bowmore 18 Year Old Wind & Waves #11714\", \"The Singleton of Glen Ord 38 Year Old Epicurean Odyssey\", \"Johnnie Walker Black Icon 200th Anniversary\", \"Johnnie Walker Gold Icon 200th Anniversary\", \"Glen Moray 2006 Sauternes Cask\", \"Glenmorangie Quinta Ruban Giraffe Tin\", \"Glenmorangie 12 Year Old Malaga\", \"Compass Box Peat Monster Arcana\", \"anCnoc 2007 #660\", \"Wemyss Malts Bunnahabhain 1990 28 Year Old Boat Captain's Brew\", \"Wemyss Malts Bowmore 1988 31 Year Old Candied Violets\", \"Glendronach 27 Year Old #182 Oloroso UK Exclusive Single Cask\", \"GlenAllachie 10 Year Old Cask Strength Batch 4\", \"Kilchoman Machir Bay Cask Strength Christmas Edition\", \"Bruichladdich Black Art 8\", \"Macallan 50 Year Old Red Collection\", \"Glenmorangie 10 Year Old Original Giraffe Tin\", \"Glen Scotia 11 Year Old Sherry Double Cask\", \"Fettercairn 46 Year Old\", \"Bunnahabhain 1997 Moine\", \"Macallan Exceptional Cask 1993 #3917\", \"Balvenie Tun 1509 Batch 7\", \"Pittyvaich 30 Year Old Special Releases 2020\", \"Dalwhinnie 30 Year Old Special Releases 2020\", \"Cardhu 11 Year Old Special Releases 2020\", \"Lagavulin 12 Year Old Special Releases 2020\", \"Talisker 8 Year Old Special Releases 2020\", \"Singleton 17 Year Old Special Releases 2020\", \"Bunnahabhain Cruach-Mhona\", \"Bunnahabhain Eirigh Na Greine\", \"Loch Lomond Wales Open & Celtic Classic Oloroso Cask\", \"Loch Lomond The English Open Sauternes Cask\", \"Loch Lomond British Masters Limousin Oak Cask\", \"Loch Lomond The English Championship Rum Cask\", \"Loch Lomond The UK Championship Tawny Port Cask\", \"Fettercairn 22 Year Old\", \"Macallan 1954 47 Year Old Fine & Rare #1902\", \"Macallan 1940 37 Year Old Fine & Rare\", \"The Glenlivet Spectra\", \"Laphroaig 10 Year Old Cask Strength 2020\", \"Glenallachie 2008 #508\", \"Macallan Rare Cask 2020 Release\", \"Glen Scotia 14 Year Old Tawny Port Finish Campbeltown Malts Festival 2020\", \"Wemyss Malts Velvet Fig 25 Year Old\", \"Glenglassaugh 1978 40 Year Old #3060\", \"Old Malt Cask Ardbeg 32 Year Old 1967\", \"Glenkeir Treasures Twin Casks Secret Highland 11 Year Old\", \"Glenkeir Treasures Twin Casks Secret Speyside 9 Year Old\", \"Glen Scotia 2009 #784\", \"First Editions Blair Athol 2009\", \"Ardbeg 1972 VELIER\", \"Johnnie Walker Blue Label Rare Side of Scotland\", \"Dailuaine 46 Year Old Platinum Old & Rare\", \"Jura 1989\", \"Nectar Grove Batch Strength\", \"Johnnie Walker Sweet Peat\", \"Glendronach 1993 26 Year Old #7434\", \"Glen Scotia 45 Year Old\", \"Macallan Exceptional Single Cask 1950\", \"Brora 40 Year Old 200th Anniversary\", \"The Last Drop 56 Year Old\", \"Johnnie Walker Blue Label Ghost & Rare: Glenury Royal\", \"GlenAllachie 25 Year Old\", \"Compass Box The Circle\", \"Jura Two-One-Two (212)\", \"Talisker 41 Year Old\", \"Benromach Cask Strength 2009\", \"Port Ellen 39 Year Old Untold Stories: The Spirit Safe\", \"Arbikie Highland Rye\", \"Macallan Estate 2019\", \"Clynelish Reserve - Game of Thrones House Tyrell\", \"Whisky Works Glaswegian 29 Year Old\", \"Whisky Works King of Trees 10 Year Old\", \"Kingsbarns Dream to Dram\", \"Glenmorangie Grand Vintage Malt 1991\", \"Springbank 1997 21 year old Authors Series - Oscar Wilde\", \"Glenkeir Treasures Secret Islay\", \"Loch Lomond 19 Year Old Royal Portrush\", \"Johnnie Walker Blenders' Batch Directors Edition 2016\", \"Johnnie Walker Blue Label Ghost & Rare: Port Ellen\", \"Jura 1988\", \"The Last Drop Glenrothes 1968 Cask 13504\", \"Fettercairn 40 Year Old\", \"Convalmore 32 Year Old 2017 Special Release\", \"Bunnahabhain 40 Year Old\", \"Bunnahabhain 1980 Canasta Cask Finish\", \"Old Pulteney 1983 Vintage\", \"Bruichladdich 1984 32 Year Old\", \"Glen Garioch 31 Year Old Platinum Old & Rare\", \"Glenburgie 44 Year Old Platinum Old & Rare\", \"Dufftown 44 Year Old Platinum Old & Rare\", \"Cragganmore 30 Year Old Platinum Old & Rare\", \"Braes of Glenlivet 30 Year Old Platinum Old & Rare\", \"Benrinnes 40 Year Old Platinum Old & Rare\", \"Balmenach 40 Year Old Platinum Old & Rare\", \"Aultmore 37 Year Old Platinum Old & Rare\", \"Ardmore 31 Year Old Platinum Old & Rare\", \"Old and Rare Bunnahabhain 30 Year Old\", \"Old Malt Cask Ben Nevis 23 Year Old\", \"Old Malt Cask Longmorn 21 Year Old\", \"First Editions Ardmore 2009 9 Year Old\", \"First Editions Dailuaine 2009 9 Year Old\", \"Macallan 12 Year Old Triple Cask Gift Box\", \"Bunnahabhain 1988 Marsala Cask Finish\", \"Glen Moray Rhum Agricole\", \"Balvenie 2001 DCS Chapter 5\", \"Old Malt Cask Craigellachie 11 Year Old\", \"Dalmore 1973 Gonzalez Byass\", \"The Balvenie 50 Year Old: Marriage 0197\", \"Glenrothes 2004\", \"Glenrothes 1995\", \"Kilchoman UK Small Batch No.1\", \"First Editions Glen Garioch 2008 10 Year Old\", \"Glenrothes 40 Year Old\", \"Glenmorangie 1993 Burr Oak Reserve\", \"Auchentoshan 1996\", \"Game of Thrones Whisky Collection (Set of 9)\", \"Glenrothes 1988\", \"Old Malt Cask Tobermory 12 Year Old\", \"First Editions Dalmore 2008 11 Year Old\", \"Glen Keith 26 Year Old Platinum Old & Rare\", \"Bowmore Feis Ile 2019 Cask #666\", \"GlenAllachie 2008 #586\", \"GlenAllachie 2007 #3767 12 Year Old Single Cask\", \"GlenAllachie 2006 #6580\", \"GlenAllachie 2004 #6213\", \"GlenAllachie 2001 #4152\", \"Bowmore Craftsmen's Collection Mashmen's Selection\", \"Macallan Decades Fifties\", \"Macallan Decades Forties\", \"Mortlach 15 Year Old - Game of Thrones Six Kingdoms\", \"Macallan Rare Cask Batch No.2 2019 Release\", \"Highland Park Esquire\", \"Dalwhinnie 30 Year Old Special Releases 2019\", \"Pittyvaich 29 Year Old Special Releases 2019\", \"Mortlach 26 Year Old Special Releases 2019\", \"Singleton of Glen Ord 18 Year Old Special Releases 2019\", \"Talisker 15 Year Old Special Releases 2019\", \"Cardhu 14 Year Old Special Releases 2019\", \"Lagavulin 12 Year Old Special Releases 2019\", \"Cragganmore 12 Year Old Special Releases 2019\", \"Macallan 50 Year Old\", \"Old Pulteney 2006 #1448\", \"Tamnavulin 33 Year Old The Stillman's Dram\", \"Laphroaig 30 Year Old The Ian Hunter Story Book One\", \"Octomore 10.3 Dialogos 6 Year Old\", \"Octomore 10.1 Dialogos 5 Year Old\", \"Bruichladdich Black Art 7\", \"Balvenie Tun 1509 Batch 6\", \"First Editions Ben Nevis 1996\", \"First Editions Mortlach 2007 11 Year Old\", \"First Editions Caol Ila 2010 8 Year Old\", \"First Editions Craigellachie 2011 8 Year Old\", \"Glengoyne 30 Year Old 2018\", \"Macallan Edition No.5\", \"Littlemill 29 Year Old Private Cellar Edition 2019\", \"GlenDronach Cask Strength Batch 8\", \"The Loch Fyne Glentauchers 11 Year Old\", \"The Loch Fyne Aultmore 12 Year Old\", \"Bunnahabhain 2007 French Brandy Finish\", \"Compass Box Myths & Legends III\", \"Compass Box Myths & Legends II\", \"Compass Box Myths & Legends I\", \"GlenAllachie 10 Year Old Cask Strength Batch 2\", \"Compass Box No Name No.2\", \"Highland Park 2006 14 Year Old Connoisseur's Choice\", \"The Glenlivet 1990 30 Year Old Connoisseur's Choice\", \"Old Malt Cask Mortlach 13 Year Old\", \"First Editions Ben Nevis 2011 9 Year Old\", \"Darkness Benrinnes 13 Year Old Pedro Ximenez Cask\", \"Darkness Dailuaine 17 Year Old\", \"Darkness Auchroisk 20 Year Old\", \"Darkness Auchentoshan 26 Year Old\", \"Glen Scotia 30 Year Old\", \"First Editions Dailuaine 11 Year Old 2008\", \"First Editions Aultmore 10 Year Old 2010\", \"Glendronach 2006 13 Year Old #5538 UK Exclusive\", \"Macallan Distil Your World: London\", \"The Loch Fyne Bunnahabhain 14 Year Old 2006\", \"The Loch Fyne Craigellachie 12 Year Old 2008\", \"Laphroaig 30 Year Old The Ian Hunter Story Book Two\", \"Macallan 74 Year Old Red Collection\", \"Macallan 71 Year Old Red Collection\", \"Macallan 60 Year Old Red Collection\", \"GlenAllachie 10 Year Old Cask Strength Batch 3\", \"Highland Park 50 Year Old\", \"Macallan Edition No.6\", \"Glenmorangie A Tale of Cake\", \"Macallan Exceptional Cask 1988 #3890\", \"Macallan Exceptional Cask 2002 #2340\", \"Golden Cask Bowmore 13 Year Old\", \"Golden Cask Bunnahabhain 28 Year Old\", \"Golden Cask Tobermory 20 Year Old\", \"Golden Cask Dailuaine 18 Year Old\", \"Golden Cask Speyside 23 Year Old\", \"Golden Cask Macduff 23 Year Old\", \"Golden Cask Macduff 35 Year Old\", \"Golden Cask Braes of Glenlivet 21 Year Old\", \"Golden Cask Benrinnes 21 Year Old\", \"GlenAllachie 1989 29 Year Old #2588\", \"GlenDronach Kingsman Edition 1989 Vintage\", \"Cragganmore 20 Year Old Special Releases 2020\", \"Mortlach 21 Year Old Special Releases 2020\", \"First Editions Talisker 2010 8 Year Old\", \"GlenAllachie 13 Year Old Spirit of Speyside Festival 2020\", \"Arran 21 Year Old Kildonan & Pladda Island - Explorer Series Vol. 3\", \"Glen Moray Madeira Cask Project\", \"Fettercairn 16 Year Old\", \"Old Malt Cask Inchmurrin 23 Year Old\", \"Macallan Exceptional Single Cask 2019/ESB-5542/02\", \"Port Ellen 40 Year Old 9 Rogue Casks\", \"Dalmore 51 Year Old\", \"Loch Lomond 2006 #18/550-12\", \"Macallan 72 Year Old in Lalique\", \"Inchmurrin 2004 #17/641-2\", \"Daftmill 2007 Winter Release\", \"First Editions Deanston 2009\", \"Arran 1995 #217\", \"Macallan Exceptional Single Cask 2019/ESB-14/03\", \"Glendronach 1992 27 Year Old #5852\", \"Lagavulin 21 Year Old Jazz Festival 2019\", \"Glenrothes 1992 2nd Edition\", \"Daftmill 2008 Summer Release\", \"Ardbeg 1977 Limited Edition\", \"Macallan Concept Number 1 2018\", \"Macallan Boutique Collection 2019\", \"Aberlour 1989 Dunnage Matured Millennium\", \"Glenrothes 1984\", \"Octomore 10.4 Dialogos Virgin Oak\", \"Invergordon 21 Year Old The Sovereign\", \"Macallan 12 Year Old Triple Cask Chinese New Year Twin Pack\", \"Johnnie Walker Blue Label Year of the Rat\", \"The Loch Fyne The Living Cask Batch 9\", \"Tullibardine 30 Year Old Platinum Old & Rare\", \"Tormore 31 Year Old Platinum Old & Rare\", \"Teaninich 43 Year Old Platinum Old & Rare\", \"Tamdhu 1989 30 Year Old Platinum Old & Rare\", \"Strathmill 33 Year Old Platinum Old & Rare\", \"Linkwood 30 Year Old Platinum Old & Rare\", \"Inchgower 37 Year Old Platinum Old & Rare\", \"Glen Elgin 44 Year Old Platinum Old & Rare\", \"Glentauchers 30 Year Old Platinum Old & Rare\", \"Glenrothes 31 Year Old Platinum Old & Rare\", \"Glenlossie 44 Year Old Platinum Old & Rare\", \"Glen Garioch 31 Year Old Platinum Old & Rare\", \"Glenburgie 44 Year Old Platinum Old & Rare\", \"Dufftown 44 Year Old Platinum Old & Rare\", \"Cragganmore 30 Year Old Platinum Old & Rare\", \"Braes of Glenlivet 30 Year Old Platinum Old & Rare\", \"Benrinnes 40 Year Old Platinum Old & Rare\", \"Balmenach 40 Year Old Platinum Old & Rare\", \"Aultmore 37 Year Old Platinum Old & Rare\", \"Ardmore 31 Year Old Platinum Old & Rare\", \"Old and Rare Bunnahabhain 30 Year Old\", \"Old Malt Cask Ben Nevis 23 Year Old\", \"Old Malt Cask Longmorn 21 Year Old\", \"First Editions Ardmore 2009 9 Year Old\", \"First Editions Dailuaine 2009 9 Year Old\", \"Macallan 12 Year Old Triple Cask Gift Box\", \"Bunnahabhain 1988 Marsala Cask Finish\", \"Glen Moray Rhum Agricole\", \"Balvenie 2001 DCS Chapter 5\", \"Old Malt Cask Craigellachie 11 Year Old\", \"Dalmore 1973 Gonzalez Byass\", \"The Balvenie 50 Year Old: Marriage 0197\", \"Glenrothes 2004\", \"Glenrothes 1995\", \"Kilchoman UK Small Batch No.1\", \"First Editions Glen Garioch 2008 10 Year Old\", \"Glenrothes 40 Year Old\", \"Glenmorangie 1993 Burr Oak Reserve\", \"Auchentoshan 1996\", \"Game of Thrones Whisky Collection (Set of 9)\", \"Glenrothes 1988\", \"Old Malt Cask Tobermory 12 Year Old\", \"First Editions Dalmore 2008 11 Year Old\", \"Glen Keith 26 Year Old Platinum Old & Rare\", \"Bowmore Feis Ile 2019 Cask #666\", \"GlenAllachie 2008 #586\", \"GlenAllachie 2007 #3767 12 Year Old Single Cask\", \"GlenAllachie 2006 #6580\", \"GlenAllachie 2004 #6213\", \"GlenAllachie 2001 #4152\", \"Bowmore Craftsmen's Collection Mashmen's Selection\", \"Macallan Decades Fifties\", \"Macallan Decades Forties\", \"Mortlach 15 Year Old - Game of Thrones Six Kingdoms\", \"Macallan Rare Cask Batch No.2 2019 Release\", \"Highland Park Esquire\", \"Dalwhinnie 30 Year Old Special Releases 2019\", \"Pittyvaich 29 Year Old Special Releases 2019\", \"Mortlach 26 Year Old Special Releases 2019\", \"Singleton of Glen Ord 18 Year Old Special Releases 2019\", \"Talisker 15 Year Old Special Releases 2019\", \"Cardhu 14 Year Old Special Releases 2019\", \"Lagavulin 12 Year Old Special Releases 2019\", \"Cragganmore 12 Year Old Special Releases 2019\", \"Macallan 50 Year Old\", \"Old Pulteney 2006 #1448\", \"Tamnavulin 33 Year Old The Stillman's Dram\", \"Laphroaig 30 Year Old The Ian Hunter Story Book One\", \"Octomore 10.3 Dialogos 6 Year Old\", \"Octomore 10.1 Dialogos 5 Year Old\", \"Bruichladdich Black Art 7\", \"Balvenie Tun 1509 Batch 6\", \"First Editions Ben Nevis 1996\", \"First Editions Mortlach 2007 11 Year Old\", \"First Editions Caol Ila 2010 8 Year Old\", \"First Editions Craigellachie 2011 8 Year Old\", \"Glengoyne 30 Year Old 2018\", \"Macallan Edition No.5\", \"Littlemill 29 Year Old Private Cellar Edition 2019\", \"GlenDronach Cask Strength Batch 8\", \"The Loch Fyne Glentauchers 11 Year Old\", \"The Loch Fyne Aultmore 12 Year Old\", \"Bunnahabhain 2007 French Brandy Finish\", \"Compass Box Myths & Legends III\", \"Compass Box Myths & Legends II\", \"Compass Box Myths & Legends I\", \"GlenAllachie 10 Year Old Cask Strength Batch 2\", \"Compass Box No Name No.2\", \"Benromach Peat Smoke Sherry Cask Matured 2009\", \"Ardbeg Traigh Bhan 19 Year Old\", \"Highland Park Valfather\", \"anCnoc 16 Year Old 125th Anniversary\", \"anCnoc Peat\", \"Laphroaig 10 Year Old Original Cask Strength\", \"Old Pulteney 21 Year Old & 1989 Vintage Twin Pack\", \"First Editions Royal Brackla 2009\", \"Longrow 1992 10 Year Old\", \"Distiller's Art Braeval 13 Year Old\", \"Chivas Regal 12 Year Old Tim Little\", \"First Editions Blair Athol 2010\", \"First Editions Mortlach 2009\", \"GlenDronach Cask Strength Batch 6\", \"First Editions Benrinnes 2009\", \"First Editions Inchgower 2008 20cl\", \"First Editions Benrinnes 2010 8 Year Old 20cl\", \"Old Malt Cask Bowmore 17 Year Old\", \"First Editions Tullibardine 2008\", \"First Editions Bunnahabhain 2007 - 2018 Edition\", \"Talisker 25 Year Old 2004\", \"Highland Park 26 Year Old Soren Solkaer\", \"Loch Lomond 2002 Cristie Kerr\", \"The Loch Fyne The Living Cask Batch 8\", \"Old Malt Cask Arran 21 Year Old\", \"Arran Master of Distilling II\", \"Loch Lomond 2004 Colin Montgomerie Single Cask\", \"Loch Lomond The Open Special Edition Distiller's Cut\", \"Chichibu Single Cask #5036\", \"Chichibu Single Cask #1700\", \"Glenkeir Treasures Secret Islay 10cl\", \"Glenkeir Treasures Secret Islay 20cl\", \"Glenkeir Treasures Speyburn 10 Year Old 10cl\", \"Glenkeir Treasures Speyburn 10 Year Old 20cl\", \"Glenkeir Treasures Secret Speyside 8 Year Old 10cl\", \"Glenkeir Treasures Secret Speyside 8 Year Old 20cl\", \"Glenkeir Treasures Speyburn 10 Year Old\", \"Glenkeir Treasures Secret Speyside 8 Year Old\", \"BenRiach Batch 16 2012 #7825\", \"BenRiach Batch 16 2009 #6095\", \"BenRiach Batch 16 2008 #3085\", \"BenRiach Batch 16 2007 #3237\", \"BenRiach Batch 16 2008 #2506\", \"BenRiach Batch 16 2007 #7611\", \"BenRiach Batch 16 2005 #3435\", \"BenRiach Batch 16 2005 #3791\", \"BenRiach Batch 16 1994 #6500\", \"BenRiach Batch 16 1993 #7881\", \"BenRiach Batch 16 1991 #1865\", \"BenRiach Batch 16 1985 #7214\", \"Bunnahabhain Elements 39 Year Old\", \"Johnnie Walker Directors Blend 2012\", \"Glen Ord 25 Year Old\", \"Kilchoman 2006 Vintage\", \"First Editions Tamdhu 2007\", \"Glen Scotia 1999 Single Cask\", \"Macallan Private Eye\", \"Benromach 1981\", \"Distiller's Art Royal Brackla 18 Year Old\", \"Connoisseur's Choice Glencadam 1991\", \"First Editions Craigellachie 2006\", \"First Editions Benrinnes 2010\", \"Old Malt Cask Talisker 8 Year Old\", \"Macallan Genesis\", \"Glenmorangie 15 Year Old Sauternes Wood Finish\", \"Port Charlotte MRC: 01 2010\", \"Loch Lomond 25 Year Old Triple Wood\", \"First Editions Craigellachie 2008 10 Year Old\", \"First Editions Inchgower 2008 10 Year Old\", \"Kilchoman STR Cask Matured\", \"Loch Lomond 2004 Single Cask\", \"Ardbeg Drum\", \"Loch Lomond The Open Special Edition Distiller's Cut Gift Pack\", \"Singleton of Glendullan Reserve - Game of Thrones House Tully\", \"Royal Lochnagar 12 Year Old - Game of Thrones House Baratheon\", \"Oban Bay Reserve - Game of Thrones The Night's Watch\", \"Cardhu Gold Reserve - Game of Thrones House Targaryen\", \"Dalwhinnie Winter's Frost - Game of Thrones House Stark\", \"Old Malt Cask Bowmore 17 Year Old - Feis Ile 2019\", \"Springbank 10 Year Old Local Barley\", \"Old Malt Cask Glencadam 14 Year Old\", \"Old Malt Cask Glenburgie 19 Year Old\", \"Old Malt Cask Longmorn 15 Year Old\", \"Bruichladdich Uisge Luing 10 Year Old\", \"GlenDronach 1992 26 Year Old The Whisky Shop Exclusive\", \"Highland Park Twisted Tattoo 16 Year Old\", \"Game of Thrones Whisky Collection (Set of 8)\", \"Old Malt Cask Ben Nevis 22 Year Old\", \"Old Malt Cask Mortlach 11 Year Old\", \"Authors' Series Probably Speyside's Finest 1968 50 Year Old - Nathaniel Hawthorne\", \"Authors' Series Tormore 1988 30 Year Old - Charles Baudelaire\", \"Authors' Series Tullibardine 1993 25 Year Old - William Thackeray\", \"BenRiach 2005 Whisky Shop Exclusive\", \"The GlenDronach Kingsman Edition 1991 Vintage\", \"Highland Park Odin\", \"Lagavulin 12 Year Old 2014 Special Release\", \"Strathmill 1996 Managers Choice\", \"Mannochmore 1998 Managers Choice\", \"Knockando 1996 Managers Choice\"], \"textfont\": {\"color\": \"#4D5663\"}, \"type\": \"scatter\", \"x\": [178.57, 78.43, 224.29, 320.0, 1228.57, 885.71, 421.36, 3000.0, 45.7, 74.29, 114.21, 85.7, 114.21, 107.07, 134.29, 341.43, 800.0, 600.0, 91.43, 67.13, 414.21, 99992.86, 57.13, 85.64, 12142.86, 528.56, 9998.57, 428.57, 571.43, 785.71, 121.43, 178.57, 128.57, 157.14, 84.99, 74.99, 121.41, 121.41, 121.41, 128.56, 128.56, 285.71, 45707.14, 49992.86, 166.58, 110.0, 128.5, 314.27, 107.14, 155.71, 1427.14, 4564.29, 140.0, 136.0, 92.86, 100.0, 9992.86, 307.14, 1535.71, 857.14, 71.43, 60.0, 355.71, 5428.57, 98571.43, 6428.57, 5357.14, 392.86, 357.14, 171.43, 128.57, 4142.86, 84.27, 6428.57, 357.14, 248.43, 68.57, 185.71, 107.14, 70.0, 857.07, 892.86, 110.0, 228.57, 2995.0, 377.14, 928.57, 7714.29, 4285.71, 1928.57, 3178.57, 2571.43, 714.29, 1000.0, 442.86, 1442.86, 1442.86, 571.43, 407.14, 1021.43, 1021.43, 692.86, 457.14, 800.0, 228.57, 214.29, 98.57, 98.57, 100.0, 642.86, 84.29, 1142.86, 128.57, 2850.0, 39285.71, 92.86, 157.14, 85.71, 100.0, 4142.86, 712.86, 357.14, 82.22, 507.14, 131.43, 111.43, 385.71, 3570.0, 121.43, 135.71, 142.86, 157.14, 192.86, 427.14, 720.0, 720.0, 171.43, 328.57, 285.71, 714.29, 471.43, 2142.86, 185.71, 157.14, 171.43, 157.14, 121.43, 119993.33, 141.43, 857.14, 998.57, 250.0, 181.43, 421.43, 392.86, 228.57, 121.43, 150.0, 100.0, 1000.0, 140.71, 3928.57, 105.71, 150.0, 160.0, 155.71, 185.71, 185.71, 185.71, 87.14, 157.14, 133.57, 885.71, 138.57, 100.0, 133.9, 149.9, 213.9, 179.98, 1214.29, 117.14, 100.0, 200.0, 3757.14, 190.0, 160.0, 1228.57, 135714.29, 127142.86, 112857.14, 87.14, 24142.86, 140.71, 107.14, 12855.71, 1928.57, 138.57, 264.29, 135.71, 135.71, 157.14, 157.14, 342.86, 142.86, 142.86, 535.71, 1107.14, 185.71, 821.43, 151.41, 178.57, 241.43, 92.86, 100.0, 228.57, 5000.0, 9135.71, 98571.43, 84.21, 102857.14, 92.86, 235.71, 105.71, 255.71, 4278.57, 428.57, 1141.43, 235.71, 278.57, 1357.14, 321.43, 570.0, 141.43, 278.57, 228.57, 185.71, 85.71, 307.14, 90.0, 371.43, 485.71, 1278.57, 407.14, 478.57, 442.86, 735.71, 1442.86, 400.0, 528.57, 1442.86, 442.86, 1442.86, 1442.86, 571.43, 407.14, 1021.43, 1021.43, 692.86, 457.14, 800.0, 228.57, 214.29, 98.57, 98.57, 100.0, 642.86, 84.29, 1142.86, 128.57, 2850.0, 39285.71, 92.86, 157.14, 85.71, 100.0, 4142.86, 712.86, 357.14, 82.22, 507.14, 131.43, 111.43, 385.71, 3570.0, 121.43, 135.71, 142.86, 157.14, 192.86, 427.14, 720.0, 720.0, 171.43, 328.57, 285.71, 714.29, 471.43, 2142.86, 185.71, 157.14, 171.43, 157.14, 121.43, 119993.33, 141.43, 857.14, 998.57, 250.0, 181.43, 421.43, 392.86, 228.57, 121.43, 150.0, 100.0, 1000.0, 140.71, 3928.57, 105.71, 150.0, 160.0, 155.71, 185.71, 185.71, 185.71, 87.14, 157.14, 84.29, 241.43, 85.71, 142.86, 114.29, 107.14, 428.57, 88.57, 112.86, 120.0, 57.14, 98.57, 98.57, 90.0, 91.43, 130.0, 125.0, 271.43, 114.29, 100.0, 850.0, 785.71, 357.14, 90.0, 255.71, 107.13, 114.29, 78.57, 2564.29, 2564.29, 120.0, 120.0, 130.0, 130.0, 130.0, 130.0, 110.0, 110.0, 78.57, 100.0, 108.57, 120.0, 120.0, 131.43, 141.43, 157.14, 328.57, 357.14, 428.57, 850.0, 17135.71, 3928.57, 628.57, 564.29, 105.71, 192.86, 6428.57, 428.57, 170.0, 210.0, 108.57, 94.29, 164.29, 4857.14, 320.0, 141.43, 357.14, 100.0, 100.0, 107.14, 157.14, 141.43, 78.57, 54.29, 54.29, 92.86, 68.57, 68.57, 284.29, 171.43, 141.43, 178.57, 150.0, 128.57, 341.43, 114.29, 71.07, 228.57, 135.71, 3928.57, 607.14, 564.29, 121.43, 785.71, 500.0, 114.29, 424.29, 371.43, 491.43], \"y\": [\"normal\", \"normal\", \"normal\", \"normal\", \"normal\", \"high\", \"high\", \"normal\", \"normal\", \"normal\", \"high\", \"normal\", \"normal\", \"normal\", \"normal\", \"normal\", \"normal\", \"normal\", \"high\", \"high\", \"normal\", \"normal\", \"normal\", \"normal\", \"normal\", \"normal\", \"normal\", \"normal\", \"normal\", \"normal\", \"high\", \"high\", \"high\", \"high\", \"normal\", \"normal\", \"normal\", \"normal\", \"high\", \"high\", \"normal\", \"normal\", \"normal\", \"normal\", \"normal\", \"high\", \"normal\", \"normal\", \"normal\", \"normal\", \"normal\", \"normal\", \"normal\", \"normal\", \"high\", \"normal\", \"normal\", \"normal\", \"normal\", \"normal\", \"normal\", \"normal\", \"normal\", \"normal\", \"normal\", \"normal\", \"normal\", \"normal\", \"normal\", \"normal\", \"normal\", \"normal\", \"high\", \"normal\", \"normal\", \"normal\", \"normal\", \"normal\", \"normal\", \"normal\", \"normal\", \"normal\", \"normal\", \"normal\", \"normal\", \"normal\", \"normal\", \"normal\", \"normal\", \"normal\", \"normal\", \"normal\", \"normal\", \"normal\", \"normal\", \"normal\", \"normal\", \"normal\", \"normal\", \"normal\", \"normal\", \"normal\", \"normal\", \"normal\", \"normal\", \"normal\", \"normal\", \"normal\", \"normal\", \"normal\", \"normal\", \"high\", \"normal\", \"normal\", \"normal\", \"normal\", \"normal\", \"normal\", \"normal\", \"normal\", \"high\", \"high\", \"normal\", \"normal\", \"normal\", \"normal\", \"normal\", \"normal\", \"high\", \"high\", \"high\", \"high\", \"high\", \"high\", \"normal\", \"normal\", \"normal\", \"normal\", \"high\", \"normal\", \"normal\", \"normal\", \"normal\", \"high\", \"normal\", \"high\", \"high\", \"normal\", \"normal\", \"normal\", \"normal\", \"high\", \"high\", \"normal\", \"normal\", \"normal\", \"normal\", \"normal\", \"normal\", \"normal\", \"normal\", \"normal\", \"high\", \"high\", \"high\", \"normal\", \"normal\", \"normal\", \"normal\", \"normal\", \"normal\", \"high\", \"normal\", \"normal\", \"normal\", \"normal\", \"normal\", \"normal\", \"normal\", \"normal\", \"normal\", \"normal\", \"high\", \"high\", \"normal\", \"high\", \"normal\", \"normal\", \"normal\", \"normal\", \"high\", \"normal\", \"normal\", \"normal\", \"normal\", \"high\", \"high\", \"normal\", \"high\", \"high\", \"high\", \"high\", \"normal\", \"normal\", \"high\", \"normal\", \"normal\", \"high\", \"high\", \"normal\", \"high\", \"normal\", \"normal\", \"normal\", \"normal\", \"high\", \"normal\", \"normal\", \"normal\", \"normal\", \"normal\", \"normal\", \"normal\", \"normal\", \"high\", \"high\", \"normal\", \"normal\", \"normal\", \"normal\", \"normal\", \"normal\", \"normal\", \"normal\", \"high\", \"normal\", \"normal\", \"normal\", \"normal\", \"normal\", \"normal\", \"normal\", \"normal\", \"normal\", \"normal\", \"normal\", \"normal\", \"normal\", \"normal\", \"normal\", \"normal\", \"normal\", \"normal\", \"normal\", \"normal\", \"normal\", \"normal\", \"normal\", \"normal\", \"normal\", \"normal\", \"normal\", \"normal\", \"normal\", \"normal\", \"normal\", \"normal\", \"high\", \"normal\", \"normal\", \"normal\", \"normal\", \"normal\", \"normal\", \"normal\", \"normal\", \"high\", \"high\", \"normal\", \"normal\", \"normal\", \"normal\", \"normal\", \"normal\", \"high\", \"high\", \"high\", \"high\", \"high\", \"high\", \"normal\", \"normal\", \"normal\", \"normal\", \"high\", \"normal\", \"normal\", \"normal\", \"normal\", \"high\", \"normal\", \"high\", \"high\", \"normal\", \"normal\", \"normal\", \"normal\", \"high\", \"high\", \"normal\", \"normal\", \"normal\", \"normal\", \"normal\", \"normal\", \"normal\", \"normal\", \"normal\", \"high\", \"high\", \"high\", \"normal\", \"normal\", \"normal\", \"normal\", \"normal\", \"normal\", \"high\", \"normal\", \"normal\", \"high\", \"normal\", \"high\", \"normal\", \"normal\", \"normal\", \"normal\", \"normal\", \"normal\", \"normal\", \"high\", \"normal\", \"normal\", \"normal\", \"normal\", \"normal\", \"normal\", \"high\", \"normal\", \"normal\", \"normal\", \"normal\", \"normal\", \"normal\", \"normal\", \"high\", \"high\", \"normal\", \"normal\", \"normal\", \"normal\", \"normal\", \"normal\", \"normal\", \"normal\", \"high\", \"high\", \"high\", \"high\", \"high\", \"high\", \"normal\", \"high\", \"normal\", \"normal\", \"normal\", \"normal\", \"normal\", \"normal\", \"high\", \"normal\", \"normal\", \"high\", \"normal\", \"normal\", \"normal\", \"normal\", \"normal\", \"normal\", \"normal\", \"normal\", \"normal\", \"high\", \"normal\", \"normal\", \"normal\", \"normal\", \"normal\", \"normal\", \"normal\", \"normal\", \"normal\", \"normal\", \"normal\", \"normal\", \"normal\", \"high\", \"normal\", \"normal\", \"normal\", \"high\", \"normal\", \"normal\", \"normal\", \"normal\", \"normal\", \"normal\", \"normal\", \"normal\", \"high\", \"normal\", \"high\", \"normal\", \"high\", \"high\", \"high\"]}, {\"marker\": {\"color\": \"rgba(55, 128, 191, 1.0)\", \"line\": {\"width\": 1.3}, \"opacity\": 0.8, \"size\": 12, \"symbol\": \"circle\"}, \"mode\": \"markers\", \"name\": \"No\", \"text\": [\"John Walker & Sons King George V\", \"Benriach 2005 UK Exclusive Pedro Ximenez Cask #5278\", \"Benriach 2005 UK Exclusive Peated Rum Cask #7553\", \"Black Bottle 10 Year Old\", \"Deanston 10 Year Old Bordeaux Red Wine Cask Finish\", \"Drinks By The Dram Whisky Baubles\", \"GlenAllachie 2006 #6620\", \"Golden Cask Linkwood 12 Year Old\", \"Talisker 10 Year Old 20cl Hot Chocolate Gift Set\", \"Singleton of Dufftown 12 Year Old Tumbler Gift Set\", \"Johnnie Walker Blue Label Glass Gift Set\", \"Johnnie Walker Black Label Glass Gift Set\", \"Johnnie Walker 18 Year Old Glass Gift Set\", \"Johnnie Walker Black Label Gift Tin\", \"Johnnie Walker Green Label Gift Set\", \"Johnnie Walker Gold Label Glass Gift Set\", \"Compass Box Spice Tree Extravaganza\", \"Compass Box Rogues Banquet\", \"Compass Box Juveniles\", \"Compass Box Flaming Heart\", \"Gordon & MacPhail Glen Grant 1954 59 Year Old\", \"Gordon & MacPhail Mortlach 1949 51 Year Old\", \"Darkness Caperdonich 23 Year Old 10188\", \"Octomore 10 Year Old Dialogos 2009\", \"Octomore 11.3 Islay Barley\", \"Ardbeg Wee Beastie\", \"Bowmore 15 Year Old Glass Gift Set\", \"Arran Sauternes Cask Finish\", \"The Loch Fyne The Living Cask Batch 10\", \"Johnnie Walker Blue Label 200th Anniversary\", \"GlenAllachie 9 Year Old Rye Cask Finish\", \"Darkness 8 Year Old\", \"Darkness Bowmore 17 Year Old Moscatel Cask Finish\", \"Aerolite Lyndsay Islay 10 Year Old\", \"Dalmore 12 Year Old Sherry Cask Select\", \"Deanston 1991 Muscat Cask Finish\", \"Ardbeg An Oa Smoker Gift Pack\", \"Tobermory 12 Year Old 2007 Port Pipe Finish\", \"Ledaig 21 Year Old 1998 Marsala Cask Finish\", \"Deanston 2002 Pinot Noir Cask\", \"Deanston 2002 Organic\", \"Bunnahabhain 2008 Manzanilla Cask\", \"Tobermory 23 Year Old\", \"Macallan 1990 22 Year Old Fine & Rare #24706\", \"Benriach The Smoky Ten\", \"Benriach The Original Ten\", \"Benriach The Smoky Twelve\", \"Benriach The Twelve\", \"Loch Lomond 30 Year Old\", \"Loch Lomond 21 Year Old\", \"Port Charlotte OLC: 01 2010 Heavily Peated\", \"Macallan 18 Year Old Double Cask\", \"Teacher's Highland Cream\", \"Balvenie The Edge of Burnhead Wood 19 Year Old\", \"Stylish Whisky Mini Nessie Decanter 10cl\", \"Stylish Whisky Mini Piper Decanter 10cl\", \"Arran Sherry Cask The Bodega\", \"Arran Quarter Cask The Bothy\", \"Robert Burns Malt Gift Pack\", \"Singleton of Dufftown 12 Year Old Gift Set\", \"Glenrothes Whisky Maker's Cut\", \"Laphroaig Lore Gift Set\", \"GlenAllachie 15 Year Old\", \"Dalmore Port Wood Reserve Gift Set\", \"Bruichladdich The Classic Laddie Scottish Barley Gift Pack\", \"Balblair 25 Year Old\", \"Glenfiddich Grand Cru 23 Year Old\", \"Johnnie Walker Taster Gift Set 3x5cl\", \"GlenAllachie 18 Year Old\", \"GlenAllachie 12 Year Old\", \"Old Pulteney 25 Year Old - 2019\", \"Highland Park 12 Year Old\", \"Stylish Whisky Golf Club Decanter 20cl\", \"Pot Still Tap & 2 Glasses\", \"Auchentoshan Gift Pack 3x5cl\", \"Loch Lomond 12 Year Old Taster Pack\", \"Kilchoman Twin Pack 2x20cl\", \"Kilchoman Sanaig 20cl\", \"Loch Lomond Single Grain\", \"Loch Lomond Signature\", \"Macallan 10 Year Old Sherry Oak\", \"Bruichladdich The Classic Laddie 20cl\", \"Longrow Peated\", \"Glencairn Whisky Glasses & Auchentoshan 20cl Gift Set\", \"Kilchoman Sanaig\", \"Kilchoman Machir Bay\", \"Balvenie The Week of Peat 14 Year Old\", \"Balvenie The Sweet Toast of American Oak 12 Year Old\", \"Johnnie Walker 18 Year Old\", \"Tobermory 12 Year Old\", \"Balblair 18 Year Old\", \"Balblair 15 Year Old\", \"Balblair 12 Year Old\", \"Compass Box The Spaniard\", \"Macallan 1937 32 Year Old Fine & Rare\", \"Macallan 1938 31 Year Old Fine & Rare\", \"Macallan 1947 15 Year Old Fine & Rare\", \"Glenglassaugh Evolution\", \"Balvenie 1971 DCS Chapter 4\", \"Glen Moray Mastery\", \"Glen Scotia Victoriana\", \"Talisker 1953 24 Year Old Connoisseur's Choice\", \"Talisker 1952 21 Year Old Connoisseur's Choice\", \"Johnnie Walker Green Label\", \"Ballantine's Miltonduff 17 Year Old\", \"The John Walker\", \"Glenfiddich 30 Year Old\", \"Glendronach Peated Cask\", \"Laphroaig Select\", \"Glenglassaugh 30 Year Old\", \"Glenfiddich 18 Year Old 5cl\", \"Glenfiddich 15 Year Old Solera 20cl\", \"Cragganmore Distillers Edition\", \"Singleton of Dufftown 15 Year Old\", \"Blairmhor 8 Year Old 35cl\", \"Singleton of Dufftown 18 Year Old\", \"Knockando 12 year old\", \"Johnnie Walker Blue Label 20cl\", \"The Glenlivet 12 Year Old\", \"Glenkinchie 12 year old 20cl\", \"Cragganmore 12 year old 20cl\", \"Black Bottle\", \"BenRiach 10 Year Old Curiositas\", \"Whyte & Mackay\", \"Teaninich 10 Year Old\", \"Mannochmore 12 year old\", \"Johnnie Walker Red Label\", \"GlenDronach 18 Year Old 5cl\", \"Glayva\", \"The Glenlivet Nadurra Oloroso Cask Finish\", \"Dalmore 40 Year Old\", \"Aberlour Casg Annamh\", \"Compass Box Malt Whisky Collection\", \"Benrinnes 15 Year Old\", \"Chivas Regal Mizunara\", \"Monkey Shoulder Smokey Monkey\", \"Mortlach 12 Year Old The Wee Witchie\", \"Glenfiddich Fire & Cane\", \"Benromach 2008 cask strength\", \"Ailsa Bay 1.2 Sweet Smoke\", \"GlenDronach 15 Year Old Revival\", \"Bruichladdich Classic Laddie Gift Pack\", \"Fettercairn 28 Year Old\", \"Macallan 30 Year Old Sherry Oak 2020\", \"Old Pulteney 18 Year Old\", \"Old Pulteney 15 Year Old\", \"Old Pulteney Huddart\", \"Glenfiddich Winter Storm Batch 2\", \"Port Charlotte 10 Year Old\", \"Talisker 40 Year Old\", \"Macallan 12 Year Old Triple Cask\", \"BenRiach 21 Year Old\", \"The Loch Fyne Chocolate & Orange Liqueur 5cl\", \"The Loch Fyne Blend 5cl\", \"The Tweeddale The Evolution\", \"Classic Malts Gentle Collection\", \"Classic Malts Coastal Collection\", \"Classic Malt Pack Strong 3 x 20cl\", \"Golf Ball on Tee with Tap\", \"Johnnie Walker Gold Label Reserve\", \"Johnnie Walker Blue Label\", \"Johnnie Walker Black Label\", \"Hazelburn 10 Year Old\", \"Jura 18 Year Old\", \"Jura Seven Wood\", \"Bunnahabhain Toiteach A Dha\", \"Macallan 12 Year Old Double Cask\", \"Dalmore 45 Year Old\", \"Jura 12 Year Old\", \"Macallan 18 Year Old Sherry Oak 2020\", \"Caol Ila 12 Year Old 20cl\", \"Shackleton Blended Malt Scotch\", \"Bunnahabhain Stiuireadair\", \"Globe and 4 Glasses\", \"Macallan No 6 1824 Series\", \"Glenfiddich 21 Year Old 20cl\", \"Barrel and 2 Glasses\", \"Auchentoshan Gift Pack 3 x 20cl\", \"Old Malt Cask Highland Park 19 Year Old\", \"Barley Tap and 2 Glasses\", \"Glenfiddich IPA Experiment\", \"Glenglassaugh Octaves Classic\", \"Laphroaig Lore\", \"Aberlour 18 Year Old\", \"Dalmore 35 Year Old\", \"Chivas Regal 25 year old\", \"Old Pulteney 25 Year Old\", \"The Lost Distillery Co. Lossit\", \"Ardbeg An Oa\", \"Arran 10 Year Old\", \"Glenfiddich 26 Year Old Excellence\", \"The Lost Distillery Co. Jericho\", \"Highland Park Fire\", \"Talisker Skye\", \"Inchmurrin Taster Pack\", \"Robert Burns Malt\", \"Glenfiddich 40 Year Old\", \"Loch Lomond Taster Pack\", \"Aberlour 12 Year Old\", \"Inchmoan 1992\", \"Benromach Peat Smoke\", \"anCnoc 18 Year Old\", \"Laphroaig Quarter Cask\", \"Glengoyne 28 Year Old\", \"Glenrothes Elders' Reserve 10cl\", \"BenRiach 10 Year Old Gift Set\", \"Talisker 10 Year Old Gift Set\", \"Jura 12 Year Old Gift Pack 2019\", \"Bowmore 15 Year Old Gift Set\", \"Johnnie Walker Double Black Gift Set\", \"Benromach 15 Year Old\", \"Dalmore King Alexander III Gift Set\", \"Ardbeg 10 Year Old Ardbone Pack\", \"1770 Peated No.1\", \"Laphroaig 25 Year Old Cask Strength\", \"Glengoyne 18 Year Old 20cl\", \"Glengoyne 15 Year Old 20cl\", \"Glengoyne 10 Year Old 20cl\", \"Loch Lomond 12 Year Old Gift Pack\", \"The Lost Distillery Co. Discovery Selection Gift Pack 3x5cl\", \"Magnum Highland Cream Liqueur\", \"Port Charlotte 10 Year Old Gift Pack\", \"12 Drams of Christmas - Premium Whisky Selection Box\", \"12 Drams of Christmas - Whisky Selection Box\", \"Johnnie Walker Discover Gift Set 5x5cl\", \"Jura Gift Pack 3x5cl\", \"Golden Cask Tomatin 20 Year Old\", \"Drinks by the Dram Whisky Crackers\", \"GlenAllachie 2009 #3782\", \"GlenAllachie 2008 #3966\", \"GlenAllachie 2008 #1867\", \"GlenAllachie 2006 #111860\", \"GlenAllachie 2005 #5182\", \"GlenAllachie 1989 #6118\", \"GlenAllachie 21 Year Old Batch 1\", \"Talisker Exploration Gift Set 3x5cl\", \"Jura The Loch\", \"Darkness Aultmore 22 Year Old 10358\", \"Darkness Allt A'Bhainne 23 Year Old 10358\", \"Darkness Linkwood 19 Year Old Pedro Ximenez Cask 10559\", \"Octomore 11.1 Scottish Barley\", \"Glenallachie 11 Year Old Port Wood Finish\", \"Glenallachie 11 Year Old Mostcatel Finish\", \"Arran Port Wood Cask Finish\", \"John Walker & Sons 28 Year Old Bicentenary Blend\", \"Compass Box Hedonism Felicitas\", \"Character of Islay Tasting Set Pack\", \"Darkness Ardbeg 14 Year Old Pedro Xim\\u00e9nez Cask Finish #11723\", \"Darkness Ardbeg 14 Year Old Pedro Xim\\u00e9nez Cask Finish #10394\", \"Kilchoman 100% Islay 10th Edition\", \"Highland Park Cask Strength No.1\", \"Bowmore Vault Edition 2\", \"The Scotch Whisky Advent Calendar (2020 Edition)\", \"Dalmore Dominium - Travel Retail Exclusive\", \"Ardbeg 1991 21 Year Old Single Cask Cadenhead's Authentic Collection\", \"Ardbeg 1978 Spirit Of Scotland\", \"Balvenie 17 Year Old Islay Cask\", \"Macallan 12 Year Old Re-Awakening\", \"Macallan 15 Year Old Double Cask\", \"Loch Lomond 12 Year Old Open Edition\", \"Kilchoman Loch Gorm 2020\", \"Dalmore 25 Year Old - 2019\", \"Stylish Whisky Mini Golf Decanter 10cl\", \"Bruichladdich 17 Year Old 1l\", \"Glengoyne 28 Year Old\", \"Glenrothes Elders' Reserve 10cl\", \"BenRiach 10 Year Old Gift Set\", \"Talisker 10 Year Old Gift Set\", \"Jura 12 Year Old Gift Pack 2019\", \"Bowmore 15 Year Old Gift Set\", \"Johnnie Walker Double Black Gift Set\", \"Benromach 15 Year Old\", \"Dalmore King Alexander III Gift Set\", \"Ardbeg 10 Year Old Ardbone Pack\", \"1770 Peated No.1\", \"Laphroaig 25 Year Old Cask Strength\", \"Glengoyne 18 Year Old 20cl\", \"Glengoyne 15 Year Old 20cl\", \"Glengoyne 10 Year Old 20cl\", \"Loch Lomond 12 Year Old Gift Pack\", \"The Lost Distillery Co. Discovery Selection Gift Pack 3x5cl\", \"Magnum Highland Cream Liqueur\", \"Port Charlotte 10 Year Old Gift Pack\", \"12 Drams of Christmas - Premium Whisky Selection Box\", \"12 Drams of Christmas - Whisky Selection Box\", \"Johnnie Walker Discover Gift Set 5x5cl\", \"Jura Gift Pack 3x5cl\", \"Tullibardine 225 Sauternes Cask Finish\", \"Hazelburn 12 Year Old\", \"Ardmore 12 Year Old Port Wood Finish\", \"Bowmore 15 Year Old 35cl\", \"Speyburn Bradan Orach\", \"Port Charlotte Scottish Barley 20cl\", \"The Lost Distillery Co. Dalaruan\", \"Loch Lomond Original\", \"Aultmore 21 Year Old\", \"Piper Decanter\", \"Jura 21 Year Old Tide\", \"Macallan 30 Year Old Sherry Oak (Old style)\", \"Usquaebach Reserve\", \"North British 1980\", \"North British 20 Year Old\", \"Ballantine's 12 Year Old 1l\", \"Stylish Whisky Globe Decanter 20cl\", \"Bruichladdich Islay Barley 20cl\", \"Glengoyne 21 Year Old\", \"Glenmorangie 10 Year Old 150th Anniversary\", \"GlenDronach Port Wood 10 Year Old\", \"1770 Glasgow Single Malt\", \"Balvenie A Day of Dark Barley 26 Year Old\", \"GlenDronach 12 Year Old Walker Slater Pack\", \"Fettercairn 50 Year Old\", \"Hazelburn 14 Year Old Oloroso Cask Matured 2019\", \"Arran Explorer Series II Lochranza Castle\", \"Kilkerran Heavily Peated\", \"Macallan Archival Series Folio 3\", \"GlenDronach Master Vintage 1993 25 Year Old\", \"Macallan 1946 56 Year Old (Cask 46/3M) Fine & Rare\", \"Macallan 1949 52 Year Old (Cask 935) Fine & Rare\", \"Johnnie Walker Blue Label Year of the Pig Limited Edition\", \"Lagavulin 9 Year Old - Game of Thrones House Lannister\", \"Talisker Select Reserve - Game of Thrones House Greyjoy\", \"Compass Box Hedonism\", \"Glenmorangie Original Gift Pack\", \"Balvenie 1999 DCS Chapter 4\", \"Balvenie DCS Chapter 5 Set\", \"Macallan Masters of Photography: Magnum Edition\", \"Inchmurrin 2001 Single Cask Exclusive\", \"BenRiach 12 Year Old Sherry Wood\", \"The Singleton of Glen Ord 14 Year Old 2018 Special Release\", \"First Editions Mortlach 2007 Manager's Special\", \"Bunnahabhain 12 year old Old Malt Cask\", \"First Editions Craigellachie 2008 Manager's Special\", \"Macallan 26 Year Old Platinum Old & Rare\", \"Old Malt Cask Jura 28 Year Old\", \"Glenkeir Treasures Gift Pack\", \"Kilchoman 2007 Single Cask The Whisky Shop Exclusive\", \"Bruichladdich Black Art 6 & free glass\", \"First Editions Balmenach 10yo\", \"Glenkeir Treasures Aultmore 7 Year Old\", \"Glenkeir Treasures Glengoyne 9 Year Old\", \"Mortlach 8 year old GlenKeir Treasure\", \"Loch Lomond 50 Year Old\", \"Glenkeir Treasures Fettercairn 8 Year Old\", \"Balblair 1997 Single Cask The Whisky Shop Exclusive\", \"Glenkeir Treasures Craigellachie 9 Year Old\", \"Macallan 1940 35 Year Old Fine & Rare\", \"Old Malt Cask Tamdhu 8 Year Old 20cl\", \"Longrow Red\", \"Laphroaig First Edition 11 year old\", \"Loch Lomond 2001 The Whisky Shop Exclusive Limousin Oak Cask\", \"Royal Salute 21 Year Old Gift Pack\", \"Glen Garioch 1998 Wine Cask Matured\", \"Blair Athol 19yo\", \"Jura Prophecy 20cl\", \"Balvenie 1972 DCS Chapter 2\", \"Johnnie Walker Blue Label Year of the Rooster Limited Edition\", \"Glenkeir Treasures Secret Highland\", \"Johnnie Walker Blue Label Winter Edition\", \"The Singleton of Dufftown Spey Cascade\", \"Bowmore Small Batch\", \"Fettercairn 8 Year Old Douglas of Drumlanrig\", \"Aberfeldy 1991 The Whisky Shop Exclusive\", \"BenRiach 17 Year Old Pedro Ximenez Sherry Wood\", \"GlenDronach 14 Year Old Virgin Oak\", \"Auchentoshan American Oak\", \"The Glenlivet Cipher\", \"Glenkeir Treasures Dailuaine 6 Year Old\", \"Glenmorangie Pride 1978\", \"Benromach 35 Year Old\", \"Old Malt Cask Fettercairn 7 Year Old\", \"Old Malt Cask Craigellachie 12 Year Old 20cl\", \"Customer Favourites Gift Box\", \"Fettercairn 7 Year Old Old Malt Cask with glass gift pack\", \"Old Malt Cask Blair Athol 12 Year Old with Glass\", \"The Whisky Shop 'The Best Of Islay' Gift Box\", \"Inchgower 8 Year Old Douglas of Drumlanrig\", \"Old Pulteney 1989\", \"Bell's Decanter 2012 - Robert Duff Bell\", \"Kilchoman Madeira Cask\", \"Drambuie Jacobite Collection\", \"BRUICHLADDICH THE LADDIE TWENTY TWO YEAR OLD\", \"anCnoc 1997\", \"JOHNNIE WALKER Blue Label Anniversary 60.5%\", \"Bowmore 50 year old\", \"Glenmorangie Milsean\", \"Royal Salute World Polo Edition\", \"Johnnie Walker Blue Label Year of the Monkey Limited Edition\", \"Lochside 52 Year Old Sovereign\", \"Jura 1977\", \"Glengoyne 8 Year Old\", \"Highland Park 1968\", \"Highland Park 1970\", \"Octomore 7.3\", \"Dalmore 12 Year Old With Whisky Stones\", \"Glendronach 19 year old Madeira Cask\", \"Balvenie 1968 DCM bottling 46 year old\", \"The Whisky Shop 'Tour of Scotland' gift box\", \"Glenfarclas 2000 Gift Box Set\", \"Pittyvaich 1989 25 year old Special Release 2015\", \"Dalwhinnie 1989 25 year old Special Release 2015\", \"Dailuaine 1980 34 year old Special Release 2015\", \"Caol Ila 17 year old  Special Release 2015\", \"The Cally 1974 'Caledonian' 40 Year Old 2015 Special Release\", \"Brora 1977 37 year old Special Release 2015\", \"The Macallan M\", \"Bowmore 1957\", \"Laphroaig 32 Year Old\", \"Bowmore Devil's Cask III 37.5cl\", \"BenRiach 'Latada' 18 Year Old Peated Madeira  Finish\", \"Glendronach Octaves 20 Year Old\", \"Dalmore 30 Year Old\", \"Dalmore 21 year old\", \"Hankey Bannister\", \"Glenglassaugh Revival\", \"Dimple 15 Year Old\", \"Cutty Sark 18 Year Old\", \"Cutty Sark 12 Year Old\", \"Glenkinchie Distillers Edition\", \"Glenrothes Select Reserve\", \"Cutty Sark Prohibition\", \"The Deveron 18 Years Old\", \"The Deveron 12 Years Old\", \"Royal Brackla 21 Years Old\", \"Royal Brackla 16 Years Old\", \"Royal Brackla 12 Years Old\", \"The Naked Grouse\", \"Glenmorangie Original\", \"Octomore 7.1 Scottish Barley\", \"Aultmore 7 year old\", \"Royal Lochnagar 12 Year Old\", \"Chivas 18 Year Old Ice Drop Gift Pack\", \"Ardbeg Perpetuum\", \"Dalmore Mckenzie\", \"Glendronach The Hielan' 8 Years Old\", \"Glenrothes Vintage Reserve\", \"anCnoc 1975\", \"Laphroaig 25 Year Old 2018\", \"Laphroaig Triple Wood & free glass\", \"Laphroaig 10 year old & free glass\", \"Laphroaig 15 Year Old 200th Anniversary Bottling\", \"Macallan Ruby\", \"Macallan Masters of Photography: Mario Testino Edition: Purple Print\", \"Macallan Masters of Photography: Mario Testino Edition: Green Print\", \"Ledaig 42 year old\", \"Rare Cask Reserves  Ghosted Reserve\", \"The Glenlivet Founder's Reserve\", \"Auchentoshan 1965\", \"Laphroaig 1991\", \"Glenmorangie Tusail Private Edition\", \"Bruichladdich Black Art 4\", \"Glendronach 2003 Whisky Shop Exclusive\", \"Laphroaig 18 Year Old\", \"Bowmore 1969\", \"Bowmore 1967\", \"Ladyburn 1974 40 year old\", \"Jura 1984 Vintage\", \"Glenglassaugh 51 year old\", \"BenRiach 35 year old\", \"BenRiach 10th Anniversary 10 year old\", \"Glenmorangie The Taghta\", \"Old Pulteney 40 year old\", \"Scotland in a Box\", \"Talisker 1985 27 year old\", \"Port Ellen 34 year old 13th Release\", \"anCnoc Cutter\", \"Octomore 6.1 Scottish Barley\", \"Port Charlotte Islay Barley\", \"Glenkeir Treasures Inchgower 6 year old 10cl\", \"Glenfarclas 1966 Fino Cask\", \"Octomore 6.3 Islay Barley 2009\", \"The Glenlivet 50 year old Winchester Collection 1964\", \"Kilchoman Original Cask Strength\", \"Benrinnes 21 year old 2014 Special Release\", \"Caol Ila 15 year old\", \"Clynelish Select Reserve 2014 Special Release\", \"Cragganmore 25 Year Old 2014 Special Release\", \"Rosebank 21 Year Old 2014 Special Release\", \"The Singleton of Glendullan 38 year old 2014 Special Release\", \"Kilchoman Port Cask\", \"Glenkeir Treasures Speyside 13 year old\", \"The Black Grouse\", \"Glenfiddich 19 Year Old Age of Discovery Bourbon Cask Reserve\", \"Glenfarclas 1960\", \"Glenfarclas 1966\", \"Glenfarclas 1990\", \"Old Pulteney 1990 limited release\", \"Springbank 18 year old Renegade\", \"Balvenie Tun 1509\", \"Glenfarclas 1996\", \"Glenfarclas 1985\", \"Glenfarclas 1984\", \"Glenfarclas 1982\", \"Glenfarclas 1975\", \"Glenfarclas 1974\", \"Glenfarclas 1973\", \"Glenfarclas 1972\", \"Glenfarclas 1969\", \"Glenfarclas 1967\", \"Glenfarclas 1965\", \"Glenfarclas 1964\", \"Glenfarclas 1963\", \"Glenfarclas 1962\", \"Glenfarclas 1961\", \"Glenfarclas 1958\", \"Glenfarclas 1957\", \"Glenfarclas 1954\", \"Jura Tastival Festival bottling\", \"Islay Mist Deluxe 5cl\", \"Glenfiddich 15 Year Old Solera 5cl\", \"Famous Grouse\", \"Stag's Breath\", \"Columba Cream Liqueur\", \"Glenmorangie Original 10 year old\", \"Singleton of Dufftown 12 Year Old 5cl\", \"World Miniature Gift Pack 4 x 5cl\", \"The Glenlivet Triple Pack 3 x 20cl\", \"Hankey Bannister Original\", \"Auchentoshan 18 Year Old 5cl\", \"Tobermory 10 Year Old 5cl\", \"The Glenlivet 18 year old & 2 Glass Gift Pack\", \"Glenfarclas 10 year old 35cl\", \"Aberlour 10 Year Old\", \"The Grants Rare Cask Reserve Pack 25 year old 3 x 35cl\", \"Bruichladdich Islay Barley & free glass\", \"Old Pulteney Clipper\", \"Springbank 21 year old Renegade\", \"The Glenlivet Guardians Chapter\", \"Kininvie 23 year old batch 2\", \"Whyte & Mackay 30 year old\", \"Premium Whisky Selection Gift Pack 4 x 5cl\", \"Jura 10 year old 35cl\", \"Jura The Collection 3x5cl\", \"Dailuaine 1997 Managers Choice\", \"Clynelish Distillers Edition\", \"Cardhu Special Cask Reserve\", \"Bowmore Gift Pack 3x20cl\", \"BenRiach 25 year old\", \"Arran 14 year old\", \"Aberlour 16 Year Old\", \"Vat 69\", \"Strathmill 12 year old\", \"Scottish Leader\", \"Lauder's\", \"Grand Macnish Finest\", \"Glenglassaugh Triple Pack 3 x 20cl\", \"Antiquary 12 year old\", \"Whyte & Mackay 13 year old\", \"Whyte & Mackay 40 year old\", \"Tomintoul 27 year old\", \"Tobermory 10 year old\", \"Glenturret Triple Wood\", \"Talisker 10 year old 20cl\", \"Talisker Pack 3 x 20cl\", \"Speyburn 25 year old\", \"Scapa 16 Year Old\", \"Royal Salute Diamond Jubilee\", \"Royal Salute 100 Casks\", \"Royal Lochnagar Selected Reserve\", \"Robert Burns Blend\", \"Compass Box The Peat Monster\", \"Old Pulteney Navigator\", \"Old Pulteney 30 year old\", \"McClellands Islay Single Malt\", \"McClellands Lowland Single Malt\", \"McClellands Highland Single Malt\", \"Longmorn 16 year old\", \"Lagavulin 16 year old 20cl\", \"Isle of Jura 30 year old\", \"Isle of Jura 1976\"], \"textfont\": {\"color\": \"#4D5663\"}, \"type\": \"scatter\", \"x\": [785.71, 142.79, 171.43, 41.41, 85.71, 221.94, 141.43, 97.13, 109.5, 58.56, 227.13, 42.86, 120.0, 42.86, 61.36, 65.64, 131.36, 264.21, 135.64, 171.43, 3571.43, 5712.86, 615.9, 228.57, 250.0, 55.71, 90.0, 56.79, 90.0, 278.57, 84.27, 71.41, 387.98, 64.27, 98.57, 385.71, 69.93, 142.86, 285.71, 157.14, 214.27, 214.27, 427.14, 14214.29, 55.64, 52.79, 61.29, 55.5, 714.29, 207.14, 126.67, 357.14, 28.57, 371.43, 250.0, 250.0, 75.64, 58.49, 55.71, 54.21, 65.43, 112.79, 95.71, 114.29, 74.29, 750.0, 268.57, 133.33, 138.57, 67.14, 607.14, 57.14, 225.0, 228.57, 213.33, 173.33, 135.0, 145.0, 42.86, 42.86, 428.57, 130.0, 67.14, 210.0, 78.57, 70.0, 78.36, 71.43, 117.14, 71.43, 148.5, 114.29, 74.29, 81.43, 49992.86, 60714.29, 48571.43, 78.57, 29992.86, 1285.71, 104.29, 4285.71, 3571.43, 70.0, 132.86, 3021.43, 714.29, 67.14, 57.14, 514.29, 220.0, 135.0, 90.0, 69.93, 54.29, 108.57, 64.29, 300.0, 57.14, 125.0, 125.0, 30.0, 67.14, 28.57, 82.86, 82.86, 42.86, 300.0, 52.0, 87.14, 9642.86, 67.07, 166.67, 68.43, 74.29, 64.29, 71.43, 61.43, 85.7, 85.71, 88.57, 74.29, 785.71, 6785.71, 139.93, 84.14, 71.43, 284.29, 88.57, 3928.57, 100.0, 199.99, 140.0, 140.0, 250.0, 73.32, 66.65, 83.33, 228.57, 74.29, 214.29, 62.86, 82.86, 107.14, 84.29, 54.14, 72.84, 15714.29, 64.29, 464.29, 140.0, 57.14, 48.5, 228.57, 4000.0, 225.0, 228.57, 115.0, 427.14, 228.57, 81.43, 97.14, 127.14, 290.0, 6428.57, 407.14, 428.57, 71.43, 70.0, 64.29, 535.71, 71.43, 271.43, 64.29, 186.67, 55.71, 3928.57, 173.33, 68.57, 328.57, 67.14, 125.71, 71.43, 850.0, 200.0, 42.84, 57.14, 64.29, 91.41, 57.14, 100.0, 321.43, 74.29, 98.0, 657.14, 160.0, 110.0, 95.0, 71.43, 166.67, 34.29, 88.57, 249.97, 191.67, 128.0, 140.0, 185.71, 221.94, 122.86, 128.57, 128.57, 137.14, 151.43, 757.14, 284.29, 79.93, 64.29, 175.9, 190.0, 201.9, 178.57, 89.99, 89.99, 57.13, 1057.14, 250.0, 199.93, 319.98, 279.98, 107.14, 85.71, 141.43, 208.33, 107.14, 707.14, 850.0, 498.57, 1707.14, 142.86, 78.5, 107.14, 1250.0, 250.0, 195.0, 850.0, 200.0, 42.84, 57.14, 64.29, 91.41, 57.14, 100.0, 321.43, 74.29, 98.0, 657.14, 160.0, 110.0, 95.0, 71.43, 166.67, 34.29, 88.57, 249.97, 191.67, 128.0, 140.0, 85.71, 84.29, 80.0, 105.71, 34.27, 120.0, 71.43, 35.71, 257.14, 228.57, 228.57, 8571.43, 55.71, 357.14, 178.57, 99.0, 225.0, 140.0, 214.29, 285.71, 85.71, 98.0, 892.86, 70.0, 25707.14, 92.86, 192.86, 62.86, 2571.43, 357.14, 57000.0, 58571.43, 278.43, 92.86, 68.57, 104.29, 64.29, 1707.14, 17714.29, 3857.14, 121.43, 68.57, 142.86, 108.57, 157.14, 100.0, 2628.57, 250.0, 166.67, 200.0, 400.0, 94.29, 90.0, 100.0, 90.0, 17142.86, 80.0, 200.0, 100.0, 57142.86, 150.0, 112.86, 204.29, 121.43, 192.86, 207.14, 197.14, 125.0, 21428.57, 314.29, 100.0, 321.43, 50.0, 55.71, 98.57, 457.14, 118.57, 82.84, 47.14, 157.14, 80.0, 3800.0, 642.86, 140.0, 145.0, 660.0, 195.0, 195.0, 660.0, 85.71, 192.86, 121.43, 127.14, 5000.0, 221.43, 100.0, 3571.43, 25000.0, 114.29, 228.57, 212.86, 1371.43, 1011.23, 81.43, 4564.29, 4135.71, 235.71, 85.71, 140.0, 27142.86, 700.0, 114.29, 357.14, 464.29, 542.86, 128.57, 1142.86, 2142.86, 5714.29, 142857.14, 1071.43, 520.0, 128.57, 525.71, 2142.86, 500.0, 41.43, 64.29, 71.43, 102.86, 52.86, 100.0, 62.86, 42.86, 92.86, 57.14, 271.43, 128.57, 74.29, 42.86, 64.29, 142.86, 81.43, 54.21, 392.86, 121.43, 428.57, 60.0, 57.14, 415.71, 857.14, 98.57, 60.0, 107.14, 357.14, 3164.29, 3164.29, 4571.43, 500.0, 57.14, 6428.57, 353.57, 111.43, 321.43, 371.43, 114.29, 3000.0, 3857.14, 3710.0, 1071.43, 7028.57, 642.86, 92.86, 98.57, 2142.86, 191.67, 750.0, 2857.14, 104.29, 141.43, 92.86, 100.0, 1214.29, 214.29, 25714.29, 98.57, 342.86, 107.14, 714.29, 427.14, 428.57, 1071.43, 110.0, 130.0, 40.0, 214.29, 6285.71, 5712.86, 485.71, 235.71, 285.71, 321.43, 485.71, 1000.0, 7857.14, 1485.71, 8428.57, 5000.0, 5000.0, 3857.14, 5712.86, 5712.86, 5712.86, 5712.86, 5712.86, 7857.14, 6285.71, 10428.57, 15500.0, 12142.86, 141.43, 90.0, 165.0, 27.14, 35.71, 135.0, 145.0, 139.8, 399.8, 113.32, 110.0, 219.8, 159.8, 100.0, 74.29, 57.14, 357.14, 90.0, 74.29, 357.14, 84.29, 285.71, 357.14, 379.8, 77.14, 400.0, 378.57, 98.57, 85.71, 140.0, 292.86, 81.43, 100.0, 42.86, 84.29, 44.95, 30.0, 37.14, 1700.0, 119.8, 41.43, 900.0, 165.7, 65.71, 67.14, 130.0, 82.83, 400.0, 125.71, 471.43, 400.0, 421.43, 40.0, 49.93, 71.43, 500.0, 42.86, 42.86, 42.86, 135.71, 165.0, 642.86, 791.41], \"y\": [\"normal\", \"high\", \"normal\", \"normal\", \"normal\", \"normal\", \"high\", \"high\", \"normal\", \"normal\", \"normal\", \"normal\", \"normal\", \"normal\", \"normal\", \"normal\", \"normal\", \"normal\", \"normal\", \"normal\", \"normal\", \"normal\", \"normal\", \"normal\", \"high\", \"normal\", \"normal\", \"normal\", \"normal\", \"normal\", \"normal\", \"normal\", \"normal\", \"normal\", \"normal\", \"normal\", \"normal\", \"high\", \"high\", \"normal\", \"normal\", \"normal\", \"normal\", \"high\", \"normal\", \"normal\", \"normal\", \"normal\", \"normal\", \"normal\", \"high\", \"normal\", \"normal\", \"normal\", \"normal\", \"normal\", \"high\", \"high\", \"normal\", \"normal\", \"normal\", \"normal\", \"normal\", \"normal\", \"normal\", \"normal\", \"normal\", \"normal\", \"normal\", \"normal\", \"normal\", \"normal\", \"normal\", \"normal\", \"normal\", \"normal\", \"normal\", \"normal\", \"normal\", \"normal\", \"normal\", \"normal\", \"normal\", \"normal\", \"normal\", \"normal\", \"normal\", \"normal\", \"normal\", \"normal\", \"normal\", \"normal\", \"normal\", \"normal\", \"normal\", \"normal\", \"normal\", \"normal\", \"normal\", \"normal\", \"normal\", \"normal\", \"normal\", \"normal\", \"normal\", \"normal\", \"normal\", \"normal\", \"normal\", \"normal\", \"normal\", \"normal\", \"normal\", \"normal\", \"normal\", \"normal\", \"normal\", \"normal\", \"normal\", \"normal\", \"normal\", \"normal\", \"normal\", \"normal\", \"normal\", \"normal\", \"normal\", \"normal\", \"low\", \"high\", \"normal\", \"normal\", \"normal\", \"normal\", \"normal\", \"normal\", \"normal\", \"normal\", \"high\", \"normal\", \"normal\", \"normal\", \"normal\", \"normal\", \"normal\", \"normal\", \"normal\", \"normal\", \"normal\", \"normal\", \"normal\", \"normal\", \"normal\", \"normal\", \"normal\", \"normal\", \"normal\", \"normal\", \"normal\", \"normal\", \"normal\", \"normal\", \"normal\", \"normal\", \"normal\", \"normal\", \"normal\", \"normal\", \"normal\", \"normal\", \"normal\", \"normal\", \"normal\", \"normal\", \"normal\", \"normal\", \"normal\", \"normal\", \"normal\", \"normal\", \"normal\", \"normal\", \"normal\", \"normal\", \"normal\", \"normal\", \"normal\", \"normal\", \"normal\", \"normal\", \"normal\", \"normal\", \"normal\", \"normal\", \"normal\", \"normal\", \"normal\", \"normal\", \"normal\", \"normal\", \"normal\", \"normal\", \"normal\", \"normal\", \"normal\", \"normal\", \"normal\", \"normal\", \"normal\", \"normal\", \"normal\", \"normal\", \"normal\", \"normal\", \"normal\", \"normal\", \"normal\", \"normal\", \"normal\", \"normal\", null, \"normal\", \"normal\", \"normal\", \"normal\", \"normal\", \"normal\", \"normal\", \"high\", \"high\", \"normal\", \"high\", \"high\", \"normal\", \"normal\", \"normal\", \"normal\", \"normal\", \"normal\", \"normal\", \"high\", \"normal\", \"normal\", \"normal\", \"normal\", \"normal\", \"normal\", \"normal\", \"normal\", \"normal\", \"high\", \"normal\", \"normal\", \"normal\", \"normal\", \"high\", \"normal\", \"normal\", \"normal\", \"normal\", \"normal\", \"normal\", \"normal\", \"normal\", \"normal\", \"normal\", \"normal\", \"normal\", \"normal\", \"normal\", \"normal\", \"normal\", \"normal\", \"normal\", \"normal\", \"normal\", \"normal\", \"normal\", \"normal\", \"normal\", \"normal\", null, \"normal\", \"normal\", \"normal\", \"normal\", \"normal\", \"normal\", \"normal\", \"normal\", \"normal\", \"normal\", \"normal\", \"normal\", \"normal\", \"normal\", \"normal\", \"normal\", \"normal\", \"normal\", \"high\", \"normal\", \"normal\", \"normal\", \"normal\", \"normal\", \"normal\", \"normal\", \"normal\", \"normal\", \"normal\", \"normal\", \"normal\", \"normal\", \"high\", \"normal\", \"normal\", \"normal\", \"normal\", \"normal\", \"normal\", \"normal\", \"normal\", \"normal\", \"normal\", \"normal\", \"normal\", \"normal\", \"normal\", \"high\", \"normal\", \"normal\", \"normal\", \"high\", \"normal\", \"normal\", \"high\", \"normal\", \"normal\", \"normal\", \"normal\", \"normal\", \"normal\", \"normal\", \"normal\", \"normal\", \"normal\", \"normal\", \"normal\", \"normal\", \"high\", \"normal\", \"normal\", \"normal\", \"normal\", \"normal\", \"normal\", \"normal\", \"normal\", \"normal\", \"normal\", \"normal\", \"normal\", \"normal\", \"normal\", \"normal\", \"normal\", \"normal\", \"normal\", \"normal\", \"normal\", \"normal\", \"normal\", \"normal\", \"normal\", \"normal\", \"normal\", \"normal\", \"normal\", \"normal\", \"normal\", \"normal\", \"normal\", \"high\", \"normal\", \"normal\", \"normal\", \"normal\", \"normal\", \"normal\", \"normal\", \"normal\", \"normal\", \"high\", \"normal\", \"normal\", \"normal\", \"normal\", \"high\", \"normal\", \"normal\", \"normal\", \"high\", \"normal\", \"normal\", \"normal\", \"normal\", \"normal\", \"high\", \"normal\", \"normal\", \"normal\", \"normal\", \"normal\", \"normal\", \"normal\", \"normal\", \"normal\", \"normal\", \"normal\", \"normal\", \"normal\", \"normal\", \"normal\", \"normal\", \"normal\", \"normal\", \"normal\", \"high\", \"normal\", \"normal\", \"normal\", \"normal\", \"normal\", \"normal\", \"normal\", \"normal\", \"normal\", \"normal\", \"normal\", \"normal\", \"normal\", \"normal\", \"normal\", \"normal\", \"normal\", \"normal\", \"normal\", \"normal\", \"normal\", \"normal\", \"normal\", \"normal\", \"normal\", \"normal\", \"normal\", \"normal\", \"normal\", \"normal\", \"normal\", \"normal\", \"normal\", \"normal\", \"high\", \"normal\", \"normal\", \"high\", \"normal\", \"normal\", \"normal\", \"high\", \"normal\", \"high\", \"high\", \"high\", \"normal\", \"normal\", \"high\", \"high\", \"normal\", \"normal\", \"normal\", \"normal\", \"normal\", \"normal\", \"normal\", \"normal\", \"normal\", \"normal\", \"high\", \"normal\", \"normal\", \"normal\", \"normal\", \"normal\", \"normal\", \"normal\", \"high\", \"high\", \"normal\", \"normal\", \"normal\", \"normal\", \"normal\", \"normal\", \"normal\", \"normal\", \"normal\", \"normal\", \"normal\", \"normal\", \"low\", null, \"normal\", \"normal\", \"normal\", \"normal\", \"normal\", \"normal\", \"normal\", \"normal\", \"normal\", \"normal\", \"normal\", \"normal\", \"normal\", \"normal\", \"normal\", \"normal\", \"normal\", \"normal\", \"normal\", \"normal\", \"high\", \"normal\", \"normal\", \"normal\", \"normal\", \"normal\", \"normal\", \"normal\", \"normal\", \"normal\", \"normal\", \"normal\", \"normal\", \"normal\", \"normal\", \"normal\", \"normal\", \"normal\", \"normal\", \"normal\", \"normal\", \"normal\", \"normal\", \"normal\", \"normal\", \"normal\", \"normal\", \"normal\", \"normal\", \"normal\", \"normal\", \"normal\", \"normal\", \"normal\", \"normal\", \"normal\", \"normal\"]}],                        {\"legend\": {\"bgcolor\": \"#F5F6F9\", \"font\": {\"color\": \"#4D5663\"}}, \"paper_bgcolor\": \"#F5F6F9\", \"plot_bgcolor\": \"#F5F6F9\", \"template\": {\"data\": {\"bar\": [{\"error_x\": {\"color\": \"#2a3f5f\"}, \"error_y\": {\"color\": \"#2a3f5f\"}, \"marker\": {\"line\": {\"color\": \"#E5ECF6\", \"width\": 0.5}}, \"type\": \"bar\"}], \"barpolar\": [{\"marker\": {\"line\": {\"color\": \"#E5ECF6\", \"width\": 0.5}}, \"type\": \"barpolar\"}], \"carpet\": [{\"aaxis\": {\"endlinecolor\": \"#2a3f5f\", \"gridcolor\": \"white\", \"linecolor\": \"white\", \"minorgridcolor\": \"white\", \"startlinecolor\": \"#2a3f5f\"}, \"baxis\": {\"endlinecolor\": \"#2a3f5f\", \"gridcolor\": \"white\", \"linecolor\": \"white\", \"minorgridcolor\": \"white\", \"startlinecolor\": \"#2a3f5f\"}, \"type\": \"carpet\"}], \"choropleth\": [{\"colorbar\": {\"outlinewidth\": 0, \"ticks\": \"\"}, \"type\": \"choropleth\"}], \"contour\": [{\"colorbar\": {\"outlinewidth\": 0, \"ticks\": \"\"}, \"colorscale\": [[0.0, \"#0d0887\"], [0.1111111111111111, \"#46039f\"], [0.2222222222222222, \"#7201a8\"], [0.3333333333333333, \"#9c179e\"], [0.4444444444444444, \"#bd3786\"], [0.5555555555555556, \"#d8576b\"], [0.6666666666666666, \"#ed7953\"], [0.7777777777777778, \"#fb9f3a\"], [0.8888888888888888, \"#fdca26\"], [1.0, \"#f0f921\"]], \"type\": \"contour\"}], \"contourcarpet\": [{\"colorbar\": {\"outlinewidth\": 0, \"ticks\": \"\"}, \"type\": \"contourcarpet\"}], \"heatmap\": [{\"colorbar\": {\"outlinewidth\": 0, \"ticks\": \"\"}, \"colorscale\": [[0.0, \"#0d0887\"], [0.1111111111111111, \"#46039f\"], [0.2222222222222222, \"#7201a8\"], [0.3333333333333333, \"#9c179e\"], [0.4444444444444444, \"#bd3786\"], [0.5555555555555556, \"#d8576b\"], [0.6666666666666666, \"#ed7953\"], [0.7777777777777778, \"#fb9f3a\"], [0.8888888888888888, \"#fdca26\"], [1.0, \"#f0f921\"]], \"type\": \"heatmap\"}], \"heatmapgl\": [{\"colorbar\": {\"outlinewidth\": 0, \"ticks\": \"\"}, \"colorscale\": [[0.0, \"#0d0887\"], [0.1111111111111111, \"#46039f\"], [0.2222222222222222, \"#7201a8\"], [0.3333333333333333, \"#9c179e\"], [0.4444444444444444, \"#bd3786\"], [0.5555555555555556, \"#d8576b\"], [0.6666666666666666, \"#ed7953\"], [0.7777777777777778, \"#fb9f3a\"], [0.8888888888888888, \"#fdca26\"], [1.0, \"#f0f921\"]], \"type\": \"heatmapgl\"}], \"histogram\": [{\"marker\": {\"colorbar\": {\"outlinewidth\": 0, \"ticks\": \"\"}}, \"type\": \"histogram\"}], \"histogram2d\": [{\"colorbar\": {\"outlinewidth\": 0, \"ticks\": \"\"}, \"colorscale\": [[0.0, \"#0d0887\"], [0.1111111111111111, \"#46039f\"], [0.2222222222222222, \"#7201a8\"], [0.3333333333333333, \"#9c179e\"], [0.4444444444444444, \"#bd3786\"], [0.5555555555555556, \"#d8576b\"], [0.6666666666666666, \"#ed7953\"], [0.7777777777777778, \"#fb9f3a\"], [0.8888888888888888, \"#fdca26\"], [1.0, \"#f0f921\"]], \"type\": \"histogram2d\"}], \"histogram2dcontour\": [{\"colorbar\": {\"outlinewidth\": 0, \"ticks\": \"\"}, \"colorscale\": [[0.0, \"#0d0887\"], [0.1111111111111111, \"#46039f\"], [0.2222222222222222, \"#7201a8\"], [0.3333333333333333, \"#9c179e\"], [0.4444444444444444, \"#bd3786\"], [0.5555555555555556, \"#d8576b\"], [0.6666666666666666, \"#ed7953\"], [0.7777777777777778, \"#fb9f3a\"], [0.8888888888888888, \"#fdca26\"], [1.0, \"#f0f921\"]], \"type\": \"histogram2dcontour\"}], \"mesh3d\": [{\"colorbar\": {\"outlinewidth\": 0, \"ticks\": \"\"}, \"type\": \"mesh3d\"}], \"parcoords\": [{\"line\": {\"colorbar\": {\"outlinewidth\": 0, \"ticks\": \"\"}}, \"type\": \"parcoords\"}], \"pie\": [{\"automargin\": true, \"type\": \"pie\"}], \"scatter\": [{\"marker\": {\"colorbar\": {\"outlinewidth\": 0, \"ticks\": \"\"}}, \"type\": \"scatter\"}], \"scatter3d\": [{\"line\": {\"colorbar\": {\"outlinewidth\": 0, \"ticks\": \"\"}}, \"marker\": {\"colorbar\": {\"outlinewidth\": 0, \"ticks\": \"\"}}, \"type\": \"scatter3d\"}], \"scattercarpet\": [{\"marker\": {\"colorbar\": {\"outlinewidth\": 0, \"ticks\": \"\"}}, \"type\": \"scattercarpet\"}], \"scattergeo\": [{\"marker\": {\"colorbar\": {\"outlinewidth\": 0, \"ticks\": \"\"}}, \"type\": \"scattergeo\"}], \"scattergl\": [{\"marker\": {\"colorbar\": {\"outlinewidth\": 0, \"ticks\": \"\"}}, \"type\": \"scattergl\"}], \"scattermapbox\": [{\"marker\": {\"colorbar\": {\"outlinewidth\": 0, \"ticks\": \"\"}}, \"type\": \"scattermapbox\"}], \"scatterpolar\": [{\"marker\": {\"colorbar\": {\"outlinewidth\": 0, \"ticks\": \"\"}}, \"type\": \"scatterpolar\"}], \"scatterpolargl\": [{\"marker\": {\"colorbar\": {\"outlinewidth\": 0, \"ticks\": \"\"}}, \"type\": \"scatterpolargl\"}], \"scatterternary\": [{\"marker\": {\"colorbar\": {\"outlinewidth\": 0, \"ticks\": \"\"}}, \"type\": \"scatterternary\"}], \"surface\": [{\"colorbar\": {\"outlinewidth\": 0, \"ticks\": \"\"}, \"colorscale\": [[0.0, \"#0d0887\"], [0.1111111111111111, \"#46039f\"], [0.2222222222222222, \"#7201a8\"], [0.3333333333333333, \"#9c179e\"], [0.4444444444444444, \"#bd3786\"], [0.5555555555555556, \"#d8576b\"], [0.6666666666666666, \"#ed7953\"], [0.7777777777777778, \"#fb9f3a\"], [0.8888888888888888, \"#fdca26\"], [1.0, \"#f0f921\"]], \"type\": \"surface\"}], \"table\": [{\"cells\": {\"fill\": {\"color\": \"#EBF0F8\"}, \"line\": {\"color\": \"white\"}}, \"header\": {\"fill\": {\"color\": \"#C8D4E3\"}, \"line\": {\"color\": \"white\"}}, \"type\": \"table\"}]}, \"layout\": {\"annotationdefaults\": {\"arrowcolor\": \"#2a3f5f\", \"arrowhead\": 0, \"arrowwidth\": 1}, \"coloraxis\": {\"colorbar\": {\"outlinewidth\": 0, \"ticks\": \"\"}}, \"colorscale\": {\"diverging\": [[0, \"#8e0152\"], [0.1, \"#c51b7d\"], [0.2, \"#de77ae\"], [0.3, \"#f1b6da\"], [0.4, \"#fde0ef\"], [0.5, \"#f7f7f7\"], [0.6, \"#e6f5d0\"], [0.7, \"#b8e186\"], [0.8, \"#7fbc41\"], [0.9, \"#4d9221\"], [1, \"#276419\"]], \"sequential\": [[0.0, \"#0d0887\"], [0.1111111111111111, \"#46039f\"], [0.2222222222222222, \"#7201a8\"], [0.3333333333333333, \"#9c179e\"], [0.4444444444444444, \"#bd3786\"], [0.5555555555555556, \"#d8576b\"], [0.6666666666666666, \"#ed7953\"], [0.7777777777777778, \"#fb9f3a\"], [0.8888888888888888, \"#fdca26\"], [1.0, \"#f0f921\"]], \"sequentialminus\": [[0.0, \"#0d0887\"], [0.1111111111111111, \"#46039f\"], [0.2222222222222222, \"#7201a8\"], [0.3333333333333333, \"#9c179e\"], [0.4444444444444444, \"#bd3786\"], [0.5555555555555556, \"#d8576b\"], [0.6666666666666666, \"#ed7953\"], [0.7777777777777778, \"#fb9f3a\"], [0.8888888888888888, \"#fdca26\"], [1.0, \"#f0f921\"]]}, \"colorway\": [\"#636efa\", \"#EF553B\", \"#00cc96\", \"#ab63fa\", \"#FFA15A\", \"#19d3f3\", \"#FF6692\", \"#B6E880\", \"#FF97FF\", \"#FECB52\"], \"font\": {\"color\": \"#2a3f5f\"}, \"geo\": {\"bgcolor\": \"white\", \"lakecolor\": \"white\", \"landcolor\": \"#E5ECF6\", \"showlakes\": true, \"showland\": true, \"subunitcolor\": \"white\"}, \"hoverlabel\": {\"align\": \"left\"}, \"hovermode\": \"closest\", \"mapbox\": {\"style\": \"light\"}, \"paper_bgcolor\": \"white\", \"plot_bgcolor\": \"#E5ECF6\", \"polar\": {\"angularaxis\": {\"gridcolor\": \"white\", \"linecolor\": \"white\", \"ticks\": \"\"}, \"bgcolor\": \"#E5ECF6\", \"radialaxis\": {\"gridcolor\": \"white\", \"linecolor\": \"white\", \"ticks\": \"\"}}, \"scene\": {\"xaxis\": {\"backgroundcolor\": \"#E5ECF6\", \"gridcolor\": \"white\", \"gridwidth\": 2, \"linecolor\": \"white\", \"showbackground\": true, \"ticks\": \"\", \"zerolinecolor\": \"white\"}, \"yaxis\": {\"backgroundcolor\": \"#E5ECF6\", \"gridcolor\": \"white\", \"gridwidth\": 2, \"linecolor\": \"white\", \"showbackground\": true, \"ticks\": \"\", \"zerolinecolor\": \"white\"}, \"zaxis\": {\"backgroundcolor\": \"#E5ECF6\", \"gridcolor\": \"white\", \"gridwidth\": 2, \"linecolor\": \"white\", \"showbackground\": true, \"ticks\": \"\", \"zerolinecolor\": \"white\"}}, \"shapedefaults\": {\"line\": {\"color\": \"#2a3f5f\"}}, \"ternary\": {\"aaxis\": {\"gridcolor\": \"white\", \"linecolor\": \"white\", \"ticks\": \"\"}, \"baxis\": {\"gridcolor\": \"white\", \"linecolor\": \"white\", \"ticks\": \"\"}, \"bgcolor\": \"#E5ECF6\", \"caxis\": {\"gridcolor\": \"white\", \"linecolor\": \"white\", \"ticks\": \"\"}}, \"title\": {\"x\": 0.05}, \"xaxis\": {\"automargin\": true, \"gridcolor\": \"white\", \"linecolor\": \"white\", \"ticks\": \"\", \"title\": {\"standoff\": 15}, \"zerolinecolor\": \"white\", \"zerolinewidth\": 2}, \"yaxis\": {\"automargin\": true, \"gridcolor\": \"white\", \"linecolor\": \"white\", \"ticks\": \"\", \"title\": {\"standoff\": 15}, \"zerolinecolor\": \"white\", \"zerolinewidth\": 2}}}, \"title\": {\"font\": {\"color\": \"#4D5663\"}, \"text\": \"Whiskey price Distribution according to their Alcohol level\"}, \"xaxis\": {\"gridcolor\": \"#E1E5ED\", \"showgrid\": true, \"tickfont\": {\"color\": \"#4D5663\"}, \"title\": {\"font\": {\"color\": \"#4D5663\"}, \"text\": \"Price per Litre\"}, \"zerolinecolor\": \"#E1E5ED\"}, \"yaxis\": {\"gridcolor\": \"#E1E5ED\", \"showgrid\": true, \"tickfont\": {\"color\": \"#4D5663\"}, \"title\": {\"font\": {\"color\": \"#4D5663\"}, \"text\": \"\"}, \"zerolinecolor\": \"#E1E5ED\"}},                        {\"showLink\": true, \"linkText\": \"Export to plot.ly\", \"plotlyServerURL\": \"https://plot.ly\", \"responsive\": true}                    ).then(function(){\n",
       "                            \n",
       "var gd = document.getElementById('4e04129a-f67e-48d6-8023-7aa338c72393');\n",
       "var x = new MutationObserver(function (mutations, observer) {{\n",
       "        var display = window.getComputedStyle(gd).display;\n",
       "        if (!display || display === 'none') {{\n",
       "            console.log([gd, 'removed!']);\n",
       "            Plotly.purge(gd);\n",
       "            observer.disconnect();\n",
       "        }}\n",
       "}});\n",
       "\n",
       "// Listen for the removal of the full notebook cells\n",
       "var notebookContainer = gd.closest('#notebook-container');\n",
       "if (notebookContainer) {{\n",
       "    x.observe(notebookContainer, {childList: true});\n",
       "}}\n",
       "\n",
       "// Listen for the clearing of the current output cell\n",
       "var outputEl = gd.closest('.output');\n",
       "if (outputEl) {{\n",
       "    x.observe(outputEl, {childList: true});\n",
       "}}\n",
       "\n",
       "                        })                };                });            </script>        </div>"
      ]
     },
     "metadata": {},
     "output_type": "display_data"
    }
   ],
   "source": [
    "df.iplot(mode='markers',\n",
    "        x='price_per_litre',\n",
    "        y='alc_perc',\n",
    "         #size='alc_perc'\n",
    "         categories='Limited Edition',\n",
    "         text='name',\n",
    "         title  ='Whiskey price Distribution according to their Alcohol level',\n",
    "         xTitle='Price per Litre',\n",
    "         #color =''\n",
    "         #yTitle='Style of Whiskey',\n",
    "        )"
   ]
  },
  {
   "cell_type": "markdown",
   "metadata": {},
   "source": [
    "- Note: Also in the figure, we have the limited edition (Yes or No), which just seems to mean as if most of the expensive ones are the limited edition ones."
   ]
  },
  {
   "cell_type": "code",
   "execution_count": 57,
   "metadata": {
    "ExecuteTime": {
     "end_time": "2021-01-11T08:39:57.248079Z",
     "start_time": "2021-01-11T08:39:57.093077Z"
    }
   },
   "outputs": [
    {
     "data": {
      "application/vnd.plotly.v1+json": {
       "config": {
        "linkText": "Export to plot.ly",
        "plotlyServerURL": "https://plot.ly",
        "showLink": true
       },
       "data": [
        {
         "marker": {
          "color": "rgba(255, 153, 51, 1.0)",
          "line": {
           "width": 1.3
          },
          "opacity": 0.8,
          "size": 12,
          "symbol": "circle"
         },
         "mode": "markers",
         "name": "expensive",
         "text": [
          "Benromach 21 Year Old",
          "Balblair 1990 29 Year Old Connoisseur's Choice",
          "Benriach 2005 UK Exclusive Pedro Ximenez Cask #5278",
          "Benriach 2005 UK Exclusive Peated Rum Cask #7553",
          "Character of Islay Bowmore 18 Year Old Wind & Waves #11714",
          "Glenmorangie 12 Year Old Malaga",
          "GlenAllachie 2006 #6620",
          "Wemyss Malts Bunnahabhain 1990 28 Year Old Boat Captain's Brew",
          "Wemyss Malts Bowmore 1988 31 Year Old Candied Violets",
          "Talisker 10 Year Old 20cl Hot Chocolate Gift Set",
          "Glendronach 27 Year Old #182 Oloroso UK Exclusive Single Cask",
          "Darkness Caperdonich 23 Year Old 10188",
          "Octomore 10 Year Old Dialogos 2009",
          "Octomore 11.3 Islay Barley",
          "Bruichladdich Black Art 8",
          "Darkness Bowmore 17 Year Old Moscatel Cask Finish",
          "Deanston 1991 Muscat Cask Finish",
          "Tobermory 12 Year Old 2007 Port Pipe Finish",
          "Ledaig 21 Year Old 1998 Marsala Cask Finish",
          "Deanston 2002 Pinot Noir Cask",
          "Deanston 2002 Organic",
          "Tobermory 23 Year Old",
          "Loch Lomond 30 Year Old",
          "Loch Lomond 21 Year Old",
          "Dalwhinnie 30 Year Old Special Releases 2020",
          "Cardhu 11 Year Old Special Releases 2020",
          "Lagavulin 12 Year Old Special Releases 2020",
          "Talisker 8 Year Old Special Releases 2020",
          "Singleton 17 Year Old Special Releases 2020",
          "Fettercairn 22 Year Old",
          "Macallan 18 Year Old Double Cask",
          "Laphroaig 10 Year Old Cask Strength 2020",
          "Glenallachie 2008 #508",
          "Balvenie The Edge of Burnhead Wood 19 Year Old",
          "Glen Scotia 14 Year Old Tawny Port Finish Campbeltown Malts Festival 2020",
          "Wemyss Malts Velvet Fig 25 Year Old",
          "Glenkeir Treasures Twin Casks Secret Highland 11 Year Old",
          "Glenkeir Treasures Twin Casks Secret Speyside 9 Year Old",
          "Glendronach 1993 26 Year Old #7434",
          "Balblair 25 Year Old",
          "Glenfiddich Grand Cru 23 Year Old",
          "GlenAllachie 25 Year Old",
          "GlenAllachie 18 Year Old",
          "Old Pulteney 25 Year Old - 2019",
          "Jura Two-One-Two (212)",
          "Loch Lomond 12 Year Old Taster Pack",
          "Macallan 10 Year Old Sherry Oak",
          "Glencairn Whisky Glasses & Auchentoshan 20cl Gift Set",
          "Arbikie Highland Rye",
          "Johnnie Walker 18 Year Old",
          "Whisky Works Glaswegian 29 Year Old",
          "Whisky Works King of Trees 10 Year Old",
          "Balblair 18 Year Old",
          "Balblair 15 Year Old",
          "Glenmorangie Grand Vintage Malt 1991",
          "Springbank 1997 21 year old Authors Series - Oscar Wilde",
          "Ballantine's Miltonduff 17 Year Old",
          "Glenfiddich 30 Year Old",
          "Glenglassaugh 30 Year Old",
          "Glenfiddich 18 Year Old 5cl",
          "Glenfiddich 15 Year Old Solera 20cl",
          "Singleton of Dufftown 18 Year Old",
          "Glenkinchie 12 year old 20cl",
          "Cragganmore 12 year old 20cl",
          "GlenDronach 18 Year Old 5cl",
          "Loch Lomond 19 Year Old Royal Portrush",
          "Jura 1988",
          "Fettercairn 28 Year Old",
          "Old Pulteney 18 Year Old",
          "Glenfiddich Winter Storm Batch 2",
          "BenRiach 21 Year Old",
          "The Tweeddale The Evolution",
          "Jura 18 Year Old",
          "Macallan 18 Year Old Sherry Oak 2020",
          "Caol Ila 12 Year Old 20cl",
          "Glenfiddich 21 Year Old 20cl",
          "Old Malt Cask Highland Park 19 Year Old",
          "Aberlour 18 Year Old",
          "Chivas Regal 25 year old",
          "Old Pulteney 25 Year Old",
          "Bruichladdich 1984 32 Year Old",
          "Glenfiddich 26 Year Old Excellence",
          "Highland Park Fire",
          "Inchmurrin Taster Pack",
          "Loch Lomond Taster Pack",
          "Inchmoan 1992",
          "anCnoc 18 Year Old",
          "Glen Garioch 31 Year Old Platinum Old & Rare",
          "Cragganmore 30 Year Old Platinum Old & Rare",
          "Braes of Glenlivet 30 Year Old Platinum Old & Rare",
          "Aultmore 37 Year Old Platinum Old & Rare",
          "Ardmore 31 Year Old Platinum Old & Rare",
          "Old and Rare Bunnahabhain 30 Year Old",
          "Old Malt Cask Ben Nevis 23 Year Old",
          "Old Malt Cask Longmorn 21 Year Old",
          "Glengoyne 28 Year Old",
          "Bunnahabhain 1988 Marsala Cask Finish",
          "Old Malt Cask Craigellachie 11 Year Old",
          "Glenrothes 1995",
          "Auchentoshan 1996",
          "Glenrothes 1988",
          "Old Malt Cask Tobermory 12 Year Old",
          "First Editions Dalmore 2008 11 Year Old",
          "Glen Keith 26 Year Old Platinum Old & Rare",
          "GlenAllachie 2008 #586",
          "GlenAllachie 2007 #3767 12 Year Old Single Cask",
          "GlenAllachie 2006 #6580",
          "GlenAllachie 2004 #6213",
          "GlenAllachie 2001 #4152",
          "Mortlach 15 Year Old - Game of Thrones Six Kingdoms",
          "Highland Park Esquire",
          "Dalwhinnie 30 Year Old Special Releases 2019",
          "Pittyvaich 29 Year Old Special Releases 2019",
          "Singleton of Glen Ord 18 Year Old Special Releases 2019",
          "Talisker 15 Year Old Special Releases 2019",
          "Cardhu 14 Year Old Special Releases 2019",
          "Lagavulin 12 Year Old Special Releases 2019",
          "Cragganmore 12 Year Old Special Releases 2019",
          "Tamnavulin 33 Year Old The Stillman's Dram",
          "Laphroaig 25 Year Old Cask Strength",
          "Laphroaig 30 Year Old The Ian Hunter Story Book One",
          "Glengoyne 18 Year Old 20cl",
          "Glengoyne 15 Year Old 20cl",
          "Octomore 10.3 Dialogos 6 Year Old",
          "Octomore 10.1 Dialogos 5 Year Old",
          "Bruichladdich Black Art 7",
          "First Editions Ben Nevis 1996",
          "First Editions Mortlach 2007 11 Year Old",
          "First Editions Caol Ila 2010 8 Year Old",
          "Glengoyne 30 Year Old 2018",
          "GlenDronach Cask Strength Batch 8",
          "The Loch Fyne Glentauchers 11 Year Old",
          "The Loch Fyne Aultmore 12 Year Old",
          "Bunnahabhain 2007 French Brandy Finish",
          "Highland Park 2006 14 Year Old Connoisseur's Choice",
          "The Glenlivet 1990 30 Year Old Connoisseur's Choice",
          "Old Malt Cask Mortlach 13 Year Old",
          "Golden Cask Tomatin 20 Year Old",
          "Darkness Benrinnes 13 Year Old Pedro Ximenez Cask",
          "Darkness Dailuaine 17 Year Old",
          "Darkness Auchroisk 20 Year Old",
          "Darkness Auchentoshan 26 Year Old",
          "GlenAllachie 21 Year Old Batch 1",
          "First Editions Dailuaine 11 Year Old 2008",
          "Glendronach 2006 13 Year Old #5538 UK Exclusive",
          "Darkness Allt A'Bhainne 23 Year Old 10358",
          "Darkness Linkwood 19 Year Old Pedro Ximenez Cask 10559",
          "Octomore 11.1 Scottish Barley",
          "The Loch Fyne Bunnahabhain 14 Year Old 2006",
          "The Loch Fyne Craigellachie 12 Year Old 2008",
          "Darkness Ardbeg 14 Year Old Pedro Ximénez Cask Finish #11723",
          "Darkness Ardbeg 14 Year Old Pedro Ximénez Cask Finish #10394",
          "Golden Cask Bowmore 13 Year Old",
          "Golden Cask Bunnahabhain 28 Year Old",
          "Golden Cask Tobermory 20 Year Old",
          "Golden Cask Dailuaine 18 Year Old",
          "Golden Cask Speyside 23 Year Old",
          "Golden Cask Macduff 23 Year Old",
          "Golden Cask Macduff 35 Year Old",
          "Golden Cask Braes of Glenlivet 21 Year Old",
          "Golden Cask Benrinnes 21 Year Old",
          "GlenAllachie 1989 29 Year Old #2588",
          "Mortlach 21 Year Old Special Releases 2020",
          "First Editions Talisker 2010 8 Year Old",
          "Ardbeg 1991 21 Year Old Single Cask Cadenhead's Authentic Collection",
          "Balvenie 17 Year Old Islay Cask",
          "Macallan 15 Year Old Double Cask",
          "GlenAllachie 13 Year Old Spirit of Speyside Festival 2020",
          "Arran 21 Year Old Kildonan & Pladda Island - Explorer Series Vol. 3",
          "Old Malt Cask Inchmurrin 23 Year Old",
          "First Editions Deanston 2009",
          "Arran 1995 #217",
          "Glendronach 1992 27 Year Old #5852",
          "Glenrothes 1984",
          "Octomore 10.4 Dialogos Virgin Oak",
          "Invergordon 21 Year Old The Sovereign",
          "Bruichladdich 17 Year Old 1l",
          "Tullibardine 30 Year Old Platinum Old & Rare",
          "Tormore 31 Year Old Platinum Old & Rare",
          "Tamdhu 1989 30 Year Old Platinum Old & Rare",
          "Strathmill 33 Year Old Platinum Old & Rare",
          "Linkwood 30 Year Old Platinum Old & Rare",
          "Inchgower 37 Year Old Platinum Old & Rare",
          "Glentauchers 30 Year Old Platinum Old & Rare",
          "Glenrothes 31 Year Old Platinum Old & Rare",
          "Glen Garioch 31 Year Old Platinum Old & Rare",
          "Cragganmore 30 Year Old Platinum Old & Rare",
          "Braes of Glenlivet 30 Year Old Platinum Old & Rare",
          "Aultmore 37 Year Old Platinum Old & Rare",
          "Ardmore 31 Year Old Platinum Old & Rare",
          "Old and Rare Bunnahabhain 30 Year Old",
          "Old Malt Cask Ben Nevis 23 Year Old",
          "Old Malt Cask Longmorn 21 Year Old",
          "Glengoyne 28 Year Old",
          "Bunnahabhain 1988 Marsala Cask Finish",
          "Old Malt Cask Craigellachie 11 Year Old",
          "Glenrothes 1995",
          "Auchentoshan 1996",
          "Glenrothes 1988",
          "Old Malt Cask Tobermory 12 Year Old",
          "First Editions Dalmore 2008 11 Year Old",
          "Glen Keith 26 Year Old Platinum Old & Rare",
          "GlenAllachie 2008 #586",
          "GlenAllachie 2007 #3767 12 Year Old Single Cask",
          "GlenAllachie 2006 #6580",
          "GlenAllachie 2004 #6213",
          "GlenAllachie 2001 #4152",
          "Mortlach 15 Year Old - Game of Thrones Six Kingdoms",
          "Highland Park Esquire",
          "Dalwhinnie 30 Year Old Special Releases 2019",
          "Pittyvaich 29 Year Old Special Releases 2019",
          "Singleton of Glen Ord 18 Year Old Special Releases 2019",
          "Talisker 15 Year Old Special Releases 2019",
          "Cardhu 14 Year Old Special Releases 2019",
          "Lagavulin 12 Year Old Special Releases 2019",
          "Cragganmore 12 Year Old Special Releases 2019",
          "Tamnavulin 33 Year Old The Stillman's Dram",
          "Laphroaig 25 Year Old Cask Strength",
          "Laphroaig 30 Year Old The Ian Hunter Story Book One",
          "Glengoyne 18 Year Old 20cl",
          "Glengoyne 15 Year Old 20cl",
          "Octomore 10.3 Dialogos 6 Year Old",
          "Octomore 10.1 Dialogos 5 Year Old",
          "Bruichladdich Black Art 7",
          "First Editions Ben Nevis 1996",
          "First Editions Mortlach 2007 11 Year Old",
          "First Editions Caol Ila 2010 8 Year Old",
          "Glengoyne 30 Year Old 2018",
          "GlenDronach Cask Strength Batch 8",
          "The Loch Fyne Glentauchers 11 Year Old",
          "The Loch Fyne Aultmore 12 Year Old",
          "Bunnahabhain 2007 French Brandy Finish",
          "Ardbeg Traigh Bhan 19 Year Old",
          "anCnoc 16 Year Old 125th Anniversary",
          "Laphroaig 10 Year Old Original Cask Strength",
          "Longrow 1992 10 Year Old",
          "Distiller's Art Braeval 13 Year Old",
          "Bowmore 15 Year Old 35cl",
          "First Editions Inchgower 2008 20cl",
          "First Editions Benrinnes 2010 8 Year Old 20cl",
          "Old Malt Cask Bowmore 17 Year Old",
          "First Editions Tullibardine 2008",
          "Talisker 25 Year Old 2004",
          "Highland Park 26 Year Old Soren Solkaer",
          "Old Malt Cask Arran 21 Year Old",
          "Arran Master of Distilling II",
          "Aultmore 21 Year Old",
          "Glenkeir Treasures Speyburn 10 Year Old 10cl",
          "Glenkeir Treasures Speyburn 10 Year Old 20cl",
          "Glenkeir Treasures Secret Speyside 8 Year Old 10cl",
          "Glenkeir Treasures Secret Speyside 8 Year Old 20cl",
          "Glenkeir Treasures Speyburn 10 Year Old",
          "Glenkeir Treasures Secret Speyside 8 Year Old",
          "BenRiach Batch 16 2008 #3085",
          "BenRiach Batch 16 2007 #3237",
          "BenRiach Batch 16 2008 #2506",
          "BenRiach Batch 16 2007 #7611",
          "BenRiach Batch 16 2005 #3435",
          "BenRiach Batch 16 2005 #3791",
          "BenRiach Batch 16 1994 #6500",
          "BenRiach Batch 16 1993 #7881",
          "BenRiach Batch 16 1991 #1865",
          "BenRiach Batch 16 1985 #7214",
          "Jura 21 Year Old Tide",
          "Glen Ord 25 Year Old",
          "Kilchoman 2006 Vintage",
          "First Editions Tamdhu 2007",
          "North British 20 Year Old",
          "Benromach 1981",
          "Distiller's Art Royal Brackla 18 Year Old",
          "Glengoyne 21 Year Old",
          "First Editions Craigellachie 2006",
          "Old Malt Cask Talisker 8 Year Old",
          "Glenmorangie 10 Year Old 150th Anniversary",
          "Glenmorangie 15 Year Old Sauternes Wood Finish",
          "Loch Lomond 25 Year Old Triple Wood",
          "Loch Lomond 2004 Single Cask",
          "Balvenie A Day of Dark Barley 26 Year Old",
          "Old Malt Cask Bowmore 17 Year Old - Feis Ile 2019",
          "Springbank 10 Year Old Local Barley",
          "Arran Explorer Series II Lochranza Castle",
          "Old Malt Cask Glencadam 14 Year Old",
          "Old Malt Cask Glenburgie 19 Year Old",
          "Old Malt Cask Longmorn 15 Year Old",
          "Bruichladdich Uisge Luing 10 Year Old",
          "GlenDronach 1992 26 Year Old The Whisky Shop Exclusive",
          "Highland Park Twisted Tattoo 16 Year Old",
          "Old Malt Cask Ben Nevis 22 Year Old",
          "Old Malt Cask Mortlach 11 Year Old",
          "Authors' Series Tormore 1988 30 Year Old - Charles Baudelaire",
          "Authors' Series Tullibardine 1993 25 Year Old - William Thackeray",
          "BenRiach 2005 Whisky Shop Exclusive",
          "GlenDronach Master Vintage 1993 25 Year Old",
          "Inchmurrin 2001 Single Cask Exclusive",
          "The Singleton of Glen Ord 14 Year Old 2018 Special Release",
          "First Editions Mortlach 2007 Manager's Special",
          "Bunnahabhain 12 year old Old Malt Cask",
          "Old Malt Cask Jura 28 Year Old",
          "Kilchoman 2007 Single Cask The Whisky Shop Exclusive",
          "Bruichladdich Black Art 6 & free glass",
          "The GlenDronach Kingsman Edition 1991 Vintage",
          "Old Malt Cask Tamdhu 8 Year Old 20cl",
          "Longrow Red",
          "Laphroaig First Edition 11 year old",
          "Loch Lomond 2001 The Whisky Shop Exclusive Limousin Oak Cask",
          "Royal Salute 21 Year Old Gift Pack",
          "Glen Garioch 1998 Wine Cask Matured",
          "Blair Athol 19yo",
          "Aberfeldy 1991 The Whisky Shop Exclusive",
          "BenRiach 17 Year Old Pedro Ximenez Sherry Wood",
          "Benromach 35 Year Old",
          "Old Malt Cask Fettercairn 7 Year Old",
          "Old Malt Cask Craigellachie 12 Year Old 20cl",
          "Fettercairn 7 Year Old Old Malt Cask with glass gift pack",
          "Old Malt Cask Blair Athol 12 Year Old with Glass",
          "BRUICHLADDICH THE LADDIE TWENTY TWO YEAR OLD",
          "Glendronach 19 year old Madeira Cask",
          "Pittyvaich 1989 25 year old Special Release 2015",
          "Dalwhinnie 1989 25 year old Special Release 2015",
          "Dailuaine 1980 34 year old Special Release 2015",
          "Caol Ila 17 year old  Special Release 2015",
          "BenRiach 'Latada' 18 Year Old Peated Madeira  Finish",
          "Glendronach Octaves 20 Year Old",
          "Dalmore 21 year old",
          "Cutty Sark 18 Year Old",
          "Royal Brackla 21 Years Old",
          "Royal Brackla 16 Years Old",
          "Chivas 18 Year Old Ice Drop Gift Pack",
          "Laphroaig 25 Year Old 2018",
          "Laphroaig 15 Year Old 200th Anniversary Bottling",
          "Rare Cask Reserves  Ghosted Reserve",
          "Highland Park Odin",
          "Laphroaig 1991",
          "Bruichladdich Black Art 4",
          "Glendronach 2003 Whisky Shop Exclusive",
          "Laphroaig 18 Year Old",
          "BenRiach 35 year old",
          "Talisker 1985 27 year old",
          "Octomore 6.3 Islay Barley 2009",
          "Lagavulin 12 Year Old 2014 Special Release",
          "Benrinnes 21 year old 2014 Special Release",
          "Caol Ila 15 year old",
          "Cragganmore 25 Year Old 2014 Special Release",
          "Rosebank 21 Year Old 2014 Special Release",
          "Glenkeir Treasures Speyside 13 year old",
          "Glenfiddich 19 Year Old Age of Discovery Bourbon Cask Reserve",
          "Springbank 18 year old Renegade",
          "Glenfiddich 15 Year Old Solera 5cl",
          "Glenmorangie Original 10 year old",
          "Singleton of Dufftown 12 Year Old 5cl",
          "Auchentoshan 18 Year Old 5cl",
          "Tobermory 10 Year Old 5cl",
          "The Grants Rare Cask Reserve Pack 25 year old 3 x 35cl",
          "Springbank 21 year old Renegade",
          "Kininvie 23 year old batch 2",
          "Whyte & Mackay 30 year old",
          "BenRiach 25 year old",
          "Antiquary 12 year old",
          "Whyte & Mackay 40 year old",
          "Tomintoul 27 year old",
          "Talisker 10 year old 20cl",
          "Speyburn 25 year old",
          "Scapa 16 Year Old",
          "Royal Salute Diamond Jubilee",
          "Old Pulteney 30 year old",
          "Longmorn 16 year old",
          "Lagavulin 16 year old 20cl",
          "Isle of Jura 30 year old"
         ],
         "textfont": {
          "color": "#4D5663"
         },
         "type": "scatter",
         "x": [
          21,
          29,
          13,
          14,
          18,
          12,
          14,
          28,
          31,
          10,
          27,
          23,
          10,
          5,
          26,
          17,
          28,
          12,
          21,
          17,
          17,
          23,
          30,
          21,
          30,
          11,
          12,
          8,
          17,
          22,
          18,
          10,
          11,
          19,
          14,
          25,
          11,
          9,
          26,
          25,
          23,
          25,
          18,
          25,
          13,
          12,
          10,
          12,
          3,
          18,
          29,
          10,
          18,
          15,
          26,
          21,
          17,
          30,
          30,
          18,
          15,
          18,
          12,
          12,
          18,
          19,
          30,
          28,
          18,
          21,
          21,
          28,
          18,
          18,
          12,
          21,
          19,
          18,
          25,
          25,
          32,
          26,
          15,
          16,
          29,
          24,
          18,
          31,
          30,
          30,
          37,
          31,
          30,
          23,
          21,
          28,
          30,
          11,
          20,
          23,
          19,
          12,
          11,
          26,
          10,
          12,
          13,
          15,
          18,
          15,
          15,
          30,
          29,
          18,
          15,
          14,
          12,
          12,
          33,
          25,
          30,
          18,
          15,
          6,
          5,
          25,
          22,
          11,
          8,
          30,
          10,
          11,
          12,
          11,
          14,
          30,
          13,
          20,
          13,
          17,
          20,
          26,
          21,
          11,
          13,
          23,
          19,
          5,
          14,
          12,
          14,
          14,
          13,
          28,
          20,
          18,
          23,
          23,
          35,
          21,
          21,
          29,
          21,
          8,
          21,
          17,
          15,
          13,
          21,
          23,
          10,
          24,
          27,
          11,
          3,
          21,
          17,
          30,
          31,
          30,
          33,
          30,
          37,
          30,
          31,
          31,
          30,
          30,
          37,
          31,
          30,
          23,
          21,
          28,
          30,
          11,
          20,
          23,
          19,
          12,
          11,
          26,
          10,
          12,
          13,
          15,
          18,
          15,
          15,
          30,
          29,
          18,
          15,
          14,
          12,
          12,
          33,
          25,
          30,
          18,
          15,
          6,
          5,
          25,
          22,
          11,
          8,
          30,
          10,
          11,
          12,
          11,
          19,
          16,
          10,
          10,
          13,
          15,
          10,
          8,
          17,
          11,
          25,
          26,
          21,
          12,
          21,
          10,
          10,
          8,
          8,
          10,
          8,
          10,
          11,
          11,
          12,
          13,
          14,
          24,
          25,
          27,
          33,
          21,
          25,
          5,
          11,
          20,
          25,
          18,
          21,
          12,
          8,
          10,
          15,
          25,
          14,
          26,
          17,
          10,
          21,
          14,
          19,
          15,
          10,
          26,
          16,
          22,
          11,
          30,
          25,
          12,
          25,
          17,
          14,
          10,
          12,
          28,
          10,
          26,
          25,
          8,
          13,
          11,
          16,
          21,
          15,
          19,
          24,
          17,
          35,
          7,
          12,
          7,
          12,
          22,
          19,
          25,
          25,
          34,
          17,
          18,
          20,
          21,
          18,
          21,
          16,
          18,
          25,
          15,
          26,
          16,
          23,
          23,
          11,
          18,
          35,
          27,
          5,
          12,
          21,
          15,
          25,
          21,
          13,
          19,
          18,
          15,
          10,
          12,
          18,
          10,
          25,
          21,
          22,
          30,
          25,
          12,
          40,
          27,
          10,
          25,
          16,
          21,
          30,
          16,
          16,
          30
         ],
         "y": [
          178.57,
          885.71,
          142.79,
          171.43,
          421.36,
          114.21,
          141.43,
          341.43,
          800,
          109.5,
          600,
          615.9,
          228.57,
          250,
          414.21,
          387.98,
          385.71,
          142.86,
          285.71,
          157.14,
          214.27,
          427.14,
          714.29,
          207.14,
          785.71,
          121.43,
          178.57,
          128.57,
          157.14,
          285.71,
          357.14,
          110,
          128.5,
          371.43,
          107.14,
          155.71,
          140,
          136,
          355.71,
          750,
          268.57,
          357.14,
          138.57,
          607.14,
          128.57,
          173.33,
          428.57,
          210,
          357.14,
          117.14,
          185.71,
          107.14,
          148.5,
          114.29,
          857.07,
          892.86,
          132.86,
          714.29,
          514.29,
          220,
          135,
          108.57,
          125,
          125,
          300,
          228.57,
          928.57,
          785.71,
          139.93,
          284.29,
          199.99,
          250,
          107.14,
          464.29,
          140,
          225,
          427.14,
          290,
          407.14,
          428.57,
          1000,
          535.71,
          271.43,
          186.67,
          173.33,
          328.57,
          125.71,
          442.86,
          571.43,
          407.14,
          692.86,
          457.14,
          800,
          228.57,
          214.29,
          850,
          642.86,
          128.57,
          157.14,
          357.14,
          507.14,
          131.43,
          111.43,
          385.71,
          121.43,
          135.71,
          142.86,
          157.14,
          192.86,
          171.43,
          285.71,
          714.29,
          471.43,
          185.71,
          157.14,
          171.43,
          157.14,
          121.43,
          857.14,
          657.14,
          998.57,
          160,
          110,
          250,
          181.43,
          421.43,
          228.57,
          121.43,
          150,
          1000,
          105.71,
          150,
          160,
          155.71,
          133.57,
          885.71,
          138.57,
          185.71,
          133.9,
          149.9,
          213.9,
          179.98,
          284.29,
          117.14,
          200,
          190,
          201.9,
          178.57,
          190,
          160,
          319.98,
          279.98,
          138.57,
          264.29,
          135.71,
          135.71,
          157.14,
          157.14,
          342.86,
          142.86,
          142.86,
          535.71,
          821.43,
          151.41,
          707.14,
          498.57,
          142.86,
          178.57,
          241.43,
          228.57,
          105.71,
          255.71,
          428.57,
          278.57,
          228.57,
          185.71,
          195,
          371.43,
          485.71,
          407.14,
          478.57,
          442.86,
          735.71,
          400,
          528.57,
          442.86,
          571.43,
          407.14,
          692.86,
          457.14,
          800,
          228.57,
          214.29,
          850,
          642.86,
          128.57,
          157.14,
          357.14,
          507.14,
          131.43,
          111.43,
          385.71,
          121.43,
          135.71,
          142.86,
          157.14,
          192.86,
          171.43,
          285.71,
          714.29,
          471.43,
          185.71,
          157.14,
          171.43,
          157.14,
          121.43,
          857.14,
          657.14,
          998.57,
          160,
          110,
          250,
          181.43,
          421.43,
          228.57,
          121.43,
          150,
          1000,
          105.71,
          150,
          160,
          155.71,
          241.43,
          142.86,
          107.14,
          112.86,
          120,
          105.71,
          130,
          125,
          271.43,
          114.29,
          850,
          785.71,
          255.71,
          107.13,
          257.14,
          130,
          130,
          130,
          130,
          110,
          110,
          108.57,
          120,
          120,
          131.43,
          141.43,
          157.14,
          328.57,
          357.14,
          428.57,
          850,
          228.57,
          628.57,
          564.29,
          105.71,
          178.57,
          428.57,
          170,
          214.29,
          108.57,
          164.29,
          285.71,
          320,
          357.14,
          157.14,
          892.86,
          284.29,
          171.43,
          192.86,
          141.43,
          178.57,
          150,
          128.57,
          341.43,
          114.29,
          228.57,
          135.71,
          607.14,
          564.29,
          121.43,
          357.14,
          121.43,
          142.86,
          108.57,
          157.14,
          250,
          200,
          400,
          785.71,
          150,
          112.86,
          204.29,
          121.43,
          192.86,
          207.14,
          197.14,
          457.14,
          118.57,
          642.86,
          140,
          145,
          195,
          195,
          221.43,
          140,
          357.14,
          464.29,
          542.86,
          128.57,
          128.57,
          525.71,
          500,
          102.86,
          271.43,
          128.57,
          392.86,
          857.14,
          107.14,
          500,
          500,
          353.57,
          321.43,
          371.43,
          114.29,
          642.86,
          750,
          214.29,
          114.29,
          342.86,
          107.14,
          427.14,
          428.57,
          130,
          214.29,
          285.71,
          165,
          145,
          139.8,
          219.8,
          159.8,
          357.14,
          357.14,
          285.71,
          357.14,
          292.86,
          119.8,
          900,
          165.7,
          130,
          400,
          125.71,
          471.43,
          500,
          135.71,
          165,
          642.86
         ]
        },
        {
         "marker": {
          "color": "rgba(55, 128, 191, 1.0)",
          "line": {
           "width": 1.3
          },
          "opacity": 0.8,
          "size": 12,
          "symbol": "circle"
         },
         "mode": "markers",
         "name": "cheap",
         "text": [
          "Black Bottle 10 Year Old",
          "BenRiach 10 Year Old Gift Set",
          "BenRiach 10 Year Old Gift Set",
          "Whyte & Mackay 13 year old"
         ],
         "textfont": {
          "color": "#4D5663"
         },
         "type": "scatter",
         "x": [
          10,
          10,
          10,
          13
         ],
         "y": [
          41.41,
          42.84,
          42.84,
          41.43
         ]
        },
        {
         "marker": {
          "color": "rgba(50, 171, 96, 1.0)",
          "line": {
           "width": 1.3
          },
          "opacity": 0.8,
          "size": 12,
          "symbol": "circle"
         },
         "mode": "markers",
         "name": "affordable",
         "text": [
          "Deanston 10 Year Old Bordeaux Red Wine Cask Finish",
          "Glenmorangie Quinta Ruban Giraffe Tin",
          "Golden Cask Linkwood 12 Year Old",
          "Singleton of Dufftown 12 Year Old Tumbler Gift Set",
          "GlenAllachie 10 Year Old Cask Strength Batch 4",
          "Ardbeg Wee Beastie",
          "Bowmore 15 Year Old Glass Gift Set",
          "Glenmorangie 10 Year Old Original Giraffe Tin",
          "GlenAllachie 9 Year Old Rye Cask Finish",
          "Glen Scotia 11 Year Old Sherry Double Cask",
          "Darkness 8 Year Old",
          "Aerolite Lyndsay Islay 10 Year Old",
          "Dalmore 12 Year Old Sherry Cask Select",
          "Benriach The Smoky Ten",
          "Benriach The Original Ten",
          "Benriach The Smoky Twelve",
          "Benriach The Twelve",
          "Glen Scotia 2009 #784",
          "First Editions Blair Athol 2009",
          "Arran Sherry Cask The Bodega",
          "Singleton of Dufftown 12 Year Old Gift Set",
          "GlenAllachie 15 Year Old",
          "GlenAllachie 12 Year Old",
          "Highland Park 12 Year Old",
          "Balvenie The Week of Peat 14 Year Old",
          "Balvenie The Sweet Toast of American Oak 12 Year Old",
          "Tobermory 12 Year Old",
          "Balblair 12 Year Old",
          "Singleton of Dufftown 15 Year Old",
          "Blairmhor 8 Year Old 35cl",
          "Knockando 12 year old",
          "The Glenlivet 12 Year Old",
          "BenRiach 10 Year Old Curiositas",
          "Teaninich 10 Year Old",
          "Mannochmore 12 year old",
          "Benrinnes 15 Year Old",
          "Mortlach 12 Year Old The Wee Witchie",
          "Benromach 2008 cask strength",
          "GlenDronach 15 Year Old Revival",
          "Old Pulteney 15 Year Old",
          "Port Charlotte 10 Year Old",
          "Macallan 12 Year Old Triple Cask",
          "Johnnie Walker Black Label",
          "Hazelburn 10 Year Old",
          "Macallan 12 Year Old Double Cask",
          "Jura 12 Year Old",
          "Arran 10 Year Old",
          "Aberlour 12 Year Old",
          "First Editions Ardmore 2009 9 Year Old",
          "First Editions Dailuaine 2009 9 Year Old",
          "Macallan 12 Year Old Triple Cask Gift Box",
          "Glenrothes 2004",
          "First Editions Glen Garioch 2008 10 Year Old",
          "Talisker 10 Year Old Gift Set",
          "Jura 12 Year Old Gift Pack 2019",
          "Bowmore 15 Year Old Gift Set",
          "Benromach 15 Year Old",
          "Ardbeg 10 Year Old Ardbone Pack",
          "Glengoyne 10 Year Old 20cl",
          "Loch Lomond 12 Year Old Gift Pack",
          "First Editions Craigellachie 2011 8 Year Old",
          "Port Charlotte 10 Year Old Gift Pack",
          "GlenAllachie 10 Year Old Cask Strength Batch 2",
          "First Editions Ben Nevis 2011 9 Year Old",
          "First Editions Aultmore 10 Year Old 2010",
          "Glenallachie 11 Year Old Port Wood Finish",
          "Glenallachie 11 Year Old Mostcatel Finish",
          "GlenAllachie 10 Year Old Cask Strength Batch 3",
          "Loch Lomond 12 Year Old Open Edition",
          "Glen Moray Madeira Cask Project",
          "Fettercairn 16 Year Old",
          "Loch Lomond 2006 #18/550-12",
          "Inchmurrin 2004 #17/641-2",
          "Macallan 12 Year Old Triple Cask Chinese New Year Twin Pack",
          "First Editions Ardmore 2009 9 Year Old",
          "First Editions Dailuaine 2009 9 Year Old",
          "Macallan 12 Year Old Triple Cask Gift Box",
          "Glenrothes 2004",
          "First Editions Glen Garioch 2008 10 Year Old",
          "Talisker 10 Year Old Gift Set",
          "Jura 12 Year Old Gift Pack 2019",
          "Bowmore 15 Year Old Gift Set",
          "Benromach 15 Year Old",
          "Ardbeg 10 Year Old Ardbone Pack",
          "Glengoyne 10 Year Old 20cl",
          "Loch Lomond 12 Year Old Gift Pack",
          "First Editions Craigellachie 2011 8 Year Old",
          "Port Charlotte 10 Year Old Gift Pack",
          "GlenAllachie 10 Year Old Cask Strength Batch 2",
          "First Editions Royal Brackla 2009",
          "Chivas Regal 12 Year Old Tim Little",
          "Hazelburn 12 Year Old",
          "First Editions Blair Athol 2010",
          "First Editions Mortlach 2009",
          "Ardmore 12 Year Old Port Wood Finish",
          "First Editions Benrinnes 2009",
          "First Editions Bunnahabhain 2007 - 2018 Edition",
          "BenRiach Batch 16 2012 #7825",
          "BenRiach Batch 16 2009 #6095",
          "Ballantine's 12 Year Old 1l",
          "First Editions Benrinnes 2010",
          "First Editions Craigellachie 2008 10 Year Old",
          "First Editions Inchgower 2008 10 Year Old",
          "GlenDronach Port Wood 10 Year Old",
          "GlenDronach 12 Year Old Walker Slater Pack",
          "Royal Lochnagar 12 Year Old - Game of Thrones House Baratheon",
          "Hazelburn 14 Year Old Oloroso Cask Matured 2019",
          "Lagavulin 9 Year Old - Game of Thrones House Lannister",
          "Glenmorangie Original Gift Pack",
          "BenRiach 12 Year Old Sherry Wood",
          "First Editions Craigellachie 2008 Manager's Special",
          "First Editions Balmenach 10yo",
          "Glenkeir Treasures Aultmore 7 Year Old",
          "Glenkeir Treasures Glengoyne 9 Year Old",
          "Mortlach 8 year old GlenKeir Treasure",
          "Glenkeir Treasures Fettercairn 8 Year Old",
          "Glenkeir Treasures Craigellachie 9 Year Old",
          "Fettercairn 8 Year Old Douglas of Drumlanrig",
          "GlenDronach 14 Year Old Virgin Oak",
          "Glenkeir Treasures Dailuaine 6 Year Old",
          "Inchgower 8 Year Old Douglas of Drumlanrig",
          "anCnoc 1997",
          "Glengoyne 8 Year Old",
          "Dalmore 12 Year Old With Whisky Stones",
          "Dimple 15 Year Old",
          "Cutty Sark 12 Year Old",
          "The Deveron 18 Years Old",
          "The Deveron 12 Years Old",
          "Royal Brackla 12 Years Old",
          "Glenmorangie Original",
          "Aultmore 7 year old",
          "Royal Lochnagar 12 Year Old",
          "Glendronach The Hielan' 8 Years Old",
          "Laphroaig 10 year old & free glass",
          "BenRiach 10th Anniversary 10 year old",
          "Glenkeir Treasures Inchgower 6 year old 10cl",
          "The Glenlivet 18 year old & 2 Glass Gift Pack",
          "Glenfarclas 10 year old 35cl",
          "Aberlour 10 Year Old",
          "Jura 10 year old 35cl",
          "Arran 14 year old",
          "Aberlour 16 Year Old",
          "Strathmill 12 year old",
          "Tobermory 10 year old"
         ],
         "textfont": {
          "color": "#4D5663"
         },
         "type": "scatter",
         "x": [
          10,
          14,
          12,
          12,
          10,
          5,
          15,
          10,
          9,
          11,
          8,
          10,
          12,
          10,
          10,
          12,
          12,
          10,
          10,
          7,
          12,
          15,
          12,
          12,
          14,
          12,
          12,
          12,
          15,
          8,
          12,
          12,
          10,
          10,
          12,
          15,
          12,
          10,
          15,
          15,
          10,
          12,
          12,
          10,
          12,
          12,
          10,
          12,
          9,
          9,
          12,
          13,
          10,
          10,
          12,
          15,
          15,
          10,
          10,
          12,
          8,
          10,
          10,
          9,
          10,
          11,
          11,
          10,
          12,
          13,
          16,
          13,
          15,
          12,
          9,
          9,
          12,
          13,
          10,
          10,
          12,
          15,
          15,
          10,
          10,
          12,
          8,
          10,
          10,
          9,
          12,
          12,
          8,
          8,
          12,
          8,
          11,
          7,
          9,
          12,
          8,
          10,
          10,
          10,
          12,
          12,
          14,
          9,
          10,
          12,
          10,
          10,
          7,
          9,
          8,
          8,
          9,
          8,
          14,
          6,
          8,
          14,
          8,
          12,
          15,
          12,
          18,
          12,
          12,
          10,
          7,
          12,
          8,
          10,
          10,
          6,
          18,
          10,
          10,
          10,
          14,
          16,
          12,
          10
         ],
         "y": [
          85.71,
          85.7,
          97.13,
          58.56,
          91.43,
          55.71,
          90,
          57.13,
          84.27,
          85.64,
          71.41,
          64.27,
          98.57,
          55.64,
          52.79,
          61.29,
          55.5,
          92.86,
          100,
          75.64,
          54.21,
          95.71,
          67.14,
          57.14,
          78.36,
          71.43,
          71.43,
          74.29,
          69.93,
          54.29,
          64.29,
          57.14,
          67.14,
          82.86,
          82.86,
          68.43,
          71.43,
          85.7,
          88.57,
          84.14,
          88.57,
          100,
          62.86,
          82.86,
          72.84,
          64.29,
          64.29,
          68.57,
          98.57,
          98.57,
          100,
          92.86,
          100,
          57.14,
          64.29,
          91.41,
          100,
          74.29,
          95,
          71.43,
          100,
          88.57,
          87.14,
          100,
          100,
          89.99,
          89.99,
          87.14,
          78.5,
          92.86,
          100,
          84.21,
          92.86,
          85.71,
          98.57,
          98.57,
          100,
          92.86,
          100,
          57.14,
          64.29,
          91.41,
          100,
          74.29,
          95,
          71.43,
          100,
          88.57,
          87.14,
          88.57,
          57.14,
          84.29,
          98.57,
          98.57,
          80,
          91.43,
          100,
          78.57,
          100,
          99,
          94.29,
          100,
          100,
          85.71,
          70,
          54.29,
          92.86,
          92.86,
          64.29,
          68.57,
          100,
          94.29,
          90,
          100,
          90,
          80,
          100,
          98.57,
          82.84,
          80,
          85.71,
          100,
          81.43,
          85.71,
          71.43,
          52.86,
          92.86,
          57.14,
          74.29,
          64.29,
          81.43,
          54.21,
          60,
          60,
          92.86,
          100,
          100,
          74.29,
          57.14,
          77.14,
          81.43,
          100,
          84.29,
          65.71
         ]
        },
        {
         "marker": {
          "color": "rgba(128, 0, 128, 1.0)",
          "line": {
           "width": 1.3
          },
          "opacity": 0.8,
          "size": 12,
          "symbol": "circle"
         },
         "mode": "markers",
         "name": "very-expensive",
         "text": [
          "The Singleton of Glen Ord 38 Year Old Epicurean Odyssey",
          "Gordon & MacPhail Glen Grant 1954 59 Year Old",
          "Gordon & MacPhail Mortlach 1949 51 Year Old",
          "Fettercairn 46 Year Old",
          "Macallan 1990 22 Year Old Fine & Rare #24706",
          "Glenglassaugh 1978 40 Year Old #3060",
          "Old Malt Cask Ardbeg 32 Year Old 1967",
          "Ardbeg 1972 VELIER",
          "Dailuaine 46 Year Old Platinum Old & Rare",
          "Glen Scotia 45 Year Old",
          "Brora 40 Year Old 200th Anniversary",
          "The Last Drop 56 Year Old",
          "Talisker 41 Year Old",
          "Port Ellen 39 Year Old Untold Stories: The Spirit Safe",
          "Talisker 1953 24 Year Old Connoisseur's Choice",
          "Talisker 1952 21 Year Old Connoisseur's Choice",
          "Dalmore 40 Year Old",
          "The Last Drop Glenrothes 1968 Cask 13504",
          "Fettercairn 40 Year Old",
          "Macallan 30 Year Old Sherry Oak 2020",
          "Talisker 40 Year Old",
          "Convalmore 32 Year Old 2017 Special Release",
          "Bunnahabhain 40 Year Old",
          "Dalmore 45 Year Old",
          "Bunnahabhain 1980 Canasta Cask Finish",
          "Dalmore 35 Year Old",
          "Glenfiddich 40 Year Old",
          "Glenburgie 44 Year Old Platinum Old & Rare",
          "Dufftown 44 Year Old Platinum Old & Rare",
          "Benrinnes 40 Year Old Platinum Old & Rare",
          "Balmenach 40 Year Old Platinum Old & Rare",
          "Balvenie 2001 DCS Chapter 5",
          "Dalmore 1973 Gonzalez Byass",
          "Glenrothes 40 Year Old",
          "Bowmore Feis Ile 2019 Cask #666",
          "Mortlach 26 Year Old Special Releases 2019",
          "Littlemill 29 Year Old Private Cellar Edition 2019",
          "Glen Scotia 30 Year Old",
          "John Walker & Sons 28 Year Old Bicentenary Blend",
          "Highland Park 50 Year Old",
          "GlenDronach Kingsman Edition 1989 Vintage",
          "Macallan 12 Year Old Re-Awakening",
          "Macallan Exceptional Single Cask 2019/ESB-5542/02",
          "Port Ellen 40 Year Old 9 Rogue Casks",
          "Macallan Exceptional Single Cask 2019/ESB-14/03",
          "Lagavulin 21 Year Old Jazz Festival 2019",
          "Dalmore 25 Year Old - 2019",
          "Teaninich 43 Year Old Platinum Old & Rare",
          "Glen Elgin 44 Year Old Platinum Old & Rare",
          "Glenlossie 44 Year Old Platinum Old & Rare",
          "Glenburgie 44 Year Old Platinum Old & Rare",
          "Dufftown 44 Year Old Platinum Old & Rare",
          "Benrinnes 40 Year Old Platinum Old & Rare",
          "Balmenach 40 Year Old Platinum Old & Rare",
          "Balvenie 2001 DCS Chapter 5",
          "Dalmore 1973 Gonzalez Byass",
          "Glenrothes 40 Year Old",
          "Bowmore Feis Ile 2019 Cask #666",
          "Mortlach 26 Year Old Special Releases 2019",
          "Littlemill 29 Year Old Private Cellar Edition 2019",
          "Bunnahabhain Elements 39 Year Old",
          "Macallan 30 Year Old Sherry Oak (Old style)",
          "Authors' Series Probably Speyside's Finest 1968 50 Year Old - Nathaniel Hawthorne",
          "Balvenie 1999 DCS Chapter 4",
          "Macallan 26 Year Old Platinum Old & Rare",
          "Loch Lomond 50 Year Old",
          "Balvenie 1972 DCS Chapter 2",
          "Bowmore 50 year old",
          "Lochside 52 Year Old Sovereign",
          "The Cally 1974 'Caledonian' 40 Year Old 2015 Special Release",
          "Brora 1977 37 year old Special Release 2015",
          "Laphroaig 32 Year Old",
          "Dalmore 30 Year Old",
          "Ledaig 42 year old",
          "Auchentoshan 1965",
          "Ladyburn 1974 40 year old",
          "Glenglassaugh 51 year old",
          "Old Pulteney 40 year old",
          "Port Ellen 34 year old 13th Release",
          "Glenfarclas 1966 Fino Cask",
          "The Singleton of Glendullan 38 year old 2014 Special Release"
         ],
         "textfont": {
          "color": "#4D5663"
         },
         "type": "scatter",
         "x": [
          38,
          59,
          51,
          46,
          22,
          40,
          32,
          30,
          46,
          45,
          40,
          56,
          41,
          39,
          24,
          21,
          40,
          50,
          40,
          30,
          40,
          32,
          40,
          45,
          36,
          35,
          40,
          44,
          44,
          40,
          40,
          18,
          30,
          40,
          22,
          26,
          29,
          30,
          28,
          50,
          29,
          12,
          22,
          40,
          22,
          21,
          25,
          43,
          44,
          44,
          44,
          44,
          40,
          40,
          18,
          30,
          40,
          22,
          26,
          29,
          39,
          30,
          50,
          18,
          26,
          50,
          43,
          50,
          52,
          40,
          37,
          32,
          30,
          42,
          42,
          40,
          51,
          40,
          34,
          47,
          38
         ],
         "y": [
          3000,
          3571.43,
          5712.86,
          12142.86,
          14214.29,
          1427.14,
          4564.29,
          9992.86,
          1535.71,
          5428.57,
          6428.57,
          5357.14,
          4142.86,
          6428.57,
          4285.71,
          3571.43,
          9642.86,
          7714.29,
          4285.71,
          6785.71,
          3928.57,
          1928.57,
          3178.57,
          15714.29,
          2571.43,
          6428.57,
          3928.57,
          1442.86,
          1442.86,
          1021.43,
          1021.43,
          1142.86,
          2850,
          4142.86,
          3570,
          2142.86,
          3928.57,
          1214.29,
          1057.14,
          24142.86,
          1107.14,
          1707.14,
          5000,
          9135.71,
          4278.57,
          1141.43,
          1250,
          1278.57,
          1442.86,
          1442.86,
          1442.86,
          1442.86,
          1021.43,
          1021.43,
          1142.86,
          2850,
          4142.86,
          3570,
          2142.86,
          3928.57,
          17135.71,
          8571.43,
          3928.57,
          1707.14,
          2628.57,
          17142.86,
          21428.57,
          25000,
          1371.43,
          1142.86,
          2142.86,
          1071.43,
          2142.86,
          4571.43,
          6428.57,
          3710,
          7028.57,
          2142.86,
          2857.14,
          1214.29,
          1071.43
         ]
        },
        {
         "marker": {
          "color": "rgba(219, 64, 82, 1.0)",
          "line": {
           "width": 1.3
          },
          "opacity": 0.8,
          "size": 12,
          "symbol": "circle"
         },
         "mode": "markers",
         "name": "premium",
         "text": [
          "Macallan 50 Year Old Red Collection",
          "Macallan 1954 47 Year Old Fine & Rare #1902",
          "Macallan 1940 37 Year Old Fine & Rare",
          "Macallan Exceptional Single Cask 1950",
          "Macallan 1937 32 Year Old Fine & Rare",
          "Macallan 1938 31 Year Old Fine & Rare",
          "Macallan 1947 15 Year Old Fine & Rare",
          "Balvenie 1971 DCS Chapter 4",
          "The Balvenie 50 Year Old: Marriage 0197",
          "Macallan 50 Year Old",
          "Macallan 74 Year Old Red Collection",
          "Macallan 71 Year Old Red Collection",
          "Macallan 60 Year Old Red Collection",
          "Dalmore 51 Year Old",
          "Macallan 72 Year Old in Lalique",
          "The Balvenie 50 Year Old: Marriage 0197",
          "Macallan 50 Year Old",
          "Fettercairn 50 Year Old",
          "Macallan 1946 56 Year Old (Cask 46/3M) Fine & Rare",
          "Macallan 1949 52 Year Old (Cask 935) Fine & Rare",
          "Macallan 1940 35 Year Old Fine & Rare",
          "Balvenie 1968 DCM bottling 46 year old",
          "Bowmore 1957",
          "The Glenlivet 50 year old Winchester Collection 1964"
         ],
         "textfont": {
          "color": "#4D5663"
         },
         "type": "scatter",
         "x": [
          50,
          47,
          37,
          67,
          32,
          31,
          15,
          47,
          50,
          50,
          74,
          71,
          60,
          51,
          72,
          50,
          50,
          50,
          56,
          52,
          35,
          46,
          52,
          50
         ],
         "y": [
          99992.86,
          45707.14,
          49992.86,
          98571.43,
          49992.86,
          60714.29,
          48571.43,
          29992.86,
          39285.71,
          119993.33,
          135714.29,
          127142.86,
          112857.14,
          98571.43,
          102857.14,
          39285.71,
          119993.33,
          25707.14,
          57000,
          58571.43,
          57142.86,
          27142.86,
          142857.14,
          25714.29
         ]
        }
       ],
       "layout": {
        "template": {
         "data": {
          "bar": [
           {
            "error_x": {
             "color": "#2a3f5f"
            },
            "error_y": {
             "color": "#2a3f5f"
            },
            "marker": {
             "line": {
              "color": "#E5ECF6",
              "width": 0.5
             }
            },
            "type": "bar"
           }
          ],
          "barpolar": [
           {
            "marker": {
             "line": {
              "color": "#E5ECF6",
              "width": 0.5
             }
            },
            "type": "barpolar"
           }
          ],
          "carpet": [
           {
            "aaxis": {
             "endlinecolor": "#2a3f5f",
             "gridcolor": "white",
             "linecolor": "white",
             "minorgridcolor": "white",
             "startlinecolor": "#2a3f5f"
            },
            "baxis": {
             "endlinecolor": "#2a3f5f",
             "gridcolor": "white",
             "linecolor": "white",
             "minorgridcolor": "white",
             "startlinecolor": "#2a3f5f"
            },
            "type": "carpet"
           }
          ],
          "choropleth": [
           {
            "colorbar": {
             "outlinewidth": 0,
             "ticks": ""
            },
            "type": "choropleth"
           }
          ],
          "contour": [
           {
            "colorbar": {
             "outlinewidth": 0,
             "ticks": ""
            },
            "colorscale": [
             [
              0,
              "#0d0887"
             ],
             [
              0.1111111111111111,
              "#46039f"
             ],
             [
              0.2222222222222222,
              "#7201a8"
             ],
             [
              0.3333333333333333,
              "#9c179e"
             ],
             [
              0.4444444444444444,
              "#bd3786"
             ],
             [
              0.5555555555555556,
              "#d8576b"
             ],
             [
              0.6666666666666666,
              "#ed7953"
             ],
             [
              0.7777777777777778,
              "#fb9f3a"
             ],
             [
              0.8888888888888888,
              "#fdca26"
             ],
             [
              1,
              "#f0f921"
             ]
            ],
            "type": "contour"
           }
          ],
          "contourcarpet": [
           {
            "colorbar": {
             "outlinewidth": 0,
             "ticks": ""
            },
            "type": "contourcarpet"
           }
          ],
          "heatmap": [
           {
            "colorbar": {
             "outlinewidth": 0,
             "ticks": ""
            },
            "colorscale": [
             [
              0,
              "#0d0887"
             ],
             [
              0.1111111111111111,
              "#46039f"
             ],
             [
              0.2222222222222222,
              "#7201a8"
             ],
             [
              0.3333333333333333,
              "#9c179e"
             ],
             [
              0.4444444444444444,
              "#bd3786"
             ],
             [
              0.5555555555555556,
              "#d8576b"
             ],
             [
              0.6666666666666666,
              "#ed7953"
             ],
             [
              0.7777777777777778,
              "#fb9f3a"
             ],
             [
              0.8888888888888888,
              "#fdca26"
             ],
             [
              1,
              "#f0f921"
             ]
            ],
            "type": "heatmap"
           }
          ],
          "heatmapgl": [
           {
            "colorbar": {
             "outlinewidth": 0,
             "ticks": ""
            },
            "colorscale": [
             [
              0,
              "#0d0887"
             ],
             [
              0.1111111111111111,
              "#46039f"
             ],
             [
              0.2222222222222222,
              "#7201a8"
             ],
             [
              0.3333333333333333,
              "#9c179e"
             ],
             [
              0.4444444444444444,
              "#bd3786"
             ],
             [
              0.5555555555555556,
              "#d8576b"
             ],
             [
              0.6666666666666666,
              "#ed7953"
             ],
             [
              0.7777777777777778,
              "#fb9f3a"
             ],
             [
              0.8888888888888888,
              "#fdca26"
             ],
             [
              1,
              "#f0f921"
             ]
            ],
            "type": "heatmapgl"
           }
          ],
          "histogram": [
           {
            "marker": {
             "colorbar": {
              "outlinewidth": 0,
              "ticks": ""
             }
            },
            "type": "histogram"
           }
          ],
          "histogram2d": [
           {
            "colorbar": {
             "outlinewidth": 0,
             "ticks": ""
            },
            "colorscale": [
             [
              0,
              "#0d0887"
             ],
             [
              0.1111111111111111,
              "#46039f"
             ],
             [
              0.2222222222222222,
              "#7201a8"
             ],
             [
              0.3333333333333333,
              "#9c179e"
             ],
             [
              0.4444444444444444,
              "#bd3786"
             ],
             [
              0.5555555555555556,
              "#d8576b"
             ],
             [
              0.6666666666666666,
              "#ed7953"
             ],
             [
              0.7777777777777778,
              "#fb9f3a"
             ],
             [
              0.8888888888888888,
              "#fdca26"
             ],
             [
              1,
              "#f0f921"
             ]
            ],
            "type": "histogram2d"
           }
          ],
          "histogram2dcontour": [
           {
            "colorbar": {
             "outlinewidth": 0,
             "ticks": ""
            },
            "colorscale": [
             [
              0,
              "#0d0887"
             ],
             [
              0.1111111111111111,
              "#46039f"
             ],
             [
              0.2222222222222222,
              "#7201a8"
             ],
             [
              0.3333333333333333,
              "#9c179e"
             ],
             [
              0.4444444444444444,
              "#bd3786"
             ],
             [
              0.5555555555555556,
              "#d8576b"
             ],
             [
              0.6666666666666666,
              "#ed7953"
             ],
             [
              0.7777777777777778,
              "#fb9f3a"
             ],
             [
              0.8888888888888888,
              "#fdca26"
             ],
             [
              1,
              "#f0f921"
             ]
            ],
            "type": "histogram2dcontour"
           }
          ],
          "mesh3d": [
           {
            "colorbar": {
             "outlinewidth": 0,
             "ticks": ""
            },
            "type": "mesh3d"
           }
          ],
          "parcoords": [
           {
            "line": {
             "colorbar": {
              "outlinewidth": 0,
              "ticks": ""
             }
            },
            "type": "parcoords"
           }
          ],
          "pie": [
           {
            "automargin": true,
            "type": "pie"
           }
          ],
          "scatter": [
           {
            "marker": {
             "colorbar": {
              "outlinewidth": 0,
              "ticks": ""
             }
            },
            "type": "scatter"
           }
          ],
          "scatter3d": [
           {
            "line": {
             "colorbar": {
              "outlinewidth": 0,
              "ticks": ""
             }
            },
            "marker": {
             "colorbar": {
              "outlinewidth": 0,
              "ticks": ""
             }
            },
            "type": "scatter3d"
           }
          ],
          "scattercarpet": [
           {
            "marker": {
             "colorbar": {
              "outlinewidth": 0,
              "ticks": ""
             }
            },
            "type": "scattercarpet"
           }
          ],
          "scattergeo": [
           {
            "marker": {
             "colorbar": {
              "outlinewidth": 0,
              "ticks": ""
             }
            },
            "type": "scattergeo"
           }
          ],
          "scattergl": [
           {
            "marker": {
             "colorbar": {
              "outlinewidth": 0,
              "ticks": ""
             }
            },
            "type": "scattergl"
           }
          ],
          "scattermapbox": [
           {
            "marker": {
             "colorbar": {
              "outlinewidth": 0,
              "ticks": ""
             }
            },
            "type": "scattermapbox"
           }
          ],
          "scatterpolar": [
           {
            "marker": {
             "colorbar": {
              "outlinewidth": 0,
              "ticks": ""
             }
            },
            "type": "scatterpolar"
           }
          ],
          "scatterpolargl": [
           {
            "marker": {
             "colorbar": {
              "outlinewidth": 0,
              "ticks": ""
             }
            },
            "type": "scatterpolargl"
           }
          ],
          "scatterternary": [
           {
            "marker": {
             "colorbar": {
              "outlinewidth": 0,
              "ticks": ""
             }
            },
            "type": "scatterternary"
           }
          ],
          "surface": [
           {
            "colorbar": {
             "outlinewidth": 0,
             "ticks": ""
            },
            "colorscale": [
             [
              0,
              "#0d0887"
             ],
             [
              0.1111111111111111,
              "#46039f"
             ],
             [
              0.2222222222222222,
              "#7201a8"
             ],
             [
              0.3333333333333333,
              "#9c179e"
             ],
             [
              0.4444444444444444,
              "#bd3786"
             ],
             [
              0.5555555555555556,
              "#d8576b"
             ],
             [
              0.6666666666666666,
              "#ed7953"
             ],
             [
              0.7777777777777778,
              "#fb9f3a"
             ],
             [
              0.8888888888888888,
              "#fdca26"
             ],
             [
              1,
              "#f0f921"
             ]
            ],
            "type": "surface"
           }
          ],
          "table": [
           {
            "cells": {
             "fill": {
              "color": "#EBF0F8"
             },
             "line": {
              "color": "white"
             }
            },
            "header": {
             "fill": {
              "color": "#C8D4E3"
             },
             "line": {
              "color": "white"
             }
            },
            "type": "table"
           }
          ]
         },
         "layout": {
          "annotationdefaults": {
           "arrowcolor": "#2a3f5f",
           "arrowhead": 0,
           "arrowwidth": 1
          },
          "coloraxis": {
           "colorbar": {
            "outlinewidth": 0,
            "ticks": ""
           }
          },
          "colorscale": {
           "diverging": [
            [
             0,
             "#8e0152"
            ],
            [
             0.1,
             "#c51b7d"
            ],
            [
             0.2,
             "#de77ae"
            ],
            [
             0.3,
             "#f1b6da"
            ],
            [
             0.4,
             "#fde0ef"
            ],
            [
             0.5,
             "#f7f7f7"
            ],
            [
             0.6,
             "#e6f5d0"
            ],
            [
             0.7,
             "#b8e186"
            ],
            [
             0.8,
             "#7fbc41"
            ],
            [
             0.9,
             "#4d9221"
            ],
            [
             1,
             "#276419"
            ]
           ],
           "sequential": [
            [
             0,
             "#0d0887"
            ],
            [
             0.1111111111111111,
             "#46039f"
            ],
            [
             0.2222222222222222,
             "#7201a8"
            ],
            [
             0.3333333333333333,
             "#9c179e"
            ],
            [
             0.4444444444444444,
             "#bd3786"
            ],
            [
             0.5555555555555556,
             "#d8576b"
            ],
            [
             0.6666666666666666,
             "#ed7953"
            ],
            [
             0.7777777777777778,
             "#fb9f3a"
            ],
            [
             0.8888888888888888,
             "#fdca26"
            ],
            [
             1,
             "#f0f921"
            ]
           ],
           "sequentialminus": [
            [
             0,
             "#0d0887"
            ],
            [
             0.1111111111111111,
             "#46039f"
            ],
            [
             0.2222222222222222,
             "#7201a8"
            ],
            [
             0.3333333333333333,
             "#9c179e"
            ],
            [
             0.4444444444444444,
             "#bd3786"
            ],
            [
             0.5555555555555556,
             "#d8576b"
            ],
            [
             0.6666666666666666,
             "#ed7953"
            ],
            [
             0.7777777777777778,
             "#fb9f3a"
            ],
            [
             0.8888888888888888,
             "#fdca26"
            ],
            [
             1,
             "#f0f921"
            ]
           ]
          },
          "colorway": [
           "#636efa",
           "#EF553B",
           "#00cc96",
           "#ab63fa",
           "#FFA15A",
           "#19d3f3",
           "#FF6692",
           "#B6E880",
           "#FF97FF",
           "#FECB52"
          ],
          "font": {
           "color": "#2a3f5f"
          },
          "geo": {
           "bgcolor": "white",
           "lakecolor": "white",
           "landcolor": "#E5ECF6",
           "showlakes": true,
           "showland": true,
           "subunitcolor": "white"
          },
          "hoverlabel": {
           "align": "left"
          },
          "hovermode": "closest",
          "mapbox": {
           "style": "light"
          },
          "paper_bgcolor": "white",
          "plot_bgcolor": "#E5ECF6",
          "polar": {
           "angularaxis": {
            "gridcolor": "white",
            "linecolor": "white",
            "ticks": ""
           },
           "bgcolor": "#E5ECF6",
           "radialaxis": {
            "gridcolor": "white",
            "linecolor": "white",
            "ticks": ""
           }
          },
          "scene": {
           "xaxis": {
            "backgroundcolor": "#E5ECF6",
            "gridcolor": "white",
            "gridwidth": 2,
            "linecolor": "white",
            "showbackground": true,
            "ticks": "",
            "zerolinecolor": "white"
           },
           "yaxis": {
            "backgroundcolor": "#E5ECF6",
            "gridcolor": "white",
            "gridwidth": 2,
            "linecolor": "white",
            "showbackground": true,
            "ticks": "",
            "zerolinecolor": "white"
           },
           "zaxis": {
            "backgroundcolor": "#E5ECF6",
            "gridcolor": "white",
            "gridwidth": 2,
            "linecolor": "white",
            "showbackground": true,
            "ticks": "",
            "zerolinecolor": "white"
           }
          },
          "shapedefaults": {
           "line": {
            "color": "#2a3f5f"
           }
          },
          "ternary": {
           "aaxis": {
            "gridcolor": "white",
            "linecolor": "white",
            "ticks": ""
           },
           "baxis": {
            "gridcolor": "white",
            "linecolor": "white",
            "ticks": ""
           },
           "bgcolor": "#E5ECF6",
           "caxis": {
            "gridcolor": "white",
            "linecolor": "white",
            "ticks": ""
           }
          },
          "title": {
           "x": 0.05
          },
          "xaxis": {
           "automargin": true,
           "gridcolor": "white",
           "linecolor": "white",
           "ticks": "",
           "title": {
            "standoff": 15
           },
           "zerolinecolor": "white",
           "zerolinewidth": 2
          },
          "yaxis": {
           "automargin": true,
           "gridcolor": "white",
           "linecolor": "white",
           "ticks": "",
           "title": {
            "standoff": 15
           },
           "zerolinecolor": "white",
           "zerolinewidth": 2
          }
         }
        },
        "title": {
         "text": "Age and Price of Whisky",
         "x": 0.5
        }
       }
      },
      "text/html": [
       "<div>                            <div id=\"d2a401f8-e308-4f76-9535-c20194067c1f\" class=\"plotly-graph-div\" style=\"height:525px; width:100%;\"></div>            <script type=\"text/javascript\">                require([\"plotly\"], function(Plotly) {                    window.PLOTLYENV=window.PLOTLYENV || {};\n",
       "                    window.PLOTLYENV.BASE_URL='https://plot.ly';                                    if (document.getElementById(\"d2a401f8-e308-4f76-9535-c20194067c1f\")) {                    Plotly.newPlot(                        \"d2a401f8-e308-4f76-9535-c20194067c1f\",                        [{\"marker\": {\"color\": \"rgba(255, 153, 51, 1.0)\", \"line\": {\"width\": 1.3}, \"opacity\": 0.8, \"size\": 12, \"symbol\": \"circle\"}, \"mode\": \"markers\", \"name\": \"expensive\", \"text\": [\"Benromach 21 Year Old\", \"Balblair 1990 29 Year Old Connoisseur's Choice\", \"Benriach 2005 UK Exclusive Pedro Ximenez Cask #5278\", \"Benriach 2005 UK Exclusive Peated Rum Cask #7553\", \"Character of Islay Bowmore 18 Year Old Wind & Waves #11714\", \"Glenmorangie 12 Year Old Malaga\", \"GlenAllachie 2006 #6620\", \"Wemyss Malts Bunnahabhain 1990 28 Year Old Boat Captain's Brew\", \"Wemyss Malts Bowmore 1988 31 Year Old Candied Violets\", \"Talisker 10 Year Old 20cl Hot Chocolate Gift Set\", \"Glendronach 27 Year Old #182 Oloroso UK Exclusive Single Cask\", \"Darkness Caperdonich 23 Year Old 10188\", \"Octomore 10 Year Old Dialogos 2009\", \"Octomore 11.3 Islay Barley\", \"Bruichladdich Black Art 8\", \"Darkness Bowmore 17 Year Old Moscatel Cask Finish\", \"Deanston 1991 Muscat Cask Finish\", \"Tobermory 12 Year Old 2007 Port Pipe Finish\", \"Ledaig 21 Year Old 1998 Marsala Cask Finish\", \"Deanston 2002 Pinot Noir Cask\", \"Deanston 2002 Organic\", \"Tobermory 23 Year Old\", \"Loch Lomond 30 Year Old\", \"Loch Lomond 21 Year Old\", \"Dalwhinnie 30 Year Old Special Releases 2020\", \"Cardhu 11 Year Old Special Releases 2020\", \"Lagavulin 12 Year Old Special Releases 2020\", \"Talisker 8 Year Old Special Releases 2020\", \"Singleton 17 Year Old Special Releases 2020\", \"Fettercairn 22 Year Old\", \"Macallan 18 Year Old Double Cask\", \"Laphroaig 10 Year Old Cask Strength 2020\", \"Glenallachie 2008 #508\", \"Balvenie The Edge of Burnhead Wood 19 Year Old\", \"Glen Scotia 14 Year Old Tawny Port Finish Campbeltown Malts Festival 2020\", \"Wemyss Malts Velvet Fig 25 Year Old\", \"Glenkeir Treasures Twin Casks Secret Highland 11 Year Old\", \"Glenkeir Treasures Twin Casks Secret Speyside 9 Year Old\", \"Glendronach 1993 26 Year Old #7434\", \"Balblair 25 Year Old\", \"Glenfiddich Grand Cru 23 Year Old\", \"GlenAllachie 25 Year Old\", \"GlenAllachie 18 Year Old\", \"Old Pulteney 25 Year Old - 2019\", \"Jura Two-One-Two (212)\", \"Loch Lomond 12 Year Old Taster Pack\", \"Macallan 10 Year Old Sherry Oak\", \"Glencairn Whisky Glasses & Auchentoshan 20cl Gift Set\", \"Arbikie Highland Rye\", \"Johnnie Walker 18 Year Old\", \"Whisky Works Glaswegian 29 Year Old\", \"Whisky Works King of Trees 10 Year Old\", \"Balblair 18 Year Old\", \"Balblair 15 Year Old\", \"Glenmorangie Grand Vintage Malt 1991\", \"Springbank 1997 21 year old Authors Series - Oscar Wilde\", \"Ballantine's Miltonduff 17 Year Old\", \"Glenfiddich 30 Year Old\", \"Glenglassaugh 30 Year Old\", \"Glenfiddich 18 Year Old 5cl\", \"Glenfiddich 15 Year Old Solera 20cl\", \"Singleton of Dufftown 18 Year Old\", \"Glenkinchie 12 year old 20cl\", \"Cragganmore 12 year old 20cl\", \"GlenDronach 18 Year Old 5cl\", \"Loch Lomond 19 Year Old Royal Portrush\", \"Jura 1988\", \"Fettercairn 28 Year Old\", \"Old Pulteney 18 Year Old\", \"Glenfiddich Winter Storm Batch 2\", \"BenRiach 21 Year Old\", \"The Tweeddale The Evolution\", \"Jura 18 Year Old\", \"Macallan 18 Year Old Sherry Oak 2020\", \"Caol Ila 12 Year Old 20cl\", \"Glenfiddich 21 Year Old 20cl\", \"Old Malt Cask Highland Park 19 Year Old\", \"Aberlour 18 Year Old\", \"Chivas Regal 25 year old\", \"Old Pulteney 25 Year Old\", \"Bruichladdich 1984 32 Year Old\", \"Glenfiddich 26 Year Old Excellence\", \"Highland Park Fire\", \"Inchmurrin Taster Pack\", \"Loch Lomond Taster Pack\", \"Inchmoan 1992\", \"anCnoc 18 Year Old\", \"Glen Garioch 31 Year Old Platinum Old & Rare\", \"Cragganmore 30 Year Old Platinum Old & Rare\", \"Braes of Glenlivet 30 Year Old Platinum Old & Rare\", \"Aultmore 37 Year Old Platinum Old & Rare\", \"Ardmore 31 Year Old Platinum Old & Rare\", \"Old and Rare Bunnahabhain 30 Year Old\", \"Old Malt Cask Ben Nevis 23 Year Old\", \"Old Malt Cask Longmorn 21 Year Old\", \"Glengoyne 28 Year Old\", \"Bunnahabhain 1988 Marsala Cask Finish\", \"Old Malt Cask Craigellachie 11 Year Old\", \"Glenrothes 1995\", \"Auchentoshan 1996\", \"Glenrothes 1988\", \"Old Malt Cask Tobermory 12 Year Old\", \"First Editions Dalmore 2008 11 Year Old\", \"Glen Keith 26 Year Old Platinum Old & Rare\", \"GlenAllachie 2008 #586\", \"GlenAllachie 2007 #3767 12 Year Old Single Cask\", \"GlenAllachie 2006 #6580\", \"GlenAllachie 2004 #6213\", \"GlenAllachie 2001 #4152\", \"Mortlach 15 Year Old - Game of Thrones Six Kingdoms\", \"Highland Park Esquire\", \"Dalwhinnie 30 Year Old Special Releases 2019\", \"Pittyvaich 29 Year Old Special Releases 2019\", \"Singleton of Glen Ord 18 Year Old Special Releases 2019\", \"Talisker 15 Year Old Special Releases 2019\", \"Cardhu 14 Year Old Special Releases 2019\", \"Lagavulin 12 Year Old Special Releases 2019\", \"Cragganmore 12 Year Old Special Releases 2019\", \"Tamnavulin 33 Year Old The Stillman's Dram\", \"Laphroaig 25 Year Old Cask Strength\", \"Laphroaig 30 Year Old The Ian Hunter Story Book One\", \"Glengoyne 18 Year Old 20cl\", \"Glengoyne 15 Year Old 20cl\", \"Octomore 10.3 Dialogos 6 Year Old\", \"Octomore 10.1 Dialogos 5 Year Old\", \"Bruichladdich Black Art 7\", \"First Editions Ben Nevis 1996\", \"First Editions Mortlach 2007 11 Year Old\", \"First Editions Caol Ila 2010 8 Year Old\", \"Glengoyne 30 Year Old 2018\", \"GlenDronach Cask Strength Batch 8\", \"The Loch Fyne Glentauchers 11 Year Old\", \"The Loch Fyne Aultmore 12 Year Old\", \"Bunnahabhain 2007 French Brandy Finish\", \"Highland Park 2006 14 Year Old Connoisseur's Choice\", \"The Glenlivet 1990 30 Year Old Connoisseur's Choice\", \"Old Malt Cask Mortlach 13 Year Old\", \"Golden Cask Tomatin 20 Year Old\", \"Darkness Benrinnes 13 Year Old Pedro Ximenez Cask\", \"Darkness Dailuaine 17 Year Old\", \"Darkness Auchroisk 20 Year Old\", \"Darkness Auchentoshan 26 Year Old\", \"GlenAllachie 21 Year Old Batch 1\", \"First Editions Dailuaine 11 Year Old 2008\", \"Glendronach 2006 13 Year Old #5538 UK Exclusive\", \"Darkness Allt A'Bhainne 23 Year Old 10358\", \"Darkness Linkwood 19 Year Old Pedro Ximenez Cask 10559\", \"Octomore 11.1 Scottish Barley\", \"The Loch Fyne Bunnahabhain 14 Year Old 2006\", \"The Loch Fyne Craigellachie 12 Year Old 2008\", \"Darkness Ardbeg 14 Year Old Pedro Xim\\u00e9nez Cask Finish #11723\", \"Darkness Ardbeg 14 Year Old Pedro Xim\\u00e9nez Cask Finish #10394\", \"Golden Cask Bowmore 13 Year Old\", \"Golden Cask Bunnahabhain 28 Year Old\", \"Golden Cask Tobermory 20 Year Old\", \"Golden Cask Dailuaine 18 Year Old\", \"Golden Cask Speyside 23 Year Old\", \"Golden Cask Macduff 23 Year Old\", \"Golden Cask Macduff 35 Year Old\", \"Golden Cask Braes of Glenlivet 21 Year Old\", \"Golden Cask Benrinnes 21 Year Old\", \"GlenAllachie 1989 29 Year Old #2588\", \"Mortlach 21 Year Old Special Releases 2020\", \"First Editions Talisker 2010 8 Year Old\", \"Ardbeg 1991 21 Year Old Single Cask Cadenhead's Authentic Collection\", \"Balvenie 17 Year Old Islay Cask\", \"Macallan 15 Year Old Double Cask\", \"GlenAllachie 13 Year Old Spirit of Speyside Festival 2020\", \"Arran 21 Year Old Kildonan & Pladda Island - Explorer Series Vol. 3\", \"Old Malt Cask Inchmurrin 23 Year Old\", \"First Editions Deanston 2009\", \"Arran 1995 #217\", \"Glendronach 1992 27 Year Old #5852\", \"Glenrothes 1984\", \"Octomore 10.4 Dialogos Virgin Oak\", \"Invergordon 21 Year Old The Sovereign\", \"Bruichladdich 17 Year Old 1l\", \"Tullibardine 30 Year Old Platinum Old & Rare\", \"Tormore 31 Year Old Platinum Old & Rare\", \"Tamdhu 1989 30 Year Old Platinum Old & Rare\", \"Strathmill 33 Year Old Platinum Old & Rare\", \"Linkwood 30 Year Old Platinum Old & Rare\", \"Inchgower 37 Year Old Platinum Old & Rare\", \"Glentauchers 30 Year Old Platinum Old & Rare\", \"Glenrothes 31 Year Old Platinum Old & Rare\", \"Glen Garioch 31 Year Old Platinum Old & Rare\", \"Cragganmore 30 Year Old Platinum Old & Rare\", \"Braes of Glenlivet 30 Year Old Platinum Old & Rare\", \"Aultmore 37 Year Old Platinum Old & Rare\", \"Ardmore 31 Year Old Platinum Old & Rare\", \"Old and Rare Bunnahabhain 30 Year Old\", \"Old Malt Cask Ben Nevis 23 Year Old\", \"Old Malt Cask Longmorn 21 Year Old\", \"Glengoyne 28 Year Old\", \"Bunnahabhain 1988 Marsala Cask Finish\", \"Old Malt Cask Craigellachie 11 Year Old\", \"Glenrothes 1995\", \"Auchentoshan 1996\", \"Glenrothes 1988\", \"Old Malt Cask Tobermory 12 Year Old\", \"First Editions Dalmore 2008 11 Year Old\", \"Glen Keith 26 Year Old Platinum Old & Rare\", \"GlenAllachie 2008 #586\", \"GlenAllachie 2007 #3767 12 Year Old Single Cask\", \"GlenAllachie 2006 #6580\", \"GlenAllachie 2004 #6213\", \"GlenAllachie 2001 #4152\", \"Mortlach 15 Year Old - Game of Thrones Six Kingdoms\", \"Highland Park Esquire\", \"Dalwhinnie 30 Year Old Special Releases 2019\", \"Pittyvaich 29 Year Old Special Releases 2019\", \"Singleton of Glen Ord 18 Year Old Special Releases 2019\", \"Talisker 15 Year Old Special Releases 2019\", \"Cardhu 14 Year Old Special Releases 2019\", \"Lagavulin 12 Year Old Special Releases 2019\", \"Cragganmore 12 Year Old Special Releases 2019\", \"Tamnavulin 33 Year Old The Stillman's Dram\", \"Laphroaig 25 Year Old Cask Strength\", \"Laphroaig 30 Year Old The Ian Hunter Story Book One\", \"Glengoyne 18 Year Old 20cl\", \"Glengoyne 15 Year Old 20cl\", \"Octomore 10.3 Dialogos 6 Year Old\", \"Octomore 10.1 Dialogos 5 Year Old\", \"Bruichladdich Black Art 7\", \"First Editions Ben Nevis 1996\", \"First Editions Mortlach 2007 11 Year Old\", \"First Editions Caol Ila 2010 8 Year Old\", \"Glengoyne 30 Year Old 2018\", \"GlenDronach Cask Strength Batch 8\", \"The Loch Fyne Glentauchers 11 Year Old\", \"The Loch Fyne Aultmore 12 Year Old\", \"Bunnahabhain 2007 French Brandy Finish\", \"Ardbeg Traigh Bhan 19 Year Old\", \"anCnoc 16 Year Old 125th Anniversary\", \"Laphroaig 10 Year Old Original Cask Strength\", \"Longrow 1992 10 Year Old\", \"Distiller's Art Braeval 13 Year Old\", \"Bowmore 15 Year Old 35cl\", \"First Editions Inchgower 2008 20cl\", \"First Editions Benrinnes 2010 8 Year Old 20cl\", \"Old Malt Cask Bowmore 17 Year Old\", \"First Editions Tullibardine 2008\", \"Talisker 25 Year Old 2004\", \"Highland Park 26 Year Old Soren Solkaer\", \"Old Malt Cask Arran 21 Year Old\", \"Arran Master of Distilling II\", \"Aultmore 21 Year Old\", \"Glenkeir Treasures Speyburn 10 Year Old 10cl\", \"Glenkeir Treasures Speyburn 10 Year Old 20cl\", \"Glenkeir Treasures Secret Speyside 8 Year Old 10cl\", \"Glenkeir Treasures Secret Speyside 8 Year Old 20cl\", \"Glenkeir Treasures Speyburn 10 Year Old\", \"Glenkeir Treasures Secret Speyside 8 Year Old\", \"BenRiach Batch 16 2008 #3085\", \"BenRiach Batch 16 2007 #3237\", \"BenRiach Batch 16 2008 #2506\", \"BenRiach Batch 16 2007 #7611\", \"BenRiach Batch 16 2005 #3435\", \"BenRiach Batch 16 2005 #3791\", \"BenRiach Batch 16 1994 #6500\", \"BenRiach Batch 16 1993 #7881\", \"BenRiach Batch 16 1991 #1865\", \"BenRiach Batch 16 1985 #7214\", \"Jura 21 Year Old Tide\", \"Glen Ord 25 Year Old\", \"Kilchoman 2006 Vintage\", \"First Editions Tamdhu 2007\", \"North British 20 Year Old\", \"Benromach 1981\", \"Distiller's Art Royal Brackla 18 Year Old\", \"Glengoyne 21 Year Old\", \"First Editions Craigellachie 2006\", \"Old Malt Cask Talisker 8 Year Old\", \"Glenmorangie 10 Year Old 150th Anniversary\", \"Glenmorangie 15 Year Old Sauternes Wood Finish\", \"Loch Lomond 25 Year Old Triple Wood\", \"Loch Lomond 2004 Single Cask\", \"Balvenie A Day of Dark Barley 26 Year Old\", \"Old Malt Cask Bowmore 17 Year Old - Feis Ile 2019\", \"Springbank 10 Year Old Local Barley\", \"Arran Explorer Series II Lochranza Castle\", \"Old Malt Cask Glencadam 14 Year Old\", \"Old Malt Cask Glenburgie 19 Year Old\", \"Old Malt Cask Longmorn 15 Year Old\", \"Bruichladdich Uisge Luing 10 Year Old\", \"GlenDronach 1992 26 Year Old The Whisky Shop Exclusive\", \"Highland Park Twisted Tattoo 16 Year Old\", \"Old Malt Cask Ben Nevis 22 Year Old\", \"Old Malt Cask Mortlach 11 Year Old\", \"Authors' Series Tormore 1988 30 Year Old - Charles Baudelaire\", \"Authors' Series Tullibardine 1993 25 Year Old - William Thackeray\", \"BenRiach 2005 Whisky Shop Exclusive\", \"GlenDronach Master Vintage 1993 25 Year Old\", \"Inchmurrin 2001 Single Cask Exclusive\", \"The Singleton of Glen Ord 14 Year Old 2018 Special Release\", \"First Editions Mortlach 2007 Manager's Special\", \"Bunnahabhain 12 year old Old Malt Cask\", \"Old Malt Cask Jura 28 Year Old\", \"Kilchoman 2007 Single Cask The Whisky Shop Exclusive\", \"Bruichladdich Black Art 6 & free glass\", \"The GlenDronach Kingsman Edition 1991 Vintage\", \"Old Malt Cask Tamdhu 8 Year Old 20cl\", \"Longrow Red\", \"Laphroaig First Edition 11 year old\", \"Loch Lomond 2001 The Whisky Shop Exclusive Limousin Oak Cask\", \"Royal Salute 21 Year Old Gift Pack\", \"Glen Garioch 1998 Wine Cask Matured\", \"Blair Athol 19yo\", \"Aberfeldy 1991 The Whisky Shop Exclusive\", \"BenRiach 17 Year Old Pedro Ximenez Sherry Wood\", \"Benromach 35 Year Old\", \"Old Malt Cask Fettercairn 7 Year Old\", \"Old Malt Cask Craigellachie 12 Year Old 20cl\", \"Fettercairn 7 Year Old Old Malt Cask with glass gift pack\", \"Old Malt Cask Blair Athol 12 Year Old with Glass\", \"BRUICHLADDICH THE LADDIE TWENTY TWO YEAR OLD\", \"Glendronach 19 year old Madeira Cask\", \"Pittyvaich 1989 25 year old Special Release 2015\", \"Dalwhinnie 1989 25 year old Special Release 2015\", \"Dailuaine 1980 34 year old Special Release 2015\", \"Caol Ila 17 year old  Special Release 2015\", \"BenRiach 'Latada' 18 Year Old Peated Madeira  Finish\", \"Glendronach Octaves 20 Year Old\", \"Dalmore 21 year old\", \"Cutty Sark 18 Year Old\", \"Royal Brackla 21 Years Old\", \"Royal Brackla 16 Years Old\", \"Chivas 18 Year Old Ice Drop Gift Pack\", \"Laphroaig 25 Year Old 2018\", \"Laphroaig 15 Year Old 200th Anniversary Bottling\", \"Rare Cask Reserves  Ghosted Reserve\", \"Highland Park Odin\", \"Laphroaig 1991\", \"Bruichladdich Black Art 4\", \"Glendronach 2003 Whisky Shop Exclusive\", \"Laphroaig 18 Year Old\", \"BenRiach 35 year old\", \"Talisker 1985 27 year old\", \"Octomore 6.3 Islay Barley 2009\", \"Lagavulin 12 Year Old 2014 Special Release\", \"Benrinnes 21 year old 2014 Special Release\", \"Caol Ila 15 year old\", \"Cragganmore 25 Year Old 2014 Special Release\", \"Rosebank 21 Year Old 2014 Special Release\", \"Glenkeir Treasures Speyside 13 year old\", \"Glenfiddich 19 Year Old Age of Discovery Bourbon Cask Reserve\", \"Springbank 18 year old Renegade\", \"Glenfiddich 15 Year Old Solera 5cl\", \"Glenmorangie Original 10 year old\", \"Singleton of Dufftown 12 Year Old 5cl\", \"Auchentoshan 18 Year Old 5cl\", \"Tobermory 10 Year Old 5cl\", \"The Grants Rare Cask Reserve Pack 25 year old 3 x 35cl\", \"Springbank 21 year old Renegade\", \"Kininvie 23 year old batch 2\", \"Whyte & Mackay 30 year old\", \"BenRiach 25 year old\", \"Antiquary 12 year old\", \"Whyte & Mackay 40 year old\", \"Tomintoul 27 year old\", \"Talisker 10 year old 20cl\", \"Speyburn 25 year old\", \"Scapa 16 Year Old\", \"Royal Salute Diamond Jubilee\", \"Old Pulteney 30 year old\", \"Longmorn 16 year old\", \"Lagavulin 16 year old 20cl\", \"Isle of Jura 30 year old\"], \"textfont\": {\"color\": \"#4D5663\"}, \"type\": \"scatter\", \"x\": [21, 29, 13, 14, 18, 12, 14, 28, 31, 10, 27, 23, 10, 5, 26, 17, 28, 12, 21, 17, 17, 23, 30, 21, 30, 11, 12, 8, 17, 22, 18, 10, 11, 19, 14, 25, 11, 9, 26, 25, 23, 25, 18, 25, 13, 12, 10, 12, 3, 18, 29, 10, 18, 15, 26, 21, 17, 30, 30, 18, 15, 18, 12, 12, 18, 19, 30, 28, 18, 21, 21, 28, 18, 18, 12, 21, 19, 18, 25, 25, 32, 26, 15, 16, 29, 24, 18, 31, 30, 30, 37, 31, 30, 23, 21, 28, 30, 11, 20, 23, 19, 12, 11, 26, 10, 12, 13, 15, 18, 15, 15, 30, 29, 18, 15, 14, 12, 12, 33, 25, 30, 18, 15, 6, 5, 25, 22, 11, 8, 30, 10, 11, 12, 11, 14, 30, 13, 20, 13, 17, 20, 26, 21, 11, 13, 23, 19, 5, 14, 12, 14, 14, 13, 28, 20, 18, 23, 23, 35, 21, 21, 29, 21, 8, 21, 17, 15, 13, 21, 23, 10, 24, 27, 11, 3, 21, 17, 30, 31, 30, 33, 30, 37, 30, 31, 31, 30, 30, 37, 31, 30, 23, 21, 28, 30, 11, 20, 23, 19, 12, 11, 26, 10, 12, 13, 15, 18, 15, 15, 30, 29, 18, 15, 14, 12, 12, 33, 25, 30, 18, 15, 6, 5, 25, 22, 11, 8, 30, 10, 11, 12, 11, 19, 16, 10, 10, 13, 15, 10, 8, 17, 11, 25, 26, 21, 12, 21, 10, 10, 8, 8, 10, 8, 10, 11, 11, 12, 13, 14, 24, 25, 27, 33, 21, 25, 5, 11, 20, 25, 18, 21, 12, 8, 10, 15, 25, 14, 26, 17, 10, 21, 14, 19, 15, 10, 26, 16, 22, 11, 30, 25, 12, 25, 17, 14, 10, 12, 28, 10, 26, 25, 8, 13, 11, 16, 21, 15, 19, 24, 17, 35, 7, 12, 7, 12, 22, 19, 25, 25, 34, 17, 18, 20, 21, 18, 21, 16, 18, 25, 15, 26, 16, 23, 23, 11, 18, 35, 27, 5, 12, 21, 15, 25, 21, 13, 19, 18, 15, 10, 12, 18, 10, 25, 21, 22, 30, 25, 12, 40, 27, 10, 25, 16, 21, 30, 16, 16, 30], \"y\": [178.57, 885.71, 142.79, 171.43, 421.36, 114.21, 141.43, 341.43, 800.0, 109.5, 600.0, 615.9, 228.57, 250.0, 414.21, 387.98, 385.71, 142.86, 285.71, 157.14, 214.27, 427.14, 714.29, 207.14, 785.71, 121.43, 178.57, 128.57, 157.14, 285.71, 357.14, 110.0, 128.5, 371.43, 107.14, 155.71, 140.0, 136.0, 355.71, 750.0, 268.57, 357.14, 138.57, 607.14, 128.57, 173.33, 428.57, 210.0, 357.14, 117.14, 185.71, 107.14, 148.5, 114.29, 857.07, 892.86, 132.86, 714.29, 514.29, 220.0, 135.0, 108.57, 125.0, 125.0, 300.0, 228.57, 928.57, 785.71, 139.93, 284.29, 199.99, 250.0, 107.14, 464.29, 140.0, 225.0, 427.14, 290.0, 407.14, 428.57, 1000.0, 535.71, 271.43, 186.67, 173.33, 328.57, 125.71, 442.86, 571.43, 407.14, 692.86, 457.14, 800.0, 228.57, 214.29, 850.0, 642.86, 128.57, 157.14, 357.14, 507.14, 131.43, 111.43, 385.71, 121.43, 135.71, 142.86, 157.14, 192.86, 171.43, 285.71, 714.29, 471.43, 185.71, 157.14, 171.43, 157.14, 121.43, 857.14, 657.14, 998.57, 160.0, 110.0, 250.0, 181.43, 421.43, 228.57, 121.43, 150.0, 1000.0, 105.71, 150.0, 160.0, 155.71, 133.57, 885.71, 138.57, 185.71, 133.9, 149.9, 213.9, 179.98, 284.29, 117.14, 200.0, 190.0, 201.9, 178.57, 190.0, 160.0, 319.98, 279.98, 138.57, 264.29, 135.71, 135.71, 157.14, 157.14, 342.86, 142.86, 142.86, 535.71, 821.43, 151.41, 707.14, 498.57, 142.86, 178.57, 241.43, 228.57, 105.71, 255.71, 428.57, 278.57, 228.57, 185.71, 195.0, 371.43, 485.71, 407.14, 478.57, 442.86, 735.71, 400.0, 528.57, 442.86, 571.43, 407.14, 692.86, 457.14, 800.0, 228.57, 214.29, 850.0, 642.86, 128.57, 157.14, 357.14, 507.14, 131.43, 111.43, 385.71, 121.43, 135.71, 142.86, 157.14, 192.86, 171.43, 285.71, 714.29, 471.43, 185.71, 157.14, 171.43, 157.14, 121.43, 857.14, 657.14, 998.57, 160.0, 110.0, 250.0, 181.43, 421.43, 228.57, 121.43, 150.0, 1000.0, 105.71, 150.0, 160.0, 155.71, 241.43, 142.86, 107.14, 112.86, 120.0, 105.71, 130.0, 125.0, 271.43, 114.29, 850.0, 785.71, 255.71, 107.13, 257.14, 130.0, 130.0, 130.0, 130.0, 110.0, 110.0, 108.57, 120.0, 120.0, 131.43, 141.43, 157.14, 328.57, 357.14, 428.57, 850.0, 228.57, 628.57, 564.29, 105.71, 178.57, 428.57, 170.0, 214.29, 108.57, 164.29, 285.71, 320.0, 357.14, 157.14, 892.86, 284.29, 171.43, 192.86, 141.43, 178.57, 150.0, 128.57, 341.43, 114.29, 228.57, 135.71, 607.14, 564.29, 121.43, 357.14, 121.43, 142.86, 108.57, 157.14, 250.0, 200.0, 400.0, 785.71, 150.0, 112.86, 204.29, 121.43, 192.86, 207.14, 197.14, 457.14, 118.57, 642.86, 140.0, 145.0, 195.0, 195.0, 221.43, 140.0, 357.14, 464.29, 542.86, 128.57, 128.57, 525.71, 500.0, 102.86, 271.43, 128.57, 392.86, 857.14, 107.14, 500.0, 500.0, 353.57, 321.43, 371.43, 114.29, 642.86, 750.0, 214.29, 114.29, 342.86, 107.14, 427.14, 428.57, 130.0, 214.29, 285.71, 165.0, 145.0, 139.8, 219.8, 159.8, 357.14, 357.14, 285.71, 357.14, 292.86, 119.8, 900.0, 165.7, 130.0, 400.0, 125.71, 471.43, 500.0, 135.71, 165.0, 642.86]}, {\"marker\": {\"color\": \"rgba(55, 128, 191, 1.0)\", \"line\": {\"width\": 1.3}, \"opacity\": 0.8, \"size\": 12, \"symbol\": \"circle\"}, \"mode\": \"markers\", \"name\": \"cheap\", \"text\": [\"Black Bottle 10 Year Old\", \"BenRiach 10 Year Old Gift Set\", \"BenRiach 10 Year Old Gift Set\", \"Whyte & Mackay 13 year old\"], \"textfont\": {\"color\": \"#4D5663\"}, \"type\": \"scatter\", \"x\": [10, 10, 10, 13], \"y\": [41.41, 42.84, 42.84, 41.43]}, {\"marker\": {\"color\": \"rgba(50, 171, 96, 1.0)\", \"line\": {\"width\": 1.3}, \"opacity\": 0.8, \"size\": 12, \"symbol\": \"circle\"}, \"mode\": \"markers\", \"name\": \"affordable\", \"text\": [\"Deanston 10 Year Old Bordeaux Red Wine Cask Finish\", \"Glenmorangie Quinta Ruban Giraffe Tin\", \"Golden Cask Linkwood 12 Year Old\", \"Singleton of Dufftown 12 Year Old Tumbler Gift Set\", \"GlenAllachie 10 Year Old Cask Strength Batch 4\", \"Ardbeg Wee Beastie\", \"Bowmore 15 Year Old Glass Gift Set\", \"Glenmorangie 10 Year Old Original Giraffe Tin\", \"GlenAllachie 9 Year Old Rye Cask Finish\", \"Glen Scotia 11 Year Old Sherry Double Cask\", \"Darkness 8 Year Old\", \"Aerolite Lyndsay Islay 10 Year Old\", \"Dalmore 12 Year Old Sherry Cask Select\", \"Benriach The Smoky Ten\", \"Benriach The Original Ten\", \"Benriach The Smoky Twelve\", \"Benriach The Twelve\", \"Glen Scotia 2009 #784\", \"First Editions Blair Athol 2009\", \"Arran Sherry Cask The Bodega\", \"Singleton of Dufftown 12 Year Old Gift Set\", \"GlenAllachie 15 Year Old\", \"GlenAllachie 12 Year Old\", \"Highland Park 12 Year Old\", \"Balvenie The Week of Peat 14 Year Old\", \"Balvenie The Sweet Toast of American Oak 12 Year Old\", \"Tobermory 12 Year Old\", \"Balblair 12 Year Old\", \"Singleton of Dufftown 15 Year Old\", \"Blairmhor 8 Year Old 35cl\", \"Knockando 12 year old\", \"The Glenlivet 12 Year Old\", \"BenRiach 10 Year Old Curiositas\", \"Teaninich 10 Year Old\", \"Mannochmore 12 year old\", \"Benrinnes 15 Year Old\", \"Mortlach 12 Year Old The Wee Witchie\", \"Benromach 2008 cask strength\", \"GlenDronach 15 Year Old Revival\", \"Old Pulteney 15 Year Old\", \"Port Charlotte 10 Year Old\", \"Macallan 12 Year Old Triple Cask\", \"Johnnie Walker Black Label\", \"Hazelburn 10 Year Old\", \"Macallan 12 Year Old Double Cask\", \"Jura 12 Year Old\", \"Arran 10 Year Old\", \"Aberlour 12 Year Old\", \"First Editions Ardmore 2009 9 Year Old\", \"First Editions Dailuaine 2009 9 Year Old\", \"Macallan 12 Year Old Triple Cask Gift Box\", \"Glenrothes 2004\", \"First Editions Glen Garioch 2008 10 Year Old\", \"Talisker 10 Year Old Gift Set\", \"Jura 12 Year Old Gift Pack 2019\", \"Bowmore 15 Year Old Gift Set\", \"Benromach 15 Year Old\", \"Ardbeg 10 Year Old Ardbone Pack\", \"Glengoyne 10 Year Old 20cl\", \"Loch Lomond 12 Year Old Gift Pack\", \"First Editions Craigellachie 2011 8 Year Old\", \"Port Charlotte 10 Year Old Gift Pack\", \"GlenAllachie 10 Year Old Cask Strength Batch 2\", \"First Editions Ben Nevis 2011 9 Year Old\", \"First Editions Aultmore 10 Year Old 2010\", \"Glenallachie 11 Year Old Port Wood Finish\", \"Glenallachie 11 Year Old Mostcatel Finish\", \"GlenAllachie 10 Year Old Cask Strength Batch 3\", \"Loch Lomond 12 Year Old Open Edition\", \"Glen Moray Madeira Cask Project\", \"Fettercairn 16 Year Old\", \"Loch Lomond 2006 #18/550-12\", \"Inchmurrin 2004 #17/641-2\", \"Macallan 12 Year Old Triple Cask Chinese New Year Twin Pack\", \"First Editions Ardmore 2009 9 Year Old\", \"First Editions Dailuaine 2009 9 Year Old\", \"Macallan 12 Year Old Triple Cask Gift Box\", \"Glenrothes 2004\", \"First Editions Glen Garioch 2008 10 Year Old\", \"Talisker 10 Year Old Gift Set\", \"Jura 12 Year Old Gift Pack 2019\", \"Bowmore 15 Year Old Gift Set\", \"Benromach 15 Year Old\", \"Ardbeg 10 Year Old Ardbone Pack\", \"Glengoyne 10 Year Old 20cl\", \"Loch Lomond 12 Year Old Gift Pack\", \"First Editions Craigellachie 2011 8 Year Old\", \"Port Charlotte 10 Year Old Gift Pack\", \"GlenAllachie 10 Year Old Cask Strength Batch 2\", \"First Editions Royal Brackla 2009\", \"Chivas Regal 12 Year Old Tim Little\", \"Hazelburn 12 Year Old\", \"First Editions Blair Athol 2010\", \"First Editions Mortlach 2009\", \"Ardmore 12 Year Old Port Wood Finish\", \"First Editions Benrinnes 2009\", \"First Editions Bunnahabhain 2007 - 2018 Edition\", \"BenRiach Batch 16 2012 #7825\", \"BenRiach Batch 16 2009 #6095\", \"Ballantine's 12 Year Old 1l\", \"First Editions Benrinnes 2010\", \"First Editions Craigellachie 2008 10 Year Old\", \"First Editions Inchgower 2008 10 Year Old\", \"GlenDronach Port Wood 10 Year Old\", \"GlenDronach 12 Year Old Walker Slater Pack\", \"Royal Lochnagar 12 Year Old - Game of Thrones House Baratheon\", \"Hazelburn 14 Year Old Oloroso Cask Matured 2019\", \"Lagavulin 9 Year Old - Game of Thrones House Lannister\", \"Glenmorangie Original Gift Pack\", \"BenRiach 12 Year Old Sherry Wood\", \"First Editions Craigellachie 2008 Manager's Special\", \"First Editions Balmenach 10yo\", \"Glenkeir Treasures Aultmore 7 Year Old\", \"Glenkeir Treasures Glengoyne 9 Year Old\", \"Mortlach 8 year old GlenKeir Treasure\", \"Glenkeir Treasures Fettercairn 8 Year Old\", \"Glenkeir Treasures Craigellachie 9 Year Old\", \"Fettercairn 8 Year Old Douglas of Drumlanrig\", \"GlenDronach 14 Year Old Virgin Oak\", \"Glenkeir Treasures Dailuaine 6 Year Old\", \"Inchgower 8 Year Old Douglas of Drumlanrig\", \"anCnoc 1997\", \"Glengoyne 8 Year Old\", \"Dalmore 12 Year Old With Whisky Stones\", \"Dimple 15 Year Old\", \"Cutty Sark 12 Year Old\", \"The Deveron 18 Years Old\", \"The Deveron 12 Years Old\", \"Royal Brackla 12 Years Old\", \"Glenmorangie Original\", \"Aultmore 7 year old\", \"Royal Lochnagar 12 Year Old\", \"Glendronach The Hielan' 8 Years Old\", \"Laphroaig 10 year old & free glass\", \"BenRiach 10th Anniversary 10 year old\", \"Glenkeir Treasures Inchgower 6 year old 10cl\", \"The Glenlivet 18 year old & 2 Glass Gift Pack\", \"Glenfarclas 10 year old 35cl\", \"Aberlour 10 Year Old\", \"Jura 10 year old 35cl\", \"Arran 14 year old\", \"Aberlour 16 Year Old\", \"Strathmill 12 year old\", \"Tobermory 10 year old\"], \"textfont\": {\"color\": \"#4D5663\"}, \"type\": \"scatter\", \"x\": [10, 14, 12, 12, 10, 5, 15, 10, 9, 11, 8, 10, 12, 10, 10, 12, 12, 10, 10, 7, 12, 15, 12, 12, 14, 12, 12, 12, 15, 8, 12, 12, 10, 10, 12, 15, 12, 10, 15, 15, 10, 12, 12, 10, 12, 12, 10, 12, 9, 9, 12, 13, 10, 10, 12, 15, 15, 10, 10, 12, 8, 10, 10, 9, 10, 11, 11, 10, 12, 13, 16, 13, 15, 12, 9, 9, 12, 13, 10, 10, 12, 15, 15, 10, 10, 12, 8, 10, 10, 9, 12, 12, 8, 8, 12, 8, 11, 7, 9, 12, 8, 10, 10, 10, 12, 12, 14, 9, 10, 12, 10, 10, 7, 9, 8, 8, 9, 8, 14, 6, 8, 14, 8, 12, 15, 12, 18, 12, 12, 10, 7, 12, 8, 10, 10, 6, 18, 10, 10, 10, 14, 16, 12, 10], \"y\": [85.71, 85.7, 97.13, 58.56, 91.43, 55.71, 90.0, 57.13, 84.27, 85.64, 71.41, 64.27, 98.57, 55.64, 52.79, 61.29, 55.5, 92.86, 100.0, 75.64, 54.21, 95.71, 67.14, 57.14, 78.36, 71.43, 71.43, 74.29, 69.93, 54.29, 64.29, 57.14, 67.14, 82.86, 82.86, 68.43, 71.43, 85.7, 88.57, 84.14, 88.57, 100.0, 62.86, 82.86, 72.84, 64.29, 64.29, 68.57, 98.57, 98.57, 100.0, 92.86, 100.0, 57.14, 64.29, 91.41, 100.0, 74.29, 95.0, 71.43, 100.0, 88.57, 87.14, 100.0, 100.0, 89.99, 89.99, 87.14, 78.5, 92.86, 100.0, 84.21, 92.86, 85.71, 98.57, 98.57, 100.0, 92.86, 100.0, 57.14, 64.29, 91.41, 100.0, 74.29, 95.0, 71.43, 100.0, 88.57, 87.14, 88.57, 57.14, 84.29, 98.57, 98.57, 80.0, 91.43, 100.0, 78.57, 100.0, 99.0, 94.29, 100.0, 100.0, 85.71, 70.0, 54.29, 92.86, 92.86, 64.29, 68.57, 100.0, 94.29, 90.0, 100.0, 90.0, 80.0, 100.0, 98.57, 82.84, 80.0, 85.71, 100.0, 81.43, 85.71, 71.43, 52.86, 92.86, 57.14, 74.29, 64.29, 81.43, 54.21, 60.0, 60.0, 92.86, 100.0, 100.0, 74.29, 57.14, 77.14, 81.43, 100.0, 84.29, 65.71]}, {\"marker\": {\"color\": \"rgba(128, 0, 128, 1.0)\", \"line\": {\"width\": 1.3}, \"opacity\": 0.8, \"size\": 12, \"symbol\": \"circle\"}, \"mode\": \"markers\", \"name\": \"very-expensive\", \"text\": [\"The Singleton of Glen Ord 38 Year Old Epicurean Odyssey\", \"Gordon & MacPhail Glen Grant 1954 59 Year Old\", \"Gordon & MacPhail Mortlach 1949 51 Year Old\", \"Fettercairn 46 Year Old\", \"Macallan 1990 22 Year Old Fine & Rare #24706\", \"Glenglassaugh 1978 40 Year Old #3060\", \"Old Malt Cask Ardbeg 32 Year Old 1967\", \"Ardbeg 1972 VELIER\", \"Dailuaine 46 Year Old Platinum Old & Rare\", \"Glen Scotia 45 Year Old\", \"Brora 40 Year Old 200th Anniversary\", \"The Last Drop 56 Year Old\", \"Talisker 41 Year Old\", \"Port Ellen 39 Year Old Untold Stories: The Spirit Safe\", \"Talisker 1953 24 Year Old Connoisseur's Choice\", \"Talisker 1952 21 Year Old Connoisseur's Choice\", \"Dalmore 40 Year Old\", \"The Last Drop Glenrothes 1968 Cask 13504\", \"Fettercairn 40 Year Old\", \"Macallan 30 Year Old Sherry Oak 2020\", \"Talisker 40 Year Old\", \"Convalmore 32 Year Old 2017 Special Release\", \"Bunnahabhain 40 Year Old\", \"Dalmore 45 Year Old\", \"Bunnahabhain 1980 Canasta Cask Finish\", \"Dalmore 35 Year Old\", \"Glenfiddich 40 Year Old\", \"Glenburgie 44 Year Old Platinum Old & Rare\", \"Dufftown 44 Year Old Platinum Old & Rare\", \"Benrinnes 40 Year Old Platinum Old & Rare\", \"Balmenach 40 Year Old Platinum Old & Rare\", \"Balvenie 2001 DCS Chapter 5\", \"Dalmore 1973 Gonzalez Byass\", \"Glenrothes 40 Year Old\", \"Bowmore Feis Ile 2019 Cask #666\", \"Mortlach 26 Year Old Special Releases 2019\", \"Littlemill 29 Year Old Private Cellar Edition 2019\", \"Glen Scotia 30 Year Old\", \"John Walker & Sons 28 Year Old Bicentenary Blend\", \"Highland Park 50 Year Old\", \"GlenDronach Kingsman Edition 1989 Vintage\", \"Macallan 12 Year Old Re-Awakening\", \"Macallan Exceptional Single Cask 2019/ESB-5542/02\", \"Port Ellen 40 Year Old 9 Rogue Casks\", \"Macallan Exceptional Single Cask 2019/ESB-14/03\", \"Lagavulin 21 Year Old Jazz Festival 2019\", \"Dalmore 25 Year Old - 2019\", \"Teaninich 43 Year Old Platinum Old & Rare\", \"Glen Elgin 44 Year Old Platinum Old & Rare\", \"Glenlossie 44 Year Old Platinum Old & Rare\", \"Glenburgie 44 Year Old Platinum Old & Rare\", \"Dufftown 44 Year Old Platinum Old & Rare\", \"Benrinnes 40 Year Old Platinum Old & Rare\", \"Balmenach 40 Year Old Platinum Old & Rare\", \"Balvenie 2001 DCS Chapter 5\", \"Dalmore 1973 Gonzalez Byass\", \"Glenrothes 40 Year Old\", \"Bowmore Feis Ile 2019 Cask #666\", \"Mortlach 26 Year Old Special Releases 2019\", \"Littlemill 29 Year Old Private Cellar Edition 2019\", \"Bunnahabhain Elements 39 Year Old\", \"Macallan 30 Year Old Sherry Oak (Old style)\", \"Authors' Series Probably Speyside's Finest 1968 50 Year Old - Nathaniel Hawthorne\", \"Balvenie 1999 DCS Chapter 4\", \"Macallan 26 Year Old Platinum Old & Rare\", \"Loch Lomond 50 Year Old\", \"Balvenie 1972 DCS Chapter 2\", \"Bowmore 50 year old\", \"Lochside 52 Year Old Sovereign\", \"The Cally 1974 'Caledonian' 40 Year Old 2015 Special Release\", \"Brora 1977 37 year old Special Release 2015\", \"Laphroaig 32 Year Old\", \"Dalmore 30 Year Old\", \"Ledaig 42 year old\", \"Auchentoshan 1965\", \"Ladyburn 1974 40 year old\", \"Glenglassaugh 51 year old\", \"Old Pulteney 40 year old\", \"Port Ellen 34 year old 13th Release\", \"Glenfarclas 1966 Fino Cask\", \"The Singleton of Glendullan 38 year old 2014 Special Release\"], \"textfont\": {\"color\": \"#4D5663\"}, \"type\": \"scatter\", \"x\": [38, 59, 51, 46, 22, 40, 32, 30, 46, 45, 40, 56, 41, 39, 24, 21, 40, 50, 40, 30, 40, 32, 40, 45, 36, 35, 40, 44, 44, 40, 40, 18, 30, 40, 22, 26, 29, 30, 28, 50, 29, 12, 22, 40, 22, 21, 25, 43, 44, 44, 44, 44, 40, 40, 18, 30, 40, 22, 26, 29, 39, 30, 50, 18, 26, 50, 43, 50, 52, 40, 37, 32, 30, 42, 42, 40, 51, 40, 34, 47, 38], \"y\": [3000.0, 3571.43, 5712.86, 12142.86, 14214.29, 1427.14, 4564.29, 9992.86, 1535.71, 5428.57, 6428.57, 5357.14, 4142.86, 6428.57, 4285.71, 3571.43, 9642.86, 7714.29, 4285.71, 6785.71, 3928.57, 1928.57, 3178.57, 15714.29, 2571.43, 6428.57, 3928.57, 1442.86, 1442.86, 1021.43, 1021.43, 1142.86, 2850.0, 4142.86, 3570.0, 2142.86, 3928.57, 1214.29, 1057.14, 24142.86, 1107.14, 1707.14, 5000.0, 9135.71, 4278.57, 1141.43, 1250.0, 1278.57, 1442.86, 1442.86, 1442.86, 1442.86, 1021.43, 1021.43, 1142.86, 2850.0, 4142.86, 3570.0, 2142.86, 3928.57, 17135.71, 8571.43, 3928.57, 1707.14, 2628.57, 17142.86, 21428.57, 25000.0, 1371.43, 1142.86, 2142.86, 1071.43, 2142.86, 4571.43, 6428.57, 3710.0, 7028.57, 2142.86, 2857.14, 1214.29, 1071.43]}, {\"marker\": {\"color\": \"rgba(219, 64, 82, 1.0)\", \"line\": {\"width\": 1.3}, \"opacity\": 0.8, \"size\": 12, \"symbol\": \"circle\"}, \"mode\": \"markers\", \"name\": \"premium\", \"text\": [\"Macallan 50 Year Old Red Collection\", \"Macallan 1954 47 Year Old Fine & Rare #1902\", \"Macallan 1940 37 Year Old Fine & Rare\", \"Macallan Exceptional Single Cask 1950\", \"Macallan 1937 32 Year Old Fine & Rare\", \"Macallan 1938 31 Year Old Fine & Rare\", \"Macallan 1947 15 Year Old Fine & Rare\", \"Balvenie 1971 DCS Chapter 4\", \"The Balvenie 50 Year Old: Marriage 0197\", \"Macallan 50 Year Old\", \"Macallan 74 Year Old Red Collection\", \"Macallan 71 Year Old Red Collection\", \"Macallan 60 Year Old Red Collection\", \"Dalmore 51 Year Old\", \"Macallan 72 Year Old in Lalique\", \"The Balvenie 50 Year Old: Marriage 0197\", \"Macallan 50 Year Old\", \"Fettercairn 50 Year Old\", \"Macallan 1946 56 Year Old (Cask 46/3M) Fine & Rare\", \"Macallan 1949 52 Year Old (Cask 935) Fine & Rare\", \"Macallan 1940 35 Year Old Fine & Rare\", \"Balvenie 1968 DCM bottling 46 year old\", \"Bowmore 1957\", \"The Glenlivet 50 year old Winchester Collection 1964\"], \"textfont\": {\"color\": \"#4D5663\"}, \"type\": \"scatter\", \"x\": [50, 47, 37, 67, 32, 31, 15, 47, 50, 50, 74, 71, 60, 51, 72, 50, 50, 50, 56, 52, 35, 46, 52, 50], \"y\": [99992.86, 45707.14, 49992.86, 98571.43, 49992.86, 60714.29, 48571.43, 29992.86, 39285.71, 119993.33, 135714.29, 127142.86, 112857.14, 98571.43, 102857.14, 39285.71, 119993.33, 25707.14, 57000.0, 58571.43, 57142.86, 27142.86, 142857.14, 25714.29]}],                        {\"template\": {\"data\": {\"bar\": [{\"error_x\": {\"color\": \"#2a3f5f\"}, \"error_y\": {\"color\": \"#2a3f5f\"}, \"marker\": {\"line\": {\"color\": \"#E5ECF6\", \"width\": 0.5}}, \"type\": \"bar\"}], \"barpolar\": [{\"marker\": {\"line\": {\"color\": \"#E5ECF6\", \"width\": 0.5}}, \"type\": \"barpolar\"}], \"carpet\": [{\"aaxis\": {\"endlinecolor\": \"#2a3f5f\", \"gridcolor\": \"white\", \"linecolor\": \"white\", \"minorgridcolor\": \"white\", \"startlinecolor\": \"#2a3f5f\"}, \"baxis\": {\"endlinecolor\": \"#2a3f5f\", \"gridcolor\": \"white\", \"linecolor\": \"white\", \"minorgridcolor\": \"white\", \"startlinecolor\": \"#2a3f5f\"}, \"type\": \"carpet\"}], \"choropleth\": [{\"colorbar\": {\"outlinewidth\": 0, \"ticks\": \"\"}, \"type\": \"choropleth\"}], \"contour\": [{\"colorbar\": {\"outlinewidth\": 0, \"ticks\": \"\"}, \"colorscale\": [[0.0, \"#0d0887\"], [0.1111111111111111, \"#46039f\"], [0.2222222222222222, \"#7201a8\"], [0.3333333333333333, \"#9c179e\"], [0.4444444444444444, \"#bd3786\"], [0.5555555555555556, \"#d8576b\"], [0.6666666666666666, \"#ed7953\"], [0.7777777777777778, \"#fb9f3a\"], [0.8888888888888888, \"#fdca26\"], [1.0, \"#f0f921\"]], \"type\": \"contour\"}], \"contourcarpet\": [{\"colorbar\": {\"outlinewidth\": 0, \"ticks\": \"\"}, \"type\": \"contourcarpet\"}], \"heatmap\": [{\"colorbar\": {\"outlinewidth\": 0, \"ticks\": \"\"}, \"colorscale\": [[0.0, \"#0d0887\"], [0.1111111111111111, \"#46039f\"], [0.2222222222222222, \"#7201a8\"], [0.3333333333333333, \"#9c179e\"], [0.4444444444444444, \"#bd3786\"], [0.5555555555555556, \"#d8576b\"], [0.6666666666666666, \"#ed7953\"], [0.7777777777777778, \"#fb9f3a\"], [0.8888888888888888, \"#fdca26\"], [1.0, \"#f0f921\"]], \"type\": \"heatmap\"}], \"heatmapgl\": [{\"colorbar\": {\"outlinewidth\": 0, \"ticks\": \"\"}, \"colorscale\": [[0.0, \"#0d0887\"], [0.1111111111111111, \"#46039f\"], [0.2222222222222222, \"#7201a8\"], [0.3333333333333333, \"#9c179e\"], [0.4444444444444444, \"#bd3786\"], [0.5555555555555556, \"#d8576b\"], [0.6666666666666666, \"#ed7953\"], [0.7777777777777778, \"#fb9f3a\"], [0.8888888888888888, \"#fdca26\"], [1.0, \"#f0f921\"]], \"type\": \"heatmapgl\"}], \"histogram\": [{\"marker\": {\"colorbar\": {\"outlinewidth\": 0, \"ticks\": \"\"}}, \"type\": \"histogram\"}], \"histogram2d\": [{\"colorbar\": {\"outlinewidth\": 0, \"ticks\": \"\"}, \"colorscale\": [[0.0, \"#0d0887\"], [0.1111111111111111, \"#46039f\"], [0.2222222222222222, \"#7201a8\"], [0.3333333333333333, \"#9c179e\"], [0.4444444444444444, \"#bd3786\"], [0.5555555555555556, \"#d8576b\"], [0.6666666666666666, \"#ed7953\"], [0.7777777777777778, \"#fb9f3a\"], [0.8888888888888888, \"#fdca26\"], [1.0, \"#f0f921\"]], \"type\": \"histogram2d\"}], \"histogram2dcontour\": [{\"colorbar\": {\"outlinewidth\": 0, \"ticks\": \"\"}, \"colorscale\": [[0.0, \"#0d0887\"], [0.1111111111111111, \"#46039f\"], [0.2222222222222222, \"#7201a8\"], [0.3333333333333333, \"#9c179e\"], [0.4444444444444444, \"#bd3786\"], [0.5555555555555556, \"#d8576b\"], [0.6666666666666666, \"#ed7953\"], [0.7777777777777778, \"#fb9f3a\"], [0.8888888888888888, \"#fdca26\"], [1.0, \"#f0f921\"]], \"type\": \"histogram2dcontour\"}], \"mesh3d\": [{\"colorbar\": {\"outlinewidth\": 0, \"ticks\": \"\"}, \"type\": \"mesh3d\"}], \"parcoords\": [{\"line\": {\"colorbar\": {\"outlinewidth\": 0, \"ticks\": \"\"}}, \"type\": \"parcoords\"}], \"pie\": [{\"automargin\": true, \"type\": \"pie\"}], \"scatter\": [{\"marker\": {\"colorbar\": {\"outlinewidth\": 0, \"ticks\": \"\"}}, \"type\": \"scatter\"}], \"scatter3d\": [{\"line\": {\"colorbar\": {\"outlinewidth\": 0, \"ticks\": \"\"}}, \"marker\": {\"colorbar\": {\"outlinewidth\": 0, \"ticks\": \"\"}}, \"type\": \"scatter3d\"}], \"scattercarpet\": [{\"marker\": {\"colorbar\": {\"outlinewidth\": 0, \"ticks\": \"\"}}, \"type\": \"scattercarpet\"}], \"scattergeo\": [{\"marker\": {\"colorbar\": {\"outlinewidth\": 0, \"ticks\": \"\"}}, \"type\": \"scattergeo\"}], \"scattergl\": [{\"marker\": {\"colorbar\": {\"outlinewidth\": 0, \"ticks\": \"\"}}, \"type\": \"scattergl\"}], \"scattermapbox\": [{\"marker\": {\"colorbar\": {\"outlinewidth\": 0, \"ticks\": \"\"}}, \"type\": \"scattermapbox\"}], \"scatterpolar\": [{\"marker\": {\"colorbar\": {\"outlinewidth\": 0, \"ticks\": \"\"}}, \"type\": \"scatterpolar\"}], \"scatterpolargl\": [{\"marker\": {\"colorbar\": {\"outlinewidth\": 0, \"ticks\": \"\"}}, \"type\": \"scatterpolargl\"}], \"scatterternary\": [{\"marker\": {\"colorbar\": {\"outlinewidth\": 0, \"ticks\": \"\"}}, \"type\": \"scatterternary\"}], \"surface\": [{\"colorbar\": {\"outlinewidth\": 0, \"ticks\": \"\"}, \"colorscale\": [[0.0, \"#0d0887\"], [0.1111111111111111, \"#46039f\"], [0.2222222222222222, \"#7201a8\"], [0.3333333333333333, \"#9c179e\"], [0.4444444444444444, \"#bd3786\"], [0.5555555555555556, \"#d8576b\"], [0.6666666666666666, \"#ed7953\"], [0.7777777777777778, \"#fb9f3a\"], [0.8888888888888888, \"#fdca26\"], [1.0, \"#f0f921\"]], \"type\": \"surface\"}], \"table\": [{\"cells\": {\"fill\": {\"color\": \"#EBF0F8\"}, \"line\": {\"color\": \"white\"}}, \"header\": {\"fill\": {\"color\": \"#C8D4E3\"}, \"line\": {\"color\": \"white\"}}, \"type\": \"table\"}]}, \"layout\": {\"annotationdefaults\": {\"arrowcolor\": \"#2a3f5f\", \"arrowhead\": 0, \"arrowwidth\": 1}, \"coloraxis\": {\"colorbar\": {\"outlinewidth\": 0, \"ticks\": \"\"}}, \"colorscale\": {\"diverging\": [[0, \"#8e0152\"], [0.1, \"#c51b7d\"], [0.2, \"#de77ae\"], [0.3, \"#f1b6da\"], [0.4, \"#fde0ef\"], [0.5, \"#f7f7f7\"], [0.6, \"#e6f5d0\"], [0.7, \"#b8e186\"], [0.8, \"#7fbc41\"], [0.9, \"#4d9221\"], [1, \"#276419\"]], \"sequential\": [[0.0, \"#0d0887\"], [0.1111111111111111, \"#46039f\"], [0.2222222222222222, \"#7201a8\"], [0.3333333333333333, \"#9c179e\"], [0.4444444444444444, \"#bd3786\"], [0.5555555555555556, \"#d8576b\"], [0.6666666666666666, \"#ed7953\"], [0.7777777777777778, \"#fb9f3a\"], [0.8888888888888888, \"#fdca26\"], [1.0, \"#f0f921\"]], \"sequentialminus\": [[0.0, \"#0d0887\"], [0.1111111111111111, \"#46039f\"], [0.2222222222222222, \"#7201a8\"], [0.3333333333333333, \"#9c179e\"], [0.4444444444444444, \"#bd3786\"], [0.5555555555555556, \"#d8576b\"], [0.6666666666666666, \"#ed7953\"], [0.7777777777777778, \"#fb9f3a\"], [0.8888888888888888, \"#fdca26\"], [1.0, \"#f0f921\"]]}, \"colorway\": [\"#636efa\", \"#EF553B\", \"#00cc96\", \"#ab63fa\", \"#FFA15A\", \"#19d3f3\", \"#FF6692\", \"#B6E880\", \"#FF97FF\", \"#FECB52\"], \"font\": {\"color\": \"#2a3f5f\"}, \"geo\": {\"bgcolor\": \"white\", \"lakecolor\": \"white\", \"landcolor\": \"#E5ECF6\", \"showlakes\": true, \"showland\": true, \"subunitcolor\": \"white\"}, \"hoverlabel\": {\"align\": \"left\"}, \"hovermode\": \"closest\", \"mapbox\": {\"style\": \"light\"}, \"paper_bgcolor\": \"white\", \"plot_bgcolor\": \"#E5ECF6\", \"polar\": {\"angularaxis\": {\"gridcolor\": \"white\", \"linecolor\": \"white\", \"ticks\": \"\"}, \"bgcolor\": \"#E5ECF6\", \"radialaxis\": {\"gridcolor\": \"white\", \"linecolor\": \"white\", \"ticks\": \"\"}}, \"scene\": {\"xaxis\": {\"backgroundcolor\": \"#E5ECF6\", \"gridcolor\": \"white\", \"gridwidth\": 2, \"linecolor\": \"white\", \"showbackground\": true, \"ticks\": \"\", \"zerolinecolor\": \"white\"}, \"yaxis\": {\"backgroundcolor\": \"#E5ECF6\", \"gridcolor\": \"white\", \"gridwidth\": 2, \"linecolor\": \"white\", \"showbackground\": true, \"ticks\": \"\", \"zerolinecolor\": \"white\"}, \"zaxis\": {\"backgroundcolor\": \"#E5ECF6\", \"gridcolor\": \"white\", \"gridwidth\": 2, \"linecolor\": \"white\", \"showbackground\": true, \"ticks\": \"\", \"zerolinecolor\": \"white\"}}, \"shapedefaults\": {\"line\": {\"color\": \"#2a3f5f\"}}, \"ternary\": {\"aaxis\": {\"gridcolor\": \"white\", \"linecolor\": \"white\", \"ticks\": \"\"}, \"baxis\": {\"gridcolor\": \"white\", \"linecolor\": \"white\", \"ticks\": \"\"}, \"bgcolor\": \"#E5ECF6\", \"caxis\": {\"gridcolor\": \"white\", \"linecolor\": \"white\", \"ticks\": \"\"}}, \"title\": {\"x\": 0.05}, \"xaxis\": {\"automargin\": true, \"gridcolor\": \"white\", \"linecolor\": \"white\", \"ticks\": \"\", \"title\": {\"standoff\": 15}, \"zerolinecolor\": \"white\", \"zerolinewidth\": 2}, \"yaxis\": {\"automargin\": true, \"gridcolor\": \"white\", \"linecolor\": \"white\", \"ticks\": \"\", \"title\": {\"standoff\": 15}, \"zerolinecolor\": \"white\", \"zerolinewidth\": 2}}}, \"title\": {\"text\": \"Age and Price of Whisky\", \"x\": 0.5}},                        {\"showLink\": true, \"linkText\": \"Export to plot.ly\", \"plotlyServerURL\": \"https://plot.ly\", \"responsive\": true}                    ).then(function(){\n",
       "                            \n",
       "var gd = document.getElementById('d2a401f8-e308-4f76-9535-c20194067c1f');\n",
       "var x = new MutationObserver(function (mutations, observer) {{\n",
       "        var display = window.getComputedStyle(gd).display;\n",
       "        if (!display || display === 'none') {{\n",
       "            console.log([gd, 'removed!']);\n",
       "            Plotly.purge(gd);\n",
       "            observer.disconnect();\n",
       "        }}\n",
       "}});\n",
       "\n",
       "// Listen for the removal of the full notebook cells\n",
       "var notebookContainer = gd.closest('#notebook-container');\n",
       "if (notebookContainer) {{\n",
       "    x.observe(notebookContainer, {childList: true});\n",
       "}}\n",
       "\n",
       "// Listen for the clearing of the current output cell\n",
       "var outputEl = gd.closest('.output');\n",
       "if (outputEl) {{\n",
       "    x.observe(outputEl, {childList: true});\n",
       "}}\n",
       "\n",
       "                        })                };                });            </script>        </div>"
      ]
     },
     "metadata": {},
     "output_type": "display_data"
    }
   ],
   "source": [
    "df[~df['Age'].isnull()].iplot(x='Age',\n",
    "        y='price_per_litre',\n",
    "        \n",
    "        \n",
    "                                                           \n",
    "                                                      \n",
    "        categories='price_class',\n",
    "        xTitle='Years',\n",
    "        yTitle='Price per Litre',\n",
    "        text='name',\n",
    "        layout=dict(title='Age and Price of Whisky', title_x=0.5),\n",
    "                             )"
   ]
  },
  {
   "cell_type": "markdown",
   "metadata": {
    "ExecuteTime": {
     "end_time": "2021-01-10T16:10:50.248827Z",
     "start_time": "2021-01-10T16:10:50.233828Z"
    }
   },
   "source": [
    "- Finally, here we can see how the most expensive whiskeys are the most matured one. Thus the more aged the whiskey, the more expensive it is.\n",
    "- Lets see the brand that is likely to be most expensive"
   ]
  },
  {
   "cell_type": "code",
   "execution_count": 112,
   "metadata": {
    "ExecuteTime": {
     "end_time": "2021-01-11T09:02:24.115772Z",
     "start_time": "2021-01-11T09:02:24.092776Z"
    }
   },
   "outputs": [],
   "source": [
    "table = df.nlargest(10,'price_per_litre')\n",
    "table.drop(['Size','price','age_class','alc_perc','price_class'], axis=1, inplace=True)\n"
   ]
  },
  {
   "cell_type": "code",
   "execution_count": 113,
   "metadata": {
    "ExecuteTime": {
     "end_time": "2021-01-11T09:03:08.560432Z",
     "start_time": "2021-01-11T09:03:08.550429Z"
    }
   },
   "outputs": [],
   "source": [
    "table['small_peg (30ml)']=(table['price_per_litre'] * 30 / 100).round(2)\n",
    "table.drop(['price_per_litre'], axis=1, inplace=True)\n"
   ]
  },
  {
   "cell_type": "code",
   "execution_count": 115,
   "metadata": {
    "ExecuteTime": {
     "end_time": "2021-01-11T09:03:34.683543Z",
     "start_time": "2021-01-11T09:03:34.634019Z"
    }
   },
   "outputs": [
    {
     "data": {
      "application/vnd.plotly.v1+json": {
       "config": {
        "plotlyServerURL": "https://plot.ly"
       },
       "data": [
        {
         "cells": {
          "align": "left",
          "fill": {
           "color": [
            "paleturquoise",
            "white"
           ]
          },
          "line": {
           "color": "darkslategray"
          },
          "values": [
           [
            "Bowmore 1957",
            "Macallan 74 Year Old Red Collection",
            "Macallan 71 Year Old Red Collection",
            "Macallan 50 Year Old",
            "Macallan 50 Year Old",
            "Macallan 60 Year Old Red Collection",
            "Macallan 72 Year Old in Lalique",
            "Macallan 50 Year Old Red Collection",
            "Macallan Exceptional Single Cask 1950",
            "Dalmore 51 Year Old"
           ],
           [
            "Scotch Whisky",
            "Scotch Whisky",
            "Scotch Whisky",
            "Scotch Whisky",
            "Scotch Whisky",
            "Scotch Whisky",
            "Scotch Whisky",
            "Scotch Whisky",
            "Scotch Whisky",
            "Scotch Whisky"
           ],
           [
            "Islay",
            "Speyside",
            "Speyside",
            "Speyside",
            "Speyside",
            "Speyside",
            "Speyside",
            "Speyside",
            "Speyside",
            "Highland"
           ],
           [
            "Single Malt",
            "Single Malt",
            "Single Malt",
            "Single Malt",
            "Single Malt",
            "Single Malt",
            "Single Malt",
            "Single Malt",
            "Single Malt",
            "Single Malt"
           ],
           [
            42.1,
            42.6,
            41.6,
            44,
            44,
            43.4,
            42,
            45.1,
            53.4,
            40
           ],
           [
            "Bowmore",
            "The Macallan",
            "The Macallan",
            "The Macallan",
            "The Macallan",
            "The Macallan",
            "The Macallan",
            "The Macallan",
            "The Macallan",
            "The Dalmore"
           ],
           [
            "No",
            "Yes",
            "Yes",
            "Yes",
            "Yes",
            "Yes",
            "Yes",
            "Yes",
            "Yes",
            "Yes"
           ],
           [
            52,
            74,
            71,
            50,
            50,
            60,
            72,
            50,
            67,
            51
           ],
           [
            42857.14,
            40714.29,
            38142.86,
            35998,
            35998,
            33857.14,
            30857.14,
            29997.86,
            29571.43,
            29571.43
           ]
          ]
         },
         "columnwidth": [
          100,
          100,
          50,
          50,
          50,
          75,
          50,
          25,
          75
         ],
         "header": {
          "align": "left",
          "fill": {
           "color": "royalblue"
          },
          "font": {
           "color": "white",
           "size": 12
          },
          "values": [
           "name",
           "Classification",
           "Region",
           "Style",
           "ABV",
           "Distillery/Brand",
           "Limited Edition",
           "Age",
           "small_peg (30ml)"
          ]
         },
         "type": "table"
        }
       ],
       "layout": {
        "template": {
         "data": {
          "bar": [
           {
            "error_x": {
             "color": "#2a3f5f"
            },
            "error_y": {
             "color": "#2a3f5f"
            },
            "marker": {
             "line": {
              "color": "#E5ECF6",
              "width": 0.5
             }
            },
            "type": "bar"
           }
          ],
          "barpolar": [
           {
            "marker": {
             "line": {
              "color": "#E5ECF6",
              "width": 0.5
             }
            },
            "type": "barpolar"
           }
          ],
          "carpet": [
           {
            "aaxis": {
             "endlinecolor": "#2a3f5f",
             "gridcolor": "white",
             "linecolor": "white",
             "minorgridcolor": "white",
             "startlinecolor": "#2a3f5f"
            },
            "baxis": {
             "endlinecolor": "#2a3f5f",
             "gridcolor": "white",
             "linecolor": "white",
             "minorgridcolor": "white",
             "startlinecolor": "#2a3f5f"
            },
            "type": "carpet"
           }
          ],
          "choropleth": [
           {
            "colorbar": {
             "outlinewidth": 0,
             "ticks": ""
            },
            "type": "choropleth"
           }
          ],
          "contour": [
           {
            "colorbar": {
             "outlinewidth": 0,
             "ticks": ""
            },
            "colorscale": [
             [
              0,
              "#0d0887"
             ],
             [
              0.1111111111111111,
              "#46039f"
             ],
             [
              0.2222222222222222,
              "#7201a8"
             ],
             [
              0.3333333333333333,
              "#9c179e"
             ],
             [
              0.4444444444444444,
              "#bd3786"
             ],
             [
              0.5555555555555556,
              "#d8576b"
             ],
             [
              0.6666666666666666,
              "#ed7953"
             ],
             [
              0.7777777777777778,
              "#fb9f3a"
             ],
             [
              0.8888888888888888,
              "#fdca26"
             ],
             [
              1,
              "#f0f921"
             ]
            ],
            "type": "contour"
           }
          ],
          "contourcarpet": [
           {
            "colorbar": {
             "outlinewidth": 0,
             "ticks": ""
            },
            "type": "contourcarpet"
           }
          ],
          "heatmap": [
           {
            "colorbar": {
             "outlinewidth": 0,
             "ticks": ""
            },
            "colorscale": [
             [
              0,
              "#0d0887"
             ],
             [
              0.1111111111111111,
              "#46039f"
             ],
             [
              0.2222222222222222,
              "#7201a8"
             ],
             [
              0.3333333333333333,
              "#9c179e"
             ],
             [
              0.4444444444444444,
              "#bd3786"
             ],
             [
              0.5555555555555556,
              "#d8576b"
             ],
             [
              0.6666666666666666,
              "#ed7953"
             ],
             [
              0.7777777777777778,
              "#fb9f3a"
             ],
             [
              0.8888888888888888,
              "#fdca26"
             ],
             [
              1,
              "#f0f921"
             ]
            ],
            "type": "heatmap"
           }
          ],
          "heatmapgl": [
           {
            "colorbar": {
             "outlinewidth": 0,
             "ticks": ""
            },
            "colorscale": [
             [
              0,
              "#0d0887"
             ],
             [
              0.1111111111111111,
              "#46039f"
             ],
             [
              0.2222222222222222,
              "#7201a8"
             ],
             [
              0.3333333333333333,
              "#9c179e"
             ],
             [
              0.4444444444444444,
              "#bd3786"
             ],
             [
              0.5555555555555556,
              "#d8576b"
             ],
             [
              0.6666666666666666,
              "#ed7953"
             ],
             [
              0.7777777777777778,
              "#fb9f3a"
             ],
             [
              0.8888888888888888,
              "#fdca26"
             ],
             [
              1,
              "#f0f921"
             ]
            ],
            "type": "heatmapgl"
           }
          ],
          "histogram": [
           {
            "marker": {
             "colorbar": {
              "outlinewidth": 0,
              "ticks": ""
             }
            },
            "type": "histogram"
           }
          ],
          "histogram2d": [
           {
            "colorbar": {
             "outlinewidth": 0,
             "ticks": ""
            },
            "colorscale": [
             [
              0,
              "#0d0887"
             ],
             [
              0.1111111111111111,
              "#46039f"
             ],
             [
              0.2222222222222222,
              "#7201a8"
             ],
             [
              0.3333333333333333,
              "#9c179e"
             ],
             [
              0.4444444444444444,
              "#bd3786"
             ],
             [
              0.5555555555555556,
              "#d8576b"
             ],
             [
              0.6666666666666666,
              "#ed7953"
             ],
             [
              0.7777777777777778,
              "#fb9f3a"
             ],
             [
              0.8888888888888888,
              "#fdca26"
             ],
             [
              1,
              "#f0f921"
             ]
            ],
            "type": "histogram2d"
           }
          ],
          "histogram2dcontour": [
           {
            "colorbar": {
             "outlinewidth": 0,
             "ticks": ""
            },
            "colorscale": [
             [
              0,
              "#0d0887"
             ],
             [
              0.1111111111111111,
              "#46039f"
             ],
             [
              0.2222222222222222,
              "#7201a8"
             ],
             [
              0.3333333333333333,
              "#9c179e"
             ],
             [
              0.4444444444444444,
              "#bd3786"
             ],
             [
              0.5555555555555556,
              "#d8576b"
             ],
             [
              0.6666666666666666,
              "#ed7953"
             ],
             [
              0.7777777777777778,
              "#fb9f3a"
             ],
             [
              0.8888888888888888,
              "#fdca26"
             ],
             [
              1,
              "#f0f921"
             ]
            ],
            "type": "histogram2dcontour"
           }
          ],
          "mesh3d": [
           {
            "colorbar": {
             "outlinewidth": 0,
             "ticks": ""
            },
            "type": "mesh3d"
           }
          ],
          "parcoords": [
           {
            "line": {
             "colorbar": {
              "outlinewidth": 0,
              "ticks": ""
             }
            },
            "type": "parcoords"
           }
          ],
          "pie": [
           {
            "automargin": true,
            "type": "pie"
           }
          ],
          "scatter": [
           {
            "marker": {
             "colorbar": {
              "outlinewidth": 0,
              "ticks": ""
             }
            },
            "type": "scatter"
           }
          ],
          "scatter3d": [
           {
            "line": {
             "colorbar": {
              "outlinewidth": 0,
              "ticks": ""
             }
            },
            "marker": {
             "colorbar": {
              "outlinewidth": 0,
              "ticks": ""
             }
            },
            "type": "scatter3d"
           }
          ],
          "scattercarpet": [
           {
            "marker": {
             "colorbar": {
              "outlinewidth": 0,
              "ticks": ""
             }
            },
            "type": "scattercarpet"
           }
          ],
          "scattergeo": [
           {
            "marker": {
             "colorbar": {
              "outlinewidth": 0,
              "ticks": ""
             }
            },
            "type": "scattergeo"
           }
          ],
          "scattergl": [
           {
            "marker": {
             "colorbar": {
              "outlinewidth": 0,
              "ticks": ""
             }
            },
            "type": "scattergl"
           }
          ],
          "scattermapbox": [
           {
            "marker": {
             "colorbar": {
              "outlinewidth": 0,
              "ticks": ""
             }
            },
            "type": "scattermapbox"
           }
          ],
          "scatterpolar": [
           {
            "marker": {
             "colorbar": {
              "outlinewidth": 0,
              "ticks": ""
             }
            },
            "type": "scatterpolar"
           }
          ],
          "scatterpolargl": [
           {
            "marker": {
             "colorbar": {
              "outlinewidth": 0,
              "ticks": ""
             }
            },
            "type": "scatterpolargl"
           }
          ],
          "scatterternary": [
           {
            "marker": {
             "colorbar": {
              "outlinewidth": 0,
              "ticks": ""
             }
            },
            "type": "scatterternary"
           }
          ],
          "surface": [
           {
            "colorbar": {
             "outlinewidth": 0,
             "ticks": ""
            },
            "colorscale": [
             [
              0,
              "#0d0887"
             ],
             [
              0.1111111111111111,
              "#46039f"
             ],
             [
              0.2222222222222222,
              "#7201a8"
             ],
             [
              0.3333333333333333,
              "#9c179e"
             ],
             [
              0.4444444444444444,
              "#bd3786"
             ],
             [
              0.5555555555555556,
              "#d8576b"
             ],
             [
              0.6666666666666666,
              "#ed7953"
             ],
             [
              0.7777777777777778,
              "#fb9f3a"
             ],
             [
              0.8888888888888888,
              "#fdca26"
             ],
             [
              1,
              "#f0f921"
             ]
            ],
            "type": "surface"
           }
          ],
          "table": [
           {
            "cells": {
             "fill": {
              "color": "#EBF0F8"
             },
             "line": {
              "color": "white"
             }
            },
            "header": {
             "fill": {
              "color": "#C8D4E3"
             },
             "line": {
              "color": "white"
             }
            },
            "type": "table"
           }
          ]
         },
         "layout": {
          "annotationdefaults": {
           "arrowcolor": "#2a3f5f",
           "arrowhead": 0,
           "arrowwidth": 1
          },
          "coloraxis": {
           "colorbar": {
            "outlinewidth": 0,
            "ticks": ""
           }
          },
          "colorscale": {
           "diverging": [
            [
             0,
             "#8e0152"
            ],
            [
             0.1,
             "#c51b7d"
            ],
            [
             0.2,
             "#de77ae"
            ],
            [
             0.3,
             "#f1b6da"
            ],
            [
             0.4,
             "#fde0ef"
            ],
            [
             0.5,
             "#f7f7f7"
            ],
            [
             0.6,
             "#e6f5d0"
            ],
            [
             0.7,
             "#b8e186"
            ],
            [
             0.8,
             "#7fbc41"
            ],
            [
             0.9,
             "#4d9221"
            ],
            [
             1,
             "#276419"
            ]
           ],
           "sequential": [
            [
             0,
             "#0d0887"
            ],
            [
             0.1111111111111111,
             "#46039f"
            ],
            [
             0.2222222222222222,
             "#7201a8"
            ],
            [
             0.3333333333333333,
             "#9c179e"
            ],
            [
             0.4444444444444444,
             "#bd3786"
            ],
            [
             0.5555555555555556,
             "#d8576b"
            ],
            [
             0.6666666666666666,
             "#ed7953"
            ],
            [
             0.7777777777777778,
             "#fb9f3a"
            ],
            [
             0.8888888888888888,
             "#fdca26"
            ],
            [
             1,
             "#f0f921"
            ]
           ],
           "sequentialminus": [
            [
             0,
             "#0d0887"
            ],
            [
             0.1111111111111111,
             "#46039f"
            ],
            [
             0.2222222222222222,
             "#7201a8"
            ],
            [
             0.3333333333333333,
             "#9c179e"
            ],
            [
             0.4444444444444444,
             "#bd3786"
            ],
            [
             0.5555555555555556,
             "#d8576b"
            ],
            [
             0.6666666666666666,
             "#ed7953"
            ],
            [
             0.7777777777777778,
             "#fb9f3a"
            ],
            [
             0.8888888888888888,
             "#fdca26"
            ],
            [
             1,
             "#f0f921"
            ]
           ]
          },
          "colorway": [
           "#636efa",
           "#EF553B",
           "#00cc96",
           "#ab63fa",
           "#FFA15A",
           "#19d3f3",
           "#FF6692",
           "#B6E880",
           "#FF97FF",
           "#FECB52"
          ],
          "font": {
           "color": "#2a3f5f"
          },
          "geo": {
           "bgcolor": "white",
           "lakecolor": "white",
           "landcolor": "#E5ECF6",
           "showlakes": true,
           "showland": true,
           "subunitcolor": "white"
          },
          "hoverlabel": {
           "align": "left"
          },
          "hovermode": "closest",
          "mapbox": {
           "style": "light"
          },
          "paper_bgcolor": "white",
          "plot_bgcolor": "#E5ECF6",
          "polar": {
           "angularaxis": {
            "gridcolor": "white",
            "linecolor": "white",
            "ticks": ""
           },
           "bgcolor": "#E5ECF6",
           "radialaxis": {
            "gridcolor": "white",
            "linecolor": "white",
            "ticks": ""
           }
          },
          "scene": {
           "xaxis": {
            "backgroundcolor": "#E5ECF6",
            "gridcolor": "white",
            "gridwidth": 2,
            "linecolor": "white",
            "showbackground": true,
            "ticks": "",
            "zerolinecolor": "white"
           },
           "yaxis": {
            "backgroundcolor": "#E5ECF6",
            "gridcolor": "white",
            "gridwidth": 2,
            "linecolor": "white",
            "showbackground": true,
            "ticks": "",
            "zerolinecolor": "white"
           },
           "zaxis": {
            "backgroundcolor": "#E5ECF6",
            "gridcolor": "white",
            "gridwidth": 2,
            "linecolor": "white",
            "showbackground": true,
            "ticks": "",
            "zerolinecolor": "white"
           }
          },
          "shapedefaults": {
           "line": {
            "color": "#2a3f5f"
           }
          },
          "ternary": {
           "aaxis": {
            "gridcolor": "white",
            "linecolor": "white",
            "ticks": ""
           },
           "baxis": {
            "gridcolor": "white",
            "linecolor": "white",
            "ticks": ""
           },
           "bgcolor": "#E5ECF6",
           "caxis": {
            "gridcolor": "white",
            "linecolor": "white",
            "ticks": ""
           }
          },
          "title": {
           "x": 0.05
          },
          "xaxis": {
           "automargin": true,
           "gridcolor": "white",
           "linecolor": "white",
           "ticks": "",
           "title": {
            "standoff": 15
           },
           "zerolinecolor": "white",
           "zerolinewidth": 2
          },
          "yaxis": {
           "automargin": true,
           "gridcolor": "white",
           "linecolor": "white",
           "ticks": "",
           "title": {
            "standoff": 15
           },
           "zerolinecolor": "white",
           "zerolinewidth": 2
          }
         }
        },
        "title": {
         "text": "Most Expensive Scotch Whisky in the whiskyshop",
         "x": 0.5
        }
       }
      },
      "text/html": [
       "<div>                            <div id=\"133ffc6f-52d1-4348-b872-95a22e5f956b\" class=\"plotly-graph-div\" style=\"height:525px; width:100%;\"></div>            <script type=\"text/javascript\">                require([\"plotly\"], function(Plotly) {                    window.PLOTLYENV=window.PLOTLYENV || {};                                    if (document.getElementById(\"133ffc6f-52d1-4348-b872-95a22e5f956b\")) {                    Plotly.newPlot(                        \"133ffc6f-52d1-4348-b872-95a22e5f956b\",                        [{\"cells\": {\"align\": \"left\", \"fill\": {\"color\": [\"paleturquoise\", \"white\"]}, \"line\": {\"color\": \"darkslategray\"}, \"values\": [[\"Bowmore 1957\", \"Macallan 74 Year Old Red Collection\", \"Macallan 71 Year Old Red Collection\", \"Macallan 50 Year Old\", \"Macallan 50 Year Old\", \"Macallan 60 Year Old Red Collection\", \"Macallan 72 Year Old in Lalique\", \"Macallan 50 Year Old Red Collection\", \"Macallan Exceptional Single Cask 1950\", \"Dalmore 51 Year Old\"], [\"Scotch Whisky\", \"Scotch Whisky\", \"Scotch Whisky\", \"Scotch Whisky\", \"Scotch Whisky\", \"Scotch Whisky\", \"Scotch Whisky\", \"Scotch Whisky\", \"Scotch Whisky\", \"Scotch Whisky\"], [\"Islay\", \"Speyside\", \"Speyside\", \"Speyside\", \"Speyside\", \"Speyside\", \"Speyside\", \"Speyside\", \"Speyside\", \"Highland\"], [\"Single Malt\", \"Single Malt\", \"Single Malt\", \"Single Malt\", \"Single Malt\", \"Single Malt\", \"Single Malt\", \"Single Malt\", \"Single Malt\", \"Single Malt\"], [42.1, 42.6, 41.6, 44.0, 44.0, 43.4, 42.0, 45.1, 53.4, 40.0], [\"Bowmore\", \"The Macallan\", \"The Macallan\", \"The Macallan\", \"The Macallan\", \"The Macallan\", \"The Macallan\", \"The Macallan\", \"The Macallan\", \"The Dalmore\"], [\"No\", \"Yes\", \"Yes\", \"Yes\", \"Yes\", \"Yes\", \"Yes\", \"Yes\", \"Yes\", \"Yes\"], [52, 74, 71, 50, 50, 60, 72, 50, 67, 51], [42857.14, 40714.29, 38142.86, 35998.0, 35998.0, 33857.14, 30857.14, 29997.86, 29571.43, 29571.43]]}, \"columnwidth\": [100, 100, 50, 50, 50, 75, 50, 25, 75], \"header\": {\"align\": \"left\", \"fill\": {\"color\": \"royalblue\"}, \"font\": {\"color\": \"white\", \"size\": 12}, \"values\": [\"name\", \"Classification\", \"Region\", \"Style\", \"ABV\", \"Distillery/Brand\", \"Limited Edition\", \"Age\", \"small_peg (30ml)\"]}, \"type\": \"table\"}],                        {\"template\": {\"data\": {\"bar\": [{\"error_x\": {\"color\": \"#2a3f5f\"}, \"error_y\": {\"color\": \"#2a3f5f\"}, \"marker\": {\"line\": {\"color\": \"#E5ECF6\", \"width\": 0.5}}, \"type\": \"bar\"}], \"barpolar\": [{\"marker\": {\"line\": {\"color\": \"#E5ECF6\", \"width\": 0.5}}, \"type\": \"barpolar\"}], \"carpet\": [{\"aaxis\": {\"endlinecolor\": \"#2a3f5f\", \"gridcolor\": \"white\", \"linecolor\": \"white\", \"minorgridcolor\": \"white\", \"startlinecolor\": \"#2a3f5f\"}, \"baxis\": {\"endlinecolor\": \"#2a3f5f\", \"gridcolor\": \"white\", \"linecolor\": \"white\", \"minorgridcolor\": \"white\", \"startlinecolor\": \"#2a3f5f\"}, \"type\": \"carpet\"}], \"choropleth\": [{\"colorbar\": {\"outlinewidth\": 0, \"ticks\": \"\"}, \"type\": \"choropleth\"}], \"contour\": [{\"colorbar\": {\"outlinewidth\": 0, \"ticks\": \"\"}, \"colorscale\": [[0.0, \"#0d0887\"], [0.1111111111111111, \"#46039f\"], [0.2222222222222222, \"#7201a8\"], [0.3333333333333333, \"#9c179e\"], [0.4444444444444444, \"#bd3786\"], [0.5555555555555556, \"#d8576b\"], [0.6666666666666666, \"#ed7953\"], [0.7777777777777778, \"#fb9f3a\"], [0.8888888888888888, \"#fdca26\"], [1.0, \"#f0f921\"]], \"type\": \"contour\"}], \"contourcarpet\": [{\"colorbar\": {\"outlinewidth\": 0, \"ticks\": \"\"}, \"type\": \"contourcarpet\"}], \"heatmap\": [{\"colorbar\": {\"outlinewidth\": 0, \"ticks\": \"\"}, \"colorscale\": [[0.0, \"#0d0887\"], [0.1111111111111111, \"#46039f\"], [0.2222222222222222, \"#7201a8\"], [0.3333333333333333, \"#9c179e\"], [0.4444444444444444, \"#bd3786\"], [0.5555555555555556, \"#d8576b\"], [0.6666666666666666, \"#ed7953\"], [0.7777777777777778, \"#fb9f3a\"], [0.8888888888888888, \"#fdca26\"], [1.0, \"#f0f921\"]], \"type\": \"heatmap\"}], \"heatmapgl\": [{\"colorbar\": {\"outlinewidth\": 0, \"ticks\": \"\"}, \"colorscale\": [[0.0, \"#0d0887\"], [0.1111111111111111, \"#46039f\"], [0.2222222222222222, \"#7201a8\"], [0.3333333333333333, \"#9c179e\"], [0.4444444444444444, \"#bd3786\"], [0.5555555555555556, \"#d8576b\"], [0.6666666666666666, \"#ed7953\"], [0.7777777777777778, \"#fb9f3a\"], [0.8888888888888888, \"#fdca26\"], [1.0, \"#f0f921\"]], \"type\": \"heatmapgl\"}], \"histogram\": [{\"marker\": {\"colorbar\": {\"outlinewidth\": 0, \"ticks\": \"\"}}, \"type\": \"histogram\"}], \"histogram2d\": [{\"colorbar\": {\"outlinewidth\": 0, \"ticks\": \"\"}, \"colorscale\": [[0.0, \"#0d0887\"], [0.1111111111111111, \"#46039f\"], [0.2222222222222222, \"#7201a8\"], [0.3333333333333333, \"#9c179e\"], [0.4444444444444444, \"#bd3786\"], [0.5555555555555556, \"#d8576b\"], [0.6666666666666666, \"#ed7953\"], [0.7777777777777778, \"#fb9f3a\"], [0.8888888888888888, \"#fdca26\"], [1.0, \"#f0f921\"]], \"type\": \"histogram2d\"}], \"histogram2dcontour\": [{\"colorbar\": {\"outlinewidth\": 0, \"ticks\": \"\"}, \"colorscale\": [[0.0, \"#0d0887\"], [0.1111111111111111, \"#46039f\"], [0.2222222222222222, \"#7201a8\"], [0.3333333333333333, \"#9c179e\"], [0.4444444444444444, \"#bd3786\"], [0.5555555555555556, \"#d8576b\"], [0.6666666666666666, \"#ed7953\"], [0.7777777777777778, \"#fb9f3a\"], [0.8888888888888888, \"#fdca26\"], [1.0, \"#f0f921\"]], \"type\": \"histogram2dcontour\"}], \"mesh3d\": [{\"colorbar\": {\"outlinewidth\": 0, \"ticks\": \"\"}, \"type\": \"mesh3d\"}], \"parcoords\": [{\"line\": {\"colorbar\": {\"outlinewidth\": 0, \"ticks\": \"\"}}, \"type\": \"parcoords\"}], \"pie\": [{\"automargin\": true, \"type\": \"pie\"}], \"scatter\": [{\"marker\": {\"colorbar\": {\"outlinewidth\": 0, \"ticks\": \"\"}}, \"type\": \"scatter\"}], \"scatter3d\": [{\"line\": {\"colorbar\": {\"outlinewidth\": 0, \"ticks\": \"\"}}, \"marker\": {\"colorbar\": {\"outlinewidth\": 0, \"ticks\": \"\"}}, \"type\": \"scatter3d\"}], \"scattercarpet\": [{\"marker\": {\"colorbar\": {\"outlinewidth\": 0, \"ticks\": \"\"}}, \"type\": \"scattercarpet\"}], \"scattergeo\": [{\"marker\": {\"colorbar\": {\"outlinewidth\": 0, \"ticks\": \"\"}}, \"type\": \"scattergeo\"}], \"scattergl\": [{\"marker\": {\"colorbar\": {\"outlinewidth\": 0, \"ticks\": \"\"}}, \"type\": \"scattergl\"}], \"scattermapbox\": [{\"marker\": {\"colorbar\": {\"outlinewidth\": 0, \"ticks\": \"\"}}, \"type\": \"scattermapbox\"}], \"scatterpolar\": [{\"marker\": {\"colorbar\": {\"outlinewidth\": 0, \"ticks\": \"\"}}, \"type\": \"scatterpolar\"}], \"scatterpolargl\": [{\"marker\": {\"colorbar\": {\"outlinewidth\": 0, \"ticks\": \"\"}}, \"type\": \"scatterpolargl\"}], \"scatterternary\": [{\"marker\": {\"colorbar\": {\"outlinewidth\": 0, \"ticks\": \"\"}}, \"type\": \"scatterternary\"}], \"surface\": [{\"colorbar\": {\"outlinewidth\": 0, \"ticks\": \"\"}, \"colorscale\": [[0.0, \"#0d0887\"], [0.1111111111111111, \"#46039f\"], [0.2222222222222222, \"#7201a8\"], [0.3333333333333333, \"#9c179e\"], [0.4444444444444444, \"#bd3786\"], [0.5555555555555556, \"#d8576b\"], [0.6666666666666666, \"#ed7953\"], [0.7777777777777778, \"#fb9f3a\"], [0.8888888888888888, \"#fdca26\"], [1.0, \"#f0f921\"]], \"type\": \"surface\"}], \"table\": [{\"cells\": {\"fill\": {\"color\": \"#EBF0F8\"}, \"line\": {\"color\": \"white\"}}, \"header\": {\"fill\": {\"color\": \"#C8D4E3\"}, \"line\": {\"color\": \"white\"}}, \"type\": \"table\"}]}, \"layout\": {\"annotationdefaults\": {\"arrowcolor\": \"#2a3f5f\", \"arrowhead\": 0, \"arrowwidth\": 1}, \"coloraxis\": {\"colorbar\": {\"outlinewidth\": 0, \"ticks\": \"\"}}, \"colorscale\": {\"diverging\": [[0, \"#8e0152\"], [0.1, \"#c51b7d\"], [0.2, \"#de77ae\"], [0.3, \"#f1b6da\"], [0.4, \"#fde0ef\"], [0.5, \"#f7f7f7\"], [0.6, \"#e6f5d0\"], [0.7, \"#b8e186\"], [0.8, \"#7fbc41\"], [0.9, \"#4d9221\"], [1, \"#276419\"]], \"sequential\": [[0.0, \"#0d0887\"], [0.1111111111111111, \"#46039f\"], [0.2222222222222222, \"#7201a8\"], [0.3333333333333333, \"#9c179e\"], [0.4444444444444444, \"#bd3786\"], [0.5555555555555556, \"#d8576b\"], [0.6666666666666666, \"#ed7953\"], [0.7777777777777778, \"#fb9f3a\"], [0.8888888888888888, \"#fdca26\"], [1.0, \"#f0f921\"]], \"sequentialminus\": [[0.0, \"#0d0887\"], [0.1111111111111111, \"#46039f\"], [0.2222222222222222, \"#7201a8\"], [0.3333333333333333, \"#9c179e\"], [0.4444444444444444, \"#bd3786\"], [0.5555555555555556, \"#d8576b\"], [0.6666666666666666, \"#ed7953\"], [0.7777777777777778, \"#fb9f3a\"], [0.8888888888888888, \"#fdca26\"], [1.0, \"#f0f921\"]]}, \"colorway\": [\"#636efa\", \"#EF553B\", \"#00cc96\", \"#ab63fa\", \"#FFA15A\", \"#19d3f3\", \"#FF6692\", \"#B6E880\", \"#FF97FF\", \"#FECB52\"], \"font\": {\"color\": \"#2a3f5f\"}, \"geo\": {\"bgcolor\": \"white\", \"lakecolor\": \"white\", \"landcolor\": \"#E5ECF6\", \"showlakes\": true, \"showland\": true, \"subunitcolor\": \"white\"}, \"hoverlabel\": {\"align\": \"left\"}, \"hovermode\": \"closest\", \"mapbox\": {\"style\": \"light\"}, \"paper_bgcolor\": \"white\", \"plot_bgcolor\": \"#E5ECF6\", \"polar\": {\"angularaxis\": {\"gridcolor\": \"white\", \"linecolor\": \"white\", \"ticks\": \"\"}, \"bgcolor\": \"#E5ECF6\", \"radialaxis\": {\"gridcolor\": \"white\", \"linecolor\": \"white\", \"ticks\": \"\"}}, \"scene\": {\"xaxis\": {\"backgroundcolor\": \"#E5ECF6\", \"gridcolor\": \"white\", \"gridwidth\": 2, \"linecolor\": \"white\", \"showbackground\": true, \"ticks\": \"\", \"zerolinecolor\": \"white\"}, \"yaxis\": {\"backgroundcolor\": \"#E5ECF6\", \"gridcolor\": \"white\", \"gridwidth\": 2, \"linecolor\": \"white\", \"showbackground\": true, \"ticks\": \"\", \"zerolinecolor\": \"white\"}, \"zaxis\": {\"backgroundcolor\": \"#E5ECF6\", \"gridcolor\": \"white\", \"gridwidth\": 2, \"linecolor\": \"white\", \"showbackground\": true, \"ticks\": \"\", \"zerolinecolor\": \"white\"}}, \"shapedefaults\": {\"line\": {\"color\": \"#2a3f5f\"}}, \"ternary\": {\"aaxis\": {\"gridcolor\": \"white\", \"linecolor\": \"white\", \"ticks\": \"\"}, \"baxis\": {\"gridcolor\": \"white\", \"linecolor\": \"white\", \"ticks\": \"\"}, \"bgcolor\": \"#E5ECF6\", \"caxis\": {\"gridcolor\": \"white\", \"linecolor\": \"white\", \"ticks\": \"\"}}, \"title\": {\"x\": 0.05}, \"xaxis\": {\"automargin\": true, \"gridcolor\": \"white\", \"linecolor\": \"white\", \"ticks\": \"\", \"title\": {\"standoff\": 15}, \"zerolinecolor\": \"white\", \"zerolinewidth\": 2}, \"yaxis\": {\"automargin\": true, \"gridcolor\": \"white\", \"linecolor\": \"white\", \"ticks\": \"\", \"title\": {\"standoff\": 15}, \"zerolinecolor\": \"white\", \"zerolinewidth\": 2}}}, \"title\": {\"text\": \"Most Expensive Scotch Whisky in the whiskyshop\", \"x\": 0.5}},                        {\"responsive\": true}                    ).then(function(){\n",
       "                            \n",
       "var gd = document.getElementById('133ffc6f-52d1-4348-b872-95a22e5f956b');\n",
       "var x = new MutationObserver(function (mutations, observer) {{\n",
       "        var display = window.getComputedStyle(gd).display;\n",
       "        if (!display || display === 'none') {{\n",
       "            console.log([gd, 'removed!']);\n",
       "            Plotly.purge(gd);\n",
       "            observer.disconnect();\n",
       "        }}\n",
       "}});\n",
       "\n",
       "// Listen for the removal of the full notebook cells\n",
       "var notebookContainer = gd.closest('#notebook-container');\n",
       "if (notebookContainer) {{\n",
       "    x.observe(notebookContainer, {childList: true});\n",
       "}}\n",
       "\n",
       "// Listen for the clearing of the current output cell\n",
       "var outputEl = gd.closest('.output');\n",
       "if (outputEl) {{\n",
       "    x.observe(outputEl, {childList: true});\n",
       "}}\n",
       "\n",
       "                        })                };                });            </script>        </div>"
      ]
     },
     "metadata": {},
     "output_type": "display_data"
    }
   ],
   "source": [
    "fig = go.Figure(data=[go.Table(\n",
    "    columnwidth = [100,100,50,50,50,75,50,25,75],\n",
    "    header=dict(values=list(table.columns),\n",
    "               fill_color = 'royalblue',\n",
    "                font=dict(color='white', size=12),\n",
    "                \n",
    "               align='left'),\n",
    "    cells = dict(values=[table.name, table.Classification,table.Region, table.Style,table.ABV,table['Distillery/Brand'],table['Limited Edition'], table.Age, table['small_peg (30ml)']],\n",
    "                fill=dict(color=['paleturquoise', 'white']),\n",
    "                 line_color='darkslategray',\n",
    "                align='left'))\n",
    "                     ])\n",
    "fig.update_layout(dict(title='Most Expensive Scotch Whisky in the whiskyshop'),title_x=0.5)\n",
    "fig.show()"
   ]
  },
  {
   "cell_type": "code",
   "execution_count": null,
   "metadata": {},
   "outputs": [],
   "source": []
  }
 ],
 "metadata": {
  "kernelspec": {
   "display_name": "Python 3",
   "language": "python",
   "name": "python3"
  },
  "language_info": {
   "codemirror_mode": {
    "name": "ipython",
    "version": 3
   },
   "file_extension": ".py",
   "mimetype": "text/x-python",
   "name": "python",
   "nbconvert_exporter": "python",
   "pygments_lexer": "ipython3",
   "version": "3.7.1"
  },
  "toc": {
   "base_numbering": 1,
   "nav_menu": {},
   "number_sections": true,
   "sideBar": true,
   "skip_h1_title": false,
   "title_cell": "Table of Contents",
   "title_sidebar": "Contents",
   "toc_cell": false,
   "toc_position": {},
   "toc_section_display": true,
   "toc_window_display": false
  },
  "varInspector": {
   "cols": {
    "lenName": 16,
    "lenType": 16,
    "lenVar": 40
   },
   "kernels_config": {
    "python": {
     "delete_cmd_postfix": "",
     "delete_cmd_prefix": "del ",
     "library": "var_list.py",
     "varRefreshCmd": "print(var_dic_list())"
    },
    "r": {
     "delete_cmd_postfix": ") ",
     "delete_cmd_prefix": "rm(",
     "library": "var_list.r",
     "varRefreshCmd": "cat(var_dic_list()) "
    }
   },
   "types_to_exclude": [
    "module",
    "function",
    "builtin_function_or_method",
    "instance",
    "_Feature"
   ],
   "window_display": false
  }
 },
 "nbformat": 4,
 "nbformat_minor": 4
}
